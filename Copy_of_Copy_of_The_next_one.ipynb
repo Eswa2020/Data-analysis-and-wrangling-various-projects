{
  "nbformat": 4,
  "nbformat_minor": 0,
  "metadata": {
    "colab": {
      "name": "Copy of Copy of The next one.ipynb",
      "provenance": [],
      "collapsed_sections": [],
      "toc_visible": true,
      "include_colab_link": true
    },
    "kernelspec": {
      "name": "python3",
      "display_name": "Python 3"
    }
  },
  "cells": [
    {
      "cell_type": "markdown",
      "metadata": {
        "id": "view-in-github",
        "colab_type": "text"
      },
      "source": [
        "<a href=\"https://colab.research.google.com/github/Eswa2020/data-prep-project/blob/master/Copy_of_Copy_of_The_next_one.ipynb\" target=\"_parent\"><img src=\"https://colab.research.google.com/assets/colab-badge.svg\" alt=\"Open In Colab\"/></a>"
      ]
    },
    {
      "cell_type": "markdown",
      "metadata": {
        "id": "d4UMV6GMpjMd"
      },
      "source": [
        "#Variable"
      ]
    },
    {
      "cell_type": "markdown",
      "metadata": {
        "id": "wrMsBIcmpmLE"
      },
      "source": [
        "*   Train_df = from the train dataset\n",
        "*   weather_df = from the weather dataset\n",
        "*   road_segment_df = from the other dataset\n",
        "*   Nairobi_df = from the nairobi geojson dataset\n",
        "*   Train_df1 = Cleaned dataset from the Train_df\n",
        "*   weather_df1 = waether_df that has been cleaned\n",
        "*   Nairobi_df1 = the Nairobi_df dataset that has been cleaned\n",
        "*   Nairobi_df2 = Dataset NAirobi_df1 that has been merged with the statistics from the train dataset\n",
        "*   weather_df3 = Dataset that contains the weather merged with the number of accidents that had happened within that day that the record was made\n",
        "*   Nairobi_accidents = Dataset that contains the number of accidents distributed against the wards and constituencies of Nairobi county."
      ]
    },
    {
      "cell_type": "markdown",
      "metadata": {
        "id": "cX0h2hoHdBnt"
      },
      "source": [
        "##Prerequisites"
      ]
    },
    {
      "cell_type": "markdown",
      "metadata": {
        "id": "ldngn4jL3W-6"
      },
      "source": [
        "#### Importing Required Libraries\n",
        "\n",
        "\n"
      ]
    },
    {
      "cell_type": "code",
      "metadata": {
        "id": "HpOSdd4jy38m",
        "outputId": "9e4dcc09-aa77-434c-ba94-03b598b8f027",
        "colab": {
          "base_uri": "https://localhost:8080/"
        }
      },
      "source": [
        "%%time \n",
        "\n",
        "# Important library for many geopython libraries\n",
        "!apt install gdal-bin python-gdal python3-gdal \n",
        "# Install rtree - Geopandas requirment\n",
        "!apt install python3-rtree \n",
        "# Install Geopandas\n",
        "!pip install git+git://github.com/geopandas/geopandas.git\n",
        "# Install descartes - Geopandas requirment\n",
        "!pip install descartes \n",
        "# Install Folium for Geographic data visualization\n",
        "!pip install folium\n",
        "# Install plotlyExpress\n",
        "!pip install plotly_express"
      ],
      "execution_count": null,
      "outputs": [
        {
          "output_type": "stream",
          "text": [
            "Reading package lists... Done\n",
            "Building dependency tree       \n",
            "Reading state information... Done\n",
            "gdal-bin is already the newest version (2.2.3+dfsg-2).\n",
            "python-gdal is already the newest version (2.2.3+dfsg-2).\n",
            "python3-gdal is already the newest version (2.2.3+dfsg-2).\n",
            "0 upgraded, 0 newly installed, 0 to remove and 11 not upgraded.\n",
            "Reading package lists... Done\n",
            "Building dependency tree       \n",
            "Reading state information... Done\n",
            "The following additional packages will be installed:\n",
            "  libspatialindex-c4v5 libspatialindex-dev libspatialindex4v5\n",
            "  python3-pkg-resources\n",
            "Suggested packages:\n",
            "  python3-setuptools\n",
            "The following NEW packages will be installed:\n",
            "  libspatialindex-c4v5 libspatialindex-dev libspatialindex4v5\n",
            "  python3-pkg-resources python3-rtree\n",
            "0 upgraded, 5 newly installed, 0 to remove and 11 not upgraded.\n",
            "Need to get 671 kB of archives.\n",
            "After this operation, 3,948 kB of additional disk space will be used.\n",
            "Get:1 http://archive.ubuntu.com/ubuntu bionic/universe amd64 libspatialindex4v5 amd64 1.8.5-5 [219 kB]\n",
            "Get:2 http://archive.ubuntu.com/ubuntu bionic/universe amd64 libspatialindex-c4v5 amd64 1.8.5-5 [51.7 kB]\n",
            "Get:3 http://archive.ubuntu.com/ubuntu bionic/main amd64 python3-pkg-resources all 39.0.1-2 [98.8 kB]\n",
            "Get:4 http://archive.ubuntu.com/ubuntu bionic/universe amd64 libspatialindex-dev amd64 1.8.5-5 [285 kB]\n",
            "Get:5 http://archive.ubuntu.com/ubuntu bionic/universe amd64 python3-rtree all 0.8.3+ds-1 [16.9 kB]\n",
            "Fetched 671 kB in 1s (481 kB/s)\n",
            "Selecting previously unselected package libspatialindex4v5:amd64.\n",
            "(Reading database ... 144628 files and directories currently installed.)\n",
            "Preparing to unpack .../libspatialindex4v5_1.8.5-5_amd64.deb ...\n",
            "Unpacking libspatialindex4v5:amd64 (1.8.5-5) ...\n",
            "Selecting previously unselected package libspatialindex-c4v5:amd64.\n",
            "Preparing to unpack .../libspatialindex-c4v5_1.8.5-5_amd64.deb ...\n",
            "Unpacking libspatialindex-c4v5:amd64 (1.8.5-5) ...\n",
            "Selecting previously unselected package python3-pkg-resources.\n",
            "Preparing to unpack .../python3-pkg-resources_39.0.1-2_all.deb ...\n",
            "Unpacking python3-pkg-resources (39.0.1-2) ...\n",
            "Selecting previously unselected package libspatialindex-dev:amd64.\n",
            "Preparing to unpack .../libspatialindex-dev_1.8.5-5_amd64.deb ...\n",
            "Unpacking libspatialindex-dev:amd64 (1.8.5-5) ...\n",
            "Selecting previously unselected package python3-rtree.\n",
            "Preparing to unpack .../python3-rtree_0.8.3+ds-1_all.deb ...\n",
            "Unpacking python3-rtree (0.8.3+ds-1) ...\n",
            "Setting up libspatialindex4v5:amd64 (1.8.5-5) ...\n",
            "Setting up python3-pkg-resources (39.0.1-2) ...\n",
            "Setting up libspatialindex-c4v5:amd64 (1.8.5-5) ...\n",
            "Setting up libspatialindex-dev:amd64 (1.8.5-5) ...\n",
            "Setting up python3-rtree (0.8.3+ds-1) ...\n",
            "Processing triggers for libc-bin (2.27-3ubuntu1.2) ...\n",
            "/sbin/ldconfig.real: /usr/local/lib/python3.6/dist-packages/ideep4py/lib/libmkldnn.so.0 is not a symbolic link\n",
            "\n",
            "Collecting git+git://github.com/geopandas/geopandas.git\n",
            "  Cloning git://github.com/geopandas/geopandas.git to /tmp/pip-req-build-lwey9j1s\n",
            "  Running command git clone -q git://github.com/geopandas/geopandas.git /tmp/pip-req-build-lwey9j1s\n",
            "Requirement already satisfied: pandas>=0.24.0 in /usr/local/lib/python3.6/dist-packages (from geopandas==0.8.0+56.g9fdeb14) (1.1.3)\n",
            "Requirement already satisfied: shapely>=1.6 in /usr/local/lib/python3.6/dist-packages (from geopandas==0.8.0+56.g9fdeb14) (1.7.1)\n",
            "Collecting fiona>=1.8\n",
            "\u001b[?25l  Downloading https://files.pythonhosted.org/packages/36/8b/e8b2c11bed5373c8e98edb85ce891b09aa1f4210fd451d0fb3696b7695a2/Fiona-1.8.17-cp36-cp36m-manylinux1_x86_64.whl (14.8MB)\n",
            "\u001b[K     |████████████████████████████████| 14.8MB 317kB/s \n",
            "\u001b[?25hCollecting pyproj>=2.2.0\n",
            "\u001b[?25l  Downloading https://files.pythonhosted.org/packages/e5/c3/071e080230ac4b6c64f1a2e2f9161c9737a2bc7b683d2c90b024825000c0/pyproj-2.6.1.post1-cp36-cp36m-manylinux2010_x86_64.whl (10.9MB)\n",
            "\u001b[K     |████████████████████████████████| 10.9MB 43.7MB/s \n",
            "\u001b[?25hRequirement already satisfied: python-dateutil>=2.7.3 in /usr/local/lib/python3.6/dist-packages (from pandas>=0.24.0->geopandas==0.8.0+56.g9fdeb14) (2.8.1)\n",
            "Requirement already satisfied: numpy>=1.15.4 in /usr/local/lib/python3.6/dist-packages (from pandas>=0.24.0->geopandas==0.8.0+56.g9fdeb14) (1.18.5)\n",
            "Requirement already satisfied: pytz>=2017.2 in /usr/local/lib/python3.6/dist-packages (from pandas>=0.24.0->geopandas==0.8.0+56.g9fdeb14) (2018.9)\n",
            "Collecting cligj>=0.5\n",
            "  Downloading https://files.pythonhosted.org/packages/ba/06/e3440b1f2dc802d35f329f299ba96153e9fcbfdef75e17f4b61f79430c6a/cligj-0.7.0-py3-none-any.whl\n",
            "Requirement already satisfied: attrs>=17 in /usr/local/lib/python3.6/dist-packages (from fiona>=1.8->geopandas==0.8.0+56.g9fdeb14) (20.2.0)\n",
            "Collecting munch\n",
            "  Downloading https://files.pythonhosted.org/packages/cc/ab/85d8da5c9a45e072301beb37ad7f833cd344e04c817d97e0cc75681d248f/munch-2.5.0-py2.py3-none-any.whl\n",
            "Requirement already satisfied: click<8,>=4.0 in /usr/local/lib/python3.6/dist-packages (from fiona>=1.8->geopandas==0.8.0+56.g9fdeb14) (7.1.2)\n",
            "Collecting click-plugins>=1.0\n",
            "  Downloading https://files.pythonhosted.org/packages/e9/da/824b92d9942f4e472702488857914bdd50f73021efea15b4cad9aca8ecef/click_plugins-1.1.1-py2.py3-none-any.whl\n",
            "Requirement already satisfied: six>=1.7 in /usr/local/lib/python3.6/dist-packages (from fiona>=1.8->geopandas==0.8.0+56.g9fdeb14) (1.15.0)\n",
            "Building wheels for collected packages: geopandas\n",
            "  Building wheel for geopandas (setup.py) ... \u001b[?25l\u001b[?25hdone\n",
            "  Created wheel for geopandas: filename=geopandas-0.8.0+56.g9fdeb14-py2.py3-none-any.whl size=969954 sha256=5d807f8adc367e811ba0941b8a680bd0251a0ced3103953674e8ef39cace9ac1\n",
            "  Stored in directory: /tmp/pip-ephem-wheel-cache-g4g6aq2i/wheels/91/24/71/376c9c67192694168352afcccc2d264248f7e2cc6192997186\n",
            "Successfully built geopandas\n",
            "Installing collected packages: cligj, munch, click-plugins, fiona, pyproj, geopandas\n",
            "Successfully installed click-plugins-1.1.1 cligj-0.7.0 fiona-1.8.17 geopandas-0.8.0+56.g9fdeb14 munch-2.5.0 pyproj-2.6.1.post1\n",
            "Requirement already satisfied: descartes in /usr/local/lib/python3.6/dist-packages (1.1.0)\n",
            "Requirement already satisfied: matplotlib in /usr/local/lib/python3.6/dist-packages (from descartes) (3.2.2)\n",
            "Requirement already satisfied: kiwisolver>=1.0.1 in /usr/local/lib/python3.6/dist-packages (from matplotlib->descartes) (1.2.0)\n",
            "Requirement already satisfied: pyparsing!=2.0.4,!=2.1.2,!=2.1.6,>=2.0.1 in /usr/local/lib/python3.6/dist-packages (from matplotlib->descartes) (2.4.7)\n",
            "Requirement already satisfied: numpy>=1.11 in /usr/local/lib/python3.6/dist-packages (from matplotlib->descartes) (1.18.5)\n",
            "Requirement already satisfied: python-dateutil>=2.1 in /usr/local/lib/python3.6/dist-packages (from matplotlib->descartes) (2.8.1)\n",
            "Requirement already satisfied: cycler>=0.10 in /usr/local/lib/python3.6/dist-packages (from matplotlib->descartes) (0.10.0)\n",
            "Requirement already satisfied: six>=1.5 in /usr/local/lib/python3.6/dist-packages (from python-dateutil>=2.1->matplotlib->descartes) (1.15.0)\n",
            "Requirement already satisfied: folium in /usr/local/lib/python3.6/dist-packages (0.8.3)\n",
            "Requirement already satisfied: branca>=0.3.0 in /usr/local/lib/python3.6/dist-packages (from folium) (0.4.1)\n",
            "Requirement already satisfied: jinja2 in /usr/local/lib/python3.6/dist-packages (from folium) (2.11.2)\n",
            "Requirement already satisfied: requests in /usr/local/lib/python3.6/dist-packages (from folium) (2.23.0)\n",
            "Requirement already satisfied: six in /usr/local/lib/python3.6/dist-packages (from folium) (1.15.0)\n",
            "Requirement already satisfied: numpy in /usr/local/lib/python3.6/dist-packages (from folium) (1.18.5)\n",
            "Requirement already satisfied: MarkupSafe>=0.23 in /usr/local/lib/python3.6/dist-packages (from jinja2->folium) (1.1.1)\n",
            "Requirement already satisfied: chardet<4,>=3.0.2 in /usr/local/lib/python3.6/dist-packages (from requests->folium) (3.0.4)\n",
            "Requirement already satisfied: certifi>=2017.4.17 in /usr/local/lib/python3.6/dist-packages (from requests->folium) (2020.6.20)\n",
            "Requirement already satisfied: idna<3,>=2.5 in /usr/local/lib/python3.6/dist-packages (from requests->folium) (2.10)\n",
            "Requirement already satisfied: urllib3!=1.25.0,!=1.25.1,<1.26,>=1.21.1 in /usr/local/lib/python3.6/dist-packages (from requests->folium) (1.24.3)\n",
            "Collecting plotly_express\n",
            "  Downloading https://files.pythonhosted.org/packages/d4/d6/8a2906f51e073a4be80cab35cfa10e7a34853e60f3ed5304ac470852a08d/plotly_express-0.4.1-py2.py3-none-any.whl\n",
            "Requirement already satisfied: statsmodels>=0.9.0 in /usr/local/lib/python3.6/dist-packages (from plotly_express) (0.10.2)\n",
            "Requirement already satisfied: numpy>=1.11 in /usr/local/lib/python3.6/dist-packages (from plotly_express) (1.18.5)\n",
            "Requirement already satisfied: plotly>=4.1.0 in /usr/local/lib/python3.6/dist-packages (from plotly_express) (4.4.1)\n",
            "Requirement already satisfied: scipy>=0.18 in /usr/local/lib/python3.6/dist-packages (from plotly_express) (1.4.1)\n",
            "Requirement already satisfied: patsy>=0.5 in /usr/local/lib/python3.6/dist-packages (from plotly_express) (0.5.1)\n",
            "Requirement already satisfied: pandas>=0.20.0 in /usr/local/lib/python3.6/dist-packages (from plotly_express) (1.1.3)\n",
            "Requirement already satisfied: six in /usr/local/lib/python3.6/dist-packages (from plotly>=4.1.0->plotly_express) (1.15.0)\n",
            "Requirement already satisfied: retrying>=1.3.3 in /usr/local/lib/python3.6/dist-packages (from plotly>=4.1.0->plotly_express) (1.3.3)\n",
            "Requirement already satisfied: python-dateutil>=2.7.3 in /usr/local/lib/python3.6/dist-packages (from pandas>=0.20.0->plotly_express) (2.8.1)\n",
            "Requirement already satisfied: pytz>=2017.2 in /usr/local/lib/python3.6/dist-packages (from pandas>=0.20.0->plotly_express) (2018.9)\n",
            "Installing collected packages: plotly-express\n",
            "Successfully installed plotly-express-0.4.1\n",
            "CPU times: user 202 ms, sys: 65.8 ms, total: 268 ms\n",
            "Wall time: 33.2 s\n"
          ],
          "name": "stdout"
        }
      ]
    },
    {
      "cell_type": "code",
      "metadata": {
        "id": "OyK1gnumg1yT"
      },
      "source": [
        "import geopandas as gpd\n",
        "import json\n",
        "import pandas as pd\n",
        "import numpy as np\n",
        "import matplotlib.pyplot as plt\n",
        "import seaborn as sns\n",
        "from shapely.geometry import Point, Polygon"
      ],
      "execution_count": null,
      "outputs": []
    },
    {
      "cell_type": "markdown",
      "metadata": {
        "id": "lVA-HVjL3ZoM"
      },
      "source": [
        "#### Loading Our Dataset"
      ]
    },
    {
      "cell_type": "code",
      "metadata": {
        "id": "j5_d7gmS76uC"
      },
      "source": [
        "#1.loeading Train.csv dataset\n",
        "#\n",
        "with open('/content/Train.csv', 'r') as v:\n",
        "  Train_df = pd.read_csv(v)"
      ],
      "execution_count": null,
      "outputs": []
    },
    {
      "cell_type": "code",
      "metadata": {
        "id": "TlG0EciC5TPo"
      },
      "source": [
        "#2.loading Weather_Nairobi_Daily_GFS.csv \n",
        "#\n",
        "with open('/content/Weather_Nairobi_Daily_GFS.csv', 'r') as u:\n",
        "  weather_df = pd.read_csv(u)"
      ],
      "execution_count": null,
      "outputs": []
    },
    {
      "cell_type": "code",
      "metadata": {
        "id": "SQojWdlR-ijM"
      },
      "source": [
        "#3.loading segments_geometry.geojson\n",
        "with open ('/content/segments_geometry.geojson','r') as p:\n",
        "  road_segment_df = gpd.read_file(p)"
      ],
      "execution_count": null,
      "outputs": []
    },
    {
      "cell_type": "code",
      "metadata": {
        "id": "9SYh60c97uqf"
      },
      "source": [
        "#4a.loading nai.geojson\n",
        "#\n",
        "with open('/content/nai.geojson', 'r' ) as y:\n",
        "  Nairobi_df = gpd.read_file(y)\n"
      ],
      "execution_count": null,
      "outputs": []
    },
    {
      "cell_type": "markdown",
      "metadata": {
        "id": "b5P7_KEC59tC"
      },
      "source": [
        "#### Data Exploration"
      ]
    },
    {
      "cell_type": "code",
      "metadata": {
        "id": "AJ1ZcAdD61pW",
        "outputId": "d8756351-c00d-4069-d1c9-e3671b8ce442",
        "colab": {
          "base_uri": "https://localhost:8080/",
          "height": 197
        }
      },
      "source": [
        "Train_df.head()"
      ],
      "execution_count": null,
      "outputs": [
        {
          "output_type": "execute_result",
          "data": {
            "text/html": [
              "<div>\n",
              "<style scoped>\n",
              "    .dataframe tbody tr th:only-of-type {\n",
              "        vertical-align: middle;\n",
              "    }\n",
              "\n",
              "    .dataframe tbody tr th {\n",
              "        vertical-align: top;\n",
              "    }\n",
              "\n",
              "    .dataframe thead th {\n",
              "        text-align: right;\n",
              "    }\n",
              "</style>\n",
              "<table border=\"1\" class=\"dataframe\">\n",
              "  <thead>\n",
              "    <tr style=\"text-align: right;\">\n",
              "      <th></th>\n",
              "      <th>uid</th>\n",
              "      <th>datetime</th>\n",
              "      <th>latitude</th>\n",
              "      <th>longitude</th>\n",
              "    </tr>\n",
              "  </thead>\n",
              "  <tbody>\n",
              "    <tr>\n",
              "      <th>0</th>\n",
              "      <td>1</td>\n",
              "      <td>2018-01-01 00:25:46</td>\n",
              "      <td>-1.188850</td>\n",
              "      <td>36.931382</td>\n",
              "    </tr>\n",
              "    <tr>\n",
              "      <th>1</th>\n",
              "      <td>2</td>\n",
              "      <td>2018-01-01 02:02:39</td>\n",
              "      <td>-0.662939</td>\n",
              "      <td>37.208730</td>\n",
              "    </tr>\n",
              "    <tr>\n",
              "      <th>2</th>\n",
              "      <td>3</td>\n",
              "      <td>2018-01-01 02:31:49</td>\n",
              "      <td>-0.662939</td>\n",
              "      <td>37.208730</td>\n",
              "    </tr>\n",
              "    <tr>\n",
              "      <th>3</th>\n",
              "      <td>4</td>\n",
              "      <td>2018-01-01 03:04:01</td>\n",
              "      <td>-1.288087</td>\n",
              "      <td>36.826583</td>\n",
              "    </tr>\n",
              "    <tr>\n",
              "      <th>4</th>\n",
              "      <td>5</td>\n",
              "      <td>2018-01-01 03:58:49</td>\n",
              "      <td>-1.188850</td>\n",
              "      <td>36.931382</td>\n",
              "    </tr>\n",
              "  </tbody>\n",
              "</table>\n",
              "</div>"
            ],
            "text/plain": [
              "   uid             datetime  latitude  longitude\n",
              "0    1  2018-01-01 00:25:46 -1.188850  36.931382\n",
              "1    2  2018-01-01 02:02:39 -0.662939  37.208730\n",
              "2    3  2018-01-01 02:31:49 -0.662939  37.208730\n",
              "3    4  2018-01-01 03:04:01 -1.288087  36.826583\n",
              "4    5  2018-01-01 03:58:49 -1.188850  36.931382"
            ]
          },
          "metadata": {
            "tags": []
          },
          "execution_count": 181
        }
      ]
    },
    {
      "cell_type": "code",
      "metadata": {
        "id": "qWo0NeTK6494",
        "outputId": "d7f71974-e69f-4fb6-ba10-0876a03be9a9",
        "colab": {
          "base_uri": "https://localhost:8080/",
          "height": 197
        }
      },
      "source": [
        "Train_df.tail()"
      ],
      "execution_count": null,
      "outputs": [
        {
          "output_type": "execute_result",
          "data": {
            "text/html": [
              "<div>\n",
              "<style scoped>\n",
              "    .dataframe tbody tr th:only-of-type {\n",
              "        vertical-align: middle;\n",
              "    }\n",
              "\n",
              "    .dataframe tbody tr th {\n",
              "        vertical-align: top;\n",
              "    }\n",
              "\n",
              "    .dataframe thead th {\n",
              "        text-align: right;\n",
              "    }\n",
              "</style>\n",
              "<table border=\"1\" class=\"dataframe\">\n",
              "  <thead>\n",
              "    <tr style=\"text-align: right;\">\n",
              "      <th></th>\n",
              "      <th>uid</th>\n",
              "      <th>datetime</th>\n",
              "      <th>latitude</th>\n",
              "      <th>longitude</th>\n",
              "    </tr>\n",
              "  </thead>\n",
              "  <tbody>\n",
              "    <tr>\n",
              "      <th>6313</th>\n",
              "      <td>6314</td>\n",
              "      <td>2019-06-29 18:52:44</td>\n",
              "      <td>-1.262271</td>\n",
              "      <td>36.726540</td>\n",
              "    </tr>\n",
              "    <tr>\n",
              "      <th>6314</th>\n",
              "      <td>6315</td>\n",
              "      <td>2019-06-30 09:57:44</td>\n",
              "      <td>-1.279468</td>\n",
              "      <td>36.790449</td>\n",
              "    </tr>\n",
              "    <tr>\n",
              "      <th>6315</th>\n",
              "      <td>6316</td>\n",
              "      <td>2019-06-30 12:02:14</td>\n",
              "      <td>-1.322109</td>\n",
              "      <td>36.825248</td>\n",
              "    </tr>\n",
              "    <tr>\n",
              "      <th>6316</th>\n",
              "      <td>6317</td>\n",
              "      <td>2019-06-30 16:59:14</td>\n",
              "      <td>-1.278589</td>\n",
              "      <td>36.816518</td>\n",
              "    </tr>\n",
              "    <tr>\n",
              "      <th>6317</th>\n",
              "      <td>6318</td>\n",
              "      <td>2019-06-30 20:06:14</td>\n",
              "      <td>-1.211500</td>\n",
              "      <td>36.907635</td>\n",
              "    </tr>\n",
              "  </tbody>\n",
              "</table>\n",
              "</div>"
            ],
            "text/plain": [
              "       uid             datetime  latitude  longitude\n",
              "6313  6314  2019-06-29 18:52:44 -1.262271  36.726540\n",
              "6314  6315  2019-06-30 09:57:44 -1.279468  36.790449\n",
              "6315  6316  2019-06-30 12:02:14 -1.322109  36.825248\n",
              "6316  6317  2019-06-30 16:59:14 -1.278589  36.816518\n",
              "6317  6318  2019-06-30 20:06:14 -1.211500  36.907635"
            ]
          },
          "metadata": {
            "tags": []
          },
          "execution_count": 180
        }
      ]
    },
    {
      "cell_type": "code",
      "metadata": {
        "id": "XBH9QrMy69cC",
        "outputId": "4cf07db2-89eb-492a-f6c3-a765e7dd883a",
        "colab": {
          "base_uri": "https://localhost:8080/",
          "height": 301
        }
      },
      "source": [
        "weather_df.head()"
      ],
      "execution_count": null,
      "outputs": [
        {
          "output_type": "execute_result",
          "data": {
            "text/html": [
              "<div>\n",
              "<style scoped>\n",
              "    .dataframe tbody tr th:only-of-type {\n",
              "        vertical-align: middle;\n",
              "    }\n",
              "\n",
              "    .dataframe tbody tr th {\n",
              "        vertical-align: top;\n",
              "    }\n",
              "\n",
              "    .dataframe thead th {\n",
              "        text-align: right;\n",
              "    }\n",
              "</style>\n",
              "<table border=\"1\" class=\"dataframe\">\n",
              "  <thead>\n",
              "    <tr style=\"text-align: right;\">\n",
              "      <th></th>\n",
              "      <th>Date</th>\n",
              "      <th>precipitable_water_entire_atmosphere</th>\n",
              "      <th>relative_humidity_2m_above_ground</th>\n",
              "      <th>specific_humidity_2m_above_ground</th>\n",
              "      <th>temperature_2m_above_ground</th>\n",
              "      <th>u_component_of_wind_10m_above_ground</th>\n",
              "      <th>v_component_of_wind_10m_above_ground</th>\n",
              "    </tr>\n",
              "  </thead>\n",
              "  <tbody>\n",
              "    <tr>\n",
              "      <th>0</th>\n",
              "      <td>2018-01-01</td>\n",
              "      <td>24.100000</td>\n",
              "      <td>72.700005</td>\n",
              "      <td>0.009560</td>\n",
              "      <td>15.161493</td>\n",
              "      <td>-0.012186</td>\n",
              "      <td>-0.933914</td>\n",
              "    </tr>\n",
              "    <tr>\n",
              "      <th>1</th>\n",
              "      <td>2018-01-02</td>\n",
              "      <td>27.362288</td>\n",
              "      <td>74.900002</td>\n",
              "      <td>0.010463</td>\n",
              "      <td>16.047998</td>\n",
              "      <td>0.314543</td>\n",
              "      <td>-0.485459</td>\n",
              "    </tr>\n",
              "    <tr>\n",
              "      <th>2</th>\n",
              "      <td>2018-01-03</td>\n",
              "      <td>30.246618</td>\n",
              "      <td>86.599998</td>\n",
              "      <td>0.011930</td>\n",
              "      <td>15.838525</td>\n",
              "      <td>-0.282732</td>\n",
              "      <td>-0.653965</td>\n",
              "    </tr>\n",
              "    <tr>\n",
              "      <th>3</th>\n",
              "      <td>2018-01-04</td>\n",
              "      <td>33.010689</td>\n",
              "      <td>90.900002</td>\n",
              "      <td>0.012780</td>\n",
              "      <td>16.169244</td>\n",
              "      <td>0.211572</td>\n",
              "      <td>0.908123</td>\n",
              "    </tr>\n",
              "    <tr>\n",
              "      <th>4</th>\n",
              "      <td>2018-01-05</td>\n",
              "      <td>27.250372</td>\n",
              "      <td>82.413353</td>\n",
              "      <td>0.011392</td>\n",
              "      <td>15.923456</td>\n",
              "      <td>1.047275</td>\n",
              "      <td>-0.037742</td>\n",
              "    </tr>\n",
              "  </tbody>\n",
              "</table>\n",
              "</div>"
            ],
            "text/plain": [
              "         Date  ...  v_component_of_wind_10m_above_ground\n",
              "0  2018-01-01  ...                             -0.933914\n",
              "1  2018-01-02  ...                             -0.485459\n",
              "2  2018-01-03  ...                             -0.653965\n",
              "3  2018-01-04  ...                              0.908123\n",
              "4  2018-01-05  ...                             -0.037742\n",
              "\n",
              "[5 rows x 7 columns]"
            ]
          },
          "metadata": {
            "tags": []
          },
          "execution_count": 11
        }
      ]
    },
    {
      "cell_type": "code",
      "metadata": {
        "id": "uzU7y4JS7VRu",
        "outputId": "f551fbb2-d6cd-425d-c200-f3fb73854ba5",
        "colab": {
          "base_uri": "https://localhost:8080/",
          "height": 301
        }
      },
      "source": [
        "weather_df.head()"
      ],
      "execution_count": null,
      "outputs": [
        {
          "output_type": "execute_result",
          "data": {
            "text/html": [
              "<div>\n",
              "<style scoped>\n",
              "    .dataframe tbody tr th:only-of-type {\n",
              "        vertical-align: middle;\n",
              "    }\n",
              "\n",
              "    .dataframe tbody tr th {\n",
              "        vertical-align: top;\n",
              "    }\n",
              "\n",
              "    .dataframe thead th {\n",
              "        text-align: right;\n",
              "    }\n",
              "</style>\n",
              "<table border=\"1\" class=\"dataframe\">\n",
              "  <thead>\n",
              "    <tr style=\"text-align: right;\">\n",
              "      <th></th>\n",
              "      <th>Date</th>\n",
              "      <th>precipitable_water_entire_atmosphere</th>\n",
              "      <th>relative_humidity_2m_above_ground</th>\n",
              "      <th>specific_humidity_2m_above_ground</th>\n",
              "      <th>temperature_2m_above_ground</th>\n",
              "      <th>u_component_of_wind_10m_above_ground</th>\n",
              "      <th>v_component_of_wind_10m_above_ground</th>\n",
              "    </tr>\n",
              "  </thead>\n",
              "  <tbody>\n",
              "    <tr>\n",
              "      <th>0</th>\n",
              "      <td>2018-01-01</td>\n",
              "      <td>24.100000</td>\n",
              "      <td>72.700005</td>\n",
              "      <td>0.009560</td>\n",
              "      <td>15.161493</td>\n",
              "      <td>-0.012186</td>\n",
              "      <td>-0.933914</td>\n",
              "    </tr>\n",
              "    <tr>\n",
              "      <th>1</th>\n",
              "      <td>2018-01-02</td>\n",
              "      <td>27.362288</td>\n",
              "      <td>74.900002</td>\n",
              "      <td>0.010463</td>\n",
              "      <td>16.047998</td>\n",
              "      <td>0.314543</td>\n",
              "      <td>-0.485459</td>\n",
              "    </tr>\n",
              "    <tr>\n",
              "      <th>2</th>\n",
              "      <td>2018-01-03</td>\n",
              "      <td>30.246618</td>\n",
              "      <td>86.599998</td>\n",
              "      <td>0.011930</td>\n",
              "      <td>15.838525</td>\n",
              "      <td>-0.282732</td>\n",
              "      <td>-0.653965</td>\n",
              "    </tr>\n",
              "    <tr>\n",
              "      <th>3</th>\n",
              "      <td>2018-01-04</td>\n",
              "      <td>33.010689</td>\n",
              "      <td>90.900002</td>\n",
              "      <td>0.012780</td>\n",
              "      <td>16.169244</td>\n",
              "      <td>0.211572</td>\n",
              "      <td>0.908123</td>\n",
              "    </tr>\n",
              "    <tr>\n",
              "      <th>4</th>\n",
              "      <td>2018-01-05</td>\n",
              "      <td>27.250372</td>\n",
              "      <td>82.413353</td>\n",
              "      <td>0.011392</td>\n",
              "      <td>15.923456</td>\n",
              "      <td>1.047275</td>\n",
              "      <td>-0.037742</td>\n",
              "    </tr>\n",
              "  </tbody>\n",
              "</table>\n",
              "</div>"
            ],
            "text/plain": [
              "         Date  ...  v_component_of_wind_10m_above_ground\n",
              "0  2018-01-01  ...                             -0.933914\n",
              "1  2018-01-02  ...                             -0.485459\n",
              "2  2018-01-03  ...                             -0.653965\n",
              "3  2018-01-04  ...                              0.908123\n",
              "4  2018-01-05  ...                             -0.037742\n",
              "\n",
              "[5 rows x 7 columns]"
            ]
          },
          "metadata": {
            "tags": []
          },
          "execution_count": 12
        }
      ]
    },
    {
      "cell_type": "code",
      "metadata": {
        "id": "Qtq3nEUfltOF",
        "outputId": "5efaa6c5-ba40-4e53-92f5-ad3a3eeedc7c",
        "colab": {
          "base_uri": "https://localhost:8080/",
          "height": 261
        }
      },
      "source": [
        "Nairobi_df.head(2)"
      ],
      "execution_count": null,
      "outputs": [
        {
          "output_type": "execute_result",
          "data": {
            "text/html": [
              "<div>\n",
              "<style scoped>\n",
              "    .dataframe tbody tr th:only-of-type {\n",
              "        vertical-align: middle;\n",
              "    }\n",
              "\n",
              "    .dataframe tbody tr th {\n",
              "        vertical-align: top;\n",
              "    }\n",
              "\n",
              "    .dataframe thead th {\n",
              "        text-align: right;\n",
              "    }\n",
              "</style>\n",
              "<table border=\"1\" class=\"dataframe\">\n",
              "  <thead>\n",
              "    <tr style=\"text-align: right;\">\n",
              "      <th></th>\n",
              "      <th>CONST_CODE</th>\n",
              "      <th>Shape_Area</th>\n",
              "      <th>OBJECTID_1</th>\n",
              "      <th>OBJECTID</th>\n",
              "      <th>CONSTITUEN</th>\n",
              "      <th>COUNTY_ASS</th>\n",
              "      <th>COUNTY_A_1</th>\n",
              "      <th>COUNTY_COD</th>\n",
              "      <th>Shape_Leng</th>\n",
              "      <th>COUNTY_NAM</th>\n",
              "      <th>Shape_Le_1</th>\n",
              "      <th>geometry</th>\n",
              "    </tr>\n",
              "  </thead>\n",
              "  <tbody>\n",
              "    <tr>\n",
              "      <th>0</th>\n",
              "      <td>274</td>\n",
              "      <td>0.001689</td>\n",
              "      <td>15</td>\n",
              "      <td>26</td>\n",
              "      <td>WESTLANDS</td>\n",
              "      <td>1366</td>\n",
              "      <td>KITISURU</td>\n",
              "      <td>47</td>\n",
              "      <td>0.227746</td>\n",
              "      <td>NAIROBI</td>\n",
              "      <td>0.227746</td>\n",
              "      <td>POLYGON ((36.75539 -1.22385, 36.75555 -1.22430...</td>\n",
              "    </tr>\n",
              "    <tr>\n",
              "      <th>1</th>\n",
              "      <td>274</td>\n",
              "      <td>0.000677</td>\n",
              "      <td>27</td>\n",
              "      <td>51</td>\n",
              "      <td>WESTLANDS</td>\n",
              "      <td>1367</td>\n",
              "      <td>PARKLANDS/HIGHRIDGE</td>\n",
              "      <td>47</td>\n",
              "      <td>0.133992</td>\n",
              "      <td>NAIROBI</td>\n",
              "      <td>0.133992</td>\n",
              "      <td>POLYGON ((36.78228 -1.24589, 36.78272 -1.24590...</td>\n",
              "    </tr>\n",
              "  </tbody>\n",
              "</table>\n",
              "</div>"
            ],
            "text/plain": [
              "   CONST_CODE  ...                                           geometry\n",
              "0         274  ...  POLYGON ((36.75539 -1.22385, 36.75555 -1.22430...\n",
              "1         274  ...  POLYGON ((36.78228 -1.24589, 36.78272 -1.24590...\n",
              "\n",
              "[2 rows x 12 columns]"
            ]
          },
          "metadata": {
            "tags": []
          },
          "execution_count": 13
        }
      ]
    },
    {
      "cell_type": "code",
      "metadata": {
        "id": "2v7M5q7X-4Q4",
        "outputId": "10354dcf-9efc-48eb-d002-01d8cb90ba93",
        "colab": {
          "base_uri": "https://localhost:8080/",
          "height": 282
        }
      },
      "source": [
        "Nairobi_df.plot()"
      ],
      "execution_count": null,
      "outputs": [
        {
          "output_type": "execute_result",
          "data": {
            "text/plain": [
              "<matplotlib.axes._subplots.AxesSubplot at 0x7ffbcd4fc390>"
            ]
          },
          "metadata": {
            "tags": []
          },
          "execution_count": 14
        },
        {
          "output_type": "display_data",
          "data": {
            "image/png": "[encoded data removed]",
            "text/plain": [
              "<Figure size 432x288 with 1 Axes>"
            ]
          },
          "metadata": {
            "tags": [],
            "needs_background": "light"
          }
        }
      ]
    },
    {
      "cell_type": "code",
      "metadata": {
        "id": "N3AAE1sB_Hfa",
        "outputId": "2f6fcd97-18b4-46b4-8b37-f040e225147f",
        "colab": {
          "base_uri": "https://localhost:8080/",
          "height": 227
        }
      },
      "source": [
        "road_segment_df.plot()"
      ],
      "execution_count": null,
      "outputs": [
        {
          "output_type": "execute_result",
          "data": {
            "text/plain": [
              "<matplotlib.axes._subplots.AxesSubplot at 0x7ffbcab38550>"
            ]
          },
          "metadata": {
            "tags": []
          },
          "execution_count": 15
        },
        {
          "output_type": "display_data",
          "data": {
            "image/png": "[encoded data removed]",
            "text/plain": [
              "<Figure size 432x288 with 1 Axes>"
            ]
          },
          "metadata": {
            "tags": [],
            "needs_background": "light"
          }
        }
      ]
    },
    {
      "cell_type": "markdown",
      "metadata": {
        "id": "AUY62SWddm2b"
      },
      "source": [
        "#DATA UNDERSTANDING"
      ]
    },
    {
      "cell_type": "markdown",
      "metadata": {
        "id": "zlAUdD9Gq6AS"
      },
      "source": [
        "####Dataset shapes"
      ]
    },
    {
      "cell_type": "code",
      "metadata": {
        "id": "mIuJpghlaivk",
        "outputId": "6ae0336d-0d03-43a8-a74c-7ae4c4d606aa",
        "colab": {
          "base_uri": "https://localhost:8080/"
        }
      },
      "source": [
        "Train_df.shape"
      ],
      "execution_count": null,
      "outputs": [
        {
          "output_type": "execute_result",
          "data": {
            "text/plain": [
              "(6318, 4)"
            ]
          },
          "metadata": {
            "tags": []
          },
          "execution_count": 16
        }
      ]
    },
    {
      "cell_type": "code",
      "metadata": {
        "id": "yuDrJt4Ma1TQ",
        "outputId": "dc054683-c912-44e6-a0e9-08fab1fcdd42",
        "colab": {
          "base_uri": "https://localhost:8080/"
        }
      },
      "source": [
        "weather_df.shape"
      ],
      "execution_count": null,
      "outputs": [
        {
          "output_type": "execute_result",
          "data": {
            "text/plain": [
              "(731, 7)"
            ]
          },
          "metadata": {
            "tags": []
          },
          "execution_count": 17
        }
      ]
    },
    {
      "cell_type": "code",
      "metadata": {
        "id": "Phbaw_a2a5f_",
        "outputId": "5c9555a4-08f7-4e2a-cfea-90ff7d414a5c",
        "colab": {
          "base_uri": "https://localhost:8080/"
        }
      },
      "source": [
        "road_segment_df.shape"
      ],
      "execution_count": null,
      "outputs": [
        {
          "output_type": "execute_result",
          "data": {
            "text/plain": [
              "(792, 3)"
            ]
          },
          "metadata": {
            "tags": []
          },
          "execution_count": 18
        }
      ]
    },
    {
      "cell_type": "code",
      "metadata": {
        "id": "h-kgewCMa-W8",
        "outputId": "eb08c813-728a-4c84-cb7f-ba240eae00c4",
        "colab": {
          "base_uri": "https://localhost:8080/"
        }
      },
      "source": [
        "Nairobi_df.shape"
      ],
      "execution_count": null,
      "outputs": [
        {
          "output_type": "execute_result",
          "data": {
            "text/plain": [
              "(84, 12)"
            ]
          },
          "metadata": {
            "tags": []
          },
          "execution_count": 19
        }
      ]
    },
    {
      "cell_type": "markdown",
      "metadata": {
        "id": "FFpRRzILrAZ2"
      },
      "source": [
        "####Dataset Descriptions"
      ]
    },
    {
      "cell_type": "code",
      "metadata": {
        "id": "57fbNNP80Nep",
        "outputId": "f0f0c717-7647-4e75-c28a-baec8897f97c",
        "colab": {
          "base_uri": "https://localhost:8080/"
        }
      },
      "source": [
        "Train_df.dtypes"
      ],
      "execution_count": null,
      "outputs": [
        {
          "output_type": "execute_result",
          "data": {
            "text/plain": [
              "uid            int64\n",
              "datetime      object\n",
              "latitude     float64\n",
              "longitude    float64\n",
              "dtype: object"
            ]
          },
          "metadata": {
            "tags": []
          },
          "execution_count": 20
        }
      ]
    },
    {
      "cell_type": "code",
      "metadata": {
        "id": "9Urg8GrGaMGu",
        "outputId": "b5331380-6aff-4e2d-dc12-b47b4d823266",
        "colab": {
          "base_uri": "https://localhost:8080/"
        }
      },
      "source": [
        "weather_df.dtypes"
      ],
      "execution_count": null,
      "outputs": [
        {
          "output_type": "execute_result",
          "data": {
            "text/plain": [
              "Date                                     object\n",
              "precipitable_water_entire_atmosphere    float64\n",
              "relative_humidity_2m_above_ground       float64\n",
              "specific_humidity_2m_above_ground       float64\n",
              "temperature_2m_above_ground             float64\n",
              "u_component_of_wind_10m_above_ground    float64\n",
              "v_component_of_wind_10m_above_ground    float64\n",
              "dtype: object"
            ]
          },
          "metadata": {
            "tags": []
          },
          "execution_count": 21
        }
      ]
    },
    {
      "cell_type": "code",
      "metadata": {
        "id": "ATstsP5FaPx_",
        "outputId": "cfac53ee-d432-4c2e-fb3d-e1997995ba75",
        "colab": {
          "base_uri": "https://localhost:8080/"
        }
      },
      "source": [
        "Nairobi_df.dtypes"
      ],
      "execution_count": null,
      "outputs": [
        {
          "output_type": "execute_result",
          "data": {
            "text/plain": [
              "CONST_CODE       int64\n",
              "Shape_Area     float64\n",
              "OBJECTID_1       int64\n",
              "OBJECTID         int64\n",
              "CONSTITUEN      object\n",
              "COUNTY_ASS       int64\n",
              "COUNTY_A_1      object\n",
              "COUNTY_COD       int64\n",
              "Shape_Leng     float64\n",
              "COUNTY_NAM      object\n",
              "Shape_Le_1     float64\n",
              "geometry      geometry\n",
              "dtype: object"
            ]
          },
          "metadata": {
            "tags": []
          },
          "execution_count": 22
        }
      ]
    },
    {
      "cell_type": "code",
      "metadata": {
        "id": "4xJ0QmlqaV8R",
        "outputId": "21fd2bb2-db7d-4e60-f5f7-f2dcd5471a91",
        "colab": {
          "base_uri": "https://localhost:8080/"
        }
      },
      "source": [
        "road_segment_df.dtypes"
      ],
      "execution_count": null,
      "outputs": [
        {
          "output_type": "execute_result",
          "data": {
            "text/plain": [
              "segment_id      object\n",
              "road_name       object\n",
              "geometry      geometry\n",
              "dtype: object"
            ]
          },
          "metadata": {
            "tags": []
          },
          "execution_count": 23
        }
      ]
    },
    {
      "cell_type": "markdown",
      "metadata": {
        "id": "ItJizUlUrQ7m"
      },
      "source": [
        "####Checking for null values"
      ]
    },
    {
      "cell_type": "code",
      "metadata": {
        "id": "YNziLOdHbFH_",
        "outputId": "28c35e81-ea7f-430f-b673-2dff63e9d731",
        "colab": {
          "base_uri": "https://localhost:8080/"
        }
      },
      "source": [
        "Train_df.isna().any()"
      ],
      "execution_count": null,
      "outputs": [
        {
          "output_type": "execute_result",
          "data": {
            "text/plain": [
              "uid          False\n",
              "datetime     False\n",
              "latitude     False\n",
              "longitude    False\n",
              "dtype: bool"
            ]
          },
          "metadata": {
            "tags": []
          },
          "execution_count": 24
        }
      ]
    },
    {
      "cell_type": "code",
      "metadata": {
        "id": "xPpC88nLb2kB",
        "outputId": "a2a98437-73bb-4db9-aeb8-1b97a3273c8f",
        "colab": {
          "base_uri": "https://localhost:8080/"
        }
      },
      "source": [
        "weather_df.isna().sum()"
      ],
      "execution_count": null,
      "outputs": [
        {
          "output_type": "execute_result",
          "data": {
            "text/plain": [
              "Date                                    0\n",
              "precipitable_water_entire_atmosphere    3\n",
              "relative_humidity_2m_above_ground       3\n",
              "specific_humidity_2m_above_ground       3\n",
              "temperature_2m_above_ground             3\n",
              "u_component_of_wind_10m_above_ground    3\n",
              "v_component_of_wind_10m_above_ground    3\n",
              "dtype: int64"
            ]
          },
          "metadata": {
            "tags": []
          },
          "execution_count": 25
        }
      ]
    },
    {
      "cell_type": "code",
      "metadata": {
        "id": "ZVlzeml3b-Me",
        "outputId": "dd18f734-d07e-4657-abc8-0a3a2a70daa3",
        "colab": {
          "base_uri": "https://localhost:8080/"
        }
      },
      "source": [
        "road_segment_df.isna().any()"
      ],
      "execution_count": null,
      "outputs": [
        {
          "output_type": "execute_result",
          "data": {
            "text/plain": [
              "segment_id    False\n",
              "road_name     False\n",
              "geometry      False\n",
              "dtype: bool"
            ]
          },
          "metadata": {
            "tags": []
          },
          "execution_count": 26
        }
      ]
    },
    {
      "cell_type": "code",
      "metadata": {
        "id": "Ztse9mc8cE31",
        "outputId": "fdfd3ccc-1506-4bc2-fbb5-29a389278f65",
        "colab": {
          "base_uri": "https://localhost:8080/"
        }
      },
      "source": [
        "Nairobi_df.isna().any()"
      ],
      "execution_count": null,
      "outputs": [
        {
          "output_type": "execute_result",
          "data": {
            "text/plain": [
              "CONST_CODE    False\n",
              "Shape_Area    False\n",
              "OBJECTID_1    False\n",
              "OBJECTID      False\n",
              "CONSTITUEN    False\n",
              "COUNTY_ASS    False\n",
              "COUNTY_A_1    False\n",
              "COUNTY_COD    False\n",
              "Shape_Leng    False\n",
              "COUNTY_NAM    False\n",
              "Shape_Le_1    False\n",
              "geometry      False\n",
              "dtype: bool"
            ]
          },
          "metadata": {
            "tags": []
          },
          "execution_count": 28
        }
      ]
    },
    {
      "cell_type": "markdown",
      "metadata": {
        "id": "C-dT-WdYrW3S"
      },
      "source": [
        "####Checking for duplicates"
      ]
    },
    {
      "cell_type": "code",
      "metadata": {
        "id": "oX2Z1rM3c0gV",
        "outputId": "fa69fa48-a85c-42f8-e6e5-71221c0b3866",
        "colab": {
          "base_uri": "https://localhost:8080/"
        }
      },
      "source": [
        "Train_df.drop_duplicates().any()"
      ],
      "execution_count": null,
      "outputs": [
        {
          "output_type": "execute_result",
          "data": {
            "text/plain": [
              "uid          True\n",
              "datetime     True\n",
              "latitude     True\n",
              "longitude    True\n",
              "dtype: bool"
            ]
          },
          "metadata": {
            "tags": []
          },
          "execution_count": 27
        }
      ]
    },
    {
      "cell_type": "code",
      "metadata": {
        "id": "0z5gwkrsdCg2",
        "outputId": "d097ffd5-8d89-4c03-b7c7-d8ccdbaa8c26",
        "colab": {
          "base_uri": "https://localhost:8080/"
        }
      },
      "source": [
        "weather_df.duplicated().any()"
      ],
      "execution_count": null,
      "outputs": [
        {
          "output_type": "execute_result",
          "data": {
            "text/plain": [
              "False"
            ]
          },
          "metadata": {
            "tags": []
          },
          "execution_count": 31
        }
      ]
    },
    {
      "cell_type": "code",
      "metadata": {
        "id": "nITmgPBgdJpY",
        "outputId": "c0b90aa5-4dae-493c-90f9-3b710d290891",
        "colab": {
          "base_uri": "https://localhost:8080/"
        }
      },
      "source": [
        "road_segment_df.duplicated().any()"
      ],
      "execution_count": null,
      "outputs": [
        {
          "output_type": "execute_result",
          "data": {
            "text/plain": [
              "False"
            ]
          },
          "metadata": {
            "tags": []
          },
          "execution_count": 32
        }
      ]
    },
    {
      "cell_type": "code",
      "metadata": {
        "id": "T64ItqwZdQgx",
        "outputId": "e25e2594-eb6a-49fa-dacb-cffc102e3519",
        "colab": {
          "base_uri": "https://localhost:8080/"
        }
      },
      "source": [
        "Nairobi_df.duplicated().any()"
      ],
      "execution_count": null,
      "outputs": [
        {
          "output_type": "execute_result",
          "data": {
            "text/plain": [
              "False"
            ]
          },
          "metadata": {
            "tags": []
          },
          "execution_count": 33
        }
      ]
    },
    {
      "cell_type": "markdown",
      "metadata": {
        "id": "DLJiQTetrjdL"
      },
      "source": [
        "####Summary of the dataset"
      ]
    },
    {
      "cell_type": "code",
      "metadata": {
        "id": "M1yQ_XVox3zm"
      },
      "source": [
        "Train_df12 = Train_df.copy()"
      ],
      "execution_count": null,
      "outputs": []
    },
    {
      "cell_type": "code",
      "metadata": {
        "id": "bC7F6ENiVfoT"
      },
      "source": [
        "Train_df12['max'] = ''\n",
        "Train_df12['min'] = ''"
      ],
      "execution_count": null,
      "outputs": []
    },
    {
      "cell_type": "code",
      "metadata": {
        "id": "8ZC1MDMoV0w5"
      },
      "source": [
        "q = Train_df12.index\n",
        "for a in q:\n",
        "  Train_df12.loc[a , 'max'] = Train_df['uid'].max()\n",
        "  Train_df12.loc[a , 'min'] = Train_df['uid'].min()\n",
        "  Train_df12.loc[a , 'max'] = Train_df['latitude'].max()\n",
        "  Train_df12.loc[a , 'min'] = Train_df['latitude'].min()\n",
        "  Train_df12.loc[a , 'max'] = Train_df['longitude'].max()\n",
        "  Train_df12.loc[a , 'min'] = Train_df['longitude'].min()"
      ],
      "execution_count": null,
      "outputs": []
    },
    {
      "cell_type": "code",
      "metadata": {
        "id": "ZjdCvS7mXWHI",
        "outputId": "31e76570-3cac-4cee-ba9f-7779af958b83",
        "colab": {
          "base_uri": "https://localhost:8080/",
          "height": 406
        }
      },
      "source": [
        "Train_df12"
      ],
      "execution_count": null,
      "outputs": [
        {
          "output_type": "execute_result",
          "data": {
            "text/html": [
              "<div>\n",
              "<style scoped>\n",
              "    .dataframe tbody tr th:only-of-type {\n",
              "        vertical-align: middle;\n",
              "    }\n",
              "\n",
              "    .dataframe tbody tr th {\n",
              "        vertical-align: top;\n",
              "    }\n",
              "\n",
              "    .dataframe thead th {\n",
              "        text-align: right;\n",
              "    }\n",
              "</style>\n",
              "<table border=\"1\" class=\"dataframe\">\n",
              "  <thead>\n",
              "    <tr style=\"text-align: right;\">\n",
              "      <th></th>\n",
              "      <th>uid</th>\n",
              "      <th>datetime</th>\n",
              "      <th>latitude</th>\n",
              "      <th>longitude</th>\n",
              "      <th>max</th>\n",
              "      <th>min</th>\n",
              "    </tr>\n",
              "  </thead>\n",
              "  <tbody>\n",
              "    <tr>\n",
              "      <th>0</th>\n",
              "      <td>1</td>\n",
              "      <td>2018-01-01 00:25:46</td>\n",
              "      <td>-1.188850</td>\n",
              "      <td>36.931382</td>\n",
              "      <td>37.8795</td>\n",
              "      <td>36.3322</td>\n",
              "    </tr>\n",
              "    <tr>\n",
              "      <th>1</th>\n",
              "      <td>2</td>\n",
              "      <td>2018-01-01 02:02:39</td>\n",
              "      <td>-0.662939</td>\n",
              "      <td>37.208730</td>\n",
              "      <td>37.8795</td>\n",
              "      <td>36.3322</td>\n",
              "    </tr>\n",
              "    <tr>\n",
              "      <th>2</th>\n",
              "      <td>3</td>\n",
              "      <td>2018-01-01 02:31:49</td>\n",
              "      <td>-0.662939</td>\n",
              "      <td>37.208730</td>\n",
              "      <td>37.8795</td>\n",
              "      <td>36.3322</td>\n",
              "    </tr>\n",
              "    <tr>\n",
              "      <th>3</th>\n",
              "      <td>4</td>\n",
              "      <td>2018-01-01 03:04:01</td>\n",
              "      <td>-1.288087</td>\n",
              "      <td>36.826583</td>\n",
              "      <td>37.8795</td>\n",
              "      <td>36.3322</td>\n",
              "    </tr>\n",
              "    <tr>\n",
              "      <th>4</th>\n",
              "      <td>5</td>\n",
              "      <td>2018-01-01 03:58:49</td>\n",
              "      <td>-1.188850</td>\n",
              "      <td>36.931382</td>\n",
              "      <td>37.8795</td>\n",
              "      <td>36.3322</td>\n",
              "    </tr>\n",
              "    <tr>\n",
              "      <th>...</th>\n",
              "      <td>...</td>\n",
              "      <td>...</td>\n",
              "      <td>...</td>\n",
              "      <td>...</td>\n",
              "      <td>...</td>\n",
              "      <td>...</td>\n",
              "    </tr>\n",
              "    <tr>\n",
              "      <th>6313</th>\n",
              "      <td>6314</td>\n",
              "      <td>2019-06-29 18:52:44</td>\n",
              "      <td>-1.262271</td>\n",
              "      <td>36.726540</td>\n",
              "      <td>37.8795</td>\n",
              "      <td>36.3322</td>\n",
              "    </tr>\n",
              "    <tr>\n",
              "      <th>6314</th>\n",
              "      <td>6315</td>\n",
              "      <td>2019-06-30 09:57:44</td>\n",
              "      <td>-1.279468</td>\n",
              "      <td>36.790449</td>\n",
              "      <td>37.8795</td>\n",
              "      <td>36.3322</td>\n",
              "    </tr>\n",
              "    <tr>\n",
              "      <th>6315</th>\n",
              "      <td>6316</td>\n",
              "      <td>2019-06-30 12:02:14</td>\n",
              "      <td>-1.322109</td>\n",
              "      <td>36.825248</td>\n",
              "      <td>37.8795</td>\n",
              "      <td>36.3322</td>\n",
              "    </tr>\n",
              "    <tr>\n",
              "      <th>6316</th>\n",
              "      <td>6317</td>\n",
              "      <td>2019-06-30 16:59:14</td>\n",
              "      <td>-1.278589</td>\n",
              "      <td>36.816518</td>\n",
              "      <td>37.8795</td>\n",
              "      <td>36.3322</td>\n",
              "    </tr>\n",
              "    <tr>\n",
              "      <th>6317</th>\n",
              "      <td>6318</td>\n",
              "      <td>2019-06-30 20:06:14</td>\n",
              "      <td>-1.211500</td>\n",
              "      <td>36.907635</td>\n",
              "      <td>37.8795</td>\n",
              "      <td>36.3322</td>\n",
              "    </tr>\n",
              "  </tbody>\n",
              "</table>\n",
              "<p>6318 rows × 6 columns</p>\n",
              "</div>"
            ],
            "text/plain": [
              "       uid             datetime  latitude  longitude      max      min\n",
              "0        1  2018-01-01 00:25:46 -1.188850  36.931382  37.8795  36.3322\n",
              "1        2  2018-01-01 02:02:39 -0.662939  37.208730  37.8795  36.3322\n",
              "2        3  2018-01-01 02:31:49 -0.662939  37.208730  37.8795  36.3322\n",
              "3        4  2018-01-01 03:04:01 -1.288087  36.826583  37.8795  36.3322\n",
              "4        5  2018-01-01 03:58:49 -1.188850  36.931382  37.8795  36.3322\n",
              "...    ...                  ...       ...        ...      ...      ...\n",
              "6313  6314  2019-06-29 18:52:44 -1.262271  36.726540  37.8795  36.3322\n",
              "6314  6315  2019-06-30 09:57:44 -1.279468  36.790449  37.8795  36.3322\n",
              "6315  6316  2019-06-30 12:02:14 -1.322109  36.825248  37.8795  36.3322\n",
              "6316  6317  2019-06-30 16:59:14 -1.278589  36.816518  37.8795  36.3322\n",
              "6317  6318  2019-06-30 20:06:14 -1.211500  36.907635  37.8795  36.3322\n",
              "\n",
              "[6318 rows x 6 columns]"
            ]
          },
          "metadata": {
            "tags": []
          },
          "execution_count": 37
        }
      ]
    },
    {
      "cell_type": "markdown",
      "metadata": {
        "id": "7A7OFZP5skud"
      },
      "source": [
        "#DATA PREPARATION"
      ]
    },
    {
      "cell_type": "markdown",
      "metadata": {
        "id": "pAegRgCodeai"
      },
      "source": [
        "##Data *cleaning*"
      ]
    },
    {
      "cell_type": "markdown",
      "metadata": {
        "id": "CcV1Mgkh3MUF"
      },
      "source": [
        "#####Train dataset"
      ]
    },
    {
      "cell_type": "code",
      "metadata": {
        "id": "UZU-JtlW33M5"
      },
      "source": [
        "Train_df1 = Train_df.copy()"
      ],
      "execution_count": null,
      "outputs": []
    },
    {
      "cell_type": "code",
      "metadata": {
        "id": "r7IdeilWy0rG",
        "outputId": "fbd57bbd-6736-438f-8c38-9c099f9bdc14",
        "colab": {
          "base_uri": "https://localhost:8080/",
          "height": 287
        }
      },
      "source": [
        "# generating a statistical summary of numerical variables\n",
        "Train_df1.describe()"
      ],
      "execution_count": null,
      "outputs": [
        {
          "output_type": "execute_result",
          "data": {
            "text/html": [
              "<div>\n",
              "<style scoped>\n",
              "    .dataframe tbody tr th:only-of-type {\n",
              "        vertical-align: middle;\n",
              "    }\n",
              "\n",
              "    .dataframe tbody tr th {\n",
              "        vertical-align: top;\n",
              "    }\n",
              "\n",
              "    .dataframe thead th {\n",
              "        text-align: right;\n",
              "    }\n",
              "</style>\n",
              "<table border=\"1\" class=\"dataframe\">\n",
              "  <thead>\n",
              "    <tr style=\"text-align: right;\">\n",
              "      <th></th>\n",
              "      <th>uid</th>\n",
              "      <th>latitude</th>\n",
              "      <th>longitude</th>\n",
              "    </tr>\n",
              "  </thead>\n",
              "  <tbody>\n",
              "    <tr>\n",
              "      <th>count</th>\n",
              "      <td>6318.000000</td>\n",
              "      <td>6318.000000</td>\n",
              "      <td>6318.000000</td>\n",
              "    </tr>\n",
              "    <tr>\n",
              "      <th>mean</th>\n",
              "      <td>3159.500000</td>\n",
              "      <td>-1.270338</td>\n",
              "      <td>36.855459</td>\n",
              "    </tr>\n",
              "    <tr>\n",
              "      <th>std</th>\n",
              "      <td>1823.993832</td>\n",
              "      <td>0.125157</td>\n",
              "      <td>0.112866</td>\n",
              "    </tr>\n",
              "    <tr>\n",
              "      <th>min</th>\n",
              "      <td>1.000000</td>\n",
              "      <td>-3.050000</td>\n",
              "      <td>36.332202</td>\n",
              "    </tr>\n",
              "    <tr>\n",
              "      <th>25%</th>\n",
              "      <td>1580.250000</td>\n",
              "      <td>-1.316585</td>\n",
              "      <td>36.802048</td>\n",
              "    </tr>\n",
              "    <tr>\n",
              "      <th>50%</th>\n",
              "      <td>3159.500000</td>\n",
              "      <td>-1.271709</td>\n",
              "      <td>36.844591</td>\n",
              "    </tr>\n",
              "    <tr>\n",
              "      <th>75%</th>\n",
              "      <td>4738.750000</td>\n",
              "      <td>-1.233746</td>\n",
              "      <td>36.895642</td>\n",
              "    </tr>\n",
              "    <tr>\n",
              "      <th>max</th>\n",
              "      <td>6318.000000</td>\n",
              "      <td>-0.565402</td>\n",
              "      <td>37.879490</td>\n",
              "    </tr>\n",
              "  </tbody>\n",
              "</table>\n",
              "</div>"
            ],
            "text/plain": [
              "               uid     latitude    longitude\n",
              "count  6318.000000  6318.000000  6318.000000\n",
              "mean   3159.500000    -1.270338    36.855459\n",
              "std    1823.993832     0.125157     0.112866\n",
              "min       1.000000    -3.050000    36.332202\n",
              "25%    1580.250000    -1.316585    36.802048\n",
              "50%    3159.500000    -1.271709    36.844591\n",
              "75%    4738.750000    -1.233746    36.895642\n",
              "max    6318.000000    -0.565402    37.879490"
            ]
          },
          "metadata": {
            "tags": []
          },
          "execution_count": 40
        }
      ]
    },
    {
      "cell_type": "code",
      "metadata": {
        "id": "907BmW_iq3kR",
        "outputId": "90260a91-76e6-4174-8984-36a375c58f2f",
        "colab": {
          "base_uri": "https://localhost:8080/"
        }
      },
      "source": [
        "#checking for duplicates\n",
        "#\n",
        "Train_df1.duplicated(). any()"
      ],
      "execution_count": null,
      "outputs": [
        {
          "output_type": "execute_result",
          "data": {
            "text/plain": [
              "False"
            ]
          },
          "metadata": {
            "tags": []
          },
          "execution_count": 83
        }
      ]
    },
    {
      "cell_type": "code",
      "metadata": {
        "id": "lqqPBNnU99Af",
        "outputId": "c515b5de-1f36-438d-c2af-3735a29415a9",
        "colab": {
          "base_uri": "https://localhost:8080/"
        }
      },
      "source": [
        "# check for missing values\n",
        "Train_df1.isna().sum()"
      ],
      "execution_count": null,
      "outputs": [
        {
          "output_type": "execute_result",
          "data": {
            "text/plain": [
              "uid          0\n",
              "datetime     0\n",
              "latitude     0\n",
              "longitude    0\n",
              "dtype: int64"
            ]
          },
          "metadata": {
            "tags": []
          },
          "execution_count": 41
        }
      ]
    },
    {
      "cell_type": "code",
      "metadata": {
        "id": "qv2cc70tBLzU",
        "outputId": "b9b5a5e6-7b0d-4822-9d2f-57183269f5d1",
        "colab": {
          "base_uri": "https://localhost:8080/",
          "height": 483
        }
      },
      "source": [
        "# checking for outliers\n",
        "plt.figure(figsize = (14, 8))\n",
        "Train_df1.boxplot()\n",
        "plt.show()\n"
      ],
      "execution_count": null,
      "outputs": [
        {
          "output_type": "display_data",
          "data": {
            "image/png": "[encoded data removed]",
            "text/plain": [
              "<Figure size 1008x576 with 1 Axes>"
            ]
          },
          "metadata": {
            "tags": [],
            "needs_background": "light"
          }
        }
      ]
    },
    {
      "cell_type": "markdown",
      "metadata": {
        "id": "GhbxSaTRsmxD"
      },
      "source": [
        "**Observation**: We see that the uid variable has outliers. However, we will not remove these outliers as this categorical variable."
      ]
    },
    {
      "cell_type": "code",
      "metadata": {
        "id": "aeQ47Mao2yjc",
        "outputId": "3506a5e6-7660-44e2-e48f-8b45d0ee4039",
        "colab": {
          "base_uri": "https://localhost:8080/"
        }
      },
      "source": [
        "# standardizing variable names for readability\n",
        "#\n",
        "Train_df1.columns = Train_df1.columns.str.strip().str.lower().str.replace(' ', '_').str.replace('(', '').str.replace(')', '')\n",
        "Train_df1.columns\n",
        "#\n",
        "#clean dataset=Train_df1"
      ],
      "execution_count": null,
      "outputs": [
        {
          "output_type": "execute_result",
          "data": {
            "text/plain": [
              "Index(['uid', 'datetime', 'latitude', 'longitude'], dtype='object')"
            ]
          },
          "metadata": {
            "tags": []
          },
          "execution_count": 43
        }
      ]
    },
    {
      "cell_type": "code",
      "metadata": {
        "id": "Ezet4nsQfdCG",
        "outputId": "6678b9b7-dcf6-4aad-ce9f-4caf0a6a752d",
        "colab": {
          "base_uri": "https://localhost:8080/"
        }
      },
      "source": [
        "Train_df.dtypes"
      ],
      "execution_count": null,
      "outputs": [
        {
          "output_type": "execute_result",
          "data": {
            "text/plain": [
              "uid            int64\n",
              "datetime      object\n",
              "latitude     float64\n",
              "longitude    float64\n",
              "dtype: object"
            ]
          },
          "metadata": {
            "tags": []
          },
          "execution_count": 44
        }
      ]
    },
    {
      "cell_type": "code",
      "metadata": {
        "id": "mPLpupjlgTF3",
        "outputId": "1ba48041-1d07-46cc-f6c4-b96bbd835000",
        "colab": {
          "base_uri": "https://localhost:8080/",
          "height": 197
        }
      },
      "source": [
        "Train_df1['Date'] = pd.to_datetime(Train_df1['datetime']).dt.date\n",
        "Train_df1['Time'] = pd.to_datetime(Train_df1['datetime']).dt.time\n",
        "Train_df1.head()"
      ],
      "execution_count": null,
      "outputs": [
        {
          "output_type": "execute_result",
          "data": {
            "text/html": [
              "<div>\n",
              "<style scoped>\n",
              "    .dataframe tbody tr th:only-of-type {\n",
              "        vertical-align: middle;\n",
              "    }\n",
              "\n",
              "    .dataframe tbody tr th {\n",
              "        vertical-align: top;\n",
              "    }\n",
              "\n",
              "    .dataframe thead th {\n",
              "        text-align: right;\n",
              "    }\n",
              "</style>\n",
              "<table border=\"1\" class=\"dataframe\">\n",
              "  <thead>\n",
              "    <tr style=\"text-align: right;\">\n",
              "      <th></th>\n",
              "      <th>uid</th>\n",
              "      <th>datetime</th>\n",
              "      <th>latitude</th>\n",
              "      <th>longitude</th>\n",
              "      <th>Date</th>\n",
              "      <th>Time</th>\n",
              "    </tr>\n",
              "  </thead>\n",
              "  <tbody>\n",
              "    <tr>\n",
              "      <th>0</th>\n",
              "      <td>1</td>\n",
              "      <td>2018-01-01 00:25:46</td>\n",
              "      <td>-1.188850</td>\n",
              "      <td>36.931382</td>\n",
              "      <td>2018-01-01</td>\n",
              "      <td>00:25:46</td>\n",
              "    </tr>\n",
              "    <tr>\n",
              "      <th>1</th>\n",
              "      <td>2</td>\n",
              "      <td>2018-01-01 02:02:39</td>\n",
              "      <td>-0.662939</td>\n",
              "      <td>37.208730</td>\n",
              "      <td>2018-01-01</td>\n",
              "      <td>02:02:39</td>\n",
              "    </tr>\n",
              "    <tr>\n",
              "      <th>2</th>\n",
              "      <td>3</td>\n",
              "      <td>2018-01-01 02:31:49</td>\n",
              "      <td>-0.662939</td>\n",
              "      <td>37.208730</td>\n",
              "      <td>2018-01-01</td>\n",
              "      <td>02:31:49</td>\n",
              "    </tr>\n",
              "    <tr>\n",
              "      <th>3</th>\n",
              "      <td>4</td>\n",
              "      <td>2018-01-01 03:04:01</td>\n",
              "      <td>-1.288087</td>\n",
              "      <td>36.826583</td>\n",
              "      <td>2018-01-01</td>\n",
              "      <td>03:04:01</td>\n",
              "    </tr>\n",
              "    <tr>\n",
              "      <th>4</th>\n",
              "      <td>5</td>\n",
              "      <td>2018-01-01 03:58:49</td>\n",
              "      <td>-1.188850</td>\n",
              "      <td>36.931382</td>\n",
              "      <td>2018-01-01</td>\n",
              "      <td>03:58:49</td>\n",
              "    </tr>\n",
              "  </tbody>\n",
              "</table>\n",
              "</div>"
            ],
            "text/plain": [
              "   uid             datetime  latitude  longitude        Date      Time\n",
              "0    1  2018-01-01 00:25:46 -1.188850  36.931382  2018-01-01  00:25:46\n",
              "1    2  2018-01-01 02:02:39 -0.662939  37.208730  2018-01-01  02:02:39\n",
              "2    3  2018-01-01 02:31:49 -0.662939  37.208730  2018-01-01  02:31:49\n",
              "3    4  2018-01-01 03:04:01 -1.288087  36.826583  2018-01-01  03:04:01\n",
              "4    5  2018-01-01 03:58:49 -1.188850  36.931382  2018-01-01  03:58:49"
            ]
          },
          "metadata": {
            "tags": []
          },
          "execution_count": 45
        }
      ]
    },
    {
      "cell_type": "code",
      "metadata": {
        "id": "BPqNEWH2hYoW"
      },
      "source": [
        "Train_df1.drop(\"datetime\", axis=1, inplace=True)\n"
      ],
      "execution_count": null,
      "outputs": []
    },
    {
      "cell_type": "code",
      "metadata": {
        "id": "8Wjy_J1PiMPh",
        "outputId": "ab47c002-3610-4a09-b53f-73e76affba8c",
        "colab": {
          "base_uri": "https://localhost:8080/",
          "height": 197
        }
      },
      "source": [
        "#final clean dataset\n",
        "Train_df1.head()"
      ],
      "execution_count": null,
      "outputs": [
        {
          "output_type": "execute_result",
          "data": {
            "text/html": [
              "<div>\n",
              "<style scoped>\n",
              "    .dataframe tbody tr th:only-of-type {\n",
              "        vertical-align: middle;\n",
              "    }\n",
              "\n",
              "    .dataframe tbody tr th {\n",
              "        vertical-align: top;\n",
              "    }\n",
              "\n",
              "    .dataframe thead th {\n",
              "        text-align: right;\n",
              "    }\n",
              "</style>\n",
              "<table border=\"1\" class=\"dataframe\">\n",
              "  <thead>\n",
              "    <tr style=\"text-align: right;\">\n",
              "      <th></th>\n",
              "      <th>uid</th>\n",
              "      <th>latitude</th>\n",
              "      <th>longitude</th>\n",
              "      <th>Date</th>\n",
              "      <th>Time</th>\n",
              "    </tr>\n",
              "  </thead>\n",
              "  <tbody>\n",
              "    <tr>\n",
              "      <th>0</th>\n",
              "      <td>1</td>\n",
              "      <td>-1.188850</td>\n",
              "      <td>36.931382</td>\n",
              "      <td>2018-01-01</td>\n",
              "      <td>00:25:46</td>\n",
              "    </tr>\n",
              "    <tr>\n",
              "      <th>1</th>\n",
              "      <td>2</td>\n",
              "      <td>-0.662939</td>\n",
              "      <td>37.208730</td>\n",
              "      <td>2018-01-01</td>\n",
              "      <td>02:02:39</td>\n",
              "    </tr>\n",
              "    <tr>\n",
              "      <th>2</th>\n",
              "      <td>3</td>\n",
              "      <td>-0.662939</td>\n",
              "      <td>37.208730</td>\n",
              "      <td>2018-01-01</td>\n",
              "      <td>02:31:49</td>\n",
              "    </tr>\n",
              "    <tr>\n",
              "      <th>3</th>\n",
              "      <td>4</td>\n",
              "      <td>-1.288087</td>\n",
              "      <td>36.826583</td>\n",
              "      <td>2018-01-01</td>\n",
              "      <td>03:04:01</td>\n",
              "    </tr>\n",
              "    <tr>\n",
              "      <th>4</th>\n",
              "      <td>5</td>\n",
              "      <td>-1.188850</td>\n",
              "      <td>36.931382</td>\n",
              "      <td>2018-01-01</td>\n",
              "      <td>03:58:49</td>\n",
              "    </tr>\n",
              "  </tbody>\n",
              "</table>\n",
              "</div>"
            ],
            "text/plain": [
              "   uid  latitude  longitude        Date      Time\n",
              "0    1 -1.188850  36.931382  2018-01-01  00:25:46\n",
              "1    2 -0.662939  37.208730  2018-01-01  02:02:39\n",
              "2    3 -0.662939  37.208730  2018-01-01  02:31:49\n",
              "3    4 -1.288087  36.826583  2018-01-01  03:04:01\n",
              "4    5 -1.188850  36.931382  2018-01-01  03:58:49"
            ]
          },
          "metadata": {
            "tags": []
          },
          "execution_count": 47
        }
      ]
    },
    {
      "cell_type": "markdown",
      "metadata": {
        "id": "bJAC0GkW3Pea"
      },
      "source": [
        "#####Weather dataset"
      ]
    },
    {
      "cell_type": "code",
      "metadata": {
        "id": "WYUNtlDn-M-4"
      },
      "source": [
        "weather_df1 = weather_df.copy()"
      ],
      "execution_count": null,
      "outputs": []
    },
    {
      "cell_type": "code",
      "metadata": {
        "id": "Jcgcf_gpVvP-",
        "outputId": "2b0b68ca-f1b8-47ec-99f1-5a29f7ff8944",
        "colab": {
          "base_uri": "https://localhost:8080/",
          "height": 301
        }
      },
      "source": [
        "weather_df1.head()"
      ],
      "execution_count": null,
      "outputs": [
        {
          "output_type": "execute_result",
          "data": {
            "text/html": [
              "<div>\n",
              "<style scoped>\n",
              "    .dataframe tbody tr th:only-of-type {\n",
              "        vertical-align: middle;\n",
              "    }\n",
              "\n",
              "    .dataframe tbody tr th {\n",
              "        vertical-align: top;\n",
              "    }\n",
              "\n",
              "    .dataframe thead th {\n",
              "        text-align: right;\n",
              "    }\n",
              "</style>\n",
              "<table border=\"1\" class=\"dataframe\">\n",
              "  <thead>\n",
              "    <tr style=\"text-align: right;\">\n",
              "      <th></th>\n",
              "      <th>Date</th>\n",
              "      <th>precipitable_water_entire_atmosphere</th>\n",
              "      <th>relative_humidity_2m_above_ground</th>\n",
              "      <th>specific_humidity_2m_above_ground</th>\n",
              "      <th>temperature_2m_above_ground</th>\n",
              "      <th>u_component_of_wind_10m_above_ground</th>\n",
              "      <th>v_component_of_wind_10m_above_ground</th>\n",
              "    </tr>\n",
              "  </thead>\n",
              "  <tbody>\n",
              "    <tr>\n",
              "      <th>0</th>\n",
              "      <td>2018-01-01</td>\n",
              "      <td>24.100000</td>\n",
              "      <td>72.700005</td>\n",
              "      <td>0.009560</td>\n",
              "      <td>15.161493</td>\n",
              "      <td>-0.012186</td>\n",
              "      <td>-0.933914</td>\n",
              "    </tr>\n",
              "    <tr>\n",
              "      <th>1</th>\n",
              "      <td>2018-01-02</td>\n",
              "      <td>27.362288</td>\n",
              "      <td>74.900002</td>\n",
              "      <td>0.010463</td>\n",
              "      <td>16.047998</td>\n",
              "      <td>0.314543</td>\n",
              "      <td>-0.485459</td>\n",
              "    </tr>\n",
              "    <tr>\n",
              "      <th>2</th>\n",
              "      <td>2018-01-03</td>\n",
              "      <td>30.246618</td>\n",
              "      <td>86.599998</td>\n",
              "      <td>0.011930</td>\n",
              "      <td>15.838525</td>\n",
              "      <td>-0.282732</td>\n",
              "      <td>-0.653965</td>\n",
              "    </tr>\n",
              "    <tr>\n",
              "      <th>3</th>\n",
              "      <td>2018-01-04</td>\n",
              "      <td>33.010689</td>\n",
              "      <td>90.900002</td>\n",
              "      <td>0.012780</td>\n",
              "      <td>16.169244</td>\n",
              "      <td>0.211572</td>\n",
              "      <td>0.908123</td>\n",
              "    </tr>\n",
              "    <tr>\n",
              "      <th>4</th>\n",
              "      <td>2018-01-05</td>\n",
              "      <td>27.250372</td>\n",
              "      <td>82.413353</td>\n",
              "      <td>0.011392</td>\n",
              "      <td>15.923456</td>\n",
              "      <td>1.047275</td>\n",
              "      <td>-0.037742</td>\n",
              "    </tr>\n",
              "  </tbody>\n",
              "</table>\n",
              "</div>"
            ],
            "text/plain": [
              "         Date  ...  v_component_of_wind_10m_above_ground\n",
              "0  2018-01-01  ...                             -0.933914\n",
              "1  2018-01-02  ...                             -0.485459\n",
              "2  2018-01-03  ...                             -0.653965\n",
              "3  2018-01-04  ...                              0.908123\n",
              "4  2018-01-05  ...                             -0.037742\n",
              "\n",
              "[5 rows x 7 columns]"
            ]
          },
          "metadata": {
            "tags": []
          },
          "execution_count": 49
        }
      ]
    },
    {
      "cell_type": "code",
      "metadata": {
        "id": "jq_0ozz8A7zm",
        "outputId": "fcd8497d-709a-4e56-858e-32e4cdb522da",
        "colab": {
          "base_uri": "https://localhost:8080/"
        }
      },
      "source": [
        "# determining the shape of the dataset / by shape we mean size\n",
        "#\n",
        "weather_df1.shape"
      ],
      "execution_count": null,
      "outputs": [
        {
          "output_type": "execute_result",
          "data": {
            "text/plain": [
              "(731, 7)"
            ]
          },
          "metadata": {
            "tags": []
          },
          "execution_count": 50
        }
      ]
    },
    {
      "cell_type": "code",
      "metadata": {
        "id": "-6nq1XnMzLXJ",
        "outputId": "924ab9cb-b779-4675-bf83-6c08785f047d",
        "colab": {
          "base_uri": "https://localhost:8080/",
          "height": 307
        }
      },
      "source": [
        "# generating a statistical summary of numerical variables\n",
        "weather_df1.describe()"
      ],
      "execution_count": null,
      "outputs": [
        {
          "output_type": "execute_result",
          "data": {
            "text/html": [
              "<div>\n",
              "<style scoped>\n",
              "    .dataframe tbody tr th:only-of-type {\n",
              "        vertical-align: middle;\n",
              "    }\n",
              "\n",
              "    .dataframe tbody tr th {\n",
              "        vertical-align: top;\n",
              "    }\n",
              "\n",
              "    .dataframe thead th {\n",
              "        text-align: right;\n",
              "    }\n",
              "</style>\n",
              "<table border=\"1\" class=\"dataframe\">\n",
              "  <thead>\n",
              "    <tr style=\"text-align: right;\">\n",
              "      <th></th>\n",
              "      <th>precipitable_water_entire_atmosphere</th>\n",
              "      <th>relative_humidity_2m_above_ground</th>\n",
              "      <th>specific_humidity_2m_above_ground</th>\n",
              "      <th>temperature_2m_above_ground</th>\n",
              "      <th>u_component_of_wind_10m_above_ground</th>\n",
              "      <th>v_component_of_wind_10m_above_ground</th>\n",
              "    </tr>\n",
              "  </thead>\n",
              "  <tbody>\n",
              "    <tr>\n",
              "      <th>count</th>\n",
              "      <td>728.000000</td>\n",
              "      <td>728.000000</td>\n",
              "      <td>728.000000</td>\n",
              "      <td>728.000000</td>\n",
              "      <td>728.000000</td>\n",
              "      <td>728.000000</td>\n",
              "    </tr>\n",
              "    <tr>\n",
              "      <th>mean</th>\n",
              "      <td>23.977231</td>\n",
              "      <td>83.160478</td>\n",
              "      <td>0.010955</td>\n",
              "      <td>15.175692</td>\n",
              "      <td>-1.907236</td>\n",
              "      <td>-1.128133</td>\n",
              "    </tr>\n",
              "    <tr>\n",
              "      <th>std</th>\n",
              "      <td>4.693146</td>\n",
              "      <td>9.084966</td>\n",
              "      <td>0.001326</td>\n",
              "      <td>1.127291</td>\n",
              "      <td>1.250924</td>\n",
              "      <td>1.118509</td>\n",
              "    </tr>\n",
              "    <tr>\n",
              "      <th>min</th>\n",
              "      <td>10.800000</td>\n",
              "      <td>42.200001</td>\n",
              "      <td>0.006380</td>\n",
              "      <td>11.749994</td>\n",
              "      <td>-5.880168</td>\n",
              "      <td>-3.796548</td>\n",
              "    </tr>\n",
              "    <tr>\n",
              "      <th>25%</th>\n",
              "      <td>20.700001</td>\n",
              "      <td>79.887714</td>\n",
              "      <td>0.010057</td>\n",
              "      <td>14.430894</td>\n",
              "      <td>-2.736363</td>\n",
              "      <td>-1.978961</td>\n",
              "    </tr>\n",
              "    <tr>\n",
              "      <th>50%</th>\n",
              "      <td>24.024831</td>\n",
              "      <td>85.626667</td>\n",
              "      <td>0.011251</td>\n",
              "      <td>15.231058</td>\n",
              "      <td>-1.953043</td>\n",
              "      <td>-1.084154</td>\n",
              "    </tr>\n",
              "    <tr>\n",
              "      <th>75%</th>\n",
              "      <td>27.500000</td>\n",
              "      <td>89.599998</td>\n",
              "      <td>0.011940</td>\n",
              "      <td>15.916383</td>\n",
              "      <td>-1.167893</td>\n",
              "      <td>-0.274010</td>\n",
              "    </tr>\n",
              "    <tr>\n",
              "      <th>max</th>\n",
              "      <td>34.000000</td>\n",
              "      <td>95.769302</td>\n",
              "      <td>0.013284</td>\n",
              "      <td>19.928125</td>\n",
              "      <td>3.478000</td>\n",
              "      <td>1.973149</td>\n",
              "    </tr>\n",
              "  </tbody>\n",
              "</table>\n",
              "</div>"
            ],
            "text/plain": [
              "       precipitable_water_entire_atmosphere  ...  v_component_of_wind_10m_above_ground\n",
              "count                            728.000000  ...                            728.000000\n",
              "mean                              23.977231  ...                             -1.128133\n",
              "std                                4.693146  ...                              1.118509\n",
              "min                               10.800000  ...                             -3.796548\n",
              "25%                               20.700001  ...                             -1.978961\n",
              "50%                               24.024831  ...                             -1.084154\n",
              "75%                               27.500000  ...                             -0.274010\n",
              "max                               34.000000  ...                              1.973149\n",
              "\n",
              "[8 rows x 6 columns]"
            ]
          },
          "metadata": {
            "tags": []
          },
          "execution_count": 51
        }
      ]
    },
    {
      "cell_type": "code",
      "metadata": {
        "id": "WXUiSIX6-4pI",
        "outputId": "e9f778dd-9b0e-4507-b8c8-aae2f27f7398",
        "colab": {
          "base_uri": "https://localhost:8080/"
        }
      },
      "source": [
        "#checking for duplicates\n",
        "#\n",
        "weather_df1.duplicated().sum()"
      ],
      "execution_count": null,
      "outputs": [
        {
          "output_type": "execute_result",
          "data": {
            "text/plain": [
              "0"
            ]
          },
          "metadata": {
            "tags": []
          },
          "execution_count": 52
        }
      ]
    },
    {
      "cell_type": "code",
      "metadata": {
        "id": "h9BBwdbY4V9Q",
        "outputId": "f79c66b2-bf2f-4b5e-b61e-9e76d44c2891",
        "colab": {
          "base_uri": "https://localhost:8080/"
        }
      },
      "source": [
        "#confriming no duplicates\n",
        "weather_df1.duplicated().any()"
      ],
      "execution_count": null,
      "outputs": [
        {
          "output_type": "execute_result",
          "data": {
            "text/plain": [
              "False"
            ]
          },
          "metadata": {
            "tags": []
          },
          "execution_count": 53
        }
      ]
    },
    {
      "cell_type": "code",
      "metadata": {
        "id": "-uETmRQABWjz",
        "outputId": "d1e925d9-0013-4154-fe76-08e1295f3a1c",
        "colab": {
          "base_uri": "https://localhost:8080/"
        }
      },
      "source": [
        "# check for missing values\n",
        "weather_df1.isna().sum()\n"
      ],
      "execution_count": null,
      "outputs": [
        {
          "output_type": "execute_result",
          "data": {
            "text/plain": [
              "Date                                    0\n",
              "precipitable_water_entire_atmosphere    3\n",
              "relative_humidity_2m_above_ground       3\n",
              "specific_humidity_2m_above_ground       3\n",
              "temperature_2m_above_ground             3\n",
              "u_component_of_wind_10m_above_ground    3\n",
              "v_component_of_wind_10m_above_ground    3\n",
              "dtype: int64"
            ]
          },
          "metadata": {
            "tags": []
          },
          "execution_count": 54
        }
      ]
    },
    {
      "cell_type": "code",
      "metadata": {
        "id": "FC_GhnDJ3Njq"
      },
      "source": [
        "#dropping the missing variables\n",
        "weather_df1.dropna(inplace=True)"
      ],
      "execution_count": null,
      "outputs": []
    },
    {
      "cell_type": "code",
      "metadata": {
        "id": "bjgNNWZI5Z6j",
        "outputId": "e0cf14e9-92e8-47bd-873c-4e6d04b49caa",
        "colab": {
          "base_uri": "https://localhost:8080/"
        }
      },
      "source": [
        "#confriming no missing varables\n",
        "#\n",
        "weather_df1.isna().any()"
      ],
      "execution_count": null,
      "outputs": [
        {
          "output_type": "execute_result",
          "data": {
            "text/plain": [
              "Date                                    False\n",
              "precipitable_water_entire_atmosphere    False\n",
              "relative_humidity_2m_above_ground       False\n",
              "specific_humidity_2m_above_ground       False\n",
              "temperature_2m_above_ground             False\n",
              "u_component_of_wind_10m_above_ground    False\n",
              "v_component_of_wind_10m_above_ground    False\n",
              "dtype: bool"
            ]
          },
          "metadata": {
            "tags": []
          },
          "execution_count": 56
        }
      ]
    },
    {
      "cell_type": "code",
      "metadata": {
        "id": "Y4j9VATT1K6t",
        "outputId": "0092cbad-c24d-43e2-a3db-f5763ec0a1e5",
        "colab": {
          "base_uri": "https://localhost:8080/",
          "height": 454
        }
      },
      "source": [
        "# checking for outliers\n",
        "plt.figure(figsize = (20, 8))\n",
        "weather_df1.boxplot()\n",
        "plt.show()\n"
      ],
      "execution_count": null,
      "outputs": [
        {
          "output_type": "display_data",
          "data": {
            "image/png": "[encoded data removed]",
            "text/plain": [
              "<Figure size 1440x576 with 1 Axes>"
            ]
          },
          "metadata": {
            "tags": [],
            "needs_background": "light"
          }
        }
      ]
    },
    {
      "cell_type": "code",
      "metadata": {
        "id": "hvtgPb8I3JAI",
        "outputId": "2dce8e04-e61e-4b68-c569-4cb7053fdb8a",
        "colab": {
          "base_uri": "https://localhost:8080/"
        }
      },
      "source": [
        "# standardizing variable names for readability\n",
        "#\n",
        "weather_df1.columns = weather_df1.columns.str.strip().str.lower().str.replace(' ', '_').str.replace('(', '').str.replace(')', '')\n",
        "weather_df1.columns\n",
        "#\n",
        "#clean dataset= weather_df1"
      ],
      "execution_count": null,
      "outputs": [
        {
          "output_type": "execute_result",
          "data": {
            "text/plain": [
              "Index(['date', 'precipitable_water_entire_atmosphere',\n",
              "       'relative_humidity_2m_above_ground',\n",
              "       'specific_humidity_2m_above_ground', 'temperature_2m_above_ground',\n",
              "       'u_component_of_wind_10m_above_ground',\n",
              "       'v_component_of_wind_10m_above_ground'],\n",
              "      dtype='object')"
            ]
          },
          "metadata": {
            "tags": []
          },
          "execution_count": 59
        }
      ]
    },
    {
      "cell_type": "markdown",
      "metadata": {
        "id": "W9llJVuC8xCr"
      },
      "source": [
        "#####Segments_geometry"
      ]
    },
    {
      "cell_type": "code",
      "metadata": {
        "id": "-_h1cJ-n9bRc",
        "outputId": "1636bcd1-e51a-4676-86b1-31e153ebeb1e",
        "colab": {
          "base_uri": "https://localhost:8080/"
        }
      },
      "source": [
        "Road_segment_df1 = road_segment_df.copy()\n",
        "#\n",
        "# determining the shape of the dataset / by shape we mean size\n",
        "Road_segment_df1.shape"
      ],
      "execution_count": null,
      "outputs": [
        {
          "output_type": "execute_result",
          "data": {
            "text/plain": [
              "(792, 3)"
            ]
          },
          "metadata": {
            "tags": []
          },
          "execution_count": 60
        }
      ]
    },
    {
      "cell_type": "code",
      "metadata": {
        "id": "uVILwLs2CrOz",
        "outputId": "9e4a6299-1994-4c88-96ed-e641a049b595",
        "colab": {
          "base_uri": "https://localhost:8080/"
        }
      },
      "source": [
        "#checking for duplicates\n",
        "#\n",
        "Road_segment_df1.duplicated(). any()"
      ],
      "execution_count": null,
      "outputs": [
        {
          "output_type": "execute_result",
          "data": {
            "text/plain": [
              "False"
            ]
          },
          "metadata": {
            "tags": []
          },
          "execution_count": 61
        }
      ]
    },
    {
      "cell_type": "code",
      "metadata": {
        "id": "RZVlYWWTDnja",
        "outputId": "9112dc8a-a0e4-4c77-aa7b-31e6d8a4f3e8",
        "colab": {
          "base_uri": "https://localhost:8080/"
        }
      },
      "source": [
        "# check for missing values\n",
        "Road_segment_df1.isna().sum()"
      ],
      "execution_count": null,
      "outputs": [
        {
          "output_type": "execute_result",
          "data": {
            "text/plain": [
              "segment_id    0\n",
              "road_name     0\n",
              "geometry      0\n",
              "dtype: int64"
            ]
          },
          "metadata": {
            "tags": []
          },
          "execution_count": 133
        }
      ]
    },
    {
      "cell_type": "code",
      "metadata": {
        "id": "FgKrSxJxDdM5",
        "outputId": "af425eeb-edeb-44f5-a3d7-4d9b029e9f4b",
        "colab": {
          "base_uri": "https://localhost:8080/"
        }
      },
      "source": [
        "# standardizing variable names for readability\n",
        "#\n",
        "Road_segment_df1.columns = Road_segment_df1.columns.str.strip().str.lower().str.replace(' ', '_').str.replace('(', '').str.replace(')', '')\n",
        "Road_segment_df1.columns\n",
        "# clean dataset= Road_segment_df1"
      ],
      "execution_count": null,
      "outputs": [
        {
          "output_type": "execute_result",
          "data": {
            "text/plain": [
              "Index(['segment_id', 'road_name', 'geometry'], dtype='object')"
            ]
          },
          "metadata": {
            "tags": []
          },
          "execution_count": 63
        }
      ]
    },
    {
      "cell_type": "markdown",
      "metadata": {
        "id": "f7GaMpYWFc8i"
      },
      "source": [
        "#####Nairobi.geojson"
      ]
    },
    {
      "cell_type": "markdown",
      "metadata": {
        "id": "PvG8WCS4GKe7"
      },
      "source": [
        "The data was found from this link:[link](https://github.com/mikelmaron/kenya-election-data/blob/master/data/wards.geojson) and the code used to narrow the data is cell bellow.\n",
        "\n",
        "\n"
      ]
    },
    {
      "cell_type": "code",
      "metadata": {
        "id": "SV8Hn-bYFvuA"
      },
      "source": [
        "\n",
        "#Code used for the cleaning of the geojson dataset\n",
        "#\n",
        "#import json\n",
        "#with open('wards.geojson', 'r') as r:\n",
        "#\twad = json.load(r)\n",
        "#new = {}\n",
        "#new['features'] = []\n",
        "#for a in range (0, len (wad['features'])):\n",
        "#\tif wad['features'][a]['properties']['COUNTY_NAM'] == 'NAIROBI':\n",
        "#\t\tnew['features'].append(wad['features'][a])\n",
        "#\t\tb += 1\n",
        "#new ['type'] = wad['type']\n",
        "#with open('nai.geojson' , 'w') as f:\n",
        "\n",
        "#json.dump(new , f)"
      ],
      "execution_count": null,
      "outputs": []
    },
    {
      "cell_type": "markdown",
      "metadata": {
        "id": "qylS9KHsHbwI"
      },
      "source": [
        "This resulted in the elimination of all the othe wards in the dataset but the ones in the Nairobi county. Due to the size of the linked dataset this had to be done on a local computer hence the inactive nature of the block of code."
      ]
    },
    {
      "cell_type": "code",
      "metadata": {
        "id": "4reUnPqWDPCS",
        "outputId": "64b411d1-0be2-46f9-a200-06acdae90bf6",
        "colab": {
          "base_uri": "https://localhost:8080/",
          "height": 551
        }
      },
      "source": [
        "#previwing the dataset\n",
        "#\n",
        "Nairobi_df1= Nairobi_df.copy()\n",
        "#\n",
        "Nairobi_df1.head()"
      ],
      "execution_count": null,
      "outputs": [
        {
          "output_type": "execute_result",
          "data": {
            "text/html": [
              "<div>\n",
              "<style scoped>\n",
              "    .dataframe tbody tr th:only-of-type {\n",
              "        vertical-align: middle;\n",
              "    }\n",
              "\n",
              "    .dataframe tbody tr th {\n",
              "        vertical-align: top;\n",
              "    }\n",
              "\n",
              "    .dataframe thead th {\n",
              "        text-align: right;\n",
              "    }\n",
              "</style>\n",
              "<table border=\"1\" class=\"dataframe\">\n",
              "  <thead>\n",
              "    <tr style=\"text-align: right;\">\n",
              "      <th></th>\n",
              "      <th>CONST_CODE</th>\n",
              "      <th>Shape_Area</th>\n",
              "      <th>OBJECTID_1</th>\n",
              "      <th>OBJECTID</th>\n",
              "      <th>CONSTITUEN</th>\n",
              "      <th>COUNTY_ASS</th>\n",
              "      <th>COUNTY_A_1</th>\n",
              "      <th>COUNTY_COD</th>\n",
              "      <th>Shape_Leng</th>\n",
              "      <th>COUNTY_NAM</th>\n",
              "      <th>Shape_Le_1</th>\n",
              "      <th>geometry</th>\n",
              "    </tr>\n",
              "  </thead>\n",
              "  <tbody>\n",
              "    <tr>\n",
              "      <th>0</th>\n",
              "      <td>274</td>\n",
              "      <td>0.001689</td>\n",
              "      <td>15</td>\n",
              "      <td>26</td>\n",
              "      <td>WESTLANDS</td>\n",
              "      <td>1366</td>\n",
              "      <td>KITISURU</td>\n",
              "      <td>47</td>\n",
              "      <td>0.227746</td>\n",
              "      <td>NAIROBI</td>\n",
              "      <td>0.227746</td>\n",
              "      <td>POLYGON ((36.75539 -1.22385, 36.75555 -1.22430...</td>\n",
              "    </tr>\n",
              "    <tr>\n",
              "      <th>1</th>\n",
              "      <td>274</td>\n",
              "      <td>0.000677</td>\n",
              "      <td>27</td>\n",
              "      <td>51</td>\n",
              "      <td>WESTLANDS</td>\n",
              "      <td>1367</td>\n",
              "      <td>PARKLANDS/HIGHRIDGE</td>\n",
              "      <td>47</td>\n",
              "      <td>0.133992</td>\n",
              "      <td>NAIROBI</td>\n",
              "      <td>0.133992</td>\n",
              "      <td>POLYGON ((36.78228 -1.24589, 36.78272 -1.24590...</td>\n",
              "    </tr>\n",
              "    <tr>\n",
              "      <th>2</th>\n",
              "      <td>274</td>\n",
              "      <td>0.003176</td>\n",
              "      <td>1</td>\n",
              "      <td>2</td>\n",
              "      <td>WESTLANDS</td>\n",
              "      <td>1368</td>\n",
              "      <td>KARURA</td>\n",
              "      <td>47</td>\n",
              "      <td>0.309800</td>\n",
              "      <td>NAIROBI</td>\n",
              "      <td>0.309800</td>\n",
              "      <td>POLYGON ((36.81628 -1.20259, 36.81897 -1.20408...</td>\n",
              "    </tr>\n",
              "    <tr>\n",
              "      <th>3</th>\n",
              "      <td>274</td>\n",
              "      <td>0.000111</td>\n",
              "      <td>42</td>\n",
              "      <td>72</td>\n",
              "      <td>WESTLANDS</td>\n",
              "      <td>1369</td>\n",
              "      <td>KANGEMI</td>\n",
              "      <td>47</td>\n",
              "      <td>0.062512</td>\n",
              "      <td>NAIROBI</td>\n",
              "      <td>0.062512</td>\n",
              "      <td>POLYGON ((36.75282 -1.26165, 36.75336 -1.26240...</td>\n",
              "    </tr>\n",
              "    <tr>\n",
              "      <th>4</th>\n",
              "      <td>274</td>\n",
              "      <td>0.000256</td>\n",
              "      <td>5</td>\n",
              "      <td>8</td>\n",
              "      <td>WESTLANDS</td>\n",
              "      <td>1370</td>\n",
              "      <td>MOUNTAIN VIEW</td>\n",
              "      <td>47</td>\n",
              "      <td>0.076896</td>\n",
              "      <td>NAIROBI</td>\n",
              "      <td>0.076896</td>\n",
              "      <td>POLYGON ((36.74116 -1.26564, 36.74390 -1.26617...</td>\n",
              "    </tr>\n",
              "  </tbody>\n",
              "</table>\n",
              "</div>"
            ],
            "text/plain": [
              "   CONST_CODE  ...                                           geometry\n",
              "0         274  ...  POLYGON ((36.75539 -1.22385, 36.75555 -1.22430...\n",
              "1         274  ...  POLYGON ((36.78228 -1.24589, 36.78272 -1.24590...\n",
              "2         274  ...  POLYGON ((36.81628 -1.20259, 36.81897 -1.20408...\n",
              "3         274  ...  POLYGON ((36.75282 -1.26165, 36.75336 -1.26240...\n",
              "4         274  ...  POLYGON ((36.74116 -1.26564, 36.74390 -1.26617...\n",
              "\n",
              "[5 rows x 12 columns]"
            ]
          },
          "metadata": {
            "tags": []
          },
          "execution_count": 64
        }
      ]
    },
    {
      "cell_type": "code",
      "metadata": {
        "id": "7LeapWPJD7hp"
      },
      "source": [
        "#dropping unnessery variable\n",
        "#\n",
        "Nairobi_df2=Nairobi_df1 .drop (columns = ['CONST_CODE' ,\t'Shape_Area' , 'OBJECTID_1' ,\t'OBJECTID','COUNTY_ASS', 'COUNTY_COD', 'Shape_Leng','Shape_Le_1'])"
      ],
      "execution_count": null,
      "outputs": []
    },
    {
      "cell_type": "code",
      "metadata": {
        "id": "8A7q-d5eEXqr",
        "outputId": "65c58581-b117-4b88-b3b0-c84c2bdb30c4",
        "colab": {
          "base_uri": "https://localhost:8080/"
        }
      },
      "source": [
        "#confirmimg colunms drop\n",
        "Nairobi_df2.columns"
      ],
      "execution_count": null,
      "outputs": [
        {
          "output_type": "execute_result",
          "data": {
            "text/plain": [
              "Index(['CONSTITUEN', 'COUNTY_A_1', 'COUNTY_NAM', 'geometry'], dtype='object')"
            ]
          },
          "metadata": {
            "tags": []
          },
          "execution_count": 66
        }
      ]
    },
    {
      "cell_type": "code",
      "metadata": {
        "id": "-6LjUjEJFP8s",
        "outputId": "476f3443-d149-460c-bd18-cb23d9bd0669",
        "colab": {
          "base_uri": "https://localhost:8080/"
        }
      },
      "source": [
        "# standardizing variable names for readability\n",
        "#\n",
        "Nairobi_df2.columns = Nairobi_df2.columns.str.strip().str.lower().str.replace(' ', '_').str.replace('(', '').str.replace(')', '')\n",
        "Nairobi_df2.columns"
      ],
      "execution_count": null,
      "outputs": [
        {
          "output_type": "execute_result",
          "data": {
            "text/plain": [
              "Index(['constituen', 'county_a_1', 'county_nam', 'geometry'], dtype='object')"
            ]
          },
          "metadata": {
            "tags": []
          },
          "execution_count": 67
        }
      ]
    },
    {
      "cell_type": "code",
      "metadata": {
        "id": "GRc2n-cjwdbh"
      },
      "source": [
        "Nairobi_df2.columns = ['Constituency', 'Ward', 'County Name', 'geometry']"
      ],
      "execution_count": null,
      "outputs": []
    },
    {
      "cell_type": "markdown",
      "metadata": {
        "id": "4LROcPKxzgm0"
      },
      "source": [
        "##Data Merging"
      ]
    },
    {
      "cell_type": "markdown",
      "metadata": {
        "id": "chMLmgkOzvi3"
      },
      "source": [
        "###Geodata and accident data"
      ]
    },
    {
      "cell_type": "code",
      "metadata": {
        "id": "4Xhz7w55Gypo"
      },
      "source": [
        "#creating more variable\n",
        "#\n",
        "Nairobi_df2['accidents_count'] = ''"
      ],
      "execution_count": null,
      "outputs": []
    },
    {
      "cell_type": "code",
      "metadata": {
        "id": "zOIvepKuE6h4"
      },
      "source": [
        "for n , row in Nairobi_df2.iterrows():\n",
        "  if (n == 39):\n",
        "    continue\n",
        "  po = Polygon(Nairobi_df2.iloc[n, 3])\n",
        "  acounts = 0\n",
        "  for h , row in Train_df1.iterrows():\n",
        "   pos = Point(row['longitude'], row ['latitude'])\n",
        "   if pos.within(po) == True:\n",
        "      acounts +=1\n",
        "  Nairobi_df2.loc[n , 'accidents_count'] = acounts"
      ],
      "execution_count": null,
      "outputs": []
    },
    {
      "cell_type": "code",
      "metadata": {
        "id": "0pl0b4VfPb2C",
        "outputId": "d4ba9cc7-6910-42af-8ac9-b199107753d1",
        "colab": {
          "base_uri": "https://localhost:8080/"
        }
      },
      "source": [
        "Nairobi_df2.iloc[39]"
      ],
      "execution_count": null,
      "outputs": [
        {
          "output_type": "execute_result",
          "data": {
            "text/plain": [
              "Constituency                                                 RUARAKA\n",
              "Ward                                                       KOROGOCHO\n",
              "County Name                                                  NAIROBI\n",
              "geometry           (POLYGON ((36.88901641400003 -1.24371908099993...\n",
              "accidents_count                                                     \n",
              "Name: 39, dtype: object"
            ]
          },
          "metadata": {
            "tags": []
          },
          "execution_count": 73
        }
      ]
    },
    {
      "cell_type": "code",
      "metadata": {
        "id": "I__rb4JTIf-Q",
        "outputId": "e00fb22f-4fba-4080-ea07-9e56479d7291",
        "colab": {
          "base_uri": "https://localhost:8080/",
          "height": 406
        }
      },
      "source": [
        "Nairobi_df2"
      ],
      "execution_count": null,
      "outputs": [
        {
          "output_type": "execute_result",
          "data": {
            "text/html": [
              "<div>\n",
              "<style scoped>\n",
              "    .dataframe tbody tr th:only-of-type {\n",
              "        vertical-align: middle;\n",
              "    }\n",
              "\n",
              "    .dataframe tbody tr th {\n",
              "        vertical-align: top;\n",
              "    }\n",
              "\n",
              "    .dataframe thead th {\n",
              "        text-align: right;\n",
              "    }\n",
              "</style>\n",
              "<table border=\"1\" class=\"dataframe\">\n",
              "  <thead>\n",
              "    <tr style=\"text-align: right;\">\n",
              "      <th></th>\n",
              "      <th>Constituency</th>\n",
              "      <th>Ward</th>\n",
              "      <th>County Name</th>\n",
              "      <th>geometry</th>\n",
              "      <th>accidents_count</th>\n",
              "    </tr>\n",
              "  </thead>\n",
              "  <tbody>\n",
              "    <tr>\n",
              "      <th>0</th>\n",
              "      <td>WESTLANDS</td>\n",
              "      <td>KITISURU</td>\n",
              "      <td>NAIROBI</td>\n",
              "      <td>POLYGON ((36.75539 -1.22385, 36.75555 -1.22430...</td>\n",
              "      <td>50</td>\n",
              "    </tr>\n",
              "    <tr>\n",
              "      <th>1</th>\n",
              "      <td>WESTLANDS</td>\n",
              "      <td>PARKLANDS/HIGHRIDGE</td>\n",
              "      <td>NAIROBI</td>\n",
              "      <td>POLYGON ((36.78228 -1.24589, 36.78272 -1.24590...</td>\n",
              "      <td>43</td>\n",
              "    </tr>\n",
              "    <tr>\n",
              "      <th>2</th>\n",
              "      <td>WESTLANDS</td>\n",
              "      <td>KARURA</td>\n",
              "      <td>NAIROBI</td>\n",
              "      <td>POLYGON ((36.81628 -1.20259, 36.81897 -1.20408...</td>\n",
              "      <td>105</td>\n",
              "    </tr>\n",
              "    <tr>\n",
              "      <th>3</th>\n",
              "      <td>WESTLANDS</td>\n",
              "      <td>KANGEMI</td>\n",
              "      <td>NAIROBI</td>\n",
              "      <td>POLYGON ((36.75282 -1.26165, 36.75336 -1.26240...</td>\n",
              "      <td>128</td>\n",
              "    </tr>\n",
              "    <tr>\n",
              "      <th>4</th>\n",
              "      <td>WESTLANDS</td>\n",
              "      <td>MOUNTAIN VIEW</td>\n",
              "      <td>NAIROBI</td>\n",
              "      <td>POLYGON ((36.74116 -1.26564, 36.74390 -1.26617...</td>\n",
              "      <td>66</td>\n",
              "    </tr>\n",
              "    <tr>\n",
              "      <th>...</th>\n",
              "      <td>...</td>\n",
              "      <td>...</td>\n",
              "      <td>...</td>\n",
              "      <td>...</td>\n",
              "      <td>...</td>\n",
              "    </tr>\n",
              "    <tr>\n",
              "      <th>79</th>\n",
              "      <td>MATHARE</td>\n",
              "      <td>HOSPITAL</td>\n",
              "      <td>NAIROBI</td>\n",
              "      <td>POLYGON ((36.85506 -1.26007, 36.85554 -1.26055...</td>\n",
              "      <td>155</td>\n",
              "    </tr>\n",
              "    <tr>\n",
              "      <th>80</th>\n",
              "      <td>MATHARE</td>\n",
              "      <td>MABATINI</td>\n",
              "      <td>NAIROBI</td>\n",
              "      <td>POLYGON ((36.85922 -1.26214, 36.85902 -1.26227...</td>\n",
              "      <td>1</td>\n",
              "    </tr>\n",
              "    <tr>\n",
              "      <th>81</th>\n",
              "      <td>MATHARE</td>\n",
              "      <td>HURUMA</td>\n",
              "      <td>NAIROBI</td>\n",
              "      <td>POLYGON ((36.87303 -1.25046, 36.87480 -1.25445...</td>\n",
              "      <td>2</td>\n",
              "    </tr>\n",
              "    <tr>\n",
              "      <th>82</th>\n",
              "      <td>MATHARE</td>\n",
              "      <td>MLANGO KUBWA</td>\n",
              "      <td>NAIROBI</td>\n",
              "      <td>POLYGON ((36.84620 -1.26098, 36.84628 -1.26107...</td>\n",
              "      <td>2</td>\n",
              "    </tr>\n",
              "    <tr>\n",
              "      <th>83</th>\n",
              "      <td>MATHARE</td>\n",
              "      <td>KIAMAIKO</td>\n",
              "      <td>NAIROBI</td>\n",
              "      <td>POLYGON ((36.87527 -1.25998, 36.87518 -1.25998...</td>\n",
              "      <td>0</td>\n",
              "    </tr>\n",
              "  </tbody>\n",
              "</table>\n",
              "<p>84 rows × 5 columns</p>\n",
              "</div>"
            ],
            "text/plain": [
              "   Constituency  ... accidents_count\n",
              "0     WESTLANDS  ...              50\n",
              "1     WESTLANDS  ...              43\n",
              "2     WESTLANDS  ...             105\n",
              "3     WESTLANDS  ...             128\n",
              "4     WESTLANDS  ...              66\n",
              "..          ...  ...             ...\n",
              "79      MATHARE  ...             155\n",
              "80      MATHARE  ...               1\n",
              "81      MATHARE  ...               2\n",
              "82      MATHARE  ...               2\n",
              "83      MATHARE  ...               0\n",
              "\n",
              "[84 rows x 5 columns]"
            ]
          },
          "metadata": {
            "tags": []
          },
          "execution_count": 74
        }
      ]
    },
    {
      "cell_type": "markdown",
      "metadata": {
        "id": "QU4-5A2qz_uF"
      },
      "source": [
        "###Accident data and the weather data"
      ]
    },
    {
      "cell_type": "code",
      "metadata": {
        "id": "Yg4QaMmtz-aY",
        "outputId": "823fd263-1760-4e35-ecce-b733b157e3b3",
        "colab": {
          "base_uri": "https://localhost:8080/"
        }
      },
      "source": [
        "Train_df1.columns"
      ],
      "execution_count": null,
      "outputs": [
        {
          "output_type": "execute_result",
          "data": {
            "text/plain": [
              "Index(['uid', 'latitude', 'longitude', 'Date', 'Time'], dtype='object')"
            ]
          },
          "metadata": {
            "tags": []
          },
          "execution_count": 75
        }
      ]
    },
    {
      "cell_type": "code",
      "metadata": {
        "id": "YNUPBbRN0gpW",
        "outputId": "2b4b3fab-7466-4ea1-d6aa-2e4fd15e3b79",
        "colab": {
          "base_uri": "https://localhost:8080/"
        }
      },
      "source": [
        "weather_df1.columns"
      ],
      "execution_count": null,
      "outputs": [
        {
          "output_type": "execute_result",
          "data": {
            "text/plain": [
              "Index(['date', 'precipitable_water_entire_atmosphere',\n",
              "       'relative_humidity_2m_above_ground',\n",
              "       'specific_humidity_2m_above_ground', 'temperature_2m_above_ground',\n",
              "       'u_component_of_wind_10m_above_ground',\n",
              "       'v_component_of_wind_10m_above_ground'],\n",
              "      dtype='object')"
            ]
          },
          "metadata": {
            "tags": []
          },
          "execution_count": 76
        }
      ]
    },
    {
      "cell_type": "code",
      "metadata": {
        "id": "28SIrIsH2l_D",
        "outputId": "a9b80481-d814-4b7d-9351-4a3fbd504adf",
        "colab": {
          "base_uri": "https://localhost:8080/",
          "height": 207
        }
      },
      "source": [
        "weather_df1.head(3)"
      ],
      "execution_count": null,
      "outputs": [
        {
          "output_type": "execute_result",
          "data": {
            "text/html": [
              "<div>\n",
              "<style scoped>\n",
              "    .dataframe tbody tr th:only-of-type {\n",
              "        vertical-align: middle;\n",
              "    }\n",
              "\n",
              "    .dataframe tbody tr th {\n",
              "        vertical-align: top;\n",
              "    }\n",
              "\n",
              "    .dataframe thead th {\n",
              "        text-align: right;\n",
              "    }\n",
              "</style>\n",
              "<table border=\"1\" class=\"dataframe\">\n",
              "  <thead>\n",
              "    <tr style=\"text-align: right;\">\n",
              "      <th></th>\n",
              "      <th>date</th>\n",
              "      <th>precipitable_water_entire_atmosphere</th>\n",
              "      <th>relative_humidity_2m_above_ground</th>\n",
              "      <th>specific_humidity_2m_above_ground</th>\n",
              "      <th>temperature_2m_above_ground</th>\n",
              "      <th>u_component_of_wind_10m_above_ground</th>\n",
              "      <th>v_component_of_wind_10m_above_ground</th>\n",
              "    </tr>\n",
              "  </thead>\n",
              "  <tbody>\n",
              "    <tr>\n",
              "      <th>0</th>\n",
              "      <td>2018-01-01</td>\n",
              "      <td>24.100000</td>\n",
              "      <td>72.700005</td>\n",
              "      <td>0.009560</td>\n",
              "      <td>15.161493</td>\n",
              "      <td>-0.012186</td>\n",
              "      <td>-0.933914</td>\n",
              "    </tr>\n",
              "    <tr>\n",
              "      <th>1</th>\n",
              "      <td>2018-01-02</td>\n",
              "      <td>27.362288</td>\n",
              "      <td>74.900002</td>\n",
              "      <td>0.010463</td>\n",
              "      <td>16.047998</td>\n",
              "      <td>0.314543</td>\n",
              "      <td>-0.485459</td>\n",
              "    </tr>\n",
              "    <tr>\n",
              "      <th>2</th>\n",
              "      <td>2018-01-03</td>\n",
              "      <td>30.246618</td>\n",
              "      <td>86.599998</td>\n",
              "      <td>0.011930</td>\n",
              "      <td>15.838525</td>\n",
              "      <td>-0.282732</td>\n",
              "      <td>-0.653965</td>\n",
              "    </tr>\n",
              "  </tbody>\n",
              "</table>\n",
              "</div>"
            ],
            "text/plain": [
              "         date  ...  v_component_of_wind_10m_above_ground\n",
              "0  2018-01-01  ...                             -0.933914\n",
              "1  2018-01-02  ...                             -0.485459\n",
              "2  2018-01-03  ...                             -0.653965\n",
              "\n",
              "[3 rows x 7 columns]"
            ]
          },
          "metadata": {
            "tags": []
          },
          "execution_count": 77
        }
      ]
    },
    {
      "cell_type": "code",
      "metadata": {
        "id": "mUKM9PEH1Ikg",
        "outputId": "b9b45600-2e03-44fe-a806-a499cf09096b",
        "colab": {
          "base_uri": "https://localhost:8080/",
          "height": 167
        }
      },
      "source": [
        "#dropping unnessary colunms on Train_df1 dataset\n",
        "Train_df3 = Train_df1.copy()\n",
        "Train_df3['Count'] = 1\n",
        "Train_df3 = Train_df3.groupby(['Date']).sum()\n",
        "Train_df3.drop(columns = ['uid' , 'latitude' , 'longitude' ], inplace = True)\n",
        "Train_df3['d'] = ''\n",
        "for e , row in Train_df3.iterrows():\n",
        "  Train_df3.loc[e , 'd'] = e.strftime('%Y-%m-%d')\n",
        "\n",
        "Train_df3.head(3)"
      ],
      "execution_count": null,
      "outputs": [
        {
          "output_type": "execute_result",
          "data": {
            "text/html": [
              "<div>\n",
              "<style scoped>\n",
              "    .dataframe tbody tr th:only-of-type {\n",
              "        vertical-align: middle;\n",
              "    }\n",
              "\n",
              "    .dataframe tbody tr th {\n",
              "        vertical-align: top;\n",
              "    }\n",
              "\n",
              "    .dataframe thead th {\n",
              "        text-align: right;\n",
              "    }\n",
              "</style>\n",
              "<table border=\"1\" class=\"dataframe\">\n",
              "  <thead>\n",
              "    <tr style=\"text-align: right;\">\n",
              "      <th></th>\n",
              "      <th>Count</th>\n",
              "      <th>d</th>\n",
              "    </tr>\n",
              "    <tr>\n",
              "      <th>Date</th>\n",
              "      <th></th>\n",
              "      <th></th>\n",
              "    </tr>\n",
              "  </thead>\n",
              "  <tbody>\n",
              "    <tr>\n",
              "      <th>2018-01-01</th>\n",
              "      <td>13</td>\n",
              "      <td>2018-01-01</td>\n",
              "    </tr>\n",
              "    <tr>\n",
              "      <th>2018-01-02</th>\n",
              "      <td>27</td>\n",
              "      <td>2018-01-02</td>\n",
              "    </tr>\n",
              "    <tr>\n",
              "      <th>2018-01-03</th>\n",
              "      <td>43</td>\n",
              "      <td>2018-01-03</td>\n",
              "    </tr>\n",
              "  </tbody>\n",
              "</table>\n",
              "</div>"
            ],
            "text/plain": [
              "            Count           d\n",
              "Date                         \n",
              "2018-01-01     13  2018-01-01\n",
              "2018-01-02     27  2018-01-02\n",
              "2018-01-03     43  2018-01-03"
            ]
          },
          "metadata": {
            "tags": []
          },
          "execution_count": 108
        }
      ]
    },
    {
      "cell_type": "code",
      "metadata": {
        "id": "MPUMVtJS1r-W",
        "outputId": "001c3733-fa9d-4729-ff21-4d3e74532504",
        "colab": {
          "base_uri": "https://localhost:8080/",
          "height": 593
        }
      },
      "source": [
        "weather_df3 = pd.merge(weather_df1 , Train_df3, left_on='date', right_on = 'd')\n",
        "weather_df3.drop(columns= ['d'], inplace= True)\n",
        "weather_df3"
      ],
      "execution_count": null,
      "outputs": [
        {
          "output_type": "execute_result",
          "data": {
            "text/html": [
              "<div>\n",
              "<style scoped>\n",
              "    .dataframe tbody tr th:only-of-type {\n",
              "        vertical-align: middle;\n",
              "    }\n",
              "\n",
              "    .dataframe tbody tr th {\n",
              "        vertical-align: top;\n",
              "    }\n",
              "\n",
              "    .dataframe thead th {\n",
              "        text-align: right;\n",
              "    }\n",
              "</style>\n",
              "<table border=\"1\" class=\"dataframe\">\n",
              "  <thead>\n",
              "    <tr style=\"text-align: right;\">\n",
              "      <th></th>\n",
              "      <th>date</th>\n",
              "      <th>precipitable_water_entire_atmosphere</th>\n",
              "      <th>relative_humidity_2m_above_ground</th>\n",
              "      <th>specific_humidity_2m_above_ground</th>\n",
              "      <th>temperature_2m_above_ground</th>\n",
              "      <th>u_component_of_wind_10m_above_ground</th>\n",
              "      <th>v_component_of_wind_10m_above_ground</th>\n",
              "      <th>Count</th>\n",
              "    </tr>\n",
              "  </thead>\n",
              "  <tbody>\n",
              "    <tr>\n",
              "      <th>0</th>\n",
              "      <td>2018-01-01</td>\n",
              "      <td>24.100000</td>\n",
              "      <td>72.700005</td>\n",
              "      <td>0.009560</td>\n",
              "      <td>15.161493</td>\n",
              "      <td>-0.012186</td>\n",
              "      <td>-0.933914</td>\n",
              "      <td>13</td>\n",
              "    </tr>\n",
              "    <tr>\n",
              "      <th>1</th>\n",
              "      <td>2018-01-02</td>\n",
              "      <td>27.362288</td>\n",
              "      <td>74.900002</td>\n",
              "      <td>0.010463</td>\n",
              "      <td>16.047998</td>\n",
              "      <td>0.314543</td>\n",
              "      <td>-0.485459</td>\n",
              "      <td>27</td>\n",
              "    </tr>\n",
              "    <tr>\n",
              "      <th>2</th>\n",
              "      <td>2018-01-03</td>\n",
              "      <td>30.246618</td>\n",
              "      <td>86.599998</td>\n",
              "      <td>0.011930</td>\n",
              "      <td>15.838525</td>\n",
              "      <td>-0.282732</td>\n",
              "      <td>-0.653965</td>\n",
              "      <td>43</td>\n",
              "    </tr>\n",
              "    <tr>\n",
              "      <th>3</th>\n",
              "      <td>2018-01-04</td>\n",
              "      <td>33.010689</td>\n",
              "      <td>90.900002</td>\n",
              "      <td>0.012780</td>\n",
              "      <td>16.169244</td>\n",
              "      <td>0.211572</td>\n",
              "      <td>0.908123</td>\n",
              "      <td>13</td>\n",
              "    </tr>\n",
              "    <tr>\n",
              "      <th>4</th>\n",
              "      <td>2018-01-05</td>\n",
              "      <td>27.250372</td>\n",
              "      <td>82.413353</td>\n",
              "      <td>0.011392</td>\n",
              "      <td>15.923456</td>\n",
              "      <td>1.047275</td>\n",
              "      <td>-0.037742</td>\n",
              "      <td>13</td>\n",
              "    </tr>\n",
              "    <tr>\n",
              "      <th>...</th>\n",
              "      <td>...</td>\n",
              "      <td>...</td>\n",
              "      <td>...</td>\n",
              "      <td>...</td>\n",
              "      <td>...</td>\n",
              "      <td>...</td>\n",
              "      <td>...</td>\n",
              "      <td>...</td>\n",
              "    </tr>\n",
              "    <tr>\n",
              "      <th>530</th>\n",
              "      <td>2019-06-26</td>\n",
              "      <td>28.200001</td>\n",
              "      <td>92.099998</td>\n",
              "      <td>0.011970</td>\n",
              "      <td>15.086481</td>\n",
              "      <td>-1.306418</td>\n",
              "      <td>-0.331704</td>\n",
              "      <td>9</td>\n",
              "    </tr>\n",
              "    <tr>\n",
              "      <th>531</th>\n",
              "      <td>2019-06-27</td>\n",
              "      <td>24.800001</td>\n",
              "      <td>84.599998</td>\n",
              "      <td>0.010920</td>\n",
              "      <td>14.989557</td>\n",
              "      <td>-0.342876</td>\n",
              "      <td>0.512307</td>\n",
              "      <td>13</td>\n",
              "    </tr>\n",
              "    <tr>\n",
              "      <th>532</th>\n",
              "      <td>2019-06-28</td>\n",
              "      <td>24.500000</td>\n",
              "      <td>90.400002</td>\n",
              "      <td>0.010780</td>\n",
              "      <td>13.693811</td>\n",
              "      <td>-0.041965</td>\n",
              "      <td>0.187388</td>\n",
              "      <td>9</td>\n",
              "    </tr>\n",
              "    <tr>\n",
              "      <th>533</th>\n",
              "      <td>2019-06-29</td>\n",
              "      <td>23.600000</td>\n",
              "      <td>87.400002</td>\n",
              "      <td>0.010870</td>\n",
              "      <td>14.340265</td>\n",
              "      <td>-0.090295</td>\n",
              "      <td>-0.085813</td>\n",
              "      <td>12</td>\n",
              "    </tr>\n",
              "    <tr>\n",
              "      <th>534</th>\n",
              "      <td>2019-06-30</td>\n",
              "      <td>21.200001</td>\n",
              "      <td>82.400002</td>\n",
              "      <td>0.009969</td>\n",
              "      <td>14.003229</td>\n",
              "      <td>0.100334</td>\n",
              "      <td>0.375518</td>\n",
              "      <td>4</td>\n",
              "    </tr>\n",
              "  </tbody>\n",
              "</table>\n",
              "<p>535 rows × 8 columns</p>\n",
              "</div>"
            ],
            "text/plain": [
              "           date  ...  Count\n",
              "0    2018-01-01  ...     13\n",
              "1    2018-01-02  ...     27\n",
              "2    2018-01-03  ...     43\n",
              "3    2018-01-04  ...     13\n",
              "4    2018-01-05  ...     13\n",
              "..          ...  ...    ...\n",
              "530  2019-06-26  ...      9\n",
              "531  2019-06-27  ...     13\n",
              "532  2019-06-28  ...      9\n",
              "533  2019-06-29  ...     12\n",
              "534  2019-06-30  ...      4\n",
              "\n",
              "[535 rows x 8 columns]"
            ]
          },
          "metadata": {
            "tags": []
          },
          "execution_count": 109
        }
      ]
    },
    {
      "cell_type": "code",
      "metadata": {
        "id": "FaKc1mb6-ENn",
        "outputId": "7373c2eb-e0c9-4dc3-8fa4-64151fc7825c",
        "colab": {
          "base_uri": "https://localhost:8080/"
        }
      },
      "source": [
        "weather_df3.shape"
      ],
      "execution_count": null,
      "outputs": [
        {
          "output_type": "execute_result",
          "data": {
            "text/plain": [
              "(535, 8)"
            ]
          },
          "metadata": {
            "tags": []
          },
          "execution_count": 110
        }
      ]
    },
    {
      "cell_type": "markdown",
      "metadata": {
        "id": "SrE-dIls-AMi"
      },
      "source": [
        ""
      ]
    },
    {
      "cell_type": "markdown",
      "metadata": {
        "id": "7HPTx3X8eN3M"
      },
      "source": [
        "#DATA ANALYSIS"
      ]
    },
    {
      "cell_type": "markdown",
      "metadata": {
        "id": "KqbZQWx6Hvjn"
      },
      "source": [
        "#Hypothesis testing"
      ]
    },
    {
      "cell_type": "markdown",
      "metadata": {
        "id": "kFIMOXKUIMt1"
      },
      "source": [
        "* weather affects occurence of accidents\n",
        "* Equal distribution of accidents per county"
      ]
    },
    {
      "cell_type": "code",
      "metadata": {
        "id": "0ErVGRrVMG2a",
        "outputId": "fe36c3ec-40f9-4ecf-9419-5247745b0731",
        "colab": {
          "base_uri": "https://localhost:8080/",
          "height": 137
        }
      },
      "source": [
        "Train_df1.head(3)"
      ],
      "execution_count": null,
      "outputs": [
        {
          "output_type": "execute_result",
          "data": {
            "text/html": [
              "<div>\n",
              "<style scoped>\n",
              "    .dataframe tbody tr th:only-of-type {\n",
              "        vertical-align: middle;\n",
              "    }\n",
              "\n",
              "    .dataframe tbody tr th {\n",
              "        vertical-align: top;\n",
              "    }\n",
              "\n",
              "    .dataframe thead th {\n",
              "        text-align: right;\n",
              "    }\n",
              "</style>\n",
              "<table border=\"1\" class=\"dataframe\">\n",
              "  <thead>\n",
              "    <tr style=\"text-align: right;\">\n",
              "      <th></th>\n",
              "      <th>uid</th>\n",
              "      <th>latitude</th>\n",
              "      <th>longitude</th>\n",
              "      <th>Date</th>\n",
              "      <th>Time</th>\n",
              "    </tr>\n",
              "  </thead>\n",
              "  <tbody>\n",
              "    <tr>\n",
              "      <th>0</th>\n",
              "      <td>1</td>\n",
              "      <td>-1.188850</td>\n",
              "      <td>36.931382</td>\n",
              "      <td>2018-01-01</td>\n",
              "      <td>00:25:46</td>\n",
              "    </tr>\n",
              "    <tr>\n",
              "      <th>1</th>\n",
              "      <td>2</td>\n",
              "      <td>-0.662939</td>\n",
              "      <td>37.208730</td>\n",
              "      <td>2018-01-01</td>\n",
              "      <td>02:02:39</td>\n",
              "    </tr>\n",
              "    <tr>\n",
              "      <th>2</th>\n",
              "      <td>3</td>\n",
              "      <td>-0.662939</td>\n",
              "      <td>37.208730</td>\n",
              "      <td>2018-01-01</td>\n",
              "      <td>02:31:49</td>\n",
              "    </tr>\n",
              "  </tbody>\n",
              "</table>\n",
              "</div>"
            ],
            "text/plain": [
              "   uid  latitude  longitude        Date      Time\n",
              "0    1 -1.188850  36.931382  2018-01-01  00:25:46\n",
              "1    2 -0.662939  37.208730  2018-01-01  02:02:39\n",
              "2    3 -0.662939  37.208730  2018-01-01  02:31:49"
            ]
          },
          "metadata": {
            "tags": []
          },
          "execution_count": 81
        }
      ]
    },
    {
      "cell_type": "code",
      "metadata": {
        "id": "37vfYTf6L5f4",
        "outputId": "35d7335a-04e1-4fba-bd66-85a72d124039",
        "colab": {
          "base_uri": "https://localhost:8080/"
        }
      },
      "source": [
        "Train_df1.loc [2, 'Time']"
      ],
      "execution_count": null,
      "outputs": [
        {
          "output_type": "execute_result",
          "data": {
            "text/plain": [
              "datetime.time(2, 31, 49)"
            ]
          },
          "metadata": {
            "tags": []
          },
          "execution_count": 82
        }
      ]
    },
    {
      "cell_type": "markdown",
      "metadata": {
        "id": "iDDo_l7a-Pwt"
      },
      "source": [
        "##Datasets for use in data analysis"
      ]
    },
    {
      "cell_type": "code",
      "metadata": {
        "id": "NVM4KxbG-ZuN"
      },
      "source": [
        "weather_accidents = weather_df3.copy()\n",
        "Nairobi_accidents = Nairobi_df2.drop(columns= ['geometry'])"
      ],
      "execution_count": null,
      "outputs": []
    },
    {
      "cell_type": "code",
      "metadata": {
        "id": "iYIe7raUA0oG",
        "outputId": "8f547028-590a-44d4-8af0-a8d3942e3729",
        "colab": {
          "base_uri": "https://localhost:8080/"
        }
      },
      "source": [
        "weather_accidents.columns"
      ],
      "execution_count": null,
      "outputs": [
        {
          "output_type": "execute_result",
          "data": {
            "text/plain": [
              "Index(['date', 'precipitable_water_entire_atmosphere',\n",
              "       'relative_humidity_2m_above_ground',\n",
              "       'specific_humidity_2m_above_ground', 'temperature_2m_above_ground',\n",
              "       'u_component_of_wind_10m_above_ground',\n",
              "       'v_component_of_wind_10m_above_ground', 'Count'],\n",
              "      dtype='object')"
            ]
          },
          "metadata": {
            "tags": []
          },
          "execution_count": 114
        }
      ]
    },
    {
      "cell_type": "code",
      "metadata": {
        "id": "-iQpqxemA6Xl",
        "outputId": "414da111-0bf9-4baf-ac5b-df949a846667",
        "colab": {
          "base_uri": "https://localhost:8080/"
        }
      },
      "source": [
        "Nairobi_accidents.columns"
      ],
      "execution_count": null,
      "outputs": [
        {
          "output_type": "execute_result",
          "data": {
            "text/plain": [
              "Index(['Constituency', 'Ward', 'County Name', 'accidents_count'], dtype='object')"
            ]
          },
          "metadata": {
            "tags": []
          },
          "execution_count": 115
        }
      ]
    },
    {
      "cell_type": "markdown",
      "metadata": {
        "id": "98Lpphv9egML"
      },
      "source": [
        "### Univeriate Analysis"
      ]
    },
    {
      "cell_type": "code",
      "metadata": {
        "id": "6vkjmx9xBdU7",
        "outputId": "ea47affe-f8d7-48f5-f00b-75daf1a347f7",
        "colab": {
          "base_uri": "https://localhost:8080/"
        }
      },
      "source": [
        "Nairobi_accidents['accidents_count']"
      ],
      "execution_count": null,
      "outputs": [
        {
          "output_type": "execute_result",
          "data": {
            "text/plain": [
              "0      50\n",
              "1      43\n",
              "2     105\n",
              "3     128\n",
              "4      66\n",
              "     ... \n",
              "79    155\n",
              "80      1\n",
              "81      2\n",
              "82      2\n",
              "83      0\n",
              "Name: accidents_count, Length: 84, dtype: object"
            ]
          },
          "metadata": {
            "tags": []
          },
          "execution_count": 116
        }
      ]
    },
    {
      "cell_type": "markdown",
      "metadata": {
        "id": "5TaIy8BzfLC-"
      },
      "source": [
        "We will now perform univariate analysis. This is a type of analysis done only one variable. This type of analysis will be helpful in understanding the characteristics of each variables."
      ]
    },
    {
      "cell_type": "markdown",
      "metadata": {
        "id": "tz1IVPAkfZDL"
      },
      "source": [
        "#####1.Train dataset"
      ]
    },
    {
      "cell_type": "code",
      "metadata": {
        "id": "wjBtR_EMjf72",
        "outputId": "af701060-2678-4ed4-a933-b6f812c2908b",
        "colab": {
          "base_uri": "https://localhost:8080/",
          "height": 137
        }
      },
      "source": [
        "# previewing dataset\n",
        "#\n",
        "Train_df1.head(3)"
      ],
      "execution_count": null,
      "outputs": [
        {
          "output_type": "execute_result",
          "data": {
            "text/html": [
              "<div>\n",
              "<style scoped>\n",
              "    .dataframe tbody tr th:only-of-type {\n",
              "        vertical-align: middle;\n",
              "    }\n",
              "\n",
              "    .dataframe tbody tr th {\n",
              "        vertical-align: top;\n",
              "    }\n",
              "\n",
              "    .dataframe thead th {\n",
              "        text-align: right;\n",
              "    }\n",
              "</style>\n",
              "<table border=\"1\" class=\"dataframe\">\n",
              "  <thead>\n",
              "    <tr style=\"text-align: right;\">\n",
              "      <th></th>\n",
              "      <th>uid</th>\n",
              "      <th>latitude</th>\n",
              "      <th>longitude</th>\n",
              "      <th>Date</th>\n",
              "      <th>Time</th>\n",
              "    </tr>\n",
              "  </thead>\n",
              "  <tbody>\n",
              "    <tr>\n",
              "      <th>0</th>\n",
              "      <td>1</td>\n",
              "      <td>-1.188850</td>\n",
              "      <td>36.931382</td>\n",
              "      <td>2018-01-01</td>\n",
              "      <td>00:25:46</td>\n",
              "    </tr>\n",
              "    <tr>\n",
              "      <th>1</th>\n",
              "      <td>2</td>\n",
              "      <td>-0.662939</td>\n",
              "      <td>37.208730</td>\n",
              "      <td>2018-01-01</td>\n",
              "      <td>02:02:39</td>\n",
              "    </tr>\n",
              "    <tr>\n",
              "      <th>2</th>\n",
              "      <td>3</td>\n",
              "      <td>-0.662939</td>\n",
              "      <td>37.208730</td>\n",
              "      <td>2018-01-01</td>\n",
              "      <td>02:31:49</td>\n",
              "    </tr>\n",
              "  </tbody>\n",
              "</table>\n",
              "</div>"
            ],
            "text/plain": [
              "   uid  latitude  longitude        Date      Time\n",
              "0    1 -1.188850  36.931382  2018-01-01  00:25:46\n",
              "1    2 -0.662939  37.208730  2018-01-01  02:02:39\n",
              "2    3 -0.662939  37.208730  2018-01-01  02:31:49"
            ]
          },
          "metadata": {
            "tags": []
          },
          "execution_count": 87
        }
      ]
    },
    {
      "cell_type": "code",
      "metadata": {
        "id": "cxVnl-jXWc6e",
        "outputId": "88dba78f-4209-4193-9368-9a89692a9163",
        "colab": {
          "base_uri": "https://localhost:8080/",
          "height": 335
        }
      },
      "source": [
        "# univariate analysis: 'latitude' variable\n",
        "plt.figure(figsize = (8, 4))\n",
        "sns.distplot(Train_df1.latitude);"
      ],
      "execution_count": null,
      "outputs": [
        {
          "output_type": "stream",
          "text": [
            "/usr/local/lib/python3.6/dist-packages/seaborn/distributions.py:2551: FutureWarning: `distplot` is a deprecated function and will be removed in a future version. Please adapt your code to use either `displot` (a figure-level function with similar flexibility) or `histplot` (an axes-level function for histograms).\n",
            "  warnings.warn(msg, FutureWarning)\n"
          ],
          "name": "stderr"
        },
        {
          "output_type": "display_data",
          "data": {
            "image/png": "[encoded data removed]",
            "text/plain": [
              "<Figure size 576x288 with 1 Axes>"
            ]
          },
          "metadata": {
            "tags": [],
            "needs_background": "light"
          }
        }
      ]
    },
    {
      "cell_type": "markdown",
      "metadata": {
        "id": "4vD07LSgi9UQ"
      },
      "source": [
        "Observation The latitude variable is normally distributed"
      ]
    },
    {
      "cell_type": "code",
      "metadata": {
        "id": "cz2IB_SbhYPH",
        "outputId": "e9ccd7b7-2e46-4675-982d-4c571b31d232",
        "colab": {
          "base_uri": "https://localhost:8080/",
          "height": 264
        }
      },
      "source": [
        "##univariate analysis: histogram of the longitude variable\n",
        "Train_df1.longitude.hist()\n",
        "plt.show()"
      ],
      "execution_count": null,
      "outputs": [
        {
          "output_type": "display_data",
          "data": {
            "image/png": "[encoded data removed]",
            "text/plain": [
              "<Figure size 432x288 with 1 Axes>"
            ]
          },
          "metadata": {
            "tags": [],
            "needs_background": "light"
          }
        }
      ]
    },
    {
      "cell_type": "markdown",
      "metadata": {
        "id": "44Af_G6kinhV"
      },
      "source": [
        "**Observation** The longitude variable is normally distributed"
      ]
    },
    {
      "cell_type": "markdown",
      "metadata": {
        "id": "ONxeKSNEjRO-"
      },
      "source": [
        "#####2.Weather dataset"
      ]
    },
    {
      "cell_type": "code",
      "metadata": {
        "id": "b2lhi9ARjQz8",
        "outputId": "e5eb4bbc-4846-407e-f8a5-2c9c627c9c96",
        "colab": {
          "base_uri": "https://localhost:8080/"
        }
      },
      "source": [
        "#data preview\n",
        "#\n",
        "weather_df1.v_component_of_wind_10m_above_ground. unique()"
      ],
      "execution_count": null,
      "outputs": [
        {
          "output_type": "execute_result",
          "data": {
            "text/plain": [
              "array([-9.33913529e-01, -4.85458970e-01, -6.53964818e-01,  9.08122540e-01,\n",
              "       -3.77416983e-02, -1.72041011e+00, -8.13266575e-01, -1.86177242e+00,\n",
              "       -6.93701148e-01, -1.48097169e+00, -7.49462903e-01, -9.00454104e-01,\n",
              "       -1.77378416e+00, -1.21198487e+00, -6.33041978e-01, -1.53457034e+00,\n",
              "       -7.40070760e-01, -1.85853028e+00, -1.59531486e+00, -1.35308588e+00,\n",
              "       -2.11080074e+00, -2.53365707e+00, -1.79395509e+00, -2.30303717e+00,\n",
              "       -2.54138422e+00, -6.28618121e-01, -2.21761703e+00, -1.82368410e+00,\n",
              "       -2.24628901e+00, -2.06695795e+00, -2.33019042e+00, -2.83146977e+00,\n",
              "       -1.83477044e+00, -2.06378913e+00, -2.05623293e+00, -1.98433828e+00,\n",
              "       -2.46946526e+00, -1.93684804e+00, -2.32990479e+00, -1.37469482e+00,\n",
              "       -2.82811999e+00, -3.01253891e+00, -3.14523673e+00, -2.00082994e+00,\n",
              "       -2.03348637e+00, -1.97318602e+00, -3.20837402e+00, -3.44205308e+00,\n",
              "       -2.94757557e+00, -2.71642566e+00, -1.97716796e+00, -2.29360342e+00,\n",
              "       -2.03883791e+00, -2.67135501e+00, -2.43681383e+00, -1.55348384e+00,\n",
              "       -2.94607425e+00, -1.43777585e+00, -1.85585439e+00, -7.90566385e-01,\n",
              "        1.06892085e+00, -1.83959957e-02,  2.11369619e-01, -1.11783934e+00,\n",
              "       -8.24487269e-01, -3.46066892e-01, -1.57613528e+00, -1.87635744e+00,\n",
              "       -6.29777789e-01, -1.71015131e+00, -1.10387695e+00, -4.36970204e-01,\n",
              "       -5.03146946e-01, -1.77373779e+00, -1.79924071e+00, -1.65087152e+00,\n",
              "       -2.16382813e+00, -2.10426021e+00, -1.81439936e+00, -1.49527335e+00,\n",
              "       -9.49724078e-01, -1.91595697e+00, -2.38905263e+00, -2.03556871e+00,\n",
              "       -2.11317134e+00, -2.01912093e+00, -1.33942139e+00, -1.45815182e+00,\n",
              "       -1.61774898e+00, -2.24466801e+00, -2.05422115e+00, -1.01159418e+00,\n",
              "       -9.98203099e-01, -9.09749746e-01, -1.42597651e+00, -1.05143309e+00,\n",
              "       -1.40193844e+00, -5.49374998e-01, -1.21461427e+00, -1.69639885e+00,\n",
              "       -2.27319330e-01,  2.28876948e-01,  5.20908177e-01, -1.86617672e+00,\n",
              "        2.32971180e-02, -2.91835934e-01, -3.47019047e-01,  5.46667464e-02,\n",
              "       -3.12617183e-01, -2.60078132e-01, -1.19167972e+00, -7.81035125e-01,\n",
              "       -5.43123782e-01,  2.56499022e-01, -4.29667950e-01, -1.23588371e+00,\n",
              "       -1.21680903e+00, -3.74428689e-01, -3.80338132e-01,  3.65368634e-01,\n",
              "       -8.62622038e-02, -5.57380378e-01, -2.01303706e-01, -1.61027834e-01,\n",
              "       -1.44360349e-01, -9.02797818e-01, -3.08962405e-01, -8.65356445e-01,\n",
              "       -7.42199719e-01, -5.71582019e-01, -9.11345184e-01,  3.73813480e-01,\n",
              "        5.95153794e-02, -1.20383298e+00, -7.31943369e-01,  6.46972656e-02,\n",
              "       -7.91528285e-01,  9.44794893e-01,  8.33532691e-01, -2.72336423e-01,\n",
              "       -2.74567872e-01, -2.26940915e-01,  1.39313966e-01,  3.39355469e-01,\n",
              "        1.06036377e+00, -9.47285116e-01, -8.14799786e-01, -1.18464351e+00,\n",
              "       -1.87907711e-01,  3.99243146e-01,  6.94707036e-01,  1.29329097e+00,\n",
              "        4.18933094e-01, -6.80344224e-01, -2.99902335e-02,  1.08308101e+00,\n",
              "        5.16076624e-01,  1.23325191e-01, -1.06760249e-01, -1.68601072e+00,\n",
              "       -1.05446778e-01,  2.80234367e-01,  2.82563478e-01,  2.74975579e-02,\n",
              "       -2.63518065e-01,  6.47465825e-01,  3.69108886e-01,  9.16079104e-01,\n",
              "       -9.16594207e-01, -7.42060542e-01, -2.07187489e-01,  1.09863278e-04,\n",
              "        5.40983856e-01, -9.57029998e-01, -7.72106946e-02,  2.69953609e-01,\n",
              "       -1.34418949e-01,  4.56525862e-01, -1.98210448e-01,  3.65390629e-01,\n",
              "       -3.00458968e-01,  9.40424800e-01, -4.40024406e-01,  1.15835571e+00,\n",
              "        3.21578979e-01, -4.07946795e-01,  6.54160142e-01,  3.35180648e-02,\n",
              "       -1.24177240e-01,  2.86040038e-01,  1.32596433e+00,  4.14096683e-01,\n",
              "       -5.39062498e-03, -2.89650887e-01,  8.14916939e-02, -2.86005855e-01,\n",
              "        2.47485340e-02,  3.50258768e-01, -5.46782196e-01,  6.45963132e-01,\n",
              "        1.58369136e+00, -3.11308593e-01,  2.04345696e-02,  7.99343228e-01,\n",
              "       -5.68972170e-01, -7.91818857e-01, -8.06085169e-01, -7.83644974e-01,\n",
              "        6.52343733e-03, -3.15192878e-01, -1.20175290e+00, -1.45576656e+00,\n",
              "       -1.42948723e+00, -1.58342278e+00,  3.23266596e-01, -1.08737302e+00,\n",
              "       -1.34612787e+00, -9.62094724e-01, -9.23977017e-01, -6.13701165e-01,\n",
              "       -3.79196763e-01, -1.57214358e-01, -7.94633746e-01, -4.11462396e-01,\n",
              "        8.25854480e-01, -4.07578111e-01, -2.46154785e-01,  2.08779290e-01,\n",
              "       -2.35756829e-01, -9.03964818e-01, -5.11030257e-01, -3.72138649e-01,\n",
              "       -8.54394510e-02, -4.99335915e-01,  2.42836908e-01,  3.25258791e-01,\n",
              "        1.26699209e-01,  3.09313964e-02, -1.44985348e-01,  1.36437997e-01,\n",
              "       -5.44860847e-02, -1.98364258e-01, -3.45776349e-01, -1.10428226e+00,\n",
              "        5.62670887e-01,  6.25498056e-01, -9.72675741e-01, -6.62363291e-01,\n",
              "       -1.45436037e+00, -1.08163333e+00, -9.60588336e-01, -1.37478030e+00,\n",
              "       -1.30645752e+00, -4.99560535e-02, -9.58300769e-01, -1.64755118e+00,\n",
              "       -1.30895996e+00, -1.37462401e+00, -1.46260250e+00, -1.18768549e+00,\n",
              "        2.09309071e-01, -8.09123516e-01, -1.41121578e+00, -1.08667481e+00,\n",
              "       -3.05358898e-02, -9.56201136e-01,  4.00341786e-02, -1.26453614e+00,\n",
              "       -4.04812008e-01, -6.94497049e-01, -1.86465812e+00, -1.14204109e+00,\n",
              "       -2.71271974e-01, -1.54503906e+00, -1.01696527e+00, -5.45078099e-01,\n",
              "       -1.75695792e-01, -1.24607658e+00, -2.59829104e-01, -1.24057615e+00,\n",
              "       -7.05146492e-01, -7.76784658e-01, -1.66765130e+00, -1.62847161e+00,\n",
              "       -1.92013907e+00, -1.05357420e+00, -2.06672359e+00, -2.54327154e+00,\n",
              "       -2.55742669e+00, -3.28341293e+00, -2.33317876e+00, -1.87744144e-02,\n",
              "        1.63851321e+00, -7.67578125e-01, -9.66491699e-01,  1.27334595e+00,\n",
              "       -5.51831067e-01, -7.36831009e-01, -1.27301025e+00, -1.72904539e+00,\n",
              "       -2.08379388e+00, -3.12622309e+00, -3.13167715e+00, -3.12233639e+00,\n",
              "       -1.95069826e+00, -1.48707271e+00, -2.24180174e+00, -1.93915033e+00,\n",
              "       -2.03723145e+00, -1.13076663e+00, -6.23817146e-01, -1.57609618e+00,\n",
              "       -1.30459952e+00, -1.92841065e+00, -2.22246337e+00, -8.93317878e-01,\n",
              "       -1.52210450e+00, -1.63539302e+00, -1.53923333e+00, -2.54296374e+00,\n",
              "       -2.09536624e+00, -2.01516604e+00, -2.40448713e+00, -2.33988023e+00,\n",
              "       -2.83083487e+00, -3.30611086e+00, -1.53036129e+00, -2.97942376e+00,\n",
              "       -2.57515860e+00, -2.61679196e+00, -3.01008773e+00, -3.47149158e+00,\n",
              "       -2.17364502e+00, -2.21878409e+00, -2.35738277e+00, -2.63266850e+00,\n",
              "       -2.14563727e+00, -2.26015377e+00, -2.34643316e+00, -2.27788568e+00,\n",
              "       -1.46146238e+00, -1.83056638e-01, -1.02331293e+00, -1.17100585e+00,\n",
              "       -2.49520993e+00, -2.30738759e+00, -1.59710205e+00, -2.05633783e+00,\n",
              "       -1.56263185e+00, -1.46632326e+00, -1.39746583e+00, -1.69207275e+00,\n",
              "       -2.10377192e+00, -1.96840572e+00, -1.35218012e+00, -2.19921374e+00,\n",
              "       -1.95933104e+00, -2.75023675e+00, -2.71437001e+00, -2.48457026e+00,\n",
              "       -2.65717530e+00, -3.04185057e+00, -3.06291008e+00, -2.12116694e+00,\n",
              "       -2.69084477e+00, -2.13895988e+00, -2.98550296e+00, -2.27711415e+00,\n",
              "       -1.58385003e+00, -2.57675529e+00, -2.51479983e+00, -3.71571040e+00,\n",
              "       -2.61451411e+00, -3.42198467e+00, -3.22649050e+00, -2.44900632e+00,\n",
              "       -2.11558104e+00, -1.40465569e+00, -1.57549679e+00, -2.78581285e+00,\n",
              "       -2.95921373e+00, -1.99809813e+00, -1.86882317e+00, -1.93959713e+00,\n",
              "       -2.45621085e+00, -2.34543705e+00, -2.26148438e+00, -2.98586917e+00,\n",
              "       -3.06327629e+00, -2.63255858e+00, -2.80563474e+00, -3.17281985e+00,\n",
              "       -2.85320306e+00, -3.23999739e+00, -3.20277572e+00, -2.84712887e+00,\n",
              "       -2.13272214e+00, -2.96252179e+00, -3.06608152e+00, -1.46773434e+00,\n",
              "       -3.03463364e+00, -2.43364739e+00, -3.78043938e+00, -3.48678708e+00,\n",
              "       -3.40069818e+00, -2.82538819e+00, -2.65498519e+00, -2.52552485e+00,\n",
              "       -2.68583727e+00, -2.28764892e+00, -2.81933594e+00, -2.39271235e+00,\n",
              "       -1.81680167e+00, -1.57866943e+00, -2.32620597e+00, -2.83097649e+00,\n",
              "       -2.24535537e+00, -1.69437981e+00, -2.63047838e+00, -2.91480470e+00,\n",
              "       -2.54980946e+00, -2.58238530e+00, -1.39732659e+00,  1.25190422e-01,\n",
              "        5.08083463e-01, -1.92938960e+00, -2.08925533e+00, -1.67516112e+00,\n",
              "       -2.12413812e+00, -2.46190906e+00, -3.49868155e+00, -2.69245362e+00,\n",
              "       -3.51627922e+00, -3.79654765e+00, -2.74481201e+00, -2.94125485e+00,\n",
              "       -3.02514386e+00, -2.87196779e+00, -2.16895008e+00, -3.60349107e+00,\n",
              "       -3.22425532e+00, -2.93570304e+00, -2.66544437e+00, -3.29603267e+00,\n",
              "       -3.49385238e+00, -2.36260009e+00, -2.54667234e+00, -2.28238273e+00,\n",
              "       -2.10680175e+00, -3.12569332e+00, -3.61349845e+00, -3.16927981e+00,\n",
              "       -3.32287097e+00, -3.48844957e+00, -2.58515620e+00, -2.72501826e+00,\n",
              "       -9.42790508e-01, -2.22963858e+00, -2.43012929e+00, -3.00722170e+00,\n",
              "       -1.94129145e+00, -2.21108150e+00, -2.41291261e+00, -1.02397943e+00,\n",
              "       -2.12860346e+00, -2.08264399e+00, -1.84014761e+00, -1.32016599e+00,\n",
              "       -1.99450195e+00, -1.52708983e+00, -1.30396235e+00, -1.12532961e+00,\n",
              "       -2.54200077e+00, -7.26696789e-01, -1.69427729e+00,  3.91215801e-01,\n",
              "       -2.33198857e+00, -1.73258054e+00, -1.03352046e+00, -1.20602298e+00,\n",
              "       -2.17107916e+00, -1.94187009e+00, -1.84250486e+00, -2.18874502e+00,\n",
              "       -1.10475588e+00, -6.42614722e-01, -5.13881803e-01, -3.82103264e-01,\n",
              "       -4.15915519e-01, -2.70405263e-01, -3.38696279e-02, -6.47939444e-01,\n",
              "       -8.33398402e-02, -2.28088379e-01, -3.22163075e-01, -1.18312252e+00,\n",
              "       -9.17465806e-01, -5.88881850e-01, -4.56394047e-01, -3.84846181e-01,\n",
              "        2.21679686e-03, -4.52377915e-01, -2.23793939e-01, -5.89975595e-01,\n",
              "       -4.39062491e-02,  2.24511717e-02, -5.87673306e-01, -7.14580059e-01,\n",
              "       -4.14681375e-01, -3.18630368e-01, -1.05397701e+00, -8.15931380e-01,\n",
              "       -6.30112290e-01, -1.04553223e-01, -4.35310036e-01, -8.61413538e-01,\n",
              "       -7.89431155e-01, -4.27526832e-01, -2.58227531e-02,  3.34846199e-01,\n",
              "        4.01999503e-01,  1.25236809e-01,  1.02502435e-01,  2.46564940e-01,\n",
              "       -5.54492176e-01,  6.81904256e-01,  1.20064938e+00,  8.35683584e-01,\n",
              "        2.47329101e-01, -2.30119631e-01, -9.20126915e-01, -6.10085428e-01,\n",
              "       -3.47471923e-01,  3.87907714e-01,  1.83940426e-01, -7.09099114e-01,\n",
              "       -1.24546874e+00, -7.51101077e-01, -3.31704080e-01,  5.12307107e-01,\n",
              "        1.87387690e-01, -8.58129859e-02,  3.75517577e-01,  1.53634512e+00,\n",
              "       -1.01879880e-01, -2.87002563e-01, -7.36606419e-01, -1.28803468e+00,\n",
              "       -2.36489251e-01,  2.45134279e-01, -4.16398913e-01, -6.75012171e-01,\n",
              "        2.18808591e-01, -3.10280740e-01, -1.10911369e+00, -1.90414786e+00,\n",
              "       -1.85593262e-01,  4.29296866e-02,  3.65174562e-01,  4.48354483e-01,\n",
              "        7.57089853e-01, -6.01052225e-01,  4.85695779e-01,  7.34863279e-04,\n",
              "       -5.98269045e-01, -3.43303204e-01, -5.84072232e-01, -1.17925286e+00,\n",
              "       -1.13164306e+00, -1.45506835e+00,  9.66904283e-01, -1.10091555e+00,\n",
              "        2.50834942e-01, -3.09893817e-01, -5.52390099e-01, -1.83237052e+00,\n",
              "       -3.16650383e-02, -1.52210200e+00, -1.61906004e+00, -1.72005129e+00,\n",
              "       -1.32541740e+00, -2.67166138e-01, -7.51911581e-01, -8.38662088e-01,\n",
              "        4.84665513e-01,  3.91079098e-01, -8.56752932e-01, -3.35959464e-01,\n",
              "        2.08361804e-01,  2.75874019e-01,  2.82084942e-01, -4.74050283e-01,\n",
              "       -3.36530745e-01,  3.04216295e-01,  2.01391596e-02,  5.96721172e-01,\n",
              "        6.59990191e-01, -7.87883282e-01,  1.97314942e+00,  4.32680666e-01,\n",
              "       -8.19604456e-01, -1.02057612e+00, -1.82080083e-02,  9.46601570e-01,\n",
              "        2.62587875e-01, -9.31064427e-01, -2.70175785e-01,  1.52265382e+00,\n",
              "       -8.21630806e-02, -6.55737281e-01,  2.88862288e-01, -1.01727295e+00,\n",
              "        8.09277296e-02,  9.91728485e-01, -1.01241457e+00, -2.98044413e-01,\n",
              "       -1.63507569e+00, -2.02687240e+00, -8.26230466e-01, -1.53358889e+00,\n",
              "       -1.56870604e+00,  1.86508790e-01,  1.36777341e-01, -1.26628900e+00,\n",
              "       -1.16557860e+00, -7.92080045e-01, -5.40473640e-01, -1.04815912e+00,\n",
              "       -8.01904261e-01, -4.61437970e-01,  2.35371083e-01, -1.62495106e-01,\n",
              "       -4.03537601e-01, -1.70888424e+00, -1.42075193e+00, -2.73105717e+00,\n",
              "       -2.26176754e-01, -2.88671870e-02, -3.84863287e-01, -2.59423815e-02,\n",
              "        3.94753397e-01,  4.80322242e-01, -1.09686887e+00, -1.03693235e+00,\n",
              "       -7.87518322e-01,  5.19860804e-01,  7.32727051e-01, -1.59267575e-01,\n",
              "       -5.12006819e-01, -5.10974109e-01, -2.01484370e+00, -1.70206535e+00,\n",
              "        9.65895951e-01, -6.47602499e-01,  3.57182622e-01, -9.62314427e-01,\n",
              "       -1.18957269e+00, -1.04015136e+00, -1.70889640e+00, -1.18738770e+00,\n",
              "       -9.29575145e-01, -1.24572265e+00, -1.67532218e+00, -1.03360832e+00,\n",
              "       -1.91117668e+00, -1.46156490e+00, -1.62306643e+00, -9.17783201e-01,\n",
              "       -1.49551511e+00, -1.76140130e+00, -1.48768616e+00, -1.41020513e+00,\n",
              "       -1.29830563e+00, -1.34671867e+00, -9.25810516e-01, -1.37570548e+00,\n",
              "       -5.24338365e-01, -7.94206500e-01, -6.76835895e-01, -1.91376460e+00,\n",
              "       -1.21568596e+00, -2.26443362e+00, -2.60686040e+00, -2.12844229e+00,\n",
              "       -1.87508786e+00, -1.55015135e+00, -9.56103504e-01, -1.19864738e+00,\n",
              "       -2.03411365e+00, -1.20558107e+00, -5.58276363e-02, -2.57124007e-01,\n",
              "       -5.53969741e-01, -1.62272942e+00, -1.78226316e+00, -1.56714356e+00,\n",
              "       -1.47151852e+00, -1.06606448e+00, -4.97565895e-01, -1.38895750e+00,\n",
              "       -1.09004152e+00, -1.48631835e+00, -1.86713374e+00, -1.03700924e+00,\n",
              "        6.46633267e-01, -6.21291518e-01, -1.99524903e+00, -1.21126950e+00,\n",
              "       -1.54301512e+00, -1.76210690e+00, -2.28060794e+00, -1.94731927e+00,\n",
              "       -1.36928463e+00, -9.59257782e-01, -2.73900867e+00, -1.60303712e+00,\n",
              "       -1.51761711e+00, -1.24388909e+00, -1.32510006e+00, -1.17231441e+00,\n",
              "       -1.44172609e+00, -4.03381348e-01, -8.81264627e-01, -1.51126456e+00,\n",
              "       -6.39897466e-01, -1.15592766e+00, -2.02826405e+00, -2.27268314e+00])"
            ]
          },
          "metadata": {
            "tags": []
          },
          "execution_count": 163
        }
      ]
    },
    {
      "cell_type": "code",
      "metadata": {
        "id": "VhRQH7EOmjtk",
        "outputId": "059b078b-c859-43de-8c0b-21de829c8b4a",
        "colab": {
          "base_uri": "https://localhost:8080/",
          "height": 335
        }
      },
      "source": [
        "# univariate analysis: precipitable_water_entire_atmosphere variable\n",
        "sns.distplot(weather_df1.precipitable_water_entire_atmosphere); "
      ],
      "execution_count": null,
      "outputs": [
        {
          "output_type": "stream",
          "text": [
            "/usr/local/lib/python3.6/dist-packages/seaborn/distributions.py:2551: FutureWarning: `distplot` is a deprecated function and will be removed in a future version. Please adapt your code to use either `displot` (a figure-level function with similar flexibility) or `histplot` (an axes-level function for histograms).\n",
            "  warnings.warn(msg, FutureWarning)\n"
          ],
          "name": "stderr"
        },
        {
          "output_type": "display_data",
          "data": {
            "image/png": "[encoded data removed]",
            "text/plain": [
              "<Figure size 432x288 with 1 Axes>"
            ]
          },
          "metadata": {
            "tags": [],
            "needs_background": "light"
          }
        }
      ]
    },
    {
      "cell_type": "markdown",
      "metadata": {
        "id": "VOjI9KQQntPq"
      },
      "source": [
        "**Observation** "
      ]
    },
    {
      "cell_type": "code",
      "metadata": {
        "id": "9U8ThNfGnWcX",
        "outputId": "ef91d2cf-bdb0-4880-ab3f-8c9eba73e529",
        "colab": {
          "base_uri": "https://localhost:8080/",
          "height": 335
        }
      },
      "source": [
        "# univariate analysis: specific_humidity_2m_above_ground variable\n",
        "sns.distplot(weather_df1.specific_humidity_2m_above_ground);"
      ],
      "execution_count": null,
      "outputs": [
        {
          "output_type": "stream",
          "text": [
            "/usr/local/lib/python3.6/dist-packages/seaborn/distributions.py:2551: FutureWarning: `distplot` is a deprecated function and will be removed in a future version. Please adapt your code to use either `displot` (a figure-level function with similar flexibility) or `histplot` (an axes-level function for histograms).\n",
            "  warnings.warn(msg, FutureWarning)\n"
          ],
          "name": "stderr"
        },
        {
          "output_type": "display_data",
          "data": {
            "image/png": "[encoded data removed]",
            "text/plain": [
              "<Figure size 432x288 with 1 Axes>"
            ]
          },
          "metadata": {
            "tags": [],
            "needs_background": "light"
          }
        }
      ]
    },
    {
      "cell_type": "markdown",
      "metadata": {
        "id": "0Jkd0i2omzF_"
      },
      "source": [
        "**Observation**. "
      ]
    },
    {
      "cell_type": "code",
      "metadata": {
        "id": "9fcIGBR9m-hg",
        "outputId": "4c08f748-27f8-469f-ff2f-6b437781697a",
        "colab": {
          "base_uri": "https://localhost:8080/",
          "height": 264
        }
      },
      "source": [
        "#univariate analysis: relative_humidity_2m_above_ground variable\n",
        "#\n",
        "weather_df1.relative_humidity_2m_above_ground.hist()\n",
        "plt.show()"
      ],
      "execution_count": null,
      "outputs": [
        {
          "output_type": "display_data",
          "data": {
            "image/png": "[encoded data removed]",
            "text/plain": [
              "<Figure size 432x288 with 1 Axes>"
            ]
          },
          "metadata": {
            "tags": [],
            "needs_background": "light"
          }
        }
      ]
    },
    {
      "cell_type": "markdown",
      "metadata": {
        "id": "e3rrek8IorMU"
      },
      "source": [
        "**Observation**"
      ]
    },
    {
      "cell_type": "code",
      "metadata": {
        "id": "rD01L6BTq6v7",
        "outputId": "d9bb81c6-0601-4358-e040-e1f8c7ffa5bf",
        "colab": {
          "base_uri": "https://localhost:8080/",
          "height": 264
        }
      },
      "source": [
        "weather_df1.temperature_2m_above_ground.hist()\n",
        "plt.show()"
      ],
      "execution_count": null,
      "outputs": [
        {
          "output_type": "display_data",
          "data": {
            "image/png": "[encoded data removed]",
            "text/plain": [
              "<Figure size 432x288 with 1 Axes>"
            ]
          },
          "metadata": {
            "tags": [],
            "needs_background": "light"
          }
        }
      ]
    },
    {
      "cell_type": "markdown",
      "metadata": {
        "id": "m3IGCtGtsCkj"
      },
      "source": [
        "**Observation**"
      ]
    },
    {
      "cell_type": "code",
      "metadata": {
        "id": "2u3wMuharV_E",
        "outputId": "14bcfe7b-6471-4cbd-a97e-1863e662cd03",
        "colab": {
          "base_uri": "https://localhost:8080/",
          "height": 353
        }
      },
      "source": [
        "# univariate analysis: u_component_of_wind_10m_above_ground\n",
        "sns.distplot(weather_df1.u_component_of_wind_10m_above_ground)"
      ],
      "execution_count": null,
      "outputs": [
        {
          "output_type": "stream",
          "text": [
            "/usr/local/lib/python3.6/dist-packages/seaborn/distributions.py:2551: FutureWarning: `distplot` is a deprecated function and will be removed in a future version. Please adapt your code to use either `displot` (a figure-level function with similar flexibility) or `histplot` (an axes-level function for histograms).\n",
            "  warnings.warn(msg, FutureWarning)\n"
          ],
          "name": "stderr"
        },
        {
          "output_type": "execute_result",
          "data": {
            "text/plain": [
              "<matplotlib.axes._subplots.AxesSubplot at 0x7ffbc8b4e908>"
            ]
          },
          "metadata": {
            "tags": []
          },
          "execution_count": 95
        },
        {
          "output_type": "display_data",
          "data": {
            "image/png": "[encoded data removed]",
            "text/plain": [
              "<Figure size 432x288 with 1 Axes>"
            ]
          },
          "metadata": {
            "tags": [],
            "needs_background": "light"
          }
        }
      ]
    },
    {
      "cell_type": "markdown",
      "metadata": {
        "id": "4RzCdgREsISK"
      },
      "source": [
        "**Observation**"
      ]
    },
    {
      "cell_type": "code",
      "metadata": {
        "id": "PqD3D53srkCX",
        "outputId": "ee4b9d29-e997-4920-c819-45a8add9fbee",
        "colab": {
          "base_uri": "https://localhost:8080/",
          "height": 264
        }
      },
      "source": [
        "#univariate analysis: v_component_of_wind_10m_above_ground variable\n",
        "#\n",
        "weather_df1.v_component_of_wind_10m_above_ground.hist()\n",
        "plt.show()"
      ],
      "execution_count": null,
      "outputs": [
        {
          "output_type": "display_data",
          "data": {
            "image/png": "[encoded data removed]",
            "text/plain": [
              "<Figure size 432x288 with 1 Axes>"
            ]
          },
          "metadata": {
            "tags": [],
            "needs_background": "light"
          }
        }
      ]
    },
    {
      "cell_type": "markdown",
      "metadata": {
        "id": "1KBNaKufsMp4"
      },
      "source": [
        "**Observation**"
      ]
    },
    {
      "cell_type": "code",
      "metadata": {
        "id": "xmi1rd0c2Jrh",
        "outputId": "19a64b77-f3de-4af1-9e64-d3f545a662c3",
        "colab": {
          "base_uri": "https://localhost:8080/",
          "height": 307
        }
      },
      "source": [
        "#summary\n",
        "weather_df1.describe()"
      ],
      "execution_count": null,
      "outputs": [
        {
          "output_type": "execute_result",
          "data": {
            "text/html": [
              "<div>\n",
              "<style scoped>\n",
              "    .dataframe tbody tr th:only-of-type {\n",
              "        vertical-align: middle;\n",
              "    }\n",
              "\n",
              "    .dataframe tbody tr th {\n",
              "        vertical-align: top;\n",
              "    }\n",
              "\n",
              "    .dataframe thead th {\n",
              "        text-align: right;\n",
              "    }\n",
              "</style>\n",
              "<table border=\"1\" class=\"dataframe\">\n",
              "  <thead>\n",
              "    <tr style=\"text-align: right;\">\n",
              "      <th></th>\n",
              "      <th>precipitable_water_entire_atmosphere</th>\n",
              "      <th>relative_humidity_2m_above_ground</th>\n",
              "      <th>specific_humidity_2m_above_ground</th>\n",
              "      <th>temperature_2m_above_ground</th>\n",
              "      <th>u_component_of_wind_10m_above_ground</th>\n",
              "      <th>v_component_of_wind_10m_above_ground</th>\n",
              "    </tr>\n",
              "  </thead>\n",
              "  <tbody>\n",
              "    <tr>\n",
              "      <th>count</th>\n",
              "      <td>728.000000</td>\n",
              "      <td>728.000000</td>\n",
              "      <td>728.000000</td>\n",
              "      <td>728.000000</td>\n",
              "      <td>728.000000</td>\n",
              "      <td>728.000000</td>\n",
              "    </tr>\n",
              "    <tr>\n",
              "      <th>mean</th>\n",
              "      <td>23.977231</td>\n",
              "      <td>83.160478</td>\n",
              "      <td>0.010955</td>\n",
              "      <td>15.175692</td>\n",
              "      <td>-1.907236</td>\n",
              "      <td>-1.128133</td>\n",
              "    </tr>\n",
              "    <tr>\n",
              "      <th>std</th>\n",
              "      <td>4.693146</td>\n",
              "      <td>9.084966</td>\n",
              "      <td>0.001326</td>\n",
              "      <td>1.127291</td>\n",
              "      <td>1.250924</td>\n",
              "      <td>1.118509</td>\n",
              "    </tr>\n",
              "    <tr>\n",
              "      <th>min</th>\n",
              "      <td>10.800000</td>\n",
              "      <td>42.200001</td>\n",
              "      <td>0.006380</td>\n",
              "      <td>11.749994</td>\n",
              "      <td>-5.880168</td>\n",
              "      <td>-3.796548</td>\n",
              "    </tr>\n",
              "    <tr>\n",
              "      <th>25%</th>\n",
              "      <td>20.700001</td>\n",
              "      <td>79.887714</td>\n",
              "      <td>0.010057</td>\n",
              "      <td>14.430894</td>\n",
              "      <td>-2.736363</td>\n",
              "      <td>-1.978961</td>\n",
              "    </tr>\n",
              "    <tr>\n",
              "      <th>50%</th>\n",
              "      <td>24.024831</td>\n",
              "      <td>85.626667</td>\n",
              "      <td>0.011251</td>\n",
              "      <td>15.231058</td>\n",
              "      <td>-1.953043</td>\n",
              "      <td>-1.084154</td>\n",
              "    </tr>\n",
              "    <tr>\n",
              "      <th>75%</th>\n",
              "      <td>27.500000</td>\n",
              "      <td>89.599998</td>\n",
              "      <td>0.011940</td>\n",
              "      <td>15.916383</td>\n",
              "      <td>-1.167893</td>\n",
              "      <td>-0.274010</td>\n",
              "    </tr>\n",
              "    <tr>\n",
              "      <th>max</th>\n",
              "      <td>34.000000</td>\n",
              "      <td>95.769302</td>\n",
              "      <td>0.013284</td>\n",
              "      <td>19.928125</td>\n",
              "      <td>3.478000</td>\n",
              "      <td>1.973149</td>\n",
              "    </tr>\n",
              "  </tbody>\n",
              "</table>\n",
              "</div>"
            ],
            "text/plain": [
              "       precipitable_water_entire_atmosphere  ...  v_component_of_wind_10m_above_ground\n",
              "count                            728.000000  ...                            728.000000\n",
              "mean                              23.977231  ...                             -1.128133\n",
              "std                                4.693146  ...                              1.118509\n",
              "min                               10.800000  ...                             -3.796548\n",
              "25%                               20.700001  ...                             -1.978961\n",
              "50%                               24.024831  ...                             -1.084154\n",
              "75%                               27.500000  ...                             -0.274010\n",
              "max                               34.000000  ...                              1.973149\n",
              "\n",
              "[8 rows x 6 columns]"
            ]
          },
          "metadata": {
            "tags": []
          },
          "execution_count": 97
        }
      ]
    },
    {
      "cell_type": "markdown",
      "metadata": {
        "id": "37an3eIj1Dow"
      },
      "source": [
        "#####3.Nairobi.geojson"
      ]
    },
    {
      "cell_type": "code",
      "metadata": {
        "id": "r-8XKA7N1fvN",
        "outputId": "c63af8d5-204c-42a0-e0c2-e481beaf5d0d",
        "colab": {
          "base_uri": "https://localhost:8080/",
          "height": 197
        }
      },
      "source": [
        "#previeving data \n",
        "#\n",
        "Nairobi_df2.head()"
      ],
      "execution_count": null,
      "outputs": [
        {
          "output_type": "execute_result",
          "data": {
            "text/html": [
              "<div>\n",
              "<style scoped>\n",
              "    .dataframe tbody tr th:only-of-type {\n",
              "        vertical-align: middle;\n",
              "    }\n",
              "\n",
              "    .dataframe tbody tr th {\n",
              "        vertical-align: top;\n",
              "    }\n",
              "\n",
              "    .dataframe thead th {\n",
              "        text-align: right;\n",
              "    }\n",
              "</style>\n",
              "<table border=\"1\" class=\"dataframe\">\n",
              "  <thead>\n",
              "    <tr style=\"text-align: right;\">\n",
              "      <th></th>\n",
              "      <th>Constituency</th>\n",
              "      <th>Ward</th>\n",
              "      <th>County Name</th>\n",
              "      <th>geometry</th>\n",
              "      <th>accidents_count</th>\n",
              "    </tr>\n",
              "  </thead>\n",
              "  <tbody>\n",
              "    <tr>\n",
              "      <th>0</th>\n",
              "      <td>WESTLANDS</td>\n",
              "      <td>KITISURU</td>\n",
              "      <td>NAIROBI</td>\n",
              "      <td>POLYGON ((36.75539 -1.22385, 36.75555 -1.22430...</td>\n",
              "      <td>50</td>\n",
              "    </tr>\n",
              "    <tr>\n",
              "      <th>1</th>\n",
              "      <td>WESTLANDS</td>\n",
              "      <td>PARKLANDS/HIGHRIDGE</td>\n",
              "      <td>NAIROBI</td>\n",
              "      <td>POLYGON ((36.78228 -1.24589, 36.78272 -1.24590...</td>\n",
              "      <td>43</td>\n",
              "    </tr>\n",
              "    <tr>\n",
              "      <th>2</th>\n",
              "      <td>WESTLANDS</td>\n",
              "      <td>KARURA</td>\n",
              "      <td>NAIROBI</td>\n",
              "      <td>POLYGON ((36.81628 -1.20259, 36.81897 -1.20408...</td>\n",
              "      <td>105</td>\n",
              "    </tr>\n",
              "    <tr>\n",
              "      <th>3</th>\n",
              "      <td>WESTLANDS</td>\n",
              "      <td>KANGEMI</td>\n",
              "      <td>NAIROBI</td>\n",
              "      <td>POLYGON ((36.75282 -1.26165, 36.75336 -1.26240...</td>\n",
              "      <td>128</td>\n",
              "    </tr>\n",
              "    <tr>\n",
              "      <th>4</th>\n",
              "      <td>WESTLANDS</td>\n",
              "      <td>MOUNTAIN VIEW</td>\n",
              "      <td>NAIROBI</td>\n",
              "      <td>POLYGON ((36.74116 -1.26564, 36.74390 -1.26617...</td>\n",
              "      <td>66</td>\n",
              "    </tr>\n",
              "  </tbody>\n",
              "</table>\n",
              "</div>"
            ],
            "text/plain": [
              "  Constituency  ... accidents_count\n",
              "0    WESTLANDS  ...              50\n",
              "1    WESTLANDS  ...              43\n",
              "2    WESTLANDS  ...             105\n",
              "3    WESTLANDS  ...             128\n",
              "4    WESTLANDS  ...              66\n",
              "\n",
              "[5 rows x 5 columns]"
            ]
          },
          "metadata": {
            "tags": []
          },
          "execution_count": 98
        }
      ]
    },
    {
      "cell_type": "code",
      "metadata": {
        "id": "OXZghdq-AhKM",
        "outputId": "38354ff4-d196-4ac8-82ac-4df48fe93639",
        "colab": {
          "base_uri": "https://localhost:8080/",
          "height": 354
        }
      },
      "source": [
        "# univariate analysis: constituen variable\n",
        "#\n",
        "plt.figure(figsize = (20, 6))\n",
        "location_accidents.Constituency.value_counts().plot(kind = 'bar', rot = 0);"
      ],
      "execution_count": null,
      "outputs": [
        {
          "output_type": "display_data",
          "data": {
            "image/png": "[encoded data removed]",
            "text/plain": [
              "<Figure size 1440x432 with 1 Axes>"
            ]
          },
          "metadata": {
            "tags": [],
            "needs_background": "light"
          }
        }
      ]
    },
    {
      "cell_type": "markdown",
      "metadata": {
        "id": "zLZoubpBJiWt"
      },
      "source": [
        "**Observation** Dagoreti South consituent had the highest number of accidents"
      ]
    },
    {
      "cell_type": "code",
      "metadata": {
        "id": "xHHOsf21SmOQ"
      },
      "source": [
        ""
      ],
      "execution_count": null,
      "outputs": []
    },
    {
      "cell_type": "markdown",
      "metadata": {
        "id": "UglsdVctpDkX"
      },
      "source": [
        "## Bivariate Analysis"
      ]
    },
    {
      "cell_type": "markdown",
      "metadata": {
        "id": "W31efC8gpG8Y"
      },
      "source": [
        "We will now perform bivariate analysis. This is a type of analysis done on two variable. This type of analysis will be helpful in understanding the relationship between varables.\n",
        "\n",
        "We will investigate how the target variable relates to the other variables"
      ]
    },
    {
      "cell_type": "code",
      "metadata": {
        "id": "aB95NQ6XYgb0",
        "outputId": "a7531b48-8fd4-49e4-8f2b-cc4b1256be19",
        "colab": {
          "base_uri": "https://localhost:8080/",
          "height": 301
        }
      },
      "source": [
        "#previer of merged dataset\n",
        "weather_df3.head()"
      ],
      "execution_count": null,
      "outputs": [
        {
          "output_type": "execute_result",
          "data": {
            "text/html": [
              "<div>\n",
              "<style scoped>\n",
              "    .dataframe tbody tr th:only-of-type {\n",
              "        vertical-align: middle;\n",
              "    }\n",
              "\n",
              "    .dataframe tbody tr th {\n",
              "        vertical-align: top;\n",
              "    }\n",
              "\n",
              "    .dataframe thead th {\n",
              "        text-align: right;\n",
              "    }\n",
              "</style>\n",
              "<table border=\"1\" class=\"dataframe\">\n",
              "  <thead>\n",
              "    <tr style=\"text-align: right;\">\n",
              "      <th></th>\n",
              "      <th>date</th>\n",
              "      <th>precipitable_water_entire_atmosphere</th>\n",
              "      <th>relative_humidity_2m_above_ground</th>\n",
              "      <th>specific_humidity_2m_above_ground</th>\n",
              "      <th>temperature_2m_above_ground</th>\n",
              "      <th>u_component_of_wind_10m_above_ground</th>\n",
              "      <th>v_component_of_wind_10m_above_ground</th>\n",
              "      <th>Count</th>\n",
              "    </tr>\n",
              "  </thead>\n",
              "  <tbody>\n",
              "    <tr>\n",
              "      <th>0</th>\n",
              "      <td>2018-01-01</td>\n",
              "      <td>24.100000</td>\n",
              "      <td>72.700005</td>\n",
              "      <td>0.009560</td>\n",
              "      <td>15.161493</td>\n",
              "      <td>-0.012186</td>\n",
              "      <td>-0.933914</td>\n",
              "      <td>13</td>\n",
              "    </tr>\n",
              "    <tr>\n",
              "      <th>1</th>\n",
              "      <td>2018-01-02</td>\n",
              "      <td>27.362288</td>\n",
              "      <td>74.900002</td>\n",
              "      <td>0.010463</td>\n",
              "      <td>16.047998</td>\n",
              "      <td>0.314543</td>\n",
              "      <td>-0.485459</td>\n",
              "      <td>27</td>\n",
              "    </tr>\n",
              "    <tr>\n",
              "      <th>2</th>\n",
              "      <td>2018-01-03</td>\n",
              "      <td>30.246618</td>\n",
              "      <td>86.599998</td>\n",
              "      <td>0.011930</td>\n",
              "      <td>15.838525</td>\n",
              "      <td>-0.282732</td>\n",
              "      <td>-0.653965</td>\n",
              "      <td>43</td>\n",
              "    </tr>\n",
              "    <tr>\n",
              "      <th>3</th>\n",
              "      <td>2018-01-04</td>\n",
              "      <td>33.010689</td>\n",
              "      <td>90.900002</td>\n",
              "      <td>0.012780</td>\n",
              "      <td>16.169244</td>\n",
              "      <td>0.211572</td>\n",
              "      <td>0.908123</td>\n",
              "      <td>13</td>\n",
              "    </tr>\n",
              "    <tr>\n",
              "      <th>4</th>\n",
              "      <td>2018-01-05</td>\n",
              "      <td>27.250372</td>\n",
              "      <td>82.413353</td>\n",
              "      <td>0.011392</td>\n",
              "      <td>15.923456</td>\n",
              "      <td>1.047275</td>\n",
              "      <td>-0.037742</td>\n",
              "      <td>13</td>\n",
              "    </tr>\n",
              "  </tbody>\n",
              "</table>\n",
              "</div>"
            ],
            "text/plain": [
              "         date  ...  Count\n",
              "0  2018-01-01  ...     13\n",
              "1  2018-01-02  ...     27\n",
              "2  2018-01-03  ...     43\n",
              "3  2018-01-04  ...     13\n",
              "4  2018-01-05  ...     13\n",
              "\n",
              "[5 rows x 8 columns]"
            ]
          },
          "metadata": {
            "tags": []
          },
          "execution_count": 117
        }
      ]
    },
    {
      "cell_type": "code",
      "metadata": {
        "id": "3d230XY3WchD",
        "outputId": "aae95669-fe3c-4a93-b91e-6666d8f7f90a",
        "colab": {
          "base_uri": "https://localhost:8080/",
          "height": 294
        }
      },
      "source": [
        "# bivariate analysis: accident count by precipitate water in atmosphire\n",
        "#\n",
        "# Plotting our scatterplot\n",
        "plt.scatter(weather_df3['Count'], weather_df3['precipitable_water_entire_atmosphere'])\n",
        "\n",
        "# Giving our scatterplot a title\n",
        "plt.title('Count Vs precipitable_water_entire_atmosphere')\n",
        "\n",
        "# Labelling our x axis\n",
        "plt.xlabel('Count')\n",
        "\n",
        "# Labelling our y axis\n",
        "plt.ylabel('precipitable_water_entire_atmosphere')\n",
        "\n",
        "# Displaying our scatterplot\n",
        "plt.show()"
      ],
      "execution_count": null,
      "outputs": [
        {
          "output_type": "display_data",
          "data": {
            "image/png": "[encoded data removed]",
            "text/plain": [
              "<Figure size 432x288 with 1 Axes>"
            ]
          },
          "metadata": {
            "tags": [],
            "needs_background": "light"
          }
        }
      ]
    },
    {
      "cell_type": "markdown",
      "metadata": {
        "id": "E_L8a_trYXWp"
      },
      "source": [
        ""
      ]
    },
    {
      "cell_type": "code",
      "metadata": {
        "id": "C2ed1ySuUVM3",
        "outputId": "c1219ea5-edd4-4c19-d121-81e96fd925ce",
        "colab": {
          "base_uri": "https://localhost:8080/",
          "height": 294
        }
      },
      "source": [
        "# bivariate analysis: accident count by ralative humidity above ground\n",
        "#\n",
        "# Plotting our scatterplot\n",
        "plt.scatter(weather_df3['Count'], weather_df3['relative_humidity_2m_above_ground'])\n",
        "\n",
        "# Giving our scatterplot a title\n",
        "plt.title('Count Vs relative_humidity_2m_above_ground')\n",
        "\n",
        "# Labelling our x axis\n",
        "plt.xlabel('Count')\n",
        "\n",
        "# Labelling our y axis\n",
        "plt.ylabel('relative_humidity_2m_above_ground')\n",
        "\n",
        "# Displaying our scatterplot\n",
        "plt.show()"
      ],
      "execution_count": null,
      "outputs": [
        {
          "output_type": "display_data",
          "data": {
            "image/png": "[encoded data removed]",
            "text/plain": [
              "<Figure size 432x288 with 1 Axes>"
            ]
          },
          "metadata": {
            "tags": [],
            "needs_background": "light"
          }
        }
      ]
    },
    {
      "cell_type": "code",
      "metadata": {
        "id": "hfhfqeg3ZNPb",
        "outputId": "e51eed4d-cce5-4514-c15f-364d22e0bf19",
        "colab": {
          "base_uri": "https://localhost:8080/",
          "height": 294
        }
      },
      "source": [
        "# bivariate analysis: accident count by humidity above the ground\n",
        "#\n",
        "# Plotting our scatterplot\n",
        "plt.scatter(weather_df3['Count'], weather_df3['specific_humidity_2m_above_ground'])\n",
        "\n",
        "# Giving our scatterplot a title\n",
        "plt.title('Count Vs specific_humidity_2m_above_ground')\n",
        "\n",
        "# Labelling our x axis\n",
        "plt.xlabel('Count')\n",
        "\n",
        "# Labelling our y axis\n",
        "plt.ylabel('specific_humidity_2m_above_ground')\n",
        "\n",
        "# Displaying our scatterplot\n",
        "plt.show()"
      ],
      "execution_count": null,
      "outputs": [
        {
          "output_type": "display_data",
          "data": {
            "image/png": "[encoded data removed]",
            "text/plain": [
              "<Figure size 432x288 with 1 Axes>"
            ]
          },
          "metadata": {
            "tags": [],
            "needs_background": "light"
          }
        }
      ]
    },
    {
      "cell_type": "markdown",
      "metadata": {
        "id": "kGObKyJ3vyvS"
      },
      "source": [
        "**Observation** 'accident count' and 'specific_humidity_2m_above_ground have week relatioship."
      ]
    },
    {
      "cell_type": "code",
      "metadata": {
        "id": "A0xl_qgid7XB",
        "outputId": "5f7cfa25-ce64-43df-8374-85bfc83b2956",
        "colab": {
          "base_uri": "https://localhost:8080/",
          "height": 295
        }
      },
      "source": [
        "# bivariate analysis: accident count by humidity above the ground\n",
        "#\n",
        "# Plotting our scatterplot\n",
        "plt.scatter(weather_df3['relative_humidity_2m_above_ground'], weather_df3['specific_humidity_2m_above_ground'])\n",
        "\n",
        "# Giving our scatterplot a title\n",
        "plt.title('relative_humidity_2m_above_ground Vs specific_humidity_2m_above_ground')\n",
        "\n",
        "# Labelling our x axis\n",
        "plt.xlabel('relative_humidity_2m_above_ground')\n",
        "\n",
        "# Labelling our y axis\n",
        "plt.ylabel('specific_humidity_2m_above_ground')\n",
        "\n",
        "# Displaying our scatterplot\n",
        "plt.show()"
      ],
      "execution_count": null,
      "outputs": [
        {
          "output_type": "display_data",
          "data": {
            "image/png": "[encoded data removed]",
            "text/plain": [
              "<Figure size 432x288 with 1 Axes>"
            ]
          },
          "metadata": {
            "tags": [],
            "needs_background": "light"
          }
        }
      ]
    },
    {
      "cell_type": "code",
      "metadata": {
        "id": "99Ug0NbheUSt",
        "outputId": "7c22ab8c-e9d2-4cfb-9bfc-522520658d57",
        "colab": {
          "base_uri": "https://localhost:8080/",
          "height": 281
        }
      },
      "source": [
        "# accident by temperature\n",
        "fig, axes = plt.subplots(nrows = 1, ncols = 2, figsize = (12, 4))\n",
        "\n",
        "# accidents when temperature  is greater than 20 degrees celcius\n",
        "plt.subplot(1, 2, 1)\n",
        "weather_df3.loc[weather_df3.Count >20].temperature_2m_above_ground.hist(color = 'green')\n",
        "plt.title(\"accidents\")\n",
        "\n",
        "# accident count when temperature is below 15 degrees celcius\n",
        "plt.subplot(1, 2, 2)\n",
        "weather_df3.loc[weather_df3.Count <15].temperature_2m_above_ground.hist(color = 'red')\n",
        "plt.title(\"accident\")\n",
        "\n",
        "plt.show()"
      ],
      "execution_count": null,
      "outputs": [
        {
          "output_type": "display_data",
          "data": {
            "image/png": "[encoded data removed]",
            "text/plain": [
              "<Figure size 864x288 with 2 Axes>"
            ]
          },
          "metadata": {
            "tags": [],
            "needs_background": "light"
          }
        }
      ]
    },
    {
      "cell_type": "markdown",
      "metadata": {
        "id": "OykrDig1q7r0"
      },
      "source": [
        "**Observation** there were more accidents when the temperature was below 15 degrees celcius."
      ]
    },
    {
      "cell_type": "code",
      "metadata": {
        "id": "zcW0VY5HruAt",
        "outputId": "3edb13b3-7ea5-4427-d5f8-afaad48d4d9a",
        "colab": {
          "base_uri": "https://localhost:8080/",
          "height": 281
        }
      },
      "source": [
        "# accident by wind\n",
        "fig, axes = plt.subplots(nrows = 1, ncols = 2, figsize = (12, 4))\n",
        "\n",
        "# accidents when wind  is less than 5 mph\n",
        "plt.subplot(1, 2, 1)\n",
        "weather_df3.loc[weather_df3.Count <5].v_component_of_wind_10m_above_ground.hist(color = 'green')\n",
        "plt.title(\"accidents\")\n",
        "\n",
        "# accident count when wind is greater than 11 mph.\n",
        "plt.subplot(1, 2, 2)\n",
        "weather_df3.loc[weather_df3.Count > 11].v_component_of_wind_10m_above_ground.hist(color = 'red')\n",
        "plt.title(\"accident\")\n",
        "\n",
        "plt.show()"
      ],
      "execution_count": null,
      "outputs": [
        {
          "output_type": "display_data",
          "data": {
            "image/png": "[encoded data removed]",
            "text/plain": [
              "<Figure size 864x288 with 2 Axes>"
            ]
          },
          "metadata": {
            "tags": [],
            "needs_background": "light"
          }
        }
      ]
    },
    {
      "cell_type": "markdown",
      "metadata": {
        "id": "uc5-ssRYuJuW"
      },
      "source": [
        "**observation** there is more accidents during the strong wind as depicted by the second chart."
      ]
    },
    {
      "cell_type": "code",
      "metadata": {
        "id": "pU94t8sRjnfK",
        "outputId": "f46634ca-f48b-4139-e455-28f3dc8cb1da",
        "colab": {
          "base_uri": "https://localhost:8080/",
          "height": 1000
        }
      },
      "source": [
        "# Ploting the bivariate summaries and recording our observations\n",
        "sns.pairplot(weather_df3)\n",
        "plt.show()"
      ],
      "execution_count": null,
      "outputs": [
        {
          "output_type": "display_data",
          "data": {
            "image/png": "[encoded data removed]",
            "text/plain": [
              "<Figure size 1260x1260 with 56 Axes>"
            ]
          },
          "metadata": {
            "tags": [],
            "needs_background": "light"
          }
        }
      ]
    },
    {
      "cell_type": "markdown",
      "metadata": {
        "id": "zkH2AQi1xb7j"
      },
      "source": [
        "**observation**looking at the above, we can confirm just a few very few dependencies"
      ]
    },
    {
      "cell_type": "code",
      "metadata": {
        "id": "zRNJHZLxbTS5",
        "outputId": "e32a828d-1c17-4150-e9b1-83f1cec73eba",
        "colab": {
          "base_uri": "https://localhost:8080/",
          "height": 691
        }
      },
      "source": [
        "# correlation of the variable in merged Dataset\n",
        "#\n",
        "# heatmap to visualise features with linear relationships \n",
        "plt.figure(figsize = (8, 8))\n",
        "sns.heatmap(weather_df3.corr(), annot=True, );"
      ],
      "execution_count": null,
      "outputs": [
        {
          "output_type": "display_data",
          "data": {
            "image/png": "[encoded data removed]",
            "text/plain": [
              "<Figure size 576x576 with 2 Axes>"
            ]
          },
          "metadata": {
            "tags": [],
            "needs_background": "light"
          }
        }
      ]
    },
    {
      "cell_type": "markdown",
      "metadata": {
        "id": "kHScV48Neive"
      },
      "source": [
        "**Observation** the variable \"relative_humidity_2m_above_ground\" and \"specific_humidity_2m_above_ground\" have a strong positive correlation. This means that as values of one variables increase, so do the values of the other variable "
      ]
    },
    {
      "cell_type": "code",
      "metadata": {
        "id": "tCCGdr3eBBX1",
        "outputId": "d35535d5-d442-43ba-9925-0b513b3853f2",
        "colab": {
          "base_uri": "https://localhost:8080/",
          "height": 282
        }
      },
      "source": [
        "#Nairobi_ward = Nairobi_df2.copy()\n",
        "Nairobi_ward.drop(columns=['Ward', 'County Name'], inplace= True)\n",
        "Nairobi_ward = Nairobi_ward.groupby(['Constituency']).sum()\n",
        "plt.barh(Nairobi_ward.index,Nairobi_ward['accidents_count'])"
      ],
      "execution_count": null,
      "outputs": [
        {
          "output_type": "execute_result",
          "data": {
            "text/plain": [
              "<BarContainer object of 17 artists>"
            ]
          },
          "metadata": {
            "tags": []
          },
          "execution_count": 178
        },
        {
          "output_type": "display_data",
          "data": {
            "image/png": "[encoded data removed]",
            "text/plain": [
              "<Figure size 432x288 with 1 Axes>"
            ]
          },
          "metadata": {
            "tags": [],
            "needs_background": "light"
          }
        }
      ]
    },
    {
      "cell_type": "markdown",
      "metadata": {
        "id": "n5RUBm3b2nnL"
      },
      "source": [
        "**Observation** Langata registered the highest number within nairobi count during the period under observation."
      ]
    }
  ]
}