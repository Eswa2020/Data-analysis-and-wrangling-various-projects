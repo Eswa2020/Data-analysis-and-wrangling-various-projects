{
  "cells": [
    {
      "cell_type": "markdown",
      "metadata": {
        "id": "view-in-github",
        "colab_type": "text"
      },
      "source": [
        "<a href=\"https://colab.research.google.com/github/Eswa2020/Data-analysis-and-wrangling-various-projects/blob/master/parking_system.ipynb\" target=\"_parent\"><img src=\"https://colab.research.google.com/assets/colab-badge.svg\" alt=\"Open In Colab\"/></a>"
      ]
    },
    {
      "cell_type": "markdown",
      "source": [
        "## Importing libraries and loading dataset"
      ],
      "metadata": {
        "id": "ZiqXGwKRE7n-"
      }
    },
    {
      "cell_type": "code",
      "execution_count": 1,
      "metadata": {
        "id": "IU1hju9zhoMB"
      },
      "outputs": [],
      "source": [
        "#importimg our libraries to use\n",
        "import numpy as np\n",
        "import pandas as pd\n",
        "import seaborn as sns\n",
        "import matplotlib.pyplot as plt\n",
        "import plotly.express as px\n",
        "from datetime import datetime\n",
        "%matplotlib inline"
      ]
    },
    {
      "cell_type": "code",
      "execution_count": 2,
      "metadata": {
        "colab": {
          "base_uri": "https://localhost:8080/",
          "height": 357
        },
        "id": "geK83kw3gRux",
        "outputId": "479dde6a-c0ae-42b5-ea20-77482679c554"
      },
      "outputs": [
        {
          "output_type": "execute_result",
          "data": {
            "text/plain": [
              "   DeviceId             ArrivalTime           DepartureTime  DurationMinutes  \\\n",
              "0     17176  02/15/2019 07:45:29 PM  02/15/2019 07:46:52 PM                1   \n",
              "1     17176  03/25/2019 08:35:40 PM  03/25/2019 08:39:08 PM                4   \n",
              "2     17176  01/17/2019 05:28:55 AM  01/17/2019 06:57:09 AM               89   \n",
              "3     17176  03/13/2019 10:18:17 PM  03/13/2019 10:18:24 PM                0   \n",
              "4     17176  01/18/2019 06:04:37 AM  01/18/2019 06:07:29 AM                3   \n",
              "\n",
              "  StreetMarker  SignPlateID Sign   AreaName  StreetId      StreetName  \\\n",
              "0       13009S          NaN  NaN  Docklands       528  COLLINS STREET   \n",
              "1       13009S          NaN  NaN  Docklands       528  COLLINS STREET   \n",
              "2       13009S          NaN  NaN  Docklands       528  COLLINS STREET   \n",
              "3       13009S          NaN  NaN  Docklands       528  COLLINS STREET   \n",
              "4       13009S          NaN  NaN  Docklands       528  COLLINS STREET   \n",
              "\n",
              "   BetweenStreet1ID  BetweenStreet1  BetweenStreet2ID      BetweenStreet2  \\\n",
              "0              1285  SPENCER STREET                79  BATMANS HILL DRIVE   \n",
              "1              1285  SPENCER STREET                79  BATMANS HILL DRIVE   \n",
              "2              1285  SPENCER STREET                79  BATMANS HILL DRIVE   \n",
              "3              1285  SPENCER STREET                79  BATMANS HILL DRIVE   \n",
              "4              1285  SPENCER STREET                79  BATMANS HILL DRIVE   \n",
              "\n",
              "   SideOfStreet SideOfStreetCode SideName  BayId  InViolation  VehiclePresent  \n",
              "0             4                S    South   6005        False            True  \n",
              "1             4                S    South   6005        False            True  \n",
              "2             4                S    South   6005        False            True  \n",
              "3             4                S    South   6005        False           False  \n",
              "4             4                S    South   6005        False            True  "
            ],
            "text/html": [
              "\n",
              "  <div id=\"df-3f499bd4-795e-4884-9701-2a08d35b38a3\">\n",
              "    <div class=\"colab-df-container\">\n",
              "      <div>\n",
              "<style scoped>\n",
              "    .dataframe tbody tr th:only-of-type {\n",
              "        vertical-align: middle;\n",
              "    }\n",
              "\n",
              "    .dataframe tbody tr th {\n",
              "        vertical-align: top;\n",
              "    }\n",
              "\n",
              "    .dataframe thead th {\n",
              "        text-align: right;\n",
              "    }\n",
              "</style>\n",
              "<table border=\"1\" class=\"dataframe\">\n",
              "  <thead>\n",
              "    <tr style=\"text-align: right;\">\n",
              "      <th></th>\n",
              "      <th>DeviceId</th>\n",
              "      <th>ArrivalTime</th>\n",
              "      <th>DepartureTime</th>\n",
              "      <th>DurationMinutes</th>\n",
              "      <th>StreetMarker</th>\n",
              "      <th>SignPlateID</th>\n",
              "      <th>Sign</th>\n",
              "      <th>AreaName</th>\n",
              "      <th>StreetId</th>\n",
              "      <th>StreetName</th>\n",
              "      <th>BetweenStreet1ID</th>\n",
              "      <th>BetweenStreet1</th>\n",
              "      <th>BetweenStreet2ID</th>\n",
              "      <th>BetweenStreet2</th>\n",
              "      <th>SideOfStreet</th>\n",
              "      <th>SideOfStreetCode</th>\n",
              "      <th>SideName</th>\n",
              "      <th>BayId</th>\n",
              "      <th>InViolation</th>\n",
              "      <th>VehiclePresent</th>\n",
              "    </tr>\n",
              "  </thead>\n",
              "  <tbody>\n",
              "    <tr>\n",
              "      <th>0</th>\n",
              "      <td>17176</td>\n",
              "      <td>02/15/2019 07:45:29 PM</td>\n",
              "      <td>02/15/2019 07:46:52 PM</td>\n",
              "      <td>1</td>\n",
              "      <td>13009S</td>\n",
              "      <td>NaN</td>\n",
              "      <td>NaN</td>\n",
              "      <td>Docklands</td>\n",
              "      <td>528</td>\n",
              "      <td>COLLINS STREET</td>\n",
              "      <td>1285</td>\n",
              "      <td>SPENCER STREET</td>\n",
              "      <td>79</td>\n",
              "      <td>BATMANS HILL DRIVE</td>\n",
              "      <td>4</td>\n",
              "      <td>S</td>\n",
              "      <td>South</td>\n",
              "      <td>6005</td>\n",
              "      <td>False</td>\n",
              "      <td>True</td>\n",
              "    </tr>\n",
              "    <tr>\n",
              "      <th>1</th>\n",
              "      <td>17176</td>\n",
              "      <td>03/25/2019 08:35:40 PM</td>\n",
              "      <td>03/25/2019 08:39:08 PM</td>\n",
              "      <td>4</td>\n",
              "      <td>13009S</td>\n",
              "      <td>NaN</td>\n",
              "      <td>NaN</td>\n",
              "      <td>Docklands</td>\n",
              "      <td>528</td>\n",
              "      <td>COLLINS STREET</td>\n",
              "      <td>1285</td>\n",
              "      <td>SPENCER STREET</td>\n",
              "      <td>79</td>\n",
              "      <td>BATMANS HILL DRIVE</td>\n",
              "      <td>4</td>\n",
              "      <td>S</td>\n",
              "      <td>South</td>\n",
              "      <td>6005</td>\n",
              "      <td>False</td>\n",
              "      <td>True</td>\n",
              "    </tr>\n",
              "    <tr>\n",
              "      <th>2</th>\n",
              "      <td>17176</td>\n",
              "      <td>01/17/2019 05:28:55 AM</td>\n",
              "      <td>01/17/2019 06:57:09 AM</td>\n",
              "      <td>89</td>\n",
              "      <td>13009S</td>\n",
              "      <td>NaN</td>\n",
              "      <td>NaN</td>\n",
              "      <td>Docklands</td>\n",
              "      <td>528</td>\n",
              "      <td>COLLINS STREET</td>\n",
              "      <td>1285</td>\n",
              "      <td>SPENCER STREET</td>\n",
              "      <td>79</td>\n",
              "      <td>BATMANS HILL DRIVE</td>\n",
              "      <td>4</td>\n",
              "      <td>S</td>\n",
              "      <td>South</td>\n",
              "      <td>6005</td>\n",
              "      <td>False</td>\n",
              "      <td>True</td>\n",
              "    </tr>\n",
              "    <tr>\n",
              "      <th>3</th>\n",
              "      <td>17176</td>\n",
              "      <td>03/13/2019 10:18:17 PM</td>\n",
              "      <td>03/13/2019 10:18:24 PM</td>\n",
              "      <td>0</td>\n",
              "      <td>13009S</td>\n",
              "      <td>NaN</td>\n",
              "      <td>NaN</td>\n",
              "      <td>Docklands</td>\n",
              "      <td>528</td>\n",
              "      <td>COLLINS STREET</td>\n",
              "      <td>1285</td>\n",
              "      <td>SPENCER STREET</td>\n",
              "      <td>79</td>\n",
              "      <td>BATMANS HILL DRIVE</td>\n",
              "      <td>4</td>\n",
              "      <td>S</td>\n",
              "      <td>South</td>\n",
              "      <td>6005</td>\n",
              "      <td>False</td>\n",
              "      <td>False</td>\n",
              "    </tr>\n",
              "    <tr>\n",
              "      <th>4</th>\n",
              "      <td>17176</td>\n",
              "      <td>01/18/2019 06:04:37 AM</td>\n",
              "      <td>01/18/2019 06:07:29 AM</td>\n",
              "      <td>3</td>\n",
              "      <td>13009S</td>\n",
              "      <td>NaN</td>\n",
              "      <td>NaN</td>\n",
              "      <td>Docklands</td>\n",
              "      <td>528</td>\n",
              "      <td>COLLINS STREET</td>\n",
              "      <td>1285</td>\n",
              "      <td>SPENCER STREET</td>\n",
              "      <td>79</td>\n",
              "      <td>BATMANS HILL DRIVE</td>\n",
              "      <td>4</td>\n",
              "      <td>S</td>\n",
              "      <td>South</td>\n",
              "      <td>6005</td>\n",
              "      <td>False</td>\n",
              "      <td>True</td>\n",
              "    </tr>\n",
              "  </tbody>\n",
              "</table>\n",
              "</div>\n",
              "      <button class=\"colab-df-convert\" onclick=\"convertToInteractive('df-3f499bd4-795e-4884-9701-2a08d35b38a3')\"\n",
              "              title=\"Convert this dataframe to an interactive table.\"\n",
              "              style=\"display:none;\">\n",
              "        \n",
              "  <svg xmlns=\"http://www.w3.org/2000/svg\" height=\"24px\"viewBox=\"0 0 24 24\"\n",
              "       width=\"24px\">\n",
              "    <path d=\"M0 0h24v24H0V0z\" fill=\"none\"/>\n",
              "    <path d=\"M18.56 5.44l.94 2.06.94-2.06 2.06-.94-2.06-.94-.94-2.06-.94 2.06-2.06.94zm-11 1L8.5 8.5l.94-2.06 2.06-.94-2.06-.94L8.5 2.5l-.94 2.06-2.06.94zm10 10l.94 2.06.94-2.06 2.06-.94-2.06-.94-.94-2.06-.94 2.06-2.06.94z\"/><path d=\"M17.41 7.96l-1.37-1.37c-.4-.4-.92-.59-1.43-.59-.52 0-1.04.2-1.43.59L10.3 9.45l-7.72 7.72c-.78.78-.78 2.05 0 2.83L4 21.41c.39.39.9.59 1.41.59.51 0 1.02-.2 1.41-.59l7.78-7.78 2.81-2.81c.8-.78.8-2.07 0-2.86zM5.41 20L4 18.59l7.72-7.72 1.47 1.35L5.41 20z\"/>\n",
              "  </svg>\n",
              "      </button>\n",
              "      \n",
              "  <style>\n",
              "    .colab-df-container {\n",
              "      display:flex;\n",
              "      flex-wrap:wrap;\n",
              "      gap: 12px;\n",
              "    }\n",
              "\n",
              "    .colab-df-convert {\n",
              "      background-color: #E8F0FE;\n",
              "      border: none;\n",
              "      border-radius: 50%;\n",
              "      cursor: pointer;\n",
              "      display: none;\n",
              "      fill: #1967D2;\n",
              "      height: 32px;\n",
              "      padding: 0 0 0 0;\n",
              "      width: 32px;\n",
              "    }\n",
              "\n",
              "    .colab-df-convert:hover {\n",
              "      background-color: #E2EBFA;\n",
              "      box-shadow: 0px 1px 2px rgba(60, 64, 67, 0.3), 0px 1px 3px 1px rgba(60, 64, 67, 0.15);\n",
              "      fill: #174EA6;\n",
              "    }\n",
              "\n",
              "    [theme=dark] .colab-df-convert {\n",
              "      background-color: #3B4455;\n",
              "      fill: #D2E3FC;\n",
              "    }\n",
              "\n",
              "    [theme=dark] .colab-df-convert:hover {\n",
              "      background-color: #434B5C;\n",
              "      box-shadow: 0px 1px 3px 1px rgba(0, 0, 0, 0.15);\n",
              "      filter: drop-shadow(0px 1px 2px rgba(0, 0, 0, 0.3));\n",
              "      fill: #FFFFFF;\n",
              "    }\n",
              "  </style>\n",
              "\n",
              "      <script>\n",
              "        const buttonEl =\n",
              "          document.querySelector('#df-3f499bd4-795e-4884-9701-2a08d35b38a3 button.colab-df-convert');\n",
              "        buttonEl.style.display =\n",
              "          google.colab.kernel.accessAllowed ? 'block' : 'none';\n",
              "\n",
              "        async function convertToInteractive(key) {\n",
              "          const element = document.querySelector('#df-3f499bd4-795e-4884-9701-2a08d35b38a3');\n",
              "          const dataTable =\n",
              "            await google.colab.kernel.invokeFunction('convertToInteractive',\n",
              "                                                     [key], {});\n",
              "          if (!dataTable) return;\n",
              "\n",
              "          const docLinkHtml = 'Like what you see? Visit the ' +\n",
              "            '<a target=\"_blank\" href=https://colab.research.google.com/notebooks/data_table.ipynb>data table notebook</a>'\n",
              "            + ' to learn more about interactive tables.';\n",
              "          element.innerHTML = '';\n",
              "          dataTable['output_type'] = 'display_data';\n",
              "          await google.colab.output.renderOutput(dataTable, element);\n",
              "          const docLink = document.createElement('div');\n",
              "          docLink.innerHTML = docLinkHtml;\n",
              "          element.appendChild(docLink);\n",
              "        }\n",
              "      </script>\n",
              "    </div>\n",
              "  </div>\n",
              "  "
            ]
          },
          "metadata": {},
          "execution_count": 2
        }
      ],
      "source": [
        "#let's load the  dataset \n",
        "dataq=pd.read_csv(\"/content/drive/MyDrive/melbourne_parking_data.csv\",encoding='ISO-8859-1')\n",
        "dataq.head()"
      ]
    },
    {
      "cell_type": "code",
      "execution_count": 3,
      "metadata": {
        "colab": {
          "base_uri": "https://localhost:8080/",
          "height": 496
        },
        "id": "VMQcrR4gd-P1",
        "outputId": "51003bf1-8a08-4a66-db63-3a2d1c087520"
      },
      "outputs": [
        {
          "output_type": "execute_result",
          "data": {
            "text/plain": [
              "         DeviceId             ArrivalTime           DepartureTime  \\\n",
              "1048570     17419  01/21/2019 07:17:38 AM  01/21/2019 07:30:00 AM   \n",
              "1048571     17418  11/18/2019 10:05:57 PM  11/18/2019 10:07:31 PM   \n",
              "1048572     17420  06/13/2019 09:30:00 AM  06/13/2019 10:02:23 AM   \n",
              "1048573     17418  05/15/2019 04:31:54 PM  05/15/2019 04:32:56 PM   \n",
              "1048574     17418  05/25/2019 06:10:25 PM  05/25/2019 06:18:14 PM   \n",
              "\n",
              "         DurationMinutes StreetMarker  SignPlateID                   Sign  \\\n",
              "1048570               13       13398E          NaN                    NaN   \n",
              "1048571                2       13397W          NaN                    NaN   \n",
              "1048572               32       13399W         99.0  2P MTR M-F 9:30-16:00   \n",
              "1048573                1       13397W        430.0   1/4P M-F 16:00-18:30   \n",
              "1048574                8       13397W        362.0  1P SAT-SUN 7:30-18:30   \n",
              "\n",
              "          AreaName  StreetId          StreetName  BetweenStreet1ID  \\\n",
              "1048570  Docklands        79  BATMANS HILL DRIVE              1457   \n",
              "1048571  Docklands      1383      VILLAGE STREET               131   \n",
              "1048572  Docklands      1383      VILLAGE STREET               131   \n",
              "1048573  Docklands      1383      VILLAGE STREET               131   \n",
              "1048574  Docklands      1383      VILLAGE STREET               131   \n",
              "\n",
              "         BetweenStreet1  BetweenStreet2ID  BetweenStreet2  SideOfStreet  \\\n",
              "1048570  FISHPLATE LANE               528  COLLINS STREET             2   \n",
              "1048571    BRENTANI WAY               974   MCCRAE STREET             5   \n",
              "1048572    BRENTANI WAY               974   MCCRAE STREET             5   \n",
              "1048573    BRENTANI WAY               974   MCCRAE STREET             5   \n",
              "1048574    BRENTANI WAY               974   MCCRAE STREET             5   \n",
              "\n",
              "        SideOfStreetCode SideName  BayId  InViolation  VehiclePresent  \n",
              "1048570                E     East   6656        False            True  \n",
              "1048571                W     West   6320        False           False  \n",
              "1048572                W     West   6321        False            True  \n",
              "1048573                W     West   6320        False           False  \n",
              "1048574                W     West   6320        False            True  "
            ],
            "text/html": [
              "\n",
              "  <div id=\"df-e7b3590f-b0b4-4d66-9b5b-6ded2baa6010\">\n",
              "    <div class=\"colab-df-container\">\n",
              "      <div>\n",
              "<style scoped>\n",
              "    .dataframe tbody tr th:only-of-type {\n",
              "        vertical-align: middle;\n",
              "    }\n",
              "\n",
              "    .dataframe tbody tr th {\n",
              "        vertical-align: top;\n",
              "    }\n",
              "\n",
              "    .dataframe thead th {\n",
              "        text-align: right;\n",
              "    }\n",
              "</style>\n",
              "<table border=\"1\" class=\"dataframe\">\n",
              "  <thead>\n",
              "    <tr style=\"text-align: right;\">\n",
              "      <th></th>\n",
              "      <th>DeviceId</th>\n",
              "      <th>ArrivalTime</th>\n",
              "      <th>DepartureTime</th>\n",
              "      <th>DurationMinutes</th>\n",
              "      <th>StreetMarker</th>\n",
              "      <th>SignPlateID</th>\n",
              "      <th>Sign</th>\n",
              "      <th>AreaName</th>\n",
              "      <th>StreetId</th>\n",
              "      <th>StreetName</th>\n",
              "      <th>BetweenStreet1ID</th>\n",
              "      <th>BetweenStreet1</th>\n",
              "      <th>BetweenStreet2ID</th>\n",
              "      <th>BetweenStreet2</th>\n",
              "      <th>SideOfStreet</th>\n",
              "      <th>SideOfStreetCode</th>\n",
              "      <th>SideName</th>\n",
              "      <th>BayId</th>\n",
              "      <th>InViolation</th>\n",
              "      <th>VehiclePresent</th>\n",
              "    </tr>\n",
              "  </thead>\n",
              "  <tbody>\n",
              "    <tr>\n",
              "      <th>1048570</th>\n",
              "      <td>17419</td>\n",
              "      <td>01/21/2019 07:17:38 AM</td>\n",
              "      <td>01/21/2019 07:30:00 AM</td>\n",
              "      <td>13</td>\n",
              "      <td>13398E</td>\n",
              "      <td>NaN</td>\n",
              "      <td>NaN</td>\n",
              "      <td>Docklands</td>\n",
              "      <td>79</td>\n",
              "      <td>BATMANS HILL DRIVE</td>\n",
              "      <td>1457</td>\n",
              "      <td>FISHPLATE LANE</td>\n",
              "      <td>528</td>\n",
              "      <td>COLLINS STREET</td>\n",
              "      <td>2</td>\n",
              "      <td>E</td>\n",
              "      <td>East</td>\n",
              "      <td>6656</td>\n",
              "      <td>False</td>\n",
              "      <td>True</td>\n",
              "    </tr>\n",
              "    <tr>\n",
              "      <th>1048571</th>\n",
              "      <td>17418</td>\n",
              "      <td>11/18/2019 10:05:57 PM</td>\n",
              "      <td>11/18/2019 10:07:31 PM</td>\n",
              "      <td>2</td>\n",
              "      <td>13397W</td>\n",
              "      <td>NaN</td>\n",
              "      <td>NaN</td>\n",
              "      <td>Docklands</td>\n",
              "      <td>1383</td>\n",
              "      <td>VILLAGE STREET</td>\n",
              "      <td>131</td>\n",
              "      <td>BRENTANI WAY</td>\n",
              "      <td>974</td>\n",
              "      <td>MCCRAE STREET</td>\n",
              "      <td>5</td>\n",
              "      <td>W</td>\n",
              "      <td>West</td>\n",
              "      <td>6320</td>\n",
              "      <td>False</td>\n",
              "      <td>False</td>\n",
              "    </tr>\n",
              "    <tr>\n",
              "      <th>1048572</th>\n",
              "      <td>17420</td>\n",
              "      <td>06/13/2019 09:30:00 AM</td>\n",
              "      <td>06/13/2019 10:02:23 AM</td>\n",
              "      <td>32</td>\n",
              "      <td>13399W</td>\n",
              "      <td>99.0</td>\n",
              "      <td>2P MTR M-F 9:30-16:00</td>\n",
              "      <td>Docklands</td>\n",
              "      <td>1383</td>\n",
              "      <td>VILLAGE STREET</td>\n",
              "      <td>131</td>\n",
              "      <td>BRENTANI WAY</td>\n",
              "      <td>974</td>\n",
              "      <td>MCCRAE STREET</td>\n",
              "      <td>5</td>\n",
              "      <td>W</td>\n",
              "      <td>West</td>\n",
              "      <td>6321</td>\n",
              "      <td>False</td>\n",
              "      <td>True</td>\n",
              "    </tr>\n",
              "    <tr>\n",
              "      <th>1048573</th>\n",
              "      <td>17418</td>\n",
              "      <td>05/15/2019 04:31:54 PM</td>\n",
              "      <td>05/15/2019 04:32:56 PM</td>\n",
              "      <td>1</td>\n",
              "      <td>13397W</td>\n",
              "      <td>430.0</td>\n",
              "      <td>1/4P M-F 16:00-18:30</td>\n",
              "      <td>Docklands</td>\n",
              "      <td>1383</td>\n",
              "      <td>VILLAGE STREET</td>\n",
              "      <td>131</td>\n",
              "      <td>BRENTANI WAY</td>\n",
              "      <td>974</td>\n",
              "      <td>MCCRAE STREET</td>\n",
              "      <td>5</td>\n",
              "      <td>W</td>\n",
              "      <td>West</td>\n",
              "      <td>6320</td>\n",
              "      <td>False</td>\n",
              "      <td>False</td>\n",
              "    </tr>\n",
              "    <tr>\n",
              "      <th>1048574</th>\n",
              "      <td>17418</td>\n",
              "      <td>05/25/2019 06:10:25 PM</td>\n",
              "      <td>05/25/2019 06:18:14 PM</td>\n",
              "      <td>8</td>\n",
              "      <td>13397W</td>\n",
              "      <td>362.0</td>\n",
              "      <td>1P SAT-SUN 7:30-18:30</td>\n",
              "      <td>Docklands</td>\n",
              "      <td>1383</td>\n",
              "      <td>VILLAGE STREET</td>\n",
              "      <td>131</td>\n",
              "      <td>BRENTANI WAY</td>\n",
              "      <td>974</td>\n",
              "      <td>MCCRAE STREET</td>\n",
              "      <td>5</td>\n",
              "      <td>W</td>\n",
              "      <td>West</td>\n",
              "      <td>6320</td>\n",
              "      <td>False</td>\n",
              "      <td>True</td>\n",
              "    </tr>\n",
              "  </tbody>\n",
              "</table>\n",
              "</div>\n",
              "      <button class=\"colab-df-convert\" onclick=\"convertToInteractive('df-e7b3590f-b0b4-4d66-9b5b-6ded2baa6010')\"\n",
              "              title=\"Convert this dataframe to an interactive table.\"\n",
              "              style=\"display:none;\">\n",
              "        \n",
              "  <svg xmlns=\"http://www.w3.org/2000/svg\" height=\"24px\"viewBox=\"0 0 24 24\"\n",
              "       width=\"24px\">\n",
              "    <path d=\"M0 0h24v24H0V0z\" fill=\"none\"/>\n",
              "    <path d=\"M18.56 5.44l.94 2.06.94-2.06 2.06-.94-2.06-.94-.94-2.06-.94 2.06-2.06.94zm-11 1L8.5 8.5l.94-2.06 2.06-.94-2.06-.94L8.5 2.5l-.94 2.06-2.06.94zm10 10l.94 2.06.94-2.06 2.06-.94-2.06-.94-.94-2.06-.94 2.06-2.06.94z\"/><path d=\"M17.41 7.96l-1.37-1.37c-.4-.4-.92-.59-1.43-.59-.52 0-1.04.2-1.43.59L10.3 9.45l-7.72 7.72c-.78.78-.78 2.05 0 2.83L4 21.41c.39.39.9.59 1.41.59.51 0 1.02-.2 1.41-.59l7.78-7.78 2.81-2.81c.8-.78.8-2.07 0-2.86zM5.41 20L4 18.59l7.72-7.72 1.47 1.35L5.41 20z\"/>\n",
              "  </svg>\n",
              "      </button>\n",
              "      \n",
              "  <style>\n",
              "    .colab-df-container {\n",
              "      display:flex;\n",
              "      flex-wrap:wrap;\n",
              "      gap: 12px;\n",
              "    }\n",
              "\n",
              "    .colab-df-convert {\n",
              "      background-color: #E8F0FE;\n",
              "      border: none;\n",
              "      border-radius: 50%;\n",
              "      cursor: pointer;\n",
              "      display: none;\n",
              "      fill: #1967D2;\n",
              "      height: 32px;\n",
              "      padding: 0 0 0 0;\n",
              "      width: 32px;\n",
              "    }\n",
              "\n",
              "    .colab-df-convert:hover {\n",
              "      background-color: #E2EBFA;\n",
              "      box-shadow: 0px 1px 2px rgba(60, 64, 67, 0.3), 0px 1px 3px 1px rgba(60, 64, 67, 0.15);\n",
              "      fill: #174EA6;\n",
              "    }\n",
              "\n",
              "    [theme=dark] .colab-df-convert {\n",
              "      background-color: #3B4455;\n",
              "      fill: #D2E3FC;\n",
              "    }\n",
              "\n",
              "    [theme=dark] .colab-df-convert:hover {\n",
              "      background-color: #434B5C;\n",
              "      box-shadow: 0px 1px 3px 1px rgba(0, 0, 0, 0.15);\n",
              "      filter: drop-shadow(0px 1px 2px rgba(0, 0, 0, 0.3));\n",
              "      fill: #FFFFFF;\n",
              "    }\n",
              "  </style>\n",
              "\n",
              "      <script>\n",
              "        const buttonEl =\n",
              "          document.querySelector('#df-e7b3590f-b0b4-4d66-9b5b-6ded2baa6010 button.colab-df-convert');\n",
              "        buttonEl.style.display =\n",
              "          google.colab.kernel.accessAllowed ? 'block' : 'none';\n",
              "\n",
              "        async function convertToInteractive(key) {\n",
              "          const element = document.querySelector('#df-e7b3590f-b0b4-4d66-9b5b-6ded2baa6010');\n",
              "          const dataTable =\n",
              "            await google.colab.kernel.invokeFunction('convertToInteractive',\n",
              "                                                     [key], {});\n",
              "          if (!dataTable) return;\n",
              "\n",
              "          const docLinkHtml = 'Like what you see? Visit the ' +\n",
              "            '<a target=\"_blank\" href=https://colab.research.google.com/notebooks/data_table.ipynb>data table notebook</a>'\n",
              "            + ' to learn more about interactive tables.';\n",
              "          element.innerHTML = '';\n",
              "          dataTable['output_type'] = 'display_data';\n",
              "          await google.colab.output.renderOutput(dataTable, element);\n",
              "          const docLink = document.createElement('div');\n",
              "          docLink.innerHTML = docLinkHtml;\n",
              "          element.appendChild(docLink);\n",
              "        }\n",
              "      </script>\n",
              "    </div>\n",
              "  </div>\n",
              "  "
            ]
          },
          "metadata": {},
          "execution_count": 3
        }
      ],
      "source": [
        "dataq.tail()"
      ]
    },
    {
      "cell_type": "markdown",
      "source": [
        "## Exploring our dataset"
      ],
      "metadata": {
        "id": "K70_62MCFOJA"
      }
    },
    {
      "cell_type": "code",
      "execution_count": 19,
      "metadata": {
        "colab": {
          "base_uri": "https://localhost:8080/"
        },
        "id": "B5JC-BkIhzCY",
        "outputId": "07439f40-17ee-4686-db5a-157904e4572e"
      },
      "outputs": [
        {
          "output_type": "execute_result",
          "data": {
            "text/plain": [
              "(1048575, 20)"
            ]
          },
          "metadata": {},
          "execution_count": 19
        }
      ],
      "source": [
        "dataq.shape"
      ]
    },
    {
      "cell_type": "code",
      "execution_count": 20,
      "metadata": {
        "colab": {
          "base_uri": "https://localhost:8080/"
        },
        "id": "Zq_XDx4kqiXI",
        "outputId": "8cef85e1-8a8b-413e-f5be-b5bf93a3583f"
      },
      "outputs": [
        {
          "output_type": "execute_result",
          "data": {
            "text/plain": [
              "DeviceId                 0\n",
              "ArrivalTime              0\n",
              "DepartureTime            0\n",
              "DurationMinutes          0\n",
              "StreetMarker             0\n",
              "SignPlateID         286382\n",
              "Sign                286382\n",
              "AreaName                 1\n",
              "StreetId                 0\n",
              "StreetName               0\n",
              "BetweenStreet1ID         0\n",
              "BetweenStreet1           0\n",
              "BetweenStreet2ID         0\n",
              "BetweenStreet2           0\n",
              "SideOfStreet             0\n",
              "SideOfStreetCode         0\n",
              "SideName                 0\n",
              "BayId                    0\n",
              "InViolation              0\n",
              "VehiclePresent           0\n",
              "dtype: int64"
            ]
          },
          "metadata": {},
          "execution_count": 20
        }
      ],
      "source": [
        "dataq.isna().sum()"
      ]
    },
    {
      "cell_type": "code",
      "execution_count": 6,
      "metadata": {
        "colab": {
          "base_uri": "https://localhost:8080/"
        },
        "id": "AXIf3JWeqx0Y",
        "outputId": "9cf27f0c-2dca-4319-c10a-710074f2502f"
      },
      "outputs": [
        {
          "output_type": "execute_result",
          "data": {
            "text/plain": [
              "407"
            ]
          },
          "metadata": {},
          "execution_count": 6
        }
      ],
      "source": [
        "dataq.duplicated().sum()"
      ]
    },
    {
      "cell_type": "code",
      "execution_count": 7,
      "metadata": {
        "colab": {
          "base_uri": "https://localhost:8080/"
        },
        "id": "NNajnJmfbfUP",
        "outputId": "b000346b-9006-47a4-a90e-348b9590c75d"
      },
      "outputs": [
        {
          "output_type": "execute_result",
          "data": {
            "text/plain": [
              "DeviceId              int64\n",
              "ArrivalTime          object\n",
              "DepartureTime        object\n",
              "DurationMinutes       int64\n",
              "StreetMarker         object\n",
              "SignPlateID         float64\n",
              "Sign                 object\n",
              "AreaName             object\n",
              "StreetId              int64\n",
              "StreetName           object\n",
              "BetweenStreet1ID      int64\n",
              "BetweenStreet1       object\n",
              "BetweenStreet2ID      int64\n",
              "BetweenStreet2       object\n",
              "SideOfStreet          int64\n",
              "SideOfStreetCode     object\n",
              "SideName             object\n",
              "BayId                 int64\n",
              "InViolation            bool\n",
              "VehiclePresent         bool\n",
              "dtype: object"
            ]
          },
          "metadata": {},
          "execution_count": 7
        }
      ],
      "source": [
        "dataq.dtypes"
      ]
    },
    {
      "cell_type": "code",
      "source": [
        "dataq.dtypes"
      ],
      "metadata": {
        "colab": {
          "base_uri": "https://localhost:8080/"
        },
        "id": "EmNDHob_Ta_T",
        "outputId": "eeadd863-fc36-40ff-ea29-5b9b58961fcc"
      },
      "execution_count": 9,
      "outputs": [
        {
          "output_type": "execute_result",
          "data": {
            "text/plain": [
              "DeviceId              int64\n",
              "ArrivalTime          object\n",
              "DepartureTime        object\n",
              "DurationMinutes       int64\n",
              "StreetMarker         object\n",
              "SignPlateID         float64\n",
              "Sign                 object\n",
              "AreaName             object\n",
              "StreetId              int64\n",
              "StreetName           object\n",
              "BetweenStreet1ID      int64\n",
              "BetweenStreet1       object\n",
              "BetweenStreet2ID      int64\n",
              "BetweenStreet2       object\n",
              "SideOfStreet          int64\n",
              "SideOfStreetCode     object\n",
              "SideName             object\n",
              "BayId                 int64\n",
              "InViolation            bool\n",
              "VehiclePresent         bool\n",
              "dtype: object"
            ]
          },
          "metadata": {},
          "execution_count": 9
        }
      ]
    },
    {
      "cell_type": "code",
      "execution_count": 8,
      "metadata": {
        "colab": {
          "base_uri": "https://localhost:8080/"
        },
        "id": "4LQggV6jsRvX",
        "outputId": "87018f5c-93ab-4971-a57b-a390223a806d"
      },
      "outputs": [
        {
          "output_type": "execute_result",
          "data": {
            "text/plain": [
              "<bound method DataFrame.info of          DeviceId             ArrivalTime           DepartureTime  \\\n",
              "0           17176  02/15/2019 07:45:29 PM  02/15/2019 07:46:52 PM   \n",
              "1           17176  03/25/2019 08:35:40 PM  03/25/2019 08:39:08 PM   \n",
              "2           17176  01/17/2019 05:28:55 AM  01/17/2019 06:57:09 AM   \n",
              "3           17176  03/13/2019 10:18:17 PM  03/13/2019 10:18:24 PM   \n",
              "4           17176  01/18/2019 06:04:37 AM  01/18/2019 06:07:29 AM   \n",
              "...           ...                     ...                     ...   \n",
              "1048570     17419  01/21/2019 07:17:38 AM  01/21/2019 07:30:00 AM   \n",
              "1048571     17418  11/18/2019 10:05:57 PM  11/18/2019 10:07:31 PM   \n",
              "1048572     17420  06/13/2019 09:30:00 AM  06/13/2019 10:02:23 AM   \n",
              "1048573     17418  05/15/2019 04:31:54 PM  05/15/2019 04:32:56 PM   \n",
              "1048574     17418  05/25/2019 06:10:25 PM  05/25/2019 06:18:14 PM   \n",
              "\n",
              "         DurationMinutes StreetMarker  SignPlateID                   Sign  \\\n",
              "0                      1       13009S          NaN                    NaN   \n",
              "1                      4       13009S          NaN                    NaN   \n",
              "2                     89       13009S          NaN                    NaN   \n",
              "3                      0       13009S          NaN                    NaN   \n",
              "4                      3       13009S          NaN                    NaN   \n",
              "...                  ...          ...          ...                    ...   \n",
              "1048570               13       13398E          NaN                    NaN   \n",
              "1048571                2       13397W          NaN                    NaN   \n",
              "1048572               32       13399W         99.0  2P MTR M-F 9:30-16:00   \n",
              "1048573                1       13397W        430.0   1/4P M-F 16:00-18:30   \n",
              "1048574                8       13397W        362.0  1P SAT-SUN 7:30-18:30   \n",
              "\n",
              "          AreaName  StreetId          StreetName  BetweenStreet1ID  \\\n",
              "0        Docklands       528      COLLINS STREET              1285   \n",
              "1        Docklands       528      COLLINS STREET              1285   \n",
              "2        Docklands       528      COLLINS STREET              1285   \n",
              "3        Docklands       528      COLLINS STREET              1285   \n",
              "4        Docklands       528      COLLINS STREET              1285   \n",
              "...            ...       ...                 ...               ...   \n",
              "1048570  Docklands        79  BATMANS HILL DRIVE              1457   \n",
              "1048571  Docklands      1383      VILLAGE STREET               131   \n",
              "1048572  Docklands      1383      VILLAGE STREET               131   \n",
              "1048573  Docklands      1383      VILLAGE STREET               131   \n",
              "1048574  Docklands      1383      VILLAGE STREET               131   \n",
              "\n",
              "         BetweenStreet1  BetweenStreet2ID      BetweenStreet2  SideOfStreet  \\\n",
              "0        SPENCER STREET                79  BATMANS HILL DRIVE             4   \n",
              "1        SPENCER STREET                79  BATMANS HILL DRIVE             4   \n",
              "2        SPENCER STREET                79  BATMANS HILL DRIVE             4   \n",
              "3        SPENCER STREET                79  BATMANS HILL DRIVE             4   \n",
              "4        SPENCER STREET                79  BATMANS HILL DRIVE             4   \n",
              "...                 ...               ...                 ...           ...   \n",
              "1048570  FISHPLATE LANE               528      COLLINS STREET             2   \n",
              "1048571    BRENTANI WAY               974       MCCRAE STREET             5   \n",
              "1048572    BRENTANI WAY               974       MCCRAE STREET             5   \n",
              "1048573    BRENTANI WAY               974       MCCRAE STREET             5   \n",
              "1048574    BRENTANI WAY               974       MCCRAE STREET             5   \n",
              "\n",
              "        SideOfStreetCode SideName  BayId  InViolation  VehiclePresent  \n",
              "0                      S    South   6005        False            True  \n",
              "1                      S    South   6005        False            True  \n",
              "2                      S    South   6005        False            True  \n",
              "3                      S    South   6005        False           False  \n",
              "4                      S    South   6005        False            True  \n",
              "...                  ...      ...    ...          ...             ...  \n",
              "1048570                E     East   6656        False            True  \n",
              "1048571                W     West   6320        False           False  \n",
              "1048572                W     West   6321        False            True  \n",
              "1048573                W     West   6320        False           False  \n",
              "1048574                W     West   6320        False            True  \n",
              "\n",
              "[1048575 rows x 20 columns]>"
            ]
          },
          "metadata": {},
          "execution_count": 8
        }
      ],
      "source": [
        "dataq.info"
      ]
    },
    {
      "cell_type": "code",
      "source": [
        "# We will first load the sql extension into our environment\n",
        "#\n",
        "%reload_ext sql\n",
        "\n",
        "# Then connect to our in memory sqlite database\n",
        "# NB: This database will cease to exist as soon as the database connection is closed\n",
        "#\n",
        "%sql sqlite://"
      ],
      "metadata": {
        "id": "7Pv2BXzJTdWG"
      },
      "execution_count": 23,
      "outputs": []
    },
    {
      "cell_type": "code",
      "source": [
        "#we first convert our database into csv so that we can run in the  sql environment\n",
        "# converting to CSV file\n",
        "dataq.to_csv(\"dataq2.csv\")"
      ],
      "metadata": {
        "id": "2qNCFbXRTnZq"
      },
      "execution_count": 11,
      "outputs": []
    },
    {
      "cell_type": "code",
      "source": [
        "#Load other dataset\n",
        "with open ('/content/dataq2.csv','r') as l:\n",
        "  bookl=pd.read_csv(l,index_col=0,delimiter=None,encoding='utf-8')\n",
        "%sql DROP table if EXISTS bookl\n",
        "%sql PERSIST bookl\n",
        "%sql SELECT * from bookl LIMIT 3;"
      ],
      "metadata": {
        "colab": {
          "base_uri": "https://localhost:8080/"
        },
        "id": "G_byTkQATum0",
        "outputId": "f397f639-5bf0-4a25-c2ee-1fa54aee90a1"
      },
      "execution_count": 15,
      "outputs": [
        {
          "output_type": "stream",
          "name": "stdout",
          "text": [
            " * sqlite://\n",
            "Done.\n",
            " * sqlite://\n",
            "(sqlite3.OperationalError) near \"PERSIST\": syntax error\n",
            "[SQL: PERSIST bookl]\n",
            "(Background on this error at: https://sqlalche.me/e/14/e3q8)\n",
            " * sqlite://\n",
            "(sqlite3.OperationalError) no such table: bookl\n",
            "[SQL: SELECT * from bookl LIMIT 3;]\n",
            "(Background on this error at: https://sqlalche.me/e/14/e3q8)\n"
          ]
        }
      ]
    },
    {
      "cell_type": "code",
      "source": [
        "#we try and get one column  areaname from this table created\n",
        "%%sql\n",
        "SELECT * from bookl\n",
        "LIMIT 5;"
      ],
      "metadata": {
        "colab": {
          "base_uri": "https://localhost:8080/"
        },
        "id": "a_p_rygNT-nl",
        "outputId": "a2993243-ef27-4da6-edfa-f66608e86e02"
      },
      "execution_count": 16,
      "outputs": [
        {
          "output_type": "stream",
          "name": "stdout",
          "text": [
            " * sqlite://\n",
            "(sqlite3.OperationalError) no such table: bookl\n",
            "[SQL: SELECT * from bookl\n",
            "LIMIT 5;]\n",
            "(Background on this error at: https://sqlalche.me/e/14/e3q8)\n"
          ]
        }
      ]
    },
    {
      "cell_type": "code",
      "source": [
        "#We first get the total tarnsactions this also transalates to number of customers served our devices have \n",
        "%%sql\n",
        "SELECT COUNT(DeviceId) AS \"Number of customers\" FROM bookl;"
      ],
      "metadata": {
        "colab": {
          "base_uri": "https://localhost:8080/"
        },
        "id": "-BB-bCztUNAm",
        "outputId": "12083b93-f94f-41c3-f8bf-d854fdddb6c4"
      },
      "execution_count": 17,
      "outputs": [
        {
          "output_type": "stream",
          "name": "stdout",
          "text": [
            " * sqlite://\n",
            "(sqlite3.OperationalError) no such table: bookl\n",
            "[SQL: SELECT COUNT(DeviceId) AS \"Number of customers\" FROM bookl;]\n",
            "(Background on this error at: https://sqlalche.me/e/14/e3q8)\n"
          ]
        }
      ]
    },
    {
      "cell_type": "code",
      "source": [
        "#we try and get the number of parking stations serving melnbourne city we can also determine if we will use a single or a multi server queue system\n",
        "%%sql\n",
        "\n",
        "SELECT COUNT( DISTINCT DeviceId ) AS \"Number of servers\" from bookl;"
      ],
      "metadata": {
        "colab": {
          "base_uri": "https://localhost:8080/"
        },
        "id": "RDNxu4VfUUgZ",
        "outputId": "2e21f6e1-c414-4e7d-e3f5-97ce5064661f"
      },
      "execution_count": 18,
      "outputs": [
        {
          "output_type": "stream",
          "name": "stdout",
          "text": [
            " * sqlite://\n",
            "(sqlite3.OperationalError) no such table: bookl\n",
            "[SQL: SELECT COUNT( DISTINCT DeviceId ) AS \"Number of servers\" from bookl;]\n",
            "(Background on this error at: https://sqlalche.me/e/14/e3q8)\n"
          ]
        }
      ]
    },
    {
      "cell_type": "code",
      "source": [
        "#we try and get the number of areanames that melbourne parking service facilaitates\n",
        "%%sql\n",
        "\n",
        "SELECT COUNT( DISTINCT StreetName ) AS \"streets of melbourne\" from bookl;"
      ],
      "metadata": {
        "id": "RSZzu_QwUqBf"
      },
      "execution_count": null,
      "outputs": []
    },
    {
      "cell_type": "code",
      "source": [
        "#we try and get the number of areas the parking stations are located in melnbourne city we can also determine if we will use a single or a multi server queue system\n",
        "%%sql\n",
        "\n",
        "SELECT COUNT( DISTINCT AreaName ) AS \"Number of Areanames\" from bookl;"
      ],
      "metadata": {
        "id": "fiUhDbhsUrSM"
      },
      "execution_count": null,
      "outputs": []
    },
    {
      "cell_type": "code",
      "source": [
        "#we also check which device has been used the most in each area and  docklands server 17418 seems to take the fair share of the transactions\n",
        "%%sql\n",
        "SELECT DeviceId,StreetName,AreaName, COUNT(*) as transactions_per_area FROM bookl\n",
        "GROUP BY AreaName\n",
        "ORDER BY transactions_per_area DESC\n",
        "LIMIT 18;"
      ],
      "metadata": {
        "id": "HE8CAlmYVnm2"
      },
      "execution_count": null,
      "outputs": []
    },
    {
      "cell_type": "code",
      "source": [
        "#we also check which device has been used the least in each area and  anonymous area of server 28421 seems to take the only 1 transaction\n",
        "%%sql\n",
        "CREATE TABLE percentage_transaction AS\n",
        "SELECT DeviceId,StreetName,AreaName, COUNT(*) as transactions_per_area FROM bookl\n",
        "GROUP BY AreaName\n",
        "ORDER BY transactions_per_area desc\n",
        "LIMIT 18;"
      ],
      "metadata": {
        "id": "zls6X_qBVpIX"
      },
      "execution_count": null,
      "outputs": []
    },
    {
      "cell_type": "code",
      "source": [
        "%%sql\n",
        "select DeviceId,AreaName,StreetName,transactions_per_area, (transactions_per_area) * 100.0 / (select sum(transactions_per_area) from percentage_transaction) as score\n",
        "from percentage_transaction\n",
        "group by AreaName\n",
        "order by score desc\n",
        "limit 10;"
      ],
      "metadata": {
        "id": "8Zz3MMY3Vv7I"
      },
      "execution_count": null,
      "outputs": []
    },
    {
      "cell_type": "code",
      "source": [
        "#we try and see how each device is used AND arrange them from the least used\n",
        "%%sql\n",
        "SELECT DeviceId, COUNT(*) FROM bookl\n",
        "GROUP BY DeviceId\n",
        "ORDER BY 2 DESC\n",
        "LIMIT 18;"
      ],
      "metadata": {
        "id": "KDf-A52uWIs4"
      },
      "execution_count": null,
      "outputs": []
    },
    {
      "cell_type": "code",
      "source": [
        "#we then get the number of stations in each area and dockalnads has most stations 228 \n",
        "%%sql\n",
        "\n",
        "SELECT DeviceId,AreaName,COUNT(DISTINCT DeviceId) as device_per_area FROM bookl\n",
        "GROUP BY AreaName\n",
        "ORDER BY device_per_area DESC\n",
        "LIMIT 10;"
      ],
      "metadata": {
        "id": "6pxpN4-uWPkj"
      },
      "execution_count": null,
      "outputs": []
    },
    {
      "cell_type": "code",
      "source": [
        "#we then check which areanames have high duration periods\n",
        "%%sql\n",
        "SELECT \tDeviceId,AreaName,COUNT(DISTINCT DurationMinutes)  as duration FROM bookl\n",
        "GROUP BY AreaName\n",
        "ORDER BY \tduration DESC\n",
        "LIMIT 10;"
      ],
      "metadata": {
        "id": "WLnW-Y5AWXb8"
      },
      "execution_count": null,
      "outputs": []
    },
    {
      "cell_type": "code",
      "source": [
        "#we then check which areanames have low duration periods\n",
        "%%sql\n",
        "SELECT \tDeviceId,AreaName,COUNT(DISTINCT DurationMinutes)  as duration FROM bookl\n",
        "GROUP BY AreaName\n",
        "ORDER BY \tduration ASC\n",
        "LIMIT 10;"
      ],
      "metadata": {
        "id": "i_zEB1QmWeC7"
      },
      "execution_count": null,
      "outputs": []
    },
    {
      "cell_type": "code",
      "source": [
        "#since docklands seems to be the area with most parking stations and most transactions we separate it and analyse alone\n",
        "%%sql\n",
        "\n",
        "CREATE TABLE Docklands_mains_parking AS\n",
        "SELECT DeviceId,AreaName,DurationMinutes,StreetName,BayId,VehiclePresent,Month,Day,hourarrive\n",
        "FROM bookl\n",
        "WHERE AreaName = \"Docklands\";"
      ],
      "metadata": {
        "id": "dmtbIu_RWkp9"
      },
      "execution_count": null,
      "outputs": []
    },
    {
      "cell_type": "code",
      "source": [
        "#we check which street has the highest number of duration minutes seems it is collins street and merchant street \n",
        "%%sql\n",
        "\n",
        "SELECT *\n",
        "FROM Docklands_mains_parking\n",
        "ORDER BY DurationMinutes desc\n",
        "LIMIT 20;"
      ],
      "metadata": {
        "id": "VeMIXj88Wsu_"
      },
      "execution_count": null,
      "outputs": []
    },
    {
      "cell_type": "code",
      "source": [
        "#We check specifically the server with most transactions in docklands sever 17418 we discover that its in village street with bayid=6320\n",
        "%%sql\n",
        "\n",
        "SELECT *\n",
        "FROM Docklands_mains_parking\n",
        "WHERE DeviceId =\"17418\" \n",
        "ORDER BY 3 DESC\n",
        "LIMIT 10;"
      ],
      "metadata": {
        "id": "tm9nF_42Wy7O"
      },
      "execution_count": null,
      "outputs": []
    },
    {
      "cell_type": "code",
      "source": [
        "#We go ahead and check where server 17418 that has a vehicle present AND as we can see the highest duration a car spends in village street is 660minutes\n",
        "%%sql\n",
        "\n",
        "SELECT *\n",
        "FROM Docklands_mains_parking\n",
        "WHERE DeviceId =\"17418\" AND VehiclePresent=\"1\"\n",
        "ORDER BY 3 DESC\n",
        "LIMIT 10;"
      ],
      "metadata": {
        "id": "usXMbTXSW5ES"
      },
      "execution_count": null,
      "outputs": []
    },
    {
      "cell_type": "code",
      "source": [
        "#we go ahead and investigate the streetnames in docklands that have duration times of more than 1000 and has a vehicle present\n",
        "#Most vehicles that have the longest duration are packed at midnight\n",
        "#colllins street seems to be most affected \n",
        "#and most vehicles are parked in the month of october\n",
        "%%sql\n",
        "SELECT *\n",
        "FROM Docklands_mains_parking\n",
        "WHERE DurationMinutes >\"1000\" AND VehiclePresent=\"1\"\n",
        "ORDER BY 3 ASC\n",
        "LIMIT 10;"
      ],
      "metadata": {
        "id": "cw113L8oW_3r"
      },
      "execution_count": null,
      "outputs": []
    },
    {
      "cell_type": "code",
      "source": [
        "%%sql\n",
        "SELECT *\n",
        "FROM Docklands_mains_parking\n",
        "WHERE DurationMinutes >\"1000\" AND VehiclePresent=\"1\"\n",
        "ORDER BY 3 DESC\n",
        "LIMIT 10;"
      ],
      "metadata": {
        "id": "IjrXKwV0XGdt"
      },
      "execution_count": null,
      "outputs": []
    },
    {
      "cell_type": "code",
      "source": [
        "#we go ahead and investigate collins street\n",
        "%%sql\n",
        "SELECT *\n",
        "FROM Docklands_mains_parking\n",
        "WHERE StreetName=\"COLLINS STREET\"\n",
        "ORDER BY 3 DESC\n",
        "LIMIT 10;"
      ],
      "metadata": {
        "id": "mKtcEcbfXNX2"
      },
      "execution_count": null,
      "outputs": []
    },
    {
      "cell_type": "code",
      "source": [
        "%%sql\n",
        "SELECT *\n",
        "FROM Docklands_mains_parking\n",
        "WHERE StreetName=\"COLLINS STREET\"\n",
        "ORDER BY 3 ASC\n",
        "LIMIT 10;"
      ],
      "metadata": {
        "id": "PdV_jR-JXT2j"
      },
      "execution_count": null,
      "outputs": []
    },
    {
      "cell_type": "code",
      "source": [
        "#we try and get the number of parking bays on collins street\n",
        "%%sql\n",
        "\n",
        "SELECT COUNT( DISTINCT BayID ) AS \"Number of bays in collins\" from Docklands_mains_parking\n",
        "WHERE StreetName=\"COLLINS STREET\";"
      ],
      "metadata": {
        "id": "uJk-bMCOXY7K"
      },
      "execution_count": null,
      "outputs": []
    },
    {
      "cell_type": "code",
      "source": [
        "#we can also try and get number of servers serving collins street\n",
        "%%sql\n",
        "\n",
        "SELECT COUNT( DISTINCT DeviceId ) AS \"Number of servers in collins\" from Docklands_mains_parking\n",
        "WHERE StreetName=\"COLLINS STREET\";"
      ],
      "metadata": {
        "id": "1UvDMaz6Xf-7"
      },
      "execution_count": null,
      "outputs": []
    },
    {
      "cell_type": "code",
      "source": [
        "#we can also try and get the average parking time on collins streeet\n",
        "%%sql\n",
        "\n",
        "SELECT AVG(DurationMinutes ) AS \"Average parking time in collins\" from Docklands_mains_parking\n",
        "WHERE StreetName=\"COLLINS STREET\";"
      ],
      "metadata": {
        "colab": {
          "base_uri": "https://localhost:8080/",
          "height": 96
        },
        "outputId": "ff929dd0-40c6-4d45-9d55-fc8c373623c2",
        "id": "GqgLJgd-YC67"
      },
      "execution_count": null,
      "outputs": [
        {
          "output_type": "stream",
          "name": "stdout",
          "text": [
            " * sqlite://\n",
            "Done.\n"
          ]
        },
        {
          "output_type": "execute_result",
          "data": {
            "text/plain": [
              "[(40.6161591717967,)]"
            ],
            "text/html": [
              "<table>\n",
              "    <thead>\n",
              "        <tr>\n",
              "            <th>Average parking time in collins</th>\n",
              "        </tr>\n",
              "    </thead>\n",
              "    <tbody>\n",
              "        <tr>\n",
              "            <td>40.6161591717967</td>\n",
              "        </tr>\n",
              "    </tbody>\n",
              "</table>"
            ]
          },
          "metadata": {},
          "execution_count": 55
        }
      ]
    },
    {
      "cell_type": "code",
      "source": [
        "#we can do the same for village street which holds the server with highest number of transactions\n",
        "%%sql\n",
        "\n",
        "SELECT COUNT( DISTINCT BayID ) AS \"Number of bays in village\" from Docklands_mains_parking\n",
        "WHERE StreetName=\"VILLAGE STREET\";"
      ],
      "metadata": {
        "id": "xIkFHcuf5iDG",
        "colab": {
          "base_uri": "https://localhost:8080/",
          "height": 96
        },
        "outputId": "0c6a5573-3799-4af2-97bf-224c954439c7"
      },
      "execution_count": null,
      "outputs": [
        {
          "output_type": "stream",
          "name": "stdout",
          "text": [
            " * sqlite://\n",
            "Done.\n"
          ]
        },
        {
          "output_type": "execute_result",
          "data": {
            "text/plain": [
              "[(9,)]"
            ],
            "text/html": [
              "<table>\n",
              "    <thead>\n",
              "        <tr>\n",
              "            <th>Number of bays in village</th>\n",
              "        </tr>\n",
              "    </thead>\n",
              "    <tbody>\n",
              "        <tr>\n",
              "            <td>9</td>\n",
              "        </tr>\n",
              "    </tbody>\n",
              "</table>"
            ]
          },
          "metadata": {},
          "execution_count": 56
        }
      ]
    },
    {
      "cell_type": "markdown",
      "metadata": {
        "id": "BWAny4J5a6wD"
      },
      "source": [
        "##Cleaning Data"
      ]
    },
    {
      "cell_type": "markdown",
      "source": [
        "**Class distribution**\n",
        "First, let’s look at the frequency distribution by parking zones (see Figure 3). Unsurprisingly, Zone 1 was most common since we would always try to find a parking space closest to my apartment block. The distribution also suggests a class imbalance, something to take into consideration when building and evaluating an ML model.\n",
        "\n"
      ],
      "metadata": {
        "id": "IqY-t7UkYO9c"
      }
    },
    {
      "cell_type": "markdown",
      "source": [
        "**Hour of the day**\n",
        "Next, let’s look at the percentage of parking sessions across different hours of the day by parking zones (see Figure 4). The later I returned home, the more unlikely it was to find parking space in Zone 1. This was common sense, but it was good to know that the data I collected validated this observation. Based on Figure 4, it also appeared that hour could be a useful feature in predicting parking availability."
      ],
      "metadata": {
        "id": "RReSA9GdYdRW"
      }
    },
    {
      "cell_type": "markdown",
      "source": [
        "**Day of the week**\n",
        "I also asked myself, “Are there certain days of the week where it is less probable to find a parking space in Zone 1?” Based on the data collected, yes! The probability of getting a parking space in Zone 1 was the highest on Mondays (~83%), decreased over the week days and was the lowest on Thursdays (~59%) and Sundays (~61%). Thus, day_of_week could also be a useful predictor for parking availability."
      ],
      "metadata": {
        "id": "yGaVsWbbYl1f"
      }
    },
    {
      "cell_type": "markdown",
      "source": [
        "**Public holiday, eve, or neither?**\n",
        "Through out the data collection period, it felt like it was harder to find a parking space in Zone 1 on public holidays. I guessed it was because the next day could be a working/schooling day and residents tend to stay home. The opposite was true for public holiday eves, meaning residents might not return home early since the next day was a public holiday."
      ],
      "metadata": {
        "id": "h0idzjOeYfCa"
      }
    },
    {
      "cell_type": "code",
      "execution_count": 10,
      "metadata": {
        "id": "20Xj2B9JbAs2"
      },
      "outputs": [],
      "source": [
        "#since the data is mostly clean we start with changing the date column from\"object\"to\"date\"\n",
        "#convert column to datetime pandas\n",
        "dataq['ArrivalTime'] = pd.to_datetime(dataq['ArrivalTime'])\n"
      ]
    },
    {
      "cell_type": "code",
      "execution_count": 11,
      "metadata": {
        "id": "lT3XrUPWcQ-9"
      },
      "outputs": [],
      "source": [
        "#since the data is mostly clean we start with changing the date column from\"object\"to\"date\"\n",
        "#convert column to datetime pandas\n",
        "dataq['DepartureTime'] = pd.to_datetime(dataq['DepartureTime'])\n"
      ]
    },
    {
      "cell_type": "code",
      "execution_count": 12,
      "metadata": {
        "id": "yn7PJSXwgSbw",
        "colab": {
          "base_uri": "https://localhost:8080/"
        },
        "outputId": "c2bebb1c-cf97-4798-fa4a-3f364d64a7d4"
      },
      "outputs": [
        {
          "output_type": "execute_result",
          "data": {
            "text/plain": [
              "DeviceId                     int64\n",
              "ArrivalTime         datetime64[ns]\n",
              "DepartureTime       datetime64[ns]\n",
              "DurationMinutes              int64\n",
              "StreetMarker                object\n",
              "SignPlateID                float64\n",
              "Sign                        object\n",
              "AreaName                    object\n",
              "StreetId                     int64\n",
              "StreetName                  object\n",
              "BetweenStreet1ID             int64\n",
              "BetweenStreet1              object\n",
              "BetweenStreet2ID             int64\n",
              "BetweenStreet2              object\n",
              "SideOfStreet                 int64\n",
              "SideOfStreetCode            object\n",
              "SideName                    object\n",
              "BayId                        int64\n",
              "InViolation                   bool\n",
              "VehiclePresent                bool\n",
              "dtype: object"
            ]
          },
          "metadata": {},
          "execution_count": 12
        }
      ],
      "source": [
        "dataq.dtypes"
      ]
    },
    {
      "cell_type": "code",
      "execution_count": 13,
      "metadata": {
        "id": "98Tgpyz8gXuv"
      },
      "outputs": [],
      "source": [
        "#we drop all unnecessary columns,we first drop signplateID Since we wont need it in our analysis\n",
        "#also we drop all other primary key columns sinceon eis enough\n",
        "#SignPlateID ,StreetId,BayId \n",
        "\n",
        "dataq.drop(columns=[\"Sign\",\"SignPlateID\",\"BetweenStreet1\",\"BetweenStreet2\",\"BetweenStreet1ID\",\"BetweenStreet2ID\"] ,axis=1, inplace=True) "
      ]
    },
    {
      "cell_type": "code",
      "execution_count": 14,
      "metadata": {
        "id": "hfFMXl7YX0gv",
        "colab": {
          "base_uri": "https://localhost:8080/",
          "height": 357
        },
        "outputId": "268049f9-02fa-44a4-cbfe-b6dd7182555d"
      },
      "outputs": [
        {
          "output_type": "execute_result",
          "data": {
            "text/plain": [
              "   DeviceId         ArrivalTime       DepartureTime  DurationMinutes  \\\n",
              "0     17176 2019-02-15 19:45:29 2019-02-15 19:46:52                1   \n",
              "1     17176 2019-03-25 20:35:40 2019-03-25 20:39:08                4   \n",
              "2     17176 2019-01-17 05:28:55 2019-01-17 06:57:09               89   \n",
              "3     17176 2019-03-13 22:18:17 2019-03-13 22:18:24                0   \n",
              "4     17176 2019-01-18 06:04:37 2019-01-18 06:07:29                3   \n",
              "\n",
              "  StreetMarker   AreaName  StreetId      StreetName  SideOfStreet  \\\n",
              "0       13009S  Docklands       528  COLLINS STREET             4   \n",
              "1       13009S  Docklands       528  COLLINS STREET             4   \n",
              "2       13009S  Docklands       528  COLLINS STREET             4   \n",
              "3       13009S  Docklands       528  COLLINS STREET             4   \n",
              "4       13009S  Docklands       528  COLLINS STREET             4   \n",
              "\n",
              "  SideOfStreetCode SideName  BayId  InViolation  VehiclePresent  \n",
              "0                S    South   6005        False            True  \n",
              "1                S    South   6005        False            True  \n",
              "2                S    South   6005        False            True  \n",
              "3                S    South   6005        False           False  \n",
              "4                S    South   6005        False            True  "
            ],
            "text/html": [
              "\n",
              "  <div id=\"df-a5b0ab06-8d0b-416f-9e29-7c6d0c97fbbf\">\n",
              "    <div class=\"colab-df-container\">\n",
              "      <div>\n",
              "<style scoped>\n",
              "    .dataframe tbody tr th:only-of-type {\n",
              "        vertical-align: middle;\n",
              "    }\n",
              "\n",
              "    .dataframe tbody tr th {\n",
              "        vertical-align: top;\n",
              "    }\n",
              "\n",
              "    .dataframe thead th {\n",
              "        text-align: right;\n",
              "    }\n",
              "</style>\n",
              "<table border=\"1\" class=\"dataframe\">\n",
              "  <thead>\n",
              "    <tr style=\"text-align: right;\">\n",
              "      <th></th>\n",
              "      <th>DeviceId</th>\n",
              "      <th>ArrivalTime</th>\n",
              "      <th>DepartureTime</th>\n",
              "      <th>DurationMinutes</th>\n",
              "      <th>StreetMarker</th>\n",
              "      <th>AreaName</th>\n",
              "      <th>StreetId</th>\n",
              "      <th>StreetName</th>\n",
              "      <th>SideOfStreet</th>\n",
              "      <th>SideOfStreetCode</th>\n",
              "      <th>SideName</th>\n",
              "      <th>BayId</th>\n",
              "      <th>InViolation</th>\n",
              "      <th>VehiclePresent</th>\n",
              "    </tr>\n",
              "  </thead>\n",
              "  <tbody>\n",
              "    <tr>\n",
              "      <th>0</th>\n",
              "      <td>17176</td>\n",
              "      <td>2019-02-15 19:45:29</td>\n",
              "      <td>2019-02-15 19:46:52</td>\n",
              "      <td>1</td>\n",
              "      <td>13009S</td>\n",
              "      <td>Docklands</td>\n",
              "      <td>528</td>\n",
              "      <td>COLLINS STREET</td>\n",
              "      <td>4</td>\n",
              "      <td>S</td>\n",
              "      <td>South</td>\n",
              "      <td>6005</td>\n",
              "      <td>False</td>\n",
              "      <td>True</td>\n",
              "    </tr>\n",
              "    <tr>\n",
              "      <th>1</th>\n",
              "      <td>17176</td>\n",
              "      <td>2019-03-25 20:35:40</td>\n",
              "      <td>2019-03-25 20:39:08</td>\n",
              "      <td>4</td>\n",
              "      <td>13009S</td>\n",
              "      <td>Docklands</td>\n",
              "      <td>528</td>\n",
              "      <td>COLLINS STREET</td>\n",
              "      <td>4</td>\n",
              "      <td>S</td>\n",
              "      <td>South</td>\n",
              "      <td>6005</td>\n",
              "      <td>False</td>\n",
              "      <td>True</td>\n",
              "    </tr>\n",
              "    <tr>\n",
              "      <th>2</th>\n",
              "      <td>17176</td>\n",
              "      <td>2019-01-17 05:28:55</td>\n",
              "      <td>2019-01-17 06:57:09</td>\n",
              "      <td>89</td>\n",
              "      <td>13009S</td>\n",
              "      <td>Docklands</td>\n",
              "      <td>528</td>\n",
              "      <td>COLLINS STREET</td>\n",
              "      <td>4</td>\n",
              "      <td>S</td>\n",
              "      <td>South</td>\n",
              "      <td>6005</td>\n",
              "      <td>False</td>\n",
              "      <td>True</td>\n",
              "    </tr>\n",
              "    <tr>\n",
              "      <th>3</th>\n",
              "      <td>17176</td>\n",
              "      <td>2019-03-13 22:18:17</td>\n",
              "      <td>2019-03-13 22:18:24</td>\n",
              "      <td>0</td>\n",
              "      <td>13009S</td>\n",
              "      <td>Docklands</td>\n",
              "      <td>528</td>\n",
              "      <td>COLLINS STREET</td>\n",
              "      <td>4</td>\n",
              "      <td>S</td>\n",
              "      <td>South</td>\n",
              "      <td>6005</td>\n",
              "      <td>False</td>\n",
              "      <td>False</td>\n",
              "    </tr>\n",
              "    <tr>\n",
              "      <th>4</th>\n",
              "      <td>17176</td>\n",
              "      <td>2019-01-18 06:04:37</td>\n",
              "      <td>2019-01-18 06:07:29</td>\n",
              "      <td>3</td>\n",
              "      <td>13009S</td>\n",
              "      <td>Docklands</td>\n",
              "      <td>528</td>\n",
              "      <td>COLLINS STREET</td>\n",
              "      <td>4</td>\n",
              "      <td>S</td>\n",
              "      <td>South</td>\n",
              "      <td>6005</td>\n",
              "      <td>False</td>\n",
              "      <td>True</td>\n",
              "    </tr>\n",
              "  </tbody>\n",
              "</table>\n",
              "</div>\n",
              "      <button class=\"colab-df-convert\" onclick=\"convertToInteractive('df-a5b0ab06-8d0b-416f-9e29-7c6d0c97fbbf')\"\n",
              "              title=\"Convert this dataframe to an interactive table.\"\n",
              "              style=\"display:none;\">\n",
              "        \n",
              "  <svg xmlns=\"http://www.w3.org/2000/svg\" height=\"24px\"viewBox=\"0 0 24 24\"\n",
              "       width=\"24px\">\n",
              "    <path d=\"M0 0h24v24H0V0z\" fill=\"none\"/>\n",
              "    <path d=\"M18.56 5.44l.94 2.06.94-2.06 2.06-.94-2.06-.94-.94-2.06-.94 2.06-2.06.94zm-11 1L8.5 8.5l.94-2.06 2.06-.94-2.06-.94L8.5 2.5l-.94 2.06-2.06.94zm10 10l.94 2.06.94-2.06 2.06-.94-2.06-.94-.94-2.06-.94 2.06-2.06.94z\"/><path d=\"M17.41 7.96l-1.37-1.37c-.4-.4-.92-.59-1.43-.59-.52 0-1.04.2-1.43.59L10.3 9.45l-7.72 7.72c-.78.78-.78 2.05 0 2.83L4 21.41c.39.39.9.59 1.41.59.51 0 1.02-.2 1.41-.59l7.78-7.78 2.81-2.81c.8-.78.8-2.07 0-2.86zM5.41 20L4 18.59l7.72-7.72 1.47 1.35L5.41 20z\"/>\n",
              "  </svg>\n",
              "      </button>\n",
              "      \n",
              "  <style>\n",
              "    .colab-df-container {\n",
              "      display:flex;\n",
              "      flex-wrap:wrap;\n",
              "      gap: 12px;\n",
              "    }\n",
              "\n",
              "    .colab-df-convert {\n",
              "      background-color: #E8F0FE;\n",
              "      border: none;\n",
              "      border-radius: 50%;\n",
              "      cursor: pointer;\n",
              "      display: none;\n",
              "      fill: #1967D2;\n",
              "      height: 32px;\n",
              "      padding: 0 0 0 0;\n",
              "      width: 32px;\n",
              "    }\n",
              "\n",
              "    .colab-df-convert:hover {\n",
              "      background-color: #E2EBFA;\n",
              "      box-shadow: 0px 1px 2px rgba(60, 64, 67, 0.3), 0px 1px 3px 1px rgba(60, 64, 67, 0.15);\n",
              "      fill: #174EA6;\n",
              "    }\n",
              "\n",
              "    [theme=dark] .colab-df-convert {\n",
              "      background-color: #3B4455;\n",
              "      fill: #D2E3FC;\n",
              "    }\n",
              "\n",
              "    [theme=dark] .colab-df-convert:hover {\n",
              "      background-color: #434B5C;\n",
              "      box-shadow: 0px 1px 3px 1px rgba(0, 0, 0, 0.15);\n",
              "      filter: drop-shadow(0px 1px 2px rgba(0, 0, 0, 0.3));\n",
              "      fill: #FFFFFF;\n",
              "    }\n",
              "  </style>\n",
              "\n",
              "      <script>\n",
              "        const buttonEl =\n",
              "          document.querySelector('#df-a5b0ab06-8d0b-416f-9e29-7c6d0c97fbbf button.colab-df-convert');\n",
              "        buttonEl.style.display =\n",
              "          google.colab.kernel.accessAllowed ? 'block' : 'none';\n",
              "\n",
              "        async function convertToInteractive(key) {\n",
              "          const element = document.querySelector('#df-a5b0ab06-8d0b-416f-9e29-7c6d0c97fbbf');\n",
              "          const dataTable =\n",
              "            await google.colab.kernel.invokeFunction('convertToInteractive',\n",
              "                                                     [key], {});\n",
              "          if (!dataTable) return;\n",
              "\n",
              "          const docLinkHtml = 'Like what you see? Visit the ' +\n",
              "            '<a target=\"_blank\" href=https://colab.research.google.com/notebooks/data_table.ipynb>data table notebook</a>'\n",
              "            + ' to learn more about interactive tables.';\n",
              "          element.innerHTML = '';\n",
              "          dataTable['output_type'] = 'display_data';\n",
              "          await google.colab.output.renderOutput(dataTable, element);\n",
              "          const docLink = document.createElement('div');\n",
              "          docLink.innerHTML = docLinkHtml;\n",
              "          element.appendChild(docLink);\n",
              "        }\n",
              "      </script>\n",
              "    </div>\n",
              "  </div>\n",
              "  "
            ]
          },
          "metadata": {},
          "execution_count": 14
        }
      ],
      "source": [
        "#also drop all the null values\n",
        "# using dropna() function  \n",
        "dataq.dropna()\n",
        "dataq.head()"
      ]
    },
    {
      "cell_type": "code",
      "execution_count": null,
      "metadata": {
        "id": "GW5LnMuGYbr2",
        "colab": {
          "base_uri": "https://localhost:8080/"
        },
        "outputId": "b5ac6de3-a3f7-4c90-f2b2-59aeec54fc54"
      },
      "outputs": [
        {
          "output_type": "execute_result",
          "data": {
            "text/plain": [
              "DeviceId            0\n",
              "ArrivalTime         0\n",
              "DepartureTime       0\n",
              "DurationMinutes     0\n",
              "StreetMarker        0\n",
              "AreaName            1\n",
              "StreetId            0\n",
              "StreetName          0\n",
              "SideOfStreet        0\n",
              "SideOfStreetCode    0\n",
              "SideName            0\n",
              "BayId               0\n",
              "InViolation         0\n",
              "VehiclePresent      0\n",
              "dtype: int64"
            ]
          },
          "metadata": {},
          "execution_count": 14
        }
      ],
      "source": [
        "dataq.isna().sum()"
      ]
    },
    {
      "cell_type": "code",
      "execution_count": 15,
      "metadata": {
        "id": "keF9VOGfjTMP",
        "colab": {
          "base_uri": "https://localhost:8080/"
        },
        "outputId": "47f778b7-38f8-493b-aac6-1ab3da823d8a"
      },
      "outputs": [
        {
          "output_type": "stream",
          "name": "stdout",
          "text": [
            "['DeviceId', 'ArrivalTime', 'DepartureTime', 'DurationMinutes', 'StreetMarker', 'AreaName', 'StreetId', 'StreetName', 'SideOfStreet', 'SideOfStreetCode', 'SideName', 'BayId', 'InViolation', 'VehiclePresent']\n"
          ]
        }
      ],
      "source": [
        "print(dataq.columns.tolist())"
      ]
    },
    {
      "cell_type": "code",
      "execution_count": 16,
      "metadata": {
        "id": "dXfETGKumCkJ"
      },
      "outputs": [],
      "source": [
        "#Exctract month and create a dedicated column df[\"Month\"] from a \n",
        "#column in datetime format df[\"Date\"]\n",
        "dataq['Month'] = pd.DatetimeIndex(dataq['ArrivalTime']).month"
      ]
    },
    {
      "cell_type": "code",
      "execution_count": 17,
      "metadata": {
        "id": "G3oyMZPzmRLp"
      },
      "outputs": [],
      "source": [
        "#Exctract month and create a dedicated column df[\"Month\"] from a \n",
        "#column in datetime format df[\"Date\"]\n",
        "dataq['Year'] = pd.DatetimeIndex(dataq['ArrivalTime']).year"
      ]
    },
    {
      "cell_type": "code",
      "execution_count": 18,
      "metadata": {
        "id": "GN612pQ9Txv9"
      },
      "outputs": [],
      "source": [
        "#Exctract day and create a dedicated column df[\"Day\"] from a \n",
        "#column in datetime format df[\"Date\"]\n",
        "dataq['Day'] = pd.DatetimeIndex(dataq['DepartureTime']).day"
      ]
    },
    {
      "cell_type": "code",
      "execution_count": 19,
      "metadata": {
        "id": "G6IOl6XNU5PN"
      },
      "outputs": [],
      "source": [
        "#Exctract day and create a dedicated column df[\"Day\"] from a \n",
        "#column in datetime format df[\"Date\"]\n",
        "dataq['hourarrive'] = pd.DatetimeIndex(dataq['ArrivalTime']).hour"
      ]
    },
    {
      "cell_type": "code",
      "execution_count": 20,
      "metadata": {
        "id": "CwYnouVvVAXU"
      },
      "outputs": [],
      "source": [
        "#Exctract day and create a dedicated column df[\"Day\"] from a \n",
        "#column in datetime format df[\"Date\"]\n",
        "dataq['secondarrive'] = pd.DatetimeIndex(dataq['ArrivalTime']).second"
      ]
    },
    {
      "cell_type": "code",
      "execution_count": 21,
      "metadata": {
        "id": "gX68YBW5VHgx"
      },
      "outputs": [],
      "source": [
        "#Exctract day and create a dedicated column df[\"Day\"] from a \n",
        "#column in datetime format df[\"Date\"]\n",
        "dataq['minutearrive'] = pd.DatetimeIndex(dataq['ArrivalTime']).minute"
      ]
    },
    {
      "cell_type": "code",
      "source": [
        "#Exctract day and create a dedicated column df[\"Day\"] from a \n",
        "#column in datetime format df[\"Date\"]\n",
        "dataq['seconddepart'] = pd.DatetimeIndex(dataq['DepartureTime']).second"
      ],
      "metadata": {
        "id": "fVvDyXNpznFy"
      },
      "execution_count": 22,
      "outputs": []
    },
    {
      "cell_type": "code",
      "source": [
        "#Exctract day and create a dedicated column df[\"Day\"] from a \n",
        "#column in datetime format df[\"Date\"]\n",
        "dataq['minutedepart'] = pd.DatetimeIndex(dataq['DepartureTime']).minute"
      ],
      "metadata": {
        "id": "GhhUt6yLzpzm"
      },
      "execution_count": 23,
      "outputs": []
    },
    {
      "cell_type": "code",
      "execution_count": null,
      "metadata": {
        "id": "nwo9o7aNmvrE"
      },
      "outputs": [],
      "source": [
        "dataq.dtypes"
      ]
    },
    {
      "cell_type": "code",
      "source": [
        "from datetime import date\n",
        "import holidays\n",
        "  \n",
        "# Select country\n",
        "AU_holidays = holidays.Australia()\n",
        "  \n",
        "# Print all the holidays in Australia in year 2019\n",
        "for ptr in holidays.Australia(years = 2019\n",
        "                              ).items():\n",
        "    print(ptr)"
      ],
      "metadata": {
        "id": "efLKln550T_d"
      },
      "execution_count": null,
      "outputs": []
    },
    {
      "cell_type": "markdown",
      "metadata": {
        "id": "Z8oWeDm2nDT-"
      },
      "source": [
        "##Data Analysis"
      ]
    },
    {
      "cell_type": "code",
      "execution_count": null,
      "metadata": {
        "id": "zARvxEYCnG73"
      },
      "outputs": [],
      "source": [
        "dataq.describe"
      ]
    },
    {
      "cell_type": "code",
      "source": [
        "#We will create the inter-arrival rate column by saving our cleaned data into csv first\n",
        "#We will then add the inter-arrival column using excel and the upload into the google drive \n",
        "#we will then run the csv with the inter-arrival colummn back into the python environment where we will conduct in-depth analysis\n"
      ],
      "metadata": {
        "id": "pBhE_Q5Mycen"
      },
      "execution_count": null,
      "outputs": []
    },
    {
      "cell_type": "code",
      "source": [
        "#we then check if our arrival times are stationary\n",
        "#to check stationarity we draw a scatter plot of cumulative customers(y-axis)\n",
        "#and that of cumulative arrival times(x-axis)\n",
        "\n"
      ],
      "metadata": {
        "id": "s7LUPrWQydsy"
      },
      "execution_count": null,
      "outputs": []
    },
    {
      "cell_type": "code",
      "source": [
        "#this is a multiple server queue simulation\n",
        "l = 1 # average number of arrivals per minute\n",
        "µ =1.5 # average number of people served per minute\n",
        "ncust =1000# number of customers\n",
        "c=1 # number of servers\n",
        "#empty dictionary for computing the utilization with each configuration of servers\n",
        "utilization={}"
      ],
      "metadata": {
        "id": "8ULVz1Q6yuXh"
      },
      "execution_count": null,
      "outputs": []
    },
    {
      "cell_type": "code",
      "source": [
        "%%sql\n",
        "\n",
        "SELECT COUNT( DISTINCT DeviceId) AS \"Number of servers in village\" from Docklands_mains_parking\n",
        "WHERE StreetName=\"VILLAGE STREET\";"
      ],
      "metadata": {
        "id": "MrohYiPV6CWH",
        "colab": {
          "base_uri": "https://localhost:8080/",
          "height": 96
        },
        "outputId": "269abe04-cc86-4a1f-af50-a1e7ad3b1d5f"
      },
      "execution_count": null,
      "outputs": [
        {
          "output_type": "stream",
          "name": "stdout",
          "text": [
            " * sqlite://\n",
            "Done.\n"
          ]
        },
        {
          "output_type": "execute_result",
          "data": {
            "text/plain": [
              "[(11,)]"
            ],
            "text/html": [
              "<table>\n",
              "    <thead>\n",
              "        <tr>\n",
              "            <th>Number of servers in village</th>\n",
              "        </tr>\n",
              "    </thead>\n",
              "    <tbody>\n",
              "        <tr>\n",
              "            <td>11</td>\n",
              "        </tr>\n",
              "    </tbody>\n",
              "</table>"
            ]
          },
          "metadata": {},
          "execution_count": 57
        }
      ]
    },
    {
      "cell_type": "code",
      "source": [
        "%%sql\n",
        "\n",
        "SELECT AVG(DurationMinutes ) AS \"Average parking time in village\" from Docklands_mains_parking\n",
        "WHERE StreetName=\"VILLAGE STREET\";"
      ],
      "metadata": {
        "id": "D3ntcQBC6hrn",
        "colab": {
          "base_uri": "https://localhost:8080/",
          "height": 96
        },
        "outputId": "bc53c644-f9f2-4dc4-8b2a-5bfe2a2ed95d"
      },
      "execution_count": null,
      "outputs": [
        {
          "output_type": "stream",
          "name": "stdout",
          "text": [
            " * sqlite://\n",
            "Done.\n"
          ]
        },
        {
          "output_type": "execute_result",
          "data": {
            "text/plain": [
              "[(56.62669712512392,)]"
            ],
            "text/html": [
              "<table>\n",
              "    <thead>\n",
              "        <tr>\n",
              "            <th>Average parking time in village</th>\n",
              "        </tr>\n",
              "    </thead>\n",
              "    <tbody>\n",
              "        <tr>\n",
              "            <td>56.62669712512392</td>\n",
              "        </tr>\n",
              "    </tbody>\n",
              "</table>"
            ]
          },
          "metadata": {},
          "execution_count": 58
        }
      ]
    },
    {
      "cell_type": "code",
      "source": [
        "#we try and get the number of parking stations serving melnbourne city we can also determine if we will use a single or a multi server queue system\n",
        "%%sql\n",
        "\n",
        "SELECT COUNT( DISTINCT StreetName ) AS \"Number of streets in docklands\" from Docklands_mains_parking;"
      ],
      "metadata": {
        "id": "swssmd7mvTcH",
        "colab": {
          "base_uri": "https://localhost:8080/",
          "height": 96
        },
        "outputId": "d65584db-12c2-4d7c-9b19-67930a94b92f"
      },
      "execution_count": null,
      "outputs": [
        {
          "output_type": "stream",
          "name": "stdout",
          "text": [
            " * sqlite://\n",
            "Done.\n"
          ]
        },
        {
          "output_type": "execute_result",
          "data": {
            "text/plain": [
              "[(25,)]"
            ],
            "text/html": [
              "<table>\n",
              "    <thead>\n",
              "        <tr>\n",
              "            <th>Number of streets in docklands</th>\n",
              "        </tr>\n",
              "    </thead>\n",
              "    <tbody>\n",
              "        <tr>\n",
              "            <td>25</td>\n",
              "        </tr>\n",
              "    </tbody>\n",
              "</table>"
            ]
          },
          "metadata": {},
          "execution_count": 59
        }
      ]
    },
    {
      "cell_type": "code",
      "source": [
        "#we try and get the number of parking stations serving melnbourne city we can also determine if we will use a single or a multi server queue system\n",
        "%%sql\n",
        "\n",
        "SELECT COUNT( DISTINCT BayID ) AS \"Number of bays in docklands\" from Docklands_mains_parking;"
      ],
      "metadata": {
        "id": "lQHjNIFGy04X",
        "colab": {
          "base_uri": "https://localhost:8080/",
          "height": 96
        },
        "outputId": "8c90ad64-7337-43cf-f3f6-7df536b0df1c"
      },
      "execution_count": null,
      "outputs": [
        {
          "output_type": "stream",
          "name": "stdout",
          "text": [
            " * sqlite://\n",
            "Done.\n"
          ]
        },
        {
          "output_type": "execute_result",
          "data": {
            "text/plain": [
              "[(204,)]"
            ],
            "text/html": [
              "<table>\n",
              "    <thead>\n",
              "        <tr>\n",
              "            <th>Number of bays in docklands</th>\n",
              "        </tr>\n",
              "    </thead>\n",
              "    <tbody>\n",
              "        <tr>\n",
              "            <td>204</td>\n",
              "        </tr>\n",
              "    </tbody>\n",
              "</table>"
            ]
          },
          "metadata": {},
          "execution_count": 60
        }
      ]
    },
    {
      "cell_type": "code",
      "source": [
        "#we try and get the number of parking stations serving melnbourne city we can also determine if we will use a single or a multi server queue system\n",
        "%%sql\n",
        "\n",
        "SELECT COUNT( DISTINCT DeviceId ) AS \"Number of devicesdocklands\" from Docklands_mains_parking;"
      ],
      "metadata": {
        "id": "cl6Ao0Xkvx4g",
        "colab": {
          "base_uri": "https://localhost:8080/"
        },
        "outputId": "921c58dc-3769-4304-aa10-d98e00a62032"
      },
      "execution_count": null,
      "outputs": [
        {
          "output_type": "stream",
          "name": "stdout",
          "text": [
            " * sqlite://\n",
            "Done.\n"
          ]
        },
        {
          "output_type": "execute_result",
          "data": {
            "text/plain": [
              "[(228,)]"
            ],
            "text/html": [
              "<table>\n",
              "    <thead>\n",
              "        <tr>\n",
              "            <th>Number of devicesdocklands</th>\n",
              "        </tr>\n",
              "    </thead>\n",
              "    <tbody>\n",
              "        <tr>\n",
              "            <td>228</td>\n",
              "        </tr>\n",
              "    </tbody>\n",
              "</table>"
            ]
          },
          "metadata": {},
          "execution_count": 61
        }
      ]
    },
    {
      "cell_type": "code",
      "source": [
        "#we try and get the number of parking stations serving melnbourne city we can also determine if we will use a single or a multi server queue system\n",
        "%%sql\n",
        "\n",
        "SELECT AVG(DurationMinutes ) AS \"Average parking time in docks\" from Docklands_mains_parking;"
      ],
      "metadata": {
        "id": "DqpsyEeYw4j2",
        "colab": {
          "base_uri": "https://localhost:8080/"
        },
        "outputId": "295d5a17-691b-4eb9-bf8e-437ae8a14577"
      },
      "execution_count": null,
      "outputs": [
        {
          "output_type": "stream",
          "name": "stdout",
          "text": [
            " * sqlite://\n",
            "Done.\n"
          ]
        },
        {
          "output_type": "execute_result",
          "data": {
            "text/plain": [
              "[(47.990664235179544,)]"
            ],
            "text/html": [
              "<table>\n",
              "    <thead>\n",
              "        <tr>\n",
              "            <th>Average parking time in docks</th>\n",
              "        </tr>\n",
              "    </thead>\n",
              "    <tbody>\n",
              "        <tr>\n",
              "            <td>47.990664235179544</td>\n",
              "        </tr>\n",
              "    </tbody>\n",
              "</table>"
            ]
          },
          "metadata": {},
          "execution_count": 62
        }
      ]
    },
    {
      "cell_type": "code",
      "source": [
        "#we try and get the number of parking stations serving melnbourne city we can also determine if we will use a single or a multi server queue system\n",
        "%%sql\n",
        "\n",
        "SELECT  MIN(DurationMinutes ) AS \"Minimum parking time in docks\" from Docklands_mains_parking;"
      ],
      "metadata": {
        "id": "a9SvgR-QxS7W",
        "colab": {
          "base_uri": "https://localhost:8080/"
        },
        "outputId": "00dd72e1-cabe-4c1f-b25f-48fd528cdf85"
      },
      "execution_count": null,
      "outputs": [
        {
          "output_type": "stream",
          "name": "stdout",
          "text": [
            " * sqlite://\n",
            "Done.\n"
          ]
        },
        {
          "output_type": "execute_result",
          "data": {
            "text/plain": [
              "[(0,)]"
            ],
            "text/html": [
              "<table>\n",
              "    <thead>\n",
              "        <tr>\n",
              "            <th>Minimum parking time in docks</th>\n",
              "        </tr>\n",
              "    </thead>\n",
              "    <tbody>\n",
              "        <tr>\n",
              "            <td>0</td>\n",
              "        </tr>\n",
              "    </tbody>\n",
              "</table>"
            ]
          },
          "metadata": {},
          "execution_count": 63
        }
      ]
    },
    {
      "cell_type": "code",
      "source": [
        "#we try and get the number of parking stations serving melnbourne city we can also determine if we will use a single or a multi server queue system\n",
        "%%sql\n",
        "\n",
        "SELECT MAX(DurationMinutes ) AS \"Maximum parking time in docks\" from Docklands_mains_parking;"
      ],
      "metadata": {
        "id": "M8Pqm7VaxaQN",
        "colab": {
          "base_uri": "https://localhost:8080/"
        },
        "outputId": "184a667c-c1c9-460d-b287-5347e71c98f2"
      },
      "execution_count": null,
      "outputs": [
        {
          "output_type": "stream",
          "name": "stdout",
          "text": [
            " * sqlite://\n",
            "Done.\n"
          ]
        },
        {
          "output_type": "execute_result",
          "data": {
            "text/plain": [
              "[(1440,)]"
            ],
            "text/html": [
              "<table>\n",
              "    <thead>\n",
              "        <tr>\n",
              "            <th>Maximum parking time in docks</th>\n",
              "        </tr>\n",
              "    </thead>\n",
              "    <tbody>\n",
              "        <tr>\n",
              "            <td>1440</td>\n",
              "        </tr>\n",
              "    </tbody>\n",
              "</table>"
            ]
          },
          "metadata": {},
          "execution_count": 64
        }
      ]
    },
    {
      "cell_type": "markdown",
      "source": [
        "From the above its an indication that we our model can only follow multiserver model queing system since most most the cars(90& and above) the parking station in the docklands.\n",
        "Multiserver queue system must hab other characteristics\n",
        " \n",
        " All the parking stations are assumed to work at the identical capacity.\n",
        "\n",
        "*   The arrival of cars follows the poisson distribution \n",
        " \n",
        "*   Parking stations service follows the exponential distribution.\n",
        "\n",
        "*  All the parking stations are assumed to work at the identical capacity.\n",
        "\n",
        "\n"
      ],
      "metadata": {
        "id": "Gm6Eu2MtBKPo"
      }
    },
    {
      "cell_type": "code",
      "execution_count": null,
      "metadata": {
        "id": "kEwPMy5vxA8K",
        "colab": {
          "base_uri": "https://localhost:8080/"
        },
        "outputId": "a76bf57b-433f-4857-bdcb-a1862842d002"
      },
      "outputs": [
        {
          "output_type": "execute_result",
          "data": {
            "text/plain": [
              "<seaborn.axisgrid.FacetGrid at 0x7f29f957b070>"
            ]
          },
          "metadata": {},
          "execution_count": 65
        },
        {
          "output_type": "display_data",
          "data": {
            "text/plain": [
              "<Figure size 360x360 with 1 Axes>"
            ],
            "image/png": "[encoded data removed]"
          },
          "metadata": {
            "needs_background": "light"
          }
        }
      ],
      "source": [
        "sns.catplot(data=dataq, x=\"VehiclePresent\", kind=\"count\", palette=\"rainbow\")"
      ]
    },
    {
      "cell_type": "code",
      "execution_count": null,
      "metadata": {
        "id": "Ew0IOE7CxLpU",
        "colab": {
          "base_uri": "https://localhost:8080/"
        },
        "outputId": "88d9977d-7258-4169-eb03-8540ce1dd57c"
      },
      "outputs": [
        {
          "output_type": "error",
          "ename": "ValueError",
          "evalue": "ignored",
          "traceback": [
            "\u001b[0;31m---------------------------------------------------------------------------\u001b[0m",
            "\u001b[0;31mValueError\u001b[0m                                Traceback (most recent call last)",
            "\u001b[0;32m<ipython-input-66-d6586c65ab08>\u001b[0m in \u001b[0;36m<module>\u001b[0;34m\u001b[0m\n\u001b[0;32m----> 1\u001b[0;31m \u001b[0msns\u001b[0m\u001b[0;34m.\u001b[0m\u001b[0mcatplot\u001b[0m\u001b[0;34m(\u001b[0m\u001b[0mdata\u001b[0m\u001b[0;34m=\u001b[0m\u001b[0mdataq\u001b[0m\u001b[0;34m,\u001b[0m \u001b[0mx\u001b[0m\u001b[0;34m=\u001b[0m\u001b[0;34m\"Yeardepart\"\u001b[0m\u001b[0;34m,\u001b[0m \u001b[0mkind\u001b[0m\u001b[0;34m=\u001b[0m\u001b[0;34m\"count\"\u001b[0m\u001b[0;34m,\u001b[0m \u001b[0mpalette\u001b[0m\u001b[0;34m=\u001b[0m\u001b[0;34m\"ch:.25\"\u001b[0m\u001b[0;34m)\u001b[0m\u001b[0;34m\u001b[0m\u001b[0;34m\u001b[0m\u001b[0m\n\u001b[0m",
            "\u001b[0;32m/usr/local/lib/python3.9/dist-packages/seaborn/_decorators.py\u001b[0m in \u001b[0;36minner_f\u001b[0;34m(*args, **kwargs)\u001b[0m\n\u001b[1;32m     44\u001b[0m             )\n\u001b[1;32m     45\u001b[0m         \u001b[0mkwargs\u001b[0m\u001b[0;34m.\u001b[0m\u001b[0mupdate\u001b[0m\u001b[0;34m(\u001b[0m\u001b[0;34m{\u001b[0m\u001b[0mk\u001b[0m\u001b[0;34m:\u001b[0m \u001b[0marg\u001b[0m \u001b[0;32mfor\u001b[0m \u001b[0mk\u001b[0m\u001b[0;34m,\u001b[0m \u001b[0marg\u001b[0m \u001b[0;32min\u001b[0m \u001b[0mzip\u001b[0m\u001b[0;34m(\u001b[0m\u001b[0msig\u001b[0m\u001b[0;34m.\u001b[0m\u001b[0mparameters\u001b[0m\u001b[0;34m,\u001b[0m \u001b[0margs\u001b[0m\u001b[0;34m)\u001b[0m\u001b[0;34m}\u001b[0m\u001b[0;34m)\u001b[0m\u001b[0;34m\u001b[0m\u001b[0;34m\u001b[0m\u001b[0m\n\u001b[0;32m---> 46\u001b[0;31m         \u001b[0;32mreturn\u001b[0m \u001b[0mf\u001b[0m\u001b[0;34m(\u001b[0m\u001b[0;34m**\u001b[0m\u001b[0mkwargs\u001b[0m\u001b[0;34m)\u001b[0m\u001b[0;34m\u001b[0m\u001b[0;34m\u001b[0m\u001b[0m\n\u001b[0m\u001b[1;32m     47\u001b[0m     \u001b[0;32mreturn\u001b[0m \u001b[0minner_f\u001b[0m\u001b[0;34m\u001b[0m\u001b[0;34m\u001b[0m\u001b[0m\n\u001b[1;32m     48\u001b[0m \u001b[0;34m\u001b[0m\u001b[0m\n",
            "\u001b[0;32m/usr/local/lib/python3.9/dist-packages/seaborn/categorical.py\u001b[0m in \u001b[0;36mcatplot\u001b[0;34m(x, y, hue, data, row, col, col_wrap, estimator, ci, n_boot, units, seed, order, hue_order, row_order, col_order, kind, height, aspect, orient, color, palette, legend, legend_out, sharex, sharey, margin_titles, facet_kws, **kwargs)\u001b[0m\n\u001b[1;32m   3790\u001b[0m     \u001b[0mp\u001b[0m \u001b[0;34m=\u001b[0m \u001b[0m_CategoricalPlotter\u001b[0m\u001b[0;34m(\u001b[0m\u001b[0;34m)\u001b[0m\u001b[0;34m\u001b[0m\u001b[0;34m\u001b[0m\u001b[0m\n\u001b[1;32m   3791\u001b[0m     \u001b[0mp\u001b[0m\u001b[0;34m.\u001b[0m\u001b[0mrequire_numeric\u001b[0m \u001b[0;34m=\u001b[0m \u001b[0mplotter_class\u001b[0m\u001b[0;34m.\u001b[0m\u001b[0mrequire_numeric\u001b[0m\u001b[0;34m\u001b[0m\u001b[0;34m\u001b[0m\u001b[0m\n\u001b[0;32m-> 3792\u001b[0;31m     \u001b[0mp\u001b[0m\u001b[0;34m.\u001b[0m\u001b[0mestablish_variables\u001b[0m\u001b[0;34m(\u001b[0m\u001b[0mx_\u001b[0m\u001b[0;34m,\u001b[0m \u001b[0my_\u001b[0m\u001b[0;34m,\u001b[0m \u001b[0mhue\u001b[0m\u001b[0;34m,\u001b[0m \u001b[0mdata\u001b[0m\u001b[0;34m,\u001b[0m \u001b[0morient\u001b[0m\u001b[0;34m,\u001b[0m \u001b[0morder\u001b[0m\u001b[0;34m,\u001b[0m \u001b[0mhue_order\u001b[0m\u001b[0;34m)\u001b[0m\u001b[0;34m\u001b[0m\u001b[0;34m\u001b[0m\u001b[0m\n\u001b[0m\u001b[1;32m   3793\u001b[0m     if (\n\u001b[1;32m   3794\u001b[0m         \u001b[0morder\u001b[0m \u001b[0;32mis\u001b[0m \u001b[0;32mnot\u001b[0m \u001b[0;32mNone\u001b[0m\u001b[0;34m\u001b[0m\u001b[0;34m\u001b[0m\u001b[0m\n",
            "\u001b[0;32m/usr/local/lib/python3.9/dist-packages/seaborn/categorical.py\u001b[0m in \u001b[0;36mestablish_variables\u001b[0;34m(self, x, y, hue, data, orient, order, hue_order, units)\u001b[0m\n\u001b[1;32m    151\u001b[0m                 \u001b[0;32mif\u001b[0m \u001b[0misinstance\u001b[0m\u001b[0;34m(\u001b[0m\u001b[0mvar\u001b[0m\u001b[0;34m,\u001b[0m \u001b[0mstr\u001b[0m\u001b[0;34m)\u001b[0m\u001b[0;34m:\u001b[0m\u001b[0;34m\u001b[0m\u001b[0;34m\u001b[0m\u001b[0m\n\u001b[1;32m    152\u001b[0m                     \u001b[0merr\u001b[0m \u001b[0;34m=\u001b[0m \u001b[0;34m\"Could not interpret input '{}'\"\u001b[0m\u001b[0;34m.\u001b[0m\u001b[0mformat\u001b[0m\u001b[0;34m(\u001b[0m\u001b[0mvar\u001b[0m\u001b[0;34m)\u001b[0m\u001b[0;34m\u001b[0m\u001b[0;34m\u001b[0m\u001b[0m\n\u001b[0;32m--> 153\u001b[0;31m                     \u001b[0;32mraise\u001b[0m \u001b[0mValueError\u001b[0m\u001b[0;34m(\u001b[0m\u001b[0merr\u001b[0m\u001b[0;34m)\u001b[0m\u001b[0;34m\u001b[0m\u001b[0;34m\u001b[0m\u001b[0m\n\u001b[0m\u001b[1;32m    154\u001b[0m \u001b[0;34m\u001b[0m\u001b[0m\n\u001b[1;32m    155\u001b[0m             \u001b[0;31m# Figure out the plotting orientation\u001b[0m\u001b[0;34m\u001b[0m\u001b[0;34m\u001b[0m\u001b[0m\n",
            "\u001b[0;31mValueError\u001b[0m: Could not interpret input 'Yeardepart'"
          ]
        }
      ],
      "source": [
        "sns.catplot(data=dataq, x=\"Yeardepart\", kind=\"count\", palette=\"ch:.25\")"
      ]
    },
    {
      "cell_type": "code",
      "execution_count": null,
      "metadata": {
        "id": "gO_RUVaVO-t7"
      },
      "outputs": [],
      "source": [
        "sns.countplot(y='SideName',data=dataq)"
      ]
    },
    {
      "cell_type": "code",
      "execution_count": null,
      "metadata": {
        "id": "d6CIKBpKy6FC"
      },
      "outputs": [],
      "source": [
        "sns.catplot(data=dataq, y=\"InViolation\", kind=\"count\", palette=\"rainbow\")"
      ]
    },
    {
      "cell_type": "code",
      "source": [
        "sns.catplot(data=dataq, y=\"AreaName\", kind=\"count\", palette=\"rainbow\")"
      ],
      "metadata": {
        "id": "fhlEyPoT94gz"
      },
      "execution_count": null,
      "outputs": []
    },
    {
      "cell_type": "code",
      "execution_count": null,
      "metadata": {
        "id": "rjLpF-dzC0KY"
      },
      "outputs": [],
      "source": [
        "sns.lineplot(x='DurationMinutes',y='DeviceId',data=dataq)"
      ]
    },
    {
      "cell_type": "code",
      "execution_count": null,
      "metadata": {
        "id": "BjU6tdtAO0BW"
      },
      "outputs": [],
      "source": [
        "sns.countplot(x='Month',data=dataq)"
      ]
    },
    {
      "cell_type": "code",
      "execution_count": null,
      "metadata": {
        "id": "3ZBAmiCu21QS"
      },
      "outputs": [],
      "source": [
        "sns.catplot(data=dataq, y=\"Month\", kind=\"count\", palette=\"rainbow\")"
      ]
    },
    {
      "cell_type": "markdown",
      "metadata": {
        "id": "Zct39j_p3FPc"
      },
      "source": [
        "##Bivariate Analysis"
      ]
    },
    {
      "cell_type": "code",
      "execution_count": null,
      "metadata": {
        "id": "Z_HcCx32OnOP"
      },
      "outputs": [],
      "source": [
        "sns.stripplot(x=\"DurationMinutes\",y=\"AreaName\",hue=\"VehiclePresent\",data=dataq, palette=\"coolwarm\")"
      ]
    },
    {
      "cell_type": "code",
      "execution_count": null,
      "metadata": {
        "id": "6f1tOJF2WCuw"
      },
      "outputs": [],
      "source": [
        "sns.violinplot(x=\"Monthdepart\",y=\"AreaName\",hue=\"VehiclePresent\",data=dataq, palette=\"coolwarm\")"
      ]
    },
    {
      "cell_type": "code",
      "execution_count": null,
      "metadata": {
        "id": "6j2K_xUi3KFd"
      },
      "outputs": [],
      "source": [
        "fig,ax = plt.subplots(figsize=(10,8))\n",
        "sns.barplot(data=dataq, y=\"AreaName\", x=\"Monthdepart\")"
      ]
    },
    {
      "cell_type": "code",
      "execution_count": null,
      "metadata": {
        "id": "6OEuvYJ1TsQ6"
      },
      "outputs": [],
      "source": [
        "fig,ax = plt.subplots(figsize=(10,8))\n",
        "sns.barplot(data=dataq, x=\"Monthdepart\", y=\"VehiclePresent\")"
      ]
    },
    {
      "cell_type": "code",
      "execution_count": null,
      "metadata": {
        "id": "eM8rhGB5T5Pf"
      },
      "outputs": [],
      "source": [
        "fig,ax = plt.subplots(figsize=(10,8))\n",
        "sns.barplot(data=dataq, y=\"AreaName\",x=\"Monthdepart\", hue=\"VehiclePresent\")"
      ]
    },
    {
      "cell_type": "code",
      "execution_count": null,
      "metadata": {
        "id": "wjWE2ReiUZk1"
      },
      "outputs": [],
      "source": [
        "fig,ax = plt.subplots(figsize=(10,8))\n",
        "sns.barplot(data=dataq, y=\"AreaName\",x=\"InViolation\", hue=\"VehiclePresent\",ascending=False).iloc[:25],\n",
        "color=sns.color_palette(\"rainbow\")[2]),saturation=7.,)"
      ]
    },
    {
      "cell_type": "code",
      "execution_count": null,
      "metadata": {
        "id": "MGj5HClxUj8h"
      },
      "outputs": [],
      "source": [
        "sns.barplot(data=dataq, y=\"AreaName\",x=\"\", hue=\"VehiclePresent\")"
      ]
    },
    {
      "cell_type": "code",
      "execution_count": null,
      "metadata": {
        "id": "-taCD0KDWQfF"
      },
      "outputs": [],
      "source": [
        "fig,ax = plt.subplots(figsize=(10,8))\n",
        "g = sns.barplot(\n",
        "  x=\"DeviceId\", \n",
        "  y=\"AreaName\", \n",
        "  data=dataq.sort_values(by=\"DeviceId\", ascending=False).iloc[:25],\n",
        "  color=sns.color_palette(\"rainbow\")[2],\n",
        "  saturation=7.,\n",
        ")\n",
        "# add data labels\n",
        "#datalabel_hbar(g)\n",
        "# remove x-axis tick labels\n",
        "g.xaxis.set_ticklabels([])\n",
        "# rename axes labels\n",
        "g.set(xlabel='DeviceId', ylabel='AreaName')\n",
        "# remove border\n",
        "sns.despine(bottom=True);"
      ]
    },
    {
      "cell_type": "code",
      "source": [
        "#Importing Libraries\n",
        "import pandas as pd ,seaborn as sns, numpy as np ,matplotlib.pyplot as plt\n",
        "import warnings\n",
        "warnings.filterwarnings('ignore')\n",
        "# set seed for reproducibility\n",
        "np.random.seed(0)"
      ],
      "metadata": {
        "id": "J4byQn0OUFkd"
      },
      "execution_count": null,
      "outputs": []
    },
    {
      "cell_type": "markdown",
      "source": [
        "# Feature Engineering"
      ],
      "metadata": {
        "id": "V9dthrm7uSk6"
      }
    },
    {
      "cell_type": "markdown",
      "source": [
        "** To calculate the arrival rate for a multi-server queuing model, you first need to determine the rate at which customers arrive at the system. This is often denoted as λ (lambda) and can be measured in units of customers per unit of time (e.g., customers per hour).\n",
        "\n",
        "Once you have determined the arrival rate, you can use Little's Law to calculate the average number of customers in the system. Little's Law states that the average number of customers in a system (L) is equal to the arrival rate (λ) multiplied by the average time a customer spends in the system (W). This can be expressed mathematically as L = λW.\n",
        "\n",
        "Once you know the average service time, you can use Little's Law to calculate the average time a customer spends in the system (W) as W = L / λ = 1 / (μ - λ), where μ is the average service rate across all servers\n",
        "\n",
        "In summary, to calculate the arrival rate for a multi-server queuing model, you need to:\n",
        "\n",
        "Determine the arrival rate (λ) of customers to the system.\n",
        "Calculate the average service time (1/μ) across all servers.\n",
        "Use Little's Law to calculate the average time a customer spends in the system (W).\n",
        "Use the traffic intensity formula to calculate the traffic intensity (ρ).\n",
        "Solve for λ using λ = ρ * μ * s.\n",
        "\n",
        "**\n",
        "\n",
        "---\n",
        "\n"
      ],
      "metadata": {
        "id": "R4tBA-i3A29w"
      }
    },
    {
      "cell_type": "markdown",
      "source": [
        "###1.calculating lamba=arival rate(λ)"
      ],
      "metadata": {
        "id": "lheT3uDm7E7b"
      }
    },
    {
      "cell_type": "markdown",
      "source": [
        "To calculate the arrival rate for a multi-server queuing model, you need to know the average number of customers arriving per unit time. This is typically denoted by λ (lambda) and is expressed in units of customers per time interval (e.g., per hour or per day).\n",
        "\n",
        "And since our data is alot we will use per day interval so as to compare with other world cities.\n",
        "\n",
        "To calculate the arrival rate, you can use various methods, such as historical data analysis, customer surveys, or statistical modeling. One common approach is to use a Poisson process, which assumes that customer arrivals occur randomly and independently of one another over time. In our case,the arrival rate is simply the mean number of arrivals per unit time, which can be estimated from our data."
      ],
      "metadata": {
        "id": "1o3Sm7d_1JkD"
      }
    },
    {
      "cell_type": "markdown",
      "source": [
        "Determine the average arrival rate per customer at each server. This can be calculated as below:\n",
        "\n",
        "In our case you can calculate the average arrival rate by dividing the total number of customers by the time period.\n"
      ],
      "metadata": {
        "id": "r5mvqIj25qm_"
      }
    },
    {
      "cell_type": "code",
      "source": [
        "#the total number of customers we had already pre-determined in our analysis\n",
        "total_cust=1048575\n",
        "#our intervals is per mimutes since our duration time is in minutes and we need it for utlization factor\n",
        "our data is from jan to dec of 2019=12\n",
        "#average  daily arrival rate \n",
        "aar=(1048575/365)\n",
        "#from our daily arrival rate we covert that per minute rate\n",
        "#∴ 1 1 Per Day = 0.000694444444444444 1 Per Minute\n",
        "aver_at=aar*0.000694444444444444\n",
        "aver_at"
      ],
      "metadata": {
        "id": "t6RlnQmD5uoS"
      },
      "execution_count": null,
      "outputs": []
    },
    {
      "cell_type": "markdown",
      "source": [
        "Determine the number of servers in the system.\n",
        "\n"
      ],
      "metadata": {
        "id": "I9a2u4s_5vfQ"
      }
    },
    {
      "cell_type": "code",
      "source": [
        "#number of servers had been pre-determined in our analysis\n",
        "servers=1144"
      ],
      "metadata": {
        "id": "K6Am3sAw5yNj"
      },
      "execution_count": null,
      "outputs": []
    },
    {
      "cell_type": "markdown",
      "source": [
        "To calculate the average service time per customer, you need to know the total time that all customers spent being served and the total number of customers served,in our case the total no of customers have already being pre_determined\n",
        "\n",
        "we calculate  the by:\n",
        "\n",
        "Average Service Time per Customer = Total Service Time / Total Number of Customers\n",
        "\n",
        "Total Service Time spent being served = Service Time of Customer 1 + Service Time of Customer 2 + ... + Service Time of Customer n\n",
        "\n",
        "Next, you need to count the total number of customers served:\n",
        "\n",
        "Total Number of Customers = n"
      ],
      "metadata": {
        "id": "-2BP5dx_am2j"
      }
    },
    {
      "cell_type": "code",
      "source": [
        "#total service time will be the sum of the duration column of our data\n",
        "serv_t = sum(dataq['DurationMinutes'])\n",
        "avg_serv_t=(serv_t/total_cust)\n",
        "avg_serv_t"
      ],
      "metadata": {
        "id": "m4w8s0Lxan8D"
      },
      "execution_count": null,
      "outputs": []
    },
    {
      "cell_type": "markdown",
      "source": [
        "Calculate the utilization factor, which is the ratio of the average service time to the average inter-arrival time. This can be done using the following formula:\n",
        "\n",
        "Utilization Factor = (Average Service Time) * (Number of Servers) / (Average Inter-arrival Time)\n",
        "\n"
      ],
      "metadata": {
        "id": "ye5M_cXj5zRM"
      }
    },
    {
      "cell_type": "code",
      "source": [
        "#we then go ahead and calculate the utilizaton factor\n",
        "Factor=avg_serv_t*servers/aver_at\n"
      ],
      "metadata": {
        "id": "FHvEjvkQ53oq"
      },
      "execution_count": null,
      "outputs": []
    },
    {
      "cell_type": "markdown",
      "source": [
        "Calculate the arrival rate using the following formula:\n",
        "\n",
        "Arrival Rate = Utilization Factor * Server Capacity\n",
        "\n",
        "where Server Capacity is the maximum number of customers that can be served simultaneously by the system.\n",
        "\n",
        "By following these steps, you can calculate the arrival rate for a multi-server queueing model. It is important to note that this is an approximation and that actual arrival rates may vary based on the specific characteristics of the system."
      ],
      "metadata": {
        "id": "zBJK8NDn54el"
      }
    },
    {
      "cell_type": "code",
      "source": [
        "#Finally to get our λ\n",
        "#we then get the arrival rate since we have our factor\n",
        "#our servers already giving us the capacity our system capacity can handle\n",
        "#server capacity=severs\n",
        "arrival_rate=Factor*servers"
      ],
      "metadata": {
        "id": "5LemsrgA5-Qb"
      },
      "execution_count": null,
      "outputs": []
    },
    {
      "cell_type": "markdown",
      "source": [
        "Once you have determined the arrival rate, you can use this information along with other parameters, such as the service rate, the number of servers, and the queue capacity, to analyze the performance of the system and make predictions about wait times, queue lengths, and other metrics.\n"
      ],
      "metadata": {
        "id": "7A0aRCnV8Feb"
      }
    },
    {
      "cell_type": "markdown",
      "source": [
        "### 2.Calculating the mu=service time for @ server(μ)"
      ],
      "metadata": {
        "id": "gNV59p-D7n_j"
      }
    },
    {
      "cell_type": "markdown",
      "source": [
        "The service time can vary between servers, so you will need to calculate the average service time across all servers (1/μ).\n",
        "\n",
        "The average service time (μ) can then be calculated as the reciprocal of the total capacity of all the servers (C), where C is the number of servers multiplied by the average service time per server (1/μ). Mathematically, this can be expressed as:\n",
        "\n",
        "μ = 1/(C/number of servers)"
      ],
      "metadata": {
        "id": "kQQKm7jH8u1M"
      }
    },
    {
      "cell_type": "code",
      "source": [
        "#so,our number of servers in this case is equal to servers\n",
        "#then we get our c\n",
        "c=servers*(1/avg_serv_t)\n",
        "#so our μ\n",
        "serv_tg=1/(c/servers)\n",
        "serv_tg"
      ],
      "metadata": {
        "id": "60UJujEh-bw9"
      },
      "execution_count": null,
      "outputs": []
    },
    {
      "cell_type": "markdown",
      "source": [
        "Therefore, the average service time (μ) for each server in this queuing system is   minutes"
      ],
      "metadata": {
        "id": "tEVsxtR6Aizj"
      }
    },
    {
      "cell_type": "markdown",
      "source": [
        "### 3.Calculating the p=trafiic intensity(ρ)"
      ],
      "metadata": {
        "id": "h7KtTBW5C5q7"
      }
    },
    {
      "cell_type": "markdown",
      "source": [
        " to calculate the traffic intensity formula, which relates the arrival rate to the service rate and the number of servers. The traffic intensity is defined as ρ = λ / (μ * s), where s is the number of servers. For a stable system, the traffic intensity must be less than 1, so you can solve for λ as λ = ρ * μ * s."
      ],
      "metadata": {
        "id": "jdBpcOfsDVnO"
      }
    },
    {
      "cell_type": "code",
      "source": [
        "#we have already solved for lamba and mu \n",
        "#calaculating for p won be hard =lambda/(mu*server)\n",
        "traf_int=arrival_rate/(serv_tg*servers)\n",
        "traf_int"
      ],
      "metadata": {
        "id": "QtRRpdeSC5Rx"
      },
      "execution_count": null,
      "outputs": []
    },
    {
      "cell_type": "markdown",
      "source": [
        "#Metrics of success\n"
      ],
      "metadata": {
        "id": "ogQ1-1a05-cb"
      }
    },
    {
      "cell_type": "markdown",
      "source": [
        "Once you have estimated the arrival rate, you can use it along with other system parameters to calculate key performance metrics, such as the average wait time in the queue, the average number of customers in the system, and the probability of the system being in different states (e.g., idle, busy, or overloaded)\n",
        "\n",
        "These metrics can be used to evaluate the system's efficiency and identify areas for improvement.Overall, a successful multi-server queuing model should have high utilization, low queue length, short waiting times, fast service times, high throughput, and low abandonment rates.\n",
        "\n",
        "We are going to analyse the following metrics for our system:\n",
        "\n",
        "* Average waiting time: \n",
        "\n",
        "* Queue length: \n",
        "\n",
        "* Service utilization: \n",
        "\n",
        "* Throughput: This metric measures the number of customers served per unit of time. A higher throughput indicates that the system is processing customers more quickly.\n",
        "\n",
        "* Resource utilization: This metric measures the percentage of time that each server is in use. A higher resource utilization indicates that the servers are being used more efficiently.\n",
        "\n",
        "* System capacity: This metric measures the maximum number of customers that the system can handle at any given time. A higher system capacity indicates that the system can handle more customers and is more scalable.\n",
        "\n",
        "* Service level: This metric measures the percentage of customers who receive service within a certain amount of time. A higher service level indicates that customers are receiving timely service.\n",
        "\n",
        "* Cost: This metric measures the total cost of operating the queuing system, including the cost of servers, infrastructure, and staffing. It is an important metric for evaluating the profitability of the system\n",
        "\n",
        "Overall, the success of a multi-server queuing model will depend on how well it can balance these metrics to meet the needs of the customers and the business."
      ],
      "metadata": {
        "id": "lT1VNu0Y8MOW"
      }
    },
    {
      "cell_type": "markdown",
      "source": [
        "### 1.Average waiting time\n",
        "\n",
        "This metric measures the average amount of time that customers have to wait in the queue before they are served. A shorter waiting time is generally considered to be better."
      ],
      "metadata": {
        "id": "PigFnQRKM9tk"
      }
    },
    {
      "cell_type": "markdown",
      "source": [
        "### 2.Queue length\n",
        "\n",
        "This metric measures the number of customers waiting in the queue at any given time. A shorter queue length is generally considered to be better."
      ],
      "metadata": {
        "id": "Fo1tHBN8NS7f"
      }
    },
    {
      "cell_type": "markdown",
      "source": [
        "### 3.Service utilization\n",
        "\n",
        "This metric measures the percentage of time that each server is busy serving customers. A higher service utilization indicates that the servers are being used more efficiently.\n",
        "\n"
      ],
      "metadata": {
        "id": "xexzzPavNeSk"
      }
    },
    {
      "cell_type": "code",
      "source": [
        "#Single or multiple server queue simulation\n",
        "l = 1 # average number of arrivals per minute\n",
        "µ =1.5 # average number of people served per minute\n",
        "ncust =1000# number of customers\n",
        "c=1 # number of servers\n",
        "#empty dictionary for computing the utilization with each configuration of servers\n",
        "utilization={}"
      ],
      "metadata": {
        "id": "3DfJxeadUGT0"
      },
      "execution_count": null,
      "outputs": []
    },
    {
      "cell_type": "code",
      "source": [
        "#generating inter arrival times using exponential distribution\n",
        "inter_arrival_times = list(np.random.exponential(scale=1/l,size=ncust))\n",
        "\n",
        "    #plotting data\n",
        "plt.figure(figsize=(4,4))\n",
        "sns.distplot(inter_arrival_times,kde=False,color='r',bins=20)\n",
        "plt.title('Time between Arrivals')\n",
        "plt.xlabel('Minutes')\n",
        "plt.ylabel('Frequency')\n",
        "sns.despine()\n",
        "plt.show()\n",
        "\n",
        " # Generate random service times for each customer \n",
        "service_times = list(np.random.exponential(scale=1/µ,size=ncust))  \n",
        "\n",
        "#service time distribution plot\n",
        "plt.figure(figsize=(4,4))\n",
        "sns.distplot(service_times,kde=False,bins=20)\n",
        "plt.title('Service Times')\n",
        "plt.xlabel('Minutes')\n",
        "plt.ylabel('Frequency')\n",
        "sns.despine()\n",
        "plt.show()"
      ],
      "metadata": {
        "id": "ueG8zhF6SwPG"
      },
      "execution_count": null,
      "outputs": []
    },
    {
      "cell_type": "markdown",
      "source": [
        "# Sample Models/Modelling"
      ],
      "metadata": {
        "id": "rpAsYnnttKKw"
      }
    },
    {
      "cell_type": "markdown",
      "source": [
        "Here is an example of a Python model for an M/M/1 queue with infinite buffer and FIFO service:"
      ],
      "metadata": {
        "id": "Bvw8d1uhr85_"
      }
    },
    {
      "cell_type": "code",
      "source": [
        "import simpy\n",
        "\n",
        "class M_M_1:\n",
        "    def __init__(self, env, arrival_rate, service_rate):\n",
        "        self.env = env\n",
        "        self.arrival_rate = arrival_rate\n",
        "        self.service_rate = service_rate\n",
        "        self.server = simpy.Resource(env, capacity=1)\n",
        "        self.queue = simpy.Container(env, init=0, capacity=float('inf'))\n",
        "        self.arrival_process = env.process(self.arrival())\n",
        "        self.service_process = env.process(self.service())\n",
        "        self.waiting_times = []\n",
        "\n",
        "    def arrival(self):\n",
        "        while True:\n",
        "            yield self.env.timeout(1 / self.arrival_rate)\n",
        "            self.queue.put(1)\n",
        "            if self.server.count == 0:\n",
        "                self.service_process.interrupt()\n",
        "\n",
        "    def service(self):\n",
        "        while True:\n",
        "            yield self.queue.get(1)\n",
        "            start = self.env.now\n",
        "            yield self.env.timeout(1 / self.service_rate)\n",
        "            self.waiting_times.append(self.env.now - start)\n",
        "\n"
      ],
      "metadata": {
        "id": "N0Nhh05msCNR"
      },
      "execution_count": null,
      "outputs": []
    },
    {
      "cell_type": "markdown",
      "source": [
        "You can then use this model to simulate an M/M/1 queue:"
      ],
      "metadata": {
        "id": "cURrYxTmsXCI"
      }
    },
    {
      "cell_type": "code",
      "source": [
        "env = simpy.Environment()\n",
        "mm1 = M_M_1(env, arrival_rate=5, service_rate=2)\n",
        "env.run(until=100)"
      ],
      "metadata": {
        "id": "VSZrcJeMsYIg"
      },
      "execution_count": null,
      "outputs": []
    },
    {
      "cell_type": "markdown",
      "source": [
        "Here is an example of a Python model for an M/M/1 queue with infinite buffer and FIFO service:"
      ],
      "metadata": {
        "id": "Ja-xwPQDrO_G"
      }
    },
    {
      "cell_type": "code",
      "source": [
        "#This code uses the SimPy library to simulate the M/M/1 queue.\n",
        "# The server function represents the server and the customer_generator function generates customers\n",
        "# that arrive at the queue according to an exponential distribution. \n",
        "#The arrival_rate and service_rate are set to 2 and 3 respectively, but can be adjusted as needed. \n",
        "#The simulation runs for 100 time units, but this can also be adjusted.\n",
        "\n",
        "import simpy\n",
        "\n",
        "def server(env, service_rate):\n",
        "    while True:\n",
        "        # Wait for a customer to arrive\n",
        "        customer = yield env.timeout(random.expovariate(1/service_rate))\n",
        "        # Service the customer\n",
        "        yield env.timeout(random.expovariate(1/service_rate))\n",
        "\n",
        "def customer_generator(env, arrival_rate, service_rate):\n",
        "    while True:\n",
        "        yield env.timeout(random.expovariate(1/arrival_rate))\n",
        "        env.process(server(env, service_rate))\n",
        "\n",
        "env = simpy.Environment()\n",
        "arrival_rate = 2\n",
        "service_rate = 3\n",
        "env.process(customer_generator(env, arrival_rate, service_rate))\n",
        "env.run(until=100)\n"
      ],
      "metadata": {
        "id": "3LXgX7KhrKKl"
      },
      "execution_count": null,
      "outputs": []
    },
    {
      "cell_type": "markdown",
      "source": [
        "Here is a sample implementation of an M/M/1 queue model (also known as an \"Erlang-A\" model) with an infinite buffer and first-in-first-out (FIFO) service discipline in Python:"
      ],
      "metadata": {
        "id": "APKAISNmtdGH"
      }
    },
    {
      "cell_type": "code",
      "source": [
        "import random\n",
        "\n",
        "class MM1Queue:\n",
        "    def __init__(self, arrival_rate, service_rate):\n",
        "        self.arrival_rate = arrival_rate\n",
        "        self.service_rate = service_rate\n",
        "        self.queue = []\n",
        "        self.time = 0\n",
        "        self.events = []\n",
        "\n",
        "    def simulate(self, end_time):\n",
        "        self.events = [(0, 'arrival')]\n",
        "        while self.time < end_time:\n",
        "            next_event = min(self.events, key=lambda x: x[0])\n",
        "            self.time = next_event[0]\n",
        "            if next_event[1] == 'arrival':\n",
        "                self.handle_arrival()\n",
        "            elif next_event[1] == 'departure':\n",
        "                self.handle_departure()\n",
        "            self.events.remove(next_event)\n",
        "\n",
        "    def handle_arrival(self):\n",
        "        arrival_time = self.time + random.expovariate(self.arrival_rate)\n",
        "        self.events.append((arrival_time, 'arrival'))\n",
        "        if not self.queue:\n",
        "            departure_time = self.time + random.expovariate(self.service_rate)\n",
        "            self.events.append((departure_time, 'departure'))\n",
        "        self.queue.append(arrival_time)\n",
        "\n",
        "    def handle_departure(self):\n",
        "        self.queue.pop(0)\n",
        "        if self.queue:\n",
        "            departure_time = self.time + random.expovariate(self.service_rate)\n",
        "            self.events.append((departure_time, 'departure'))\n"
      ],
      "metadata": {
        "id": "QjWg2jc8tcBv"
      },
      "execution_count": null,
      "outputs": []
    },
    {
      "cell_type": "markdown",
      "source": [
        "This model can be used by creating an instance of the MM1Queue class, setting the arrival rate and service rate, and then running the simulate method to run the simulation for a certain amount of time. For example:"
      ],
      "metadata": {
        "id": "qcTLdYrztiwD"
      }
    },
    {
      "cell_type": "code",
      "source": [
        "queue = MM1Queue(arrival_rate=5, service_rate=10)\n",
        "queue.simulate(end_time=1000)\n"
      ],
      "metadata": {
        "id": "7_vJ8xuLtppx"
      },
      "execution_count": null,
      "outputs": []
    },
    {
      "cell_type": "markdown",
      "source": [
        "This will simulate an M/M/1 queue with an arrival rate of 5 customers per time unit and a service rate of 10 customers per time unit for 1000 time units.\n",
        "\n",
        "Note that this is a simple example that does not include any statistics gathering or reporting, you can use the queue and events list to gather the relevant statistics you want after the simulation is done.\n",
        "\n",
        "\n",
        "\n",
        "\n"
      ],
      "metadata": {
        "id": "SadOJzANttPf"
      }
    },
    {
      "cell_type": "markdown",
      "source": [
        "Here's an example implementation of the M/M/1 queuing model in Python for parking prediction:"
      ],
      "metadata": {
        "id": "dCmX6_m9wSrL"
      }
    },
    {
      "cell_type": "code",
      "source": [
        "import math\n",
        "\n",
        "def mm1_model(arrival_rate, service_rate, capacity):\n",
        "    # Calculate the utilization factor\n",
        "    utilization = arrival_rate / service_rate\n",
        "    \n",
        "    # Calculate the probability of zero customers in the system\n",
        "    p0 = 1 - utilization\n",
        "    \n",
        "    # Calculate the average number of customers in the system\n",
        "    l = utilization / (1 - utilization)\n",
        "    \n",
        "    # Calculate the average waiting time in the system\n",
        "    w = l / arrival_rate\n",
        "    \n",
        "    # Calculate the probability of waiting in the system\n",
        "    p_w = utilization\n",
        "    \n",
        "    # Calculate the probability of blocking\n",
        "    p_block = math.pow(utilization, capacity) * p0\n",
        "    \n",
        "    # Return the results\n",
        "    return l, w, p_w, p_block\n"
      ],
      "metadata": {
        "id": "HtnpPCXUwanf"
      },
      "execution_count": null,
      "outputs": []
    },
    {
      "cell_type": "markdown",
      "source": [
        "This function takes three input parameters: the arrival rate (in customers per unit of time), the service rate (in customers per unit of time), and the capacity of the parking lot (the number of parking spots available). It returns four output parameters: the average number of customers in the system, the average waiting time in the system, the probability of waiting in the system, and the probability of blocking (i.e., the probability that all parking spots are occupied).\n",
        "\n",
        "To use this function, you would first need to estimate the arrival rate and service rate based on historical data or other sources of information. You would also need to determine the capacity of the parking lot. Then you could call the function like this:"
      ],
      "metadata": {
        "id": "ljCfekppwihq"
      }
    },
    {
      "cell_type": "code",
      "source": [
        "arrival_rate = 10 # customers per minute\n",
        "service_rate = 12 # customers per minute\n",
        "capacity = 50 # parking spots\n",
        "l, w, p_w, p_block = mm1_model(arrival_rate, service_rate, capacity)\n",
        "print(\"Average number of customers in the system: \", l)\n",
        "print(\"Average waiting time in the system: \", w)\n",
        "print(\"Probability of waiting in the system: \", p_w)\n",
        "print(\"Probability of blocking: \", p_block)\n"
      ],
      "metadata": {
        "id": "6azY-8xsw2a1"
      },
      "execution_count": null,
      "outputs": []
    },
    {
      "cell_type": "markdown",
      "source": [
        "# M/M/1 MODEL"
      ],
      "metadata": {
        "id": "j5peYC4Pxlcl"
      }
    },
    {
      "cell_type": "markdown",
      "source": [
        "Here's an example of how to implement an M/M/1 queuing model in Python for parking prediction using the simpy library:"
      ],
      "metadata": {
        "id": "v-jyLyCqx1rr"
      }
    },
    {
      "cell_type": "code",
      "source": [
        "import simpy\n",
        "import random"
      ],
      "metadata": {
        "id": "r3ethijAPw04"
      },
      "execution_count": null,
      "outputs": []
    },
    {
      "cell_type": "code",
      "source": [
        "from SimPy.Simulation import *"
      ],
      "metadata": {
        "id": "tJubXU3OQAHY"
      },
      "execution_count": null,
      "outputs": []
    },
    {
      "cell_type": "code",
      "source": [
        "\n",
        "\n",
        "class ParkingLot:\n",
        "    def __init__(self, env, capacity, arrival_rate, parking_time):\n",
        "        self.env = env\n",
        "        self.capacity = capacity\n",
        "        self.arrival_rate = arrival_rate\n",
        "        self.parking_time = parking_time\n",
        "        self.cars_parked = 0\n",
        "        self.queue_length = 0\n",
        "        self.waiting_time = 0\n",
        "        self.action = env.process(self.run())\n",
        "        self.queue = simpy.Store(env)\n",
        "\n",
        "    def run(self):\n",
        "        while True:\n",
        "            yield self.env.timeout(random.expovariate(self.arrival_rate))\n",
        "            if self.cars_parked < self.capacity:\n",
        "                self.cars_parked += 1\n",
        "                self.env.process(self.departure())\n",
        "            else:\n",
        "                self.queue_length += 1\n",
        "                start_waiting = self.env.now\n",
        "                yield self.queue.put(start_waiting)\n",
        "                wait_time = self.env.now - start_waiting\n",
        "                self.waiting_time += wait_time\n",
        "\n",
        "    def departure(self):\n",
        "        yield self.env.timeout(random.expovariate(1.0 / self.parking_time))\n",
        "        self.cars_parked -= 1\n",
        "        if self.queue_length > 0:\n",
        "            self.queue_length -= 1\n",
        "            start_waiting = self.queue.get()\n",
        "            wait_time = self.env.now - start_waiting\n",
        "            self.waiting_time += wait_time\n",
        "\n",
        "# Set up simulation environment\n",
        "env = simpy.Environment()\n",
        "\n",
        "# Create parking lot with 100 spaces, an arrival rate of 1 car per minute, and an average parking time of 10 minutes\n",
        "parking_lot = ParkingLot(env, capacity=100, arrival_rate=1.0/60, parking_time=10)\n",
        "\n",
        "# Run simulation for 8 hours\n",
        "env.run(until=8*60)\n",
        "\n",
        "# Calculate average waiting time\n",
        "avg_waiting_time = parking_lot.waiting_time / (parking_lot.cars_parked + parking_lot.queue_length)\n",
        "\n",
        "print(f\"Average waiting time: {avg_waiting_time:.2f} minutes\")\n"
      ],
      "metadata": {
        "id": "njdWn8Z8xtRu"
      },
      "execution_count": null,
      "outputs": []
    },
    {
      "cell_type": "code",
      "source": [
        "# https://pypi.python.org/pypi/pydot\n",
        "!apt-get -qq install -y graphviz && pip install pydot\n",
        "import pydot"
      ],
      "metadata": {
        "id": "YySoG3biPjRO"
      },
      "execution_count": null,
      "outputs": []
    },
    {
      "cell_type": "markdown",
      "source": [
        "In this example, the ParkingLot class represents the M/M/1 queuing system. The run() method generates arrivals according to a Poisson process and either parks the arriving car or adds it to the queue if the parking lot is full. The departure() method generates parking times according to an exponential distribution and removes parked cars from the system.\n",
        "\n",
        "The simulation is run for 8 hours, and the average waiting time is calculated as the total waiting time divided by the number of parked cars plus the number of cars still waiting in the queue.\n",
        "\n",
        "Note that this is just a basic example and can be modified and extended for more complex parking prediction models."
      ],
      "metadata": {
        "id": "7qmZCtt5x63U"
      }
    },
    {
      "cell_type": "markdown",
      "source": [
        "# M/M/M MODEL\n"
      ],
      "metadata": {
        "id": "bh08FVDDGhjw"
      }
    },
    {
      "cell_type": "markdown",
      "source": [
        "To implement the M/M/M queuing model for parking prediction in Python, we can use the simpy package, which is a discrete-event simulation framework. Here is an example code:"
      ],
      "metadata": {
        "id": "qryDMPM_GmbV"
      }
    },
    {
      "cell_type": "code",
      "source": [
        "import simpy\n",
        "import numpy as np\n",
        "\n",
        "class ParkingLot:\n",
        "    def __init__(self, env, n, m, arrival_rate, service_rate):\n",
        "        self.env = env\n",
        "        self.n = n\n",
        "        self.m = m\n",
        "        self.arrival_rate = arrival_rate\n",
        "        self.service_rate = service_rate\n",
        "        self.parking_spaces = simpy.Resource(env, capacity=n)\n",
        "        self.waiting_times = []\n",
        "\n",
        "    def park_car(self):\n",
        "        with self.parking_spaces.request() as req:\n",
        "            yield req\n",
        "            waiting_time = self.env.now - self.arrival_time\n",
        "            self.waiting_times.append(waiting_time)\n",
        "            service_time = np.random.exponential(1/self.service_rate)\n",
        "            yield self.env.timeout(service_time)\n",
        "\n",
        "    def run(self, run_time):\n",
        "        self.env.process(self.generate_cars())\n",
        "        self.env.run(until=run_time)\n",
        "\n",
        "    def generate_cars(self):\n",
        "        while True:\n",
        "            inter_arrival_time = np.random.exponential(1/self.arrival_rate)\n",
        "            yield self.env.timeout(inter_arrival_time)\n",
        "            self.arrival_time = self.env.now\n",
        "            self.env.process(self.park_car())\n",
        "\n",
        "    def occupancy(self):\n",
        "        return (self.n - len(self.parking_spaces.queue)) / self.n\n",
        "\n",
        "    def utilization(self):\n",
        "        return sum([len(x) for x in self.parking_spaces.users])/self.m\n",
        "\n",
        "    def average_waiting_time(self):\n",
        "        return np.mean(self.waiting_times)\n",
        "\n",
        "    def probability_of_waiting(self):\n",
        "        return len([x for x in self.waiting_times if x > 0])/len(self.waiting_times)\n",
        "\n"
      ],
      "metadata": {
        "id": "9Y9SWvdaG6Ln"
      },
      "execution_count": null,
      "outputs": []
    },
    {
      "cell_type": "markdown",
      "source": [
        "In this code, we define a ParkingLot class that simulates the queuing system. The __init__ method initializes the parameters of the model, such as the number of parking spaces n, the number of servers m, the arrival rate arrival_rate, and the service rate service_rate. It also creates a simpy.Resource object that represents the parking spaces.\n",
        "\n",
        "The park_car method simulates the process of parking a car. It requests a parking space from the simpy.Resource object, calculates the waiting time, and generates a service time from an exponential distribution with mean 1/service_rate.\n",
        "\n",
        "The run method starts the simulation and runs it for a specified time run_time. The generate_cars method generates cars according to a Poisson process with rate arrival_rate, and for each car, it calls the park_car method as a subprocess.\n",
        "\n",
        "The occupancy method calculates the occupancy rate of the parking lot, which is the proportion of occupied parking spaces. The utilization method calculates the utilization rate of the servers, which is the proportion of time they are busy. The average_waiting_time method calculates the average waiting time of customers who had to wait. The probability_of_waiting method calculates the probability that a customer has to wait.\n",
        "\n",
        "To use the ParkingLot class, we can create an instance with the desired parameters and run the simulation:"
      ],
      "metadata": {
        "id": "A4Xq-qlgG-Pf"
      }
    },
    {
      "cell_type": "code",
      "source": [
        "n = 50  # number of parking spaces\n",
        "m = 3   # number of servers\n",
        "arrival_rate = 2  # customers per minute\n",
        "service_rate = 3  # customers per minute\n",
        "\n",
        "env = simpy.Environment()\n",
        "parking_lot = ParkingLot(env, n, m, arrival_rate, service_rate)\n",
        "parking_lot.run(60)  # run simulation for 60 minutes\n",
        "\n",
        "print(\"Occupancy rate:\", parking_lot.occup\n"
      ],
      "metadata": {
        "id": "CAA3O4mPGu9O"
      },
      "execution_count": null,
      "outputs": []
    },
    {
      "cell_type": "markdown",
      "source": [
        "Here's an example implementation of the M/M/M queuing model for parking prediction in Python, using the numpy and scipy libraries for scientific computing:"
      ],
      "metadata": {
        "id": "hzpQkTaR_Q9d"
      }
    },
    {
      "cell_type": "code",
      "source": [
        "import numpy as np\n",
        "from scipy.stats import poisson, expon\n",
        "\n",
        "def parking_mmm_model(n, m, lambda_, mu):\n",
        "    \"\"\"M/M/M queuing model for parking prediction\"\"\"\n",
        "    \n",
        "    # Calculate utilization rate\n",
        "    rho = lambda_ / (m * mu)\n",
        "    \n",
        "    # Calculate expected number of customers in system\n",
        "    num_customers = (rho ** n) * ((1 - rho) / (1 - rho ** (n + 1)))\n",
        "    \n",
        "    # Calculate expected waiting time\n",
        "    wait_time = num_customers / (lambda_ * (1 - rho))\n",
        "    \n",
        "    # Calculate probability of waiting\n",
        "    prob_wait = rho ** n * (1 - rho) / (1 - rho ** (n + 1))\n",
        "    \n",
        "    # Calculate probability of all spaces occupied\n",
        "    prob_full = rho ** n\n",
        "    \n",
        "    return num_customers, wait_time, prob_wait, prob_full\n",
        "\n",
        "# Example usage\n",
        "n = 100  # number of parking spaces\n",
        "m = 3  # number of servers\n",
        "lambda_ = 2  # arrival rate (per hour)\n",
        "mu = 3  # service rate (per hour)\n",
        "\n",
        "num_customers, wait_time, prob_wait, prob_full = parking_mmm_model(n, m, lambda_, mu)\n",
        "\n",
        "print(f\"Expected number of customers in system: {num_customers:.2f}\")\n",
        "print(f\"Expected waiting time: {wait_time:.2f} hours\")\n",
        "print(f\"Probability of waiting: {prob_wait:.2f}\")\n",
        "print(f\"Probability of all spaces occupied: {prob_full:.2f}\")\n"
      ],
      "metadata": {
        "id": "eSYrzK6c_PBZ"
      },
      "execution_count": null,
      "outputs": []
    },
    {
      "cell_type": "markdown",
      "source": [
        "This code defines a function parking_mmm_model that takes as input the number of parking spaces n, the number of servers m, the arrival rate lambda_, and the service rate mu, and returns the expected number of customers in the system, the expected waiting time, the probability of waiting, and the probability of all parking spaces being occupied.\n",
        "\n",
        "The function first calculates the utilization rate rho, which is the key parameter in the M/M/M queuing model. It then uses this parameter to calculate the expected number of customers in the system, the expected waiting time, and the probabilities of waiting and all spaces being occupied.\n",
        "\n",
        "The example usage section shows how to call the function with some sample inputs, and prints the results. Note that the expected waiting time is in hours, since the arrival rate and service rate are specified in units of customers per hour."
      ],
      "metadata": {
        "id": "3C4bPED0_VrM"
      }
    },
    {
      "cell_type": "markdown",
      "source": [
        "Sure, here's an updated version of the M/M/M parking prediction model in Python where the number of servers is set to 1100:"
      ],
      "metadata": {
        "id": "Apb-zZX4_4Ac"
      }
    },
    {
      "cell_type": "code",
      "source": [
        "import numpy as np\n",
        "from scipy.stats import poisson, expon\n",
        "\n",
        "def parking_mmm_model(n, m, lambda_, mu):\n",
        "    \"\"\"M/M/M queuing model for parking prediction\"\"\"\n",
        "    \n",
        "    # Calculate utilization rate\n",
        "    rho = lambda_ / (m * mu)\n",
        "    \n",
        "    # Calculate expected number of customers in system\n",
        "    num_customers = (rho ** n) * ((1 - rho) / (1 - rho ** (n + 1)))\n",
        "    \n",
        "    # Calculate expected waiting time\n",
        "    wait_time = num_customers / (lambda_ * (1 - rho))\n",
        "    \n",
        "    # Calculate probability of waiting\n",
        "    prob_wait = rho ** n * (1 - rho) / (1 - rho ** (n + 1))\n",
        "    \n",
        "    # Calculate probability of all spaces occupied\n",
        "    prob_full = rho ** n\n",
        "    \n",
        "    return num_customers, wait_time, prob_wait, prob_full\n",
        "\n",
        "# Example usage with 1100 servers\n",
        "n = 100  # number of parking spaces\n",
        "m = 1100  # number of servers\n",
        "lambda_ = 2  # arrival rate (per hour)\n",
        "mu = 3  # service rate (per hour)\n",
        "\n",
        "num_customers, wait_time, prob_wait, prob_full = parking_mmm_model(n, m, lambda_, mu)\n",
        "\n",
        "print(f\"Expected number of customers in system: {num_customers:.2f}\")\n",
        "print(f\"Expected waiting time: {wait_time:.2f} hours\")\n",
        "print(f\"Probability of waiting: {prob_wait:.2f}\")\n",
        "print(f\"Probability of all spaces occupied: {prob_full:.2f}\")\n"
      ],
      "metadata": {
        "id": "-5iudHRx_12y"
      },
      "execution_count": null,
      "outputs": []
    },
    {
      "cell_type": "markdown",
      "source": [
        "The only change is to set the m parameter to 1100 instead of 3. The other inputs (number of parking spaces, arrival rate, and service rate) are the same as in the previous example.\n",
        "\n",
        "Note that with 1100 servers, the utilization rate will likely be very low (unless the arrival rate is extremely high), which means that the parking lot will be highly underutilized. In practice, it is unlikely that a parking lot would have 1100 servers (i.e., parking attendants) for only 100 parking spaces."
      ],
      "metadata": {
        "id": "opHaYwUZ__8S"
      }
    },
    {
      "cell_type": "code",
      "source": [],
      "metadata": {
        "id": "Uw5N7lvBAP9w"
      },
      "execution_count": null,
      "outputs": []
    }
  ],
  "metadata": {
    "colab": {
      "provenance": [],
      "toc_visible": true,
      "mount_file_id": "1Zkmzq1Ug-lcgkymOghZqTP2OUPk0bmBH",
      "authorship_tag": "ABX9TyOARXbgIjkr+dp/YdypLR6o",
      "include_colab_link": true
    },
    "kernelspec": {
      "display_name": "Python 3",
      "name": "python3"
    },
    "language_info": {
      "name": "python"
    }
  },
  "nbformat": 4,
  "nbformat_minor": 0
}