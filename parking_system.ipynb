{
  "cells": [
    {
      "cell_type": "markdown",
      "metadata": {
        "id": "view-in-github",
        "colab_type": "text"
      },
      "source": [
        "<a href=\"https://colab.research.google.com/github/Eswa2020/Data-analysis-and-wrangling-various-projects/blob/master/parking_system.ipynb\" target=\"_parent\"><img src=\"https://colab.research.google.com/assets/colab-badge.svg\" alt=\"Open In Colab\"/></a>"
      ]
    },
    {
      "cell_type": "code",
      "execution_count": 1,
      "metadata": {
        "id": "IU1hju9zhoMB"
      },
      "outputs": [],
      "source": [
        "#importimg our libraries to use\n",
        "import numpy as np\n",
        "import pandas as pd\n",
        "import seaborn as sns\n",
        "import matplotlib.pyplot as plt\n",
        "import plotly.express as px\n",
        "from datetime import datetime\n",
        "%matplotlib inline"
      ]
    },
    {
      "cell_type": "code",
      "execution_count": 2,
      "metadata": {
        "colab": {
          "base_uri": "https://localhost:8080/",
          "height": 357
        },
        "id": "geK83kw3gRux",
        "outputId": "c79a6289-9fd9-4dd3-8102-90c06faec211"
      },
      "outputs": [
        {
          "output_type": "execute_result",
          "data": {
            "text/plain": [
              "   DeviceId             ArrivalTime           DepartureTime  DurationMinutes  \\\n",
              "0     17176  02/15/2019 07:45:29 PM  02/15/2019 07:46:52 PM                1   \n",
              "1     17176  03/25/2019 08:35:40 PM  03/25/2019 08:39:08 PM                4   \n",
              "2     17176  01/17/2019 05:28:55 AM  01/17/2019 06:57:09 AM               89   \n",
              "3     17176  03/13/2019 10:18:17 PM  03/13/2019 10:18:24 PM                0   \n",
              "4     17176  01/18/2019 06:04:37 AM  01/18/2019 06:07:29 AM                3   \n",
              "\n",
              "  StreetMarker  SignPlateID Sign   AreaName  StreetId      StreetName  \\\n",
              "0       13009S          NaN  NaN  Docklands       528  COLLINS STREET   \n",
              "1       13009S          NaN  NaN  Docklands       528  COLLINS STREET   \n",
              "2       13009S          NaN  NaN  Docklands       528  COLLINS STREET   \n",
              "3       13009S          NaN  NaN  Docklands       528  COLLINS STREET   \n",
              "4       13009S          NaN  NaN  Docklands       528  COLLINS STREET   \n",
              "\n",
              "   BetweenStreet1ID  BetweenStreet1  BetweenStreet2ID      BetweenStreet2  \\\n",
              "0              1285  SPENCER STREET                79  BATMANS HILL DRIVE   \n",
              "1              1285  SPENCER STREET                79  BATMANS HILL DRIVE   \n",
              "2              1285  SPENCER STREET                79  BATMANS HILL DRIVE   \n",
              "3              1285  SPENCER STREET                79  BATMANS HILL DRIVE   \n",
              "4              1285  SPENCER STREET                79  BATMANS HILL DRIVE   \n",
              "\n",
              "   SideOfStreet SideOfStreetCode SideName  BayId  InViolation  VehiclePresent  \n",
              "0             4                S    South   6005        False            True  \n",
              "1             4                S    South   6005        False            True  \n",
              "2             4                S    South   6005        False            True  \n",
              "3             4                S    South   6005        False           False  \n",
              "4             4                S    South   6005        False            True  "
            ],
            "text/html": [
              "\n",
              "  <div id=\"df-e6e7a1a4-a913-4e53-8928-6ce01cb6a9c4\">\n",
              "    <div class=\"colab-df-container\">\n",
              "      <div>\n",
              "<style scoped>\n",
              "    .dataframe tbody tr th:only-of-type {\n",
              "        vertical-align: middle;\n",
              "    }\n",
              "\n",
              "    .dataframe tbody tr th {\n",
              "        vertical-align: top;\n",
              "    }\n",
              "\n",
              "    .dataframe thead th {\n",
              "        text-align: right;\n",
              "    }\n",
              "</style>\n",
              "<table border=\"1\" class=\"dataframe\">\n",
              "  <thead>\n",
              "    <tr style=\"text-align: right;\">\n",
              "      <th></th>\n",
              "      <th>DeviceId</th>\n",
              "      <th>ArrivalTime</th>\n",
              "      <th>DepartureTime</th>\n",
              "      <th>DurationMinutes</th>\n",
              "      <th>StreetMarker</th>\n",
              "      <th>SignPlateID</th>\n",
              "      <th>Sign</th>\n",
              "      <th>AreaName</th>\n",
              "      <th>StreetId</th>\n",
              "      <th>StreetName</th>\n",
              "      <th>BetweenStreet1ID</th>\n",
              "      <th>BetweenStreet1</th>\n",
              "      <th>BetweenStreet2ID</th>\n",
              "      <th>BetweenStreet2</th>\n",
              "      <th>SideOfStreet</th>\n",
              "      <th>SideOfStreetCode</th>\n",
              "      <th>SideName</th>\n",
              "      <th>BayId</th>\n",
              "      <th>InViolation</th>\n",
              "      <th>VehiclePresent</th>\n",
              "    </tr>\n",
              "  </thead>\n",
              "  <tbody>\n",
              "    <tr>\n",
              "      <th>0</th>\n",
              "      <td>17176</td>\n",
              "      <td>02/15/2019 07:45:29 PM</td>\n",
              "      <td>02/15/2019 07:46:52 PM</td>\n",
              "      <td>1</td>\n",
              "      <td>13009S</td>\n",
              "      <td>NaN</td>\n",
              "      <td>NaN</td>\n",
              "      <td>Docklands</td>\n",
              "      <td>528</td>\n",
              "      <td>COLLINS STREET</td>\n",
              "      <td>1285</td>\n",
              "      <td>SPENCER STREET</td>\n",
              "      <td>79</td>\n",
              "      <td>BATMANS HILL DRIVE</td>\n",
              "      <td>4</td>\n",
              "      <td>S</td>\n",
              "      <td>South</td>\n",
              "      <td>6005</td>\n",
              "      <td>False</td>\n",
              "      <td>True</td>\n",
              "    </tr>\n",
              "    <tr>\n",
              "      <th>1</th>\n",
              "      <td>17176</td>\n",
              "      <td>03/25/2019 08:35:40 PM</td>\n",
              "      <td>03/25/2019 08:39:08 PM</td>\n",
              "      <td>4</td>\n",
              "      <td>13009S</td>\n",
              "      <td>NaN</td>\n",
              "      <td>NaN</td>\n",
              "      <td>Docklands</td>\n",
              "      <td>528</td>\n",
              "      <td>COLLINS STREET</td>\n",
              "      <td>1285</td>\n",
              "      <td>SPENCER STREET</td>\n",
              "      <td>79</td>\n",
              "      <td>BATMANS HILL DRIVE</td>\n",
              "      <td>4</td>\n",
              "      <td>S</td>\n",
              "      <td>South</td>\n",
              "      <td>6005</td>\n",
              "      <td>False</td>\n",
              "      <td>True</td>\n",
              "    </tr>\n",
              "    <tr>\n",
              "      <th>2</th>\n",
              "      <td>17176</td>\n",
              "      <td>01/17/2019 05:28:55 AM</td>\n",
              "      <td>01/17/2019 06:57:09 AM</td>\n",
              "      <td>89</td>\n",
              "      <td>13009S</td>\n",
              "      <td>NaN</td>\n",
              "      <td>NaN</td>\n",
              "      <td>Docklands</td>\n",
              "      <td>528</td>\n",
              "      <td>COLLINS STREET</td>\n",
              "      <td>1285</td>\n",
              "      <td>SPENCER STREET</td>\n",
              "      <td>79</td>\n",
              "      <td>BATMANS HILL DRIVE</td>\n",
              "      <td>4</td>\n",
              "      <td>S</td>\n",
              "      <td>South</td>\n",
              "      <td>6005</td>\n",
              "      <td>False</td>\n",
              "      <td>True</td>\n",
              "    </tr>\n",
              "    <tr>\n",
              "      <th>3</th>\n",
              "      <td>17176</td>\n",
              "      <td>03/13/2019 10:18:17 PM</td>\n",
              "      <td>03/13/2019 10:18:24 PM</td>\n",
              "      <td>0</td>\n",
              "      <td>13009S</td>\n",
              "      <td>NaN</td>\n",
              "      <td>NaN</td>\n",
              "      <td>Docklands</td>\n",
              "      <td>528</td>\n",
              "      <td>COLLINS STREET</td>\n",
              "      <td>1285</td>\n",
              "      <td>SPENCER STREET</td>\n",
              "      <td>79</td>\n",
              "      <td>BATMANS HILL DRIVE</td>\n",
              "      <td>4</td>\n",
              "      <td>S</td>\n",
              "      <td>South</td>\n",
              "      <td>6005</td>\n",
              "      <td>False</td>\n",
              "      <td>False</td>\n",
              "    </tr>\n",
              "    <tr>\n",
              "      <th>4</th>\n",
              "      <td>17176</td>\n",
              "      <td>01/18/2019 06:04:37 AM</td>\n",
              "      <td>01/18/2019 06:07:29 AM</td>\n",
              "      <td>3</td>\n",
              "      <td>13009S</td>\n",
              "      <td>NaN</td>\n",
              "      <td>NaN</td>\n",
              "      <td>Docklands</td>\n",
              "      <td>528</td>\n",
              "      <td>COLLINS STREET</td>\n",
              "      <td>1285</td>\n",
              "      <td>SPENCER STREET</td>\n",
              "      <td>79</td>\n",
              "      <td>BATMANS HILL DRIVE</td>\n",
              "      <td>4</td>\n",
              "      <td>S</td>\n",
              "      <td>South</td>\n",
              "      <td>6005</td>\n",
              "      <td>False</td>\n",
              "      <td>True</td>\n",
              "    </tr>\n",
              "  </tbody>\n",
              "</table>\n",
              "</div>\n",
              "      <button class=\"colab-df-convert\" onclick=\"convertToInteractive('df-e6e7a1a4-a913-4e53-8928-6ce01cb6a9c4')\"\n",
              "              title=\"Convert this dataframe to an interactive table.\"\n",
              "              style=\"display:none;\">\n",
              "        \n",
              "  <svg xmlns=\"http://www.w3.org/2000/svg\" height=\"24px\"viewBox=\"0 0 24 24\"\n",
              "       width=\"24px\">\n",
              "    <path d=\"M0 0h24v24H0V0z\" fill=\"none\"/>\n",
              "    <path d=\"M18.56 5.44l.94 2.06.94-2.06 2.06-.94-2.06-.94-.94-2.06-.94 2.06-2.06.94zm-11 1L8.5 8.5l.94-2.06 2.06-.94-2.06-.94L8.5 2.5l-.94 2.06-2.06.94zm10 10l.94 2.06.94-2.06 2.06-.94-2.06-.94-.94-2.06-.94 2.06-2.06.94z\"/><path d=\"M17.41 7.96l-1.37-1.37c-.4-.4-.92-.59-1.43-.59-.52 0-1.04.2-1.43.59L10.3 9.45l-7.72 7.72c-.78.78-.78 2.05 0 2.83L4 21.41c.39.39.9.59 1.41.59.51 0 1.02-.2 1.41-.59l7.78-7.78 2.81-2.81c.8-.78.8-2.07 0-2.86zM5.41 20L4 18.59l7.72-7.72 1.47 1.35L5.41 20z\"/>\n",
              "  </svg>\n",
              "      </button>\n",
              "      \n",
              "  <style>\n",
              "    .colab-df-container {\n",
              "      display:flex;\n",
              "      flex-wrap:wrap;\n",
              "      gap: 12px;\n",
              "    }\n",
              "\n",
              "    .colab-df-convert {\n",
              "      background-color: #E8F0FE;\n",
              "      border: none;\n",
              "      border-radius: 50%;\n",
              "      cursor: pointer;\n",
              "      display: none;\n",
              "      fill: #1967D2;\n",
              "      height: 32px;\n",
              "      padding: 0 0 0 0;\n",
              "      width: 32px;\n",
              "    }\n",
              "\n",
              "    .colab-df-convert:hover {\n",
              "      background-color: #E2EBFA;\n",
              "      box-shadow: 0px 1px 2px rgba(60, 64, 67, 0.3), 0px 1px 3px 1px rgba(60, 64, 67, 0.15);\n",
              "      fill: #174EA6;\n",
              "    }\n",
              "\n",
              "    [theme=dark] .colab-df-convert {\n",
              "      background-color: #3B4455;\n",
              "      fill: #D2E3FC;\n",
              "    }\n",
              "\n",
              "    [theme=dark] .colab-df-convert:hover {\n",
              "      background-color: #434B5C;\n",
              "      box-shadow: 0px 1px 3px 1px rgba(0, 0, 0, 0.15);\n",
              "      filter: drop-shadow(0px 1px 2px rgba(0, 0, 0, 0.3));\n",
              "      fill: #FFFFFF;\n",
              "    }\n",
              "  </style>\n",
              "\n",
              "      <script>\n",
              "        const buttonEl =\n",
              "          document.querySelector('#df-e6e7a1a4-a913-4e53-8928-6ce01cb6a9c4 button.colab-df-convert');\n",
              "        buttonEl.style.display =\n",
              "          google.colab.kernel.accessAllowed ? 'block' : 'none';\n",
              "\n",
              "        async function convertToInteractive(key) {\n",
              "          const element = document.querySelector('#df-e6e7a1a4-a913-4e53-8928-6ce01cb6a9c4');\n",
              "          const dataTable =\n",
              "            await google.colab.kernel.invokeFunction('convertToInteractive',\n",
              "                                                     [key], {});\n",
              "          if (!dataTable) return;\n",
              "\n",
              "          const docLinkHtml = 'Like what you see? Visit the ' +\n",
              "            '<a target=\"_blank\" href=https://colab.research.google.com/notebooks/data_table.ipynb>data table notebook</a>'\n",
              "            + ' to learn more about interactive tables.';\n",
              "          element.innerHTML = '';\n",
              "          dataTable['output_type'] = 'display_data';\n",
              "          await google.colab.output.renderOutput(dataTable, element);\n",
              "          const docLink = document.createElement('div');\n",
              "          docLink.innerHTML = docLinkHtml;\n",
              "          element.appendChild(docLink);\n",
              "        }\n",
              "      </script>\n",
              "    </div>\n",
              "  </div>\n",
              "  "
            ]
          },
          "metadata": {},
          "execution_count": 2
        }
      ],
      "source": [
        "#let's load the  dataset \n",
        "dataq=pd.read_csv(\"/content/drive/MyDrive/melbourne_parking_data.csv\",encoding='ISO-8859-1')\n",
        "dataq.head()"
      ]
    },
    {
      "cell_type": "code",
      "execution_count": 3,
      "metadata": {
        "colab": {
          "base_uri": "https://localhost:8080/",
          "height": 496
        },
        "id": "VMQcrR4gd-P1",
        "outputId": "ae7343a0-f9d4-4042-f9f1-99f435dec299"
      },
      "outputs": [
        {
          "output_type": "execute_result",
          "data": {
            "text/plain": [
              "         DeviceId             ArrivalTime           DepartureTime  \\\n",
              "1048570     17419  01/21/2019 07:17:38 AM  01/21/2019 07:30:00 AM   \n",
              "1048571     17418  11/18/2019 10:05:57 PM  11/18/2019 10:07:31 PM   \n",
              "1048572     17420  06/13/2019 09:30:00 AM  06/13/2019 10:02:23 AM   \n",
              "1048573     17418  05/15/2019 04:31:54 PM  05/15/2019 04:32:56 PM   \n",
              "1048574     17418  05/25/2019 06:10:25 PM  05/25/2019 06:18:14 PM   \n",
              "\n",
              "         DurationMinutes StreetMarker  SignPlateID                   Sign  \\\n",
              "1048570               13       13398E          NaN                    NaN   \n",
              "1048571                2       13397W          NaN                    NaN   \n",
              "1048572               32       13399W         99.0  2P MTR M-F 9:30-16:00   \n",
              "1048573                1       13397W        430.0   1/4P M-F 16:00-18:30   \n",
              "1048574                8       13397W        362.0  1P SAT-SUN 7:30-18:30   \n",
              "\n",
              "          AreaName  StreetId          StreetName  BetweenStreet1ID  \\\n",
              "1048570  Docklands        79  BATMANS HILL DRIVE              1457   \n",
              "1048571  Docklands      1383      VILLAGE STREET               131   \n",
              "1048572  Docklands      1383      VILLAGE STREET               131   \n",
              "1048573  Docklands      1383      VILLAGE STREET               131   \n",
              "1048574  Docklands      1383      VILLAGE STREET               131   \n",
              "\n",
              "         BetweenStreet1  BetweenStreet2ID  BetweenStreet2  SideOfStreet  \\\n",
              "1048570  FISHPLATE LANE               528  COLLINS STREET             2   \n",
              "1048571    BRENTANI WAY               974   MCCRAE STREET             5   \n",
              "1048572    BRENTANI WAY               974   MCCRAE STREET             5   \n",
              "1048573    BRENTANI WAY               974   MCCRAE STREET             5   \n",
              "1048574    BRENTANI WAY               974   MCCRAE STREET             5   \n",
              "\n",
              "        SideOfStreetCode SideName  BayId  InViolation  VehiclePresent  \n",
              "1048570                E     East   6656        False            True  \n",
              "1048571                W     West   6320        False           False  \n",
              "1048572                W     West   6321        False            True  \n",
              "1048573                W     West   6320        False           False  \n",
              "1048574                W     West   6320        False            True  "
            ],
            "text/html": [
              "\n",
              "  <div id=\"df-ea481c97-3dc9-4ce1-ae33-ef08fb9a4a25\">\n",
              "    <div class=\"colab-df-container\">\n",
              "      <div>\n",
              "<style scoped>\n",
              "    .dataframe tbody tr th:only-of-type {\n",
              "        vertical-align: middle;\n",
              "    }\n",
              "\n",
              "    .dataframe tbody tr th {\n",
              "        vertical-align: top;\n",
              "    }\n",
              "\n",
              "    .dataframe thead th {\n",
              "        text-align: right;\n",
              "    }\n",
              "</style>\n",
              "<table border=\"1\" class=\"dataframe\">\n",
              "  <thead>\n",
              "    <tr style=\"text-align: right;\">\n",
              "      <th></th>\n",
              "      <th>DeviceId</th>\n",
              "      <th>ArrivalTime</th>\n",
              "      <th>DepartureTime</th>\n",
              "      <th>DurationMinutes</th>\n",
              "      <th>StreetMarker</th>\n",
              "      <th>SignPlateID</th>\n",
              "      <th>Sign</th>\n",
              "      <th>AreaName</th>\n",
              "      <th>StreetId</th>\n",
              "      <th>StreetName</th>\n",
              "      <th>BetweenStreet1ID</th>\n",
              "      <th>BetweenStreet1</th>\n",
              "      <th>BetweenStreet2ID</th>\n",
              "      <th>BetweenStreet2</th>\n",
              "      <th>SideOfStreet</th>\n",
              "      <th>SideOfStreetCode</th>\n",
              "      <th>SideName</th>\n",
              "      <th>BayId</th>\n",
              "      <th>InViolation</th>\n",
              "      <th>VehiclePresent</th>\n",
              "    </tr>\n",
              "  </thead>\n",
              "  <tbody>\n",
              "    <tr>\n",
              "      <th>1048570</th>\n",
              "      <td>17419</td>\n",
              "      <td>01/21/2019 07:17:38 AM</td>\n",
              "      <td>01/21/2019 07:30:00 AM</td>\n",
              "      <td>13</td>\n",
              "      <td>13398E</td>\n",
              "      <td>NaN</td>\n",
              "      <td>NaN</td>\n",
              "      <td>Docklands</td>\n",
              "      <td>79</td>\n",
              "      <td>BATMANS HILL DRIVE</td>\n",
              "      <td>1457</td>\n",
              "      <td>FISHPLATE LANE</td>\n",
              "      <td>528</td>\n",
              "      <td>COLLINS STREET</td>\n",
              "      <td>2</td>\n",
              "      <td>E</td>\n",
              "      <td>East</td>\n",
              "      <td>6656</td>\n",
              "      <td>False</td>\n",
              "      <td>True</td>\n",
              "    </tr>\n",
              "    <tr>\n",
              "      <th>1048571</th>\n",
              "      <td>17418</td>\n",
              "      <td>11/18/2019 10:05:57 PM</td>\n",
              "      <td>11/18/2019 10:07:31 PM</td>\n",
              "      <td>2</td>\n",
              "      <td>13397W</td>\n",
              "      <td>NaN</td>\n",
              "      <td>NaN</td>\n",
              "      <td>Docklands</td>\n",
              "      <td>1383</td>\n",
              "      <td>VILLAGE STREET</td>\n",
              "      <td>131</td>\n",
              "      <td>BRENTANI WAY</td>\n",
              "      <td>974</td>\n",
              "      <td>MCCRAE STREET</td>\n",
              "      <td>5</td>\n",
              "      <td>W</td>\n",
              "      <td>West</td>\n",
              "      <td>6320</td>\n",
              "      <td>False</td>\n",
              "      <td>False</td>\n",
              "    </tr>\n",
              "    <tr>\n",
              "      <th>1048572</th>\n",
              "      <td>17420</td>\n",
              "      <td>06/13/2019 09:30:00 AM</td>\n",
              "      <td>06/13/2019 10:02:23 AM</td>\n",
              "      <td>32</td>\n",
              "      <td>13399W</td>\n",
              "      <td>99.0</td>\n",
              "      <td>2P MTR M-F 9:30-16:00</td>\n",
              "      <td>Docklands</td>\n",
              "      <td>1383</td>\n",
              "      <td>VILLAGE STREET</td>\n",
              "      <td>131</td>\n",
              "      <td>BRENTANI WAY</td>\n",
              "      <td>974</td>\n",
              "      <td>MCCRAE STREET</td>\n",
              "      <td>5</td>\n",
              "      <td>W</td>\n",
              "      <td>West</td>\n",
              "      <td>6321</td>\n",
              "      <td>False</td>\n",
              "      <td>True</td>\n",
              "    </tr>\n",
              "    <tr>\n",
              "      <th>1048573</th>\n",
              "      <td>17418</td>\n",
              "      <td>05/15/2019 04:31:54 PM</td>\n",
              "      <td>05/15/2019 04:32:56 PM</td>\n",
              "      <td>1</td>\n",
              "      <td>13397W</td>\n",
              "      <td>430.0</td>\n",
              "      <td>1/4P M-F 16:00-18:30</td>\n",
              "      <td>Docklands</td>\n",
              "      <td>1383</td>\n",
              "      <td>VILLAGE STREET</td>\n",
              "      <td>131</td>\n",
              "      <td>BRENTANI WAY</td>\n",
              "      <td>974</td>\n",
              "      <td>MCCRAE STREET</td>\n",
              "      <td>5</td>\n",
              "      <td>W</td>\n",
              "      <td>West</td>\n",
              "      <td>6320</td>\n",
              "      <td>False</td>\n",
              "      <td>False</td>\n",
              "    </tr>\n",
              "    <tr>\n",
              "      <th>1048574</th>\n",
              "      <td>17418</td>\n",
              "      <td>05/25/2019 06:10:25 PM</td>\n",
              "      <td>05/25/2019 06:18:14 PM</td>\n",
              "      <td>8</td>\n",
              "      <td>13397W</td>\n",
              "      <td>362.0</td>\n",
              "      <td>1P SAT-SUN 7:30-18:30</td>\n",
              "      <td>Docklands</td>\n",
              "      <td>1383</td>\n",
              "      <td>VILLAGE STREET</td>\n",
              "      <td>131</td>\n",
              "      <td>BRENTANI WAY</td>\n",
              "      <td>974</td>\n",
              "      <td>MCCRAE STREET</td>\n",
              "      <td>5</td>\n",
              "      <td>W</td>\n",
              "      <td>West</td>\n",
              "      <td>6320</td>\n",
              "      <td>False</td>\n",
              "      <td>True</td>\n",
              "    </tr>\n",
              "  </tbody>\n",
              "</table>\n",
              "</div>\n",
              "      <button class=\"colab-df-convert\" onclick=\"convertToInteractive('df-ea481c97-3dc9-4ce1-ae33-ef08fb9a4a25')\"\n",
              "              title=\"Convert this dataframe to an interactive table.\"\n",
              "              style=\"display:none;\">\n",
              "        \n",
              "  <svg xmlns=\"http://www.w3.org/2000/svg\" height=\"24px\"viewBox=\"0 0 24 24\"\n",
              "       width=\"24px\">\n",
              "    <path d=\"M0 0h24v24H0V0z\" fill=\"none\"/>\n",
              "    <path d=\"M18.56 5.44l.94 2.06.94-2.06 2.06-.94-2.06-.94-.94-2.06-.94 2.06-2.06.94zm-11 1L8.5 8.5l.94-2.06 2.06-.94-2.06-.94L8.5 2.5l-.94 2.06-2.06.94zm10 10l.94 2.06.94-2.06 2.06-.94-2.06-.94-.94-2.06-.94 2.06-2.06.94z\"/><path d=\"M17.41 7.96l-1.37-1.37c-.4-.4-.92-.59-1.43-.59-.52 0-1.04.2-1.43.59L10.3 9.45l-7.72 7.72c-.78.78-.78 2.05 0 2.83L4 21.41c.39.39.9.59 1.41.59.51 0 1.02-.2 1.41-.59l7.78-7.78 2.81-2.81c.8-.78.8-2.07 0-2.86zM5.41 20L4 18.59l7.72-7.72 1.47 1.35L5.41 20z\"/>\n",
              "  </svg>\n",
              "      </button>\n",
              "      \n",
              "  <style>\n",
              "    .colab-df-container {\n",
              "      display:flex;\n",
              "      flex-wrap:wrap;\n",
              "      gap: 12px;\n",
              "    }\n",
              "\n",
              "    .colab-df-convert {\n",
              "      background-color: #E8F0FE;\n",
              "      border: none;\n",
              "      border-radius: 50%;\n",
              "      cursor: pointer;\n",
              "      display: none;\n",
              "      fill: #1967D2;\n",
              "      height: 32px;\n",
              "      padding: 0 0 0 0;\n",
              "      width: 32px;\n",
              "    }\n",
              "\n",
              "    .colab-df-convert:hover {\n",
              "      background-color: #E2EBFA;\n",
              "      box-shadow: 0px 1px 2px rgba(60, 64, 67, 0.3), 0px 1px 3px 1px rgba(60, 64, 67, 0.15);\n",
              "      fill: #174EA6;\n",
              "    }\n",
              "\n",
              "    [theme=dark] .colab-df-convert {\n",
              "      background-color: #3B4455;\n",
              "      fill: #D2E3FC;\n",
              "    }\n",
              "\n",
              "    [theme=dark] .colab-df-convert:hover {\n",
              "      background-color: #434B5C;\n",
              "      box-shadow: 0px 1px 3px 1px rgba(0, 0, 0, 0.15);\n",
              "      filter: drop-shadow(0px 1px 2px rgba(0, 0, 0, 0.3));\n",
              "      fill: #FFFFFF;\n",
              "    }\n",
              "  </style>\n",
              "\n",
              "      <script>\n",
              "        const buttonEl =\n",
              "          document.querySelector('#df-ea481c97-3dc9-4ce1-ae33-ef08fb9a4a25 button.colab-df-convert');\n",
              "        buttonEl.style.display =\n",
              "          google.colab.kernel.accessAllowed ? 'block' : 'none';\n",
              "\n",
              "        async function convertToInteractive(key) {\n",
              "          const element = document.querySelector('#df-ea481c97-3dc9-4ce1-ae33-ef08fb9a4a25');\n",
              "          const dataTable =\n",
              "            await google.colab.kernel.invokeFunction('convertToInteractive',\n",
              "                                                     [key], {});\n",
              "          if (!dataTable) return;\n",
              "\n",
              "          const docLinkHtml = 'Like what you see? Visit the ' +\n",
              "            '<a target=\"_blank\" href=https://colab.research.google.com/notebooks/data_table.ipynb>data table notebook</a>'\n",
              "            + ' to learn more about interactive tables.';\n",
              "          element.innerHTML = '';\n",
              "          dataTable['output_type'] = 'display_data';\n",
              "          await google.colab.output.renderOutput(dataTable, element);\n",
              "          const docLink = document.createElement('div');\n",
              "          docLink.innerHTML = docLinkHtml;\n",
              "          element.appendChild(docLink);\n",
              "        }\n",
              "      </script>\n",
              "    </div>\n",
              "  </div>\n",
              "  "
            ]
          },
          "metadata": {},
          "execution_count": 3
        }
      ],
      "source": [
        "dataq.tail()"
      ]
    },
    {
      "cell_type": "code",
      "execution_count": 4,
      "metadata": {
        "colab": {
          "base_uri": "https://localhost:8080/"
        },
        "id": "B5JC-BkIhzCY",
        "outputId": "f1f624cd-3fd7-4359-87f9-776a20454b95"
      },
      "outputs": [
        {
          "output_type": "execute_result",
          "data": {
            "text/plain": [
              "(1048575, 20)"
            ]
          },
          "metadata": {},
          "execution_count": 4
        }
      ],
      "source": [
        "dataq.shape"
      ]
    },
    {
      "cell_type": "code",
      "execution_count": null,
      "metadata": {
        "colab": {
          "background_save": true,
          "base_uri": "https://localhost:8080/"
        },
        "id": "Zq_XDx4kqiXI",
        "outputId": "38cc6d32-d2c3-4cfd-edec-64e6eb599cf7"
      },
      "outputs": [
        {
          "data": {
            "text/plain": [
              "DeviceId                 0\n",
              "ArrivalTime              0\n",
              "DepartureTime            0\n",
              "DurationMinutes          0\n",
              "StreetMarker             0\n",
              "SignPlateID         286382\n",
              "Sign                286382\n",
              "AreaName                 1\n",
              "StreetId                 0\n",
              "StreetName               0\n",
              "BetweenStreet1ID         0\n",
              "BetweenStreet1           0\n",
              "BetweenStreet2ID         0\n",
              "BetweenStreet2           0\n",
              "SideOfStreet             0\n",
              "SideOfStreetCode         0\n",
              "SideName                 0\n",
              "BayId                    0\n",
              "InViolation              0\n",
              "VehiclePresent           0\n",
              "dtype: int64"
            ]
          },
          "execution_count": 7,
          "metadata": {},
          "output_type": "execute_result"
        }
      ],
      "source": [
        "dataq.isna().sum()"
      ]
    },
    {
      "cell_type": "code",
      "execution_count": null,
      "metadata": {
        "colab": {
          "background_save": true,
          "base_uri": "https://localhost:8080/"
        },
        "id": "AXIf3JWeqx0Y",
        "outputId": "87808e87-db4a-4f1b-ae68-d5adf4d5132c"
      },
      "outputs": [
        {
          "data": {
            "text/plain": [
              "407"
            ]
          },
          "execution_count": 8,
          "metadata": {},
          "output_type": "execute_result"
        }
      ],
      "source": [
        "dataq.duplicated().sum()"
      ]
    },
    {
      "cell_type": "code",
      "execution_count": null,
      "metadata": {
        "colab": {
          "background_save": true,
          "base_uri": "https://localhost:8080/"
        },
        "id": "NNajnJmfbfUP",
        "outputId": "47be204d-bdcf-49ce-efda-958a8b909229"
      },
      "outputs": [
        {
          "data": {
            "text/plain": [
              "DeviceId              int64\n",
              "ArrivalTime          object\n",
              "DepartureTime        object\n",
              "DurationMinutes       int64\n",
              "StreetMarker         object\n",
              "SignPlateID         float64\n",
              "Sign                 object\n",
              "AreaName             object\n",
              "StreetId              int64\n",
              "StreetName           object\n",
              "BetweenStreet1ID      int64\n",
              "BetweenStreet1       object\n",
              "BetweenStreet2ID      int64\n",
              "BetweenStreet2       object\n",
              "SideOfStreet          int64\n",
              "SideOfStreetCode     object\n",
              "SideName             object\n",
              "BayId                 int64\n",
              "InViolation            bool\n",
              "VehiclePresent         bool\n",
              "dtype: object"
            ]
          },
          "execution_count": 9,
          "metadata": {},
          "output_type": "execute_result"
        }
      ],
      "source": [
        "dataq.dtypes"
      ]
    },
    {
      "cell_type": "code",
      "execution_count": null,
      "metadata": {
        "colab": {
          "background_save": true,
          "base_uri": "https://localhost:8080/"
        },
        "id": "4LQggV6jsRvX",
        "outputId": "25ba5ef8-2a02-49ef-fb42-dd88c2a5351d"
      },
      "outputs": [
        {
          "data": {
            "text/plain": [
              "<bound method DataFrame.info of          DeviceId             ArrivalTime           DepartureTime  \\\n",
              "0           17176  02/15/2019 07:45:29 PM  02/15/2019 07:46:52 PM   \n",
              "1           17176  03/25/2019 08:35:40 PM  03/25/2019 08:39:08 PM   \n",
              "2           17176  01/17/2019 05:28:55 AM  01/17/2019 06:57:09 AM   \n",
              "3           17176  03/13/2019 10:18:17 PM  03/13/2019 10:18:24 PM   \n",
              "4           17176  01/18/2019 06:04:37 AM  01/18/2019 06:07:29 AM   \n",
              "...           ...                     ...                     ...   \n",
              "1048570     17419  01/21/2019 07:17:38 AM  01/21/2019 07:30:00 AM   \n",
              "1048571     17418  11/18/2019 10:05:57 PM  11/18/2019 10:07:31 PM   \n",
              "1048572     17420  06/13/2019 09:30:00 AM  06/13/2019 10:02:23 AM   \n",
              "1048573     17418  05/15/2019 04:31:54 PM  05/15/2019 04:32:56 PM   \n",
              "1048574     17418  05/25/2019 06:10:25 PM  05/25/2019 06:18:14 PM   \n",
              "\n",
              "         DurationMinutes StreetMarker  SignPlateID                   Sign  \\\n",
              "0                      1       13009S          NaN                    NaN   \n",
              "1                      4       13009S          NaN                    NaN   \n",
              "2                     89       13009S          NaN                    NaN   \n",
              "3                      0       13009S          NaN                    NaN   \n",
              "4                      3       13009S          NaN                    NaN   \n",
              "...                  ...          ...          ...                    ...   \n",
              "1048570               13       13398E          NaN                    NaN   \n",
              "1048571                2       13397W          NaN                    NaN   \n",
              "1048572               32       13399W         99.0  2P MTR M-F 9:30-16:00   \n",
              "1048573                1       13397W        430.0   1/4P M-F 16:00-18:30   \n",
              "1048574                8       13397W        362.0  1P SAT-SUN 7:30-18:30   \n",
              "\n",
              "          AreaName  StreetId          StreetName  BetweenStreet1ID  \\\n",
              "0        Docklands       528      COLLINS STREET              1285   \n",
              "1        Docklands       528      COLLINS STREET              1285   \n",
              "2        Docklands       528      COLLINS STREET              1285   \n",
              "3        Docklands       528      COLLINS STREET              1285   \n",
              "4        Docklands       528      COLLINS STREET              1285   \n",
              "...            ...       ...                 ...               ...   \n",
              "1048570  Docklands        79  BATMANS HILL DRIVE              1457   \n",
              "1048571  Docklands      1383      VILLAGE STREET               131   \n",
              "1048572  Docklands      1383      VILLAGE STREET               131   \n",
              "1048573  Docklands      1383      VILLAGE STREET               131   \n",
              "1048574  Docklands      1383      VILLAGE STREET               131   \n",
              "\n",
              "         BetweenStreet1  BetweenStreet2ID      BetweenStreet2  SideOfStreet  \\\n",
              "0        SPENCER STREET                79  BATMANS HILL DRIVE             4   \n",
              "1        SPENCER STREET                79  BATMANS HILL DRIVE             4   \n",
              "2        SPENCER STREET                79  BATMANS HILL DRIVE             4   \n",
              "3        SPENCER STREET                79  BATMANS HILL DRIVE             4   \n",
              "4        SPENCER STREET                79  BATMANS HILL DRIVE             4   \n",
              "...                 ...               ...                 ...           ...   \n",
              "1048570  FISHPLATE LANE               528      COLLINS STREET             2   \n",
              "1048571    BRENTANI WAY               974       MCCRAE STREET             5   \n",
              "1048572    BRENTANI WAY               974       MCCRAE STREET             5   \n",
              "1048573    BRENTANI WAY               974       MCCRAE STREET             5   \n",
              "1048574    BRENTANI WAY               974       MCCRAE STREET             5   \n",
              "\n",
              "        SideOfStreetCode SideName  BayId  InViolation  VehiclePresent  \n",
              "0                      S    South   6005        False            True  \n",
              "1                      S    South   6005        False            True  \n",
              "2                      S    South   6005        False            True  \n",
              "3                      S    South   6005        False           False  \n",
              "4                      S    South   6005        False            True  \n",
              "...                  ...      ...    ...          ...             ...  \n",
              "1048570                E     East   6656        False            True  \n",
              "1048571                W     West   6320        False           False  \n",
              "1048572                W     West   6321        False            True  \n",
              "1048573                W     West   6320        False           False  \n",
              "1048574                W     West   6320        False            True  \n",
              "\n",
              "[1048575 rows x 20 columns]>"
            ]
          },
          "execution_count": 10,
          "metadata": {},
          "output_type": "execute_result"
        }
      ],
      "source": [
        "dataq.info"
      ]
    },
    {
      "cell_type": "markdown",
      "metadata": {
        "id": "BWAny4J5a6wD"
      },
      "source": [
        "##Cleaning Data"
      ]
    },
    {
      "cell_type": "code",
      "execution_count": null,
      "metadata": {
        "id": "20Xj2B9JbAs2"
      },
      "outputs": [],
      "source": [
        "#since the data is mostly clean we start with changing the date column from\"object\"to\"date\"\n",
        "#convert column to datetime pandas\n",
        "dataq['ArrivalTime'] = pd.to_datetime(dataq['ArrivalTime'])\n"
      ]
    },
    {
      "cell_type": "code",
      "execution_count": null,
      "metadata": {
        "id": "lT3XrUPWcQ-9"
      },
      "outputs": [],
      "source": [
        "#since the data is mostly clean we start with changing the date column from\"object\"to\"date\"\n",
        "#convert column to datetime pandas\n",
        "dataq['DepartureTime'] = pd.to_datetime(dataq['DepartureTime'])\n"
      ]
    },
    {
      "cell_type": "code",
      "execution_count": null,
      "metadata": {
        "colab": {
          "base_uri": "https://localhost:8080/"
        },
        "id": "yn7PJSXwgSbw",
        "outputId": "c087b5ee-ad6d-4802-b980-4f77682ef08c"
      },
      "outputs": [
        {
          "data": {
            "text/plain": [
              "DeviceId                     int64\n",
              "ArrivalTime         datetime64[ns]\n",
              "DepartureTime       datetime64[ns]\n",
              "DurationMinutes              int64\n",
              "StreetMarker                object\n",
              "SignPlateID                float64\n",
              "Sign                        object\n",
              "AreaName                    object\n",
              "StreetId                   float64\n",
              "StreetName                  object\n",
              "BetweenStreet1ID           float64\n",
              "BetweenStreet1              object\n",
              "BetweenStreet2ID           float64\n",
              "BetweenStreet2              object\n",
              "SideOfStreet               float64\n",
              "SideOfStreetCode            object\n",
              "SideName                    object\n",
              "BayId                      float64\n",
              "InViolation                 object\n",
              "VehiclePresent              object\n",
              "dtype: object"
            ]
          },
          "execution_count": 23,
          "metadata": {},
          "output_type": "execute_result"
        }
      ],
      "source": [
        "dataq.dtypes"
      ]
    },
    {
      "cell_type": "code",
      "execution_count": 5,
      "metadata": {
        "id": "98Tgpyz8gXuv"
      },
      "outputs": [],
      "source": [
        "#we drop all unnecessary columns,we first drop signplateID Since we wont need it in our analysis\n",
        "#also we drop all other primary key columns sinceon eis enough\n",
        "#SignPlateID ,StreetId,BayId \n",
        "\n",
        "dataq.drop(columns=[\"Sign\",\"SignPlateID\",\"BetweenStreet1\",\"BetweenStreet2\",\"BetweenStreet1ID\",\"BetweenStreet2ID\"] ,axis=1, inplace=True) "
      ]
    },
    {
      "cell_type": "code",
      "execution_count": 6,
      "metadata": {
        "colab": {
          "base_uri": "https://localhost:8080/",
          "height": 357
        },
        "id": "hfFMXl7YX0gv",
        "outputId": "34d18050-683e-4ddb-91b2-338677cbc951"
      },
      "outputs": [
        {
          "output_type": "execute_result",
          "data": {
            "text/plain": [
              "   DeviceId             ArrivalTime           DepartureTime  DurationMinutes  \\\n",
              "0     17176  02/15/2019 07:45:29 PM  02/15/2019 07:46:52 PM                1   \n",
              "1     17176  03/25/2019 08:35:40 PM  03/25/2019 08:39:08 PM                4   \n",
              "2     17176  01/17/2019 05:28:55 AM  01/17/2019 06:57:09 AM               89   \n",
              "3     17176  03/13/2019 10:18:17 PM  03/13/2019 10:18:24 PM                0   \n",
              "4     17176  01/18/2019 06:04:37 AM  01/18/2019 06:07:29 AM                3   \n",
              "\n",
              "  StreetMarker   AreaName  StreetId      StreetName  SideOfStreet  \\\n",
              "0       13009S  Docklands       528  COLLINS STREET             4   \n",
              "1       13009S  Docklands       528  COLLINS STREET             4   \n",
              "2       13009S  Docklands       528  COLLINS STREET             4   \n",
              "3       13009S  Docklands       528  COLLINS STREET             4   \n",
              "4       13009S  Docklands       528  COLLINS STREET             4   \n",
              "\n",
              "  SideOfStreetCode SideName  BayId  InViolation  VehiclePresent  \n",
              "0                S    South   6005        False            True  \n",
              "1                S    South   6005        False            True  \n",
              "2                S    South   6005        False            True  \n",
              "3                S    South   6005        False           False  \n",
              "4                S    South   6005        False            True  "
            ],
            "text/html": [
              "\n",
              "  <div id=\"df-1d3117d8-ec1b-4ba1-ace9-baa5050afdca\">\n",
              "    <div class=\"colab-df-container\">\n",
              "      <div>\n",
              "<style scoped>\n",
              "    .dataframe tbody tr th:only-of-type {\n",
              "        vertical-align: middle;\n",
              "    }\n",
              "\n",
              "    .dataframe tbody tr th {\n",
              "        vertical-align: top;\n",
              "    }\n",
              "\n",
              "    .dataframe thead th {\n",
              "        text-align: right;\n",
              "    }\n",
              "</style>\n",
              "<table border=\"1\" class=\"dataframe\">\n",
              "  <thead>\n",
              "    <tr style=\"text-align: right;\">\n",
              "      <th></th>\n",
              "      <th>DeviceId</th>\n",
              "      <th>ArrivalTime</th>\n",
              "      <th>DepartureTime</th>\n",
              "      <th>DurationMinutes</th>\n",
              "      <th>StreetMarker</th>\n",
              "      <th>AreaName</th>\n",
              "      <th>StreetId</th>\n",
              "      <th>StreetName</th>\n",
              "      <th>SideOfStreet</th>\n",
              "      <th>SideOfStreetCode</th>\n",
              "      <th>SideName</th>\n",
              "      <th>BayId</th>\n",
              "      <th>InViolation</th>\n",
              "      <th>VehiclePresent</th>\n",
              "    </tr>\n",
              "  </thead>\n",
              "  <tbody>\n",
              "    <tr>\n",
              "      <th>0</th>\n",
              "      <td>17176</td>\n",
              "      <td>02/15/2019 07:45:29 PM</td>\n",
              "      <td>02/15/2019 07:46:52 PM</td>\n",
              "      <td>1</td>\n",
              "      <td>13009S</td>\n",
              "      <td>Docklands</td>\n",
              "      <td>528</td>\n",
              "      <td>COLLINS STREET</td>\n",
              "      <td>4</td>\n",
              "      <td>S</td>\n",
              "      <td>South</td>\n",
              "      <td>6005</td>\n",
              "      <td>False</td>\n",
              "      <td>True</td>\n",
              "    </tr>\n",
              "    <tr>\n",
              "      <th>1</th>\n",
              "      <td>17176</td>\n",
              "      <td>03/25/2019 08:35:40 PM</td>\n",
              "      <td>03/25/2019 08:39:08 PM</td>\n",
              "      <td>4</td>\n",
              "      <td>13009S</td>\n",
              "      <td>Docklands</td>\n",
              "      <td>528</td>\n",
              "      <td>COLLINS STREET</td>\n",
              "      <td>4</td>\n",
              "      <td>S</td>\n",
              "      <td>South</td>\n",
              "      <td>6005</td>\n",
              "      <td>False</td>\n",
              "      <td>True</td>\n",
              "    </tr>\n",
              "    <tr>\n",
              "      <th>2</th>\n",
              "      <td>17176</td>\n",
              "      <td>01/17/2019 05:28:55 AM</td>\n",
              "      <td>01/17/2019 06:57:09 AM</td>\n",
              "      <td>89</td>\n",
              "      <td>13009S</td>\n",
              "      <td>Docklands</td>\n",
              "      <td>528</td>\n",
              "      <td>COLLINS STREET</td>\n",
              "      <td>4</td>\n",
              "      <td>S</td>\n",
              "      <td>South</td>\n",
              "      <td>6005</td>\n",
              "      <td>False</td>\n",
              "      <td>True</td>\n",
              "    </tr>\n",
              "    <tr>\n",
              "      <th>3</th>\n",
              "      <td>17176</td>\n",
              "      <td>03/13/2019 10:18:17 PM</td>\n",
              "      <td>03/13/2019 10:18:24 PM</td>\n",
              "      <td>0</td>\n",
              "      <td>13009S</td>\n",
              "      <td>Docklands</td>\n",
              "      <td>528</td>\n",
              "      <td>COLLINS STREET</td>\n",
              "      <td>4</td>\n",
              "      <td>S</td>\n",
              "      <td>South</td>\n",
              "      <td>6005</td>\n",
              "      <td>False</td>\n",
              "      <td>False</td>\n",
              "    </tr>\n",
              "    <tr>\n",
              "      <th>4</th>\n",
              "      <td>17176</td>\n",
              "      <td>01/18/2019 06:04:37 AM</td>\n",
              "      <td>01/18/2019 06:07:29 AM</td>\n",
              "      <td>3</td>\n",
              "      <td>13009S</td>\n",
              "      <td>Docklands</td>\n",
              "      <td>528</td>\n",
              "      <td>COLLINS STREET</td>\n",
              "      <td>4</td>\n",
              "      <td>S</td>\n",
              "      <td>South</td>\n",
              "      <td>6005</td>\n",
              "      <td>False</td>\n",
              "      <td>True</td>\n",
              "    </tr>\n",
              "  </tbody>\n",
              "</table>\n",
              "</div>\n",
              "      <button class=\"colab-df-convert\" onclick=\"convertToInteractive('df-1d3117d8-ec1b-4ba1-ace9-baa5050afdca')\"\n",
              "              title=\"Convert this dataframe to an interactive table.\"\n",
              "              style=\"display:none;\">\n",
              "        \n",
              "  <svg xmlns=\"http://www.w3.org/2000/svg\" height=\"24px\"viewBox=\"0 0 24 24\"\n",
              "       width=\"24px\">\n",
              "    <path d=\"M0 0h24v24H0V0z\" fill=\"none\"/>\n",
              "    <path d=\"M18.56 5.44l.94 2.06.94-2.06 2.06-.94-2.06-.94-.94-2.06-.94 2.06-2.06.94zm-11 1L8.5 8.5l.94-2.06 2.06-.94-2.06-.94L8.5 2.5l-.94 2.06-2.06.94zm10 10l.94 2.06.94-2.06 2.06-.94-2.06-.94-.94-2.06-.94 2.06-2.06.94z\"/><path d=\"M17.41 7.96l-1.37-1.37c-.4-.4-.92-.59-1.43-.59-.52 0-1.04.2-1.43.59L10.3 9.45l-7.72 7.72c-.78.78-.78 2.05 0 2.83L4 21.41c.39.39.9.59 1.41.59.51 0 1.02-.2 1.41-.59l7.78-7.78 2.81-2.81c.8-.78.8-2.07 0-2.86zM5.41 20L4 18.59l7.72-7.72 1.47 1.35L5.41 20z\"/>\n",
              "  </svg>\n",
              "      </button>\n",
              "      \n",
              "  <style>\n",
              "    .colab-df-container {\n",
              "      display:flex;\n",
              "      flex-wrap:wrap;\n",
              "      gap: 12px;\n",
              "    }\n",
              "\n",
              "    .colab-df-convert {\n",
              "      background-color: #E8F0FE;\n",
              "      border: none;\n",
              "      border-radius: 50%;\n",
              "      cursor: pointer;\n",
              "      display: none;\n",
              "      fill: #1967D2;\n",
              "      height: 32px;\n",
              "      padding: 0 0 0 0;\n",
              "      width: 32px;\n",
              "    }\n",
              "\n",
              "    .colab-df-convert:hover {\n",
              "      background-color: #E2EBFA;\n",
              "      box-shadow: 0px 1px 2px rgba(60, 64, 67, 0.3), 0px 1px 3px 1px rgba(60, 64, 67, 0.15);\n",
              "      fill: #174EA6;\n",
              "    }\n",
              "\n",
              "    [theme=dark] .colab-df-convert {\n",
              "      background-color: #3B4455;\n",
              "      fill: #D2E3FC;\n",
              "    }\n",
              "\n",
              "    [theme=dark] .colab-df-convert:hover {\n",
              "      background-color: #434B5C;\n",
              "      box-shadow: 0px 1px 3px 1px rgba(0, 0, 0, 0.15);\n",
              "      filter: drop-shadow(0px 1px 2px rgba(0, 0, 0, 0.3));\n",
              "      fill: #FFFFFF;\n",
              "    }\n",
              "  </style>\n",
              "\n",
              "      <script>\n",
              "        const buttonEl =\n",
              "          document.querySelector('#df-1d3117d8-ec1b-4ba1-ace9-baa5050afdca button.colab-df-convert');\n",
              "        buttonEl.style.display =\n",
              "          google.colab.kernel.accessAllowed ? 'block' : 'none';\n",
              "\n",
              "        async function convertToInteractive(key) {\n",
              "          const element = document.querySelector('#df-1d3117d8-ec1b-4ba1-ace9-baa5050afdca');\n",
              "          const dataTable =\n",
              "            await google.colab.kernel.invokeFunction('convertToInteractive',\n",
              "                                                     [key], {});\n",
              "          if (!dataTable) return;\n",
              "\n",
              "          const docLinkHtml = 'Like what you see? Visit the ' +\n",
              "            '<a target=\"_blank\" href=https://colab.research.google.com/notebooks/data_table.ipynb>data table notebook</a>'\n",
              "            + ' to learn more about interactive tables.';\n",
              "          element.innerHTML = '';\n",
              "          dataTable['output_type'] = 'display_data';\n",
              "          await google.colab.output.renderOutput(dataTable, element);\n",
              "          const docLink = document.createElement('div');\n",
              "          docLink.innerHTML = docLinkHtml;\n",
              "          element.appendChild(docLink);\n",
              "        }\n",
              "      </script>\n",
              "    </div>\n",
              "  </div>\n",
              "  "
            ]
          },
          "metadata": {},
          "execution_count": 6
        }
      ],
      "source": [
        "#also drop all the null values\n",
        "# using dropna() function  \n",
        "dataq.dropna()\n",
        "dataq.head()"
      ]
    },
    {
      "cell_type": "code",
      "execution_count": 7,
      "metadata": {
        "colab": {
          "base_uri": "https://localhost:8080/"
        },
        "id": "GW5LnMuGYbr2",
        "outputId": "60e11e14-5c10-46fe-b862-26544f718903"
      },
      "outputs": [
        {
          "output_type": "execute_result",
          "data": {
            "text/plain": [
              "DeviceId            0\n",
              "ArrivalTime         0\n",
              "DepartureTime       0\n",
              "DurationMinutes     0\n",
              "StreetMarker        0\n",
              "AreaName            1\n",
              "StreetId            0\n",
              "StreetName          0\n",
              "SideOfStreet        0\n",
              "SideOfStreetCode    0\n",
              "SideName            0\n",
              "BayId               0\n",
              "InViolation         0\n",
              "VehiclePresent      0\n",
              "dtype: int64"
            ]
          },
          "metadata": {},
          "execution_count": 7
        }
      ],
      "source": [
        "dataq.isna().sum()"
      ]
    },
    {
      "cell_type": "code",
      "execution_count": null,
      "metadata": {
        "colab": {
          "base_uri": "https://localhost:8080/"
        },
        "id": "keF9VOGfjTMP",
        "outputId": "6d6f88e2-d178-44c9-ccfb-cc5f7b0b276e"
      },
      "outputs": [
        {
          "name": "stdout",
          "output_type": "stream",
          "text": [
            "['DeviceId', 'ArrivalTime', 'DepartureTime', 'DurationMinutes', 'StreetMarker', 'AreaName', 'StreetName', 'SideOfStreetCode', 'SideName', 'InViolation', 'VehiclePresent']\n"
          ]
        }
      ],
      "source": [
        "print(dataq.columns.tolist())"
      ]
    },
    {
      "cell_type": "code",
      "execution_count": 8,
      "metadata": {
        "id": "dXfETGKumCkJ"
      },
      "outputs": [],
      "source": [
        "#Exctract month and create a dedicated column df[\"Month\"] from a \n",
        "#column in datetime format df[\"Date\"]\n",
        "dataq['Month'] = pd.DatetimeIndex(dataq['ArrivalTime']).month"
      ]
    },
    {
      "cell_type": "code",
      "execution_count": null,
      "metadata": {
        "id": "G3oyMZPzmRLp"
      },
      "outputs": [],
      "source": [
        "#Exctract month and create a dedicated column df[\"Month\"] from a \n",
        "#column in datetime format df[\"Date\"]\n",
        "dataq['Year'] = pd.DatetimeIndex(dataq['ArrivalTime']).year"
      ]
    },
    {
      "cell_type": "code",
      "execution_count": 9,
      "metadata": {
        "id": "GN612pQ9Txv9"
      },
      "outputs": [],
      "source": [
        "#Exctract day and create a dedicated column df[\"Day\"] from a \n",
        "#column in datetime format df[\"Date\"]\n",
        "dataq['Day'] = pd.DatetimeIndex(dataq['DepartureTime']).day"
      ]
    },
    {
      "cell_type": "code",
      "execution_count": 10,
      "metadata": {
        "id": "G6IOl6XNU5PN"
      },
      "outputs": [],
      "source": [
        "#Exctract day and create a dedicated column df[\"Day\"] from a \n",
        "#column in datetime format df[\"Date\"]\n",
        "dataq['hourarrive'] = pd.DatetimeIndex(dataq['ArrivalTime']).hour"
      ]
    },
    {
      "cell_type": "code",
      "execution_count": 11,
      "metadata": {
        "id": "CwYnouVvVAXU"
      },
      "outputs": [],
      "source": [
        "#Exctract day and create a dedicated column df[\"Day\"] from a \n",
        "#column in datetime format df[\"Date\"]\n",
        "dataq['secondarrive'] = pd.DatetimeIndex(dataq['ArrivalTime']).second"
      ]
    },
    {
      "cell_type": "code",
      "execution_count": 12,
      "metadata": {
        "id": "gX68YBW5VHgx"
      },
      "outputs": [],
      "source": [
        "#Exctract day and create a dedicated column df[\"Day\"] from a \n",
        "#column in datetime format df[\"Date\"]\n",
        "dataq['minutearrive'] = pd.DatetimeIndex(dataq['ArrivalTime']).minute"
      ]
    },
    {
      "cell_type": "code",
      "execution_count": null,
      "metadata": {
        "colab": {
          "base_uri": "https://localhost:8080/"
        },
        "id": "nwo9o7aNmvrE",
        "outputId": "39024b3e-d809-4d00-dd59-9bcb691b7329"
      },
      "outputs": [
        {
          "data": {
            "text/plain": [
              "DeviceId                     int64\n",
              "ArrivalTime         datetime64[ns]\n",
              "DepartureTime       datetime64[ns]\n",
              "DurationMinutes              int64\n",
              "StreetMarker                object\n",
              "AreaName                    object\n",
              "StreetId                     int64\n",
              "StreetName                  object\n",
              "SideOfStreet                 int64\n",
              "SideOfStreetCode            object\n",
              "SideName                    object\n",
              "BayId                        int64\n",
              "InViolation                   bool\n",
              "VehiclePresent                bool\n",
              "Day                          int64\n",
              "hourarrive                   int64\n",
              "timearrive                  object\n",
              "minutearrive                 int64\n",
              "Month                        int64\n",
              "secondarrive                 int64\n",
              "dtype: object"
            ]
          },
          "execution_count": 23,
          "metadata": {},
          "output_type": "execute_result"
        }
      ],
      "source": [
        "dataq.dtypes"
      ]
    },
    {
      "cell_type": "code",
      "execution_count": 13,
      "metadata": {
        "colab": {
          "base_uri": "https://localhost:8080/",
          "height": 357
        },
        "id": "brFof8KuTp_g",
        "outputId": "9602b60d-0cd7-41a8-aab0-13dd149622e9"
      },
      "outputs": [
        {
          "output_type": "execute_result",
          "data": {
            "text/plain": [
              "   DeviceId             ArrivalTime           DepartureTime  DurationMinutes  \\\n",
              "0     17176  02/15/2019 07:45:29 PM  02/15/2019 07:46:52 PM                1   \n",
              "1     17176  03/25/2019 08:35:40 PM  03/25/2019 08:39:08 PM                4   \n",
              "2     17176  01/17/2019 05:28:55 AM  01/17/2019 06:57:09 AM               89   \n",
              "3     17176  03/13/2019 10:18:17 PM  03/13/2019 10:18:24 PM                0   \n",
              "4     17176  01/18/2019 06:04:37 AM  01/18/2019 06:07:29 AM                3   \n",
              "\n",
              "  StreetMarker   AreaName  StreetId      StreetName  SideOfStreet  \\\n",
              "0       13009S  Docklands       528  COLLINS STREET             4   \n",
              "1       13009S  Docklands       528  COLLINS STREET             4   \n",
              "2       13009S  Docklands       528  COLLINS STREET             4   \n",
              "3       13009S  Docklands       528  COLLINS STREET             4   \n",
              "4       13009S  Docklands       528  COLLINS STREET             4   \n",
              "\n",
              "  SideOfStreetCode SideName  BayId  InViolation  VehiclePresent  Month  Day  \\\n",
              "0                S    South   6005        False            True      2   15   \n",
              "1                S    South   6005        False            True      3   25   \n",
              "2                S    South   6005        False            True      1   17   \n",
              "3                S    South   6005        False           False      3   13   \n",
              "4                S    South   6005        False            True      1   18   \n",
              "\n",
              "   hourarrive  secondarrive  minutearrive  \n",
              "0          19            29            45  \n",
              "1          20            40            35  \n",
              "2           5            55            28  \n",
              "3          22            17            18  \n",
              "4           6            37             4  "
            ],
            "text/html": [
              "\n",
              "  <div id=\"df-4ce65f6c-0ca6-406d-a308-45fbc8eb986b\">\n",
              "    <div class=\"colab-df-container\">\n",
              "      <div>\n",
              "<style scoped>\n",
              "    .dataframe tbody tr th:only-of-type {\n",
              "        vertical-align: middle;\n",
              "    }\n",
              "\n",
              "    .dataframe tbody tr th {\n",
              "        vertical-align: top;\n",
              "    }\n",
              "\n",
              "    .dataframe thead th {\n",
              "        text-align: right;\n",
              "    }\n",
              "</style>\n",
              "<table border=\"1\" class=\"dataframe\">\n",
              "  <thead>\n",
              "    <tr style=\"text-align: right;\">\n",
              "      <th></th>\n",
              "      <th>DeviceId</th>\n",
              "      <th>ArrivalTime</th>\n",
              "      <th>DepartureTime</th>\n",
              "      <th>DurationMinutes</th>\n",
              "      <th>StreetMarker</th>\n",
              "      <th>AreaName</th>\n",
              "      <th>StreetId</th>\n",
              "      <th>StreetName</th>\n",
              "      <th>SideOfStreet</th>\n",
              "      <th>SideOfStreetCode</th>\n",
              "      <th>SideName</th>\n",
              "      <th>BayId</th>\n",
              "      <th>InViolation</th>\n",
              "      <th>VehiclePresent</th>\n",
              "      <th>Month</th>\n",
              "      <th>Day</th>\n",
              "      <th>hourarrive</th>\n",
              "      <th>secondarrive</th>\n",
              "      <th>minutearrive</th>\n",
              "    </tr>\n",
              "  </thead>\n",
              "  <tbody>\n",
              "    <tr>\n",
              "      <th>0</th>\n",
              "      <td>17176</td>\n",
              "      <td>02/15/2019 07:45:29 PM</td>\n",
              "      <td>02/15/2019 07:46:52 PM</td>\n",
              "      <td>1</td>\n",
              "      <td>13009S</td>\n",
              "      <td>Docklands</td>\n",
              "      <td>528</td>\n",
              "      <td>COLLINS STREET</td>\n",
              "      <td>4</td>\n",
              "      <td>S</td>\n",
              "      <td>South</td>\n",
              "      <td>6005</td>\n",
              "      <td>False</td>\n",
              "      <td>True</td>\n",
              "      <td>2</td>\n",
              "      <td>15</td>\n",
              "      <td>19</td>\n",
              "      <td>29</td>\n",
              "      <td>45</td>\n",
              "    </tr>\n",
              "    <tr>\n",
              "      <th>1</th>\n",
              "      <td>17176</td>\n",
              "      <td>03/25/2019 08:35:40 PM</td>\n",
              "      <td>03/25/2019 08:39:08 PM</td>\n",
              "      <td>4</td>\n",
              "      <td>13009S</td>\n",
              "      <td>Docklands</td>\n",
              "      <td>528</td>\n",
              "      <td>COLLINS STREET</td>\n",
              "      <td>4</td>\n",
              "      <td>S</td>\n",
              "      <td>South</td>\n",
              "      <td>6005</td>\n",
              "      <td>False</td>\n",
              "      <td>True</td>\n",
              "      <td>3</td>\n",
              "      <td>25</td>\n",
              "      <td>20</td>\n",
              "      <td>40</td>\n",
              "      <td>35</td>\n",
              "    </tr>\n",
              "    <tr>\n",
              "      <th>2</th>\n",
              "      <td>17176</td>\n",
              "      <td>01/17/2019 05:28:55 AM</td>\n",
              "      <td>01/17/2019 06:57:09 AM</td>\n",
              "      <td>89</td>\n",
              "      <td>13009S</td>\n",
              "      <td>Docklands</td>\n",
              "      <td>528</td>\n",
              "      <td>COLLINS STREET</td>\n",
              "      <td>4</td>\n",
              "      <td>S</td>\n",
              "      <td>South</td>\n",
              "      <td>6005</td>\n",
              "      <td>False</td>\n",
              "      <td>True</td>\n",
              "      <td>1</td>\n",
              "      <td>17</td>\n",
              "      <td>5</td>\n",
              "      <td>55</td>\n",
              "      <td>28</td>\n",
              "    </tr>\n",
              "    <tr>\n",
              "      <th>3</th>\n",
              "      <td>17176</td>\n",
              "      <td>03/13/2019 10:18:17 PM</td>\n",
              "      <td>03/13/2019 10:18:24 PM</td>\n",
              "      <td>0</td>\n",
              "      <td>13009S</td>\n",
              "      <td>Docklands</td>\n",
              "      <td>528</td>\n",
              "      <td>COLLINS STREET</td>\n",
              "      <td>4</td>\n",
              "      <td>S</td>\n",
              "      <td>South</td>\n",
              "      <td>6005</td>\n",
              "      <td>False</td>\n",
              "      <td>False</td>\n",
              "      <td>3</td>\n",
              "      <td>13</td>\n",
              "      <td>22</td>\n",
              "      <td>17</td>\n",
              "      <td>18</td>\n",
              "    </tr>\n",
              "    <tr>\n",
              "      <th>4</th>\n",
              "      <td>17176</td>\n",
              "      <td>01/18/2019 06:04:37 AM</td>\n",
              "      <td>01/18/2019 06:07:29 AM</td>\n",
              "      <td>3</td>\n",
              "      <td>13009S</td>\n",
              "      <td>Docklands</td>\n",
              "      <td>528</td>\n",
              "      <td>COLLINS STREET</td>\n",
              "      <td>4</td>\n",
              "      <td>S</td>\n",
              "      <td>South</td>\n",
              "      <td>6005</td>\n",
              "      <td>False</td>\n",
              "      <td>True</td>\n",
              "      <td>1</td>\n",
              "      <td>18</td>\n",
              "      <td>6</td>\n",
              "      <td>37</td>\n",
              "      <td>4</td>\n",
              "    </tr>\n",
              "  </tbody>\n",
              "</table>\n",
              "</div>\n",
              "      <button class=\"colab-df-convert\" onclick=\"convertToInteractive('df-4ce65f6c-0ca6-406d-a308-45fbc8eb986b')\"\n",
              "              title=\"Convert this dataframe to an interactive table.\"\n",
              "              style=\"display:none;\">\n",
              "        \n",
              "  <svg xmlns=\"http://www.w3.org/2000/svg\" height=\"24px\"viewBox=\"0 0 24 24\"\n",
              "       width=\"24px\">\n",
              "    <path d=\"M0 0h24v24H0V0z\" fill=\"none\"/>\n",
              "    <path d=\"M18.56 5.44l.94 2.06.94-2.06 2.06-.94-2.06-.94-.94-2.06-.94 2.06-2.06.94zm-11 1L8.5 8.5l.94-2.06 2.06-.94-2.06-.94L8.5 2.5l-.94 2.06-2.06.94zm10 10l.94 2.06.94-2.06 2.06-.94-2.06-.94-.94-2.06-.94 2.06-2.06.94z\"/><path d=\"M17.41 7.96l-1.37-1.37c-.4-.4-.92-.59-1.43-.59-.52 0-1.04.2-1.43.59L10.3 9.45l-7.72 7.72c-.78.78-.78 2.05 0 2.83L4 21.41c.39.39.9.59 1.41.59.51 0 1.02-.2 1.41-.59l7.78-7.78 2.81-2.81c.8-.78.8-2.07 0-2.86zM5.41 20L4 18.59l7.72-7.72 1.47 1.35L5.41 20z\"/>\n",
              "  </svg>\n",
              "      </button>\n",
              "      \n",
              "  <style>\n",
              "    .colab-df-container {\n",
              "      display:flex;\n",
              "      flex-wrap:wrap;\n",
              "      gap: 12px;\n",
              "    }\n",
              "\n",
              "    .colab-df-convert {\n",
              "      background-color: #E8F0FE;\n",
              "      border: none;\n",
              "      border-radius: 50%;\n",
              "      cursor: pointer;\n",
              "      display: none;\n",
              "      fill: #1967D2;\n",
              "      height: 32px;\n",
              "      padding: 0 0 0 0;\n",
              "      width: 32px;\n",
              "    }\n",
              "\n",
              "    .colab-df-convert:hover {\n",
              "      background-color: #E2EBFA;\n",
              "      box-shadow: 0px 1px 2px rgba(60, 64, 67, 0.3), 0px 1px 3px 1px rgba(60, 64, 67, 0.15);\n",
              "      fill: #174EA6;\n",
              "    }\n",
              "\n",
              "    [theme=dark] .colab-df-convert {\n",
              "      background-color: #3B4455;\n",
              "      fill: #D2E3FC;\n",
              "    }\n",
              "\n",
              "    [theme=dark] .colab-df-convert:hover {\n",
              "      background-color: #434B5C;\n",
              "      box-shadow: 0px 1px 3px 1px rgba(0, 0, 0, 0.15);\n",
              "      filter: drop-shadow(0px 1px 2px rgba(0, 0, 0, 0.3));\n",
              "      fill: #FFFFFF;\n",
              "    }\n",
              "  </style>\n",
              "\n",
              "      <script>\n",
              "        const buttonEl =\n",
              "          document.querySelector('#df-4ce65f6c-0ca6-406d-a308-45fbc8eb986b button.colab-df-convert');\n",
              "        buttonEl.style.display =\n",
              "          google.colab.kernel.accessAllowed ? 'block' : 'none';\n",
              "\n",
              "        async function convertToInteractive(key) {\n",
              "          const element = document.querySelector('#df-4ce65f6c-0ca6-406d-a308-45fbc8eb986b');\n",
              "          const dataTable =\n",
              "            await google.colab.kernel.invokeFunction('convertToInteractive',\n",
              "                                                     [key], {});\n",
              "          if (!dataTable) return;\n",
              "\n",
              "          const docLinkHtml = 'Like what you see? Visit the ' +\n",
              "            '<a target=\"_blank\" href=https://colab.research.google.com/notebooks/data_table.ipynb>data table notebook</a>'\n",
              "            + ' to learn more about interactive tables.';\n",
              "          element.innerHTML = '';\n",
              "          dataTable['output_type'] = 'display_data';\n",
              "          await google.colab.output.renderOutput(dataTable, element);\n",
              "          const docLink = document.createElement('div');\n",
              "          docLink.innerHTML = docLinkHtml;\n",
              "          element.appendChild(docLink);\n",
              "        }\n",
              "      </script>\n",
              "    </div>\n",
              "  </div>\n",
              "  "
            ]
          },
          "metadata": {},
          "execution_count": 13
        }
      ],
      "source": [
        "dataq.head()"
      ]
    },
    {
      "cell_type": "code",
      "execution_count": null,
      "metadata": {
        "colab": {
          "base_uri": "https://localhost:8080/"
        },
        "id": "vwqShZUzWkFy",
        "outputId": "50047fd0-0a84-4fbe-eeff-5b77c227b3ee"
      },
      "outputs": [
        {
          "name": "stdout",
          "output_type": "stream",
          "text": [
            "         DeviceId         ArrivalTime       DepartureTime  DurationMinutes  \\\n",
            "0           17176 2019-02-15 19:45:29 2019-02-15 19:46:52                1   \n",
            "1           17176 2019-03-25 20:35:40 2019-03-25 20:39:08                4   \n",
            "2           17176 2019-01-17 05:28:55 2019-01-17 06:57:09               89   \n",
            "3           17176 2019-03-13 22:18:17 2019-03-13 22:18:24                0   \n",
            "4           17176 2019-01-18 06:04:37 2019-01-18 06:07:29                3   \n",
            "...           ...                 ...                 ...              ...   \n",
            "1048570     17419 2019-01-21 07:17:38 2019-01-21 07:30:00               13   \n",
            "1048571     17418 2019-11-18 22:05:57 2019-11-18 22:07:31                2   \n",
            "1048572     17420 2019-06-13 09:30:00 2019-06-13 10:02:23               32   \n",
            "1048573     17418 2019-05-15 16:31:54 2019-05-15 16:32:56                1   \n",
            "1048574     17418 2019-05-25 18:10:25 2019-05-25 18:18:14                8   \n",
            "\n",
            "        StreetMarker   AreaName  StreetId          StreetName  SideOfStreet  \\\n",
            "0             13009S  Docklands       528      COLLINS STREET             4   \n",
            "1             13009S  Docklands       528      COLLINS STREET             4   \n",
            "2             13009S  Docklands       528      COLLINS STREET             4   \n",
            "3             13009S  Docklands       528      COLLINS STREET             4   \n",
            "4             13009S  Docklands       528      COLLINS STREET             4   \n",
            "...              ...        ...       ...                 ...           ...   \n",
            "1048570       13398E  Docklands        79  BATMANS HILL DRIVE             2   \n",
            "1048571       13397W  Docklands      1383      VILLAGE STREET             5   \n",
            "1048572       13399W  Docklands      1383      VILLAGE STREET             5   \n",
            "1048573       13397W  Docklands      1383      VILLAGE STREET             5   \n",
            "1048574       13397W  Docklands      1383      VILLAGE STREET             5   \n",
            "\n",
            "        SideOfStreetCode  ... BayId  InViolation  VehiclePresent  Month  Year  \\\n",
            "0                      S  ...  6005        False            True      2  2019   \n",
            "1                      S  ...  6005        False            True      3  2019   \n",
            "2                      S  ...  6005        False            True      1  2019   \n",
            "3                      S  ...  6005        False           False      3  2019   \n",
            "4                      S  ...  6005        False            True      1  2019   \n",
            "...                  ...  ...   ...          ...             ...    ...   ...   \n",
            "1048570                E  ...  6656        False            True      1  2019   \n",
            "1048571                W  ...  6320        False           False     11  2019   \n",
            "1048572                W  ...  6321        False            True      6  2019   \n",
            "1048573                W  ...  6320        False           False      5  2019   \n",
            "1048574                W  ...  6320        False            True      5  2019   \n",
            "\n",
            "         Day  hourarrive  timearrive minutearrive  time_diff  \n",
            "0         15          19    19:45:29           45      -51.0  \n",
            "1         25          20    20:35:40           35      906.0  \n",
            "2         17           5    05:28:55           28    -1010.0  \n",
            "3         13          22    22:18:17           18      973.0  \n",
            "4         18           6    06:04:37            4     -839.0  \n",
            "...      ...         ...         ...          ...        ...  \n",
            "1048570   21           7    07:17:38           17     -889.0  \n",
            "1048571   18          22    22:05:57            5      755.0  \n",
            "1048572   13           9    09:30:00           30     -422.0  \n",
            "1048573   15          16    16:31:54           31      -99.0  \n",
            "1048574   25          18    18:10:25           10        NaN  \n",
            "\n",
            "[1048575 rows x 21 columns]\n"
          ]
        }
      ],
      "source": [
        "dataq['time_diff'] = (pd.to_timedelta(dataq['timearrive'].astype(str))\n",
        "                     .diff(-1)\n",
        "                     .dt.floor('T')\n",
        "                     .dt.total_seconds()\n",
        "                     .div(60))\n",
        "print (dataq)"
      ]
    },
    {
      "cell_type": "code",
      "execution_count": null,
      "metadata": {
        "id": "iRTQuo96W-wf"
      },
      "outputs": [],
      "source": [
        "#Exctract day and create a dedicated column df[\"Day\"] from a \n",
        "#column in datetime format df[\"Date\"]\n",
        "dataq['seconddepart'] = pd.DatetimeIndex(dataq['DepartureTime']).second"
      ]
    },
    {
      "cell_type": "code",
      "execution_count": null,
      "metadata": {
        "id": "cSgqCv341h_F"
      },
      "outputs": [],
      "source": [
        "#Exctract day and create a dedicated column df[\"Day\"] from a \n",
        "#column in datetime format df[\"Date\"]\n",
        "dataq['minutedepart'] = pd.DatetimeIndex(dataq['DepartureTime']).minute"
      ]
    },
    {
      "cell_type": "code",
      "execution_count": null,
      "metadata": {
        "id": "NUbi5X1TXLeJ"
      },
      "outputs": [],
      "source": [
        "dataq.head()"
      ]
    },
    {
      "cell_type": "code",
      "execution_count": null,
      "metadata": {
        "colab": {
          "base_uri": "https://localhost:8080/"
        },
        "id": "N6Kb34USXYxf",
        "outputId": "9e44dae8-33a9-44b1-9ddc-2abb485008ea"
      },
      "outputs": [
        {
          "name": "stdout",
          "output_type": "stream",
          "text": [
            "         DeviceId         ArrivalTime       DepartureTime  DurationMinutes  \\\n",
            "0           17176 2019-02-15 19:45:29 2019-02-15 19:46:52                1   \n",
            "1           17176 2019-03-25 20:35:40 2019-03-25 20:39:08                4   \n",
            "2           17176 2019-01-17 05:28:55 2019-01-17 06:57:09               89   \n",
            "3           17176 2019-03-13 22:18:17 2019-03-13 22:18:24                0   \n",
            "4           17176 2019-01-18 06:04:37 2019-01-18 06:07:29                3   \n",
            "...           ...                 ...                 ...              ...   \n",
            "1048570     17419 2019-01-21 07:17:38 2019-01-21 07:30:00               13   \n",
            "1048571     17418 2019-11-18 22:05:57 2019-11-18 22:07:31                2   \n",
            "1048572     17420 2019-06-13 09:30:00 2019-06-13 10:02:23               32   \n",
            "1048573     17418 2019-05-15 16:31:54 2019-05-15 16:32:56                1   \n",
            "1048574     17418 2019-05-25 18:10:25 2019-05-25 18:18:14                8   \n",
            "\n",
            "        StreetMarker   AreaName  StreetId          StreetName  SideOfStreet  \\\n",
            "0             13009S  Docklands       528      COLLINS STREET             4   \n",
            "1             13009S  Docklands       528      COLLINS STREET             4   \n",
            "2             13009S  Docklands       528      COLLINS STREET             4   \n",
            "3             13009S  Docklands       528      COLLINS STREET             4   \n",
            "4             13009S  Docklands       528      COLLINS STREET             4   \n",
            "...              ...        ...       ...                 ...           ...   \n",
            "1048570       13398E  Docklands        79  BATMANS HILL DRIVE             2   \n",
            "1048571       13397W  Docklands      1383      VILLAGE STREET             5   \n",
            "1048572       13399W  Docklands      1383      VILLAGE STREET             5   \n",
            "1048573       13397W  Docklands      1383      VILLAGE STREET             5   \n",
            "1048574       13397W  Docklands      1383      VILLAGE STREET             5   \n",
            "\n",
            "        SideOfStreetCode  ... VehiclePresent  Month  Year  Day  hourarrive  \\\n",
            "0                      S  ...           True      2  2019   15          19   \n",
            "1                      S  ...           True      3  2019   25          20   \n",
            "2                      S  ...           True      1  2019   17           5   \n",
            "3                      S  ...          False      3  2019   13          22   \n",
            "4                      S  ...           True      1  2019   18           6   \n",
            "...                  ...  ...            ...    ...   ...  ...         ...   \n",
            "1048570                E  ...           True      1  2019   21           7   \n",
            "1048571                W  ...          False     11  2019   18          22   \n",
            "1048572                W  ...           True      6  2019   13           9   \n",
            "1048573                W  ...          False      5  2019   15          16   \n",
            "1048574                W  ...           True      5  2019   25          18   \n",
            "\n",
            "         timearrive  minutearrive  time_diff timedepart  time_delta  \n",
            "0          19:45:29            45      -51.0   19:46:52       -53.0  \n",
            "1          20:35:40            35      906.0   20:39:08       821.0  \n",
            "2          05:28:55            28    -1010.0   06:57:09      -922.0  \n",
            "3          22:18:17            18      973.0   22:18:24       970.0  \n",
            "4          06:04:37             4     -839.0   06:07:29      -838.0  \n",
            "...             ...           ...        ...        ...         ...  \n",
            "1048570    07:17:38            17     -889.0   07:30:00      -878.0  \n",
            "1048571    22:05:57             5      755.0   22:07:31       725.0  \n",
            "1048572    09:30:00            30     -422.0   10:02:23      -391.0  \n",
            "1048573    16:31:54            31      -99.0   16:32:56      -106.0  \n",
            "1048574    18:10:25            10        NaN   18:18:14         NaN  \n",
            "\n",
            "[1048575 rows x 23 columns]\n"
          ]
        }
      ],
      "source": [
        "dataq['time_delta'] = (pd.to_timedelta(dataq['timedepart'].astype(str))\n",
        "                     .diff(-1)\n",
        "                     .dt.floor('T')\n",
        "                     .dt.total_seconds()\n",
        "                     .div(60))\n",
        "print (dataq)"
      ]
    },
    {
      "cell_type": "markdown",
      "metadata": {
        "id": "Z8oWeDm2nDT-"
      },
      "source": [
        "##Data Analysis"
      ]
    },
    {
      "cell_type": "code",
      "execution_count": null,
      "metadata": {
        "colab": {
          "base_uri": "https://localhost:8080/"
        },
        "id": "zARvxEYCnG73",
        "outputId": "a9f8222b-8ad3-4337-d8aa-af48fe38c20d"
      },
      "outputs": [
        {
          "data": {
            "text/plain": [
              "<bound method NDFrame.describe of          DeviceId         ArrivalTime       DepartureTime  DurationMinutes  \\\n",
              "0           17176 2019-02-15 19:45:29 2019-02-15 19:46:52                1   \n",
              "1           17176 2019-03-25 20:35:40 2019-03-25 20:39:08                4   \n",
              "2           17176 2019-01-17 05:28:55 2019-01-17 06:57:09               89   \n",
              "3           17176 2019-03-13 22:18:17 2019-03-13 22:18:24                0   \n",
              "4           17176 2019-01-18 06:04:37 2019-01-18 06:07:29                3   \n",
              "...           ...                 ...                 ...              ...   \n",
              "1048570     17419 2019-01-21 07:17:38 2019-01-21 07:30:00               13   \n",
              "1048571     17418 2019-11-18 22:05:57 2019-11-18 22:07:31                2   \n",
              "1048572     17420 2019-06-13 09:30:00 2019-06-13 10:02:23               32   \n",
              "1048573     17418 2019-05-15 16:31:54 2019-05-15 16:32:56                1   \n",
              "1048574     17418 2019-05-25 18:10:25 2019-05-25 18:18:14                8   \n",
              "\n",
              "        StreetMarker   AreaName  StreetId          StreetName  SideOfStreet  \\\n",
              "0             13009S  Docklands       528      COLLINS STREET             4   \n",
              "1             13009S  Docklands       528      COLLINS STREET             4   \n",
              "2             13009S  Docklands       528      COLLINS STREET             4   \n",
              "3             13009S  Docklands       528      COLLINS STREET             4   \n",
              "4             13009S  Docklands       528      COLLINS STREET             4   \n",
              "...              ...        ...       ...                 ...           ...   \n",
              "1048570       13398E  Docklands        79  BATMANS HILL DRIVE             2   \n",
              "1048571       13397W  Docklands      1383      VILLAGE STREET             5   \n",
              "1048572       13399W  Docklands      1383      VILLAGE STREET             5   \n",
              "1048573       13397W  Docklands      1383      VILLAGE STREET             5   \n",
              "1048574       13397W  Docklands      1383      VILLAGE STREET             5   \n",
              "\n",
              "        SideOfStreetCode  ... InViolation  VehiclePresent  Month  Day  \\\n",
              "0                      S  ...       False            True      2   15   \n",
              "1                      S  ...       False            True      3   25   \n",
              "2                      S  ...       False            True      1   17   \n",
              "3                      S  ...       False           False      3   13   \n",
              "4                      S  ...       False            True      1   18   \n",
              "...                  ...  ...         ...             ...    ...  ...   \n",
              "1048570                E  ...       False            True      1   21   \n",
              "1048571                W  ...       False           False     11   18   \n",
              "1048572                W  ...       False            True      6   13   \n",
              "1048573                W  ...       False           False      5   15   \n",
              "1048574                W  ...       False            True      5   25   \n",
              "\n",
              "         hourarrive  secondarrive  minutearrive  hourdepart  seconddepart  \\\n",
              "0                19            29            45          19            52   \n",
              "1                20            40            35          20             8   \n",
              "2                 5            55            28           6             9   \n",
              "3                22            17            18          22            24   \n",
              "4                 6            37             4           6            29   \n",
              "...             ...           ...           ...         ...           ...   \n",
              "1048570           7            38            17           7             0   \n",
              "1048571          22            57             5          22            31   \n",
              "1048572           9             0            30          10            23   \n",
              "1048573          16            54            31          16            56   \n",
              "1048574          18            25            10          18            14   \n",
              "\n",
              "         minutedepart  \n",
              "0                  46  \n",
              "1                  39  \n",
              "2                  57  \n",
              "3                  18  \n",
              "4                   7  \n",
              "...               ...  \n",
              "1048570            30  \n",
              "1048571             7  \n",
              "1048572             2  \n",
              "1048573            32  \n",
              "1048574            18  \n",
              "\n",
              "[1048575 rows x 22 columns]>"
            ]
          },
          "execution_count": 85,
          "metadata": {},
          "output_type": "execute_result"
        }
      ],
      "source": [
        "dataq.describe"
      ]
    },
    {
      "cell_type": "code",
      "execution_count": null,
      "metadata": {
        "colab": {
          "base_uri": "https://localhost:8080/"
        },
        "id": "gleYEfHtWUQ5",
        "outputId": "359861b2-1990-4da2-c300-81d1def34470"
      },
      "outputs": [
        {
          "data": {
            "text/plain": [
              "DeviceId                     int64\n",
              "ArrivalTime         datetime64[ns]\n",
              "DepartureTime       datetime64[ns]\n",
              "DurationMinutes              int64\n",
              "StreetMarker                object\n",
              "AreaName                    object\n",
              "StreetName                  object\n",
              "SideOfStreetCode            object\n",
              "SideName                    object\n",
              "BayId                      float64\n",
              "InViolation                 object\n",
              "VehiclePresent              object\n",
              "Montharrive                  int64\n",
              "Monthdepart                  int64\n",
              "Yeardepart                   int64\n",
              "dtype: object"
            ]
          },
          "execution_count": 33,
          "metadata": {},
          "output_type": "execute_result"
        }
      ],
      "source": [
        "dataq.dtypes"
      ]
    },
    {
      "cell_type": "code",
      "execution_count": null,
      "metadata": {
        "id": "5LT6JUH-8mmt"
      },
      "outputs": [],
      "source": [
        "#we first convert our database into csv so that we can run in the  sql environment\n",
        "# converting to CSV file\n",
        "dataq.to_csv(\"dataq2.csv\")"
      ]
    },
    {
      "cell_type": "code",
      "execution_count": null,
      "metadata": {
        "id": "B79MW4Sb5nNJ"
      },
      "outputs": [],
      "source": [
        "# We will first load the sql extension into our environment\n",
        "#\n",
        "%load_ext sql\n",
        "\n",
        "# Then connect to our in memory sqlite database\n",
        "# NB: This database will cease to exist as soon as the database connection is closed\n",
        "#\n",
        "%sql sqlite://"
      ]
    },
    {
      "cell_type": "code",
      "execution_count": null,
      "metadata": {
        "id": "VpTQEQ9D7xve"
      },
      "outputs": [],
      "source": [
        "#Load other dataset\n",
        "with open ('/content/dataq2.csv','r') as l:\n",
        "  bookl=pd.read_csv(l,index_col=0,delimiter=None,encoding='utf-8')\n",
        "%sql DROP table if EXISTS bookl\n",
        "%sql PERSIST bookl\n",
        "%sql SELECT * from bookl LIMIT 3;"
      ]
    },
    {
      "cell_type": "code",
      "execution_count": null,
      "metadata": {
        "id": "e1wQjUX5Axic"
      },
      "outputs": [],
      "source": [
        "#we try and get one column  areaname from this table created\n",
        "%%sql\n",
        "SELECT * from bookl\n",
        "LIMIT 5;"
      ]
    },
    {
      "cell_type": "code",
      "source": [
        "#We first get the total tarnsactions our devices have \n",
        "%%sql\n",
        "SELECT COUNT(DeviceId) FROM bookl;"
      ],
      "metadata": {
        "colab": {
          "base_uri": "https://localhost:8080/",
          "height": 96
        },
        "id": "b41qI-Z_V0-O",
        "outputId": "b56067be-9430-4afd-b9c9-0e3f478df471"
      },
      "execution_count": null,
      "outputs": [
        {
          "output_type": "stream",
          "name": "stdout",
          "text": [
            " * sqlite://\n",
            "Done.\n"
          ]
        },
        {
          "output_type": "execute_result",
          "data": {
            "text/plain": [
              "[(1048575,)]"
            ],
            "text/html": [
              "<table>\n",
              "    <thead>\n",
              "        <tr>\n",
              "            <th>COUNT(DeviceId)</th>\n",
              "        </tr>\n",
              "    </thead>\n",
              "    <tbody>\n",
              "        <tr>\n",
              "            <td>1048575</td>\n",
              "        </tr>\n",
              "    </tbody>\n",
              "</table>"
            ]
          },
          "metadata": {},
          "execution_count": 50
        }
      ]
    },
    {
      "cell_type": "code",
      "execution_count": null,
      "metadata": {
        "colab": {
          "base_uri": "https://localhost:8080/",
          "height": 96
        },
        "id": "CSnqV40W9tYX",
        "outputId": "d5c47e6f-3113-43fc-ac6c-65cf6132c530"
      },
      "outputs": [
        {
          "output_type": "stream",
          "name": "stdout",
          "text": [
            " * sqlite://\n",
            "Done.\n"
          ]
        },
        {
          "output_type": "execute_result",
          "data": {
            "text/plain": [
              "[(1144,)]"
            ],
            "text/html": [
              "<table>\n",
              "    <thead>\n",
              "        <tr>\n",
              "            <th>Number of servers</th>\n",
              "        </tr>\n",
              "    </thead>\n",
              "    <tbody>\n",
              "        <tr>\n",
              "            <td>1144</td>\n",
              "        </tr>\n",
              "    </tbody>\n",
              "</table>"
            ]
          },
          "metadata": {},
          "execution_count": 20
        }
      ],
      "source": [
        "#we try and get the number of parking stations serving melnbourne city we can also determine if we will use a single or a multi server queue system\n",
        "%%sql\n",
        "\n",
        "SELECT COUNT( DISTINCT DeviceId ) AS \"Number of servers\" from bookl;"
      ]
    },
    {
      "cell_type": "code",
      "source": [
        "#we try and get the number of areanames that melbourne parking service facilaitates\n",
        "%%sql\n",
        "\n",
        "SELECT COUNT( DISTINCT StreetName ) AS \"streets of melbourne\" from bookl;"
      ],
      "metadata": {
        "colab": {
          "base_uri": "https://localhost:8080/",
          "height": 96
        },
        "id": "kcU9xYVKV2Ur",
        "outputId": "13c6613b-7d68-4d16-f590-7b33ea5ab5fe"
      },
      "execution_count": null,
      "outputs": [
        {
          "output_type": "stream",
          "name": "stdout",
          "text": [
            " * sqlite://\n",
            "Done.\n"
          ]
        },
        {
          "output_type": "execute_result",
          "data": {
            "text/plain": [
              "[(98,)]"
            ],
            "text/html": [
              "<table>\n",
              "    <thead>\n",
              "        <tr>\n",
              "            <th>streets of melbourne</th>\n",
              "        </tr>\n",
              "    </thead>\n",
              "    <tbody>\n",
              "        <tr>\n",
              "            <td>98</td>\n",
              "        </tr>\n",
              "    </tbody>\n",
              "</table>"
            ]
          },
          "metadata": {},
          "execution_count": 49
        }
      ]
    },
    {
      "cell_type": "code",
      "source": [
        "#we try and get the number of areas the parking stations are located in melnbourne city we can also determine if we will use a single or a multi server queue system\n",
        "%%sql\n",
        "\n",
        "SELECT COUNT( DISTINCT AreaName ) AS \"Number of Areanames\" from bookl;"
      ],
      "metadata": {
        "colab": {
          "base_uri": "https://localhost:8080/",
          "height": 96
        },
        "id": "cMLFiRv-OLlp",
        "outputId": "235523ed-e1db-4dd0-de16-4087fdd6fd51"
      },
      "execution_count": null,
      "outputs": [
        {
          "output_type": "stream",
          "name": "stdout",
          "text": [
            " * sqlite://\n",
            "Done.\n"
          ]
        },
        {
          "output_type": "execute_result",
          "data": {
            "text/plain": [
              "[(36,)]"
            ],
            "text/html": [
              "<table>\n",
              "    <thead>\n",
              "        <tr>\n",
              "            <th>Number of Areanames</th>\n",
              "        </tr>\n",
              "    </thead>\n",
              "    <tbody>\n",
              "        <tr>\n",
              "            <td>36</td>\n",
              "        </tr>\n",
              "    </tbody>\n",
              "</table>"
            ]
          },
          "metadata": {},
          "execution_count": 21
        }
      ]
    },
    {
      "cell_type": "code",
      "source": [
        "#we also check how times each device in each area has been used and docklands seems to take the fair share of the\n",
        "%%sql\n",
        "SELECT DeviceId,AreaName, COUNT(*) as transactions_per_area FROM bookl\n",
        "GROUP BY AreaName\n",
        "ORDER BY transactions_per_area DESC\n",
        "LIMIT 10;"
      ],
      "metadata": {
        "colab": {
          "base_uri": "https://localhost:8080/",
          "height": 280
        },
        "id": "TZ693v-zT2q_",
        "outputId": "15ce929d-4526-4429-b6ef-5db5c281889c"
      },
      "execution_count": null,
      "outputs": [
        {
          "output_type": "stream",
          "name": "stdout",
          "text": [
            " * sqlite://\n",
            "Done.\n"
          ]
        },
        {
          "output_type": "execute_result",
          "data": {
            "text/plain": [
              "[(17418, 'Docklands', 1047370),\n",
              " (26290, 'Queensberry', 116),\n",
              " (24302, 'Jolimont', 72),\n",
              " (25259, 'All', 67),\n",
              " (24580, 'Titles', 64),\n",
              " (27434, 'Regency', 59),\n",
              " (26479, 'County', 55),\n",
              " (21571, 'Southbank', 54),\n",
              " (26402, 'Princes Theatre', 53),\n",
              " (24551, 'Rialto', 48)]"
            ],
            "text/html": [
              "<table>\n",
              "    <thead>\n",
              "        <tr>\n",
              "            <th>DeviceId</th>\n",
              "            <th>AreaName</th>\n",
              "            <th>transactions_per_area</th>\n",
              "        </tr>\n",
              "    </thead>\n",
              "    <tbody>\n",
              "        <tr>\n",
              "            <td>17418</td>\n",
              "            <td>Docklands</td>\n",
              "            <td>1047370</td>\n",
              "        </tr>\n",
              "        <tr>\n",
              "            <td>26290</td>\n",
              "            <td>Queensberry</td>\n",
              "            <td>116</td>\n",
              "        </tr>\n",
              "        <tr>\n",
              "            <td>24302</td>\n",
              "            <td>Jolimont</td>\n",
              "            <td>72</td>\n",
              "        </tr>\n",
              "        <tr>\n",
              "            <td>25259</td>\n",
              "            <td>All</td>\n",
              "            <td>67</td>\n",
              "        </tr>\n",
              "        <tr>\n",
              "            <td>24580</td>\n",
              "            <td>Titles</td>\n",
              "            <td>64</td>\n",
              "        </tr>\n",
              "        <tr>\n",
              "            <td>27434</td>\n",
              "            <td>Regency</td>\n",
              "            <td>59</td>\n",
              "        </tr>\n",
              "        <tr>\n",
              "            <td>26479</td>\n",
              "            <td>County</td>\n",
              "            <td>55</td>\n",
              "        </tr>\n",
              "        <tr>\n",
              "            <td>21571</td>\n",
              "            <td>Southbank</td>\n",
              "            <td>54</td>\n",
              "        </tr>\n",
              "        <tr>\n",
              "            <td>26402</td>\n",
              "            <td>Princes Theatre</td>\n",
              "            <td>53</td>\n",
              "        </tr>\n",
              "        <tr>\n",
              "            <td>24551</td>\n",
              "            <td>Rialto</td>\n",
              "            <td>48</td>\n",
              "        </tr>\n",
              "    </tbody>\n",
              "</table>"
            ]
          },
          "metadata": {},
          "execution_count": 48
        }
      ]
    },
    {
      "cell_type": "code",
      "source": [
        "#we try and see how each device is used AND arrange them from the most used\n",
        "%%sql\n",
        "SELECT DeviceId, COUNT(*) FROM bookl\n",
        "GROUP BY DeviceId\n",
        "ORDER BY 2 DESC\n",
        "LIMIT 10;"
      ],
      "metadata": {
        "colab": {
          "base_uri": "https://localhost:8080/",
          "height": 280
        },
        "id": "oiySzjXkS264",
        "outputId": "55ed206d-b005-4ad7-c6f3-1f96760d602c"
      },
      "execution_count": null,
      "outputs": [
        {
          "output_type": "stream",
          "name": "stdout",
          "text": [
            " * sqlite://\n",
            "Done.\n"
          ]
        },
        {
          "output_type": "execute_result",
          "data": {
            "text/plain": [
              "[(17195, 32179),\n",
              " (17404, 21002),\n",
              " (17365, 20667),\n",
              " (17264, 19443),\n",
              " (17350, 17790),\n",
              " (17303, 17038),\n",
              " (17332, 16037),\n",
              " (17288, 15812),\n",
              " (17391, 15705),\n",
              " (17377, 15282)]"
            ],
            "text/html": [
              "<table>\n",
              "    <thead>\n",
              "        <tr>\n",
              "            <th>DeviceId</th>\n",
              "            <th>COUNT(*)</th>\n",
              "        </tr>\n",
              "    </thead>\n",
              "    <tbody>\n",
              "        <tr>\n",
              "            <td>17195</td>\n",
              "            <td>32179</td>\n",
              "        </tr>\n",
              "        <tr>\n",
              "            <td>17404</td>\n",
              "            <td>21002</td>\n",
              "        </tr>\n",
              "        <tr>\n",
              "            <td>17365</td>\n",
              "            <td>20667</td>\n",
              "        </tr>\n",
              "        <tr>\n",
              "            <td>17264</td>\n",
              "            <td>19443</td>\n",
              "        </tr>\n",
              "        <tr>\n",
              "            <td>17350</td>\n",
              "            <td>17790</td>\n",
              "        </tr>\n",
              "        <tr>\n",
              "            <td>17303</td>\n",
              "            <td>17038</td>\n",
              "        </tr>\n",
              "        <tr>\n",
              "            <td>17332</td>\n",
              "            <td>16037</td>\n",
              "        </tr>\n",
              "        <tr>\n",
              "            <td>17288</td>\n",
              "            <td>15812</td>\n",
              "        </tr>\n",
              "        <tr>\n",
              "            <td>17391</td>\n",
              "            <td>15705</td>\n",
              "        </tr>\n",
              "        <tr>\n",
              "            <td>17377</td>\n",
              "            <td>15282</td>\n",
              "        </tr>\n",
              "    </tbody>\n",
              "</table>"
            ]
          },
          "metadata": {},
          "execution_count": 38
        }
      ]
    },
    {
      "cell_type": "code",
      "source": [
        "#we then get the number of stations in each area and dockalnads has most stations 228 \n",
        "%%sql\n",
        "\n",
        "SELECT DeviceId,AreaName,COUNT(DISTINCT DeviceId) as device_per_area FROM bookl\n",
        "GROUP BY AreaName\n",
        "ORDER BY device_per_area DESC\n",
        "LIMIT 10;"
      ],
      "metadata": {
        "colab": {
          "base_uri": "https://localhost:8080/",
          "height": 280
        },
        "id": "S4lgZep7Og1J",
        "outputId": "bdee0da3-c742-44f8-d887-66e31c18ec5e"
      },
      "execution_count": null,
      "outputs": [
        {
          "output_type": "stream",
          "name": "stdout",
          "text": [
            " * sqlite://\n",
            "Done.\n"
          ]
        },
        {
          "output_type": "execute_result",
          "data": {
            "text/plain": [
              "[(17418, 'Docklands', 228),\n",
              " (26290, 'Queensberry', 103),\n",
              " (24302, 'Jolimont', 57),\n",
              " (25259, 'All', 55),\n",
              " (24580, 'Titles', 50),\n",
              " (27434, 'Regency', 45),\n",
              " (21571, 'Southbank', 42),\n",
              " (26402, 'Princes Theatre', 40),\n",
              " (27175, 'Magistrates', 38),\n",
              " (24587, 'Victoria Market', 38)]"
            ],
            "text/html": [
              "<table>\n",
              "    <thead>\n",
              "        <tr>\n",
              "            <th>DeviceId</th>\n",
              "            <th>AreaName</th>\n",
              "            <th>device_per_area</th>\n",
              "        </tr>\n",
              "    </thead>\n",
              "    <tbody>\n",
              "        <tr>\n",
              "            <td>17418</td>\n",
              "            <td>Docklands</td>\n",
              "            <td>228</td>\n",
              "        </tr>\n",
              "        <tr>\n",
              "            <td>26290</td>\n",
              "            <td>Queensberry</td>\n",
              "            <td>103</td>\n",
              "        </tr>\n",
              "        <tr>\n",
              "            <td>24302</td>\n",
              "            <td>Jolimont</td>\n",
              "            <td>57</td>\n",
              "        </tr>\n",
              "        <tr>\n",
              "            <td>25259</td>\n",
              "            <td>All</td>\n",
              "            <td>55</td>\n",
              "        </tr>\n",
              "        <tr>\n",
              "            <td>24580</td>\n",
              "            <td>Titles</td>\n",
              "            <td>50</td>\n",
              "        </tr>\n",
              "        <tr>\n",
              "            <td>27434</td>\n",
              "            <td>Regency</td>\n",
              "            <td>45</td>\n",
              "        </tr>\n",
              "        <tr>\n",
              "            <td>21571</td>\n",
              "            <td>Southbank</td>\n",
              "            <td>42</td>\n",
              "        </tr>\n",
              "        <tr>\n",
              "            <td>26402</td>\n",
              "            <td>Princes Theatre</td>\n",
              "            <td>40</td>\n",
              "        </tr>\n",
              "        <tr>\n",
              "            <td>27175</td>\n",
              "            <td>Magistrates</td>\n",
              "            <td>38</td>\n",
              "        </tr>\n",
              "        <tr>\n",
              "            <td>24587</td>\n",
              "            <td>Victoria Market</td>\n",
              "            <td>38</td>\n",
              "        </tr>\n",
              "    </tbody>\n",
              "</table>"
            ]
          },
          "metadata": {},
          "execution_count": 46
        }
      ]
    },
    {
      "cell_type": "code",
      "execution_count": null,
      "metadata": {
        "colab": {
          "base_uri": "https://localhost:8080/",
          "height": 280
        },
        "id": "6arzXl_5AFxG",
        "outputId": "2d3bd7d1-b3fb-4a77-dee8-b8b4d42ac55b"
      },
      "outputs": [
        {
          "output_type": "stream",
          "name": "stdout",
          "text": [
            " * sqlite://\n",
            "Done.\n"
          ]
        },
        {
          "output_type": "execute_result",
          "data": {
            "text/plain": [
              "[(17418, 'Docklands', 525877),\n",
              " (26290, 'Queensberry', 7961),\n",
              " (24302, 'Jolimont', 4338),\n",
              " (25259, 'All', 3810),\n",
              " (21571, 'Southbank', 3315),\n",
              " (20657, 'Courtney', 2998),\n",
              " (24580, 'Titles', 2990),\n",
              " (24587, 'Victoria Market', 2554),\n",
              " (26402, 'Princes Theatre', 1960),\n",
              " (27434, 'Regency', 1906)]"
            ],
            "text/html": [
              "<table>\n",
              "    <thead>\n",
              "        <tr>\n",
              "            <th>DeviceId</th>\n",
              "            <th>AreaName</th>\n",
              "            <th>Sumduration</th>\n",
              "        </tr>\n",
              "    </thead>\n",
              "    <tbody>\n",
              "        <tr>\n",
              "            <td>17418</td>\n",
              "            <td>Docklands</td>\n",
              "            <td>525877</td>\n",
              "        </tr>\n",
              "        <tr>\n",
              "            <td>26290</td>\n",
              "            <td>Queensberry</td>\n",
              "            <td>7961</td>\n",
              "        </tr>\n",
              "        <tr>\n",
              "            <td>24302</td>\n",
              "            <td>Jolimont</td>\n",
              "            <td>4338</td>\n",
              "        </tr>\n",
              "        <tr>\n",
              "            <td>25259</td>\n",
              "            <td>All</td>\n",
              "            <td>3810</td>\n",
              "        </tr>\n",
              "        <tr>\n",
              "            <td>21571</td>\n",
              "            <td>Southbank</td>\n",
              "            <td>3315</td>\n",
              "        </tr>\n",
              "        <tr>\n",
              "            <td>20657</td>\n",
              "            <td>Courtney</td>\n",
              "            <td>2998</td>\n",
              "        </tr>\n",
              "        <tr>\n",
              "            <td>24580</td>\n",
              "            <td>Titles</td>\n",
              "            <td>2990</td>\n",
              "        </tr>\n",
              "        <tr>\n",
              "            <td>24587</td>\n",
              "            <td>Victoria Market</td>\n",
              "            <td>2554</td>\n",
              "        </tr>\n",
              "        <tr>\n",
              "            <td>26402</td>\n",
              "            <td>Princes Theatre</td>\n",
              "            <td>1960</td>\n",
              "        </tr>\n",
              "        <tr>\n",
              "            <td>27434</td>\n",
              "            <td>Regency</td>\n",
              "            <td>1906</td>\n",
              "        </tr>\n",
              "    </tbody>\n",
              "</table>"
            ]
          },
          "metadata": {},
          "execution_count": 136
        }
      ],
      "source": [
        "#we then check which areanames have high duration periods\n",
        "%%sql\n",
        "SELECT \tDeviceId,AreaName,SUM(DISTINCT DurationMinutes)  as Sumduration FROM bookl\n",
        "GROUP BY AreaName\n",
        "ORDER BY \tSumduration DESC\n",
        "LIMIT 10;"
      ]
    },
    {
      "cell_type": "code",
      "source": [
        "#since docklands seems to be the area with most parking stations and most transactions we separate it and analyse alone\n",
        "%%sql\n",
        "\n",
        "CREATE TABLE Docklands_mains_parking AS\n",
        "SELECT DeviceId,AreaName,DurationMinutes,StreetName,BayId,VehiclePresent,Month\n",
        "FROM bookl\n",
        "WHERE AreaName = \"Docklands\";"
      ],
      "metadata": {
        "colab": {
          "base_uri": "https://localhost:8080/"
        },
        "id": "pVx7h3wXpux3",
        "outputId": "de517d96-fa99-405e-a0cc-512ab31375bf"
      },
      "execution_count": null,
      "outputs": [
        {
          "output_type": "stream",
          "name": "stdout",
          "text": [
            " * sqlite://\n",
            "(sqlite3.OperationalError) table Docklands_mains_parking already exists\n",
            "[SQL: CREATE TABLE Docklands_mains_parking AS\n",
            "SELECT DeviceId,AreaName,DurationMinutes,StreetName,BayId,VehiclePresent,Month\n",
            "FROM bookl\n",
            "WHERE AreaName = \"Docklands\";]\n",
            "(Background on this error at: https://sqlalche.me/e/14/e3q8)\n"
          ]
        }
      ]
    },
    {
      "cell_type": "code",
      "source": [
        "%%sql\n",
        "\n",
        "SELECT *\n",
        "FROM Docklands_mains_parking\n",
        "ORDER BY DurationMinutes\n",
        "LIMIT 20;"
      ],
      "metadata": {
        "colab": {
          "base_uri": "https://localhost:8080/",
          "height": 484
        },
        "id": "FDDBcrjouujd",
        "outputId": "d6f94ae3-4e3b-4507-e3cc-3de232ee75d6"
      },
      "execution_count": null,
      "outputs": [
        {
          "output_type": "stream",
          "name": "stdout",
          "text": [
            " * sqlite://\n",
            "Done.\n"
          ]
        },
        {
          "output_type": "execute_result",
          "data": {
            "text/plain": [
              "[(17176, 'Docklands', 0, 'COLLINS STREET', 6005, 0, 3),\n",
              " (17176, 'Docklands', 0, 'COLLINS STREET', 6005, 0, 3),\n",
              " (17176, 'Docklands', 0, 'COLLINS STREET', 6005, 0, 2),\n",
              " (17176, 'Docklands', 0, 'COLLINS STREET', 6005, 0, 3),\n",
              " (17176, 'Docklands', 0, 'COLLINS STREET', 6005, 0, 3),\n",
              " (17177, 'Docklands', 0, 'COLLINS STREET', 6045, 0, 10),\n",
              " (17177, 'Docklands', 0, 'COLLINS STREET', 6045, 1, 6),\n",
              " (17177, 'Docklands', 0, 'COLLINS STREET', 6045, 1, 10),\n",
              " (17175, 'Docklands', 0, 'COLLINS STREET', 6044, 1, 7),\n",
              " (17175, 'Docklands', 0, 'COLLINS STREET', 6044, 1, 7),\n",
              " (17177, 'Docklands', 0, 'COLLINS STREET', 6045, 0, 6),\n",
              " (17177, 'Docklands', 0, 'COLLINS STREET', 6045, 1, 12),\n",
              " (17177, 'Docklands', 0, 'COLLINS STREET', 6045, 1, 10),\n",
              " (17182, 'Docklands', 0, 'COLLINS STREET', 6047, 0, 2),\n",
              " (17175, 'Docklands', 0, 'COLLINS STREET', 6044, 0, 9),\n",
              " (17177, 'Docklands', 0, 'COLLINS STREET', 6045, 0, 10),\n",
              " (17177, 'Docklands', 0, 'COLLINS STREET', 6045, 1, 7),\n",
              " (17175, 'Docklands', 0, 'COLLINS STREET', 6044, 0, 7),\n",
              " (17177, 'Docklands', 0, 'COLLINS STREET', 6045, 1, 9),\n",
              " (17175, 'Docklands', 0, 'COLLINS STREET', 6044, 1, 10)]"
            ],
            "text/html": [
              "<table>\n",
              "    <thead>\n",
              "        <tr>\n",
              "            <th>DeviceId</th>\n",
              "            <th>AreaName</th>\n",
              "            <th>DurationMinutes</th>\n",
              "            <th>StreetName</th>\n",
              "            <th>BayId</th>\n",
              "            <th>VehiclePresent</th>\n",
              "            <th>Month</th>\n",
              "        </tr>\n",
              "    </thead>\n",
              "    <tbody>\n",
              "        <tr>\n",
              "            <td>17176</td>\n",
              "            <td>Docklands</td>\n",
              "            <td>0</td>\n",
              "            <td>COLLINS STREET</td>\n",
              "            <td>6005</td>\n",
              "            <td>0</td>\n",
              "            <td>3</td>\n",
              "        </tr>\n",
              "        <tr>\n",
              "            <td>17176</td>\n",
              "            <td>Docklands</td>\n",
              "            <td>0</td>\n",
              "            <td>COLLINS STREET</td>\n",
              "            <td>6005</td>\n",
              "            <td>0</td>\n",
              "            <td>3</td>\n",
              "        </tr>\n",
              "        <tr>\n",
              "            <td>17176</td>\n",
              "            <td>Docklands</td>\n",
              "            <td>0</td>\n",
              "            <td>COLLINS STREET</td>\n",
              "            <td>6005</td>\n",
              "            <td>0</td>\n",
              "            <td>2</td>\n",
              "        </tr>\n",
              "        <tr>\n",
              "            <td>17176</td>\n",
              "            <td>Docklands</td>\n",
              "            <td>0</td>\n",
              "            <td>COLLINS STREET</td>\n",
              "            <td>6005</td>\n",
              "            <td>0</td>\n",
              "            <td>3</td>\n",
              "        </tr>\n",
              "        <tr>\n",
              "            <td>17176</td>\n",
              "            <td>Docklands</td>\n",
              "            <td>0</td>\n",
              "            <td>COLLINS STREET</td>\n",
              "            <td>6005</td>\n",
              "            <td>0</td>\n",
              "            <td>3</td>\n",
              "        </tr>\n",
              "        <tr>\n",
              "            <td>17177</td>\n",
              "            <td>Docklands</td>\n",
              "            <td>0</td>\n",
              "            <td>COLLINS STREET</td>\n",
              "            <td>6045</td>\n",
              "            <td>0</td>\n",
              "            <td>10</td>\n",
              "        </tr>\n",
              "        <tr>\n",
              "            <td>17177</td>\n",
              "            <td>Docklands</td>\n",
              "            <td>0</td>\n",
              "            <td>COLLINS STREET</td>\n",
              "            <td>6045</td>\n",
              "            <td>1</td>\n",
              "            <td>6</td>\n",
              "        </tr>\n",
              "        <tr>\n",
              "            <td>17177</td>\n",
              "            <td>Docklands</td>\n",
              "            <td>0</td>\n",
              "            <td>COLLINS STREET</td>\n",
              "            <td>6045</td>\n",
              "            <td>1</td>\n",
              "            <td>10</td>\n",
              "        </tr>\n",
              "        <tr>\n",
              "            <td>17175</td>\n",
              "            <td>Docklands</td>\n",
              "            <td>0</td>\n",
              "            <td>COLLINS STREET</td>\n",
              "            <td>6044</td>\n",
              "            <td>1</td>\n",
              "            <td>7</td>\n",
              "        </tr>\n",
              "        <tr>\n",
              "            <td>17175</td>\n",
              "            <td>Docklands</td>\n",
              "            <td>0</td>\n",
              "            <td>COLLINS STREET</td>\n",
              "            <td>6044</td>\n",
              "            <td>1</td>\n",
              "            <td>7</td>\n",
              "        </tr>\n",
              "        <tr>\n",
              "            <td>17177</td>\n",
              "            <td>Docklands</td>\n",
              "            <td>0</td>\n",
              "            <td>COLLINS STREET</td>\n",
              "            <td>6045</td>\n",
              "            <td>0</td>\n",
              "            <td>6</td>\n",
              "        </tr>\n",
              "        <tr>\n",
              "            <td>17177</td>\n",
              "            <td>Docklands</td>\n",
              "            <td>0</td>\n",
              "            <td>COLLINS STREET</td>\n",
              "            <td>6045</td>\n",
              "            <td>1</td>\n",
              "            <td>12</td>\n",
              "        </tr>\n",
              "        <tr>\n",
              "            <td>17177</td>\n",
              "            <td>Docklands</td>\n",
              "            <td>0</td>\n",
              "            <td>COLLINS STREET</td>\n",
              "            <td>6045</td>\n",
              "            <td>1</td>\n",
              "            <td>10</td>\n",
              "        </tr>\n",
              "        <tr>\n",
              "            <td>17182</td>\n",
              "            <td>Docklands</td>\n",
              "            <td>0</td>\n",
              "            <td>COLLINS STREET</td>\n",
              "            <td>6047</td>\n",
              "            <td>0</td>\n",
              "            <td>2</td>\n",
              "        </tr>\n",
              "        <tr>\n",
              "            <td>17175</td>\n",
              "            <td>Docklands</td>\n",
              "            <td>0</td>\n",
              "            <td>COLLINS STREET</td>\n",
              "            <td>6044</td>\n",
              "            <td>0</td>\n",
              "            <td>9</td>\n",
              "        </tr>\n",
              "        <tr>\n",
              "            <td>17177</td>\n",
              "            <td>Docklands</td>\n",
              "            <td>0</td>\n",
              "            <td>COLLINS STREET</td>\n",
              "            <td>6045</td>\n",
              "            <td>0</td>\n",
              "            <td>10</td>\n",
              "        </tr>\n",
              "        <tr>\n",
              "            <td>17177</td>\n",
              "            <td>Docklands</td>\n",
              "            <td>0</td>\n",
              "            <td>COLLINS STREET</td>\n",
              "            <td>6045</td>\n",
              "            <td>1</td>\n",
              "            <td>7</td>\n",
              "        </tr>\n",
              "        <tr>\n",
              "            <td>17175</td>\n",
              "            <td>Docklands</td>\n",
              "            <td>0</td>\n",
              "            <td>COLLINS STREET</td>\n",
              "            <td>6044</td>\n",
              "            <td>0</td>\n",
              "            <td>7</td>\n",
              "        </tr>\n",
              "        <tr>\n",
              "            <td>17177</td>\n",
              "            <td>Docklands</td>\n",
              "            <td>0</td>\n",
              "            <td>COLLINS STREET</td>\n",
              "            <td>6045</td>\n",
              "            <td>1</td>\n",
              "            <td>9</td>\n",
              "        </tr>\n",
              "        <tr>\n",
              "            <td>17175</td>\n",
              "            <td>Docklands</td>\n",
              "            <td>0</td>\n",
              "            <td>COLLINS STREET</td>\n",
              "            <td>6044</td>\n",
              "            <td>1</td>\n",
              "            <td>10</td>\n",
              "        </tr>\n",
              "    </tbody>\n",
              "</table>"
            ]
          },
          "metadata": {},
          "execution_count": 120
        }
      ]
    },
    {
      "cell_type": "code",
      "source": [
        "%%sql\n",
        "\n",
        "SELECT *\n",
        "FROM Docklands_mains_parking\n",
        "WHERE DurationMinutes >\"30\" \n",
        "ORDER BY 3 DESC\n",
        "LIMIT 10;"
      ],
      "metadata": {
        "colab": {
          "base_uri": "https://localhost:8080/",
          "height": 280
        },
        "id": "nOB11cmH63VC",
        "outputId": "84a38984-a000-4a86-e885-06c5408f33ef"
      },
      "execution_count": null,
      "outputs": [
        {
          "output_type": "stream",
          "name": "stdout",
          "text": [
            " * sqlite://\n",
            "Done.\n"
          ]
        },
        {
          "output_type": "execute_result",
          "data": {
            "text/plain": [
              "[(17177, 'Docklands', 1440, 'COLLINS STREET', 6045, 1, 10),\n",
              " (17177, 'Docklands', 1440, 'COLLINS STREET', 6045, 0, 2),\n",
              " (17177, 'Docklands', 1440, 'COLLINS STREET', 6045, 1, 10),\n",
              " (17177, 'Docklands', 1440, 'COLLINS STREET', 6045, 0, 12),\n",
              " (17177, 'Docklands', 1440, 'COLLINS STREET', 6045, 1, 10),\n",
              " (17177, 'Docklands', 1440, 'COLLINS STREET', 6045, 1, 10),\n",
              " (17177, 'Docklands', 1440, 'COLLINS STREET', 6045, 1, 10),\n",
              " (17175, 'Docklands', 1440, 'COLLINS STREET', 6044, 0, 3),\n",
              " (17173, 'Docklands', 1440, 'COLLINS STREET', 6655, 0, 1),\n",
              " (17175, 'Docklands', 1440, 'COLLINS STREET', 6044, 0, 1)]"
            ],
            "text/html": [
              "<table>\n",
              "    <thead>\n",
              "        <tr>\n",
              "            <th>DeviceId</th>\n",
              "            <th>AreaName</th>\n",
              "            <th>DurationMinutes</th>\n",
              "            <th>StreetName</th>\n",
              "            <th>BayId</th>\n",
              "            <th>VehiclePresent</th>\n",
              "            <th>Month</th>\n",
              "        </tr>\n",
              "    </thead>\n",
              "    <tbody>\n",
              "        <tr>\n",
              "            <td>17177</td>\n",
              "            <td>Docklands</td>\n",
              "            <td>1440</td>\n",
              "            <td>COLLINS STREET</td>\n",
              "            <td>6045</td>\n",
              "            <td>1</td>\n",
              "            <td>10</td>\n",
              "        </tr>\n",
              "        <tr>\n",
              "            <td>17177</td>\n",
              "            <td>Docklands</td>\n",
              "            <td>1440</td>\n",
              "            <td>COLLINS STREET</td>\n",
              "            <td>6045</td>\n",
              "            <td>0</td>\n",
              "            <td>2</td>\n",
              "        </tr>\n",
              "        <tr>\n",
              "            <td>17177</td>\n",
              "            <td>Docklands</td>\n",
              "            <td>1440</td>\n",
              "            <td>COLLINS STREET</td>\n",
              "            <td>6045</td>\n",
              "            <td>1</td>\n",
              "            <td>10</td>\n",
              "        </tr>\n",
              "        <tr>\n",
              "            <td>17177</td>\n",
              "            <td>Docklands</td>\n",
              "            <td>1440</td>\n",
              "            <td>COLLINS STREET</td>\n",
              "            <td>6045</td>\n",
              "            <td>0</td>\n",
              "            <td>12</td>\n",
              "        </tr>\n",
              "        <tr>\n",
              "            <td>17177</td>\n",
              "            <td>Docklands</td>\n",
              "            <td>1440</td>\n",
              "            <td>COLLINS STREET</td>\n",
              "            <td>6045</td>\n",
              "            <td>1</td>\n",
              "            <td>10</td>\n",
              "        </tr>\n",
              "        <tr>\n",
              "            <td>17177</td>\n",
              "            <td>Docklands</td>\n",
              "            <td>1440</td>\n",
              "            <td>COLLINS STREET</td>\n",
              "            <td>6045</td>\n",
              "            <td>1</td>\n",
              "            <td>10</td>\n",
              "        </tr>\n",
              "        <tr>\n",
              "            <td>17177</td>\n",
              "            <td>Docklands</td>\n",
              "            <td>1440</td>\n",
              "            <td>COLLINS STREET</td>\n",
              "            <td>6045</td>\n",
              "            <td>1</td>\n",
              "            <td>10</td>\n",
              "        </tr>\n",
              "        <tr>\n",
              "            <td>17175</td>\n",
              "            <td>Docklands</td>\n",
              "            <td>1440</td>\n",
              "            <td>COLLINS STREET</td>\n",
              "            <td>6044</td>\n",
              "            <td>0</td>\n",
              "            <td>3</td>\n",
              "        </tr>\n",
              "        <tr>\n",
              "            <td>17173</td>\n",
              "            <td>Docklands</td>\n",
              "            <td>1440</td>\n",
              "            <td>COLLINS STREET</td>\n",
              "            <td>6655</td>\n",
              "            <td>0</td>\n",
              "            <td>1</td>\n",
              "        </tr>\n",
              "        <tr>\n",
              "            <td>17175</td>\n",
              "            <td>Docklands</td>\n",
              "            <td>1440</td>\n",
              "            <td>COLLINS STREET</td>\n",
              "            <td>6044</td>\n",
              "            <td>0</td>\n",
              "            <td>1</td>\n",
              "        </tr>\n",
              "    </tbody>\n",
              "</table>"
            ]
          },
          "metadata": {},
          "execution_count": 132
        }
      ]
    },
    {
      "cell_type": "code",
      "source": [
        "#we try and get the number of parking stations serving melnbourne city we can also determine if we will use a single or a multi server queue system\n",
        "%%sql\n",
        "\n",
        "SELECT COUNT( DISTINCT StreetName ) AS \"Number of streets\" from Docklands_mains_parking;"
      ],
      "metadata": {
        "colab": {
          "base_uri": "https://localhost:8080/",
          "height": 96
        },
        "id": "swssmd7mvTcH",
        "outputId": "92f23c48-e953-4a86-af72-2ecd929dc938"
      },
      "execution_count": null,
      "outputs": [
        {
          "output_type": "stream",
          "name": "stdout",
          "text": [
            " * sqlite://\n",
            "Done.\n"
          ]
        },
        {
          "output_type": "execute_result",
          "data": {
            "text/plain": [
              "[(25,)]"
            ],
            "text/html": [
              "<table>\n",
              "    <thead>\n",
              "        <tr>\n",
              "            <th>Number of streets</th>\n",
              "        </tr>\n",
              "    </thead>\n",
              "    <tbody>\n",
              "        <tr>\n",
              "            <td>25</td>\n",
              "        </tr>\n",
              "    </tbody>\n",
              "</table>"
            ]
          },
          "metadata": {},
          "execution_count": 115
        }
      ]
    },
    {
      "cell_type": "code",
      "source": [
        "#we try and get the number of parking stations serving melnbourne city we can also determine if we will use a single or a multi server queue system\n",
        "%%sql\n",
        "\n",
        "SELECT COUNT( DISTINCT DeviceId ) AS \"Number of devicesdocklands\" from Docklands_mains_parking;"
      ],
      "metadata": {
        "colab": {
          "base_uri": "https://localhost:8080/",
          "height": 96
        },
        "id": "cl6Ao0Xkvx4g",
        "outputId": "1475878b-809b-4f2c-ca24-e30295f90094"
      },
      "execution_count": null,
      "outputs": [
        {
          "output_type": "stream",
          "name": "stdout",
          "text": [
            " * sqlite://\n",
            "Done.\n"
          ]
        },
        {
          "output_type": "execute_result",
          "data": {
            "text/plain": [
              "[(228,)]"
            ],
            "text/html": [
              "<table>\n",
              "    <thead>\n",
              "        <tr>\n",
              "            <th>Number of devicesdocklands</th>\n",
              "        </tr>\n",
              "    </thead>\n",
              "    <tbody>\n",
              "        <tr>\n",
              "            <td>228</td>\n",
              "        </tr>\n",
              "    </tbody>\n",
              "</table>"
            ]
          },
          "metadata": {},
          "execution_count": 121
        }
      ]
    },
    {
      "cell_type": "code",
      "source": [
        "#we try and get the number of parking stations serving melnbourne city we can also determine if we will use a single or a multi server queue system\n",
        "%%sql\n",
        "\n",
        "SELECT AVG(DurationMinutes ) AS \"Average parking time in docks\" from Docklands_main_parking;"
      ],
      "metadata": {
        "colab": {
          "base_uri": "https://localhost:8080/",
          "height": 96
        },
        "id": "DqpsyEeYw4j2",
        "outputId": "53d38ed2-4129-4eb2-dcab-bf8b096c9cd9"
      },
      "execution_count": null,
      "outputs": [
        {
          "output_type": "stream",
          "name": "stdout",
          "text": [
            " * sqlite://\n",
            "Done.\n"
          ]
        },
        {
          "output_type": "execute_result",
          "data": {
            "text/plain": [
              "[(47.990664235179544,)]"
            ],
            "text/html": [
              "<table>\n",
              "    <thead>\n",
              "        <tr>\n",
              "            <th>Average parking time in docks</th>\n",
              "        </tr>\n",
              "    </thead>\n",
              "    <tbody>\n",
              "        <tr>\n",
              "            <td>47.990664235179544</td>\n",
              "        </tr>\n",
              "    </tbody>\n",
              "</table>"
            ]
          },
          "metadata": {},
          "execution_count": 122
        }
      ]
    },
    {
      "cell_type": "code",
      "source": [
        "#we try and get the number of parking stations serving melnbourne city we can also determine if we will use a single or a multi server queue system\n",
        "%%sql\n",
        "\n",
        "SELECT  MIN(DurationMinutes ) AS \"Minimum parking time in docks\" from Docklands_main_parking;"
      ],
      "metadata": {
        "colab": {
          "base_uri": "https://localhost:8080/",
          "height": 96
        },
        "id": "a9SvgR-QxS7W",
        "outputId": "631abfb3-2f14-46af-a3e3-86f3972f65d3"
      },
      "execution_count": null,
      "outputs": [
        {
          "output_type": "stream",
          "name": "stdout",
          "text": [
            " * sqlite://\n",
            "Done.\n"
          ]
        },
        {
          "output_type": "execute_result",
          "data": {
            "text/plain": [
              "[(0,)]"
            ],
            "text/html": [
              "<table>\n",
              "    <thead>\n",
              "        <tr>\n",
              "            <th>Minimum parking time in docks</th>\n",
              "        </tr>\n",
              "    </thead>\n",
              "    <tbody>\n",
              "        <tr>\n",
              "            <td>0</td>\n",
              "        </tr>\n",
              "    </tbody>\n",
              "</table>"
            ]
          },
          "metadata": {},
          "execution_count": 133
        }
      ]
    },
    {
      "cell_type": "code",
      "source": [
        "#we try and get the number of parking stations serving melnbourne city we can also determine if we will use a single or a multi server queue system\n",
        "%%sql\n",
        "\n",
        "SELECT MAX(DurationMinutes ) AS \"Maximum parking time in docks\" from Docklands_main_parking;"
      ],
      "metadata": {
        "colab": {
          "base_uri": "https://localhost:8080/",
          "height": 96
        },
        "id": "M8Pqm7VaxaQN",
        "outputId": "cbdea9b6-e606-43e8-a859-ca4522430956"
      },
      "execution_count": null,
      "outputs": [
        {
          "output_type": "stream",
          "name": "stdout",
          "text": [
            " * sqlite://\n",
            "Done.\n"
          ]
        },
        {
          "output_type": "execute_result",
          "data": {
            "text/plain": [
              "[(1440,)]"
            ],
            "text/html": [
              "<table>\n",
              "    <thead>\n",
              "        <tr>\n",
              "            <th>Maximum parking time in docks</th>\n",
              "        </tr>\n",
              "    </thead>\n",
              "    <tbody>\n",
              "        <tr>\n",
              "            <td>1440</td>\n",
              "        </tr>\n",
              "    </tbody>\n",
              "</table>"
            ]
          },
          "metadata": {},
          "execution_count": 134
        }
      ]
    },
    {
      "cell_type": "code",
      "source": [],
      "metadata": {
        "id": "anHe46ljC8Tv"
      },
      "execution_count": null,
      "outputs": []
    },
    {
      "cell_type": "markdown",
      "source": [
        "From the above its an indication that we our model can only follow multiserver model queing system since most most the cars(90& and above) the parking station in the docklands.\n",
        "Multiserver queue system must hab other characteristics\n",
        " \n",
        " All the parking stations are assumed to work at the identical capacity.\n",
        "\n",
        "*   The arrival of cars follows the poisson distribution \n",
        " \n",
        "*   Parking stations service follows the exponential distribution.\n",
        "\n",
        "*  All the parking stations are assumed to work at the identical capacity.\n",
        "\n",
        "\n"
      ],
      "metadata": {
        "id": "Gm6Eu2MtBKPo"
      }
    },
    {
      "cell_type": "code",
      "execution_count": null,
      "metadata": {
        "colab": {
          "base_uri": "https://localhost:8080/",
          "height": 387
        },
        "id": "kEwPMy5vxA8K",
        "outputId": "ca98ee5d-11c3-4c1b-9553-9834c9182139"
      },
      "outputs": [
        {
          "data": {
            "text/plain": [
              "<seaborn.axisgrid.FacetGrid at 0x7fe4c96b8ed0>"
            ]
          },
          "execution_count": 44,
          "metadata": {},
          "output_type": "execute_result"
        },
        {
          "data": {
            "image/png": "[encoded data removed]",
            "text/plain": [
              "<Figure size 360x360 with 1 Axes>"
            ]
          },
          "metadata": {},
          "output_type": "display_data"
        }
      ],
      "source": [
        "sns.catplot(data=dataq, x=\"VehiclePresent\", kind=\"count\", palette=\"rainbow\")"
      ]
    },
    {
      "cell_type": "code",
      "execution_count": null,
      "metadata": {
        "colab": {
          "base_uri": "https://localhost:8080/",
          "height": 387
        },
        "id": "Ew0IOE7CxLpU",
        "outputId": "6830c3b2-d467-4220-b296-8eec6371d682"
      },
      "outputs": [
        {
          "data": {
            "text/plain": [
              "<seaborn.axisgrid.FacetGrid at 0x7fa339e48150>"
            ]
          },
          "execution_count": 20,
          "metadata": {},
          "output_type": "execute_result"
        },
        {
          "data": {
            "image/png": "[encoded data removed]",
            "text/plain": [
              "<Figure size 360x360 with 1 Axes>"
            ]
          },
          "metadata": {},
          "output_type": "display_data"
        }
      ],
      "source": [
        "sns.catplot(data=dataq, x=\"Yeardepart\", kind=\"count\", palette=\"ch:.25\")"
      ]
    },
    {
      "cell_type": "code",
      "execution_count": null,
      "metadata": {
        "colab": {
          "base_uri": "https://localhost:8080/",
          "height": 297
        },
        "id": "gO_RUVaVO-t7",
        "outputId": "d147c45d-fd81-46e6-d438-644e5483d30b"
      },
      "outputs": [
        {
          "data": {
            "text/plain": [
              "<matplotlib.axes._subplots.AxesSubplot at 0x7fe4c95f0610>"
            ]
          },
          "execution_count": 45,
          "metadata": {},
          "output_type": "execute_result"
        },
        {
          "data": {
            "image/png": "[encoded data removed]",
            "text/plain": [
              "<Figure size 432x288 with 1 Axes>"
            ]
          },
          "metadata": {},
          "output_type": "display_data"
        }
      ],
      "source": [
        "sns.countplot(y='SideName',data=dataq)"
      ]
    },
    {
      "cell_type": "code",
      "execution_count": null,
      "metadata": {
        "colab": {
          "base_uri": "https://localhost:8080/",
          "height": 387
        },
        "id": "K38kTW7nxXTZ",
        "outputId": "454452d9-328a-4e67-ffb1-1d4ae4839f3e"
      },
      "outputs": [
        {
          "data": {
            "text/plain": [
              "<seaborn.axisgrid.FacetGrid at 0x7fe4c56a0a10>"
            ]
          },
          "execution_count": 46,
          "metadata": {},
          "output_type": "execute_result"
        },
        {
          "data": {
            "image/png": "[encoded data removed]",
            "text/plain": [
              "<Figure size 360x360 with 1 Axes>"
            ]
          },
          "metadata": {},
          "output_type": "display_data"
        }
      ],
      "source": [
        "sns.catplot(data=dataq, y=\"AreaName\", kind=\"count\", palette=\"rainbow\")"
      ]
    },
    {
      "cell_type": "code",
      "execution_count": null,
      "metadata": {
        "colab": {
          "base_uri": "https://localhost:8080/",
          "height": 387
        },
        "id": "d6CIKBpKy6FC",
        "outputId": "7123f3ba-ebce-4fd7-8087-aea6cb55d505"
      },
      "outputs": [
        {
          "data": {
            "text/plain": [
              "<seaborn.axisgrid.FacetGrid at 0x7fe4c689ba90>"
            ]
          },
          "execution_count": 47,
          "metadata": {},
          "output_type": "execute_result"
        },
        {
          "data": {
            "image/png": "[encoded data removed]",
            "text/plain": [
              "<Figure size 360x360 with 1 Axes>"
            ]
          },
          "metadata": {},
          "output_type": "display_data"
        }
      ],
      "source": [
        "sns.catplot(data=dataq, y=\"InViolation\", kind=\"count\", palette=\"rainbow\")"
      ]
    },
    {
      "cell_type": "code",
      "execution_count": null,
      "metadata": {
        "colab": {
          "base_uri": "https://localhost:8080/",
          "height": 297
        },
        "id": "rjLpF-dzC0KY",
        "outputId": "8faaef02-f0a3-4e9f-f468-799f7f8ad09c"
      },
      "outputs": [
        {
          "data": {
            "text/plain": [
              "<matplotlib.axes._subplots.AxesSubplot at 0x7fa331cfdd90>"
            ]
          },
          "execution_count": 50,
          "metadata": {},
          "output_type": "execute_result"
        },
        {
          "data": {
            "image/png": "[encoded data removed]",
            "text/plain": [
              "<Figure size 432x288 with 1 Axes>"
            ]
          },
          "metadata": {},
          "output_type": "display_data"
        }
      ],
      "source": [
        "sns.lineplot(x='DurationMinutes',y='DeviceId',data=dataq)"
      ]
    },
    {
      "cell_type": "code",
      "execution_count": null,
      "metadata": {
        "colab": {
          "base_uri": "https://localhost:8080/",
          "height": 325
        },
        "id": "BjU6tdtAO0BW",
        "outputId": "e13c33d4-6e62-4de7-9aac-e58ba66778ca"
      },
      "outputs": [
        {
          "ename": "ValueError",
          "evalue": "ignored",
          "output_type": "error",
          "traceback": [
            "\u001b[0;31m---------------------------------------------------------------------------\u001b[0m",
            "\u001b[0;31mValueError\u001b[0m                                Traceback (most recent call last)",
            "\u001b[0;32m<ipython-input-48-b366b0276f0f>\u001b[0m in \u001b[0;36m<module>\u001b[0;34m\u001b[0m\n\u001b[0;32m----> 1\u001b[0;31m \u001b[0msns\u001b[0m\u001b[0;34m.\u001b[0m\u001b[0mcountplot\u001b[0m\u001b[0;34m(\u001b[0m\u001b[0mx\u001b[0m\u001b[0;34m=\u001b[0m\u001b[0;34m'Monthdepart'\u001b[0m\u001b[0;34m,\u001b[0m\u001b[0mdata\u001b[0m\u001b[0;34m=\u001b[0m\u001b[0mdataq\u001b[0m\u001b[0;34m)\u001b[0m\u001b[0;34m\u001b[0m\u001b[0;34m\u001b[0m\u001b[0m\n\u001b[0m",
            "\u001b[0;32m/usr/local/lib/python3.7/dist-packages/seaborn/_decorators.py\u001b[0m in \u001b[0;36minner_f\u001b[0;34m(*args, **kwargs)\u001b[0m\n\u001b[1;32m     44\u001b[0m             )\n\u001b[1;32m     45\u001b[0m         \u001b[0mkwargs\u001b[0m\u001b[0;34m.\u001b[0m\u001b[0mupdate\u001b[0m\u001b[0;34m(\u001b[0m\u001b[0;34m{\u001b[0m\u001b[0mk\u001b[0m\u001b[0;34m:\u001b[0m \u001b[0marg\u001b[0m \u001b[0;32mfor\u001b[0m \u001b[0mk\u001b[0m\u001b[0;34m,\u001b[0m \u001b[0marg\u001b[0m \u001b[0;32min\u001b[0m \u001b[0mzip\u001b[0m\u001b[0;34m(\u001b[0m\u001b[0msig\u001b[0m\u001b[0;34m.\u001b[0m\u001b[0mparameters\u001b[0m\u001b[0;34m,\u001b[0m \u001b[0margs\u001b[0m\u001b[0;34m)\u001b[0m\u001b[0;34m}\u001b[0m\u001b[0;34m)\u001b[0m\u001b[0;34m\u001b[0m\u001b[0;34m\u001b[0m\u001b[0m\n\u001b[0;32m---> 46\u001b[0;31m         \u001b[0;32mreturn\u001b[0m \u001b[0mf\u001b[0m\u001b[0;34m(\u001b[0m\u001b[0;34m**\u001b[0m\u001b[0mkwargs\u001b[0m\u001b[0;34m)\u001b[0m\u001b[0;34m\u001b[0m\u001b[0;34m\u001b[0m\u001b[0m\n\u001b[0m\u001b[1;32m     47\u001b[0m     \u001b[0;32mreturn\u001b[0m \u001b[0minner_f\u001b[0m\u001b[0;34m\u001b[0m\u001b[0;34m\u001b[0m\u001b[0m\n\u001b[1;32m     48\u001b[0m \u001b[0;34m\u001b[0m\u001b[0m\n",
            "\u001b[0;32m/usr/local/lib/python3.7/dist-packages/seaborn/categorical.py\u001b[0m in \u001b[0;36mcountplot\u001b[0;34m(x, y, hue, data, order, hue_order, orient, color, palette, saturation, dodge, ax, **kwargs)\u001b[0m\n\u001b[1;32m   3600\u001b[0m         \u001b[0mestimator\u001b[0m\u001b[0;34m,\u001b[0m \u001b[0mci\u001b[0m\u001b[0;34m,\u001b[0m \u001b[0mn_boot\u001b[0m\u001b[0;34m,\u001b[0m \u001b[0munits\u001b[0m\u001b[0;34m,\u001b[0m \u001b[0mseed\u001b[0m\u001b[0;34m,\u001b[0m\u001b[0;34m\u001b[0m\u001b[0;34m\u001b[0m\u001b[0m\n\u001b[1;32m   3601\u001b[0m         \u001b[0morient\u001b[0m\u001b[0;34m,\u001b[0m \u001b[0mcolor\u001b[0m\u001b[0;34m,\u001b[0m \u001b[0mpalette\u001b[0m\u001b[0;34m,\u001b[0m \u001b[0msaturation\u001b[0m\u001b[0;34m,\u001b[0m\u001b[0;34m\u001b[0m\u001b[0;34m\u001b[0m\u001b[0m\n\u001b[0;32m-> 3602\u001b[0;31m         \u001b[0merrcolor\u001b[0m\u001b[0;34m,\u001b[0m \u001b[0merrwidth\u001b[0m\u001b[0;34m,\u001b[0m \u001b[0mcapsize\u001b[0m\u001b[0;34m,\u001b[0m \u001b[0mdodge\u001b[0m\u001b[0;34m\u001b[0m\u001b[0;34m\u001b[0m\u001b[0m\n\u001b[0m\u001b[1;32m   3603\u001b[0m     )\n\u001b[1;32m   3604\u001b[0m \u001b[0;34m\u001b[0m\u001b[0m\n",
            "\u001b[0;32m/usr/local/lib/python3.7/dist-packages/seaborn/categorical.py\u001b[0m in \u001b[0;36m__init__\u001b[0;34m(self, x, y, hue, data, order, hue_order, estimator, ci, n_boot, units, seed, orient, color, palette, saturation, errcolor, errwidth, capsize, dodge)\u001b[0m\n\u001b[1;32m   1583\u001b[0m         \u001b[0;34m\"\"\"Initialize the plotter.\"\"\"\u001b[0m\u001b[0;34m\u001b[0m\u001b[0;34m\u001b[0m\u001b[0m\n\u001b[1;32m   1584\u001b[0m         self.establish_variables(x, y, hue, data, orient,\n\u001b[0;32m-> 1585\u001b[0;31m                                  order, hue_order, units)\n\u001b[0m\u001b[1;32m   1586\u001b[0m         \u001b[0mself\u001b[0m\u001b[0;34m.\u001b[0m\u001b[0mestablish_colors\u001b[0m\u001b[0;34m(\u001b[0m\u001b[0mcolor\u001b[0m\u001b[0;34m,\u001b[0m \u001b[0mpalette\u001b[0m\u001b[0;34m,\u001b[0m \u001b[0msaturation\u001b[0m\u001b[0;34m)\u001b[0m\u001b[0;34m\u001b[0m\u001b[0;34m\u001b[0m\u001b[0m\n\u001b[1;32m   1587\u001b[0m         \u001b[0mself\u001b[0m\u001b[0;34m.\u001b[0m\u001b[0mestimate_statistic\u001b[0m\u001b[0;34m(\u001b[0m\u001b[0mestimator\u001b[0m\u001b[0;34m,\u001b[0m \u001b[0mci\u001b[0m\u001b[0;34m,\u001b[0m \u001b[0mn_boot\u001b[0m\u001b[0;34m,\u001b[0m \u001b[0mseed\u001b[0m\u001b[0;34m)\u001b[0m\u001b[0;34m\u001b[0m\u001b[0;34m\u001b[0m\u001b[0m\n",
            "\u001b[0;32m/usr/local/lib/python3.7/dist-packages/seaborn/categorical.py\u001b[0m in \u001b[0;36mestablish_variables\u001b[0;34m(self, x, y, hue, data, orient, order, hue_order, units)\u001b[0m\n\u001b[1;32m    151\u001b[0m                 \u001b[0;32mif\u001b[0m \u001b[0misinstance\u001b[0m\u001b[0;34m(\u001b[0m\u001b[0mvar\u001b[0m\u001b[0;34m,\u001b[0m \u001b[0mstr\u001b[0m\u001b[0;34m)\u001b[0m\u001b[0;34m:\u001b[0m\u001b[0;34m\u001b[0m\u001b[0;34m\u001b[0m\u001b[0m\n\u001b[1;32m    152\u001b[0m                     \u001b[0merr\u001b[0m \u001b[0;34m=\u001b[0m \u001b[0;34m\"Could not interpret input '{}'\"\u001b[0m\u001b[0;34m.\u001b[0m\u001b[0mformat\u001b[0m\u001b[0;34m(\u001b[0m\u001b[0mvar\u001b[0m\u001b[0;34m)\u001b[0m\u001b[0;34m\u001b[0m\u001b[0;34m\u001b[0m\u001b[0m\n\u001b[0;32m--> 153\u001b[0;31m                     \u001b[0;32mraise\u001b[0m \u001b[0mValueError\u001b[0m\u001b[0;34m(\u001b[0m\u001b[0merr\u001b[0m\u001b[0;34m)\u001b[0m\u001b[0;34m\u001b[0m\u001b[0;34m\u001b[0m\u001b[0m\n\u001b[0m\u001b[1;32m    154\u001b[0m \u001b[0;34m\u001b[0m\u001b[0m\n\u001b[1;32m    155\u001b[0m             \u001b[0;31m# Figure out the plotting orientation\u001b[0m\u001b[0;34m\u001b[0m\u001b[0;34m\u001b[0m\u001b[0;34m\u001b[0m\u001b[0m\n",
            "\u001b[0;31mValueError\u001b[0m: Could not interpret input 'Monthdepart'"
          ]
        }
      ],
      "source": [
        "sns.countplot(x='Monthdepart',data=dataq)"
      ]
    },
    {
      "cell_type": "code",
      "execution_count": null,
      "metadata": {
        "colab": {
          "base_uri": "https://localhost:8080/",
          "height": 387
        },
        "id": "3ZBAmiCu21QS",
        "outputId": "38b35eee-b8e4-48d3-c72f-063e54e675f0"
      },
      "outputs": [
        {
          "data": {
            "text/plain": [
              "<seaborn.axisgrid.FacetGrid at 0x7fa3370f2390>"
            ]
          },
          "execution_count": 26,
          "metadata": {},
          "output_type": "execute_result"
        },
        {
          "data": {
            "image/png": "[encoded data removed]",
            "text/plain": [
              "<Figure size 360x360 with 1 Axes>"
            ]
          },
          "metadata": {},
          "output_type": "display_data"
        }
      ],
      "source": [
        "sns.catplot(data=dataq, y=\"Monthdepart\", kind=\"count\", palette=\"rainbow\")"
      ]
    },
    {
      "cell_type": "markdown",
      "metadata": {
        "id": "Zct39j_p3FPc"
      },
      "source": [
        "##Bivariate Analysis"
      ]
    },
    {
      "cell_type": "code",
      "execution_count": null,
      "metadata": {
        "colab": {
          "base_uri": "https://localhost:8080/",
          "height": 298
        },
        "id": "Z_HcCx32OnOP",
        "outputId": "bab1f95f-f4d6-4193-cf63-286b4c0523e2"
      },
      "outputs": [
        {
          "data": {
            "text/plain": [
              "<matplotlib.axes._subplots.AxesSubplot at 0x7fa32d60a350>"
            ]
          },
          "execution_count": 29,
          "metadata": {},
          "output_type": "execute_result"
        },
        {
          "data": {
            "image/png": "[encoded data removed]",
            "text/plain": [
              "<Figure size 432x288 with 1 Axes>"
            ]
          },
          "metadata": {},
          "output_type": "display_data"
        }
      ],
      "source": [
        "sns.stripplot(x=\"DurationMinutes\",y=\"AreaName\",hue=\"VehiclePresent\",data=dataq, palette=\"coolwarm\")"
      ]
    },
    {
      "cell_type": "code",
      "execution_count": null,
      "metadata": {
        "colab": {
          "base_uri": "https://localhost:8080/",
          "height": 298
        },
        "id": "6f1tOJF2WCuw",
        "outputId": "b648fe7f-5688-45c7-9835-850e00001a16"
      },
      "outputs": [
        {
          "data": {
            "text/plain": [
              "<matplotlib.axes._subplots.AxesSubplot at 0x7fa32cf20650>"
            ]
          },
          "execution_count": 30,
          "metadata": {},
          "output_type": "execute_result"
        },
        {
          "data": {
            "image/png": "[encoded data removed]",
            "text/plain": [
              "<Figure size 432x288 with 1 Axes>"
            ]
          },
          "metadata": {},
          "output_type": "display_data"
        }
      ],
      "source": [
        "sns.violinplot(x=\"Monthdepart\",y=\"AreaName\",hue=\"VehiclePresent\",data=dataq, palette=\"coolwarm\")"
      ]
    },
    {
      "cell_type": "code",
      "execution_count": null,
      "metadata": {
        "colab": {
          "base_uri": "https://localhost:8080/",
          "height": 515
        },
        "id": "6j2K_xUi3KFd",
        "outputId": "4f00978d-6f5b-47c3-cb25-56c6dd1b7810"
      },
      "outputs": [
        {
          "data": {
            "text/plain": [
              "<matplotlib.axes._subplots.AxesSubplot at 0x7fa3351c9710>"
            ]
          },
          "execution_count": 44,
          "metadata": {},
          "output_type": "execute_result"
        },
        {
          "data": {
            "image/png": "[encoded data removed]",
            "text/plain": [
              "<Figure size 720x576 with 1 Axes>"
            ]
          },
          "metadata": {},
          "output_type": "display_data"
        }
      ],
      "source": [
        "fig,ax = plt.subplots(figsize=(10,8))\n",
        "sns.barplot(data=dataq, y=\"AreaName\", x=\"Monthdepart\")"
      ]
    },
    {
      "cell_type": "code",
      "execution_count": null,
      "metadata": {
        "colab": {
          "base_uri": "https://localhost:8080/",
          "height": 297
        },
        "id": "6OEuvYJ1TsQ6",
        "outputId": "4ee3ffa0-558c-463f-ce18-36c7135513cd"
      },
      "outputs": [
        {
          "data": {
            "text/plain": [
              "<matplotlib.axes._subplots.AxesSubplot at 0x7f756a8f7110>"
            ]
          },
          "execution_count": 65,
          "metadata": {},
          "output_type": "execute_result"
        },
        {
          "data": {
            "image/png": "[encoded data removed]",
            "text/plain": [
              "<Figure size 432x288 with 1 Axes>"
            ]
          },
          "metadata": {},
          "output_type": "display_data"
        }
      ],
      "source": [
        "fig,ax = plt.subplots(figsize=(10,8))\n",
        "sns.barplot(data=dataq, x=\"Monthdepart\", y=\"VehiclePresent\")"
      ]
    },
    {
      "cell_type": "code",
      "execution_count": null,
      "metadata": {
        "colab": {
          "base_uri": "https://localhost:8080/",
          "height": 515
        },
        "id": "eM8rhGB5T5Pf",
        "outputId": "2ce3c8ed-01f1-43f4-a485-0bc9ed8f879e"
      },
      "outputs": [
        {
          "data": {
            "text/plain": [
              "<matplotlib.axes._subplots.AxesSubplot at 0x7fa32d084090>"
            ]
          },
          "execution_count": 35,
          "metadata": {},
          "output_type": "execute_result"
        },
        {
          "data": {
            "image/png": "[encoded data removed]",
            "text/plain": [
              "<Figure size 720x576 with 1 Axes>"
            ]
          },
          "metadata": {},
          "output_type": "display_data"
        }
      ],
      "source": [
        "fig,ax = plt.subplots(figsize=(10,8))\n",
        "sns.barplot(data=dataq, y=\"AreaName\",x=\"Monthdepart\", hue=\"VehiclePresent\")"
      ]
    },
    {
      "cell_type": "code",
      "execution_count": null,
      "metadata": {
        "colab": {
          "base_uri": "https://localhost:8080/",
          "height": 135
        },
        "id": "wjWE2ReiUZk1",
        "outputId": "dd646f27-ce7c-4112-9194-cdf037ede29a"
      },
      "outputs": [
        {
          "ename": "SyntaxError",
          "evalue": "ignored",
          "output_type": "error",
          "traceback": [
            "\u001b[0;36m  File \u001b[0;32m\"<ipython-input-43-3ad2ceeef3b8>\"\u001b[0;36m, line \u001b[0;32m3\u001b[0m\n\u001b[0;31m    color=sns.color_palette(\"rainbow\")[2]),saturation=7.,)\u001b[0m\n\u001b[0m                                         ^\u001b[0m\n\u001b[0;31mSyntaxError\u001b[0m\u001b[0;31m:\u001b[0m invalid syntax\n"
          ]
        }
      ],
      "source": [
        "fig,ax = plt.subplots(figsize=(10,8))\n",
        "sns.barplot(data=dataq, y=\"AreaName\",x=\"InViolation\", hue=\"VehiclePresent\",ascending=False).iloc[:25],\n",
        "color=sns.color_palette(\"rainbow\")[2]),saturation=7.,)"
      ]
    },
    {
      "cell_type": "code",
      "execution_count": null,
      "metadata": {
        "id": "MGj5HClxUj8h"
      },
      "outputs": [],
      "source": [
        "sns.barplot(data=dataq, y=\"AreaName\",x=\"\", hue=\"VehiclePresent\")"
      ]
    },
    {
      "cell_type": "code",
      "execution_count": null,
      "metadata": {
        "colab": {
          "base_uri": "https://localhost:8080/",
          "height": 487
        },
        "id": "-taCD0KDWQfF",
        "outputId": "80106b77-b795-4e69-bf2a-4906a05987f1"
      },
      "outputs": [
        {
          "data": {
            "image/png": "[encoded data removed]",
            "text/plain": [
              "<Figure size 720x576 with 1 Axes>"
            ]
          },
          "metadata": {},
          "output_type": "display_data"
        }
      ],
      "source": [
        "fig,ax = plt.subplots(figsize=(10,8))\n",
        "g = sns.barplot(\n",
        "  x=\"DeviceId\", \n",
        "  y=\"AreaName\", \n",
        "  data=dataq.sort_values(by=\"DeviceId\", ascending=False).iloc[:25],\n",
        "  color=sns.color_palette(\"rainbow\")[2],\n",
        "  saturation=7.,\n",
        ")\n",
        "# add data labels\n",
        "#datalabel_hbar(g)\n",
        "# remove x-axis tick labels\n",
        "g.xaxis.set_ticklabels([])\n",
        "# rename axes labels\n",
        "g.set(xlabel='DeviceId', ylabel='AreaName')\n",
        "# remove border\n",
        "sns.despine(bottom=True);"
      ]
    }
  ],
  "metadata": {
    "colab": {
      "collapsed_sections": [],
      "provenance": [],
      "mount_file_id": "1Zkmzq1Ug-lcgkymOghZqTP2OUPk0bmBH",
      "authorship_tag": "ABX9TyOke9VLpcbBFbKDgLdimtqt",
      "include_colab_link": true
    },
    "kernelspec": {
      "display_name": "Python 3",
      "name": "python3"
    },
    "language_info": {
      "name": "python"
    }
  },
  "nbformat": 4,
  "nbformat_minor": 0
}