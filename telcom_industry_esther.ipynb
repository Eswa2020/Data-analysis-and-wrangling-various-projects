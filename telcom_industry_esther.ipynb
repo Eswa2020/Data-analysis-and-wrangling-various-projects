{
  "nbformat": 4,
  "nbformat_minor": 0,
  "metadata": {
    "colab": {
      "name": "telcom_industry_esther",
      "provenance": [],
      "toc_visible": true,
      "authorship_tag": "ABX9TyNoEP7ptKPMgUDPp0OdrKnI",
      "include_colab_link": true
    },
    "kernelspec": {
      "name": "python3",
      "display_name": "Python 3"
    },
    "language_info": {
      "name": "python"
    }
  },
  "cells": [
    {
      "cell_type": "markdown",
      "metadata": {
        "id": "view-in-github",
        "colab_type": "text"
      },
      "source": [
        "<a href=\"https://colab.research.google.com/github/Eswa2020/Data-analysis-and-wrangling-various-projects/blob/master/telcom_industry_esther.ipynb\" target=\"_parent\"><img src=\"https://colab.research.google.com/assets/colab-badge.svg\" alt=\"Open In Colab\"/></a>"
      ]
    },
    {
      "cell_type": "markdown",
      "metadata": {
        "id": "s8QcKHKS15LB"
      },
      "source": [
        "\n",
        "\n",
        "###<font color=”green”>1.Defining the question\n",
        "\n",
        ">In the telecom industry, customers are able to choose from multiple service providers and\n",
        "actively switch from one operator to another. In this highly competitive market, the\n",
        "telecommunications industry experiences an average of 15-25% annual churn rate. Given the\n",
        "fact that it costs 5-10 times more to acquire a new customer than to retain an existing one,\n",
        "customer retention has now become even more important than customer acquisition.\n",
        "For many incumbent operators, retaining high profitable customers is the number one business\n",
        "goal.\n",
        "To reduce customer churn, telecom companies need to predict which customers are at high\n",
        "risk of churn.\n",
        "In this project, you will analyse customer-level data of a leading telecom firm, build predictive\n",
        "models to identify customers at high risk of churn and identify the main indicators of churn.\n",
        "\n"
      ]
    },
    {
      "cell_type": "markdown",
      "metadata": {
        "id": "-VCoiwd445kv"
      },
      "source": [
        "###<font color=”green”>2.Understanding the business context\n",
        "\n",
        "####<font color=\"red\"> a.)Payment modes in telcom industry\n",
        "\n",
        ">There are two main models of payment in the telecom industry - \n",
        ">postpaid (customers pay a\n",
        "\n",
        "1.   postpaid (customers pay a monthly/annual bill after using the services)\n",
        "2.   prepaid (customers pay/recharge with a certain amount in advance and then use the services).\n",
        "\n",
        "\n",
        "**In the postpaid model,** when customers want to switch to another operator, they usually inform\n",
        "the existing operator to terminate the services, and you directly know that this is an instance of churn.\n",
        "\n",
        "However, in the prepaid model, customers who want to switch to another network can simply stop using the services without any notice, and it is hard to know whether someone has actually churned or is simply not using the services temporarily (e.g. someone may be on a trip abroad for a month or two and then intend to resume using the services again).\n",
        "\n",
        "Thus, churn prediction is usually more critical (and non-trivial) for prepaid customers, and the term ‘churn’ should be defined carefully.\n",
        "\n",
        "Also, prepaid is the most common model in India and Southeast Asia, while postpaid is more common in Europe in North America.\n",
        "\n",
        "This project is based on the Indian and Southeast Asian market.\n",
        "\n",
        "####<font color=\"red\"> a.)Defining churn rate\n",
        "\n",
        ">There are various ways to define churn, such as:\n",
        "\n",
        "**Revenue-based churn: **\n",
        "\n",
        "Customers who have not utilised any revenue-generating facilities such\n",
        "as mobile internet, outgoing calls, SMS etc. over a given period of time. One could also use aggregate metrics such as ‘customers who have generated less than INR 4 per month in total/average/median revenue’.\n",
        "\n",
        "The main shortcoming of this definition is that there are customers who only receive\n",
        "calls/SMSes from their wage-earning counterparts, i.e. they don’t generate revenue but use the\n",
        "\n",
        "services. For example, many users in rural areas only receive calls from their wage-earning\n",
        "siblings in urban areas.\n",
        "\n",
        "Usage-based churn: **bold text**\n",
        "\n",
        "> Customers who have not done any usage, either incoming or outgoing -\n",
        "in terms of calls, internet etc. over a period of time.\n",
        "A potential shortcoming of this definition is that when the customer has stopped using the\n",
        "services for a while, it may be too late to take any corrective actions to retain them. For e.g., if\n",
        "you define churn based on a ‘two-months zero usage’ period, predicting churn could be useless\n",
        "since by that time the customer would have already switched to another operator.\n",
        "In this project, you will use the usage-based definition to define churn.\n"
      ]
    },
    {
      "cell_type": "code",
      "metadata": {
        "id": "R9I1N0-bu6lC"
      },
      "source": [
        ""
      ],
      "execution_count": null,
      "outputs": []
    }
  ]
}