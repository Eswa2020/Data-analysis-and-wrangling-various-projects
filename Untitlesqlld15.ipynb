{
  "nbformat": 4,
  "nbformat_minor": 0,
  "metadata": {
    "colab": {
      "name": "Untitled15.ipynb",
      "provenance": [],
      "collapsed_sections": [],
      "authorship_tag": "ABX9TyNxJi8FzbUZij70yXiHAaVQ",
      "include_colab_link": true
    },
    "kernelspec": {
      "name": "python3",
      "display_name": "Python 3"
    }
  },
  "cells": [
    {
      "cell_type": "markdown",
      "metadata": {
        "id": "view-in-github",
        "colab_type": "text"
      },
      "source": [
        "<a href=\"https://colab.research.google.com/github/Eswa2020/Data-analysis-and-wrangling-various-projects/blob/master/Untitlesqlld15.ipynb\" target=\"_parent\"><img src=\"https://colab.research.google.com/assets/colab-badge.svg\" alt=\"Open In Colab\"/></a>"
      ]
    },
    {
      "cell_type": "code",
      "metadata": {
        "id": "Y20ZC6j8I53J"
      },
      "source": [
        "%load_ext sql"
      ],
      "execution_count": null,
      "outputs": []
    },
    {
      "cell_type": "code",
      "metadata": {
        "colab": {
          "base_uri": "https://localhost:8080/",
          "height": 35
        },
        "id": "dEVmcXpsICJc",
        "outputId": "8fa48395-af89-42e6-bb83-0e3abec3a7a6"
      },
      "source": [
        "#load the sql into our  environment\r\n",
        "%reload_ext sql\r\n",
        "#connect to our memory sqlite database\r\n",
        "%sql sqlite://"
      ],
      "execution_count": null,
      "outputs": [
        {
          "output_type": "execute_result",
          "data": {
            "application/vnd.google.colaboratory.intrinsic+json": {
              "type": "string"
            },
            "text/plain": [
              "'Connected: @None'"
            ]
          },
          "metadata": {
            "tags": []
          },
          "execution_count": 15
        }
      ]
    },
    {
      "cell_type": "code",
      "metadata": {
        "id": "Rcajm0naIpYn"
      },
      "source": [
        "#import our libraries\r\n",
        "import pandas as pd\r\n",
        "import numpy as np"
      ],
      "execution_count": null,
      "outputs": []
    },
    {
      "cell_type": "code",
      "metadata": {
        "colab": {
          "base_uri": "https://localhost:8080/",
          "height": 205
        },
        "id": "xZQo2hZwJE3p",
        "outputId": "c51bf90a-a5f2-4df7-aab5-eb8d9117fe97"
      },
      "source": [
        "#load our countries dataset\r\n",
        "with open ('/content/Countries (4).csv','r') as f:\r\n",
        " countries=pd.read_csv(f,index_col=None,encoding='utf-8')\r\n",
        "%sql DROP TABLE if EXISTS countries;\r\n",
        "%sql PERSIST countries;\r\n",
        "%sql SELECT * FROM countries LIMIT 5;"
      ],
      "execution_count": null,
      "outputs": [
        {
          "output_type": "stream",
          "text": [
            " * sqlite://\n",
            "Done.\n",
            " * sqlite://\n",
            " * sqlite://\n",
            "Done.\n"
          ],
          "name": "stdout"
        },
        {
          "output_type": "execute_result",
          "data": {
            "text/html": [
              "<table>\n",
              "    <thead>\n",
              "        <tr>\n",
              "            <th>index</th>\n",
              "            <th>country</th>\n",
              "            <th>population</th>\n",
              "            <th>EU</th>\n",
              "            <th>coastline</th>\n",
              "        </tr>\n",
              "    </thead>\n",
              "    <tbody>\n",
              "        <tr>\n",
              "            <td>0</td>\n",
              "            <td>Albania</td>\n",
              "            <td>2.9</td>\n",
              "            <td>no</td>\n",
              "            <td>yes</td>\n",
              "        </tr>\n",
              "        <tr>\n",
              "            <td>1</td>\n",
              "            <td>Andorra</td>\n",
              "            <td>0.07</td>\n",
              "            <td>no</td>\n",
              "            <td>no</td>\n",
              "        </tr>\n",
              "        <tr>\n",
              "            <td>2</td>\n",
              "            <td>Austria</td>\n",
              "            <td>8.57</td>\n",
              "            <td>yes</td>\n",
              "            <td>no</td>\n",
              "        </tr>\n",
              "        <tr>\n",
              "            <td>3</td>\n",
              "            <td>Belarus</td>\n",
              "            <td>9.48</td>\n",
              "            <td>no</td>\n",
              "            <td>no</td>\n",
              "        </tr>\n",
              "        <tr>\n",
              "            <td>4</td>\n",
              "            <td>Belgium</td>\n",
              "            <td>11.37</td>\n",
              "            <td>yes</td>\n",
              "            <td>yes</td>\n",
              "        </tr>\n",
              "    </tbody>\n",
              "</table>"
            ],
            "text/plain": [
              "[(0, 'Albania', 2.9, 'no', 'yes'),\n",
              " (1, 'Andorra', 0.07, 'no', 'no'),\n",
              " (2, 'Austria', 8.57, 'yes', 'no'),\n",
              " (3, 'Belarus', 9.48, 'no', 'no'),\n",
              " (4, 'Belgium', 11.37, 'yes', 'yes')]"
            ]
          },
          "metadata": {
            "tags": []
          },
          "execution_count": 20
        }
      ]
    },
    {
      "cell_type": "code",
      "metadata": {
        "colab": {
          "base_uri": "https://localhost:8080/",
          "height": 205
        },
        "id": "w8oPF0Z0OLek",
        "outputId": "9065f9e0-79a8-46e2-9cfa-eeb9e31f5053"
      },
      "source": [
        "with open ('/content/Cities (1).csv','r') as f:\r\n",
        "  cities=pd.read_csv(f,index_col=None,encoding='utf-8')\r\n",
        "%sql DROP TABLE if EXISTS cities;\r\n",
        "%sql PERSIST cities;\r\n",
        "%sql SELECT* FROM cities LIMIT 5;"
      ],
      "execution_count": null,
      "outputs": [
        {
          "output_type": "stream",
          "text": [
            " * sqlite://\n",
            "Done.\n",
            " * sqlite://\n",
            " * sqlite://\n",
            "Done.\n"
          ],
          "name": "stdout"
        },
        {
          "output_type": "execute_result",
          "data": {
            "text/html": [
              "<table>\n",
              "    <thead>\n",
              "        <tr>\n",
              "            <th>index</th>\n",
              "            <th>city</th>\n",
              "            <th>country</th>\n",
              "            <th>latitude</th>\n",
              "            <th>longitude</th>\n",
              "            <th>temperature</th>\n",
              "        </tr>\n",
              "    </thead>\n",
              "    <tbody>\n",
              "        <tr>\n",
              "            <td>0</td>\n",
              "            <td>Aalborg</td>\n",
              "            <td>Denmark</td>\n",
              "            <td>57.03</td>\n",
              "            <td>9.92</td>\n",
              "            <td>7.52</td>\n",
              "        </tr>\n",
              "        <tr>\n",
              "            <td>1</td>\n",
              "            <td>Aberdeen</td>\n",
              "            <td>United Kingdom</td>\n",
              "            <td>57.17</td>\n",
              "            <td>-2.08</td>\n",
              "            <td>8.1</td>\n",
              "        </tr>\n",
              "        <tr>\n",
              "            <td>2</td>\n",
              "            <td>Abisko</td>\n",
              "            <td>Sweden</td>\n",
              "            <td>63.35</td>\n",
              "            <td>18.83</td>\n",
              "            <td>0.2</td>\n",
              "        </tr>\n",
              "        <tr>\n",
              "            <td>3</td>\n",
              "            <td>Adana</td>\n",
              "            <td>Turkey</td>\n",
              "            <td>36.99</td>\n",
              "            <td>35.32</td>\n",
              "            <td>18.67</td>\n",
              "        </tr>\n",
              "        <tr>\n",
              "            <td>4</td>\n",
              "            <td>Albacete</td>\n",
              "            <td>Spain</td>\n",
              "            <td>39.0</td>\n",
              "            <td>-1.87</td>\n",
              "            <td>12.62</td>\n",
              "        </tr>\n",
              "    </tbody>\n",
              "</table>"
            ],
            "text/plain": [
              "[(0, 'Aalborg', 'Denmark', 57.03, 9.92, 7.52),\n",
              " (1, 'Aberdeen', 'United Kingdom', 57.17, -2.08, 8.1),\n",
              " (2, 'Abisko', 'Sweden', 63.35, 18.83, 0.2),\n",
              " (3, 'Adana', 'Turkey', 36.99, 35.32, 18.67),\n",
              " (4, 'Albacete', 'Spain', 39.0, -1.87, 12.62)]"
            ]
          },
          "metadata": {
            "tags": []
          },
          "execution_count": 22
        }
      ]
    },
    {
      "cell_type": "markdown",
      "metadata": {
        "id": "FdAMtFh1S8oX"
      },
      "source": [
        "Inner join to combine the tables"
      ]
    },
    {
      "cell_type": "code",
      "metadata": {
        "colab": {
          "base_uri": "https://localhost:8080/",
          "height": 646
        },
        "id": "_FIvgthHTDLZ",
        "outputId": "17b1ffce-bfc6-41ee-a2c3-6013ad624adc"
      },
      "source": [
        "%%sql\r\n",
        "SELECT city,cities.country,population\r\n",
        "FROM cities INNER JOIN countries\r\n",
        "   ON cities.country=countries.country\r\n",
        "WHERE latitude < 70 AND population < 7\r\n",
        "ORDER BY cities.country"
      ],
      "execution_count": null,
      "outputs": [
        {
          "output_type": "stream",
          "text": [
            " * sqlite://\n",
            "Done.\n"
          ],
          "name": "stdout"
        },
        {
          "output_type": "execute_result",
          "data": {
            "text/html": [
              "<table>\n",
              "    <thead>\n",
              "        <tr>\n",
              "            <th>city</th>\n",
              "            <th>country</th>\n",
              "            <th>population</th>\n",
              "        </tr>\n",
              "    </thead>\n",
              "    <tbody>\n",
              "        <tr>\n",
              "            <td>Elbasan</td>\n",
              "            <td>Albania</td>\n",
              "            <td>2.9</td>\n",
              "        </tr>\n",
              "        <tr>\n",
              "            <td>Andorra</td>\n",
              "            <td>Andorra</td>\n",
              "            <td>0.07</td>\n",
              "        </tr>\n",
              "        <tr>\n",
              "            <td>Sarajevo</td>\n",
              "            <td>Bosnia and Herzegovina</td>\n",
              "            <td>3.8</td>\n",
              "        </tr>\n",
              "        <tr>\n",
              "            <td>Rijeka</td>\n",
              "            <td>Croatia</td>\n",
              "            <td>4.23</td>\n",
              "        </tr>\n",
              "        <tr>\n",
              "            <td>Split</td>\n",
              "            <td>Croatia</td>\n",
              "            <td>4.23</td>\n",
              "        </tr>\n",
              "        <tr>\n",
              "            <td>Aalborg</td>\n",
              "            <td>Denmark</td>\n",
              "            <td>5.69</td>\n",
              "        </tr>\n",
              "        <tr>\n",
              "            <td>Odense</td>\n",
              "            <td>Denmark</td>\n",
              "            <td>5.69</td>\n",
              "        </tr>\n",
              "        <tr>\n",
              "            <td>Tallinn</td>\n",
              "            <td>Estonia</td>\n",
              "            <td>1.31</td>\n",
              "        </tr>\n",
              "        <tr>\n",
              "            <td>Tartu</td>\n",
              "            <td>Estonia</td>\n",
              "            <td>1.31</td>\n",
              "        </tr>\n",
              "        <tr>\n",
              "            <td>Helsinki</td>\n",
              "            <td>Finland</td>\n",
              "            <td>5.52</td>\n",
              "        </tr>\n",
              "        <tr>\n",
              "            <td>Oulu</td>\n",
              "            <td>Finland</td>\n",
              "            <td>5.52</td>\n",
              "        </tr>\n",
              "        <tr>\n",
              "            <td>Tampere</td>\n",
              "            <td>Finland</td>\n",
              "            <td>5.52</td>\n",
              "        </tr>\n",
              "        <tr>\n",
              "            <td>Turku</td>\n",
              "            <td>Finland</td>\n",
              "            <td>5.52</td>\n",
              "        </tr>\n",
              "        <tr>\n",
              "            <td>Cork</td>\n",
              "            <td>Ireland</td>\n",
              "            <td>4.71</td>\n",
              "        </tr>\n",
              "        <tr>\n",
              "            <td>Dublin</td>\n",
              "            <td>Ireland</td>\n",
              "            <td>4.71</td>\n",
              "        </tr>\n",
              "        <tr>\n",
              "            <td>Galway</td>\n",
              "            <td>Ireland</td>\n",
              "            <td>4.71</td>\n",
              "        </tr>\n",
              "        <tr>\n",
              "            <td>Daugavpils</td>\n",
              "            <td>Latvia</td>\n",
              "            <td>1.96</td>\n",
              "        </tr>\n",
              "        <tr>\n",
              "            <td>Riga</td>\n",
              "            <td>Latvia</td>\n",
              "            <td>1.96</td>\n",
              "        </tr>\n",
              "        <tr>\n",
              "            <td>Kaunas</td>\n",
              "            <td>Lithuania</td>\n",
              "            <td>2.85</td>\n",
              "        </tr>\n",
              "        <tr>\n",
              "            <td>Klaipeda</td>\n",
              "            <td>Lithuania</td>\n",
              "            <td>2.85</td>\n",
              "        </tr>\n",
              "        <tr>\n",
              "            <td>Vilnius</td>\n",
              "            <td>Lithuania</td>\n",
              "            <td>2.85</td>\n",
              "        </tr>\n",
              "        <tr>\n",
              "            <td>Skopje</td>\n",
              "            <td>Macedonia</td>\n",
              "            <td>2.08</td>\n",
              "        </tr>\n",
              "        <tr>\n",
              "            <td>Balti</td>\n",
              "            <td>Moldova</td>\n",
              "            <td>4.06</td>\n",
              "        </tr>\n",
              "        <tr>\n",
              "            <td>Chisinau</td>\n",
              "            <td>Moldova</td>\n",
              "            <td>4.06</td>\n",
              "        </tr>\n",
              "        <tr>\n",
              "            <td>Podgorica</td>\n",
              "            <td>Montenegro</td>\n",
              "            <td>0.63</td>\n",
              "        </tr>\n",
              "        <tr>\n",
              "            <td>Bergen</td>\n",
              "            <td>Norway</td>\n",
              "            <td>5.27</td>\n",
              "        </tr>\n",
              "        <tr>\n",
              "            <td>Bodo</td>\n",
              "            <td>Norway</td>\n",
              "            <td>5.27</td>\n",
              "        </tr>\n",
              "        <tr>\n",
              "            <td>Oslo</td>\n",
              "            <td>Norway</td>\n",
              "            <td>5.27</td>\n",
              "        </tr>\n",
              "        <tr>\n",
              "            <td>Stavanger</td>\n",
              "            <td>Norway</td>\n",
              "            <td>5.27</td>\n",
              "        </tr>\n",
              "        <tr>\n",
              "            <td>Trondheim</td>\n",
              "            <td>Norway</td>\n",
              "            <td>5.27</td>\n",
              "        </tr>\n",
              "        <tr>\n",
              "            <td>Bratislava</td>\n",
              "            <td>Slovakia</td>\n",
              "            <td>5.43</td>\n",
              "        </tr>\n",
              "        <tr>\n",
              "            <td>Kosice</td>\n",
              "            <td>Slovakia</td>\n",
              "            <td>5.43</td>\n",
              "        </tr>\n",
              "        <tr>\n",
              "            <td>Ljubljana</td>\n",
              "            <td>Slovenia</td>\n",
              "            <td>2.07</td>\n",
              "        </tr>\n",
              "    </tbody>\n",
              "</table>"
            ],
            "text/plain": [
              "[('Elbasan', 'Albania', 2.9),\n",
              " ('Andorra', 'Andorra', 0.07),\n",
              " ('Sarajevo', 'Bosnia and Herzegovina', 3.8),\n",
              " ('Rijeka', 'Croatia', 4.23),\n",
              " ('Split', 'Croatia', 4.23),\n",
              " ('Aalborg', 'Denmark', 5.69),\n",
              " ('Odense', 'Denmark', 5.69),\n",
              " ('Tallinn', 'Estonia', 1.31),\n",
              " ('Tartu', 'Estonia', 1.31),\n",
              " ('Helsinki', 'Finland', 5.52),\n",
              " ('Oulu', 'Finland', 5.52),\n",
              " ('Tampere', 'Finland', 5.52),\n",
              " ('Turku', 'Finland', 5.52),\n",
              " ('Cork', 'Ireland', 4.71),\n",
              " ('Dublin', 'Ireland', 4.71),\n",
              " ('Galway', 'Ireland', 4.71),\n",
              " ('Daugavpils', 'Latvia', 1.96),\n",
              " ('Riga', 'Latvia', 1.96),\n",
              " ('Kaunas', 'Lithuania', 2.85),\n",
              " ('Klaipeda', 'Lithuania', 2.85),\n",
              " ('Vilnius', 'Lithuania', 2.85),\n",
              " ('Skopje', 'Macedonia', 2.08),\n",
              " ('Balti', 'Moldova', 4.06),\n",
              " ('Chisinau', 'Moldova', 4.06),\n",
              " ('Podgorica', 'Montenegro', 0.63),\n",
              " ('Bergen', 'Norway', 5.27),\n",
              " ('Bodo', 'Norway', 5.27),\n",
              " ('Oslo', 'Norway', 5.27),\n",
              " ('Stavanger', 'Norway', 5.27),\n",
              " ('Trondheim', 'Norway', 5.27),\n",
              " ('Bratislava', 'Slovakia', 5.43),\n",
              " ('Kosice', 'Slovakia', 5.43),\n",
              " ('Ljubljana', 'Slovenia', 2.07)]"
            ]
          },
          "metadata": {
            "tags": []
          },
          "execution_count": 31
        }
      ]
    },
    {
      "cell_type": "code",
      "metadata": {
        "id": "XG0-0QGOYDrg"
      },
      "source": [
        ""
      ],
      "execution_count": null,
      "outputs": []
    }
  ]
}