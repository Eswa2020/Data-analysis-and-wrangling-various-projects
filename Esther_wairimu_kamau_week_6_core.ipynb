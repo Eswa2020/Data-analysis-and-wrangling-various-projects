{
  "nbformat": 4,
  "nbformat_minor": 0,
  "metadata": {
    "colab": {
      "name": "Esther_wairimu_kamau_week_6_core",
      "provenance": [],
      "collapsed_sections": [],
      "toc_visible": true,
      "include_colab_link": true
    },
    "kernelspec": {
      "name": "python3",
      "display_name": "Python 3"
    }
  },
  "cells": [
    {
      "cell_type": "markdown",
      "metadata": {
        "id": "view-in-github",
        "colab_type": "text"
      },
      "source": [
        "<a href=\"https://colab.research.google.com/github/Eswa2020/data-prep-project/blob/master/Esther_wairimu_kamau_week_6_core.ipynb\" target=\"_parent\"><img src=\"https://colab.research.google.com/assets/colab-badge.svg\" alt=\"Open In Colab\"/></a>"
      ]
    },
    {
      "cell_type": "markdown",
      "metadata": {
        "id": "kLG2VTrnTvYL"
      },
      "source": [
        "## 1. Defining the Question"
      ]
    },
    {
      "cell_type": "markdown",
      "metadata": {
        "id": "XecOwPNorl2W"
      },
      "source": [
        "###  a)Specifying the Question"
      ]
    },
    {
      "cell_type": "markdown",
      "metadata": {
        "id": "8l3-hBO6bODP"
      },
      "source": [
        "\n",
        "**Problem statement:**\n",
        "You have been recruited as a football data analyst in a company -    **Mchezopesa Ltd **and tasked to accomplish the task below.\n",
        "\n",
        "A prediction result of a game between team 1 and team 2, based on who's home and who's away, and on whether or not the game is friendly (include rank in your training).\n",
        "\n",
        "You have two possible approaches (as  shown below) given the datasets that will be provided\n",
        "\n",
        "**Input**: Home team, Away team, Tournament type (World cup, Friendly, Other)\n",
        "\n",
        "\n",
        "**Background Information:**\n",
        "\n",
        "Since their introduction in 1992, the FIFA World Rankings have been the subject of much debate, particularly regarding the calculation procedure and the resulting disparity between generally perceived quality and world ranking of some teams. The perceived flaws in the FIFA system have led to the creation of a number of alternative rankings from football statisticians.\n",
        "\n",
        "The initial system was very simple, with no weighting for the quality of opponent or importance of a match. The rankings were adapted in 1999 to include weightings based on the importance of the match and the strength of the opponent. A win over a weak opponent resulted in fewer points being awarded than a win over a much stronger one. Further adaptations in 2006 were made to reduce the number of years' results considered from 8 to 4, with greater reliance on matches from within the previous 12 months.\n",
        "\n",
        "Still, criticisms of the rankings remained, with particular anomalies being noted including: the United States rise to fourth in 2006, to the surprise of even their own players;**Israel's climb to 15th in November 2008**, which surprised the Israeli press and Belgium's rank of world number 1 in November 2015, given that Belgium had only played in one tournament final stage in the past 13 years.\n",
        "\n",
        "\n",
        "\n",
        "In the 2010s, teams realized the ranking system could be 'gamed', specifically by avoiding playing non-competitive matches, particularly against weaker opponents.This was because the low weighting of friendlies meant that even victories could reduce a team's average score: in other words, a team could win a match and lose points. Prior to the seeding of the 2018 World Cup preliminary draw, \n",
        "\n",
        "\n",
        "\n",
        "\n",
        "\n",
        "\n"
      ]
    },
    {
      "cell_type": "markdown",
      "metadata": {
        "id": "aFk2fjqAQN94"
      },
      "source": [
        "The  model will be considered succesful if the models that will be used to predict the results of a match are:\n",
        "### b) Defining the Metric for Success\n",
        "**Approach 1**: Polynomial approach\n",
        "\n",
        "\n",
        "What to train given:\n",
        "\n",
        "*   **Rank of home team**\n",
        "*   **Rank of away team**\n",
        "\n",
        "\n",
        "Tournament type\n",
        "* Model 1: Predict how many goals the home team scores.\n",
        "\n",
        "* Model 2: Predict how many goals the away team scores.\n",
        "\n",
        "**Approach 2**: Logistic approach\n",
        "\n",
        "Feature Engineering: Figure out from the home team’s perspective if the game is a Win, Lose or Draw (W, L, D)\n"
      ]
    },
    {
      "cell_type": "markdown",
      "metadata": {
        "id": "TuQjHKSSy3Wv"
      },
      "source": [
        "### c) Understanding the context \n",
        "\n",
        "After a long period testing and analysing the best way to calculate the FIFA/Coca-Cola World Ranking, a new model took effect in August 2018 after approval by the FIFA Council.\n",
        "\n",
        "This new version developed by FIFA was named \"SUM\" as it relies on adding/subtracting points won or lost for a game to/from the previous point totals rather than averaging game points over a given time period as in the previous version of the World Ranking.\n",
        "\n",
        "The points which are added or subtracted are partially determined by the relative strength of the two opponents, including the logical expectation that teams higher in the ranking should fare better against teams lower in the ranking.\n",
        "Dataset Columns\n",
        "\n",
        "* Rank\n",
        "* Country Abbreviation\n",
        "* Total Points\n",
        "* Previous Points\n",
        "* Rank Change\n",
        "* Average Previous Years Points\n",
        "* Average Previous Years Points Weighted (50%)\n",
        "* Average 2 Years Ago Points\n",
        "* Average 2 Years Ago Points Weighted (30%)\n",
        "* Average 3 Years Ago Points\n",
        "* Average 3 Years Ago Points Weighted (20%)\n",
        "* Confederation\n",
        "* Date - date of the match\n",
        "* Home_team - the name of the home team\n",
        "* Away_team - the name of the away team\n",
        "* Home_score - full-time home team score including extra time, not including penalty-shootouts\n",
        "* Away_score - full-time away team score including extra time, not including penalty-shootouts\n",
        "* Tournament - the name of the tournament\n",
        "* City - the name of the city/town/administrative unit where the match was played\n",
        "* Country - the name of the country where the match was played\n",
        "* Neutral - TRUE/FALSE column indicating whether the match was played at a neutral venue"
      ]
    },
    {
      "cell_type": "markdown",
      "metadata": {
        "id": "zSGyg6kWsBUl"
      },
      "source": [
        "###  d)Data Relevance"
      ]
    },
    {
      "cell_type": "markdown",
      "metadata": {
        "id": "oXYueSDBNhpA"
      },
      "source": [
        "there were two datasets provided:\n",
        "\n",
        "FIFA rankings from 1993 to 2018.\n",
        "I used this to get the FIFA ranking and points for the teams, which proves to a decent predictor of team performance\n",
        "\n",
        "International Soccer matches from 1872 to 2018.\n",
        "This I will use to find out how much the difference in point, ranks and the current rank of the team affects the outcome of a match"
      ]
    },
    {
      "cell_type": "markdown",
      "metadata": {
        "id": "iUNbvIvnT7ep"
      },
      "source": [
        "## 2. Reading the Data"
      ]
    },
    {
      "cell_type": "code",
      "metadata": {
        "id": "XJn2KjW-WMlG"
      },
      "source": [
        "# Loading the results Dataset and importing the relavant libraries\n",
        "#importing our libraries \n",
        "\n",
        "import numpy as np \n",
        "import pandas as pd\n",
        "import seaborn as sns\n",
        "import matplotlib.pyplot as plt\n",
        "from sklearn.preprocessing import PolynomialFeatures\n",
        "from sklearn.model_selection import train_test_split\n",
        "from sklearn.linear_model import LogisticRegression\n",
        "from sklearn.preprocessing import PolynomialFeatures\n",
        "from sklearn.model_selection import train_test_split\n",
        "from sklearn.linear_model import LinearRegression"
      ],
      "execution_count": null,
      "outputs": []
    },
    {
      "cell_type": "code",
      "metadata": {
        "id": "qw0yF7UdRE0f"
      },
      "source": [
        "# loading the results dataset\n",
        "results_df = pd.read_csv(\"/content/results.csv\")\n",
        "# loading other dataset\n",
        "fifa_ranking_df = pd.read_csv('/content/fifa_ranking.csv')"
      ],
      "execution_count": null,
      "outputs": []
    },
    {
      "cell_type": "code",
      "metadata": {
        "id": "1v0gQxSK0fQE",
        "outputId": "adca6724-c931-4cc1-d640-11767b3cb4ae",
        "colab": {
          "base_uri": "https://localhost:8080/"
        }
      },
      "source": [
        "print(results_df.shape)"
      ],
      "execution_count": null,
      "outputs": [
        {
          "output_type": "stream",
          "text": [
            "(40839, 9)\n"
          ],
          "name": "stdout"
        }
      ]
    },
    {
      "cell_type": "code",
      "metadata": {
        "id": "qqc-nyHU0_MK",
        "outputId": "5858c93d-8b1c-47c0-de35-c94defa844f6",
        "colab": {
          "base_uri": "https://localhost:8080/"
        }
      },
      "source": [
        "print(fifa_ranking_df.shape)"
      ],
      "execution_count": null,
      "outputs": [
        {
          "output_type": "stream",
          "text": [
            "(57793, 16)\n"
          ],
          "name": "stdout"
        }
      ]
    },
    {
      "cell_type": "markdown",
      "metadata": {
        "id": "OI3P3YnHUEBk"
      },
      "source": [
        "## 3. Checking and manipulating the Data"
      ]
    },
    {
      "cell_type": "code",
      "metadata": {
        "id": "xHhTw5eKWr0n",
        "outputId": "fa4f1a52-c43c-41a0-c54a-19377d70df7f",
        "colab": {
          "base_uri": "https://localhost:8080/"
        }
      },
      "source": [
        "# Previewing the top of the dataset\n",
        "#\n",
        "print(results_df.head(3))\n",
        "print(fifa_ranking_df.head(3))"
      ],
      "execution_count": null,
      "outputs": [
        {
          "output_type": "stream",
          "text": [
            "         date home_team away_team  ...     city   country neutral\n",
            "0  1872-11-30  Scotland   England  ...  Glasgow  Scotland   False\n",
            "1  1873-03-08   England  Scotland  ...   London   England   False\n",
            "2  1874-03-07  Scotland   England  ...  Glasgow  Scotland   False\n",
            "\n",
            "[3 rows x 9 columns]\n",
            "   rank country_full  ... confederation   rank_date\n",
            "0     1      Germany  ...          UEFA  1993-08-08\n",
            "1     2        Italy  ...          UEFA  1993-08-08\n",
            "2     3  Switzerland  ...          UEFA  1993-08-08\n",
            "\n",
            "[3 rows x 16 columns]\n"
          ],
          "name": "stdout"
        }
      ]
    },
    {
      "cell_type": "code",
      "metadata": {
        "id": "e9AzGcZFrIIr",
        "outputId": "7b68296d-79c6-4ee3-a18f-30ca405bf81c",
        "colab": {
          "base_uri": "https://localhost:8080/"
        }
      },
      "source": [
        "# Previewing the bottom of the datasets\n",
        "# \n",
        "print(results_df.tail(3))\n",
        "print(fifa_ranking_df.tail(3))"
      ],
      "execution_count": null,
      "outputs": [
        {
          "output_type": "stream",
          "text": [
            "             date         home_team    away_team  ...       city  country neutral\n",
            "40836  2019-07-19           Senegal      Algeria  ...      Cairo    Egypt    True\n",
            "40837  2019-07-19        Tajikistan  North Korea  ...  Ahmedabad    India    True\n",
            "40838  2019-07-20  Papua New Guinea         Fiji  ...       Apia    Samoa    True\n",
            "\n",
            "[3 rows x 9 columns]\n",
            "       rank country_full  ... confederation   rank_date\n",
            "57790   206      Eritrea  ...           CAF  2018-06-07\n",
            "57791   206      Somalia  ...           CAF  2018-06-07\n",
            "57792   206        Tonga  ...           OFC  2018-06-07\n",
            "\n",
            "[3 rows x 16 columns]\n"
          ],
          "name": "stdout"
        }
      ]
    },
    {
      "cell_type": "code",
      "metadata": {
        "id": "n8-dW4sQWzbc",
        "outputId": "636f73a2-88d5-46b8-a08b-4b5eb55d4fcd",
        "colab": {
          "base_uri": "https://localhost:8080/"
        }
      },
      "source": [
        "# Checking whether each column has an appropriate datatype\n",
        "# \n",
        "print(results_df.info())\n",
        "print(fifa_ranking_df.info())"
      ],
      "execution_count": null,
      "outputs": [
        {
          "output_type": "stream",
          "text": [
            "<class 'pandas.core.frame.DataFrame'>\n",
            "RangeIndex: 40839 entries, 0 to 40838\n",
            "Data columns (total 9 columns):\n",
            " #   Column      Non-Null Count  Dtype         \n",
            "---  ------      --------------  -----         \n",
            " 0   date        40839 non-null  datetime64[ns]\n",
            " 1   home_team   40839 non-null  object        \n",
            " 2   away_team   40839 non-null  object        \n",
            " 3   home_score  40839 non-null  int64         \n",
            " 4   away_score  40839 non-null  int64         \n",
            " 5   tournament  40839 non-null  object        \n",
            " 6   city        40839 non-null  object        \n",
            " 7   country     40839 non-null  object        \n",
            " 8   neutral     40839 non-null  bool          \n",
            "dtypes: bool(1), datetime64[ns](1), int64(2), object(5)\n",
            "memory usage: 2.5+ MB\n",
            "None\n",
            "<class 'pandas.core.frame.DataFrame'>\n",
            "RangeIndex: 57793 entries, 0 to 57792\n",
            "Data columns (total 16 columns):\n",
            " #   Column                   Non-Null Count  Dtype         \n",
            "---  ------                   --------------  -----         \n",
            " 0   rank                     57793 non-null  int64         \n",
            " 1   country_full             57793 non-null  object        \n",
            " 2   country_abrv             57793 non-null  object        \n",
            " 3   total_points             57793 non-null  float64       \n",
            " 4   previous_points          57793 non-null  int64         \n",
            " 5   rank_change              57793 non-null  int64         \n",
            " 6   cur_year_avg             57793 non-null  float64       \n",
            " 7   cur_year_avg_weighted    57793 non-null  float64       \n",
            " 8   last_year_avg            57793 non-null  float64       \n",
            " 9   last_year_avg_weighted   57793 non-null  float64       \n",
            " 10  two_year_ago_avg         57793 non-null  float64       \n",
            " 11  two_year_ago_weighted    57793 non-null  float64       \n",
            " 12  three_year_ago_avg       57793 non-null  float64       \n",
            " 13  three_year_ago_weighted  57793 non-null  float64       \n",
            " 14  confederation            57793 non-null  object        \n",
            " 15  rank_date                57793 non-null  datetime64[ns]\n",
            "dtypes: datetime64[ns](1), float64(9), int64(3), object(3)\n",
            "memory usage: 7.1+ MB\n",
            "None\n"
          ],
          "name": "stdout"
        }
      ]
    },
    {
      "cell_type": "code",
      "metadata": {
        "id": "m0ITvSUt3dwv"
      },
      "source": [
        "#both datasets datetime datatypes are objects we change them to date time format"
      ],
      "execution_count": null,
      "outputs": []
    },
    {
      "cell_type": "code",
      "metadata": {
        "id": "qxUZjhrq3XDi",
        "outputId": "1f1760d6-b8ca-40ef-e04c-ca02bdc1a3a7",
        "colab": {
          "base_uri": "https://localhost:8080/"
        }
      },
      "source": [
        "# convert date from object to date type\n",
        "fifa_ranking_df['rank_date'] = pd.to_datetime(fifa_ranking_df['rank_date'])\n",
        "print(fifa_ranking_df.head())"
      ],
      "execution_count": null,
      "outputs": [
        {
          "output_type": "stream",
          "text": [
            "   rank country_full  ... confederation  rank_date\n",
            "0     1      Germany  ...          UEFA 1993-08-08\n",
            "1     2        Italy  ...          UEFA 1993-08-08\n",
            "2     3  Switzerland  ...          UEFA 1993-08-08\n",
            "3     4       Sweden  ...          UEFA 1993-08-08\n",
            "4     5    Argentina  ...      CONMEBOL 1993-08-08\n",
            "\n",
            "[5 rows x 16 columns]\n"
          ],
          "name": "stdout"
        }
      ]
    },
    {
      "cell_type": "code",
      "metadata": {
        "id": "GFpy8fOw3YF0",
        "outputId": "e87856e0-ffe5-4abf-cf21-2d7dd49b2e4e",
        "colab": {
          "base_uri": "https://localhost:8080/"
        }
      },
      "source": [
        "# convert date from object to date type\n",
        "results_df['date'] = pd.to_datetime(results_df['date'])\n",
        "print(results_df.head())"
      ],
      "execution_count": null,
      "outputs": [
        {
          "output_type": "stream",
          "text": [
            "        date home_team away_team  ...     city   country neutral\n",
            "0 1872-11-30  Scotland   England  ...  Glasgow  Scotland   False\n",
            "1 1873-03-08   England  Scotland  ...   London   England   False\n",
            "2 1874-03-07  Scotland   England  ...  Glasgow  Scotland   False\n",
            "3 1875-03-06   England  Scotland  ...   London   England   False\n",
            "4 1876-03-04  Scotland   England  ...  Glasgow  Scotland   False\n",
            "\n",
            "[5 rows x 9 columns]\n"
          ],
          "name": "stdout"
        }
      ]
    },
    {
      "cell_type": "code",
      "metadata": {
        "id": "GtXk5DV98Voi",
        "outputId": "cbd92053-6b42-4086-801b-fef7502abd33",
        "colab": {
          "base_uri": "https://localhost:8080/"
        }
      },
      "source": [
        "#renaming the common columns in our datasets\n",
        "#since we have to merge the datasets we change the names of the common columns\n",
        "#the common columns are 'country' and 'date'\n",
        "#\n",
        "fifa_ranking_df.rename(columns={'country_full': 'country','rank_date':'date'},inplace = True)\n",
        "fifa_ranking_df.columns\n"
      ],
      "execution_count": null,
      "outputs": [
        {
          "output_type": "execute_result",
          "data": {
            "text/plain": [
              "Index(['rank', 'country', 'country_abrv', 'total_points', 'previous_points',\n",
              "       'rank_change', 'cur_year_avg', 'cur_year_avg_weighted', 'last_year_avg',\n",
              "       'last_year_avg_weighted', 'two_year_ago_avg', 'two_year_ago_weighted',\n",
              "       'three_year_ago_avg', 'three_year_ago_weighted', 'confederation',\n",
              "       'date'],\n",
              "      dtype='object')"
            ]
          },
          "metadata": {
            "tags": []
          },
          "execution_count": 24
        }
      ]
    },
    {
      "cell_type": "code",
      "metadata": {
        "id": "FJIJxyI-8nBT"
      },
      "source": [
        "#we choose columns that we only want to choose depending on our problem statement\n",
        "fifa_ranking_df = fifa_ranking_df.loc[:,['rank', 'country', 'country_abrv', 'cur_year_avg_weighted','last_year_avg_weighted','date', \n",
        "                           'two_year_ago_weighted', 'three_year_ago_weighted']]"
      ],
      "execution_count": null,
      "outputs": []
    },
    {
      "cell_type": "code",
      "metadata": {
        "id": "PJr49ORV9NJO",
        "outputId": "ee05e7b9-444f-461c-edec-00cdb2baffbb",
        "colab": {
          "base_uri": "https://localhost:8080/"
        }
      },
      "source": [
        "print(fifa_ranking_df.head())"
      ],
      "execution_count": null,
      "outputs": [
        {
          "output_type": "stream",
          "text": [
            "   rank      country  ... two_year_ago_weighted  three_year_ago_weighted\n",
            "0     1      Germany  ...                   0.0                      0.0\n",
            "1     2        Italy  ...                   0.0                      0.0\n",
            "2     3  Switzerland  ...                   0.0                      0.0\n",
            "3     4       Sweden  ...                   0.0                      0.0\n",
            "4     5    Argentina  ...                   0.0                      0.0\n",
            "\n",
            "[5 rows x 8 columns]\n"
          ],
          "name": "stdout"
        }
      ]
    },
    {
      "cell_type": "markdown",
      "metadata": {
        "id": "3oW3TemqZTQB"
      },
      "source": [
        "So we can see that each row of the results dataset is composed of :\n",
        "A date, the two teams and their score, the tournament, the location : country and city and, if the location is neutral\n",
        "\n"
      ]
    },
    {
      "cell_type": "code",
      "metadata": {
        "id": "ScgpVQLiQX0L",
        "outputId": "386449ef-5ff5-4c6a-ffb8-c4e712a1c2a2",
        "colab": {
          "base_uri": "https://localhost:8080/",
          "height": 419
        }
      },
      "source": [
        "#we can only get goals by subtracting the 'away goals' from the 'home goals'\n",
        "# When answer is '0' it is a Draw(when home goal and away goal are equal)\n",
        "# When answer is '>1' it is a Win(when  home goal is greater than away goal)\n",
        "# When answer is  '<1' it is a lose(when  home goal is less than away goal)\n",
        "# to get this we code the following\n",
        "#Creating a column on status of the game results: Win, lose and draw\n",
        "results_df['goals'] = ['Draw' if i == 0  else 'Win' if i > 1  else 'lose' for i in results_df['home_score'] - results_df['away_score']]\n",
        "results_df"
      ],
      "execution_count": null,
      "outputs": [
        {
          "output_type": "execute_result",
          "data": {
            "text/html": [
              "<div>\n",
              "<style scoped>\n",
              "    .dataframe tbody tr th:only-of-type {\n",
              "        vertical-align: middle;\n",
              "    }\n",
              "\n",
              "    .dataframe tbody tr th {\n",
              "        vertical-align: top;\n",
              "    }\n",
              "\n",
              "    .dataframe thead th {\n",
              "        text-align: right;\n",
              "    }\n",
              "</style>\n",
              "<table border=\"1\" class=\"dataframe\">\n",
              "  <thead>\n",
              "    <tr style=\"text-align: right;\">\n",
              "      <th></th>\n",
              "      <th>date</th>\n",
              "      <th>home_team</th>\n",
              "      <th>away_team</th>\n",
              "      <th>home_score</th>\n",
              "      <th>away_score</th>\n",
              "      <th>tournament</th>\n",
              "      <th>city</th>\n",
              "      <th>country</th>\n",
              "      <th>neutral</th>\n",
              "      <th>goals</th>\n",
              "    </tr>\n",
              "  </thead>\n",
              "  <tbody>\n",
              "    <tr>\n",
              "      <th>0</th>\n",
              "      <td>1872-11-30</td>\n",
              "      <td>Scotland</td>\n",
              "      <td>England</td>\n",
              "      <td>0</td>\n",
              "      <td>0</td>\n",
              "      <td>Friendly</td>\n",
              "      <td>Glasgow</td>\n",
              "      <td>Scotland</td>\n",
              "      <td>False</td>\n",
              "      <td>Draw</td>\n",
              "    </tr>\n",
              "    <tr>\n",
              "      <th>1</th>\n",
              "      <td>1873-03-08</td>\n",
              "      <td>England</td>\n",
              "      <td>Scotland</td>\n",
              "      <td>4</td>\n",
              "      <td>2</td>\n",
              "      <td>Friendly</td>\n",
              "      <td>London</td>\n",
              "      <td>England</td>\n",
              "      <td>False</td>\n",
              "      <td>Win</td>\n",
              "    </tr>\n",
              "    <tr>\n",
              "      <th>2</th>\n",
              "      <td>1874-03-07</td>\n",
              "      <td>Scotland</td>\n",
              "      <td>England</td>\n",
              "      <td>2</td>\n",
              "      <td>1</td>\n",
              "      <td>Friendly</td>\n",
              "      <td>Glasgow</td>\n",
              "      <td>Scotland</td>\n",
              "      <td>False</td>\n",
              "      <td>lose</td>\n",
              "    </tr>\n",
              "    <tr>\n",
              "      <th>3</th>\n",
              "      <td>1875-03-06</td>\n",
              "      <td>England</td>\n",
              "      <td>Scotland</td>\n",
              "      <td>2</td>\n",
              "      <td>2</td>\n",
              "      <td>Friendly</td>\n",
              "      <td>London</td>\n",
              "      <td>England</td>\n",
              "      <td>False</td>\n",
              "      <td>Draw</td>\n",
              "    </tr>\n",
              "    <tr>\n",
              "      <th>4</th>\n",
              "      <td>1876-03-04</td>\n",
              "      <td>Scotland</td>\n",
              "      <td>England</td>\n",
              "      <td>3</td>\n",
              "      <td>0</td>\n",
              "      <td>Friendly</td>\n",
              "      <td>Glasgow</td>\n",
              "      <td>Scotland</td>\n",
              "      <td>False</td>\n",
              "      <td>Win</td>\n",
              "    </tr>\n",
              "    <tr>\n",
              "      <th>...</th>\n",
              "      <td>...</td>\n",
              "      <td>...</td>\n",
              "      <td>...</td>\n",
              "      <td>...</td>\n",
              "      <td>...</td>\n",
              "      <td>...</td>\n",
              "      <td>...</td>\n",
              "      <td>...</td>\n",
              "      <td>...</td>\n",
              "      <td>...</td>\n",
              "    </tr>\n",
              "    <tr>\n",
              "      <th>40834</th>\n",
              "      <td>2019-07-18</td>\n",
              "      <td>American Samoa</td>\n",
              "      <td>Tahiti</td>\n",
              "      <td>8</td>\n",
              "      <td>1</td>\n",
              "      <td>Pacific Games</td>\n",
              "      <td>Apia</td>\n",
              "      <td>Samoa</td>\n",
              "      <td>True</td>\n",
              "      <td>Win</td>\n",
              "    </tr>\n",
              "    <tr>\n",
              "      <th>40835</th>\n",
              "      <td>2019-07-18</td>\n",
              "      <td>Fiji</td>\n",
              "      <td>Solomon Islands</td>\n",
              "      <td>4</td>\n",
              "      <td>4</td>\n",
              "      <td>Pacific Games</td>\n",
              "      <td>Apia</td>\n",
              "      <td>Samoa</td>\n",
              "      <td>True</td>\n",
              "      <td>Draw</td>\n",
              "    </tr>\n",
              "    <tr>\n",
              "      <th>40836</th>\n",
              "      <td>2019-07-19</td>\n",
              "      <td>Senegal</td>\n",
              "      <td>Algeria</td>\n",
              "      <td>0</td>\n",
              "      <td>1</td>\n",
              "      <td>African Cup of Nations</td>\n",
              "      <td>Cairo</td>\n",
              "      <td>Egypt</td>\n",
              "      <td>True</td>\n",
              "      <td>lose</td>\n",
              "    </tr>\n",
              "    <tr>\n",
              "      <th>40837</th>\n",
              "      <td>2019-07-19</td>\n",
              "      <td>Tajikistan</td>\n",
              "      <td>North Korea</td>\n",
              "      <td>0</td>\n",
              "      <td>1</td>\n",
              "      <td>Intercontinental Cup</td>\n",
              "      <td>Ahmedabad</td>\n",
              "      <td>India</td>\n",
              "      <td>True</td>\n",
              "      <td>lose</td>\n",
              "    </tr>\n",
              "    <tr>\n",
              "      <th>40838</th>\n",
              "      <td>2019-07-20</td>\n",
              "      <td>Papua New Guinea</td>\n",
              "      <td>Fiji</td>\n",
              "      <td>1</td>\n",
              "      <td>1</td>\n",
              "      <td>Pacific Games</td>\n",
              "      <td>Apia</td>\n",
              "      <td>Samoa</td>\n",
              "      <td>True</td>\n",
              "      <td>Draw</td>\n",
              "    </tr>\n",
              "  </tbody>\n",
              "</table>\n",
              "<p>40839 rows × 10 columns</p>\n",
              "</div>"
            ],
            "text/plain": [
              "            date         home_team        away_team  ...   country  neutral goals\n",
              "0     1872-11-30          Scotland          England  ...  Scotland    False  Draw\n",
              "1     1873-03-08           England         Scotland  ...   England    False   Win\n",
              "2     1874-03-07          Scotland          England  ...  Scotland    False  lose\n",
              "3     1875-03-06           England         Scotland  ...   England    False  Draw\n",
              "4     1876-03-04          Scotland          England  ...  Scotland    False   Win\n",
              "...          ...               ...              ...  ...       ...      ...   ...\n",
              "40834 2019-07-18    American Samoa           Tahiti  ...     Samoa     True   Win\n",
              "40835 2019-07-18              Fiji  Solomon Islands  ...     Samoa     True  Draw\n",
              "40836 2019-07-19           Senegal          Algeria  ...     Egypt     True  lose\n",
              "40837 2019-07-19        Tajikistan      North Korea  ...     India     True  lose\n",
              "40838 2019-07-20  Papua New Guinea             Fiji  ...     Samoa     True  Draw\n",
              "\n",
              "[40839 rows x 10 columns]"
            ]
          },
          "metadata": {
            "tags": []
          },
          "execution_count": 22
        }
      ]
    },
    {
      "cell_type": "code",
      "metadata": {
        "id": "qrXZLbpL7RN_"
      },
      "source": [
        "#renaming the common columns in our datasets\n",
        "#since we have to merge the datasets we change the names of the common columns\n",
        "#the common columns are 'country' and 'date'\n",
        "#and we can merge on the home team and the away team as  it is one of the ways we solve the problem\n",
        "#we start by creating home rank and away rank"
      ],
      "execution_count": null,
      "outputs": []
    },
    {
      "cell_type": "code",
      "metadata": {
        "id": "y93r__KrE8o4",
        "outputId": "be0ff6e1-b6b5-41a9-c57f-cd26709380ec",
        "colab": {
          "base_uri": "https://localhost:8080/"
        }
      },
      "source": [
        "#  merge the home team to get the home country ranks\n",
        "rank_home = pd.merge(results_df, fifa_ranking_df, left_on= ['date', 'home_team'], \n",
        "                     right_on= ['date', 'country'], how = 'inner')\n",
        "#after merging we rename our 'rank column to home_rank\n",
        "\n",
        "rank_home.rename(columns={'rank':'homerank'}, inplace=True)\n",
        "\n",
        "print(rank_home.head())\n"
      ],
      "execution_count": null,
      "outputs": [
        {
          "output_type": "stream",
          "text": [
            "        date home_team  ... two_year_ago_weighted  three_year_ago_weighted\n",
            "0 1993-08-08   Bolivia  ...                   0.0                      0.0\n",
            "1 1993-08-08    Brazil  ...                   0.0                      0.0\n",
            "2 1993-08-08   Ecuador  ...                   0.0                      0.0\n",
            "3 1993-08-08    Guinea  ...                   0.0                      0.0\n",
            "4 1993-08-08  Paraguay  ...                   0.0                      0.0\n",
            "\n",
            "[5 rows x 17 columns]\n"
          ],
          "name": "stdout"
        }
      ]
    },
    {
      "cell_type": "code",
      "metadata": {
        "id": "AjnjxSOxlC7-",
        "outputId": "2cf1fe43-d3d8-43b7-b87a-1227e6c7e8b0",
        "colab": {
          "base_uri": "https://localhost:8080/"
        }
      },
      "source": [
        "rank_home.shape"
      ],
      "execution_count": null,
      "outputs": [
        {
          "output_type": "execute_result",
          "data": {
            "text/plain": [
              "(957, 20)"
            ]
          },
          "metadata": {
            "tags": []
          },
          "execution_count": 80
        }
      ]
    },
    {
      "cell_type": "code",
      "metadata": {
        "id": "gQz1nFCzlDFs"
      },
      "source": [
        "# Create new columns\n",
        "results_df['day'] = results_df['date'].dt.day\n",
        "results_df['month'] = results_df['date'].dt.month\n",
        "results_df['year'] = results_df['date'].dt.year"
      ],
      "execution_count": null,
      "outputs": []
    },
    {
      "cell_type": "code",
      "metadata": {
        "id": "DJPLMXoolkGt"
      },
      "source": [
        "# Create new columns\n",
        "fifa_ranking_df['day'] = fifa_ranking_df['date'].dt.day\n",
        "fifa_ranking_df['month'] =fifa_ranking_df['date'].dt.month\n",
        "fifa_ranking_df['year'] = fifa_ranking_df['date'].dt.year"
      ],
      "execution_count": null,
      "outputs": []
    },
    {
      "cell_type": "code",
      "metadata": {
        "id": "QEJbnuzvl4iq",
        "outputId": "424f864a-f677-4d18-aa39-9ee1606afcf1",
        "colab": {
          "base_uri": "https://localhost:8080/"
        }
      },
      "source": [
        "#  merge the home team to get the home country ranks\n",
        "rank_home = pd.merge(results_df, fifa_ranking_df, left_on= ['year','month','home_team'], \n",
        "                     right_on= ['year','month', 'country'], how = 'inner')\n",
        "#after merging we rename our 'rank column to home_rank\n",
        "\n",
        "rank_home.rename(columns={'rank':'homerank'}, inplace=True)\n",
        "\n",
        "print(rank_home.head())"
      ],
      "execution_count": null,
      "outputs": [
        {
          "output_type": "stream",
          "text": [
            "      date_x home_team  ... three_year_ago_weighted  day_y\n",
            "0 1993-08-01  Colombia  ...                     0.0      8\n",
            "1 1993-08-15  Colombia  ...                     0.0      8\n",
            "2 1993-08-29  Colombia  ...                     0.0      8\n",
            "3 1993-08-01      Peru  ...                     0.0      8\n",
            "4 1993-08-08      Peru  ...                     0.0      8\n",
            "\n",
            "[5 rows x 22 columns]\n"
          ],
          "name": "stdout"
        }
      ]
    },
    {
      "cell_type": "code",
      "metadata": {
        "id": "opVgzg56mMUM",
        "outputId": "1f914d4f-9c50-4e95-8c92-0ca3994e831b",
        "colab": {
          "base_uri": "https://localhost:8080/"
        }
      },
      "source": [
        "rank_home.shape"
      ],
      "execution_count": null,
      "outputs": [
        {
          "output_type": "execute_result",
          "data": {
            "text/plain": [
              "(18609, 22)"
            ]
          },
          "metadata": {
            "tags": []
          },
          "execution_count": 88
        }
      ]
    },
    {
      "cell_type": "code",
      "metadata": {
        "id": "9YI7imcTmXQJ",
        "outputId": "8b6d7767-5c5d-4a46-f536-8c582e06f8e0",
        "colab": {
          "base_uri": "https://localhost:8080/"
        }
      },
      "source": [
        "rank_home.columns"
      ],
      "execution_count": null,
      "outputs": [
        {
          "output_type": "execute_result",
          "data": {
            "text/plain": [
              "Index(['date_x', 'home_team', 'away_team', 'home_score', 'away_score',\n",
              "       'tournament', 'city', 'country_x', 'neutral', 'goals', 'day_x', 'month',\n",
              "       'year', 'homerank', 'country_y', 'country_abrv',\n",
              "       'cur_year_avg_weighted', 'last_year_avg_weighted', 'date_y',\n",
              "       'two_year_ago_weighted', 'three_year_ago_weighted', 'day_y'],\n",
              "      dtype='object')"
            ]
          },
          "metadata": {
            "tags": []
          },
          "execution_count": 89
        }
      ]
    },
    {
      "cell_type": "code",
      "metadata": {
        "id": "kI43UViLnLur"
      },
      "source": [
        "#we take columns we need in rank_home\n",
        "#we choose columns that we only want to choose depending on our problem statement\n",
        "fifa_ranking_df = fifa_ranking_df.loc[:,['home_team', 'away_team', 'home_score', 'cur_year_avg_weighted','last_year_avg_weighted','date', \n",
        "                           'two_year_ago_weighted', 'three_year_ago_weighted']]"
      ],
      "execution_count": null,
      "outputs": []
    },
    {
      "cell_type": "code",
      "metadata": {
        "id": "FtqaYTu7ONFI",
        "outputId": "3895459f-b18d-4c71-90b2-cc5314a87427",
        "colab": {
          "base_uri": "https://localhost:8080/"
        }
      },
      "source": [
        "#  merge the away team to get the away country ranks\n",
        "rank_away = pd.merge(results_df, fifa_ranking_df, left_on=['away_team', 'date'],\n",
        "                     right_on= ['country', 'date'], how = 'inner')\n",
        "#after merging we rename our 'rank column to away rank\n",
        "rank_away.rename(columns={'rank' : 'awayrank'}, inplace=True)\n",
        "\n",
        "print(rank_away.head())"
      ],
      "execution_count": null,
      "outputs": [
        {
          "output_type": "stream",
          "text": [
            "        date home_team  ... two_year_ago_weighted  three_year_ago_weighted\n",
            "0 1993-08-08   Bolivia  ...                   0.0                      0.0\n",
            "1 1993-08-08    Brazil  ...                   0.0                      0.0\n",
            "2 1993-08-08   Ecuador  ...                   0.0                      0.0\n",
            "3 1993-08-08    Guinea  ...                   0.0                      0.0\n",
            "4 1993-08-08  Paraguay  ...                   0.0                      0.0\n",
            "\n",
            "[5 rows x 17 columns]\n"
          ],
          "name": "stdout"
        }
      ]
    },
    {
      "cell_type": "code",
      "metadata": {
        "id": "BLGYoHf6G-JU"
      },
      "source": [
        "# obtaining the columns that I will merge with the home team table\n",
        "\n",
        "final_rank_away = rank_away[['date','home_team', 'away_team', 'awayrank']]\n"
      ],
      "execution_count": null,
      "outputs": []
    },
    {
      "cell_type": "code",
      "metadata": {
        "id": "hFMnPOKFP34c"
      },
      "source": [
        " # Finally we Merge homerank dataframe and  awayrank dataframe\n",
        "\n",
        "finalrank = pd.merge(rank_home, final_rank_away, left_on = ['home_team', 'away_team', 'date'],\n",
        "                 right_on = ['home_team', 'away_team', 'date'], how = 'inner')\n"
      ],
      "execution_count": null,
      "outputs": []
    },
    {
      "cell_type": "code",
      "metadata": {
        "id": "lnuachFj-_sJ",
        "outputId": "3953f90e-f733-4466-9e0f-cd829f35d940",
        "colab": {
          "base_uri": "https://localhost:8080/"
        }
      },
      "source": [
        "finalrank.isna().sum()"
      ],
      "execution_count": null,
      "outputs": [
        {
          "output_type": "execute_result",
          "data": {
            "text/plain": [
              "date                       0\n",
              "home_team                  0\n",
              "away_team                  0\n",
              "home_score                 0\n",
              "away_score                 0\n",
              "tournament                 0\n",
              "city                       0\n",
              "country_x                  0\n",
              "neutral                    0\n",
              "goals                      0\n",
              "homerank                   0\n",
              "country_y                  0\n",
              "country_abrv               0\n",
              "cur_year_avg_weighted      0\n",
              "last_year_avg_weighted     0\n",
              "two_year_ago_weighted      0\n",
              "three_year_ago_weighted    0\n",
              "awayrank                   0\n",
              "dtype: int64"
            ]
          },
          "metadata": {
            "tags": []
          },
          "execution_count": 48
        }
      ]
    },
    {
      "cell_type": "code",
      "metadata": {
        "id": "wtKRAJEL_GHg",
        "outputId": "78f41599-398b-4bb6-abe7-d58e06b70344",
        "colab": {
          "base_uri": "https://localhost:8080/"
        }
      },
      "source": [
        "print(finalrank.shape)"
      ],
      "execution_count": null,
      "outputs": [
        {
          "output_type": "stream",
          "text": [
            "(871, 18)\n"
          ],
          "name": "stdout"
        }
      ]
    },
    {
      "cell_type": "markdown",
      "metadata": {
        "id": "fTguKF4UgyWE"
      },
      "source": [
        "###### since most of the methods are resulting in merged datasets that are either too small but we have to  go further and divide our dates into months and years and check if they join fine and also dealing with any Missing Data emanating from merging the data"
      ]
    },
    {
      "cell_type": "code",
      "metadata": {
        "id": "DxU51v4khUWi"
      },
      "source": [
        "# Reset our index so datetime_utc becomes a column\n",
        "finalrank.reset_index(inplace=True)"
      ],
      "execution_count": null,
      "outputs": []
    },
    {
      "cell_type": "code",
      "metadata": {
        "id": "SC0GNrSThie-"
      },
      "source": [
        "# Create new columns\n",
        "rank_home['day'] = rank_home['date'].dt.day\n",
        "rank_home['month'] = rank_home['date'].dt.month\n",
        "rank_home['year'] = rank_home['date'].dt.year"
      ],
      "execution_count": null,
      "outputs": []
    },
    {
      "cell_type": "code",
      "metadata": {
        "id": "08VDdCLykj1M"
      },
      "source": [
        ""
      ],
      "execution_count": null,
      "outputs": []
    },
    {
      "cell_type": "code",
      "metadata": {
        "id": "RL_VLiWFhibd"
      },
      "source": [
        "rank_away['day'] = rank_away['date'].dt.day\n",
        "rank_away['month'] = rank_away['date'].dt.month\n",
        "rank_away['year'] = rank_away['date'].dt.year"
      ],
      "execution_count": null,
      "outputs": []
    },
    {
      "cell_type": "code",
      "metadata": {
        "id": "txyYzERLizsW"
      },
      "source": [
        "final_rank_away2=[['year','month','home_team', 'away_team', 'awayrank']]"
      ],
      "execution_count": null,
      "outputs": []
    },
    {
      "cell_type": "code",
      "metadata": {
        "id": "Ue4WQWQxinS2"
      },
      "source": [
        "finalrank2=pd.merge(rank_home,rank_away, left_on = ['home_team', 'away_team', 'month','year'],\n",
        "                 right_on = ['home_team', 'away_team', 'month','year'], how = 'inner')"
      ],
      "execution_count": null,
      "outputs": []
    },
    {
      "cell_type": "code",
      "metadata": {
        "id": "PNXXPE-sQez6"
      },
      "source": [
        "# we then drop unnecessary columns in the final results data set\n",
        "\n",
        "finalrank = finalrank.drop(columns=['country_y', 'country_abrv', 'country_x',])"
      ],
      "execution_count": null,
      "outputs": []
    },
    {
      "cell_type": "code",
      "metadata": {
        "id": "q2jh4qp8iAjM",
        "outputId": "adac72bf-dcc8-4f45-e625-bf7cee128966",
        "colab": {
          "base_uri": "https://localhost:8080/"
        }
      },
      "source": [
        "finalrank2.shape"
      ],
      "execution_count": null,
      "outputs": [
        {
          "output_type": "execute_result",
          "data": {
            "text/plain": [
              "(871, 36)"
            ]
          },
          "metadata": {
            "tags": []
          },
          "execution_count": 78
        }
      ]
    },
    {
      "cell_type": "code",
      "metadata": {
        "id": "p23ql73sSRxH",
        "outputId": "61eedc29-e1b3-46ec-cacc-88a221be9701",
        "colab": {
          "base_uri": "https://localhost:8080/"
        }
      },
      "source": [
        "# checking for missing values\n",
        "finalrank.isnull().sum()"
      ],
      "execution_count": null,
      "outputs": [
        {
          "output_type": "execute_result",
          "data": {
            "text/plain": [
              "date                       0\n",
              "home_team                  0\n",
              "away_team                  0\n",
              "home_score                 0\n",
              "away_score                 0\n",
              "tournament                 0\n",
              "city                       0\n",
              "country_x                  0\n",
              "neutral                    0\n",
              "goals                      0\n",
              "homerank                   0\n",
              "country_y                  0\n",
              "country_abrv               0\n",
              "cur_year_avg_weighted      0\n",
              "last_year_avg_weighted     0\n",
              "two_year_ago_weighted      0\n",
              "three_year_ago_weighted    0\n",
              "awayrank                   0\n",
              "day                        0\n",
              "month                      0\n",
              "year                       0\n",
              "dtype: int64"
            ]
          },
          "metadata": {
            "tags": []
          },
          "execution_count": 69
        }
      ]
    },
    {
      "cell_type": "code",
      "metadata": {
        "id": "V6UxGunASdHi",
        "outputId": "4dc27325-2675-4093-ab7f-2e35552088b5",
        "colab": {
          "base_uri": "https://localhost:8080/"
        }
      },
      "source": [
        "# checking for duplicates in our dataset\n",
        "finalrank.duplicated().any()"
      ],
      "execution_count": null,
      "outputs": [
        {
          "output_type": "execute_result",
          "data": {
            "text/plain": [
              "False"
            ]
          },
          "metadata": {
            "tags": []
          },
          "execution_count": 53
        }
      ]
    },
    {
      "cell_type": "markdown",
      "metadata": {
        "id": "rF2ABPsHUtbZ"
      },
      "source": [
        "## 6. Exploratory Analysis\n",
        "#### a)Univariate Analysis"
      ]
    },
    {
      "cell_type": "code",
      "metadata": {
        "id": "-1mj6tEwYHq0",
        "outputId": "cbf43fca-0a7f-47cc-970e-f3803f83226e",
        "colab": {
          "base_uri": "https://localhost:8080/",
          "height": 297
        }
      },
      "source": [
        "# We first check stastics of each numeric variable and how far they are from the mean\n",
        "\n",
        "finalrank.describe()"
      ],
      "execution_count": null,
      "outputs": [
        {
          "output_type": "execute_result",
          "data": {
            "text/html": [
              "<div>\n",
              "<style scoped>\n",
              "    .dataframe tbody tr th:only-of-type {\n",
              "        vertical-align: middle;\n",
              "    }\n",
              "\n",
              "    .dataframe tbody tr th {\n",
              "        vertical-align: top;\n",
              "    }\n",
              "\n",
              "    .dataframe thead th {\n",
              "        text-align: right;\n",
              "    }\n",
              "</style>\n",
              "<table border=\"1\" class=\"dataframe\">\n",
              "  <thead>\n",
              "    <tr style=\"text-align: right;\">\n",
              "      <th></th>\n",
              "      <th>home_score</th>\n",
              "      <th>away_score</th>\n",
              "      <th>homerank</th>\n",
              "      <th>cur_year_avg_weighted</th>\n",
              "      <th>last_year_avg_weighted</th>\n",
              "      <th>two_year_ago_weighted</th>\n",
              "      <th>three_year_ago_weighted</th>\n",
              "      <th>awayrank</th>\n",
              "    </tr>\n",
              "  </thead>\n",
              "  <tbody>\n",
              "    <tr>\n",
              "      <th>count</th>\n",
              "      <td>871.000000</td>\n",
              "      <td>871.000000</td>\n",
              "      <td>871.000000</td>\n",
              "      <td>871.000000</td>\n",
              "      <td>871.000000</td>\n",
              "      <td>871.000000</td>\n",
              "      <td>871.000000</td>\n",
              "      <td>871.000000</td>\n",
              "    </tr>\n",
              "    <tr>\n",
              "      <th>mean</th>\n",
              "      <td>1.632606</td>\n",
              "      <td>1.004592</td>\n",
              "      <td>65.549943</td>\n",
              "      <td>19.919989</td>\n",
              "      <td>9.316820</td>\n",
              "      <td>5.700482</td>\n",
              "      <td>3.605901</td>\n",
              "      <td>69.918485</td>\n",
              "    </tr>\n",
              "    <tr>\n",
              "      <th>std</th>\n",
              "      <td>1.905960</td>\n",
              "      <td>1.154691</td>\n",
              "      <td>47.557993</td>\n",
              "      <td>84.468506</td>\n",
              "      <td>42.911114</td>\n",
              "      <td>24.565459</td>\n",
              "      <td>15.481310</td>\n",
              "      <td>50.497652</td>\n",
              "    </tr>\n",
              "    <tr>\n",
              "      <th>min</th>\n",
              "      <td>0.000000</td>\n",
              "      <td>0.000000</td>\n",
              "      <td>1.000000</td>\n",
              "      <td>0.000000</td>\n",
              "      <td>0.000000</td>\n",
              "      <td>0.000000</td>\n",
              "      <td>0.000000</td>\n",
              "      <td>1.000000</td>\n",
              "    </tr>\n",
              "    <tr>\n",
              "      <th>25%</th>\n",
              "      <td>0.000000</td>\n",
              "      <td>0.000000</td>\n",
              "      <td>27.000000</td>\n",
              "      <td>0.000000</td>\n",
              "      <td>0.000000</td>\n",
              "      <td>0.000000</td>\n",
              "      <td>0.000000</td>\n",
              "      <td>28.000000</td>\n",
              "    </tr>\n",
              "    <tr>\n",
              "      <th>50%</th>\n",
              "      <td>1.000000</td>\n",
              "      <td>1.000000</td>\n",
              "      <td>58.000000</td>\n",
              "      <td>0.000000</td>\n",
              "      <td>0.000000</td>\n",
              "      <td>0.000000</td>\n",
              "      <td>0.000000</td>\n",
              "      <td>61.000000</td>\n",
              "    </tr>\n",
              "    <tr>\n",
              "      <th>75%</th>\n",
              "      <td>2.000000</td>\n",
              "      <td>2.000000</td>\n",
              "      <td>95.000000</td>\n",
              "      <td>0.000000</td>\n",
              "      <td>0.000000</td>\n",
              "      <td>0.000000</td>\n",
              "      <td>0.000000</td>\n",
              "      <td>102.500000</td>\n",
              "    </tr>\n",
              "    <tr>\n",
              "      <th>max</th>\n",
              "      <td>31.000000</td>\n",
              "      <td>9.000000</td>\n",
              "      <td>206.000000</td>\n",
              "      <td>788.680000</td>\n",
              "      <td>504.470000</td>\n",
              "      <td>224.580000</td>\n",
              "      <td>128.000000</td>\n",
              "      <td>209.000000</td>\n",
              "    </tr>\n",
              "  </tbody>\n",
              "</table>\n",
              "</div>"
            ],
            "text/plain": [
              "       home_score  away_score  ...  three_year_ago_weighted    awayrank\n",
              "count  871.000000  871.000000  ...               871.000000  871.000000\n",
              "mean     1.632606    1.004592  ...                 3.605901   69.918485\n",
              "std      1.905960    1.154691  ...                15.481310   50.497652\n",
              "min      0.000000    0.000000  ...                 0.000000    1.000000\n",
              "25%      0.000000    0.000000  ...                 0.000000   28.000000\n",
              "50%      1.000000    1.000000  ...                 0.000000   61.000000\n",
              "75%      2.000000    2.000000  ...                 0.000000  102.500000\n",
              "max     31.000000    9.000000  ...               128.000000  209.000000\n",
              "\n",
              "[8 rows x 8 columns]"
            ]
          },
          "metadata": {
            "tags": []
          },
          "execution_count": 54
        }
      ]
    },
    {
      "cell_type": "code",
      "metadata": {
        "id": "5nnRToniXGDK",
        "outputId": "a886d2e2-7605-4518-dde1-53578d499bc4",
        "colab": {
          "base_uri": "https://localhost:8080/",
          "height": 862
        }
      },
      "source": [
        "# which grooup tournamets so that we get the values_counts and plot it to see how\n",
        "#visually distributed (spread ) it is\n",
        "tournament = finalrank['tournament'].value_counts()\n",
        "tournament = tournament[:10]\n",
        "#plotting the variable\n",
        "plt.figure(figsize = (12,14))\n",
        "sns.set_style(\"whitegrid\")\n",
        "ax = sns.barplot(y=tournament.index, x=tournament.values, palette=\"RdBu_r\", orient='h')\n",
        "ax.set_ylabel('Tournament', size=14)\n",
        "ax.set_xlabel('Number of tournament', size=14)\n",
        "ax.set_title(\"TOP 10 TYPE OF MATCH TOURNAMENTS\", fontsize=16)\n"
      ],
      "execution_count": null,
      "outputs": [
        {
          "output_type": "execute_result",
          "data": {
            "text/plain": [
              "Text(0.5, 1.0, 'TOP 10 TYPE OF MATCH TOURNAMENTS')"
            ]
          },
          "metadata": {
            "tags": []
          },
          "execution_count": 65
        },
        {
          "output_type": "display_data",
          "data": {
            "image/png": "[encoded data removed]",
            "text/plain": [
              "<Figure size 864x1008 with 1 Axes>"
            ]
          },
          "metadata": {
            "tags": []
          }
        }
      ]
    },
    {
      "cell_type": "code",
      "metadata": {
        "id": "-OWORMoGdnSI"
      },
      "source": [
        "# which grooup tournamets so that we get the values_counts and plot it to see how\n",
        "#visually distributed (spread ) it is\n",
        "tournament = finalrank['tournament'].value_counts()\n",
        "tournament = tournament[:10]\n",
        "#plotting the variable\n",
        "plt.figure(figsize = (12,14))\n",
        "sns.set_style(\"whitegrid\")\n",
        "ax = sns.barplot(y=tournament.index, x=tournament.values, palette=\"RdBu_r\", orient='h')\n",
        "ax.set_ylabel('Tournament', size=14)\n",
        "ax.set_xlabel('Number of tournament', size=14)\n",
        "ax.set_title(\"TOP 10 TYPE OF MATCH TOURNAMENTS\", fontsize=16)"
      ],
      "execution_count": null,
      "outputs": []
    },
    {
      "cell_type": "code",
      "metadata": {
        "id": "T8WMVbdtcrZx",
        "outputId": "be205efe-22a8-4c85-f65f-e21fb85ab583",
        "colab": {
          "base_uri": "https://localhost:8080/",
          "height": 231
        }
      },
      "source": [
        "# the teams that scored the most\n",
        "plt.figure(figsize = (17, 14))\n",
        "plt_data = finalrank.home_team.sort_values(by='finalrank.goals', ascending=False)[:10]\n",
        "sns.set_style(\"whitegrid\")\n",
        "ax = sns.barplot(x=\"team\", y=\"goal_avg\", data=plt_data, palette=\"Blues_r\")\n",
        "ax.set_xlabel('Team', size=16)\n",
        "ax.set_ylabel('Goal average per match', size=16)\n",
        "ax.set_title(\"TOP 10 OF GOAL AVERAGE PER MATCH\", fontsize=18)"
      ],
      "execution_count": null,
      "outputs": [
        {
          "output_type": "error",
          "ename": "NameError",
          "evalue": "ignored",
          "traceback": [
            "\u001b[0;31m---------------------------------------------------------------------------\u001b[0m",
            "\u001b[0;31mNameError\u001b[0m                                 Traceback (most recent call last)",
            "\u001b[0;32m<ipython-input-1-7f8dc754beaa>\u001b[0m in \u001b[0;36m<module>\u001b[0;34m()\u001b[0m\n\u001b[1;32m      1\u001b[0m \u001b[0;31m# the teams that scored the most\u001b[0m\u001b[0;34m\u001b[0m\u001b[0;34m\u001b[0m\u001b[0;34m\u001b[0m\u001b[0m\n\u001b[0;32m----> 2\u001b[0;31m \u001b[0mplt\u001b[0m\u001b[0;34m.\u001b[0m\u001b[0mfigure\u001b[0m\u001b[0;34m(\u001b[0m\u001b[0mfigsize\u001b[0m \u001b[0;34m=\u001b[0m \u001b[0;34m(\u001b[0m\u001b[0;36m17\u001b[0m\u001b[0;34m,\u001b[0m \u001b[0;36m14\u001b[0m\u001b[0;34m)\u001b[0m\u001b[0;34m)\u001b[0m\u001b[0;34m\u001b[0m\u001b[0;34m\u001b[0m\u001b[0m\n\u001b[0m\u001b[1;32m      3\u001b[0m \u001b[0mplt_data\u001b[0m \u001b[0;34m=\u001b[0m \u001b[0mfinalrank\u001b[0m\u001b[0;34m.\u001b[0m\u001b[0mhome_team\u001b[0m\u001b[0;34m.\u001b[0m\u001b[0msort_values\u001b[0m\u001b[0;34m(\u001b[0m\u001b[0mby\u001b[0m\u001b[0;34m=\u001b[0m\u001b[0;34m'finalrank.goals'\u001b[0m\u001b[0;34m,\u001b[0m \u001b[0mascending\u001b[0m\u001b[0;34m=\u001b[0m\u001b[0;32mFalse\u001b[0m\u001b[0;34m)\u001b[0m\u001b[0;34m[\u001b[0m\u001b[0;34m:\u001b[0m\u001b[0;36m10\u001b[0m\u001b[0;34m]\u001b[0m\u001b[0;34m\u001b[0m\u001b[0;34m\u001b[0m\u001b[0m\n\u001b[1;32m      4\u001b[0m \u001b[0msns\u001b[0m\u001b[0;34m.\u001b[0m\u001b[0mset_style\u001b[0m\u001b[0;34m(\u001b[0m\u001b[0;34m\"whitegrid\"\u001b[0m\u001b[0;34m)\u001b[0m\u001b[0;34m\u001b[0m\u001b[0;34m\u001b[0m\u001b[0m\n\u001b[1;32m      5\u001b[0m \u001b[0max\u001b[0m \u001b[0;34m=\u001b[0m \u001b[0msns\u001b[0m\u001b[0;34m.\u001b[0m\u001b[0mbarplot\u001b[0m\u001b[0;34m(\u001b[0m\u001b[0mx\u001b[0m\u001b[0;34m=\u001b[0m\u001b[0;34m\"team\"\u001b[0m\u001b[0;34m,\u001b[0m \u001b[0my\u001b[0m\u001b[0;34m=\u001b[0m\u001b[0;34m\"goal_avg\"\u001b[0m\u001b[0;34m,\u001b[0m \u001b[0mdata\u001b[0m\u001b[0;34m=\u001b[0m\u001b[0mplt_data\u001b[0m\u001b[0;34m,\u001b[0m \u001b[0mpalette\u001b[0m\u001b[0;34m=\u001b[0m\u001b[0;34m\"Blues_r\"\u001b[0m\u001b[0;34m)\u001b[0m\u001b[0;34m\u001b[0m\u001b[0;34m\u001b[0m\u001b[0m\n",
            "\u001b[0;31mNameError\u001b[0m: name 'plt' is not defined"
          ]
        }
      ]
    },
    {
      "cell_type": "code",
      "metadata": {
        "id": "Q8NxO45qiW-P",
        "outputId": "77c11258-f7e6-46c4-c336-c7ae4c7b7fee",
        "colab": {
          "base_uri": "https://localhost:8080/",
          "height": 542
        }
      },
      "source": [
        "# the top 10 teams who played the most matches\n",
        "plt.figure(figsize = (10,8))\n",
        "sns.set_style(\"whitegrid\")\n",
        "plt_data = country_info.sort_values(by='nb_matches', ascending=False)[:10]\n",
        "ax = sns.barplot(x=\"home_team\", y=\"nb_matches\", data=plt_data, palette=\"Blues_r\")\n",
        "ax.set_xlabel('Team', size=16)\n",
        "ax.set_ylabel('Number of matches', size=16)\n",
        "ax.set_title(\"TOP 10 OF NUMBER OF MATCHES\", fontsize=18)"
      ],
      "execution_count": null,
      "outputs": [
        {
          "output_type": "execute_result",
          "data": {
            "text/plain": [
              "Text(0.5, 1.0, 'TOP 10 OF NUMBER OF MATCHES')"
            ]
          },
          "metadata": {
            "tags": []
          },
          "execution_count": 57
        },
        {
          "output_type": "display_data",
          "data": {
            "image/png": "[encoded data removed]",
            "text/plain": [
              "<Figure size 720x576 with 1 Axes>"
            ]
          },
          "metadata": {
            "tags": []
          }
        }
      ]
    },
    {
      "cell_type": "code",
      "metadata": {
        "id": "kd6QoOaEiv9-",
        "outputId": "c5c39ea7-189c-472c-e96c-59f5bb00a2e6",
        "colab": {
          "base_uri": "https://localhost:8080/",
          "height": 470
        }
      },
      "source": [
        "# the top ten teams who scored the most goals\n",
        "plt.figure(figsize = (10,7))\n",
        "sns.set_style(\"whitegrid\")\n",
        "plt_data = country_info.sort_values(by='nb_goals', ascending=False)[:10]\n",
        "ax = sns.barplot(x=\"team\", y=\"nb_goals\", data=plt_data, palette=\"Blues_r\")\n",
        "ax.set_xlabel('Team', size=16)\n",
        "ax.set_ylabel('Number of goals', size=16)\n",
        "ax.set_title(\"TOP 10 OF NUMBER OF GOALS\", fontsize=18)\n",
        "\n",
        "del plt_data, country_info"
      ],
      "execution_count": null,
      "outputs": [
        {
          "output_type": "display_data",
          "data": {
            "image/png": "[encoded data removed]",
            "text/plain": [
              "<Figure size 720x504 with 1 Axes>"
            ]
          },
          "metadata": {
            "tags": []
          }
        }
      ]
    },
    {
      "cell_type": "code",
      "metadata": {
        "id": "N8xDAT6-klwd",
        "outputId": "d5e430d4-483c-459b-83b6-bcb4fb522449",
        "colab": {
          "base_uri": "https://localhost:8080/"
        }
      },
      "source": [
        "# finding the average score based on home and away\n",
        "means = finalrank[['home_score','away_score']].mean()\n",
        "means"
      ],
      "execution_count": null,
      "outputs": [
        {
          "output_type": "execute_result",
          "data": {
            "text/plain": [
              "home_score    1.632606\n",
              "away_score    1.004592\n",
              "dtype: float64"
            ]
          },
          "metadata": {
            "tags": []
          },
          "execution_count": 61
        }
      ]
    },
    {
      "cell_type": "markdown",
      "metadata": {
        "id": "ePPYvaanlNyD"
      },
      "source": [
        "we can notice that, on average, the home team scored more goals than the away team"
      ]
    },
    {
      "cell_type": "code",
      "metadata": {
        "id": "wAYwqEg-YqrA",
        "outputId": "409b5431-36f3-475a-98e4-36e250fd0af5",
        "colab": {
          "base_uri": "https://localhost:8080/",
          "height": 388
        }
      },
      "source": [
        "# Checking the pearson correlation coefficient \n",
        "\n",
        "sns.heatmap(finalrank.corr(),annot=True)\n",
        "plt.show()"
      ],
      "execution_count": null,
      "outputs": [
        {
          "output_type": "display_data",
          "data": {
            "image/png": "[encoded data removed]",
            "text/plain": [
              "<Figure size 432x288 with 2 Axes>"
            ]
          },
          "metadata": {
            "tags": []
          }
        }
      ]
    },
    {
      "cell_type": "markdown",
      "metadata": {
        "id": "vTbdjSrhVIiT"
      },
      "source": [
        "## 7. Feature Engineering"
      ]
    },
    {
      "cell_type": "markdown",
      "metadata": {
        "id": "x-snvrEMdI_4"
      },
      "source": [
        "Firstly, I'll join the matches with the ranks of the different teams.\n",
        "\n",
        "Then extract some features:\n",
        "- score and rank differences\n"
      ]
    },
    {
      "cell_type": "markdown",
      "metadata": {
        "id": "X0N6OKcSXoZ0"
      },
      "source": [
        "**Modelling using logistic regression**"
      ]
    },
    {
      "cell_type": "markdown",
      "metadata": {
        "id": "yVwnJgxuhCey"
      },
      "source": [
        "**Modelling using Polynomial approach**"
      ]
    },
    {
      "cell_type": "markdown",
      "metadata": {
        "id": "lQ2G4ZPDVOXE"
      },
      "source": [
        "## 8. Challenging the solution"
      ]
    },
    {
      "cell_type": "markdown",
      "metadata": {
        "id": "xrmHVMVsVS--"
      },
      "source": [
        "## 9. Follow up questions"
      ]
    },
    {
      "cell_type": "markdown",
      "metadata": {
        "id": "HPQviDmNtta8"
      },
      "source": [
        "### a). Did we have the right data?"
      ]
    },
    {
      "cell_type": "markdown",
      "metadata": {
        "id": "qjFHK1CKty7o"
      },
      "source": [
        "### b). Do we need other data to answer our question?"
      ]
    },
    {
      "cell_type": "markdown",
      "metadata": {
        "id": "HSsicSdvt4Zs"
      },
      "source": [
        "### c). Did we have the right question?"
      ]
    }
  ]
}