{
  "nbformat": 4,
  "nbformat_minor": 0,
  "metadata": {
    "colab": {
      "name": "fibre_safaricom_2021_analysis.ipynb",
      "provenance": [],
      "authorship_tag": "ABX9TyNd1AHCF2sButa9UjRWbglA",
      "include_colab_link": true
    },
    "kernelspec": {
      "name": "python3",
      "display_name": "Python 3"
    },
    "language_info": {
      "name": "python"
    }
  },
  "cells": [
    {
      "cell_type": "markdown",
      "metadata": {
        "id": "view-in-github",
        "colab_type": "text"
      },
      "source": [
        "<a href=\"https://colab.research.google.com/github/Eswa2020/Data-analysis-and-wrangling-various-projects/blob/master/fibre_safaricom_2021_analysis.ipynb\" target=\"_parent\"><img src=\"https://colab.research.google.com/assets/colab-badge.svg\" alt=\"Open In Colab\"/></a>"
      ]
    },
    {
      "cell_type": "markdown",
      "metadata": {
        "id": "sdL2dEE9-MJf"
      },
      "source": [
        "##  1.1 Importing packages to use "
      ]
    },
    {
      "cell_type": "code",
      "metadata": {
        "id": "zAUflrGK-NC1"
      },
      "source": [
        "#importimg our libraries to use\n",
        "import numpy as np\n",
        "import pandas as pd\n",
        "import seaborn as sns\n",
        "import matplotlib.pyplot as plt"
      ],
      "execution_count": 2,
      "outputs": []
    },
    {
      "cell_type": "markdown",
      "metadata": {
        "id": "XJ_p9GeF-bwc"
      },
      "source": [
        "##  1.2 Loading Fibre and 4G datasets"
      ]
    },
    {
      "cell_type": "code",
      "metadata": {
        "colab": {
          "base_uri": "https://localhost:8080/",
          "height": 425
        },
        "id": "OMiNEqry-jjj",
        "outputId": "63a9adf6-775a-47a8-aaa6-9aff68de518d"
      },
      "source": [
        " #let's load the fibre dataset by retriving sales of fibre from April\n",
        " fibre=pd.read_excel(r\"\",sheet_name=\"portal\")\n",
        " fibre.head()\n"
      ],
      "execution_count": 5,
      "outputs": [
        {
          "output_type": "error",
          "ename": "XLRDError",
          "evalue": "ignored",
          "traceback": [
            "\u001b[0;31m---------------------------------------------------------------------------\u001b[0m",
            "\u001b[0;31mValueError\u001b[0m                                Traceback (most recent call last)",
            "\u001b[0;32m/usr/local/lib/python3.7/dist-packages/xlrd/book.py\u001b[0m in \u001b[0;36msheet_by_name\u001b[0;34m(self, sheet_name)\u001b[0m\n\u001b[1;32m    469\u001b[0m         \u001b[0;32mtry\u001b[0m\u001b[0;34m:\u001b[0m\u001b[0;34m\u001b[0m\u001b[0;34m\u001b[0m\u001b[0m\n\u001b[0;32m--> 470\u001b[0;31m             \u001b[0msheetx\u001b[0m \u001b[0;34m=\u001b[0m \u001b[0mself\u001b[0m\u001b[0;34m.\u001b[0m\u001b[0m_sheet_names\u001b[0m\u001b[0;34m.\u001b[0m\u001b[0mindex\u001b[0m\u001b[0;34m(\u001b[0m\u001b[0msheet_name\u001b[0m\u001b[0;34m)\u001b[0m\u001b[0;34m\u001b[0m\u001b[0;34m\u001b[0m\u001b[0m\n\u001b[0m\u001b[1;32m    471\u001b[0m         \u001b[0;32mexcept\u001b[0m \u001b[0mValueError\u001b[0m\u001b[0;34m:\u001b[0m\u001b[0;34m\u001b[0m\u001b[0;34m\u001b[0m\u001b[0m\n",
            "\u001b[0;31mValueError\u001b[0m: 'portal' is not in list",
            "\nDuring handling of the above exception, another exception occurred:\n",
            "\u001b[0;31mXLRDError\u001b[0m                                 Traceback (most recent call last)",
            "\u001b[0;32m<ipython-input-5-65bf4da2ab40>\u001b[0m in \u001b[0;36m<module>\u001b[0;34m()\u001b[0m\n\u001b[1;32m      1\u001b[0m \u001b[0;31m#let's load the fibre dataset by retriving sales of fibre from Jan\u001b[0m\u001b[0;34m\u001b[0m\u001b[0;34m\u001b[0m\u001b[0;34m\u001b[0m\u001b[0m\n\u001b[0;32m----> 2\u001b[0;31m \u001b[0mfibre\u001b[0m\u001b[0;34m=\u001b[0m\u001b[0mpd\u001b[0m\u001b[0;34m.\u001b[0m\u001b[0mread_excel\u001b[0m\u001b[0;34m(\u001b[0m\u001b[0;34mr\"/content/daily_report_2015.xlsx\"\u001b[0m\u001b[0;34m,\u001b[0m\u001b[0msheet_name\u001b[0m\u001b[0;34m=\u001b[0m\u001b[0;34m\"portal\"\u001b[0m\u001b[0;34m)\u001b[0m\u001b[0;34m\u001b[0m\u001b[0;34m\u001b[0m\u001b[0m\n\u001b[0m\u001b[1;32m      3\u001b[0m \u001b[0mfibre\u001b[0m\u001b[0;34m.\u001b[0m\u001b[0mhead\u001b[0m\u001b[0;34m(\u001b[0m\u001b[0;34m)\u001b[0m\u001b[0;34m\u001b[0m\u001b[0;34m\u001b[0m\u001b[0m\n",
            "\u001b[0;32m/usr/local/lib/python3.7/dist-packages/pandas/util/_decorators.py\u001b[0m in \u001b[0;36mwrapper\u001b[0;34m(*args, **kwargs)\u001b[0m\n\u001b[1;32m    294\u001b[0m                 )\n\u001b[1;32m    295\u001b[0m                 \u001b[0mwarnings\u001b[0m\u001b[0;34m.\u001b[0m\u001b[0mwarn\u001b[0m\u001b[0;34m(\u001b[0m\u001b[0mmsg\u001b[0m\u001b[0;34m,\u001b[0m \u001b[0mFutureWarning\u001b[0m\u001b[0;34m,\u001b[0m \u001b[0mstacklevel\u001b[0m\u001b[0;34m=\u001b[0m\u001b[0mstacklevel\u001b[0m\u001b[0;34m)\u001b[0m\u001b[0;34m\u001b[0m\u001b[0;34m\u001b[0m\u001b[0m\n\u001b[0;32m--> 296\u001b[0;31m             \u001b[0;32mreturn\u001b[0m \u001b[0mfunc\u001b[0m\u001b[0;34m(\u001b[0m\u001b[0;34m*\u001b[0m\u001b[0margs\u001b[0m\u001b[0;34m,\u001b[0m \u001b[0;34m**\u001b[0m\u001b[0mkwargs\u001b[0m\u001b[0;34m)\u001b[0m\u001b[0;34m\u001b[0m\u001b[0;34m\u001b[0m\u001b[0m\n\u001b[0m\u001b[1;32m    297\u001b[0m \u001b[0;34m\u001b[0m\u001b[0m\n\u001b[1;32m    298\u001b[0m         \u001b[0;32mreturn\u001b[0m \u001b[0mwrapper\u001b[0m\u001b[0;34m\u001b[0m\u001b[0;34m\u001b[0m\u001b[0m\n",
            "\u001b[0;32m/usr/local/lib/python3.7/dist-packages/pandas/io/excel/_base.py\u001b[0m in \u001b[0;36mread_excel\u001b[0;34m(io, sheet_name, header, names, index_col, usecols, squeeze, dtype, engine, converters, true_values, false_values, skiprows, nrows, na_values, keep_default_na, na_filter, verbose, parse_dates, date_parser, thousands, comment, skipfooter, convert_float, mangle_dupe_cols)\u001b[0m\n\u001b[1;32m    332\u001b[0m         \u001b[0mskipfooter\u001b[0m\u001b[0;34m=\u001b[0m\u001b[0mskipfooter\u001b[0m\u001b[0;34m,\u001b[0m\u001b[0;34m\u001b[0m\u001b[0;34m\u001b[0m\u001b[0m\n\u001b[1;32m    333\u001b[0m         \u001b[0mconvert_float\u001b[0m\u001b[0;34m=\u001b[0m\u001b[0mconvert_float\u001b[0m\u001b[0;34m,\u001b[0m\u001b[0;34m\u001b[0m\u001b[0;34m\u001b[0m\u001b[0m\n\u001b[0;32m--> 334\u001b[0;31m         \u001b[0mmangle_dupe_cols\u001b[0m\u001b[0;34m=\u001b[0m\u001b[0mmangle_dupe_cols\u001b[0m\u001b[0;34m,\u001b[0m\u001b[0;34m\u001b[0m\u001b[0;34m\u001b[0m\u001b[0m\n\u001b[0m\u001b[1;32m    335\u001b[0m     )\n\u001b[1;32m    336\u001b[0m \u001b[0;34m\u001b[0m\u001b[0m\n",
            "\u001b[0;32m/usr/local/lib/python3.7/dist-packages/pandas/io/excel/_base.py\u001b[0m in \u001b[0;36mparse\u001b[0;34m(self, sheet_name, header, names, index_col, usecols, squeeze, converters, true_values, false_values, skiprows, nrows, na_values, parse_dates, date_parser, thousands, comment, skipfooter, convert_float, mangle_dupe_cols, **kwds)\u001b[0m\n\u001b[1;32m    924\u001b[0m             \u001b[0mconvert_float\u001b[0m\u001b[0;34m=\u001b[0m\u001b[0mconvert_float\u001b[0m\u001b[0;34m,\u001b[0m\u001b[0;34m\u001b[0m\u001b[0;34m\u001b[0m\u001b[0m\n\u001b[1;32m    925\u001b[0m             \u001b[0mmangle_dupe_cols\u001b[0m\u001b[0;34m=\u001b[0m\u001b[0mmangle_dupe_cols\u001b[0m\u001b[0;34m,\u001b[0m\u001b[0;34m\u001b[0m\u001b[0;34m\u001b[0m\u001b[0m\n\u001b[0;32m--> 926\u001b[0;31m             \u001b[0;34m**\u001b[0m\u001b[0mkwds\u001b[0m\u001b[0;34m,\u001b[0m\u001b[0;34m\u001b[0m\u001b[0;34m\u001b[0m\u001b[0m\n\u001b[0m\u001b[1;32m    927\u001b[0m         )\n\u001b[1;32m    928\u001b[0m \u001b[0;34m\u001b[0m\u001b[0m\n",
            "\u001b[0;32m/usr/local/lib/python3.7/dist-packages/pandas/io/excel/_base.py\u001b[0m in \u001b[0;36mparse\u001b[0;34m(self, sheet_name, header, names, index_col, usecols, squeeze, dtype, true_values, false_values, skiprows, nrows, na_values, verbose, parse_dates, date_parser, thousands, comment, skipfooter, convert_float, mangle_dupe_cols, **kwds)\u001b[0m\n\u001b[1;32m    437\u001b[0m \u001b[0;34m\u001b[0m\u001b[0m\n\u001b[1;32m    438\u001b[0m             \u001b[0;32mif\u001b[0m \u001b[0misinstance\u001b[0m\u001b[0;34m(\u001b[0m\u001b[0masheetname\u001b[0m\u001b[0;34m,\u001b[0m \u001b[0mstr\u001b[0m\u001b[0;34m)\u001b[0m\u001b[0;34m:\u001b[0m\u001b[0;34m\u001b[0m\u001b[0;34m\u001b[0m\u001b[0m\n\u001b[0;32m--> 439\u001b[0;31m                 \u001b[0msheet\u001b[0m \u001b[0;34m=\u001b[0m \u001b[0mself\u001b[0m\u001b[0;34m.\u001b[0m\u001b[0mget_sheet_by_name\u001b[0m\u001b[0;34m(\u001b[0m\u001b[0masheetname\u001b[0m\u001b[0;34m)\u001b[0m\u001b[0;34m\u001b[0m\u001b[0;34m\u001b[0m\u001b[0m\n\u001b[0m\u001b[1;32m    440\u001b[0m             \u001b[0;32melse\u001b[0m\u001b[0;34m:\u001b[0m  \u001b[0;31m# assume an integer if not a string\u001b[0m\u001b[0;34m\u001b[0m\u001b[0;34m\u001b[0m\u001b[0m\n\u001b[1;32m    441\u001b[0m                 \u001b[0msheet\u001b[0m \u001b[0;34m=\u001b[0m \u001b[0mself\u001b[0m\u001b[0;34m.\u001b[0m\u001b[0mget_sheet_by_index\u001b[0m\u001b[0;34m(\u001b[0m\u001b[0masheetname\u001b[0m\u001b[0;34m)\u001b[0m\u001b[0;34m\u001b[0m\u001b[0;34m\u001b[0m\u001b[0m\n",
            "\u001b[0;32m/usr/local/lib/python3.7/dist-packages/pandas/io/excel/_xlrd.py\u001b[0m in \u001b[0;36mget_sheet_by_name\u001b[0;34m(self, name)\u001b[0m\n\u001b[1;32m     42\u001b[0m \u001b[0;34m\u001b[0m\u001b[0m\n\u001b[1;32m     43\u001b[0m     \u001b[0;32mdef\u001b[0m \u001b[0mget_sheet_by_name\u001b[0m\u001b[0;34m(\u001b[0m\u001b[0mself\u001b[0m\u001b[0;34m,\u001b[0m \u001b[0mname\u001b[0m\u001b[0;34m)\u001b[0m\u001b[0;34m:\u001b[0m\u001b[0;34m\u001b[0m\u001b[0;34m\u001b[0m\u001b[0m\n\u001b[0;32m---> 44\u001b[0;31m         \u001b[0;32mreturn\u001b[0m \u001b[0mself\u001b[0m\u001b[0;34m.\u001b[0m\u001b[0mbook\u001b[0m\u001b[0;34m.\u001b[0m\u001b[0msheet_by_name\u001b[0m\u001b[0;34m(\u001b[0m\u001b[0mname\u001b[0m\u001b[0;34m)\u001b[0m\u001b[0;34m\u001b[0m\u001b[0;34m\u001b[0m\u001b[0m\n\u001b[0m\u001b[1;32m     45\u001b[0m \u001b[0;34m\u001b[0m\u001b[0m\n\u001b[1;32m     46\u001b[0m     \u001b[0;32mdef\u001b[0m \u001b[0mget_sheet_by_index\u001b[0m\u001b[0;34m(\u001b[0m\u001b[0mself\u001b[0m\u001b[0;34m,\u001b[0m \u001b[0mindex\u001b[0m\u001b[0;34m)\u001b[0m\u001b[0;34m:\u001b[0m\u001b[0;34m\u001b[0m\u001b[0;34m\u001b[0m\u001b[0m\n",
            "\u001b[0;32m/usr/local/lib/python3.7/dist-packages/xlrd/book.py\u001b[0m in \u001b[0;36msheet_by_name\u001b[0;34m(self, sheet_name)\u001b[0m\n\u001b[1;32m    470\u001b[0m             \u001b[0msheetx\u001b[0m \u001b[0;34m=\u001b[0m \u001b[0mself\u001b[0m\u001b[0;34m.\u001b[0m\u001b[0m_sheet_names\u001b[0m\u001b[0;34m.\u001b[0m\u001b[0mindex\u001b[0m\u001b[0;34m(\u001b[0m\u001b[0msheet_name\u001b[0m\u001b[0;34m)\u001b[0m\u001b[0;34m\u001b[0m\u001b[0;34m\u001b[0m\u001b[0m\n\u001b[1;32m    471\u001b[0m         \u001b[0;32mexcept\u001b[0m \u001b[0mValueError\u001b[0m\u001b[0;34m:\u001b[0m\u001b[0;34m\u001b[0m\u001b[0;34m\u001b[0m\u001b[0m\n\u001b[0;32m--> 472\u001b[0;31m             \u001b[0;32mraise\u001b[0m \u001b[0mXLRDError\u001b[0m\u001b[0;34m(\u001b[0m\u001b[0;34m'No sheet named <%r>'\u001b[0m \u001b[0;34m%\u001b[0m \u001b[0msheet_name\u001b[0m\u001b[0;34m)\u001b[0m\u001b[0;34m\u001b[0m\u001b[0;34m\u001b[0m\u001b[0m\n\u001b[0m\u001b[1;32m    473\u001b[0m         \u001b[0;32mreturn\u001b[0m \u001b[0mself\u001b[0m\u001b[0;34m.\u001b[0m\u001b[0msheet_by_index\u001b[0m\u001b[0;34m(\u001b[0m\u001b[0msheetx\u001b[0m\u001b[0;34m)\u001b[0m\u001b[0;34m\u001b[0m\u001b[0;34m\u001b[0m\u001b[0m\n\u001b[1;32m    474\u001b[0m \u001b[0;34m\u001b[0m\u001b[0m\n",
            "\u001b[0;31mXLRDError\u001b[0m: No sheet named <'portal'>"
          ]
        }
      ]
    },
    {
      "cell_type": "code",
      "metadata": {
        "id": "mzx-hFbnFgxr",
        "colab": {
          "base_uri": "https://localhost:8080/",
          "height": 411
        },
        "outputId": "c2dec291-97dc-49a5-b50d-b58f1ccf3fc6"
      },
      "source": [
        "#let's load the 4g dataset by retriving sales of 4G from Jan\n",
        "four_g=pd.read_excel(r\"/content/daily_reports_2021.xlsx\",sheet_name=\"4graw\")\n",
        "four_g.head()\n"
      ],
      "execution_count": null,
      "outputs": [
        {
          "output_type": "execute_result",
          "data": {
            "text/html": [
              "<div>\n",
              "<style scoped>\n",
              "    .dataframe tbody tr th:only-of-type {\n",
              "        vertical-align: middle;\n",
              "    }\n",
              "\n",
              "    .dataframe tbody tr th {\n",
              "        vertical-align: top;\n",
              "    }\n",
              "\n",
              "    .dataframe thead th {\n",
              "        text-align: right;\n",
              "    }\n",
              "</style>\n",
              "<table border=\"1\" class=\"dataframe\">\n",
              "  <thead>\n",
              "    <tr style=\"text-align: right;\">\n",
              "      <th></th>\n",
              "      <th>#</th>\n",
              "      <th>CUST_ID</th>\n",
              "      <th>PMNT_DATE</th>\n",
              "      <th>SPNSR_MSISDN</th>\n",
              "      <th>BNFCR_MSISDN</th>\n",
              "      <th>ID_PDSV</th>\n",
              "      <th>DS_PDSV</th>\n",
              "      <th>ESTE_ID</th>\n",
              "      <th>ESTE_NAME</th>\n",
              "      <th>REGN_ID</th>\n",
              "      <th>REGN_NAME</th>\n",
              "      <th>ZONE_ID</th>\n",
              "      <th>ZONE_NAME</th>\n",
              "      <th>SERL_NUMBER</th>\n",
              "      <th>ROUT_PRCE</th>\n",
              "      <th>AGNCY_NAME</th>\n",
              "      <th>USER_NAME</th>\n",
              "      <th>FIRST_NAME</th>\n",
              "      <th>LAST_NAME</th>\n",
              "      <th>MSISDN</th>\n",
              "      <th>DLER_CODE</th>\n",
              "      <th>FULL NAME</th>\n",
              "      <th>CHANNEL</th>\n",
              "      <th>DATE</th>\n",
              "      <th>MONTH</th>\n",
              "      <th>ZONE</th>\n",
              "    </tr>\n",
              "  </thead>\n",
              "  <tbody>\n",
              "    <tr>\n",
              "      <th>0</th>\n",
              "      <td>3591</td>\n",
              "      <td>4229</td>\n",
              "      <td>2021-04-01 09:17:25</td>\n",
              "      <td>721202782</td>\n",
              "      <td>769007430.0</td>\n",
              "      <td>20191909</td>\n",
              "      <td>4G For Home 3Mbps</td>\n",
              "      <td>53884</td>\n",
              "      <td>NOT AVAILABLE</td>\n",
              "      <td>5</td>\n",
              "      <td>Rift</td>\n",
              "      <td>273</td>\n",
              "      <td>ELDORET CBD</td>\n",
              "      <td>860415046725742</td>\n",
              "      <td>12000</td>\n",
              "      <td>Eldoret 1</td>\n",
              "      <td>NaN</td>\n",
              "      <td>NaN</td>\n",
              "      <td>NaN</td>\n",
              "      <td>NaN</td>\n",
              "      <td>NaN</td>\n",
              "      <td></td>\n",
              "      <td>Retail</td>\n",
              "      <td>2021-04-01</td>\n",
              "      <td>April</td>\n",
              "      <td>NaN</td>\n",
              "    </tr>\n",
              "    <tr>\n",
              "      <th>1</th>\n",
              "      <td>3592</td>\n",
              "      <td>4230</td>\n",
              "      <td>2021-04-01 09:56:27</td>\n",
              "      <td>725032558</td>\n",
              "      <td>746729798.0</td>\n",
              "      <td>20191909</td>\n",
              "      <td>4G For Home 3Mbps</td>\n",
              "      <td>53752</td>\n",
              "      <td>NOT AVAILABLE</td>\n",
              "      <td>3</td>\n",
              "      <td>Nairobi East</td>\n",
              "      <td>141</td>\n",
              "      <td>SYOKIMAU</td>\n",
              "      <td>860415047376164</td>\n",
              "      <td>12000</td>\n",
              "      <td>Moi Avenue Retail Centre</td>\n",
              "      <td>NaN</td>\n",
              "      <td>NaN</td>\n",
              "      <td>NaN</td>\n",
              "      <td>NaN</td>\n",
              "      <td>10011</td>\n",
              "      <td></td>\n",
              "      <td>Retail</td>\n",
              "      <td>2021-04-01</td>\n",
              "      <td>April</td>\n",
              "      <td>NaN</td>\n",
              "    </tr>\n",
              "    <tr>\n",
              "      <th>2</th>\n",
              "      <td>3590</td>\n",
              "      <td>4209</td>\n",
              "      <td>2021-04-01 10:21:53</td>\n",
              "      <td>722442950</td>\n",
              "      <td>796782699.0</td>\n",
              "      <td>20191710</td>\n",
              "      <td>4G For Home 5Mbps</td>\n",
              "      <td>53666</td>\n",
              "      <td>NOT AVAILABLE</td>\n",
              "      <td>7</td>\n",
              "      <td>Western</td>\n",
              "      <td>55</td>\n",
              "      <td>KAKAMEGA NORTH</td>\n",
              "      <td>860415047392310</td>\n",
              "      <td>12000</td>\n",
              "      <td>Kakakamega Retail Shop</td>\n",
              "      <td>NaN</td>\n",
              "      <td>NaN</td>\n",
              "      <td>NaN</td>\n",
              "      <td>NaN</td>\n",
              "      <td>10001</td>\n",
              "      <td></td>\n",
              "      <td>Retail</td>\n",
              "      <td>2021-04-01</td>\n",
              "      <td>April</td>\n",
              "      <td>NaN</td>\n",
              "    </tr>\n",
              "    <tr>\n",
              "      <th>3</th>\n",
              "      <td>3611</td>\n",
              "      <td>4210</td>\n",
              "      <td>2021-04-01 10:24:13</td>\n",
              "      <td>726770068</td>\n",
              "      <td>729550586.0</td>\n",
              "      <td>20191710</td>\n",
              "      <td>4G For Home 5Mbps</td>\n",
              "      <td>53771</td>\n",
              "      <td>NOT AVAILABLE</td>\n",
              "      <td>3</td>\n",
              "      <td>Nairobi East</td>\n",
              "      <td>160</td>\n",
              "      <td>RONGAI</td>\n",
              "      <td>860415047378152</td>\n",
              "      <td>12000</td>\n",
              "      <td>The Hub Retail Center</td>\n",
              "      <td>NaN</td>\n",
              "      <td>NaN</td>\n",
              "      <td>NaN</td>\n",
              "      <td>NaN</td>\n",
              "      <td>10051</td>\n",
              "      <td></td>\n",
              "      <td>Retail</td>\n",
              "      <td>2021-04-01</td>\n",
              "      <td>April</td>\n",
              "      <td>NaN</td>\n",
              "    </tr>\n",
              "    <tr>\n",
              "      <th>4</th>\n",
              "      <td>3593</td>\n",
              "      <td>4231</td>\n",
              "      <td>2021-04-01 10:32:18</td>\n",
              "      <td>721129938</td>\n",
              "      <td>743296146.0</td>\n",
              "      <td>20191909</td>\n",
              "      <td>4G For Home 3Mbps</td>\n",
              "      <td>53743</td>\n",
              "      <td>NOT AVAILABLE</td>\n",
              "      <td>4</td>\n",
              "      <td>Mt Kenya</td>\n",
              "      <td>132</td>\n",
              "      <td>GARISSA CBD</td>\n",
              "      <td>860415046734231</td>\n",
              "      <td>12000</td>\n",
              "      <td>Garissa Shop</td>\n",
              "      <td>NaN</td>\n",
              "      <td>NaN</td>\n",
              "      <td>NaN</td>\n",
              "      <td>NaN</td>\n",
              "      <td>NaN</td>\n",
              "      <td></td>\n",
              "      <td>Retail</td>\n",
              "      <td>2021-04-01</td>\n",
              "      <td>April</td>\n",
              "      <td>NaN</td>\n",
              "    </tr>\n",
              "  </tbody>\n",
              "</table>\n",
              "</div>"
            ],
            "text/plain": [
              "      #  CUST_ID           PMNT_DATE  ...       DATE  MONTH  ZONE\n",
              "0  3591     4229 2021-04-01 09:17:25  ... 2021-04-01  April   NaN\n",
              "1  3592     4230 2021-04-01 09:56:27  ... 2021-04-01  April   NaN\n",
              "2  3590     4209 2021-04-01 10:21:53  ... 2021-04-01  April   NaN\n",
              "3  3611     4210 2021-04-01 10:24:13  ... 2021-04-01  April   NaN\n",
              "4  3593     4231 2021-04-01 10:32:18  ... 2021-04-01  April   NaN\n",
              "\n",
              "[5 rows x 26 columns]"
            ]
          },
          "metadata": {},
          "execution_count": 3
        }
      ]
    },
    {
      "cell_type": "markdown",
      "metadata": {
        "id": "dNqLlkXAF4gN"
      },
      "source": [
        "##  1.3 Explore our Fibre dataset"
      ]
    },
    {
      "cell_type": "code",
      "metadata": {
        "colab": {
          "base_uri": "https://localhost:8080/"
        },
        "id": "hhL0N-3QIgrm",
        "outputId": "293ae472-794f-44c5-de5e-67098ef04c3b"
      },
      "source": [
        "#we first check how many rows and columns we have and how big or small our dataset is\n",
        "#from results of the shape it means there are more excel sheets that have not loaded\n",
        "print(fibre.shape)"
      ],
      "execution_count": null,
      "outputs": [
        {
          "output_type": "stream",
          "name": "stdout",
          "text": [
            "(54668, 43)\n"
          ]
        }
      ]
    },
    {
      "cell_type": "code",
      "metadata": {
        "colab": {
          "base_uri": "https://localhost:8080/",
          "height": 326
        },
        "id": "bFp3_x5EJlu-",
        "outputId": "c965d8ab-c573-45de-c2d3-6f518b078aab"
      },
      "source": [
        "#we the last column number\n",
        "fibre.tail()"
      ],
      "execution_count": null,
      "outputs": [
        {
          "output_type": "execute_result",
          "data": {
            "text/html": [
              "<div>\n",
              "<style scoped>\n",
              "    .dataframe tbody tr th:only-of-type {\n",
              "        vertical-align: middle;\n",
              "    }\n",
              "\n",
              "    .dataframe tbody tr th {\n",
              "        vertical-align: top;\n",
              "    }\n",
              "\n",
              "    .dataframe thead th {\n",
              "        text-align: right;\n",
              "    }\n",
              "</style>\n",
              "<table border=\"1\" class=\"dataframe\">\n",
              "  <thead>\n",
              "    <tr style=\"text-align: right;\">\n",
              "      <th></th>\n",
              "      <th>CI</th>\n",
              "      <th>CUSTOMER_FIRST_NAME</th>\n",
              "      <th>CUSTOMER_LAST_NAME</th>\n",
              "      <th>CUSTOMER_MSISDN</th>\n",
              "      <th>CUSTOMER_EMAIL</th>\n",
              "      <th>HOUSE_NUMBER</th>\n",
              "      <th>SALE_DATE</th>\n",
              "      <th>CRQ_NUMBER</th>\n",
              "      <th>PAYMENT_STATUS</th>\n",
              "      <th>PAYMENT DATE</th>\n",
              "      <th>REMEDY_STATUS</th>\n",
              "      <th>REMEDY_DATE</th>\n",
              "      <th>CUSTOMER_IDENTIFICATION_STATUS</th>\n",
              "      <th>CUSTOMER_IDENTIFICATION_DATE</th>\n",
              "      <th>IPCC_WHITELIST_STATUS</th>\n",
              "      <th>IPCC_WHITELIST_DATE</th>\n",
              "      <th>CRQ_CLOSURE_STATUS</th>\n",
              "      <th>CRQ_CLOSURE_DATE</th>\n",
              "      <th>PROVISIONING_STATUS</th>\n",
              "      <th>PROVISIONING_DATE</th>\n",
              "      <th>RECORDED_BY</th>\n",
              "      <th>ONT_SERIAL_NO</th>\n",
              "      <th>SR_NUMBER</th>\n",
              "      <th>SR_STATUS</th>\n",
              "      <th>IPCC_STATUS_DETAILS</th>\n",
              "      <th>AGENT_FIRST_NAME</th>\n",
              "      <th>AGENT_LAST_NAME</th>\n",
              "      <th>AGENT_MSISDN</th>\n",
              "      <th>ESTATE_NAME</th>\n",
              "      <th>AGENCY_NAME</th>\n",
              "      <th>CONTRACTOR_NAME</th>\n",
              "      <th>SERVICE_PLAN_NAME</th>\n",
              "      <th>REGION_NAME</th>\n",
              "      <th>FULL NAMES</th>\n",
              "      <th>ZONE</th>\n",
              "      <th>TIER</th>\n",
              "      <th>CHANNEL</th>\n",
              "      <th>DATE</th>\n",
              "      <th>Month</th>\n",
              "      <th>STATUS</th>\n",
              "      <th>MONTH CONNECTIONS</th>\n",
              "      <th>Zoned/Unzoned</th>\n",
              "      <th>SUBZONES</th>\n",
              "    </tr>\n",
              "  </thead>\n",
              "  <tbody>\n",
              "    <tr>\n",
              "      <th>54663</th>\n",
              "      <td>NaN</td>\n",
              "      <td>NaN</td>\n",
              "      <td>NaN</td>\n",
              "      <td>NaN</td>\n",
              "      <td>NaN</td>\n",
              "      <td>NaN</td>\n",
              "      <td>NaT</td>\n",
              "      <td>NaN</td>\n",
              "      <td>NaN</td>\n",
              "      <td>NaT</td>\n",
              "      <td>NaN</td>\n",
              "      <td>NaT</td>\n",
              "      <td>NaN</td>\n",
              "      <td>NaN</td>\n",
              "      <td>NaN</td>\n",
              "      <td>NaT</td>\n",
              "      <td>NaN</td>\n",
              "      <td>NaN</td>\n",
              "      <td>NaN</td>\n",
              "      <td>NaN</td>\n",
              "      <td>NaN</td>\n",
              "      <td>NaN</td>\n",
              "      <td>NaN</td>\n",
              "      <td>NaN</td>\n",
              "      <td>NaN</td>\n",
              "      <td>NaN</td>\n",
              "      <td>NaN</td>\n",
              "      <td>NaN</td>\n",
              "      <td>NaN</td>\n",
              "      <td>NaN</td>\n",
              "      <td>NaN</td>\n",
              "      <td>NaN</td>\n",
              "      <td>NaN</td>\n",
              "      <td></td>\n",
              "      <td>NaN</td>\n",
              "      <td>NaN</td>\n",
              "      <td>NaN</td>\n",
              "      <td>NaT</td>\n",
              "      <td>NaN</td>\n",
              "      <td>PENDING CONNECTION</td>\n",
              "      <td>PENDING CONNECTION</td>\n",
              "      <td>NaN</td>\n",
              "      <td>NaN</td>\n",
              "    </tr>\n",
              "    <tr>\n",
              "      <th>54664</th>\n",
              "      <td>NaN</td>\n",
              "      <td>NaN</td>\n",
              "      <td>NaN</td>\n",
              "      <td>NaN</td>\n",
              "      <td>NaN</td>\n",
              "      <td>NaN</td>\n",
              "      <td>NaT</td>\n",
              "      <td>NaN</td>\n",
              "      <td>NaN</td>\n",
              "      <td>NaT</td>\n",
              "      <td>NaN</td>\n",
              "      <td>NaT</td>\n",
              "      <td>NaN</td>\n",
              "      <td>NaN</td>\n",
              "      <td>NaN</td>\n",
              "      <td>NaT</td>\n",
              "      <td>NaN</td>\n",
              "      <td>NaN</td>\n",
              "      <td>NaN</td>\n",
              "      <td>NaN</td>\n",
              "      <td>NaN</td>\n",
              "      <td>NaN</td>\n",
              "      <td>NaN</td>\n",
              "      <td>NaN</td>\n",
              "      <td>NaN</td>\n",
              "      <td>NaN</td>\n",
              "      <td>NaN</td>\n",
              "      <td>NaN</td>\n",
              "      <td>NaN</td>\n",
              "      <td>NaN</td>\n",
              "      <td>NaN</td>\n",
              "      <td>NaN</td>\n",
              "      <td>NaN</td>\n",
              "      <td></td>\n",
              "      <td>NaN</td>\n",
              "      <td>NaN</td>\n",
              "      <td>NaN</td>\n",
              "      <td>NaT</td>\n",
              "      <td>NaN</td>\n",
              "      <td>PENDING CONNECTION</td>\n",
              "      <td>PENDING CONNECTION</td>\n",
              "      <td>NaN</td>\n",
              "      <td>NaN</td>\n",
              "    </tr>\n",
              "    <tr>\n",
              "      <th>54665</th>\n",
              "      <td>NaN</td>\n",
              "      <td>NaN</td>\n",
              "      <td>NaN</td>\n",
              "      <td>NaN</td>\n",
              "      <td>NaN</td>\n",
              "      <td>NaN</td>\n",
              "      <td>NaT</td>\n",
              "      <td>NaN</td>\n",
              "      <td>NaN</td>\n",
              "      <td>NaT</td>\n",
              "      <td>NaN</td>\n",
              "      <td>NaT</td>\n",
              "      <td>NaN</td>\n",
              "      <td>NaN</td>\n",
              "      <td>NaN</td>\n",
              "      <td>NaT</td>\n",
              "      <td>NaN</td>\n",
              "      <td>NaN</td>\n",
              "      <td>NaN</td>\n",
              "      <td>NaN</td>\n",
              "      <td>NaN</td>\n",
              "      <td>NaN</td>\n",
              "      <td>NaN</td>\n",
              "      <td>NaN</td>\n",
              "      <td>NaN</td>\n",
              "      <td>NaN</td>\n",
              "      <td>NaN</td>\n",
              "      <td>NaN</td>\n",
              "      <td>NaN</td>\n",
              "      <td>NaN</td>\n",
              "      <td>NaN</td>\n",
              "      <td>NaN</td>\n",
              "      <td>NaN</td>\n",
              "      <td></td>\n",
              "      <td>NaN</td>\n",
              "      <td>NaN</td>\n",
              "      <td>NaN</td>\n",
              "      <td>NaT</td>\n",
              "      <td>NaN</td>\n",
              "      <td>PENDING CONNECTION</td>\n",
              "      <td>PENDING CONNECTION</td>\n",
              "      <td>NaN</td>\n",
              "      <td>NaN</td>\n",
              "    </tr>\n",
              "    <tr>\n",
              "      <th>54666</th>\n",
              "      <td>NaN</td>\n",
              "      <td>NaN</td>\n",
              "      <td>NaN</td>\n",
              "      <td>NaN</td>\n",
              "      <td>NaN</td>\n",
              "      <td>NaN</td>\n",
              "      <td>NaT</td>\n",
              "      <td>NaN</td>\n",
              "      <td>NaN</td>\n",
              "      <td>NaT</td>\n",
              "      <td>NaN</td>\n",
              "      <td>NaT</td>\n",
              "      <td>NaN</td>\n",
              "      <td>NaN</td>\n",
              "      <td>NaN</td>\n",
              "      <td>NaT</td>\n",
              "      <td>NaN</td>\n",
              "      <td>NaN</td>\n",
              "      <td>NaN</td>\n",
              "      <td>NaN</td>\n",
              "      <td>NaN</td>\n",
              "      <td>NaN</td>\n",
              "      <td>NaN</td>\n",
              "      <td>NaN</td>\n",
              "      <td>NaN</td>\n",
              "      <td>NaN</td>\n",
              "      <td>NaN</td>\n",
              "      <td>NaN</td>\n",
              "      <td>NaN</td>\n",
              "      <td>NaN</td>\n",
              "      <td>NaN</td>\n",
              "      <td>NaN</td>\n",
              "      <td>NaN</td>\n",
              "      <td></td>\n",
              "      <td>NaN</td>\n",
              "      <td>NaN</td>\n",
              "      <td>NaN</td>\n",
              "      <td>NaT</td>\n",
              "      <td>NaN</td>\n",
              "      <td>PENDING CONNECTION</td>\n",
              "      <td>PENDING CONNECTION</td>\n",
              "      <td>NaN</td>\n",
              "      <td>NaN</td>\n",
              "    </tr>\n",
              "    <tr>\n",
              "      <th>54667</th>\n",
              "      <td>NaN</td>\n",
              "      <td>NaN</td>\n",
              "      <td>NaN</td>\n",
              "      <td>NaN</td>\n",
              "      <td>NaN</td>\n",
              "      <td>NaN</td>\n",
              "      <td>NaT</td>\n",
              "      <td>NaN</td>\n",
              "      <td>NaN</td>\n",
              "      <td>NaT</td>\n",
              "      <td>NaN</td>\n",
              "      <td>NaT</td>\n",
              "      <td>NaN</td>\n",
              "      <td>NaN</td>\n",
              "      <td>NaN</td>\n",
              "      <td>NaT</td>\n",
              "      <td>NaN</td>\n",
              "      <td>NaN</td>\n",
              "      <td>NaN</td>\n",
              "      <td>NaN</td>\n",
              "      <td>NaN</td>\n",
              "      <td>NaN</td>\n",
              "      <td>NaN</td>\n",
              "      <td>NaN</td>\n",
              "      <td>NaN</td>\n",
              "      <td>NaN</td>\n",
              "      <td>NaN</td>\n",
              "      <td>NaN</td>\n",
              "      <td>NaN</td>\n",
              "      <td>NaN</td>\n",
              "      <td>NaN</td>\n",
              "      <td>NaN</td>\n",
              "      <td>NaN</td>\n",
              "      <td></td>\n",
              "      <td>NaN</td>\n",
              "      <td>NaN</td>\n",
              "      <td>NaN</td>\n",
              "      <td>NaT</td>\n",
              "      <td>NaN</td>\n",
              "      <td>PENDING CONNECTION</td>\n",
              "      <td>PENDING CONNECTION</td>\n",
              "      <td>NaN</td>\n",
              "      <td>NaN</td>\n",
              "    </tr>\n",
              "  </tbody>\n",
              "</table>\n",
              "</div>"
            ],
            "text/plain": [
              "       CI CUSTOMER_FIRST_NAME  ... Zoned/Unzoned  SUBZONES\n",
              "54663 NaN                 NaN  ...           NaN       NaN\n",
              "54664 NaN                 NaN  ...           NaN       NaN\n",
              "54665 NaN                 NaN  ...           NaN       NaN\n",
              "54666 NaN                 NaN  ...           NaN       NaN\n",
              "54667 NaN                 NaN  ...           NaN       NaN\n",
              "\n",
              "[5 rows x 43 columns]"
            ]
          },
          "metadata": {},
          "execution_count": 27
        }
      ]
    },
    {
      "cell_type": "code",
      "metadata": {
        "colab": {
          "base_uri": "https://localhost:8080/"
        },
        "id": "a05iZ0YaH4CW",
        "outputId": "cfb392de-cb27-440f-82bd-4fbe0ba0b3a7"
      },
      "source": [
        "#check the all the columns we have\n",
        "\n",
        "print(fibre.columns.tolist())"
      ],
      "execution_count": null,
      "outputs": [
        {
          "output_type": "stream",
          "name": "stdout",
          "text": [
            "['CI', 'CUSTOMER_FIRST_NAME', 'CUSTOMER_LAST_NAME', 'CUSTOMER_MSISDN', 'CUSTOMER_EMAIL', 'HOUSE_NUMBER', 'SALE_DATE', 'CRQ_NUMBER', 'PAYMENT_STATUS', 'PAYMENT DATE', 'REMEDY_STATUS', 'REMEDY_DATE', 'CUSTOMER_IDENTIFICATION_STATUS', 'CUSTOMER_IDENTIFICATION_DATE', 'IPCC_WHITELIST_STATUS', 'IPCC_WHITELIST_DATE', 'CRQ_CLOSURE_STATUS', 'CRQ_CLOSURE_DATE', 'PROVISIONING_STATUS', 'PROVISIONING_DATE', 'RECORDED_BY', 'ONT_SERIAL_NO', 'SR_NUMBER', 'SR_STATUS', 'IPCC_STATUS_DETAILS', 'AGENT_FIRST_NAME', 'AGENT_LAST_NAME', 'AGENT_MSISDN', 'ESTATE_NAME', 'AGENCY_NAME', 'CONTRACTOR_NAME', 'SERVICE_PLAN_NAME', 'REGION_NAME', 'FULL NAMES', 'ZONE', 'TIER', 'CHANNEL', 'DATE', 'Month', 'STATUS', 'MONTH CONNECTIONS', 'Zoned/Unzoned', 'SUBZONES']\n"
          ]
        }
      ]
    },
    {
      "cell_type": "code",
      "metadata": {
        "id": "KayXnfzlIbKj",
        "colab": {
          "base_uri": "https://localhost:8080/"
        },
        "outputId": "afd9d7d9-89a8-471e-9c18-b98dd30af686"
      },
      "source": [
        "#check for null values9\n",
        "print(fibre.isna().any())"
      ],
      "execution_count": null,
      "outputs": [
        {
          "output_type": "stream",
          "name": "stdout",
          "text": [
            "CI                                 True\n",
            "CUSTOMER_FIRST_NAME                True\n",
            "CUSTOMER_LAST_NAME                 True\n",
            "CUSTOMER_MSISDN                    True\n",
            "CUSTOMER_EMAIL                     True\n",
            "HOUSE_NUMBER                       True\n",
            "SALE_DATE                          True\n",
            "CRQ_NUMBER                         True\n",
            "PAYMENT_STATUS                     True\n",
            "PAYMENT DATE                       True\n",
            "REMEDY_STATUS                      True\n",
            "REMEDY_DATE                        True\n",
            "CUSTOMER_IDENTIFICATION_STATUS     True\n",
            "CUSTOMER_IDENTIFICATION_DATE       True\n",
            "IPCC_WHITELIST_STATUS              True\n",
            "IPCC_WHITELIST_DATE                True\n",
            "CRQ_CLOSURE_STATUS                 True\n",
            "CRQ_CLOSURE_DATE                   True\n",
            "PROVISIONING_STATUS                True\n",
            "PROVISIONING_DATE                  True\n",
            "RECORDED_BY                        True\n",
            "ONT_SERIAL_NO                      True\n",
            "SR_NUMBER                          True\n",
            "SR_STATUS                          True\n",
            "IPCC_STATUS_DETAILS                True\n",
            "AGENT_FIRST_NAME                   True\n",
            "AGENT_LAST_NAME                    True\n",
            "AGENT_MSISDN                       True\n",
            "ESTATE_NAME                        True\n",
            "AGENCY_NAME                        True\n",
            "CONTRACTOR_NAME                    True\n",
            "SERVICE_PLAN_NAME                  True\n",
            "REGION_NAME                        True\n",
            "FULL NAMES                         True\n",
            "ZONE                               True\n",
            "TIER                               True\n",
            "CHANNEL                            True\n",
            "DATE                               True\n",
            "Month                              True\n",
            "STATUS                            False\n",
            "MONTH CONNECTIONS                 False\n",
            "Zoned/Unzoned                      True\n",
            "SUBZONES                           True\n",
            "dtype: bool\n"
          ]
        }
      ]
    },
    {
      "cell_type": "code",
      "metadata": {
        "id": "t5utfShmGdhX",
        "colab": {
          "base_uri": "https://localhost:8080/"
        },
        "outputId": "5d20a2a1-a560-4af7-f2a6-86d77d8f90d1"
      },
      "source": [
        "#check for duplicates\n",
        "print(fibre.duplicated().sum())"
      ],
      "execution_count": null,
      "outputs": [
        {
          "output_type": "stream",
          "name": "stdout",
          "text": [
            "22350\n"
          ]
        }
      ]
    },
    {
      "cell_type": "code",
      "metadata": {
        "colab": {
          "base_uri": "https://localhost:8080/"
        },
        "id": "sJnAcVbjHEjf",
        "outputId": "b4f3995b-430f-4e42-ebb8-908f0d3c384c"
      },
      "source": [
        "\n",
        "#check for data_types of the columns\n",
        "fibre.info()"
      ],
      "execution_count": null,
      "outputs": [
        {
          "output_type": "stream",
          "name": "stdout",
          "text": [
            "<class 'pandas.core.frame.DataFrame'>\n",
            "RangeIndex: 54668 entries, 0 to 54667\n",
            "Data columns (total 43 columns):\n",
            " #   Column                          Non-Null Count  Dtype         \n",
            "---  ------                          --------------  -----         \n",
            " 0   CI                              32314 non-null  float64       \n",
            " 1   CUSTOMER_FIRST_NAME             32314 non-null  object        \n",
            " 2   CUSTOMER_LAST_NAME              32310 non-null  object        \n",
            " 3   CUSTOMER_MSISDN                 32314 non-null  float64       \n",
            " 4   CUSTOMER_EMAIL                  32314 non-null  object        \n",
            " 5   HOUSE_NUMBER                    31930 non-null  object        \n",
            " 6   SALE_DATE                       32314 non-null  datetime64[ns]\n",
            " 7   CRQ_NUMBER                      32301 non-null  object        \n",
            " 8   PAYMENT_STATUS                  32314 non-null  object        \n",
            " 9   PAYMENT DATE                    32314 non-null  datetime64[ns]\n",
            " 10  REMEDY_STATUS                   32314 non-null  object        \n",
            " 11  REMEDY_DATE                     32301 non-null  datetime64[ns]\n",
            " 12  CUSTOMER_IDENTIFICATION_STATUS  32314 non-null  object        \n",
            " 13  CUSTOMER_IDENTIFICATION_DATE    0 non-null      float64       \n",
            " 14  IPCC_WHITELIST_STATUS           32314 non-null  object        \n",
            " 15  IPCC_WHITELIST_DATE             32120 non-null  datetime64[ns]\n",
            " 16  CRQ_CLOSURE_STATUS              32314 non-null  object        \n",
            " 17  CRQ_CLOSURE_DATE                12852 non-null  object        \n",
            " 18  PROVISIONING_STATUS             32314 non-null  object        \n",
            " 19  PROVISIONING_DATE               11263 non-null  object        \n",
            " 20  RECORDED_BY                     32314 non-null  object        \n",
            " 21  ONT_SERIAL_NO                   32314 non-null  object        \n",
            " 22  SR_NUMBER                       4198 non-null   object        \n",
            " 23  SR_STATUS                       32314 non-null  object        \n",
            " 24  IPCC_STATUS_DETAILS             32120 non-null  object        \n",
            " 25  AGENT_FIRST_NAME                32269 non-null  object        \n",
            " 26  AGENT_LAST_NAME                 32269 non-null  object        \n",
            " 27  AGENT_MSISDN                    32269 non-null  float64       \n",
            " 28  ESTATE_NAME                     32314 non-null  object        \n",
            " 29  AGENCY_NAME                     32270 non-null  object        \n",
            " 30  CONTRACTOR_NAME                 32314 non-null  object        \n",
            " 31  SERVICE_PLAN_NAME               32289 non-null  object        \n",
            " 32  REGION_NAME                     32314 non-null  object        \n",
            " 33  FULL NAMES                      54667 non-null  object        \n",
            " 34  ZONE                            32314 non-null  object        \n",
            " 35  TIER                            32314 non-null  object        \n",
            " 36  CHANNEL                         32314 non-null  object        \n",
            " 37  DATE                            32314 non-null  datetime64[ns]\n",
            " 38  Month                           32314 non-null  object        \n",
            " 39  STATUS                          54668 non-null  object        \n",
            " 40  MONTH CONNECTIONS               54668 non-null  object        \n",
            " 41  Zoned/Unzoned                   32291 non-null  object        \n",
            " 42  SUBZONES                        30467 non-null  object        \n",
            "dtypes: datetime64[ns](5), float64(4), object(34)\n",
            "memory usage: 17.9+ MB\n"
          ]
        }
      ]
    },
    {
      "cell_type": "code",
      "metadata": {
        "id": "PqlgYGZeQ8UE"
      },
      "source": [
        "#check for data types\n",
        "fibre.dtypes"
      ],
      "execution_count": null,
      "outputs": []
    },
    {
      "cell_type": "markdown",
      "metadata": {
        "id": "gG85l4TpKLDE"
      },
      "source": [
        "####  observations\n",
        "\n",
        "1. dataset is large we have 43 columns and 54668 rows\n",
        "2. it has null values in almost every column\n",
        "3. it also has  a total of 22350 duplcates\n",
        "4. it contains mostly object datatype with 3 columns containing date and time data types.\n",
        "\n",
        "\n",
        "\n"
      ]
    },
    {
      "cell_type": "markdown",
      "metadata": {
        "id": "qsEKQA1NJS2V"
      },
      "source": [
        "##  1.4 Explore our 4G dataset"
      ]
    },
    {
      "cell_type": "code",
      "metadata": {
        "colab": {
          "base_uri": "https://localhost:8080/"
        },
        "id": "XKH4xL23JbTp",
        "outputId": "b0a34d6c-7910-427c-85a0-addcef1d8e8e"
      },
      "source": [
        "#we first check how many rows and columns we have and how big or small our dataset is\n",
        "#from results of the shape it means there are more excel sheets that have not loaded\n",
        "print(four_g.shape)"
      ],
      "execution_count": null,
      "outputs": [
        {
          "output_type": "stream",
          "name": "stdout",
          "text": [
            "(6349, 26)\n"
          ]
        }
      ]
    },
    {
      "cell_type": "code",
      "metadata": {
        "colab": {
          "base_uri": "https://localhost:8080/",
          "height": 411
        },
        "id": "zKYbNweaLdGw",
        "outputId": "ea11aa9a-39c8-4a59-8f19-a24ab1c086fa"
      },
      "source": [
        "#we the last column number\n",
        "four_g.tail()"
      ],
      "execution_count": null,
      "outputs": [
        {
          "output_type": "execute_result",
          "data": {
            "text/html": [
              "<div>\n",
              "<style scoped>\n",
              "    .dataframe tbody tr th:only-of-type {\n",
              "        vertical-align: middle;\n",
              "    }\n",
              "\n",
              "    .dataframe tbody tr th {\n",
              "        vertical-align: top;\n",
              "    }\n",
              "\n",
              "    .dataframe thead th {\n",
              "        text-align: right;\n",
              "    }\n",
              "</style>\n",
              "<table border=\"1\" class=\"dataframe\">\n",
              "  <thead>\n",
              "    <tr style=\"text-align: right;\">\n",
              "      <th></th>\n",
              "      <th>#</th>\n",
              "      <th>CUST_ID</th>\n",
              "      <th>PMNT_DATE</th>\n",
              "      <th>SPNSR_MSISDN</th>\n",
              "      <th>BNFCR_MSISDN</th>\n",
              "      <th>ID_PDSV</th>\n",
              "      <th>DS_PDSV</th>\n",
              "      <th>ESTE_ID</th>\n",
              "      <th>ESTE_NAME</th>\n",
              "      <th>REGN_ID</th>\n",
              "      <th>REGN_NAME</th>\n",
              "      <th>ZONE_ID</th>\n",
              "      <th>ZONE_NAME</th>\n",
              "      <th>SERL_NUMBER</th>\n",
              "      <th>ROUT_PRCE</th>\n",
              "      <th>AGNCY_NAME</th>\n",
              "      <th>USER_NAME</th>\n",
              "      <th>FIRST_NAME</th>\n",
              "      <th>LAST_NAME</th>\n",
              "      <th>MSISDN</th>\n",
              "      <th>DLER_CODE</th>\n",
              "      <th>FULL NAME</th>\n",
              "      <th>CHANNEL</th>\n",
              "      <th>DATE</th>\n",
              "      <th>MONTH</th>\n",
              "      <th>ZONE</th>\n",
              "    </tr>\n",
              "  </thead>\n",
              "  <tbody>\n",
              "    <tr>\n",
              "      <th>6344</th>\n",
              "      <td>12132</td>\n",
              "      <td>13953</td>\n",
              "      <td>2021-11-16 16:39:00</td>\n",
              "      <td>700271775</td>\n",
              "      <td>113393349.0</td>\n",
              "      <td>20191909</td>\n",
              "      <td>4G For Home 3Mbps</td>\n",
              "      <td>53648</td>\n",
              "      <td>NOT AVAILABLE</td>\n",
              "      <td>7</td>\n",
              "      <td>Western</td>\n",
              "      <td>37</td>\n",
              "      <td>KAKAMEGA SOUTH</td>\n",
              "      <td>862343031599997</td>\n",
              "      <td>9999</td>\n",
              "      <td>Kakakamega Retail Shop</td>\n",
              "      <td>jnjenga</td>\n",
              "      <td>James</td>\n",
              "      <td>Njenga</td>\n",
              "      <td>254722960232</td>\n",
              "      <td>10001</td>\n",
              "      <td>James Njenga</td>\n",
              "      <td>Retail</td>\n",
              "      <td>2021-11-16</td>\n",
              "      <td>November</td>\n",
              "      <td>NaN</td>\n",
              "    </tr>\n",
              "    <tr>\n",
              "      <th>6345</th>\n",
              "      <td>12133</td>\n",
              "      <td>13954</td>\n",
              "      <td>2021-11-16 16:45:00</td>\n",
              "      <td>721411564</td>\n",
              "      <td>114146481.0</td>\n",
              "      <td>20191909</td>\n",
              "      <td>4G For Home 3Mbps</td>\n",
              "      <td>53763</td>\n",
              "      <td>NOT AVAILABLE</td>\n",
              "      <td>3</td>\n",
              "      <td>Nairobi East</td>\n",
              "      <td>152</td>\n",
              "      <td>UMOJA I</td>\n",
              "      <td>862343031581722</td>\n",
              "      <td>9999</td>\n",
              "      <td>Garden City Retail Centre</td>\n",
              "      <td>pmunene</td>\n",
              "      <td>Purity</td>\n",
              "      <td>Munene</td>\n",
              "      <td>254720585179</td>\n",
              "      <td>10050</td>\n",
              "      <td>Purity Munene</td>\n",
              "      <td>Retail</td>\n",
              "      <td>2021-11-16</td>\n",
              "      <td>November</td>\n",
              "      <td>NaN</td>\n",
              "    </tr>\n",
              "    <tr>\n",
              "      <th>6346</th>\n",
              "      <td>12119</td>\n",
              "      <td>13945</td>\n",
              "      <td>2021-11-16 16:55:00</td>\n",
              "      <td>702177763</td>\n",
              "      <td>796174411.0</td>\n",
              "      <td>20191909</td>\n",
              "      <td>4G For Home 3Mbps</td>\n",
              "      <td>53849</td>\n",
              "      <td>NOT AVAILABLE</td>\n",
              "      <td>8</td>\n",
              "      <td>Nairobi West</td>\n",
              "      <td>238</td>\n",
              "      <td>RUIRU</td>\n",
              "      <td>862343031592869</td>\n",
              "      <td>9999</td>\n",
              "      <td>Sovereign</td>\n",
              "      <td>siyoibrayo</td>\n",
              "      <td>Brian</td>\n",
              "      <td>Kipruto</td>\n",
              "      <td>254711662223</td>\n",
              "      <td>D-SOO1</td>\n",
              "      <td>Brian Kipruto</td>\n",
              "      <td>Dealers</td>\n",
              "      <td>2021-11-16</td>\n",
              "      <td>November</td>\n",
              "      <td>Kiambu Road</td>\n",
              "    </tr>\n",
              "    <tr>\n",
              "      <th>6347</th>\n",
              "      <td>12120</td>\n",
              "      <td>13946</td>\n",
              "      <td>2021-11-16 17:13:00</td>\n",
              "      <td>112873015</td>\n",
              "      <td>114776745.0</td>\n",
              "      <td>20191909</td>\n",
              "      <td>4G For Home 3Mbps</td>\n",
              "      <td>53689</td>\n",
              "      <td>NOT AVAILABLE</td>\n",
              "      <td>7</td>\n",
              "      <td>Western</td>\n",
              "      <td>78</td>\n",
              "      <td>KISII TOWN EAST</td>\n",
              "      <td>862343031599229</td>\n",
              "      <td>9999</td>\n",
              "      <td>Kisii Retail Centre</td>\n",
              "      <td>jkaunda</td>\n",
              "      <td>James</td>\n",
              "      <td>Kaunda</td>\n",
              "      <td>254729414151</td>\n",
              "      <td>10024</td>\n",
              "      <td>James  Kaunda</td>\n",
              "      <td>Retail</td>\n",
              "      <td>2021-11-16</td>\n",
              "      <td>November</td>\n",
              "      <td>NaN</td>\n",
              "    </tr>\n",
              "    <tr>\n",
              "      <th>6348</th>\n",
              "      <td>12121</td>\n",
              "      <td>13947</td>\n",
              "      <td>2021-11-16 18:16:00</td>\n",
              "      <td>114156405</td>\n",
              "      <td>768036084.0</td>\n",
              "      <td>20191909</td>\n",
              "      <td>4G For Home 3Mbps</td>\n",
              "      <td>53763</td>\n",
              "      <td>NOT AVAILABLE</td>\n",
              "      <td>3</td>\n",
              "      <td>Nairobi East</td>\n",
              "      <td>152</td>\n",
              "      <td>UMOJA I</td>\n",
              "      <td>862343031572176</td>\n",
              "      <td>9999</td>\n",
              "      <td>Loska communication ltd</td>\n",
              "      <td>juliusgikonyo45</td>\n",
              "      <td>Julius</td>\n",
              "      <td>Gikonyo</td>\n",
              "      <td>254723071861</td>\n",
              "      <td>D-L012</td>\n",
              "      <td>Julius Gikonyo</td>\n",
              "      <td>Dealers</td>\n",
              "      <td>2021-11-16</td>\n",
              "      <td>November</td>\n",
              "      <td>Komarock</td>\n",
              "    </tr>\n",
              "  </tbody>\n",
              "</table>\n",
              "</div>"
            ],
            "text/plain": [
              "          #  CUST_ID           PMNT_DATE  ...       DATE     MONTH         ZONE\n",
              "6344  12132    13953 2021-11-16 16:39:00  ... 2021-11-16  November          NaN\n",
              "6345  12133    13954 2021-11-16 16:45:00  ... 2021-11-16  November          NaN\n",
              "6346  12119    13945 2021-11-16 16:55:00  ... 2021-11-16  November  Kiambu Road\n",
              "6347  12120    13946 2021-11-16 17:13:00  ... 2021-11-16  November          NaN\n",
              "6348  12121    13947 2021-11-16 18:16:00  ... 2021-11-16  November     Komarock\n",
              "\n",
              "[5 rows x 26 columns]"
            ]
          },
          "metadata": {},
          "execution_count": 11
        }
      ]
    },
    {
      "cell_type": "code",
      "metadata": {
        "colab": {
          "base_uri": "https://localhost:8080/"
        },
        "id": "IJABTKjvLnt-",
        "outputId": "803d0e72-3fa8-48ba-f58c-c7362e35564d"
      },
      "source": [
        "#check the all the columns we have\n",
        "\n",
        "print(four_g.columns.tolist())"
      ],
      "execution_count": null,
      "outputs": [
        {
          "output_type": "stream",
          "name": "stdout",
          "text": [
            "['#', 'CUST_ID', 'PMNT_DATE', 'SPNSR_MSISDN', 'BNFCR_MSISDN', 'ID_PDSV', 'DS_PDSV', 'ESTE_ID', 'ESTE_NAME', 'REGN_ID', 'REGN_NAME', 'ZONE_ID', 'ZONE_NAME', 'SERL_NUMBER', 'ROUT_PRCE', 'AGNCY_NAME', 'USER_NAME', 'FIRST_NAME', 'LAST_NAME', 'MSISDN', 'DLER_CODE', 'FULL NAME', 'CHANNEL', 'DATE', 'MONTH', 'ZONE']\n"
          ]
        }
      ]
    },
    {
      "cell_type": "code",
      "metadata": {
        "colab": {
          "base_uri": "https://localhost:8080/"
        },
        "id": "7-Ep6yHELu0D",
        "outputId": "bf7c3580-6d52-4e16-a190-358fb0ea82e3"
      },
      "source": [
        "#check for null values\n",
        "print(four_g.isna().any())"
      ],
      "execution_count": null,
      "outputs": [
        {
          "output_type": "stream",
          "name": "stdout",
          "text": [
            "#               False\n",
            "CUST_ID         False\n",
            "PMNT_DATE       False\n",
            "SPNSR_MSISDN    False\n",
            "BNFCR_MSISDN     True\n",
            "ID_PDSV         False\n",
            "DS_PDSV         False\n",
            "ESTE_ID         False\n",
            "ESTE_NAME       False\n",
            "REGN_ID         False\n",
            "REGN_NAME       False\n",
            "ZONE_ID         False\n",
            "ZONE_NAME       False\n",
            "SERL_NUMBER      True\n",
            "ROUT_PRCE       False\n",
            "AGNCY_NAME      False\n",
            "USER_NAME        True\n",
            "FIRST_NAME       True\n",
            "LAST_NAME        True\n",
            "MSISDN           True\n",
            "DLER_CODE        True\n",
            "FULL NAME       False\n",
            "CHANNEL          True\n",
            "DATE            False\n",
            "MONTH           False\n",
            "ZONE             True\n",
            "dtype: bool\n"
          ]
        }
      ]
    },
    {
      "cell_type": "code",
      "metadata": {
        "colab": {
          "base_uri": "https://localhost:8080/"
        },
        "id": "tSwolFqwL3g8",
        "outputId": "745379e5-2a13-41d0-dfa0-c80f46a839a8"
      },
      "source": [
        "#check for duplicates\n",
        "print(four_g.duplicated().sum())"
      ],
      "execution_count": null,
      "outputs": [
        {
          "output_type": "stream",
          "name": "stdout",
          "text": [
            "0\n"
          ]
        }
      ]
    },
    {
      "cell_type": "code",
      "metadata": {
        "colab": {
          "base_uri": "https://localhost:8080/"
        },
        "id": "f5drLIoXMBbL",
        "outputId": "8d6980aa-7114-4526-bcbb-433e26a015cc"
      },
      "source": [
        "#check for data_types of the columns\n",
        "four_g.info()"
      ],
      "execution_count": null,
      "outputs": [
        {
          "output_type": "stream",
          "name": "stdout",
          "text": [
            "<class 'pandas.core.frame.DataFrame'>\n",
            "RangeIndex: 6349 entries, 0 to 6348\n",
            "Data columns (total 26 columns):\n",
            " #   Column        Non-Null Count  Dtype         \n",
            "---  ------        --------------  -----         \n",
            " 0   #             6349 non-null   int64         \n",
            " 1   CUST_ID       6349 non-null   int64         \n",
            " 2   PMNT_DATE     6349 non-null   datetime64[ns]\n",
            " 3   SPNSR_MSISDN  6349 non-null   int64         \n",
            " 4   BNFCR_MSISDN  6185 non-null   float64       \n",
            " 5   ID_PDSV       6349 non-null   int64         \n",
            " 6   DS_PDSV       6349 non-null   object        \n",
            " 7   ESTE_ID       6349 non-null   int64         \n",
            " 8   ESTE_NAME     6349 non-null   object        \n",
            " 9   REGN_ID       6349 non-null   int64         \n",
            " 10  REGN_NAME     6349 non-null   object        \n",
            " 11  ZONE_ID       6349 non-null   int64         \n",
            " 12  ZONE_NAME     6349 non-null   object        \n",
            " 13  SERL_NUMBER   6347 non-null   object        \n",
            " 14  ROUT_PRCE     6349 non-null   int64         \n",
            " 15  AGNCY_NAME    6349 non-null   object        \n",
            " 16  USER_NAME     5544 non-null   object        \n",
            " 17  FIRST_NAME    5544 non-null   object        \n",
            " 18  LAST_NAME     5544 non-null   object        \n",
            " 19  MSISDN        5544 non-null   object        \n",
            " 20  DLER_CODE     5597 non-null   object        \n",
            " 21  FULL NAME     6349 non-null   object        \n",
            " 22  CHANNEL       6337 non-null   object        \n",
            " 23  DATE          6349 non-null   datetime64[ns]\n",
            " 24  MONTH         6349 non-null   object        \n",
            " 25  ZONE          2923 non-null   object        \n",
            "dtypes: datetime64[ns](2), float64(1), int64(8), object(15)\n",
            "memory usage: 1.3+ MB\n"
          ]
        }
      ]
    },
    {
      "cell_type": "code",
      "metadata": {
        "id": "jtEPJXwXRGoh"
      },
      "source": [
        "#check for data types\n",
        "four_g.dtypes"
      ],
      "execution_count": null,
      "outputs": []
    },
    {
      "cell_type": "markdown",
      "metadata": {
        "id": "1UNP6PWBM8OV"
      },
      "source": [
        "###  observations\n",
        "\n",
        "1. dataset is large we have 26 columns and 6349 rows\n",
        "2. it has null values in few columns\n",
        "3. it also has  a total of zero duplcates\n",
        "4. it contains mostly object datatype with 3 columns containing date and time data types."
      ]
    },
    {
      "cell_type": "markdown",
      "metadata": {
        "id": "eWvEuRfSz4Ua"
      },
      "source": [
        "## 1.5 Cleaning the Fibre Dataset"
      ]
    },
    {
      "cell_type": "markdown",
      "metadata": {
        "id": "ro3Xelj8IINM"
      },
      "source": [
        "#### **Dropping unnecessary columns in the dataset**\n",
        "\n",
        "Often, you’ll find that not all the categories of data in a dataset are useful to you. For example,in our dataset we have names and numbers of customers which due to data privacy law need to be dropped since ourmain focus is sales analysis and predictions.\n",
        "\n",
        "columns to be dropped\n",
        "\n",
        "\n",
        "* CUSTOMER_FIRST_NAME                \n",
        "* CUSTOMER_LAST_NAME                 \n",
        "* CUSTOMER_MSISDN                    \n",
        "* CUSTOMER_EMAIL                     \n",
        "* HOUSE_NUMBER \n",
        "* PROVISIONING_STATUS (because we already have remedy status which explains if ticket has raised)\n",
        "* PROVISIONING_DATE (already have remedy date)            \n",
        "* RECORDED_BY\n",
        "* SR_NUMBER\n",
        "*\tSR_STATUS\n",
        "* AGENT_FIRST_NAME\n",
        "*\tAGENT_LAST_NAME\t\n",
        "* AGENT_MSISDN\n",
        "\n",
        "\n",
        "In this case, the CUSTOMER and AGENT names,phone numbers and  emails address categories are not important to you.Also serial numbers of the routers. Retaining these unneeded categories will take up unnecessary space and potentially also bog down runtime.\n",
        "\n",
        "Pandas provides a handy way of removing unwanted columns or rows from a DataFrame with the drop() function. Let’s look at a simple example where we drop a number of columns from a DataFrame."
      ]
    },
    {
      "cell_type": "code",
      "metadata": {
        "colab": {
          "base_uri": "https://localhost:8080/"
        },
        "id": "EW_8EdDVdXXV",
        "outputId": "2505ba40-12a0-4090-d5b6-64057b0aa53a"
      },
      "source": [
        "\n",
        "#check for data_types of the columns\n",
        "fibre.info()"
      ],
      "execution_count": null,
      "outputs": [
        {
          "output_type": "stream",
          "name": "stdout",
          "text": [
            "<class 'pandas.core.frame.DataFrame'>\n",
            "RangeIndex: 54668 entries, 0 to 54667\n",
            "Data columns (total 43 columns):\n",
            " #   Column                          Non-Null Count  Dtype         \n",
            "---  ------                          --------------  -----         \n",
            " 0   CI                              32314 non-null  float64       \n",
            " 1   CUSTOMER_FIRST_NAME             32314 non-null  object        \n",
            " 2   CUSTOMER_LAST_NAME              32310 non-null  object        \n",
            " 3   CUSTOMER_MSISDN                 32314 non-null  float64       \n",
            " 4   CUSTOMER_EMAIL                  32314 non-null  object        \n",
            " 5   HOUSE_NUMBER                    31930 non-null  object        \n",
            " 6   SALE_DATE                       32314 non-null  datetime64[ns]\n",
            " 7   CRQ_NUMBER                      32301 non-null  object        \n",
            " 8   PAYMENT_STATUS                  32314 non-null  object        \n",
            " 9   PAYMENT DATE                    32314 non-null  datetime64[ns]\n",
            " 10  REMEDY_STATUS                   32314 non-null  object        \n",
            " 11  REMEDY_DATE                     32301 non-null  datetime64[ns]\n",
            " 12  CUSTOMER_IDENTIFICATION_STATUS  32314 non-null  object        \n",
            " 13  CUSTOMER_IDENTIFICATION_DATE    0 non-null      float64       \n",
            " 14  IPCC_WHITELIST_STATUS           32314 non-null  object        \n",
            " 15  IPCC_WHITELIST_DATE             32120 non-null  datetime64[ns]\n",
            " 16  CRQ_CLOSURE_STATUS              32314 non-null  object        \n",
            " 17  CRQ_CLOSURE_DATE                12852 non-null  object        \n",
            " 18  PROVISIONING_STATUS             32314 non-null  object        \n",
            " 19  PROVISIONING_DATE               11263 non-null  object        \n",
            " 20  RECORDED_BY                     32314 non-null  object        \n",
            " 21  ONT_SERIAL_NO                   32314 non-null  object        \n",
            " 22  SR_NUMBER                       4198 non-null   object        \n",
            " 23  SR_STATUS                       32314 non-null  object        \n",
            " 24  IPCC_STATUS_DETAILS             32120 non-null  object        \n",
            " 25  AGENT_FIRST_NAME                32269 non-null  object        \n",
            " 26  AGENT_LAST_NAME                 32269 non-null  object        \n",
            " 27  AGENT_MSISDN                    32269 non-null  float64       \n",
            " 28  ESTATE_NAME                     32314 non-null  object        \n",
            " 29  AGENCY_NAME                     32270 non-null  object        \n",
            " 30  CONTRACTOR_NAME                 32314 non-null  object        \n",
            " 31  SERVICE_PLAN_NAME               32289 non-null  object        \n",
            " 32  REGION_NAME                     32314 non-null  object        \n",
            " 33  FULL NAMES                      54667 non-null  object        \n",
            " 34  ZONE                            32314 non-null  object        \n",
            " 35  TIER                            32314 non-null  object        \n",
            " 36  CHANNEL                         32314 non-null  object        \n",
            " 37  DATE                            32314 non-null  datetime64[ns]\n",
            " 38  Month                           32314 non-null  object        \n",
            " 39  STATUS                          54668 non-null  object        \n",
            " 40  MONTH CONNECTIONS               54668 non-null  object        \n",
            " 41  Zoned/Unzoned                   32291 non-null  object        \n",
            " 42  SUBZONES                        30467 non-null  object        \n",
            "dtypes: datetime64[ns](5), float64(4), object(34)\n",
            "memory usage: 17.9+ MB\n"
          ]
        }
      ]
    },
    {
      "cell_type": "code",
      "metadata": {
        "id": "Qwna5Aeq0JK7"
      },
      "source": [
        "#dropping the columns from fibre dataset\n",
        "fibre.drop(columns=['CUSTOMER_FIRST_NAME',\n",
        "'CUSTOMER_LAST_NAME',\n",
        "'CUSTOMER_MSISDN',\n",
        "'CUSTOMER_EMAIL',\n",
        "'CUSTOMER_IDENTIFICATION_STATUS',\n",
        "'CUSTOMER_IDENTIFICATION_DATE',\n",
        "'IPCC_WHITELIST_DATE',\n",
        "'HOUSE_NUMBER',\n",
        "'CRQ_NUMBER',\n",
        "'CRQ_CLOSURE_DATE',\n",
        "'PROVISIONING_STATUS',\n",
        "'PROVISIONING_DATE',\n",
        "'ESTATE_NAME',\n",
        "'RECORDED_BY',\n",
        "'SR_NUMBER',\n",
        "'SR_STATUS',\n",
        "'AGENT_FIRST_NAME',\n",
        "'AGENT_LAST_NAME',\n",
        "'AGENT_MSISDN',\n",
        "'FULL NAMES',\n",
        "'SUBZONES'],inplace=True)"
      ],
      "execution_count": 3,
      "outputs": []
    },
    {
      "cell_type": "code",
      "metadata": {
        "colab": {
          "base_uri": "https://localhost:8080/"
        },
        "id": "xeTBzlYGNK4x",
        "outputId": "42418068-d024-4153-ae4c-cab7c02afebe"
      },
      "source": [
        "#checking new dataset\n",
        "fibre.info()"
      ],
      "execution_count": 4,
      "outputs": [
        {
          "output_type": "stream",
          "name": "stdout",
          "text": [
            "<class 'pandas.core.frame.DataFrame'>\n",
            "RangeIndex: 54668 entries, 0 to 54667\n",
            "Data columns (total 22 columns):\n",
            " #   Column                 Non-Null Count  Dtype         \n",
            "---  ------                 --------------  -----         \n",
            " 0   CI                     32314 non-null  float64       \n",
            " 1   SALE_DATE              32314 non-null  datetime64[ns]\n",
            " 2   PAYMENT_STATUS         32314 non-null  object        \n",
            " 3   PAYMENT DATE           32314 non-null  datetime64[ns]\n",
            " 4   REMEDY_STATUS          32314 non-null  object        \n",
            " 5   REMEDY_DATE            32301 non-null  datetime64[ns]\n",
            " 6   IPCC_WHITELIST_STATUS  32314 non-null  object        \n",
            " 7   CRQ_CLOSURE_STATUS     32314 non-null  object        \n",
            " 8   ONT_SERIAL_NO          32314 non-null  object        \n",
            " 9   IPCC_STATUS_DETAILS    32120 non-null  object        \n",
            " 10  AGENCY_NAME            32270 non-null  object        \n",
            " 11  CONTRACTOR_NAME        32314 non-null  object        \n",
            " 12  SERVICE_PLAN_NAME      32289 non-null  object        \n",
            " 13  REGION_NAME            32314 non-null  object        \n",
            " 14  ZONE                   32314 non-null  object        \n",
            " 15  TIER                   32314 non-null  object        \n",
            " 16  CHANNEL                32314 non-null  object        \n",
            " 17  DATE                   32314 non-null  datetime64[ns]\n",
            " 18  Month                  32314 non-null  object        \n",
            " 19  STATUS                 54668 non-null  object        \n",
            " 20  MONTH CONNECTIONS      54668 non-null  object        \n",
            " 21  Zoned/Unzoned          32291 non-null  object        \n",
            "dtypes: datetime64[ns](4), float64(1), object(17)\n",
            "memory usage: 9.2+ MB\n"
          ]
        }
      ]
    },
    {
      "cell_type": "code",
      "metadata": {
        "colab": {
          "base_uri": "https://localhost:8080/",
          "height": 411
        },
        "id": "89-zCBNqPOSE",
        "outputId": "1f5550af-b69e-45c8-f295-202a47cac073"
      },
      "source": [
        "fibre.head()"
      ],
      "execution_count": null,
      "outputs": [
        {
          "output_type": "execute_result",
          "data": {
            "text/html": [
              "<div>\n",
              "<style scoped>\n",
              "    .dataframe tbody tr th:only-of-type {\n",
              "        vertical-align: middle;\n",
              "    }\n",
              "\n",
              "    .dataframe tbody tr th {\n",
              "        vertical-align: top;\n",
              "    }\n",
              "\n",
              "    .dataframe thead th {\n",
              "        text-align: right;\n",
              "    }\n",
              "</style>\n",
              "<table border=\"1\" class=\"dataframe\">\n",
              "  <thead>\n",
              "    <tr style=\"text-align: right;\">\n",
              "      <th></th>\n",
              "      <th>CI</th>\n",
              "      <th>SALE_DATE</th>\n",
              "      <th>PAYMENT_STATUS</th>\n",
              "      <th>PAYMENT DATE</th>\n",
              "      <th>REMEDY_STATUS</th>\n",
              "      <th>REMEDY_DATE</th>\n",
              "      <th>IPCC_WHITELIST_STATUS</th>\n",
              "      <th>CRQ_CLOSURE_STATUS</th>\n",
              "      <th>ONT_SERIAL_NO</th>\n",
              "      <th>IPCC_STATUS_DETAILS</th>\n",
              "      <th>AGENCY_NAME</th>\n",
              "      <th>CONTRACTOR_NAME</th>\n",
              "      <th>SERVICE_PLAN_NAME</th>\n",
              "      <th>REGION_NAME</th>\n",
              "      <th>ZONE</th>\n",
              "      <th>TIER</th>\n",
              "      <th>CHANNEL</th>\n",
              "      <th>DATE</th>\n",
              "      <th>Month</th>\n",
              "      <th>STATUS</th>\n",
              "      <th>MONTH CONNECTIONS</th>\n",
              "      <th>Zoned/Unzoned</th>\n",
              "    </tr>\n",
              "  </thead>\n",
              "  <tbody>\n",
              "    <tr>\n",
              "      <th>0</th>\n",
              "      <td>11221313.0</td>\n",
              "      <td>2021-04-01 22:20:00</td>\n",
              "      <td>PAID</td>\n",
              "      <td>2021-04-01 22:47:00</td>\n",
              "      <td>TICKET_RAISED</td>\n",
              "      <td>2021-04-01 22:48:00</td>\n",
              "      <td>Whitelisted</td>\n",
              "      <td>Pending_Closure</td>\n",
              "      <td>485754436155DA4</td>\n",
              "      <td>Successfully_Whitelisted</td>\n",
              "      <td>FONECALL</td>\n",
              "      <td>Egypro</td>\n",
              "      <td>Bronze</td>\n",
              "      <td>Nairobi West</td>\n",
              "      <td>Kilimani</td>\n",
              "      <td>Tier 3</td>\n",
              "      <td>DSAs</td>\n",
              "      <td>2021-04-01</td>\n",
              "      <td>April</td>\n",
              "      <td>Connected</td>\n",
              "      <td>April</td>\n",
              "      <td>Unzoned</td>\n",
              "    </tr>\n",
              "    <tr>\n",
              "      <th>1</th>\n",
              "      <td>11221308.0</td>\n",
              "      <td>2021-04-01 21:33:00</td>\n",
              "      <td>PAID</td>\n",
              "      <td>2021-04-01 21:44:00</td>\n",
              "      <td>TICKET_RAISED</td>\n",
              "      <td>2021-04-01 21:45:00</td>\n",
              "      <td>Whitelisted</td>\n",
              "      <td>Pending_Closure</td>\n",
              "      <td>485754436058BEA4</td>\n",
              "      <td>Successfully_Whitelisted</td>\n",
              "      <td>Cellnet Ltd</td>\n",
              "      <td>Adrian</td>\n",
              "      <td>Silver</td>\n",
              "      <td>Nairobi West</td>\n",
              "      <td>Ruaka Kabete</td>\n",
              "      <td>Tier 2</td>\n",
              "      <td>DSAs</td>\n",
              "      <td>2021-04-01</td>\n",
              "      <td>April</td>\n",
              "      <td>Connected</td>\n",
              "      <td>April</td>\n",
              "      <td>zoned</td>\n",
              "    </tr>\n",
              "    <tr>\n",
              "      <th>2</th>\n",
              "      <td>11221307.0</td>\n",
              "      <td>2021-04-01 21:27:00</td>\n",
              "      <td>PAID</td>\n",
              "      <td>2021-04-01 21:44:00</td>\n",
              "      <td>TICKET_RAISED</td>\n",
              "      <td>2021-04-01 21:45:00</td>\n",
              "      <td>Whitelisted</td>\n",
              "      <td>Pending_Closure</td>\n",
              "      <td>48575443E3D0929E</td>\n",
              "      <td>Already_Whitelisted</td>\n",
              "      <td>SMARTCHIP DYNAMICS LIMITED</td>\n",
              "      <td>Adrian</td>\n",
              "      <td>Bronze</td>\n",
              "      <td>Nairobi West</td>\n",
              "      <td>Waiyaki Way</td>\n",
              "      <td>Tier 1</td>\n",
              "      <td>DSAs</td>\n",
              "      <td>2021-04-01</td>\n",
              "      <td>April</td>\n",
              "      <td>Connected</td>\n",
              "      <td>April</td>\n",
              "      <td>Unzoned</td>\n",
              "    </tr>\n",
              "    <tr>\n",
              "      <th>3</th>\n",
              "      <td>11221304.0</td>\n",
              "      <td>2021-04-01 21:11:00</td>\n",
              "      <td>PAID</td>\n",
              "      <td>2021-04-01 21:38:00</td>\n",
              "      <td>TICKET_RAISED</td>\n",
              "      <td>2021-04-01 21:39:00</td>\n",
              "      <td>Whitelisted</td>\n",
              "      <td>Pending_Closure</td>\n",
              "      <td>Not in design -1.524071; 36.961548</td>\n",
              "      <td>Successfully_Whitelisted</td>\n",
              "      <td>Adrian Kenya</td>\n",
              "      <td>Adrian</td>\n",
              "      <td>Bronze</td>\n",
              "      <td>Nairobi East</td>\n",
              "      <td>Kitengela</td>\n",
              "      <td>Tier 2</td>\n",
              "      <td>DSAs</td>\n",
              "      <td>2021-04-01</td>\n",
              "      <td>April</td>\n",
              "      <td>REVERSALS</td>\n",
              "      <td>REVERSALS</td>\n",
              "      <td>zoned</td>\n",
              "    </tr>\n",
              "    <tr>\n",
              "      <th>4</th>\n",
              "      <td>11221298.0</td>\n",
              "      <td>2021-04-01 20:31:00</td>\n",
              "      <td>PAID</td>\n",
              "      <td>2021-04-01 22:17:00</td>\n",
              "      <td>TICKET_RAISED</td>\n",
              "      <td>2021-04-01 22:18:00</td>\n",
              "      <td>Whitelisted</td>\n",
              "      <td>Pending_Closure</td>\n",
              "      <td>485754436159B6A4</td>\n",
              "      <td>Successfully_Whitelisted</td>\n",
              "      <td>Adrian Kenya</td>\n",
              "      <td>Huawei</td>\n",
              "      <td>Bronze</td>\n",
              "      <td>Nairobi East</td>\n",
              "      <td>Kitengela</td>\n",
              "      <td>Tier 1</td>\n",
              "      <td>DSAs</td>\n",
              "      <td>2021-04-01</td>\n",
              "      <td>April</td>\n",
              "      <td>Connected</td>\n",
              "      <td>April</td>\n",
              "      <td>zoned</td>\n",
              "    </tr>\n",
              "  </tbody>\n",
              "</table>\n",
              "</div>"
            ],
            "text/plain": [
              "           CI           SALE_DATE  ... MONTH CONNECTIONS Zoned/Unzoned\n",
              "0  11221313.0 2021-04-01 22:20:00  ...             April       Unzoned\n",
              "1  11221308.0 2021-04-01 21:33:00  ...             April         zoned\n",
              "2  11221307.0 2021-04-01 21:27:00  ...             April       Unzoned\n",
              "3  11221304.0 2021-04-01 21:11:00  ...         REVERSALS         zoned\n",
              "4  11221298.0 2021-04-01 20:31:00  ...             April         zoned\n",
              "\n",
              "[5 rows x 22 columns]"
            ]
          },
          "metadata": {},
          "execution_count": 75
        }
      ]
    },
    {
      "cell_type": "markdown",
      "metadata": {
        "id": "Yo03vH0yOD_o"
      },
      "source": [
        "#### Renaming the columns "
      ]
    },
    {
      "cell_type": "markdown",
      "metadata": {
        "id": "Qrj0QVAwQ72c"
      },
      "source": [
        "We can convert the names into lower case using Pandas' str. lower() function. We first take the column names and convert it to lower case. And then rename the Pandas columns using the lowercase names"
      ]
    },
    {
      "cell_type": "code",
      "metadata": {
        "colab": {
          "base_uri": "https://localhost:8080/",
          "height": 309
        },
        "id": "3Tkril5AOH36",
        "outputId": "53e5e933-d849-43bf-9f2a-02134085b29c"
      },
      "source": [
        "# Rename the columns of df2_melted: df2_tidy\n",
        "fibre = fibre.rename(columns = {'PAYMENT DATE':'PAYMENT_DATE','Month':'MONTH','MONTH CONNECTIONS':'MONTH_CONNECTED','Zoned/Unzoned':'ZONED'}, inplace = False)\n",
        "\n",
        "# Print out df2_tidy\n",
        "fibre.tail()"
      ],
      "execution_count": 5,
      "outputs": [
        {
          "output_type": "execute_result",
          "data": {
            "text/html": [
              "<div>\n",
              "<style scoped>\n",
              "    .dataframe tbody tr th:only-of-type {\n",
              "        vertical-align: middle;\n",
              "    }\n",
              "\n",
              "    .dataframe tbody tr th {\n",
              "        vertical-align: top;\n",
              "    }\n",
              "\n",
              "    .dataframe thead th {\n",
              "        text-align: right;\n",
              "    }\n",
              "</style>\n",
              "<table border=\"1\" class=\"dataframe\">\n",
              "  <thead>\n",
              "    <tr style=\"text-align: right;\">\n",
              "      <th></th>\n",
              "      <th>CI</th>\n",
              "      <th>SALE_DATE</th>\n",
              "      <th>PAYMENT_STATUS</th>\n",
              "      <th>PAYMENT_DATE</th>\n",
              "      <th>REMEDY_STATUS</th>\n",
              "      <th>REMEDY_DATE</th>\n",
              "      <th>IPCC_WHITELIST_STATUS</th>\n",
              "      <th>CRQ_CLOSURE_STATUS</th>\n",
              "      <th>ONT_SERIAL_NO</th>\n",
              "      <th>IPCC_STATUS_DETAILS</th>\n",
              "      <th>AGENCY_NAME</th>\n",
              "      <th>CONTRACTOR_NAME</th>\n",
              "      <th>SERVICE_PLAN_NAME</th>\n",
              "      <th>REGION_NAME</th>\n",
              "      <th>ZONE</th>\n",
              "      <th>TIER</th>\n",
              "      <th>CHANNEL</th>\n",
              "      <th>DATE</th>\n",
              "      <th>MONTH</th>\n",
              "      <th>STATUS</th>\n",
              "      <th>MONTH_CONNECTED</th>\n",
              "      <th>ZONED</th>\n",
              "    </tr>\n",
              "  </thead>\n",
              "  <tbody>\n",
              "    <tr>\n",
              "      <th>54663</th>\n",
              "      <td>NaN</td>\n",
              "      <td>NaT</td>\n",
              "      <td>NaN</td>\n",
              "      <td>NaT</td>\n",
              "      <td>NaN</td>\n",
              "      <td>NaT</td>\n",
              "      <td>NaN</td>\n",
              "      <td>NaN</td>\n",
              "      <td>NaN</td>\n",
              "      <td>NaN</td>\n",
              "      <td>NaN</td>\n",
              "      <td>NaN</td>\n",
              "      <td>NaN</td>\n",
              "      <td>NaN</td>\n",
              "      <td>NaN</td>\n",
              "      <td>NaN</td>\n",
              "      <td>NaN</td>\n",
              "      <td>NaT</td>\n",
              "      <td>NaN</td>\n",
              "      <td>PENDING CONNECTION</td>\n",
              "      <td>PENDING CONNECTION</td>\n",
              "      <td>NaN</td>\n",
              "    </tr>\n",
              "    <tr>\n",
              "      <th>54664</th>\n",
              "      <td>NaN</td>\n",
              "      <td>NaT</td>\n",
              "      <td>NaN</td>\n",
              "      <td>NaT</td>\n",
              "      <td>NaN</td>\n",
              "      <td>NaT</td>\n",
              "      <td>NaN</td>\n",
              "      <td>NaN</td>\n",
              "      <td>NaN</td>\n",
              "      <td>NaN</td>\n",
              "      <td>NaN</td>\n",
              "      <td>NaN</td>\n",
              "      <td>NaN</td>\n",
              "      <td>NaN</td>\n",
              "      <td>NaN</td>\n",
              "      <td>NaN</td>\n",
              "      <td>NaN</td>\n",
              "      <td>NaT</td>\n",
              "      <td>NaN</td>\n",
              "      <td>PENDING CONNECTION</td>\n",
              "      <td>PENDING CONNECTION</td>\n",
              "      <td>NaN</td>\n",
              "    </tr>\n",
              "    <tr>\n",
              "      <th>54665</th>\n",
              "      <td>NaN</td>\n",
              "      <td>NaT</td>\n",
              "      <td>NaN</td>\n",
              "      <td>NaT</td>\n",
              "      <td>NaN</td>\n",
              "      <td>NaT</td>\n",
              "      <td>NaN</td>\n",
              "      <td>NaN</td>\n",
              "      <td>NaN</td>\n",
              "      <td>NaN</td>\n",
              "      <td>NaN</td>\n",
              "      <td>NaN</td>\n",
              "      <td>NaN</td>\n",
              "      <td>NaN</td>\n",
              "      <td>NaN</td>\n",
              "      <td>NaN</td>\n",
              "      <td>NaN</td>\n",
              "      <td>NaT</td>\n",
              "      <td>NaN</td>\n",
              "      <td>PENDING CONNECTION</td>\n",
              "      <td>PENDING CONNECTION</td>\n",
              "      <td>NaN</td>\n",
              "    </tr>\n",
              "    <tr>\n",
              "      <th>54666</th>\n",
              "      <td>NaN</td>\n",
              "      <td>NaT</td>\n",
              "      <td>NaN</td>\n",
              "      <td>NaT</td>\n",
              "      <td>NaN</td>\n",
              "      <td>NaT</td>\n",
              "      <td>NaN</td>\n",
              "      <td>NaN</td>\n",
              "      <td>NaN</td>\n",
              "      <td>NaN</td>\n",
              "      <td>NaN</td>\n",
              "      <td>NaN</td>\n",
              "      <td>NaN</td>\n",
              "      <td>NaN</td>\n",
              "      <td>NaN</td>\n",
              "      <td>NaN</td>\n",
              "      <td>NaN</td>\n",
              "      <td>NaT</td>\n",
              "      <td>NaN</td>\n",
              "      <td>PENDING CONNECTION</td>\n",
              "      <td>PENDING CONNECTION</td>\n",
              "      <td>NaN</td>\n",
              "    </tr>\n",
              "    <tr>\n",
              "      <th>54667</th>\n",
              "      <td>NaN</td>\n",
              "      <td>NaT</td>\n",
              "      <td>NaN</td>\n",
              "      <td>NaT</td>\n",
              "      <td>NaN</td>\n",
              "      <td>NaT</td>\n",
              "      <td>NaN</td>\n",
              "      <td>NaN</td>\n",
              "      <td>NaN</td>\n",
              "      <td>NaN</td>\n",
              "      <td>NaN</td>\n",
              "      <td>NaN</td>\n",
              "      <td>NaN</td>\n",
              "      <td>NaN</td>\n",
              "      <td>NaN</td>\n",
              "      <td>NaN</td>\n",
              "      <td>NaN</td>\n",
              "      <td>NaT</td>\n",
              "      <td>NaN</td>\n",
              "      <td>PENDING CONNECTION</td>\n",
              "      <td>PENDING CONNECTION</td>\n",
              "      <td>NaN</td>\n",
              "    </tr>\n",
              "  </tbody>\n",
              "</table>\n",
              "</div>"
            ],
            "text/plain": [
              "       CI SALE_DATE  ...     MONTH_CONNECTED ZONED\n",
              "54663 NaN       NaT  ...  PENDING CONNECTION   NaN\n",
              "54664 NaN       NaT  ...  PENDING CONNECTION   NaN\n",
              "54665 NaN       NaT  ...  PENDING CONNECTION   NaN\n",
              "54666 NaN       NaT  ...  PENDING CONNECTION   NaN\n",
              "54667 NaN       NaT  ...  PENDING CONNECTION   NaN\n",
              "\n",
              "[5 rows x 22 columns]"
            ]
          },
          "metadata": {},
          "execution_count": 5
        }
      ]
    },
    {
      "cell_type": "markdown",
      "metadata": {
        "id": "xK8wKvXLR4VR"
      },
      "source": [
        "#### Dealing with null and missing values"
      ]
    },
    {
      "cell_type": "markdown",
      "metadata": {
        "id": "5njhtQwCSSQ8"
      },
      "source": [
        "Pandas treat None and NaN as essentially interchangeable for indicating missing or null values.\n",
        "\n",
        "To facilitate this convention, there are several useful functions for detecting, removing, and replacing null values in Pandas DataFrame :\n",
        "* isnull()\n",
        "* notnull()\n",
        "* dropna()\n",
        "* fillna()\n",
        "* replace()\n",
        "* interpolate()"
      ]
    },
    {
      "cell_type": "markdown",
      "metadata": {
        "id": "WJRB8h72TCWc"
      },
      "source": [
        "In order to check missing values in Pandas DataFrame, we use a function isnull() and notnull(). Both function help in checking whether a value is NaN or not. These function can also be used in Pandas Series in order to find null values in a series."
      ]
    },
    {
      "cell_type": "code",
      "metadata": {
        "colab": {
          "base_uri": "https://localhost:8080/",
          "height": 439
        },
        "id": "vOxgeb44SH_b",
        "outputId": "f05c03bf-836c-45ce-b2a0-0218b807043e"
      },
      "source": [
        "# using isnull() function  \n",
        "fibre.isnull()"
      ],
      "execution_count": 6,
      "outputs": [
        {
          "output_type": "execute_result",
          "data": {
            "text/html": [
              "<div>\n",
              "<style scoped>\n",
              "    .dataframe tbody tr th:only-of-type {\n",
              "        vertical-align: middle;\n",
              "    }\n",
              "\n",
              "    .dataframe tbody tr th {\n",
              "        vertical-align: top;\n",
              "    }\n",
              "\n",
              "    .dataframe thead th {\n",
              "        text-align: right;\n",
              "    }\n",
              "</style>\n",
              "<table border=\"1\" class=\"dataframe\">\n",
              "  <thead>\n",
              "    <tr style=\"text-align: right;\">\n",
              "      <th></th>\n",
              "      <th>CI</th>\n",
              "      <th>SALE_DATE</th>\n",
              "      <th>PAYMENT_STATUS</th>\n",
              "      <th>PAYMENT_DATE</th>\n",
              "      <th>REMEDY_STATUS</th>\n",
              "      <th>REMEDY_DATE</th>\n",
              "      <th>IPCC_WHITELIST_STATUS</th>\n",
              "      <th>CRQ_CLOSURE_STATUS</th>\n",
              "      <th>ONT_SERIAL_NO</th>\n",
              "      <th>IPCC_STATUS_DETAILS</th>\n",
              "      <th>AGENCY_NAME</th>\n",
              "      <th>CONTRACTOR_NAME</th>\n",
              "      <th>SERVICE_PLAN_NAME</th>\n",
              "      <th>REGION_NAME</th>\n",
              "      <th>ZONE</th>\n",
              "      <th>TIER</th>\n",
              "      <th>CHANNEL</th>\n",
              "      <th>DATE</th>\n",
              "      <th>MONTH</th>\n",
              "      <th>STATUS</th>\n",
              "      <th>MONTH_CONNECTED</th>\n",
              "      <th>ZONED</th>\n",
              "    </tr>\n",
              "  </thead>\n",
              "  <tbody>\n",
              "    <tr>\n",
              "      <th>0</th>\n",
              "      <td>False</td>\n",
              "      <td>False</td>\n",
              "      <td>False</td>\n",
              "      <td>False</td>\n",
              "      <td>False</td>\n",
              "      <td>False</td>\n",
              "      <td>False</td>\n",
              "      <td>False</td>\n",
              "      <td>False</td>\n",
              "      <td>False</td>\n",
              "      <td>False</td>\n",
              "      <td>False</td>\n",
              "      <td>False</td>\n",
              "      <td>False</td>\n",
              "      <td>False</td>\n",
              "      <td>False</td>\n",
              "      <td>False</td>\n",
              "      <td>False</td>\n",
              "      <td>False</td>\n",
              "      <td>False</td>\n",
              "      <td>False</td>\n",
              "      <td>False</td>\n",
              "    </tr>\n",
              "    <tr>\n",
              "      <th>1</th>\n",
              "      <td>False</td>\n",
              "      <td>False</td>\n",
              "      <td>False</td>\n",
              "      <td>False</td>\n",
              "      <td>False</td>\n",
              "      <td>False</td>\n",
              "      <td>False</td>\n",
              "      <td>False</td>\n",
              "      <td>False</td>\n",
              "      <td>False</td>\n",
              "      <td>False</td>\n",
              "      <td>False</td>\n",
              "      <td>False</td>\n",
              "      <td>False</td>\n",
              "      <td>False</td>\n",
              "      <td>False</td>\n",
              "      <td>False</td>\n",
              "      <td>False</td>\n",
              "      <td>False</td>\n",
              "      <td>False</td>\n",
              "      <td>False</td>\n",
              "      <td>False</td>\n",
              "    </tr>\n",
              "    <tr>\n",
              "      <th>2</th>\n",
              "      <td>False</td>\n",
              "      <td>False</td>\n",
              "      <td>False</td>\n",
              "      <td>False</td>\n",
              "      <td>False</td>\n",
              "      <td>False</td>\n",
              "      <td>False</td>\n",
              "      <td>False</td>\n",
              "      <td>False</td>\n",
              "      <td>False</td>\n",
              "      <td>False</td>\n",
              "      <td>False</td>\n",
              "      <td>False</td>\n",
              "      <td>False</td>\n",
              "      <td>False</td>\n",
              "      <td>False</td>\n",
              "      <td>False</td>\n",
              "      <td>False</td>\n",
              "      <td>False</td>\n",
              "      <td>False</td>\n",
              "      <td>False</td>\n",
              "      <td>False</td>\n",
              "    </tr>\n",
              "    <tr>\n",
              "      <th>3</th>\n",
              "      <td>False</td>\n",
              "      <td>False</td>\n",
              "      <td>False</td>\n",
              "      <td>False</td>\n",
              "      <td>False</td>\n",
              "      <td>False</td>\n",
              "      <td>False</td>\n",
              "      <td>False</td>\n",
              "      <td>False</td>\n",
              "      <td>False</td>\n",
              "      <td>False</td>\n",
              "      <td>False</td>\n",
              "      <td>False</td>\n",
              "      <td>False</td>\n",
              "      <td>False</td>\n",
              "      <td>False</td>\n",
              "      <td>False</td>\n",
              "      <td>False</td>\n",
              "      <td>False</td>\n",
              "      <td>False</td>\n",
              "      <td>False</td>\n",
              "      <td>False</td>\n",
              "    </tr>\n",
              "    <tr>\n",
              "      <th>4</th>\n",
              "      <td>False</td>\n",
              "      <td>False</td>\n",
              "      <td>False</td>\n",
              "      <td>False</td>\n",
              "      <td>False</td>\n",
              "      <td>False</td>\n",
              "      <td>False</td>\n",
              "      <td>False</td>\n",
              "      <td>False</td>\n",
              "      <td>False</td>\n",
              "      <td>False</td>\n",
              "      <td>False</td>\n",
              "      <td>False</td>\n",
              "      <td>False</td>\n",
              "      <td>False</td>\n",
              "      <td>False</td>\n",
              "      <td>False</td>\n",
              "      <td>False</td>\n",
              "      <td>False</td>\n",
              "      <td>False</td>\n",
              "      <td>False</td>\n",
              "      <td>False</td>\n",
              "    </tr>\n",
              "    <tr>\n",
              "      <th>...</th>\n",
              "      <td>...</td>\n",
              "      <td>...</td>\n",
              "      <td>...</td>\n",
              "      <td>...</td>\n",
              "      <td>...</td>\n",
              "      <td>...</td>\n",
              "      <td>...</td>\n",
              "      <td>...</td>\n",
              "      <td>...</td>\n",
              "      <td>...</td>\n",
              "      <td>...</td>\n",
              "      <td>...</td>\n",
              "      <td>...</td>\n",
              "      <td>...</td>\n",
              "      <td>...</td>\n",
              "      <td>...</td>\n",
              "      <td>...</td>\n",
              "      <td>...</td>\n",
              "      <td>...</td>\n",
              "      <td>...</td>\n",
              "      <td>...</td>\n",
              "      <td>...</td>\n",
              "    </tr>\n",
              "    <tr>\n",
              "      <th>54663</th>\n",
              "      <td>True</td>\n",
              "      <td>True</td>\n",
              "      <td>True</td>\n",
              "      <td>True</td>\n",
              "      <td>True</td>\n",
              "      <td>True</td>\n",
              "      <td>True</td>\n",
              "      <td>True</td>\n",
              "      <td>True</td>\n",
              "      <td>True</td>\n",
              "      <td>True</td>\n",
              "      <td>True</td>\n",
              "      <td>True</td>\n",
              "      <td>True</td>\n",
              "      <td>True</td>\n",
              "      <td>True</td>\n",
              "      <td>True</td>\n",
              "      <td>True</td>\n",
              "      <td>True</td>\n",
              "      <td>False</td>\n",
              "      <td>False</td>\n",
              "      <td>True</td>\n",
              "    </tr>\n",
              "    <tr>\n",
              "      <th>54664</th>\n",
              "      <td>True</td>\n",
              "      <td>True</td>\n",
              "      <td>True</td>\n",
              "      <td>True</td>\n",
              "      <td>True</td>\n",
              "      <td>True</td>\n",
              "      <td>True</td>\n",
              "      <td>True</td>\n",
              "      <td>True</td>\n",
              "      <td>True</td>\n",
              "      <td>True</td>\n",
              "      <td>True</td>\n",
              "      <td>True</td>\n",
              "      <td>True</td>\n",
              "      <td>True</td>\n",
              "      <td>True</td>\n",
              "      <td>True</td>\n",
              "      <td>True</td>\n",
              "      <td>True</td>\n",
              "      <td>False</td>\n",
              "      <td>False</td>\n",
              "      <td>True</td>\n",
              "    </tr>\n",
              "    <tr>\n",
              "      <th>54665</th>\n",
              "      <td>True</td>\n",
              "      <td>True</td>\n",
              "      <td>True</td>\n",
              "      <td>True</td>\n",
              "      <td>True</td>\n",
              "      <td>True</td>\n",
              "      <td>True</td>\n",
              "      <td>True</td>\n",
              "      <td>True</td>\n",
              "      <td>True</td>\n",
              "      <td>True</td>\n",
              "      <td>True</td>\n",
              "      <td>True</td>\n",
              "      <td>True</td>\n",
              "      <td>True</td>\n",
              "      <td>True</td>\n",
              "      <td>True</td>\n",
              "      <td>True</td>\n",
              "      <td>True</td>\n",
              "      <td>False</td>\n",
              "      <td>False</td>\n",
              "      <td>True</td>\n",
              "    </tr>\n",
              "    <tr>\n",
              "      <th>54666</th>\n",
              "      <td>True</td>\n",
              "      <td>True</td>\n",
              "      <td>True</td>\n",
              "      <td>True</td>\n",
              "      <td>True</td>\n",
              "      <td>True</td>\n",
              "      <td>True</td>\n",
              "      <td>True</td>\n",
              "      <td>True</td>\n",
              "      <td>True</td>\n",
              "      <td>True</td>\n",
              "      <td>True</td>\n",
              "      <td>True</td>\n",
              "      <td>True</td>\n",
              "      <td>True</td>\n",
              "      <td>True</td>\n",
              "      <td>True</td>\n",
              "      <td>True</td>\n",
              "      <td>True</td>\n",
              "      <td>False</td>\n",
              "      <td>False</td>\n",
              "      <td>True</td>\n",
              "    </tr>\n",
              "    <tr>\n",
              "      <th>54667</th>\n",
              "      <td>True</td>\n",
              "      <td>True</td>\n",
              "      <td>True</td>\n",
              "      <td>True</td>\n",
              "      <td>True</td>\n",
              "      <td>True</td>\n",
              "      <td>True</td>\n",
              "      <td>True</td>\n",
              "      <td>True</td>\n",
              "      <td>True</td>\n",
              "      <td>True</td>\n",
              "      <td>True</td>\n",
              "      <td>True</td>\n",
              "      <td>True</td>\n",
              "      <td>True</td>\n",
              "      <td>True</td>\n",
              "      <td>True</td>\n",
              "      <td>True</td>\n",
              "      <td>True</td>\n",
              "      <td>False</td>\n",
              "      <td>False</td>\n",
              "      <td>True</td>\n",
              "    </tr>\n",
              "  </tbody>\n",
              "</table>\n",
              "<p>54668 rows × 22 columns</p>\n",
              "</div>"
            ],
            "text/plain": [
              "          CI  SALE_DATE  PAYMENT_STATUS  ...  STATUS  MONTH_CONNECTED  ZONED\n",
              "0      False      False           False  ...   False            False  False\n",
              "1      False      False           False  ...   False            False  False\n",
              "2      False      False           False  ...   False            False  False\n",
              "3      False      False           False  ...   False            False  False\n",
              "4      False      False           False  ...   False            False  False\n",
              "...      ...        ...             ...  ...     ...              ...    ...\n",
              "54663   True       True            True  ...   False            False   True\n",
              "54664   True       True            True  ...   False            False   True\n",
              "54665   True       True            True  ...   False            False   True\n",
              "54666   True       True            True  ...   False            False   True\n",
              "54667   True       True            True  ...   False            False   True\n",
              "\n",
              "[54668 rows x 22 columns]"
            ]
          },
          "metadata": {},
          "execution_count": 6
        }
      ]
    },
    {
      "cell_type": "code",
      "metadata": {
        "colab": {
          "base_uri": "https://localhost:8080/",
          "height": 439
        },
        "id": "BBylp0j5TNHe",
        "outputId": "0daffc74-e2c3-4dde-d613-86aac6b4f020"
      },
      "source": [
        "# using notnull() function \n",
        "fibre.notnull()"
      ],
      "execution_count": 7,
      "outputs": [
        {
          "output_type": "execute_result",
          "data": {
            "text/html": [
              "<div>\n",
              "<style scoped>\n",
              "    .dataframe tbody tr th:only-of-type {\n",
              "        vertical-align: middle;\n",
              "    }\n",
              "\n",
              "    .dataframe tbody tr th {\n",
              "        vertical-align: top;\n",
              "    }\n",
              "\n",
              "    .dataframe thead th {\n",
              "        text-align: right;\n",
              "    }\n",
              "</style>\n",
              "<table border=\"1\" class=\"dataframe\">\n",
              "  <thead>\n",
              "    <tr style=\"text-align: right;\">\n",
              "      <th></th>\n",
              "      <th>CI</th>\n",
              "      <th>SALE_DATE</th>\n",
              "      <th>PAYMENT_STATUS</th>\n",
              "      <th>PAYMENT_DATE</th>\n",
              "      <th>REMEDY_STATUS</th>\n",
              "      <th>REMEDY_DATE</th>\n",
              "      <th>IPCC_WHITELIST_STATUS</th>\n",
              "      <th>CRQ_CLOSURE_STATUS</th>\n",
              "      <th>ONT_SERIAL_NO</th>\n",
              "      <th>IPCC_STATUS_DETAILS</th>\n",
              "      <th>AGENCY_NAME</th>\n",
              "      <th>CONTRACTOR_NAME</th>\n",
              "      <th>SERVICE_PLAN_NAME</th>\n",
              "      <th>REGION_NAME</th>\n",
              "      <th>ZONE</th>\n",
              "      <th>TIER</th>\n",
              "      <th>CHANNEL</th>\n",
              "      <th>DATE</th>\n",
              "      <th>MONTH</th>\n",
              "      <th>STATUS</th>\n",
              "      <th>MONTH_CONNECTED</th>\n",
              "      <th>ZONED</th>\n",
              "    </tr>\n",
              "  </thead>\n",
              "  <tbody>\n",
              "    <tr>\n",
              "      <th>0</th>\n",
              "      <td>True</td>\n",
              "      <td>True</td>\n",
              "      <td>True</td>\n",
              "      <td>True</td>\n",
              "      <td>True</td>\n",
              "      <td>True</td>\n",
              "      <td>True</td>\n",
              "      <td>True</td>\n",
              "      <td>True</td>\n",
              "      <td>True</td>\n",
              "      <td>True</td>\n",
              "      <td>True</td>\n",
              "      <td>True</td>\n",
              "      <td>True</td>\n",
              "      <td>True</td>\n",
              "      <td>True</td>\n",
              "      <td>True</td>\n",
              "      <td>True</td>\n",
              "      <td>True</td>\n",
              "      <td>True</td>\n",
              "      <td>True</td>\n",
              "      <td>True</td>\n",
              "    </tr>\n",
              "    <tr>\n",
              "      <th>1</th>\n",
              "      <td>True</td>\n",
              "      <td>True</td>\n",
              "      <td>True</td>\n",
              "      <td>True</td>\n",
              "      <td>True</td>\n",
              "      <td>True</td>\n",
              "      <td>True</td>\n",
              "      <td>True</td>\n",
              "      <td>True</td>\n",
              "      <td>True</td>\n",
              "      <td>True</td>\n",
              "      <td>True</td>\n",
              "      <td>True</td>\n",
              "      <td>True</td>\n",
              "      <td>True</td>\n",
              "      <td>True</td>\n",
              "      <td>True</td>\n",
              "      <td>True</td>\n",
              "      <td>True</td>\n",
              "      <td>True</td>\n",
              "      <td>True</td>\n",
              "      <td>True</td>\n",
              "    </tr>\n",
              "    <tr>\n",
              "      <th>2</th>\n",
              "      <td>True</td>\n",
              "      <td>True</td>\n",
              "      <td>True</td>\n",
              "      <td>True</td>\n",
              "      <td>True</td>\n",
              "      <td>True</td>\n",
              "      <td>True</td>\n",
              "      <td>True</td>\n",
              "      <td>True</td>\n",
              "      <td>True</td>\n",
              "      <td>True</td>\n",
              "      <td>True</td>\n",
              "      <td>True</td>\n",
              "      <td>True</td>\n",
              "      <td>True</td>\n",
              "      <td>True</td>\n",
              "      <td>True</td>\n",
              "      <td>True</td>\n",
              "      <td>True</td>\n",
              "      <td>True</td>\n",
              "      <td>True</td>\n",
              "      <td>True</td>\n",
              "    </tr>\n",
              "    <tr>\n",
              "      <th>3</th>\n",
              "      <td>True</td>\n",
              "      <td>True</td>\n",
              "      <td>True</td>\n",
              "      <td>True</td>\n",
              "      <td>True</td>\n",
              "      <td>True</td>\n",
              "      <td>True</td>\n",
              "      <td>True</td>\n",
              "      <td>True</td>\n",
              "      <td>True</td>\n",
              "      <td>True</td>\n",
              "      <td>True</td>\n",
              "      <td>True</td>\n",
              "      <td>True</td>\n",
              "      <td>True</td>\n",
              "      <td>True</td>\n",
              "      <td>True</td>\n",
              "      <td>True</td>\n",
              "      <td>True</td>\n",
              "      <td>True</td>\n",
              "      <td>True</td>\n",
              "      <td>True</td>\n",
              "    </tr>\n",
              "    <tr>\n",
              "      <th>4</th>\n",
              "      <td>True</td>\n",
              "      <td>True</td>\n",
              "      <td>True</td>\n",
              "      <td>True</td>\n",
              "      <td>True</td>\n",
              "      <td>True</td>\n",
              "      <td>True</td>\n",
              "      <td>True</td>\n",
              "      <td>True</td>\n",
              "      <td>True</td>\n",
              "      <td>True</td>\n",
              "      <td>True</td>\n",
              "      <td>True</td>\n",
              "      <td>True</td>\n",
              "      <td>True</td>\n",
              "      <td>True</td>\n",
              "      <td>True</td>\n",
              "      <td>True</td>\n",
              "      <td>True</td>\n",
              "      <td>True</td>\n",
              "      <td>True</td>\n",
              "      <td>True</td>\n",
              "    </tr>\n",
              "    <tr>\n",
              "      <th>...</th>\n",
              "      <td>...</td>\n",
              "      <td>...</td>\n",
              "      <td>...</td>\n",
              "      <td>...</td>\n",
              "      <td>...</td>\n",
              "      <td>...</td>\n",
              "      <td>...</td>\n",
              "      <td>...</td>\n",
              "      <td>...</td>\n",
              "      <td>...</td>\n",
              "      <td>...</td>\n",
              "      <td>...</td>\n",
              "      <td>...</td>\n",
              "      <td>...</td>\n",
              "      <td>...</td>\n",
              "      <td>...</td>\n",
              "      <td>...</td>\n",
              "      <td>...</td>\n",
              "      <td>...</td>\n",
              "      <td>...</td>\n",
              "      <td>...</td>\n",
              "      <td>...</td>\n",
              "    </tr>\n",
              "    <tr>\n",
              "      <th>54663</th>\n",
              "      <td>False</td>\n",
              "      <td>False</td>\n",
              "      <td>False</td>\n",
              "      <td>False</td>\n",
              "      <td>False</td>\n",
              "      <td>False</td>\n",
              "      <td>False</td>\n",
              "      <td>False</td>\n",
              "      <td>False</td>\n",
              "      <td>False</td>\n",
              "      <td>False</td>\n",
              "      <td>False</td>\n",
              "      <td>False</td>\n",
              "      <td>False</td>\n",
              "      <td>False</td>\n",
              "      <td>False</td>\n",
              "      <td>False</td>\n",
              "      <td>False</td>\n",
              "      <td>False</td>\n",
              "      <td>True</td>\n",
              "      <td>True</td>\n",
              "      <td>False</td>\n",
              "    </tr>\n",
              "    <tr>\n",
              "      <th>54664</th>\n",
              "      <td>False</td>\n",
              "      <td>False</td>\n",
              "      <td>False</td>\n",
              "      <td>False</td>\n",
              "      <td>False</td>\n",
              "      <td>False</td>\n",
              "      <td>False</td>\n",
              "      <td>False</td>\n",
              "      <td>False</td>\n",
              "      <td>False</td>\n",
              "      <td>False</td>\n",
              "      <td>False</td>\n",
              "      <td>False</td>\n",
              "      <td>False</td>\n",
              "      <td>False</td>\n",
              "      <td>False</td>\n",
              "      <td>False</td>\n",
              "      <td>False</td>\n",
              "      <td>False</td>\n",
              "      <td>True</td>\n",
              "      <td>True</td>\n",
              "      <td>False</td>\n",
              "    </tr>\n",
              "    <tr>\n",
              "      <th>54665</th>\n",
              "      <td>False</td>\n",
              "      <td>False</td>\n",
              "      <td>False</td>\n",
              "      <td>False</td>\n",
              "      <td>False</td>\n",
              "      <td>False</td>\n",
              "      <td>False</td>\n",
              "      <td>False</td>\n",
              "      <td>False</td>\n",
              "      <td>False</td>\n",
              "      <td>False</td>\n",
              "      <td>False</td>\n",
              "      <td>False</td>\n",
              "      <td>False</td>\n",
              "      <td>False</td>\n",
              "      <td>False</td>\n",
              "      <td>False</td>\n",
              "      <td>False</td>\n",
              "      <td>False</td>\n",
              "      <td>True</td>\n",
              "      <td>True</td>\n",
              "      <td>False</td>\n",
              "    </tr>\n",
              "    <tr>\n",
              "      <th>54666</th>\n",
              "      <td>False</td>\n",
              "      <td>False</td>\n",
              "      <td>False</td>\n",
              "      <td>False</td>\n",
              "      <td>False</td>\n",
              "      <td>False</td>\n",
              "      <td>False</td>\n",
              "      <td>False</td>\n",
              "      <td>False</td>\n",
              "      <td>False</td>\n",
              "      <td>False</td>\n",
              "      <td>False</td>\n",
              "      <td>False</td>\n",
              "      <td>False</td>\n",
              "      <td>False</td>\n",
              "      <td>False</td>\n",
              "      <td>False</td>\n",
              "      <td>False</td>\n",
              "      <td>False</td>\n",
              "      <td>True</td>\n",
              "      <td>True</td>\n",
              "      <td>False</td>\n",
              "    </tr>\n",
              "    <tr>\n",
              "      <th>54667</th>\n",
              "      <td>False</td>\n",
              "      <td>False</td>\n",
              "      <td>False</td>\n",
              "      <td>False</td>\n",
              "      <td>False</td>\n",
              "      <td>False</td>\n",
              "      <td>False</td>\n",
              "      <td>False</td>\n",
              "      <td>False</td>\n",
              "      <td>False</td>\n",
              "      <td>False</td>\n",
              "      <td>False</td>\n",
              "      <td>False</td>\n",
              "      <td>False</td>\n",
              "      <td>False</td>\n",
              "      <td>False</td>\n",
              "      <td>False</td>\n",
              "      <td>False</td>\n",
              "      <td>False</td>\n",
              "      <td>True</td>\n",
              "      <td>True</td>\n",
              "      <td>False</td>\n",
              "    </tr>\n",
              "  </tbody>\n",
              "</table>\n",
              "<p>54668 rows × 22 columns</p>\n",
              "</div>"
            ],
            "text/plain": [
              "          CI  SALE_DATE  PAYMENT_STATUS  ...  STATUS  MONTH_CONNECTED  ZONED\n",
              "0       True       True            True  ...    True             True   True\n",
              "1       True       True            True  ...    True             True   True\n",
              "2       True       True            True  ...    True             True   True\n",
              "3       True       True            True  ...    True             True   True\n",
              "4       True       True            True  ...    True             True   True\n",
              "...      ...        ...             ...  ...     ...              ...    ...\n",
              "54663  False      False           False  ...    True             True  False\n",
              "54664  False      False           False  ...    True             True  False\n",
              "54665  False      False           False  ...    True             True  False\n",
              "54666  False      False           False  ...    True             True  False\n",
              "54667  False      False           False  ...    True             True  False\n",
              "\n",
              "[54668 rows x 22 columns]"
            ]
          },
          "metadata": {},
          "execution_count": 7
        }
      ]
    },
    {
      "cell_type": "markdown",
      "metadata": {
        "id": "aCRVaQceUMbr"
      },
      "source": [
        "Use df. dropna() to drop rows with NaN from a Pandas dataframe. Call df. dropna(subset, inplace=True) with inplace set to True and subset set to a list of column names to drop all rows that contain NaN under those columns."
      ]
    },
    {
      "cell_type": "code",
      "metadata": {
        "colab": {
          "base_uri": "https://localhost:8080/",
          "height": 779
        },
        "id": "TcFWKwHYAf8T",
        "outputId": "28867968-bf1b-4b20-8756-f5dd46bd0d66"
      },
      "source": [
        "#we drop rows that have nan in them using drop.na\n",
        "fibre.dropna()"
      ],
      "execution_count": 8,
      "outputs": [
        {
          "output_type": "execute_result",
          "data": {
            "text/html": [
              "<div>\n",
              "<style scoped>\n",
              "    .dataframe tbody tr th:only-of-type {\n",
              "        vertical-align: middle;\n",
              "    }\n",
              "\n",
              "    .dataframe tbody tr th {\n",
              "        vertical-align: top;\n",
              "    }\n",
              "\n",
              "    .dataframe thead th {\n",
              "        text-align: right;\n",
              "    }\n",
              "</style>\n",
              "<table border=\"1\" class=\"dataframe\">\n",
              "  <thead>\n",
              "    <tr style=\"text-align: right;\">\n",
              "      <th></th>\n",
              "      <th>CI</th>\n",
              "      <th>SALE_DATE</th>\n",
              "      <th>PAYMENT_STATUS</th>\n",
              "      <th>PAYMENT_DATE</th>\n",
              "      <th>REMEDY_STATUS</th>\n",
              "      <th>REMEDY_DATE</th>\n",
              "      <th>IPCC_WHITELIST_STATUS</th>\n",
              "      <th>CRQ_CLOSURE_STATUS</th>\n",
              "      <th>ONT_SERIAL_NO</th>\n",
              "      <th>IPCC_STATUS_DETAILS</th>\n",
              "      <th>AGENCY_NAME</th>\n",
              "      <th>CONTRACTOR_NAME</th>\n",
              "      <th>SERVICE_PLAN_NAME</th>\n",
              "      <th>REGION_NAME</th>\n",
              "      <th>ZONE</th>\n",
              "      <th>TIER</th>\n",
              "      <th>CHANNEL</th>\n",
              "      <th>DATE</th>\n",
              "      <th>MONTH</th>\n",
              "      <th>STATUS</th>\n",
              "      <th>MONTH_CONNECTED</th>\n",
              "      <th>ZONED</th>\n",
              "    </tr>\n",
              "  </thead>\n",
              "  <tbody>\n",
              "    <tr>\n",
              "      <th>0</th>\n",
              "      <td>11221313.0</td>\n",
              "      <td>2021-04-01 22:20:00</td>\n",
              "      <td>PAID</td>\n",
              "      <td>2021-04-01 22:47:00</td>\n",
              "      <td>TICKET_RAISED</td>\n",
              "      <td>2021-04-01 22:48:00</td>\n",
              "      <td>Whitelisted</td>\n",
              "      <td>Pending_Closure</td>\n",
              "      <td>485754436155DA4</td>\n",
              "      <td>Successfully_Whitelisted</td>\n",
              "      <td>FONECALL</td>\n",
              "      <td>Egypro</td>\n",
              "      <td>Bronze</td>\n",
              "      <td>Nairobi West</td>\n",
              "      <td>Kilimani</td>\n",
              "      <td>Tier 3</td>\n",
              "      <td>DSAs</td>\n",
              "      <td>2021-04-01</td>\n",
              "      <td>April</td>\n",
              "      <td>Connected</td>\n",
              "      <td>April</td>\n",
              "      <td>Unzoned</td>\n",
              "    </tr>\n",
              "    <tr>\n",
              "      <th>1</th>\n",
              "      <td>11221308.0</td>\n",
              "      <td>2021-04-01 21:33:00</td>\n",
              "      <td>PAID</td>\n",
              "      <td>2021-04-01 21:44:00</td>\n",
              "      <td>TICKET_RAISED</td>\n",
              "      <td>2021-04-01 21:45:00</td>\n",
              "      <td>Whitelisted</td>\n",
              "      <td>Pending_Closure</td>\n",
              "      <td>485754436058BEA4</td>\n",
              "      <td>Successfully_Whitelisted</td>\n",
              "      <td>Cellnet Ltd</td>\n",
              "      <td>Adrian</td>\n",
              "      <td>Silver</td>\n",
              "      <td>Nairobi West</td>\n",
              "      <td>Ruaka Kabete</td>\n",
              "      <td>Tier 2</td>\n",
              "      <td>DSAs</td>\n",
              "      <td>2021-04-01</td>\n",
              "      <td>April</td>\n",
              "      <td>Connected</td>\n",
              "      <td>April</td>\n",
              "      <td>zoned</td>\n",
              "    </tr>\n",
              "    <tr>\n",
              "      <th>2</th>\n",
              "      <td>11221307.0</td>\n",
              "      <td>2021-04-01 21:27:00</td>\n",
              "      <td>PAID</td>\n",
              "      <td>2021-04-01 21:44:00</td>\n",
              "      <td>TICKET_RAISED</td>\n",
              "      <td>2021-04-01 21:45:00</td>\n",
              "      <td>Whitelisted</td>\n",
              "      <td>Pending_Closure</td>\n",
              "      <td>48575443E3D0929E</td>\n",
              "      <td>Already_Whitelisted</td>\n",
              "      <td>SMARTCHIP DYNAMICS LIMITED</td>\n",
              "      <td>Adrian</td>\n",
              "      <td>Bronze</td>\n",
              "      <td>Nairobi West</td>\n",
              "      <td>Waiyaki Way</td>\n",
              "      <td>Tier 1</td>\n",
              "      <td>DSAs</td>\n",
              "      <td>2021-04-01</td>\n",
              "      <td>April</td>\n",
              "      <td>Connected</td>\n",
              "      <td>April</td>\n",
              "      <td>Unzoned</td>\n",
              "    </tr>\n",
              "    <tr>\n",
              "      <th>3</th>\n",
              "      <td>11221304.0</td>\n",
              "      <td>2021-04-01 21:11:00</td>\n",
              "      <td>PAID</td>\n",
              "      <td>2021-04-01 21:38:00</td>\n",
              "      <td>TICKET_RAISED</td>\n",
              "      <td>2021-04-01 21:39:00</td>\n",
              "      <td>Whitelisted</td>\n",
              "      <td>Pending_Closure</td>\n",
              "      <td>Not in design -1.524071; 36.961548</td>\n",
              "      <td>Successfully_Whitelisted</td>\n",
              "      <td>Adrian Kenya</td>\n",
              "      <td>Adrian</td>\n",
              "      <td>Bronze</td>\n",
              "      <td>Nairobi East</td>\n",
              "      <td>Kitengela</td>\n",
              "      <td>Tier 2</td>\n",
              "      <td>DSAs</td>\n",
              "      <td>2021-04-01</td>\n",
              "      <td>April</td>\n",
              "      <td>REVERSALS</td>\n",
              "      <td>REVERSALS</td>\n",
              "      <td>zoned</td>\n",
              "    </tr>\n",
              "    <tr>\n",
              "      <th>4</th>\n",
              "      <td>11221298.0</td>\n",
              "      <td>2021-04-01 20:31:00</td>\n",
              "      <td>PAID</td>\n",
              "      <td>2021-04-01 22:17:00</td>\n",
              "      <td>TICKET_RAISED</td>\n",
              "      <td>2021-04-01 22:18:00</td>\n",
              "      <td>Whitelisted</td>\n",
              "      <td>Pending_Closure</td>\n",
              "      <td>485754436159B6A4</td>\n",
              "      <td>Successfully_Whitelisted</td>\n",
              "      <td>Adrian Kenya</td>\n",
              "      <td>Huawei</td>\n",
              "      <td>Bronze</td>\n",
              "      <td>Nairobi East</td>\n",
              "      <td>Kitengela</td>\n",
              "      <td>Tier 1</td>\n",
              "      <td>DSAs</td>\n",
              "      <td>2021-04-01</td>\n",
              "      <td>April</td>\n",
              "      <td>Connected</td>\n",
              "      <td>April</td>\n",
              "      <td>zoned</td>\n",
              "    </tr>\n",
              "    <tr>\n",
              "      <th>...</th>\n",
              "      <td>...</td>\n",
              "      <td>...</td>\n",
              "      <td>...</td>\n",
              "      <td>...</td>\n",
              "      <td>...</td>\n",
              "      <td>...</td>\n",
              "      <td>...</td>\n",
              "      <td>...</td>\n",
              "      <td>...</td>\n",
              "      <td>...</td>\n",
              "      <td>...</td>\n",
              "      <td>...</td>\n",
              "      <td>...</td>\n",
              "      <td>...</td>\n",
              "      <td>...</td>\n",
              "      <td>...</td>\n",
              "      <td>...</td>\n",
              "      <td>...</td>\n",
              "      <td>...</td>\n",
              "      <td>...</td>\n",
              "      <td>...</td>\n",
              "      <td>...</td>\n",
              "    </tr>\n",
              "    <tr>\n",
              "      <th>32309</th>\n",
              "      <td>11273162.0</td>\n",
              "      <td>2021-11-05 20:37:00</td>\n",
              "      <td>PAID</td>\n",
              "      <td>2021-11-16 17:27:00</td>\n",
              "      <td>TICKET_RAISED</td>\n",
              "      <td>2021-11-16 17:30:00</td>\n",
              "      <td>Whitelisted</td>\n",
              "      <td>Pending_Closure</td>\n",
              "      <td>0</td>\n",
              "      <td>Successfully_Whitelisted</td>\n",
              "      <td>Latest Communication</td>\n",
              "      <td>Fireside Communications</td>\n",
              "      <td>Silver</td>\n",
              "      <td>Nairobi West</td>\n",
              "      <td>Kianda Naivasha Road</td>\n",
              "      <td>Tier 1</td>\n",
              "      <td>DSAs</td>\n",
              "      <td>2021-11-16</td>\n",
              "      <td>November</td>\n",
              "      <td>PENDING CONNECTION</td>\n",
              "      <td>PENDING CONNECTION</td>\n",
              "      <td>Unzoned</td>\n",
              "    </tr>\n",
              "    <tr>\n",
              "      <th>32310</th>\n",
              "      <td>11272906.0</td>\n",
              "      <td>2021-11-04 11:18:00</td>\n",
              "      <td>PAID</td>\n",
              "      <td>2021-11-16 22:42:00</td>\n",
              "      <td>TICKET_RAISED</td>\n",
              "      <td>2021-11-16 22:45:00</td>\n",
              "      <td>Whitelisted</td>\n",
              "      <td>Pending_Closure</td>\n",
              "      <td>0</td>\n",
              "      <td>Successfully_Whitelisted</td>\n",
              "      <td>Cellnet Ltd</td>\n",
              "      <td>Fireside Communications</td>\n",
              "      <td>Bronze</td>\n",
              "      <td>Nairobi West</td>\n",
              "      <td>Ruaka Kabete</td>\n",
              "      <td>Tier 3</td>\n",
              "      <td>DSAs</td>\n",
              "      <td>2021-11-16</td>\n",
              "      <td>November</td>\n",
              "      <td>PENDING CONNECTION</td>\n",
              "      <td>PENDING CONNECTION</td>\n",
              "      <td>zoned</td>\n",
              "    </tr>\n",
              "    <tr>\n",
              "      <th>32311</th>\n",
              "      <td>11277163.0</td>\n",
              "      <td>2021-11-03 13:00:00</td>\n",
              "      <td>PAID</td>\n",
              "      <td>2021-11-16 19:27:00</td>\n",
              "      <td>TICKET_RAISED</td>\n",
              "      <td>2021-11-16 19:30:00</td>\n",
              "      <td>Whitelisted</td>\n",
              "      <td>Pending_Closure</td>\n",
              "      <td>0</td>\n",
              "      <td>Successfully_Whitelisted</td>\n",
              "      <td>Masaba</td>\n",
              "      <td>Adrian</td>\n",
              "      <td>Silver</td>\n",
              "      <td>Nairobi East</td>\n",
              "      <td>Syokimau</td>\n",
              "      <td>Tier 1</td>\n",
              "      <td>DSAs</td>\n",
              "      <td>2021-11-16</td>\n",
              "      <td>November</td>\n",
              "      <td>PENDING CONNECTION</td>\n",
              "      <td>PENDING CONNECTION</td>\n",
              "      <td>Unzoned</td>\n",
              "    </tr>\n",
              "    <tr>\n",
              "      <th>32312</th>\n",
              "      <td>11283442.0</td>\n",
              "      <td>2021-11-02 13:26:00</td>\n",
              "      <td>PAID</td>\n",
              "      <td>2021-11-16 11:27:00</td>\n",
              "      <td>TICKET_RAISED</td>\n",
              "      <td>2021-11-16 11:30:00</td>\n",
              "      <td>Whitelisted</td>\n",
              "      <td>CRQ_Closed</td>\n",
              "      <td>48575443B3832EA6</td>\n",
              "      <td>Successfully_Whitelisted</td>\n",
              "      <td>Top Image</td>\n",
              "      <td>Adrian</td>\n",
              "      <td>Bronze</td>\n",
              "      <td>Nairobi East</td>\n",
              "      <td>Buruburu-Donholm</td>\n",
              "      <td>Tier 1</td>\n",
              "      <td>Other Channels</td>\n",
              "      <td>2021-11-16</td>\n",
              "      <td>November</td>\n",
              "      <td>Connected</td>\n",
              "      <td>November</td>\n",
              "      <td>zoned</td>\n",
              "    </tr>\n",
              "    <tr>\n",
              "      <th>32313</th>\n",
              "      <td>11265626.0</td>\n",
              "      <td>2021-10-27 15:41:00</td>\n",
              "      <td>PAID</td>\n",
              "      <td>2021-11-16 08:57:00</td>\n",
              "      <td>TICKET_RAISED</td>\n",
              "      <td>2021-11-16 09:00:00</td>\n",
              "      <td>Whitelisted</td>\n",
              "      <td>CRQ_Closed</td>\n",
              "      <td>48575443B0E43CA6</td>\n",
              "      <td>Successfully_Whitelisted</td>\n",
              "      <td>Four Winds Communications</td>\n",
              "      <td>Soliton</td>\n",
              "      <td>Bronze</td>\n",
              "      <td>Nairobi West</td>\n",
              "      <td>RUIRU</td>\n",
              "      <td>Tier 3</td>\n",
              "      <td>DSAs</td>\n",
              "      <td>2021-11-16</td>\n",
              "      <td>November</td>\n",
              "      <td>Connected</td>\n",
              "      <td>November</td>\n",
              "      <td>zoned</td>\n",
              "    </tr>\n",
              "  </tbody>\n",
              "</table>\n",
              "<p>32021 rows × 22 columns</p>\n",
              "</div>"
            ],
            "text/plain": [
              "               CI           SALE_DATE  ...     MONTH_CONNECTED    ZONED\n",
              "0      11221313.0 2021-04-01 22:20:00  ...               April  Unzoned\n",
              "1      11221308.0 2021-04-01 21:33:00  ...               April    zoned\n",
              "2      11221307.0 2021-04-01 21:27:00  ...               April  Unzoned\n",
              "3      11221304.0 2021-04-01 21:11:00  ...           REVERSALS    zoned\n",
              "4      11221298.0 2021-04-01 20:31:00  ...               April    zoned\n",
              "...           ...                 ...  ...                 ...      ...\n",
              "32309  11273162.0 2021-11-05 20:37:00  ...  PENDING CONNECTION  Unzoned\n",
              "32310  11272906.0 2021-11-04 11:18:00  ...  PENDING CONNECTION    zoned\n",
              "32311  11277163.0 2021-11-03 13:00:00  ...  PENDING CONNECTION  Unzoned\n",
              "32312  11283442.0 2021-11-02 13:26:00  ...            November    zoned\n",
              "32313  11265626.0 2021-10-27 15:41:00  ...            November    zoned\n",
              "\n",
              "[32021 rows x 22 columns]"
            ]
          },
          "metadata": {},
          "execution_count": 8
        }
      ]
    },
    {
      "cell_type": "code",
      "metadata": {
        "colab": {
          "base_uri": "https://localhost:8080/"
        },
        "id": "lnNslTJI0VQ1",
        "outputId": "43e16c1b-336f-45e4-8aeb-9fa1aa8acb70"
      },
      "source": [
        "fibre.isnull().sum()"
      ],
      "execution_count": 9,
      "outputs": [
        {
          "output_type": "execute_result",
          "data": {
            "text/plain": [
              "CI                       22354\n",
              "SALE_DATE                22354\n",
              "PAYMENT_STATUS           22354\n",
              "PAYMENT_DATE             22354\n",
              "REMEDY_STATUS            22354\n",
              "REMEDY_DATE              22367\n",
              "IPCC_WHITELIST_STATUS    22354\n",
              "CRQ_CLOSURE_STATUS       22354\n",
              "ONT_SERIAL_NO            22354\n",
              "IPCC_STATUS_DETAILS      22548\n",
              "AGENCY_NAME              22398\n",
              "CONTRACTOR_NAME          22354\n",
              "SERVICE_PLAN_NAME        22379\n",
              "REGION_NAME              22354\n",
              "ZONE                     22354\n",
              "TIER                     22354\n",
              "CHANNEL                  22354\n",
              "DATE                     22354\n",
              "MONTH                    22354\n",
              "STATUS                       0\n",
              "MONTH_CONNECTED              0\n",
              "ZONED                    22377\n",
              "dtype: int64"
            ]
          },
          "metadata": {},
          "execution_count": 9
        }
      ]
    },
    {
      "cell_type": "markdown",
      "metadata": {
        "id": "z2oY9Pyty7fT"
      },
      "source": [
        "That leaves our dataset with only 12697 rows which is half dataset instead we take a column we are sure cannot be empty like 'agency_name' or 'service-plan_name' and delete rows that contain null values.\n",
        "\n",
        "we use 'subset' set to a list of column names to drop all rows that contain NaN under those columns."
      ]
    },
    {
      "cell_type": "code",
      "metadata": {
        "colab": {
          "base_uri": "https://localhost:8080/",
          "height": 394
        },
        "id": "ZFj8pPbix855",
        "outputId": "f8a4df71-dac2-4f19-d877-17e2bad872b5"
      },
      "source": [
        "fibre_2=fibre.dropna(subset=['SERVICE_PLAN_NAME'],inplace=False)\n",
        "fibre_2.tail()"
      ],
      "execution_count": 10,
      "outputs": [
        {
          "output_type": "execute_result",
          "data": {
            "text/html": [
              "<div>\n",
              "<style scoped>\n",
              "    .dataframe tbody tr th:only-of-type {\n",
              "        vertical-align: middle;\n",
              "    }\n",
              "\n",
              "    .dataframe tbody tr th {\n",
              "        vertical-align: top;\n",
              "    }\n",
              "\n",
              "    .dataframe thead th {\n",
              "        text-align: right;\n",
              "    }\n",
              "</style>\n",
              "<table border=\"1\" class=\"dataframe\">\n",
              "  <thead>\n",
              "    <tr style=\"text-align: right;\">\n",
              "      <th></th>\n",
              "      <th>CI</th>\n",
              "      <th>SALE_DATE</th>\n",
              "      <th>PAYMENT_STATUS</th>\n",
              "      <th>PAYMENT_DATE</th>\n",
              "      <th>REMEDY_STATUS</th>\n",
              "      <th>REMEDY_DATE</th>\n",
              "      <th>IPCC_WHITELIST_STATUS</th>\n",
              "      <th>CRQ_CLOSURE_STATUS</th>\n",
              "      <th>ONT_SERIAL_NO</th>\n",
              "      <th>IPCC_STATUS_DETAILS</th>\n",
              "      <th>AGENCY_NAME</th>\n",
              "      <th>CONTRACTOR_NAME</th>\n",
              "      <th>SERVICE_PLAN_NAME</th>\n",
              "      <th>REGION_NAME</th>\n",
              "      <th>ZONE</th>\n",
              "      <th>TIER</th>\n",
              "      <th>CHANNEL</th>\n",
              "      <th>DATE</th>\n",
              "      <th>MONTH</th>\n",
              "      <th>STATUS</th>\n",
              "      <th>MONTH_CONNECTED</th>\n",
              "      <th>ZONED</th>\n",
              "    </tr>\n",
              "  </thead>\n",
              "  <tbody>\n",
              "    <tr>\n",
              "      <th>32309</th>\n",
              "      <td>11273162.0</td>\n",
              "      <td>2021-11-05 20:37:00</td>\n",
              "      <td>PAID</td>\n",
              "      <td>2021-11-16 17:27:00</td>\n",
              "      <td>TICKET_RAISED</td>\n",
              "      <td>2021-11-16 17:30:00</td>\n",
              "      <td>Whitelisted</td>\n",
              "      <td>Pending_Closure</td>\n",
              "      <td>0</td>\n",
              "      <td>Successfully_Whitelisted</td>\n",
              "      <td>Latest Communication</td>\n",
              "      <td>Fireside Communications</td>\n",
              "      <td>Silver</td>\n",
              "      <td>Nairobi West</td>\n",
              "      <td>Kianda Naivasha Road</td>\n",
              "      <td>Tier 1</td>\n",
              "      <td>DSAs</td>\n",
              "      <td>2021-11-16</td>\n",
              "      <td>November</td>\n",
              "      <td>PENDING CONNECTION</td>\n",
              "      <td>PENDING CONNECTION</td>\n",
              "      <td>Unzoned</td>\n",
              "    </tr>\n",
              "    <tr>\n",
              "      <th>32310</th>\n",
              "      <td>11272906.0</td>\n",
              "      <td>2021-11-04 11:18:00</td>\n",
              "      <td>PAID</td>\n",
              "      <td>2021-11-16 22:42:00</td>\n",
              "      <td>TICKET_RAISED</td>\n",
              "      <td>2021-11-16 22:45:00</td>\n",
              "      <td>Whitelisted</td>\n",
              "      <td>Pending_Closure</td>\n",
              "      <td>0</td>\n",
              "      <td>Successfully_Whitelisted</td>\n",
              "      <td>Cellnet Ltd</td>\n",
              "      <td>Fireside Communications</td>\n",
              "      <td>Bronze</td>\n",
              "      <td>Nairobi West</td>\n",
              "      <td>Ruaka Kabete</td>\n",
              "      <td>Tier 3</td>\n",
              "      <td>DSAs</td>\n",
              "      <td>2021-11-16</td>\n",
              "      <td>November</td>\n",
              "      <td>PENDING CONNECTION</td>\n",
              "      <td>PENDING CONNECTION</td>\n",
              "      <td>zoned</td>\n",
              "    </tr>\n",
              "    <tr>\n",
              "      <th>32311</th>\n",
              "      <td>11277163.0</td>\n",
              "      <td>2021-11-03 13:00:00</td>\n",
              "      <td>PAID</td>\n",
              "      <td>2021-11-16 19:27:00</td>\n",
              "      <td>TICKET_RAISED</td>\n",
              "      <td>2021-11-16 19:30:00</td>\n",
              "      <td>Whitelisted</td>\n",
              "      <td>Pending_Closure</td>\n",
              "      <td>0</td>\n",
              "      <td>Successfully_Whitelisted</td>\n",
              "      <td>Masaba</td>\n",
              "      <td>Adrian</td>\n",
              "      <td>Silver</td>\n",
              "      <td>Nairobi East</td>\n",
              "      <td>Syokimau</td>\n",
              "      <td>Tier 1</td>\n",
              "      <td>DSAs</td>\n",
              "      <td>2021-11-16</td>\n",
              "      <td>November</td>\n",
              "      <td>PENDING CONNECTION</td>\n",
              "      <td>PENDING CONNECTION</td>\n",
              "      <td>Unzoned</td>\n",
              "    </tr>\n",
              "    <tr>\n",
              "      <th>32312</th>\n",
              "      <td>11283442.0</td>\n",
              "      <td>2021-11-02 13:26:00</td>\n",
              "      <td>PAID</td>\n",
              "      <td>2021-11-16 11:27:00</td>\n",
              "      <td>TICKET_RAISED</td>\n",
              "      <td>2021-11-16 11:30:00</td>\n",
              "      <td>Whitelisted</td>\n",
              "      <td>CRQ_Closed</td>\n",
              "      <td>48575443B3832EA6</td>\n",
              "      <td>Successfully_Whitelisted</td>\n",
              "      <td>Top Image</td>\n",
              "      <td>Adrian</td>\n",
              "      <td>Bronze</td>\n",
              "      <td>Nairobi East</td>\n",
              "      <td>Buruburu-Donholm</td>\n",
              "      <td>Tier 1</td>\n",
              "      <td>Other Channels</td>\n",
              "      <td>2021-11-16</td>\n",
              "      <td>November</td>\n",
              "      <td>Connected</td>\n",
              "      <td>November</td>\n",
              "      <td>zoned</td>\n",
              "    </tr>\n",
              "    <tr>\n",
              "      <th>32313</th>\n",
              "      <td>11265626.0</td>\n",
              "      <td>2021-10-27 15:41:00</td>\n",
              "      <td>PAID</td>\n",
              "      <td>2021-11-16 08:57:00</td>\n",
              "      <td>TICKET_RAISED</td>\n",
              "      <td>2021-11-16 09:00:00</td>\n",
              "      <td>Whitelisted</td>\n",
              "      <td>CRQ_Closed</td>\n",
              "      <td>48575443B0E43CA6</td>\n",
              "      <td>Successfully_Whitelisted</td>\n",
              "      <td>Four Winds Communications</td>\n",
              "      <td>Soliton</td>\n",
              "      <td>Bronze</td>\n",
              "      <td>Nairobi West</td>\n",
              "      <td>RUIRU</td>\n",
              "      <td>Tier 3</td>\n",
              "      <td>DSAs</td>\n",
              "      <td>2021-11-16</td>\n",
              "      <td>November</td>\n",
              "      <td>Connected</td>\n",
              "      <td>November</td>\n",
              "      <td>zoned</td>\n",
              "    </tr>\n",
              "  </tbody>\n",
              "</table>\n",
              "</div>"
            ],
            "text/plain": [
              "               CI           SALE_DATE  ...     MONTH_CONNECTED    ZONED\n",
              "32309  11273162.0 2021-11-05 20:37:00  ...  PENDING CONNECTION  Unzoned\n",
              "32310  11272906.0 2021-11-04 11:18:00  ...  PENDING CONNECTION    zoned\n",
              "32311  11277163.0 2021-11-03 13:00:00  ...  PENDING CONNECTION  Unzoned\n",
              "32312  11283442.0 2021-11-02 13:26:00  ...            November    zoned\n",
              "32313  11265626.0 2021-10-27 15:41:00  ...            November    zoned\n",
              "\n",
              "[5 rows x 22 columns]"
            ]
          },
          "metadata": {},
          "execution_count": 10
        }
      ]
    },
    {
      "cell_type": "code",
      "metadata": {
        "colab": {
          "base_uri": "https://localhost:8080/"
        },
        "id": "zFlUCZG23JLw",
        "outputId": "e2085b6e-acfe-49fc-d7cf-c807069cc327"
      },
      "source": [
        "fibre_2.isnull().sum()"
      ],
      "execution_count": 11,
      "outputs": [
        {
          "output_type": "execute_result",
          "data": {
            "text/plain": [
              "CI                         0\n",
              "SALE_DATE                  0\n",
              "PAYMENT_STATUS             0\n",
              "PAYMENT_DATE               0\n",
              "REMEDY_STATUS              0\n",
              "REMEDY_DATE               13\n",
              "IPCC_WHITELIST_STATUS      0\n",
              "CRQ_CLOSURE_STATUS         0\n",
              "ONT_SERIAL_NO              0\n",
              "IPCC_STATUS_DETAILS      194\n",
              "AGENCY_NAME               44\n",
              "CONTRACTOR_NAME            0\n",
              "SERVICE_PLAN_NAME          0\n",
              "REGION_NAME                0\n",
              "ZONE                       0\n",
              "TIER                       0\n",
              "CHANNEL                    0\n",
              "DATE                       0\n",
              "MONTH                      0\n",
              "STATUS                     0\n",
              "MONTH_CONNECTED            0\n",
              "ZONED                     30\n",
              "dtype: int64"
            ]
          },
          "metadata": {},
          "execution_count": 11
        }
      ]
    },
    {
      "cell_type": "markdown",
      "metadata": {
        "id": "DsudRWEGAHP_"
      },
      "source": [
        "The remaining null values are there due to error while doing data entry and dropping them would have very little effect on our analysis.It's important to remember clean data brings best results\n"
      ]
    },
    {
      "cell_type": "code",
      "metadata": {
        "colab": {
          "base_uri": "https://localhost:8080/"
        },
        "id": "ivEwt4SHBod4",
        "outputId": "9169c85a-7414-47a6-ef45-81d438cc1d49"
      },
      "source": [
        "fibre_2.dropna(inplace=True)\n",
        "fibre_2.isnull().sum()"
      ],
      "execution_count": 12,
      "outputs": [
        {
          "output_type": "stream",
          "name": "stderr",
          "text": [
            "/usr/local/lib/python3.7/dist-packages/ipykernel_launcher.py:1: SettingWithCopyWarning: \n",
            "A value is trying to be set on a copy of a slice from a DataFrame\n",
            "\n",
            "See the caveats in the documentation: https://pandas.pydata.org/pandas-docs/stable/user_guide/indexing.html#returning-a-view-versus-a-copy\n",
            "  \"\"\"Entry point for launching an IPython kernel.\n"
          ]
        },
        {
          "output_type": "execute_result",
          "data": {
            "text/plain": [
              "CI                       0\n",
              "SALE_DATE                0\n",
              "PAYMENT_STATUS           0\n",
              "PAYMENT_DATE             0\n",
              "REMEDY_STATUS            0\n",
              "REMEDY_DATE              0\n",
              "IPCC_WHITELIST_STATUS    0\n",
              "CRQ_CLOSURE_STATUS       0\n",
              "ONT_SERIAL_NO            0\n",
              "IPCC_STATUS_DETAILS      0\n",
              "AGENCY_NAME              0\n",
              "CONTRACTOR_NAME          0\n",
              "SERVICE_PLAN_NAME        0\n",
              "REGION_NAME              0\n",
              "ZONE                     0\n",
              "TIER                     0\n",
              "CHANNEL                  0\n",
              "DATE                     0\n",
              "MONTH                    0\n",
              "STATUS                   0\n",
              "MONTH_CONNECTED          0\n",
              "ZONED                    0\n",
              "dtype: int64"
            ]
          },
          "metadata": {},
          "execution_count": 12
        }
      ]
    },
    {
      "cell_type": "code",
      "metadata": {
        "colab": {
          "base_uri": "https://localhost:8080/"
        },
        "id": "51deXp4-B5ZP",
        "outputId": "2b8ab53d-2719-4681-a9d8-67ea5c34783e"
      },
      "source": [
        "fibre_2.notnull().sum()"
      ],
      "execution_count": 13,
      "outputs": [
        {
          "output_type": "execute_result",
          "data": {
            "text/plain": [
              "CI                       32021\n",
              "SALE_DATE                32021\n",
              "PAYMENT_STATUS           32021\n",
              "PAYMENT_DATE             32021\n",
              "REMEDY_STATUS            32021\n",
              "REMEDY_DATE              32021\n",
              "IPCC_WHITELIST_STATUS    32021\n",
              "CRQ_CLOSURE_STATUS       32021\n",
              "ONT_SERIAL_NO            32021\n",
              "IPCC_STATUS_DETAILS      32021\n",
              "AGENCY_NAME              32021\n",
              "CONTRACTOR_NAME          32021\n",
              "SERVICE_PLAN_NAME        32021\n",
              "REGION_NAME              32021\n",
              "ZONE                     32021\n",
              "TIER                     32021\n",
              "CHANNEL                  32021\n",
              "DATE                     32021\n",
              "MONTH                    32021\n",
              "STATUS                   32021\n",
              "MONTH_CONNECTED          32021\n",
              "ZONED                    32021\n",
              "dtype: int64"
            ]
          },
          "metadata": {},
          "execution_count": 13
        }
      ]
    },
    {
      "cell_type": "markdown",
      "metadata": {
        "id": "28YYRi69CJX_"
      },
      "source": [
        "#### Dealing with completeness of the all dates/time formats\n"
      ]
    },
    {
      "cell_type": "markdown",
      "metadata": {
        "id": "qzdxUxBJLu3e"
      },
      "source": [
        "We have to split the date time stamp into few features like Year, Month, Day, Hour, Minute and Seconds. For each of the feature split there are pre defined functions.As shown below:"
      ]
    },
    {
      "cell_type": "code",
      "metadata": {
        "colab": {
          "base_uri": "https://localhost:8080/"
        },
        "id": "KEfV6CWqCWgr",
        "outputId": "3e5a561c-b1e8-4a22-8c41-8e0939ad97ce"
      },
      "source": [
        "#Creating the year column form date time stamp.\n",
        "\n",
        "fibre_2['SALE_YEAR'] = fibre_2['SALE_DATE'].dt.year"
      ],
      "execution_count": 14,
      "outputs": [
        {
          "output_type": "stream",
          "name": "stderr",
          "text": [
            "/usr/local/lib/python3.7/dist-packages/ipykernel_launcher.py:3: SettingWithCopyWarning: \n",
            "A value is trying to be set on a copy of a slice from a DataFrame.\n",
            "Try using .loc[row_indexer,col_indexer] = value instead\n",
            "\n",
            "See the caveats in the documentation: https://pandas.pydata.org/pandas-docs/stable/user_guide/indexing.html#returning-a-view-versus-a-copy\n",
            "  This is separate from the ipykernel package so we can avoid doing imports until\n"
          ]
        }
      ]
    },
    {
      "cell_type": "code",
      "metadata": {
        "colab": {
          "base_uri": "https://localhost:8080/"
        },
        "id": "BPu0Jwq7PDs2",
        "outputId": "4a5ebc31-bff3-4892-c2a0-58520ae9d7b9"
      },
      "source": [
        "#Creating the month column form date time stamp.\n",
        "\n",
        "fibre_2['SALE_MONTH'] = fibre_2['SALE_DATE'].dt.month"
      ],
      "execution_count": 15,
      "outputs": [
        {
          "output_type": "stream",
          "name": "stderr",
          "text": [
            "/usr/local/lib/python3.7/dist-packages/ipykernel_launcher.py:3: SettingWithCopyWarning: \n",
            "A value is trying to be set on a copy of a slice from a DataFrame.\n",
            "Try using .loc[row_indexer,col_indexer] = value instead\n",
            "\n",
            "See the caveats in the documentation: https://pandas.pydata.org/pandas-docs/stable/user_guide/indexing.html#returning-a-view-versus-a-copy\n",
            "  This is separate from the ipykernel package so we can avoid doing imports until\n"
          ]
        }
      ]
    },
    {
      "cell_type": "code",
      "metadata": {
        "colab": {
          "base_uri": "https://localhost:8080/"
        },
        "id": "p6iIjpjWTD86",
        "outputId": "adef8915-0a41-4d5b-cbce-9c3f6d912a49"
      },
      "source": [
        "#Creating the day column form date time stamp.\n",
        "\n",
        "fibre_2['SALE_DAY'] =fibre_2['SALE_DATE'].dt.day"
      ],
      "execution_count": 16,
      "outputs": [
        {
          "output_type": "stream",
          "name": "stderr",
          "text": [
            "/usr/local/lib/python3.7/dist-packages/ipykernel_launcher.py:3: SettingWithCopyWarning: \n",
            "A value is trying to be set on a copy of a slice from a DataFrame.\n",
            "Try using .loc[row_indexer,col_indexer] = value instead\n",
            "\n",
            "See the caveats in the documentation: https://pandas.pydata.org/pandas-docs/stable/user_guide/indexing.html#returning-a-view-versus-a-copy\n",
            "  This is separate from the ipykernel package so we can avoid doing imports until\n"
          ]
        }
      ]
    },
    {
      "cell_type": "code",
      "metadata": {
        "colab": {
          "base_uri": "https://localhost:8080/"
        },
        "id": "rFDd4qeZTaeG",
        "outputId": "3fa56aea-3b0e-4977-a473-9e66dd17c6ad"
      },
      "source": [
        "#Creating the hour column form date time stamp.\n",
        "\n",
        "fibre_2['SALE_HR'] = fibre_2['SALE_DATE'].dt.hour"
      ],
      "execution_count": 17,
      "outputs": [
        {
          "output_type": "stream",
          "name": "stderr",
          "text": [
            "/usr/local/lib/python3.7/dist-packages/ipykernel_launcher.py:3: SettingWithCopyWarning: \n",
            "A value is trying to be set on a copy of a slice from a DataFrame.\n",
            "Try using .loc[row_indexer,col_indexer] = value instead\n",
            "\n",
            "See the caveats in the documentation: https://pandas.pydata.org/pandas-docs/stable/user_guide/indexing.html#returning-a-view-versus-a-copy\n",
            "  This is separate from the ipykernel package so we can avoid doing imports until\n"
          ]
        }
      ]
    },
    {
      "cell_type": "code",
      "metadata": {
        "colab": {
          "base_uri": "https://localhost:8080/"
        },
        "id": "oamsJ4SLvhX4",
        "outputId": "c20146d7-da64-4cf5-9d6b-e69fcbdd4409"
      },
      "source": [
        "#Creating the year column form date time stamp.\n",
        "\n",
        "fibre_2['PAY_YEAR'] = fibre_2['PAYMENT_DATE'].dt.year\n",
        "#Creating the month column form date time stamp.\n",
        "\n",
        "fibre_2['PAY_MONTH'] = fibre_2['PAYMENT_DATE'].dt.month\n",
        "#Creating the day column form date time stamp.\n",
        "\n",
        "fibre_2['PAY_DAY'] =fibre_2['PAYMENT_DATE'].dt.day\n",
        "\n",
        "#Creating the hour column form date time stamp.\n",
        "\n",
        "fibre_2['PAY_HR'] = fibre_2['PAYMENT_DATE'].dt.hour"
      ],
      "execution_count": 18,
      "outputs": [
        {
          "output_type": "stream",
          "name": "stderr",
          "text": [
            "/usr/local/lib/python3.7/dist-packages/ipykernel_launcher.py:3: SettingWithCopyWarning: \n",
            "A value is trying to be set on a copy of a slice from a DataFrame.\n",
            "Try using .loc[row_indexer,col_indexer] = value instead\n",
            "\n",
            "See the caveats in the documentation: https://pandas.pydata.org/pandas-docs/stable/user_guide/indexing.html#returning-a-view-versus-a-copy\n",
            "  This is separate from the ipykernel package so we can avoid doing imports until\n",
            "/usr/local/lib/python3.7/dist-packages/ipykernel_launcher.py:6: SettingWithCopyWarning: \n",
            "A value is trying to be set on a copy of a slice from a DataFrame.\n",
            "Try using .loc[row_indexer,col_indexer] = value instead\n",
            "\n",
            "See the caveats in the documentation: https://pandas.pydata.org/pandas-docs/stable/user_guide/indexing.html#returning-a-view-versus-a-copy\n",
            "  \n",
            "/usr/local/lib/python3.7/dist-packages/ipykernel_launcher.py:9: SettingWithCopyWarning: \n",
            "A value is trying to be set on a copy of a slice from a DataFrame.\n",
            "Try using .loc[row_indexer,col_indexer] = value instead\n",
            "\n",
            "See the caveats in the documentation: https://pandas.pydata.org/pandas-docs/stable/user_guide/indexing.html#returning-a-view-versus-a-copy\n",
            "  if __name__ == '__main__':\n",
            "/usr/local/lib/python3.7/dist-packages/ipykernel_launcher.py:13: SettingWithCopyWarning: \n",
            "A value is trying to be set on a copy of a slice from a DataFrame.\n",
            "Try using .loc[row_indexer,col_indexer] = value instead\n",
            "\n",
            "See the caveats in the documentation: https://pandas.pydata.org/pandas-docs/stable/user_guide/indexing.html#returning-a-view-versus-a-copy\n",
            "  del sys.path[0]\n"
          ]
        }
      ]
    },
    {
      "cell_type": "code",
      "metadata": {
        "colab": {
          "base_uri": "https://localhost:8080/",
          "height": 394
        },
        "id": "IKLl2ZHgM1mk",
        "outputId": "36d8ea2d-357b-469d-88be-07ed15ca0bea"
      },
      "source": [
        "fibre_2.tail()"
      ],
      "execution_count": null,
      "outputs": [
        {
          "output_type": "execute_result",
          "data": {
            "text/html": [
              "<div>\n",
              "<style scoped>\n",
              "    .dataframe tbody tr th:only-of-type {\n",
              "        vertical-align: middle;\n",
              "    }\n",
              "\n",
              "    .dataframe tbody tr th {\n",
              "        vertical-align: top;\n",
              "    }\n",
              "\n",
              "    .dataframe thead th {\n",
              "        text-align: right;\n",
              "    }\n",
              "</style>\n",
              "<table border=\"1\" class=\"dataframe\">\n",
              "  <thead>\n",
              "    <tr style=\"text-align: right;\">\n",
              "      <th></th>\n",
              "      <th>CI</th>\n",
              "      <th>SALE_DATE</th>\n",
              "      <th>PAYMENT_STATUS</th>\n",
              "      <th>PAYMENT_DATE</th>\n",
              "      <th>REMEDY_STATUS</th>\n",
              "      <th>REMEDY_DATE</th>\n",
              "      <th>IPCC_WHITELIST_STATUS</th>\n",
              "      <th>CRQ_CLOSURE_STATUS</th>\n",
              "      <th>ONT_SERIAL_NO</th>\n",
              "      <th>IPCC_STATUS_DETAILS</th>\n",
              "      <th>AGENCY_NAME</th>\n",
              "      <th>CONTRACTOR_NAME</th>\n",
              "      <th>SERVICE_PLAN_NAME</th>\n",
              "      <th>REGION_NAME</th>\n",
              "      <th>ZONE</th>\n",
              "      <th>TIER</th>\n",
              "      <th>CHANNEL</th>\n",
              "      <th>DATE</th>\n",
              "      <th>MONTH</th>\n",
              "      <th>STATUS</th>\n",
              "      <th>MONTH_CONNECTED</th>\n",
              "      <th>ZONED</th>\n",
              "      <th>SALE_DATE</th>\n",
              "      <th>SALE_YEAR</th>\n",
              "      <th>SALE_DAY</th>\n",
              "      <th>SALE_HR</th>\n",
              "      <th>SALE_MONTH</th>\n",
              "    </tr>\n",
              "  </thead>\n",
              "  <tbody>\n",
              "    <tr>\n",
              "      <th>32309</th>\n",
              "      <td>11273162.0</td>\n",
              "      <td>2021-11-05 20:37:00</td>\n",
              "      <td>PAID</td>\n",
              "      <td>2021-11-16 17:27:00</td>\n",
              "      <td>TICKET_RAISED</td>\n",
              "      <td>2021-11-16 17:30:00</td>\n",
              "      <td>Whitelisted</td>\n",
              "      <td>Pending_Closure</td>\n",
              "      <td>0</td>\n",
              "      <td>Successfully_Whitelisted</td>\n",
              "      <td>Latest Communication</td>\n",
              "      <td>Fireside Communications</td>\n",
              "      <td>Silver</td>\n",
              "      <td>Nairobi West</td>\n",
              "      <td>Kianda Naivasha Road</td>\n",
              "      <td>Tier 1</td>\n",
              "      <td>DSAs</td>\n",
              "      <td>2021-11-16</td>\n",
              "      <td>November</td>\n",
              "      <td>PENDING CONNECTION</td>\n",
              "      <td>PENDING CONNECTION</td>\n",
              "      <td>Unzoned</td>\n",
              "      <td>2021</td>\n",
              "      <td>2021</td>\n",
              "      <td>5</td>\n",
              "      <td>20</td>\n",
              "      <td>11</td>\n",
              "    </tr>\n",
              "    <tr>\n",
              "      <th>32310</th>\n",
              "      <td>11272906.0</td>\n",
              "      <td>2021-11-04 11:18:00</td>\n",
              "      <td>PAID</td>\n",
              "      <td>2021-11-16 22:42:00</td>\n",
              "      <td>TICKET_RAISED</td>\n",
              "      <td>2021-11-16 22:45:00</td>\n",
              "      <td>Whitelisted</td>\n",
              "      <td>Pending_Closure</td>\n",
              "      <td>0</td>\n",
              "      <td>Successfully_Whitelisted</td>\n",
              "      <td>Cellnet Ltd</td>\n",
              "      <td>Fireside Communications</td>\n",
              "      <td>Bronze</td>\n",
              "      <td>Nairobi West</td>\n",
              "      <td>Ruaka Kabete</td>\n",
              "      <td>Tier 3</td>\n",
              "      <td>DSAs</td>\n",
              "      <td>2021-11-16</td>\n",
              "      <td>November</td>\n",
              "      <td>PENDING CONNECTION</td>\n",
              "      <td>PENDING CONNECTION</td>\n",
              "      <td>zoned</td>\n",
              "      <td>2021</td>\n",
              "      <td>2021</td>\n",
              "      <td>4</td>\n",
              "      <td>11</td>\n",
              "      <td>11</td>\n",
              "    </tr>\n",
              "    <tr>\n",
              "      <th>32311</th>\n",
              "      <td>11277163.0</td>\n",
              "      <td>2021-11-03 13:00:00</td>\n",
              "      <td>PAID</td>\n",
              "      <td>2021-11-16 19:27:00</td>\n",
              "      <td>TICKET_RAISED</td>\n",
              "      <td>2021-11-16 19:30:00</td>\n",
              "      <td>Whitelisted</td>\n",
              "      <td>Pending_Closure</td>\n",
              "      <td>0</td>\n",
              "      <td>Successfully_Whitelisted</td>\n",
              "      <td>Masaba</td>\n",
              "      <td>Adrian</td>\n",
              "      <td>Silver</td>\n",
              "      <td>Nairobi East</td>\n",
              "      <td>Syokimau</td>\n",
              "      <td>Tier 1</td>\n",
              "      <td>DSAs</td>\n",
              "      <td>2021-11-16</td>\n",
              "      <td>November</td>\n",
              "      <td>PENDING CONNECTION</td>\n",
              "      <td>PENDING CONNECTION</td>\n",
              "      <td>Unzoned</td>\n",
              "      <td>2021</td>\n",
              "      <td>2021</td>\n",
              "      <td>3</td>\n",
              "      <td>13</td>\n",
              "      <td>11</td>\n",
              "    </tr>\n",
              "    <tr>\n",
              "      <th>32312</th>\n",
              "      <td>11283442.0</td>\n",
              "      <td>2021-11-02 13:26:00</td>\n",
              "      <td>PAID</td>\n",
              "      <td>2021-11-16 11:27:00</td>\n",
              "      <td>TICKET_RAISED</td>\n",
              "      <td>2021-11-16 11:30:00</td>\n",
              "      <td>Whitelisted</td>\n",
              "      <td>CRQ_Closed</td>\n",
              "      <td>48575443B3832EA6</td>\n",
              "      <td>Successfully_Whitelisted</td>\n",
              "      <td>Top Image</td>\n",
              "      <td>Adrian</td>\n",
              "      <td>Bronze</td>\n",
              "      <td>Nairobi East</td>\n",
              "      <td>Buruburu-Donholm</td>\n",
              "      <td>Tier 1</td>\n",
              "      <td>Other Channels</td>\n",
              "      <td>2021-11-16</td>\n",
              "      <td>November</td>\n",
              "      <td>Connected</td>\n",
              "      <td>November</td>\n",
              "      <td>zoned</td>\n",
              "      <td>2021</td>\n",
              "      <td>2021</td>\n",
              "      <td>2</td>\n",
              "      <td>13</td>\n",
              "      <td>11</td>\n",
              "    </tr>\n",
              "    <tr>\n",
              "      <th>32313</th>\n",
              "      <td>11265626.0</td>\n",
              "      <td>2021-10-27 15:41:00</td>\n",
              "      <td>PAID</td>\n",
              "      <td>2021-11-16 08:57:00</td>\n",
              "      <td>TICKET_RAISED</td>\n",
              "      <td>2021-11-16 09:00:00</td>\n",
              "      <td>Whitelisted</td>\n",
              "      <td>CRQ_Closed</td>\n",
              "      <td>48575443B0E43CA6</td>\n",
              "      <td>Successfully_Whitelisted</td>\n",
              "      <td>Four Winds Communications</td>\n",
              "      <td>Soliton</td>\n",
              "      <td>Bronze</td>\n",
              "      <td>Nairobi West</td>\n",
              "      <td>RUIRU</td>\n",
              "      <td>Tier 3</td>\n",
              "      <td>DSAs</td>\n",
              "      <td>2021-11-16</td>\n",
              "      <td>November</td>\n",
              "      <td>Connected</td>\n",
              "      <td>November</td>\n",
              "      <td>zoned</td>\n",
              "      <td>2021</td>\n",
              "      <td>2021</td>\n",
              "      <td>27</td>\n",
              "      <td>15</td>\n",
              "      <td>10</td>\n",
              "    </tr>\n",
              "  </tbody>\n",
              "</table>\n",
              "</div>"
            ],
            "text/plain": [
              "               CI           SALE_DATE  ... SALE_HR SALE_MONTH\n",
              "32309  11273162.0 2021-11-05 20:37:00  ...      20         11\n",
              "32310  11272906.0 2021-11-04 11:18:00  ...      11         11\n",
              "32311  11277163.0 2021-11-03 13:00:00  ...      13         11\n",
              "32312  11283442.0 2021-11-02 13:26:00  ...      13         11\n",
              "32313  11265626.0 2021-10-27 15:41:00  ...      15         10\n",
              "\n",
              "[5 rows x 27 columns]"
            ]
          },
          "metadata": {},
          "execution_count": 103
        }
      ]
    },
    {
      "cell_type": "markdown",
      "metadata": {
        "id": "rHcnN7y3NGJD"
      },
      "source": [
        "## 1.6 Univariate Analysis Fibre Dataset"
      ]
    },
    {
      "cell_type": "code",
      "metadata": {
        "colab": {
          "base_uri": "https://localhost:8080/"
        },
        "id": "KAv3xFrbNQll",
        "outputId": "6dd8fdd9-ed58-4c52-fa1b-76d963beb131"
      },
      "source": [
        "fibre_2.dtypes"
      ],
      "execution_count": 19,
      "outputs": [
        {
          "output_type": "execute_result",
          "data": {
            "text/plain": [
              "CI                              float64\n",
              "SALE_DATE                datetime64[ns]\n",
              "PAYMENT_STATUS                   object\n",
              "PAYMENT_DATE             datetime64[ns]\n",
              "REMEDY_STATUS                    object\n",
              "REMEDY_DATE              datetime64[ns]\n",
              "IPCC_WHITELIST_STATUS            object\n",
              "CRQ_CLOSURE_STATUS               object\n",
              "ONT_SERIAL_NO                    object\n",
              "IPCC_STATUS_DETAILS              object\n",
              "AGENCY_NAME                      object\n",
              "CONTRACTOR_NAME                  object\n",
              "SERVICE_PLAN_NAME                object\n",
              "REGION_NAME                      object\n",
              "ZONE                             object\n",
              "TIER                             object\n",
              "CHANNEL                          object\n",
              "DATE                     datetime64[ns]\n",
              "MONTH                            object\n",
              "STATUS                           object\n",
              "MONTH_CONNECTED                  object\n",
              "ZONED                            object\n",
              "SALE_YEAR                         int64\n",
              "SALE_MONTH                        int64\n",
              "SALE_DAY                          int64\n",
              "SALE_HR                           int64\n",
              "PAY_YEAR                          int64\n",
              "PAY_MONTH                         int64\n",
              "PAY_DAY                           int64\n",
              "PAY_HR                            int64\n",
              "dtype: object"
            ]
          },
          "metadata": {},
          "execution_count": 19
        }
      ]
    },
    {
      "cell_type": "code",
      "metadata": {
        "colab": {
          "base_uri": "https://localhost:8080/",
          "height": 297
        },
        "id": "BNQghlQ_yeOF",
        "outputId": "893a9de9-6930-4f27-daf0-62942f8ae73d"
      },
      "source": [
        "fibre_2.describe()"
      ],
      "execution_count": 20,
      "outputs": [
        {
          "output_type": "execute_result",
          "data": {
            "text/html": [
              "<div>\n",
              "<style scoped>\n",
              "    .dataframe tbody tr th:only-of-type {\n",
              "        vertical-align: middle;\n",
              "    }\n",
              "\n",
              "    .dataframe tbody tr th {\n",
              "        vertical-align: top;\n",
              "    }\n",
              "\n",
              "    .dataframe thead th {\n",
              "        text-align: right;\n",
              "    }\n",
              "</style>\n",
              "<table border=\"1\" class=\"dataframe\">\n",
              "  <thead>\n",
              "    <tr style=\"text-align: right;\">\n",
              "      <th></th>\n",
              "      <th>CI</th>\n",
              "      <th>SALE_YEAR</th>\n",
              "      <th>SALE_MONTH</th>\n",
              "      <th>SALE_DAY</th>\n",
              "      <th>SALE_HR</th>\n",
              "      <th>PAY_YEAR</th>\n",
              "      <th>PAY_MONTH</th>\n",
              "      <th>PAY_DAY</th>\n",
              "      <th>PAY_HR</th>\n",
              "    </tr>\n",
              "  </thead>\n",
              "  <tbody>\n",
              "    <tr>\n",
              "      <th>count</th>\n",
              "      <td>3.202100e+04</td>\n",
              "      <td>32021.0</td>\n",
              "      <td>32021.000000</td>\n",
              "      <td>32021.000000</td>\n",
              "      <td>32021.000000</td>\n",
              "      <td>32021.0</td>\n",
              "      <td>32021.000000</td>\n",
              "      <td>32021.000000</td>\n",
              "      <td>32021.000000</td>\n",
              "    </tr>\n",
              "    <tr>\n",
              "      <th>mean</th>\n",
              "      <td>1.126199e+07</td>\n",
              "      <td>2021.0</td>\n",
              "      <td>7.648293</td>\n",
              "      <td>15.527997</td>\n",
              "      <td>13.252085</td>\n",
              "      <td>2021.0</td>\n",
              "      <td>7.678024</td>\n",
              "      <td>15.561194</td>\n",
              "      <td>13.554417</td>\n",
              "    </tr>\n",
              "    <tr>\n",
              "      <th>std</th>\n",
              "      <td>3.965620e+04</td>\n",
              "      <td>0.0</td>\n",
              "      <td>2.180252</td>\n",
              "      <td>9.438929</td>\n",
              "      <td>3.483364</td>\n",
              "      <td>0.0</td>\n",
              "      <td>2.176104</td>\n",
              "      <td>9.502413</td>\n",
              "      <td>3.836128</td>\n",
              "    </tr>\n",
              "    <tr>\n",
              "      <th>min</th>\n",
              "      <td>1.106426e+07</td>\n",
              "      <td>2021.0</td>\n",
              "      <td>3.000000</td>\n",
              "      <td>1.000000</td>\n",
              "      <td>0.000000</td>\n",
              "      <td>2021.0</td>\n",
              "      <td>4.000000</td>\n",
              "      <td>1.000000</td>\n",
              "      <td>0.000000</td>\n",
              "    </tr>\n",
              "    <tr>\n",
              "      <th>25%</th>\n",
              "      <td>1.125984e+07</td>\n",
              "      <td>2021.0</td>\n",
              "      <td>6.000000</td>\n",
              "      <td>7.000000</td>\n",
              "      <td>11.000000</td>\n",
              "      <td>2021.0</td>\n",
              "      <td>6.000000</td>\n",
              "      <td>7.000000</td>\n",
              "      <td>11.000000</td>\n",
              "    </tr>\n",
              "    <tr>\n",
              "      <th>50%</th>\n",
              "      <td>1.126975e+07</td>\n",
              "      <td>2021.0</td>\n",
              "      <td>8.000000</td>\n",
              "      <td>15.000000</td>\n",
              "      <td>13.000000</td>\n",
              "      <td>2021.0</td>\n",
              "      <td>8.000000</td>\n",
              "      <td>15.000000</td>\n",
              "      <td>13.000000</td>\n",
              "    </tr>\n",
              "    <tr>\n",
              "      <th>75%</th>\n",
              "      <td>1.129054e+07</td>\n",
              "      <td>2021.0</td>\n",
              "      <td>10.000000</td>\n",
              "      <td>24.000000</td>\n",
              "      <td>16.000000</td>\n",
              "      <td>2021.0</td>\n",
              "      <td>10.000000</td>\n",
              "      <td>24.000000</td>\n",
              "      <td>16.000000</td>\n",
              "    </tr>\n",
              "    <tr>\n",
              "      <th>max</th>\n",
              "      <td>1.130000e+07</td>\n",
              "      <td>2021.0</td>\n",
              "      <td>11.000000</td>\n",
              "      <td>31.000000</td>\n",
              "      <td>23.000000</td>\n",
              "      <td>2021.0</td>\n",
              "      <td>11.000000</td>\n",
              "      <td>31.000000</td>\n",
              "      <td>23.000000</td>\n",
              "    </tr>\n",
              "  </tbody>\n",
              "</table>\n",
              "</div>"
            ],
            "text/plain": [
              "                 CI  SALE_YEAR  ...       PAY_DAY        PAY_HR\n",
              "count  3.202100e+04    32021.0  ...  32021.000000  32021.000000\n",
              "mean   1.126199e+07     2021.0  ...     15.561194     13.554417\n",
              "std    3.965620e+04        0.0  ...      9.502413      3.836128\n",
              "min    1.106426e+07     2021.0  ...      1.000000      0.000000\n",
              "25%    1.125984e+07     2021.0  ...      7.000000     11.000000\n",
              "50%    1.126975e+07     2021.0  ...     15.000000     13.000000\n",
              "75%    1.129054e+07     2021.0  ...     24.000000     16.000000\n",
              "max    1.130000e+07     2021.0  ...     31.000000     23.000000\n",
              "\n",
              "[8 rows x 9 columns]"
            ]
          },
          "metadata": {},
          "execution_count": 20
        }
      ]
    },
    {
      "cell_type": "markdown",
      "metadata": {
        "id": "nZNc8p2jjJ1P"
      },
      "source": [
        ">**we observe that the zoned dealers are the highest revenue to fibre business which simply means zoning is a workable venture**"
      ]
    },
    {
      "cell_type": "code",
      "metadata": {
        "colab": {
          "base_uri": "https://localhost:8080/",
          "height": 282
        },
        "id": "peDKQOgVc79Z",
        "outputId": "76e06d8c-b7e7-413a-947f-b9af46cb91d2"
      },
      "source": [
        "fibre_2['ZONED'].value_counts().head(10).plot.barh()"
      ],
      "execution_count": null,
      "outputs": [
        {
          "output_type": "execute_result",
          "data": {
            "text/plain": [
              "<matplotlib.axes._subplots.AxesSubplot at 0x7f6d180f9050>"
            ]
          },
          "metadata": {},
          "execution_count": 128
        },
        {
          "output_type": "display_data",
          "data": {
            "image/png": "[encoded data removed]",
            "text/plain": [
              "<Figure size 432x288 with 1 Axes>"
            ]
          },
          "metadata": {
            "needs_background": "light"
          }
        }
      ]
    },
    {
      "cell_type": "markdown",
      "metadata": {
        "id": "tVfgJZh8jtkT"
      },
      "source": [
        ">**The highest zoned area bringing highest revenue is syokimau with very little differential as seen from highest to lowest**"
      ]
    },
    {
      "cell_type": "code",
      "metadata": {
        "colab": {
          "base_uri": "https://localhost:8080/",
          "height": 282
        },
        "id": "MaUlOP6wdl59",
        "outputId": "faa17e7d-ca07-4454-bf82-f9869f6b6b62"
      },
      "source": [
        "fibre_2['ZONE'].value_counts().head(10).plot.barh()"
      ],
      "execution_count": null,
      "outputs": [
        {
          "output_type": "execute_result",
          "data": {
            "text/plain": [
              "<matplotlib.axes._subplots.AxesSubplot at 0x7f6d18180c50>"
            ]
          },
          "metadata": {},
          "execution_count": 127
        },
        {
          "output_type": "display_data",
          "data": {
            "image/png": "[encoded data removed]",
            "text/plain": [
              "<Figure size 432x288 with 1 Axes>"
            ]
          },
          "metadata": {
            "needs_background": "light"
          }
        }
      ]
    },
    {
      "cell_type": "markdown",
      "metadata": {
        "id": "QQVo_hRej-vb"
      },
      "source": [
        ">**Best month so far has been october most likely due to no connection fee which was there from start of dataset which is in April**"
      ]
    },
    {
      "cell_type": "code",
      "metadata": {
        "colab": {
          "base_uri": "https://localhost:8080/",
          "height": 282
        },
        "id": "6iDuETIIdPM-",
        "outputId": "333e96e5-770c-42f8-fcbf-41ba098f6031"
      },
      "source": [
        "fibre_2['MONTH'].value_counts().head(8).plot.barh()"
      ],
      "execution_count": null,
      "outputs": [
        {
          "output_type": "execute_result",
          "data": {
            "text/plain": [
              "<matplotlib.axes._subplots.AxesSubplot at 0x7f6d18204e10>"
            ]
          },
          "metadata": {},
          "execution_count": 126
        },
        {
          "output_type": "display_data",
          "data": {
            "image/png": "[encoded data removed]",
            "text/plain": [
              "<Figure size 432x288 with 1 Axes>"
            ]
          },
          "metadata": {
            "needs_background": "light"
          }
        }
      ]
    },
    {
      "cell_type": "markdown",
      "metadata": {
        "id": "T18kVIkVkWJK"
      },
      "source": [
        ">**Best agency is firlcom with very close  follow by Top Image**"
      ]
    },
    {
      "cell_type": "code",
      "metadata": {
        "colab": {
          "base_uri": "https://localhost:8080/",
          "height": 282
        },
        "id": "rugGxz-ud_Nz",
        "outputId": "701178c6-a3a1-45c9-a720-a9285eb61b29"
      },
      "source": [
        "fibre_2['AGENCY_NAME'].value_counts().head(10).plot.barh()"
      ],
      "execution_count": null,
      "outputs": [
        {
          "output_type": "execute_result",
          "data": {
            "text/plain": [
              "<matplotlib.axes._subplots.AxesSubplot at 0x7f6d182e6750>"
            ]
          },
          "metadata": {},
          "execution_count": 124
        },
        {
          "output_type": "display_data",
          "data": {
            "image/png": "[encoded data removed]",
            "text/plain": [
              "<Figure size 432x288 with 1 Axes>"
            ]
          },
          "metadata": {
            "needs_background": "light"
          }
        }
      ]
    },
    {
      "cell_type": "markdown",
      "metadata": {
        "id": "Ov-_KJ2jkn4t"
      },
      "source": [
        ">**Best region is Nairobi west with rift,mt.kenya,great western and coast almost having a tie,this maybe due to difference in rollout**"
      ]
    },
    {
      "cell_type": "code",
      "metadata": {
        "colab": {
          "base_uri": "https://localhost:8080/",
          "height": 282
        },
        "id": "pV6Cm031e3Au",
        "outputId": "35575cf5-d822-405b-a6b4-080b6c57c175"
      },
      "source": [
        "fibre_2['REGION_NAME'].value_counts().head(10).plot.barh()"
      ],
      "execution_count": null,
      "outputs": [
        {
          "output_type": "execute_result",
          "data": {
            "text/plain": [
              "<matplotlib.axes._subplots.AxesSubplot at 0x7f6d18064150>"
            ]
          },
          "metadata": {},
          "execution_count": 129
        },
        {
          "output_type": "display_data",
          "data": {
            "image/png": "[encoded data removed]",
            "text/plain": [
              "<Figure size 432x288 with 1 Axes>"
            ]
          },
          "metadata": {
            "needs_background": "light"
          }
        }
      ]
    },
    {
      "cell_type": "markdown",
      "metadata": {
        "id": "pkVZSPR0k5AE"
      },
      "source": [
        "**Highest revenue is Dealer DSAs which also means Zoning is working**"
      ]
    },
    {
      "cell_type": "code",
      "metadata": {
        "colab": {
          "base_uri": "https://localhost:8080/",
          "height": 282
        },
        "id": "a3z29_J1fJ8p",
        "outputId": "b488a226-c1c5-4bd7-81f0-3a1532aa0db5"
      },
      "source": [
        "fibre_2['CHANNEL'].value_counts().head(10).plot.barh()"
      ],
      "execution_count": null,
      "outputs": [
        {
          "output_type": "execute_result",
          "data": {
            "text/plain": [
              "<matplotlib.axes._subplots.AxesSubplot at 0x7f6d1803e6d0>"
            ]
          },
          "metadata": {},
          "execution_count": 130
        },
        {
          "output_type": "display_data",
          "data": {
            "image/png": "[encoded data removed]",
            "text/plain": [
              "<Figure size 432x288 with 1 Axes>"
            ]
          },
          "metadata": {
            "needs_background": "light"
          }
        }
      ]
    },
    {
      "cell_type": "markdown",
      "metadata": {
        "id": "XmEhM4SNlEpd"
      },
      "source": [
        ">**Tier indicates the year of rollout for that specific sale.seems most sales are from the current year rollout with a not soo very second of the tier 3,this again is due to reduced rollout to satellite markets**"
      ]
    },
    {
      "cell_type": "code",
      "metadata": {
        "colab": {
          "base_uri": "https://localhost:8080/",
          "height": 282
        },
        "id": "iDwoDWgmfTZA",
        "outputId": "99782f3a-0f8e-40e9-9a1b-aaa2cebfc7e5"
      },
      "source": [
        "fibre_2['TIER'].value_counts().head(10).plot.barh()"
      ],
      "execution_count": null,
      "outputs": [
        {
          "output_type": "execute_result",
          "data": {
            "text/plain": [
              "<matplotlib.axes._subplots.AxesSubplot at 0x7f6d17fd1550>"
            ]
          },
          "metadata": {},
          "execution_count": 131
        },
        {
          "output_type": "display_data",
          "data": {
            "image/png": "[encoded data removed]",
            "text/plain": [
              "<Figure size 432x288 with 1 Axes>"
            ]
          },
          "metadata": {
            "needs_background": "light"
          }
        }
      ]
    },
    {
      "cell_type": "markdown",
      "metadata": {
        "id": "PMChylSTljaS"
      },
      "source": [
        ">**Best contractor is Adrian with a staggering difference with the other contractors which means agencies can also be trusted in installing fibre for a more clear onboarding process and faster and better rollout**"
      ]
    },
    {
      "cell_type": "code",
      "metadata": {
        "colab": {
          "base_uri": "https://localhost:8080/",
          "height": 282
        },
        "id": "qyA32T9JfjwZ",
        "outputId": "17dc352d-5ba4-430a-e6ab-421e6f234644"
      },
      "source": [
        "fibre_2['CONTRACTOR_NAME'].value_counts().head(10).plot.barh()"
      ],
      "execution_count": null,
      "outputs": [
        {
          "output_type": "execute_result",
          "data": {
            "text/plain": [
              "<matplotlib.axes._subplots.AxesSubplot at 0x7f6d17f43c50>"
            ]
          },
          "metadata": {},
          "execution_count": 132
        },
        {
          "output_type": "display_data",
          "data": {
            "image/png": "[encoded data removed]",
            "text/plain": [
              "<Figure size 432x288 with 1 Axes>"
            ]
          },
          "metadata": {
            "needs_background": "light"
          }
        }
      ]
    },
    {
      "cell_type": "markdown",
      "metadata": {
        "id": "gal4GAftmCNJ"
      },
      "source": [
        ">**The best service plan is bronze which either explains that our customer demography is more comfortable with this price cause of the harsh economic times or because competiton is cheaper or our dsas are not well equipped to sell higher products**\n"
      ]
    },
    {
      "cell_type": "code",
      "metadata": {
        "colab": {
          "base_uri": "https://localhost:8080/",
          "height": 282
        },
        "id": "-ZoXVUohhIOm",
        "outputId": "1cacaad7-1e11-482c-e89e-8d33857d10a0"
      },
      "source": [
        "fibre_2['SERVICE_PLAN_NAME'].value_counts().head(10).plot.barh()"
      ],
      "execution_count": null,
      "outputs": [
        {
          "output_type": "execute_result",
          "data": {
            "text/plain": [
              "<matplotlib.axes._subplots.AxesSubplot at 0x7f6d17f38910>"
            ]
          },
          "metadata": {},
          "execution_count": 133
        },
        {
          "output_type": "display_data",
          "data": {
            "image/png": "[encoded data removed]",
            "text/plain": [
              "<Figure size 432x288 with 1 Axes>"
            ]
          },
          "metadata": {
            "needs_background": "light"
          }
        }
      ]
    },
    {
      "cell_type": "markdown",
      "metadata": {
        "id": "E5A3q16mm50K"
      },
      "source": [
        "> **From this we can observe that best days for selling are start of the month which means thats when most of clients have money**"
      ]
    },
    {
      "cell_type": "code",
      "metadata": {
        "colab": {
          "base_uri": "https://localhost:8080/",
          "height": 282
        },
        "id": "06_QUPrkhsOA",
        "outputId": "9e42bdc9-e28f-426f-b350-028f75227286"
      },
      "source": [
        "fibre_2['SALE_DAY'].value_counts().head(5).plot.barh()"
      ],
      "execution_count": null,
      "outputs": [
        {
          "output_type": "execute_result",
          "data": {
            "text/plain": [
              "<matplotlib.axes._subplots.AxesSubplot at 0x7f6d17db87d0>"
            ]
          },
          "metadata": {},
          "execution_count": 136
        },
        {
          "output_type": "display_data",
          "data": {
            "image/png": "[encoded data removed]",
            "text/plain": [
              "<Figure size 432x288 with 1 Axes>"
            ]
          },
          "metadata": {
            "needs_background": "light"
          }
        }
      ]
    },
    {
      "cell_type": "markdown",
      "metadata": {
        "id": "W3VwXHNOnKG4"
      },
      "source": [
        "> **Also the lowest days of selling are from 20th through to 25th**"
      ]
    },
    {
      "cell_type": "code",
      "metadata": {
        "colab": {
          "base_uri": "https://localhost:8080/",
          "height": 282
        },
        "id": "bm7Ae5pvh-fK",
        "outputId": "a5898b78-aad6-4c06-bf71-34b8505e7cbf"
      },
      "source": [
        "fibre_2['SALE_DAY'].value_counts().tail(5).plot.barh()"
      ],
      "execution_count": null,
      "outputs": [
        {
          "output_type": "execute_result",
          "data": {
            "text/plain": [
              "<matplotlib.axes._subplots.AxesSubplot at 0x7f6d17d33710>"
            ]
          },
          "metadata": {},
          "execution_count": 137
        },
        {
          "output_type": "display_data",
          "data": {
            "image/png": "[encoded data removed]",
            "text/plain": [
              "<Figure size 432x288 with 1 Axes>"
            ]
          },
          "metadata": {
            "needs_background": "light"
          }
        }
      ]
    },
    {
      "cell_type": "code",
      "metadata": {
        "colab": {
          "base_uri": "https://localhost:8080/",
          "height": 282
        },
        "id": "ZZVU2va_wYHI",
        "outputId": "35894248-1960-4a00-a3d7-4ffa8fd2a83e"
      },
      "source": [
        "fibre_2['PAY_DAY'].value_counts().head(5).plot.barh()"
      ],
      "execution_count": 21,
      "outputs": [
        {
          "output_type": "execute_result",
          "data": {
            "text/plain": [
              "<matplotlib.axes._subplots.AxesSubplot at 0x7fae74464590>"
            ]
          },
          "metadata": {},
          "execution_count": 21
        },
        {
          "output_type": "display_data",
          "data": {
            "image/png": "[encoded data removed]",
            "text/plain": [
              "<Figure size 432x288 with 1 Axes>"
            ]
          },
          "metadata": {
            "needs_background": "light"
          }
        }
      ]
    },
    {
      "cell_type": "code",
      "metadata": {
        "colab": {
          "base_uri": "https://localhost:8080/",
          "height": 282
        },
        "id": "4jQm6jcvwwGZ",
        "outputId": "486b0f2e-2763-4025-9bae-2b0528d483c0"
      },
      "source": [
        "fibre_2['SALE_HR'].value_counts().head(5).plot.barh()"
      ],
      "execution_count": 24,
      "outputs": [
        {
          "output_type": "execute_result",
          "data": {
            "text/plain": [
              "<matplotlib.axes._subplots.AxesSubplot at 0x7fae7442d890>"
            ]
          },
          "metadata": {},
          "execution_count": 24
        },
        {
          "output_type": "display_data",
          "data": {
            "image/png": "[encoded data removed]",
            "text/plain": [
              "<Figure size 432x288 with 1 Axes>"
            ]
          },
          "metadata": {
            "needs_background": "light"
          }
        }
      ]
    },
    {
      "cell_type": "code",
      "metadata": {
        "colab": {
          "base_uri": "https://localhost:8080/",
          "height": 282
        },
        "id": "QdE7iVsXwsSU",
        "outputId": "4db564dc-84ba-4af8-d3c7-89bd64d59601"
      },
      "source": [
        "fibre_2['SALE_HR'].value_counts().tail(5).plot.barh()"
      ],
      "execution_count": 23,
      "outputs": [
        {
          "output_type": "execute_result",
          "data": {
            "text/plain": [
              "<matplotlib.axes._subplots.AxesSubplot at 0x7fae74c9cc90>"
            ]
          },
          "metadata": {},
          "execution_count": 23
        },
        {
          "output_type": "display_data",
          "data": {
            "image/png": "[encoded data removed]",
            "text/plain": [
              "<Figure size 432x288 with 1 Axes>"
            ]
          },
          "metadata": {
            "needs_background": "light"
          }
        }
      ]
    },
    {
      "cell_type": "code",
      "metadata": {
        "colab": {
          "base_uri": "https://localhost:8080/",
          "height": 282
        },
        "id": "cPf5yiMRwg1C",
        "outputId": "4d494dfb-05b6-4dcc-f48e-2158523d927e"
      },
      "source": [
        "fibre_2['PAY_DAY'].value_counts().tail(5).plot.barh()"
      ],
      "execution_count": 22,
      "outputs": [
        {
          "output_type": "execute_result",
          "data": {
            "text/plain": [
              "<matplotlib.axes._subplots.AxesSubplot at 0x7fae74ec8790>"
            ]
          },
          "metadata": {},
          "execution_count": 22
        },
        {
          "output_type": "display_data",
          "data": {
            "image/png": "[encoded data removed]",
            "text/plain": [
              "<Figure size 432x288 with 1 Axes>"
            ]
          },
          "metadata": {
            "needs_background": "light"
          }
        }
      ]
    },
    {
      "cell_type": "code",
      "metadata": {
        "colab": {
          "base_uri": "https://localhost:8080/",
          "height": 282
        },
        "id": "gydYWzR-wmne",
        "outputId": "17d0935f-42bf-41fc-ecc2-34fad93994b0"
      },
      "source": [
        "fibre_2['PAY_HR'].value_counts().head(5).plot.barh()"
      ],
      "execution_count": 25,
      "outputs": [
        {
          "output_type": "execute_result",
          "data": {
            "text/plain": [
              "<matplotlib.axes._subplots.AxesSubplot at 0x7fae73d0a910>"
            ]
          },
          "metadata": {},
          "execution_count": 25
        },
        {
          "output_type": "display_data",
          "data": {
            "image/png": "[encoded data removed]",
            "text/plain": [
              "<Figure size 432x288 with 1 Axes>"
            ]
          },
          "metadata": {
            "needs_background": "light"
          }
        }
      ]
    },
    {
      "cell_type": "markdown",
      "metadata": {
        "id": "ySR8rG6unawg"
      },
      "source": [
        "## 1.7 Bivariate Analysis Fibre Dataset"
      ]
    },
    {
      "cell_type": "code",
      "metadata": {
        "id": "UUpMRuPE4rGn"
      },
      "source": [
        "sns.set(color_codes=True)"
      ],
      "execution_count": null,
      "outputs": []
    },
    {
      "cell_type": "code",
      "metadata": {
        "colab": {
          "base_uri": "https://localhost:8080/",
          "height": 412
        },
        "id": "1EU6fJpFRS8X",
        "outputId": "cfdb671a-3aa5-4076-8915-e4fb7ea9df21"
      },
      "source": [
        "# dealers that are zoned as per the pclass\n",
        "plt.figure(figsize=(10,6))\n",
        "sns.countplot(y='ZONE', data=fibre_2, hue='ZONED')\n",
        "plt.legend(['zoned', 'unzoned','non_defined'])\n",
        "plt.title('dealers zoning Per Class', fontsize=16, color='brown')\n",
        "plt.show();"
      ],
      "execution_count": null,
      "outputs": [
        {
          "output_type": "display_data",
          "data": {
            "image/png": "[encoded data removed]",
            "text/plain": [
              "<Figure size 720x432 with 1 Axes>"
            ]
          },
          "metadata": {}
        }
      ]
    },
    {
      "cell_type": "code",
      "metadata": {
        "colab": {
          "base_uri": "https://localhost:8080/",
          "height": 285
        },
        "id": "FaBtXnuR9gOZ",
        "outputId": "ba002a0d-2acf-4fa8-dba7-e8f69a38b834"
      },
      "source": [
        "sns.set(style=\"darkgrid\")\n",
        "ax = sns.countplot(x=\"ZONED\", hue=\"STATUS\", data=fibre_2)"
      ],
      "execution_count": 160,
      "outputs": [
        {
          "output_type": "display_data",
          "data": {
            "image/png": "[encoded data removed]",
            "text/plain": [
              "<Figure size 432x288 with 1 Axes>"
            ]
          },
          "metadata": {}
        }
      ]
    },
    {
      "cell_type": "code",
      "metadata": {
        "colab": {
          "base_uri": "https://localhost:8080/",
          "height": 285
        },
        "id": "G_P35S5Y_Afd",
        "outputId": "f24d2ec5-edf5-49ea-cd48-9ed6e87297f3"
      },
      "source": [
        "sns.set(style=\"darkgrid\")\n",
        "ax = sns.countplot(x=\"TIER\", hue=\"STATUS\", data=fibre_2)"
      ],
      "execution_count": 161,
      "outputs": [
        {
          "output_type": "display_data",
          "data": {
            "image/png": "[encoded data removed]",
            "text/plain": [
              "<Figure size 432x288 with 1 Axes>"
            ]
          },
          "metadata": {}
        }
      ]
    },
    {
      "cell_type": "code",
      "metadata": {
        "colab": {
          "base_uri": "https://localhost:8080/",
          "height": 285
        },
        "id": "sV5KrQz1_HE6",
        "outputId": "d6a11f8d-c710-407e-f45e-cbc91ddbcc5d"
      },
      "source": [
        "sns.set(style=\"darkgrid\")\n",
        "ax = sns.countplot(x=\"CHANNEL\", hue=\"STATUS\", data=fibre_2)"
      ],
      "execution_count": 162,
      "outputs": [
        {
          "output_type": "display_data",
          "data": {
            "image/png": "[encoded data removed]",
            "text/plain": [
              "<Figure size 432x288 with 1 Axes>"
            ]
          },
          "metadata": {}
        }
      ]
    },
    {
      "cell_type": "code",
      "metadata": {
        "colab": {
          "base_uri": "https://localhost:8080/",
          "height": 285
        },
        "id": "dpM8emVLBSy4",
        "outputId": "f13e8286-7b89-4111-f32e-0e1b17b1fe74"
      },
      "source": [
        "sns.set(style=\"darkgrid\")\n",
        "ax = sns.countplot(x=\"SERVICE_PLAN_NAME\", hue=\"STATUS\", data=fibre_2)"
      ],
      "execution_count": 164,
      "outputs": [
        {
          "output_type": "display_data",
          "data": {
            "image/png": "[encoded data removed]",
            "text/plain": [
              "<Figure size 432x288 with 1 Axes>"
            ]
          },
          "metadata": {}
        }
      ]
    },
    {
      "cell_type": "code",
      "metadata": {
        "colab": {
          "base_uri": "https://localhost:8080/"
        },
        "id": "mcQsQsfaJmFd",
        "outputId": "aebba6ef-b03e-4633-ec78-cf5ebd414963"
      },
      "source": [
        "fibre_2.columns\n"
      ],
      "execution_count": 165,
      "outputs": [
        {
          "output_type": "execute_result",
          "data": {
            "text/plain": [
              "Index(['CI', 'SALE_DATE', 'PAYMENT_STATUS', 'PAYMENT_DATE', 'REMEDY_STATUS',\n",
              "       'REMEDY_DATE', 'IPCC_WHITELIST_STATUS', 'CRQ_CLOSURE_STATUS',\n",
              "       'ONT_SERIAL_NO', 'IPCC_STATUS_DETAILS', 'AGENCY_NAME',\n",
              "       'CONTRACTOR_NAME', 'SERVICE_PLAN_NAME', 'REGION_NAME', 'ZONE', 'TIER',\n",
              "       'CHANNEL', 'DATE', 'MONTH', 'STATUS', 'MONTH_CONNECTED', 'ZONED',\n",
              "       'SALE_DATE ', 'SALE_YEAR', 'SALE_DAY', 'SALE_HR', 'SALE_MONTH'],\n",
              "      dtype='object')"
            ]
          },
          "metadata": {},
          "execution_count": 165
        }
      ]
    },
    {
      "cell_type": "code",
      "metadata": {
        "colab": {
          "base_uri": "https://localhost:8080/",
          "height": 285
        },
        "id": "XPhia6BfBmDc",
        "outputId": "abf3cbd5-a720-49c5-d9c2-33b2b4d23b9c"
      },
      "source": [
        "sns.set(style=\"darkgrid\")\n",
        "ax = sns.countplot(x=\"SALE_MONTH\", hue=\"STATUS\", data=fibre_2)"
      ],
      "execution_count": 167,
      "outputs": [
        {
          "output_type": "display_data",
          "data": {
            "image/png": "[encoded data removed]",
            "text/plain": [
              "<Figure size 432x288 with 1 Axes>"
            ]
          },
          "metadata": {}
        }
      ]
    },
    {
      "cell_type": "code",
      "metadata": {
        "colab": {
          "base_uri": "https://localhost:8080/",
          "height": 285
        },
        "id": "bp4Qur5rxhWM",
        "outputId": "a14d80d5-af03-47a9-f25c-ee55a63352fe"
      },
      "source": [
        "sns.set(style=\"darkgrid\")\n",
        "ax = sns.countplot(x=\"SALE_DAY\", hue=\"STATUS\", data=fibre_2)"
      ],
      "execution_count": 27,
      "outputs": [
        {
          "output_type": "display_data",
          "data": {
            "image/png": "[encoded data removed]",
            "text/plain": [
              "<Figure size 432x288 with 1 Axes>"
            ]
          },
          "metadata": {}
        }
      ]
    },
    {
      "cell_type": "code",
      "metadata": {
        "colab": {
          "base_uri": "https://localhost:8080/",
          "height": 285
        },
        "id": "OxN7a1xaKE7H",
        "outputId": "ee0b01ce-f8cd-4b5b-9bd4-4a6b0cf05509"
      },
      "source": [
        "sns.set(style=\"darkgrid\")\n",
        "ax = sns.countplot(x=\"SALE_HR\", hue=\"STATUS\", data=fibre_2)"
      ],
      "execution_count": 169,
      "outputs": [
        {
          "output_type": "display_data",
          "data": {
            "image/png": "[encoded data removed]",
            "text/plain": [
              "<Figure size 432x288 with 1 Axes>"
            ]
          },
          "metadata": {}
        }
      ]
    },
    {
      "cell_type": "code",
      "metadata": {
        "colab": {
          "base_uri": "https://localhost:8080/",
          "height": 285
        },
        "id": "8CBccJZBxXM1",
        "outputId": "66b1cff6-0729-4318-c046-80ee60eb4bb8"
      },
      "source": [
        "sns.set(style=\"darkgrid\")\n",
        "ax = sns.countplot(x=\"PAY_HR\", hue=\"STATUS\", data=fibre_2)"
      ],
      "execution_count": 26,
      "outputs": [
        {
          "output_type": "display_data",
          "data": {
            "image/png": "[encoded data removed]",
            "text/plain": [
              "<Figure size 432x288 with 1 Axes>"
            ]
          },
          "metadata": {}
        }
      ]
    },
    {
      "cell_type": "code",
      "metadata": {
        "colab": {
          "base_uri": "https://localhost:8080/",
          "height": 285
        },
        "id": "SNZwxpVax4fM",
        "outputId": "8b8c625d-1858-473b-959b-ad9c1ee456f0"
      },
      "source": [
        "sns.set(style=\"darkgrid\")\n",
        "ax = sns.countplot(x=\"PAY_MONTH\", hue=\"PAYMENT_STATUS\", data=fibre_2)"
      ],
      "execution_count": 29,
      "outputs": [
        {
          "output_type": "display_data",
          "data": {
            "image/png": "[encoded data removed]",
            "text/plain": [
              "<Figure size 432x288 with 1 Axes>"
            ]
          },
          "metadata": {}
        }
      ]
    },
    {
      "cell_type": "code",
      "metadata": {
        "colab": {
          "base_uri": "https://localhost:8080/",
          "height": 286
        },
        "id": "NtFDtz-AyG6V",
        "outputId": "153c547b-50cb-4343-8a8b-4465526f5c1f"
      },
      "source": [
        "sns.set(style=\"darkgrid\")\n",
        "ax = sns.countplot(x=\"PAY_MONTH\", hue=\"CRQ_CLOSURE_STATUS\", data=fibre_2)"
      ],
      "execution_count": 30,
      "outputs": [
        {
          "output_type": "display_data",
          "data": {
            "image/png": "[encoded data removed]",
            "text/plain": [
              "<Figure size 432x288 with 1 Axes>"
            ]
          },
          "metadata": {}
        }
      ]
    },
    {
      "cell_type": "code",
      "metadata": {
        "colab": {
          "base_uri": "https://localhost:8080/",
          "height": 285
        },
        "id": "W1Tzgev5yUeh",
        "outputId": "f37c9fcd-f84f-4410-8ce1-cff54142267d"
      },
      "source": [
        "sns.set(style=\"darkgrid\")\n",
        "ax = sns.countplot(x=\"CONTRACTOR_NAME\", hue=\"CRQ_CLOSURE_STATUS\", data=fibre_2)"
      ],
      "execution_count": 33,
      "outputs": [
        {
          "output_type": "display_data",
          "data": {
            "image/png": "[encoded data removed]",
            "text/plain": [
              "<Figure size 432x288 with 1 Axes>"
            ]
          },
          "metadata": {}
        }
      ]
    },
    {
      "cell_type": "code",
      "metadata": {
        "colab": {
          "base_uri": "https://localhost:8080/",
          "height": 288
        },
        "id": "xFxhxtN0yqkW",
        "outputId": "d719b37e-b1aa-4868-f2c6-005c567bda2f"
      },
      "source": [
        "sns.set(style=\"darkgrid\")\n",
        "ax = sns.countplot(x=\"REGION_NAME\", hue=\"TIER\", data=fibre_2)"
      ],
      "execution_count": 34,
      "outputs": [
        {
          "output_type": "display_data",
          "data": {
            "image/png": "[encoded data removed]",
            "text/plain": [
              "<Figure size 432x288 with 1 Axes>"
            ]
          },
          "metadata": {}
        }
      ]
    },
    {
      "cell_type": "code",
      "metadata": {
        "colab": {
          "base_uri": "https://localhost:8080/",
          "height": 285
        },
        "id": "IEN3PxCYy7cY",
        "outputId": "8fa2e012-fe87-4de0-cb68-c42055b685dc"
      },
      "source": [
        "sns.set(style=\"darkgrid\")\n",
        "ax = sns.countplot(x=\"REGION_NAME\", hue=\"STATUS\", data=fibre_2)"
      ],
      "execution_count": 35,
      "outputs": [
        {
          "output_type": "display_data",
          "data": {
            "image/png": "[encoded data removed]",
            "text/plain": [
              "<Figure size 432x288 with 1 Axes>"
            ]
          },
          "metadata": {}
        }
      ]
    },
    {
      "cell_type": "code",
      "metadata": {
        "colab": {
          "base_uri": "https://localhost:8080/",
          "height": 285
        },
        "id": "gFfbOwVCzVCZ",
        "outputId": "134de457-d714-4274-84d3-3f54f7389cf5"
      },
      "source": [
        "sns.set(style=\"darkgrid\")\n",
        "ax = sns.countplot(x=\"REGION_NAME\", hue=\"ZONED\", data=fibre_2)"
      ],
      "execution_count": 39,
      "outputs": [
        {
          "output_type": "display_data",
          "data": {
            "image/png": "[encoded data removed]",
            "text/plain": [
              "<Figure size 432x288 with 1 Axes>"
            ]
          },
          "metadata": {}
        }
      ]
    },
    {
      "cell_type": "markdown",
      "metadata": {
        "id": "svwUW-fV0hDr"
      },
      "source": [
        "## 1.8 Multivariate Analysis Fibre Dataset"
      ]
    },
    {
      "cell_type": "code",
      "metadata": {
        "id": "Qiy4Yt27Wr7z"
      },
      "source": [
        ""
      ],
      "execution_count": null,
      "outputs": []
    }
  ]
}