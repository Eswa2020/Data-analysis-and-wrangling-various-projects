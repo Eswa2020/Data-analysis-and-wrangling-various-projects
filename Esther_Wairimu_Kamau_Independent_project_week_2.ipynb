{
  "nbformat": 4,
  "nbformat_minor": 0,
  "metadata": {
    "colab": {
      "name": "Esther Wairimu Kamau.Independent project week 2",
      "provenance": [],
      "toc_visible": true,
      "authorship_tag": "ABX9TyPbogXXyrM7HH9WxJgYc80p",
      "include_colab_link": true
    },
    "kernelspec": {
      "name": "python3",
      "display_name": "Python 3"
    }
  },
  "cells": [
    {
      "cell_type": "markdown",
      "metadata": {
        "id": "view-in-github",
        "colab_type": "text"
      },
      "source": [
        "<a href=\"https://colab.research.google.com/github/Eswa2020/data-prep-project/blob/master/Esther_Wairimu_Kamau_Independent_project_week_2.ipynb\" target=\"_parent\"><img src=\"https://colab.research.google.com/assets/colab-badge.svg\" alt=\"Open In Colab\"/></a>"
      ]
    },
    {
      "cell_type": "markdown",
      "metadata": {
        "id": "NQD3h2ObI2Bn"
      },
      "source": [
        "# Specifying the problem statement\n"
      ]
    },
    {
      "cell_type": "markdown",
      "metadata": {
        "id": "IzYEzECsv6S0"
      },
      "source": [
        " The goal of this project is to demonstrate the concept of hypothesis testing by investigating a claim about blue cars using a dataset from an electric car sharing service company called Autolib. More specifically, we will be comparing the blue car usage rates in  France since Autolib was an electric car sharing service inaugurated in Paris.\n",
        "We will be using the Autolib dataset to perform Univariate and Bivariate Analysis for Paris and Hauts-de-Seine, which are two main French cities. Below are the specific hypotheses of interest for this analysis:\n",
        "\n",
        "> Null Hypothesis: For both Paris and Hauts-de-Seine the average number of blue cars picked up during weekends is the same.\n",
        "\n",
        ">> Ho : μ1 = μ2\n",
        "\n",
        "> Alternative Hypothesis: The average number of blue cars picked up during the weekend is different for Paris and Hauts-de-Seine.\n",
        "\n",
        ">> Ha : μ1 ≠ μ2 "
      ]
    },
    {
      "cell_type": "markdown",
      "metadata": {
        "id": "jgMK3j14QOro"
      },
      "source": [
        "# Metrics for Success"
      ]
    },
    {
      "cell_type": "markdown",
      "metadata": {
        "id": "z6C57j3GQW1t"
      },
      "source": [
        "our project will be a success when we are able to achieve the following:\n",
        "\n",
        ">*   Specify the null and alternative hypothesis.\n",
        ">*   Perform EDA(Exploratory Data Analysis) to uncover trends within the dataset.\n",
        ">*   Perform hypothesis testing and interpret the results.\n",
        ">*   Give summaries and conclusions."
      ]
    },
    {
      "cell_type": "markdown",
      "metadata": {
        "id": "LMfaC50mTQyT"
      },
      "source": [
        "# Data Understanding"
      ]
    },
    {
      "cell_type": "markdown",
      "metadata": {
        "id": "Jj97_9LjTVqB"
      },
      "source": [
        ">Autolib' was an electric car sharing service which was inaugurated in Paris, France, in December 2011. It closed on July 31st 2018.It was operated by the Bolloré industrial group. The Autolib' scheme maintained a fleet of all-electric Bolloré Bluecars for public use on a paid subscription basis, employing a citywide network of parking and charging stations.As of 3 July 2016, 3,980 Bluecars had been registered for the service, and the scheme had more than 126,900 registered subscribers.Autolib' furthermore offered 1,084 electric car stations in Paris agglomeration with 5,935 charging points.\n",
        "\n",
        ">Since beginning operations in Paris, Autolib' expanded its business to the cities of Lyon and Bordeaux.Bolloré also signed deals to begin operating offshoots of Autolib' in London and Indianapolis in 2015,Turin in 2016 and Singapore in 2017.\n",
        "\n",
        "> Autolib was in France that was operational between 2011 and 2018. The company had three types of electric cars i.e blue cars, Utilib cars and Utilib 1.4 cars. Blue cars were most popularly used. \n",
        "\n",
        ">Bluecars were available in different postal codes in France and renters could pick up cars in one station then drop them off at a different station that was closer to their destination.\n",
        "\n",
        "> The dataset contains information for different postal codes for 6 months i.e.between January 2018 and June 2018."
      ]
    },
    {
      "cell_type": "markdown",
      "metadata": {
        "id": "o9rXQtXMePZa"
      },
      "source": [
        "# Steps for undertaking Experimental Design"
      ]
    },
    {
      "cell_type": "markdown",
      "metadata": {
        "id": "rpWodGipdM6K"
      },
      "source": [
        "> Below are the steps that will be conducted in this analysis in order to meet our projects expectations :\n",
        "\n",
        "\n",
        ">*   Load data and check on the characteristics of the dataset\n",
        ">*   Perform Data cleaning (check for and deal with outliers, anomalies,duplicates,null and missing data)\n",
        ">*   Perform univariate and bivariate analysis\n",
        ">*   Specify the null and alternative hypotheses\n",
        ">*   Explain the sampling method \n",
        ">*   Perform hypothesis testing\n",
        ">*   Discuss the hypothesis test results\n",
        ">*   Provide project summary and conclusion\n",
        ">*   Challenge our solution by providing insights on how we can make improvements."
      ]
    },
    {
      "cell_type": "markdown",
      "metadata": {
        "id": "4cBFJvwceZlX"
      },
      "source": [
        "# Appropriateness of Dataset"
      ]
    },
    {
      "cell_type": "markdown",
      "metadata": {
        "id": "rcpexVjVeouC"
      },
      "source": [
        ">The dataset to use for this project can be found here [http://bit.ly/DSCoreAutolibDataset]\n",
        "\n",
        ">The provided dataset is a daily aggregation, by date and postal code, of the number of events on the Autolib network for Bluecar,utilib and utilib 14 cars"
      ]
    },
    {
      "cell_type": "markdown",
      "metadata": {
        "id": "GiI1fHe-fjcB"
      },
      "source": [
        "# Importing Libraries"
      ]
    },
    {
      "cell_type": "code",
      "metadata": {
        "id": "z0nG63zAuCNH"
      },
      "source": [
        "# Importing Pandas\n",
        "# \n",
        "import pandas as pd\n",
        "import pandas_profiling as pp\n"
      ],
      "execution_count": 1,
      "outputs": []
    },
    {
      "cell_type": "code",
      "metadata": {
        "id": "EhP-7OJewKTl"
      },
      "source": [
        "#Importing Numpy\n",
        "import numpy as np"
      ],
      "execution_count": 3,
      "outputs": []
    },
    {
      "cell_type": "code",
      "metadata": {
        "id": "mgBEX9-IwRSY"
      },
      "source": [
        "#Importing Seaborn\n",
        "import seaborn as sns"
      ],
      "execution_count": 4,
      "outputs": []
    },
    {
      "cell_type": "code",
      "metadata": {
        "id": "YVj5rlPcwVbz"
      },
      "source": [
        "#Importing Matplotlib\n",
        "import matplotlib.pyplot as plt"
      ],
      "execution_count": 5,
      "outputs": []
    },
    {
      "cell_type": "code",
      "metadata": {
        "id": "Y2nfMEPqeRuO",
        "outputId": "8a7eabd6-b68a-463c-df29-9d79aa7e370d",
        "colab": {
          "base_uri": "https://localhost:8080/"
        }
      },
      "source": [
        "#importing scipy\n",
        "from scipy import stats\n",
        "\n",
        "from scipy.stats import norm\n",
        "\n",
        "from scipy.stats import t\n",
        "\n",
        "import math\n",
        "\n",
        "from scipy.stats import ttest_ind\n",
        "\n",
        "from statsmodels.stats import weightstats as stests\n"
      ],
      "execution_count": 6,
      "outputs": [
        {
          "output_type": "stream",
          "text": [
            "/usr/local/lib/python3.6/dist-packages/statsmodels/tools/_testing.py:19: FutureWarning: pandas.util.testing is deprecated. Use the functions in the public API at pandas.testing instead.\n",
            "  import pandas.util.testing as tm\n"
          ],
          "name": "stderr"
        }
      ]
    },
    {
      "cell_type": "code",
      "metadata": {
        "id": "vzuEnSrx2jY5"
      },
      "source": [
        "import warnings\n",
        "warnings.filterwarnings('ignore')"
      ],
      "execution_count": 7,
      "outputs": []
    },
    {
      "cell_type": "markdown",
      "metadata": {
        "id": "u9wJif8qgHR4"
      },
      "source": [
        "#Loading the Dataset"
      ]
    },
    {
      "cell_type": "code",
      "metadata": {
        "id": "lDLJlGvdyAWR",
        "outputId": "36f39a2e-4992-4bb3-c4f7-ddb8fa966621",
        "colab": {
          "base_uri": "https://localhost:8080/",
          "height": 234
        }
      },
      "source": [
        "#loading our datasets\n",
        "#variable_definitions\n",
        "autolib_def=pd.read_csv('http://bit.ly/DSCoreAutolibDataset')\n",
        "autolib_def.head(5)\n"
      ],
      "execution_count": 8,
      "outputs": [
        {
          "output_type": "execute_result",
          "data": {
            "text/html": [
              "<div>\n",
              "<style scoped>\n",
              "    .dataframe tbody tr th:only-of-type {\n",
              "        vertical-align: middle;\n",
              "    }\n",
              "\n",
              "    .dataframe tbody tr th {\n",
              "        vertical-align: top;\n",
              "    }\n",
              "\n",
              "    .dataframe thead th {\n",
              "        text-align: right;\n",
              "    }\n",
              "</style>\n",
              "<table border=\"1\" class=\"dataframe\">\n",
              "  <thead>\n",
              "    <tr style=\"text-align: right;\">\n",
              "      <th></th>\n",
              "      <th>Postal code</th>\n",
              "      <th>date</th>\n",
              "      <th>n_daily_data_points</th>\n",
              "      <th>dayOfWeek</th>\n",
              "      <th>day_type</th>\n",
              "      <th>BlueCars_taken_sum</th>\n",
              "      <th>BlueCars_returned_sum</th>\n",
              "      <th>Utilib_taken_sum</th>\n",
              "      <th>Utilib_returned_sum</th>\n",
              "      <th>Utilib_14_taken_sum</th>\n",
              "      <th>Utilib_14_returned_sum</th>\n",
              "      <th>Slots_freed_sum</th>\n",
              "      <th>Slots_taken_sum</th>\n",
              "    </tr>\n",
              "  </thead>\n",
              "  <tbody>\n",
              "    <tr>\n",
              "      <th>0</th>\n",
              "      <td>75001</td>\n",
              "      <td>1/1/2018</td>\n",
              "      <td>1440</td>\n",
              "      <td>0</td>\n",
              "      <td>weekday</td>\n",
              "      <td>110</td>\n",
              "      <td>103</td>\n",
              "      <td>3</td>\n",
              "      <td>2</td>\n",
              "      <td>10</td>\n",
              "      <td>9</td>\n",
              "      <td>22</td>\n",
              "      <td>20</td>\n",
              "    </tr>\n",
              "    <tr>\n",
              "      <th>1</th>\n",
              "      <td>75001</td>\n",
              "      <td>1/2/2018</td>\n",
              "      <td>1438</td>\n",
              "      <td>1</td>\n",
              "      <td>weekday</td>\n",
              "      <td>98</td>\n",
              "      <td>94</td>\n",
              "      <td>1</td>\n",
              "      <td>1</td>\n",
              "      <td>8</td>\n",
              "      <td>8</td>\n",
              "      <td>23</td>\n",
              "      <td>22</td>\n",
              "    </tr>\n",
              "    <tr>\n",
              "      <th>2</th>\n",
              "      <td>75001</td>\n",
              "      <td>1/3/2018</td>\n",
              "      <td>1439</td>\n",
              "      <td>2</td>\n",
              "      <td>weekday</td>\n",
              "      <td>138</td>\n",
              "      <td>139</td>\n",
              "      <td>0</td>\n",
              "      <td>0</td>\n",
              "      <td>2</td>\n",
              "      <td>2</td>\n",
              "      <td>27</td>\n",
              "      <td>27</td>\n",
              "    </tr>\n",
              "    <tr>\n",
              "      <th>3</th>\n",
              "      <td>75001</td>\n",
              "      <td>1/4/2018</td>\n",
              "      <td>1320</td>\n",
              "      <td>3</td>\n",
              "      <td>weekday</td>\n",
              "      <td>104</td>\n",
              "      <td>104</td>\n",
              "      <td>2</td>\n",
              "      <td>2</td>\n",
              "      <td>9</td>\n",
              "      <td>8</td>\n",
              "      <td>25</td>\n",
              "      <td>21</td>\n",
              "    </tr>\n",
              "    <tr>\n",
              "      <th>4</th>\n",
              "      <td>75001</td>\n",
              "      <td>1/5/2018</td>\n",
              "      <td>1440</td>\n",
              "      <td>4</td>\n",
              "      <td>weekday</td>\n",
              "      <td>114</td>\n",
              "      <td>117</td>\n",
              "      <td>3</td>\n",
              "      <td>3</td>\n",
              "      <td>6</td>\n",
              "      <td>6</td>\n",
              "      <td>18</td>\n",
              "      <td>20</td>\n",
              "    </tr>\n",
              "  </tbody>\n",
              "</table>\n",
              "</div>"
            ],
            "text/plain": [
              "   Postal code      date  ...  Slots_freed_sum  Slots_taken_sum\n",
              "0        75001  1/1/2018  ...               22               20\n",
              "1        75001  1/2/2018  ...               23               22\n",
              "2        75001  1/3/2018  ...               27               27\n",
              "3        75001  1/4/2018  ...               25               21\n",
              "4        75001  1/5/2018  ...               18               20\n",
              "\n",
              "[5 rows x 13 columns]"
            ]
          },
          "metadata": {
            "tags": []
          },
          "execution_count": 8
        }
      ]
    },
    {
      "cell_type": "markdown",
      "metadata": {
        "id": "Ri2QWYFngfcq"
      },
      "source": [
        "# previewing the dataset"
      ]
    },
    {
      "cell_type": "code",
      "metadata": {
        "id": "caclRimDyYw-",
        "outputId": "6ae94e6e-a172-47a6-c53b-89a7ca518850",
        "colab": {
          "base_uri": "https://localhost:8080/",
          "height": 234
        }
      },
      "source": [
        "# Checking the bottom 5 records of the dataset\n",
        "\n",
        "autolib_def.tail(5)"
      ],
      "execution_count": null,
      "outputs": [
        {
          "output_type": "execute_result",
          "data": {
            "text/html": [
              "<div>\n",
              "<style scoped>\n",
              "    .dataframe tbody tr th:only-of-type {\n",
              "        vertical-align: middle;\n",
              "    }\n",
              "\n",
              "    .dataframe tbody tr th {\n",
              "        vertical-align: top;\n",
              "    }\n",
              "\n",
              "    .dataframe thead th {\n",
              "        text-align: right;\n",
              "    }\n",
              "</style>\n",
              "<table border=\"1\" class=\"dataframe\">\n",
              "  <thead>\n",
              "    <tr style=\"text-align: right;\">\n",
              "      <th></th>\n",
              "      <th>Postal code</th>\n",
              "      <th>date</th>\n",
              "      <th>n_daily_data_points</th>\n",
              "      <th>dayOfWeek</th>\n",
              "      <th>day_type</th>\n",
              "      <th>BlueCars_taken_sum</th>\n",
              "      <th>BlueCars_returned_sum</th>\n",
              "      <th>Utilib_taken_sum</th>\n",
              "      <th>Utilib_returned_sum</th>\n",
              "      <th>Utilib_14_taken_sum</th>\n",
              "      <th>Utilib_14_returned_sum</th>\n",
              "      <th>Slots_freed_sum</th>\n",
              "      <th>Slots_taken_sum</th>\n",
              "    </tr>\n",
              "  </thead>\n",
              "  <tbody>\n",
              "    <tr>\n",
              "      <th>16080</th>\n",
              "      <td>95880</td>\n",
              "      <td>6/15/2018</td>\n",
              "      <td>1440</td>\n",
              "      <td>4</td>\n",
              "      <td>weekday</td>\n",
              "      <td>15</td>\n",
              "      <td>10</td>\n",
              "      <td>0</td>\n",
              "      <td>0</td>\n",
              "      <td>2</td>\n",
              "      <td>3</td>\n",
              "      <td>0</td>\n",
              "      <td>0</td>\n",
              "    </tr>\n",
              "    <tr>\n",
              "      <th>16081</th>\n",
              "      <td>95880</td>\n",
              "      <td>6/16/2018</td>\n",
              "      <td>1440</td>\n",
              "      <td>5</td>\n",
              "      <td>weekend</td>\n",
              "      <td>19</td>\n",
              "      <td>19</td>\n",
              "      <td>0</td>\n",
              "      <td>0</td>\n",
              "      <td>2</td>\n",
              "      <td>1</td>\n",
              "      <td>0</td>\n",
              "      <td>0</td>\n",
              "    </tr>\n",
              "    <tr>\n",
              "      <th>16082</th>\n",
              "      <td>95880</td>\n",
              "      <td>6/17/2018</td>\n",
              "      <td>1440</td>\n",
              "      <td>6</td>\n",
              "      <td>weekend</td>\n",
              "      <td>33</td>\n",
              "      <td>35</td>\n",
              "      <td>1</td>\n",
              "      <td>1</td>\n",
              "      <td>0</td>\n",
              "      <td>0</td>\n",
              "      <td>0</td>\n",
              "      <td>0</td>\n",
              "    </tr>\n",
              "    <tr>\n",
              "      <th>16083</th>\n",
              "      <td>95880</td>\n",
              "      <td>6/18/2018</td>\n",
              "      <td>1440</td>\n",
              "      <td>0</td>\n",
              "      <td>weekday</td>\n",
              "      <td>11</td>\n",
              "      <td>14</td>\n",
              "      <td>3</td>\n",
              "      <td>5</td>\n",
              "      <td>2</td>\n",
              "      <td>2</td>\n",
              "      <td>0</td>\n",
              "      <td>0</td>\n",
              "    </tr>\n",
              "    <tr>\n",
              "      <th>16084</th>\n",
              "      <td>95880</td>\n",
              "      <td>6/19/2018</td>\n",
              "      <td>1370</td>\n",
              "      <td>1</td>\n",
              "      <td>weekday</td>\n",
              "      <td>2</td>\n",
              "      <td>2</td>\n",
              "      <td>2</td>\n",
              "      <td>1</td>\n",
              "      <td>0</td>\n",
              "      <td>0</td>\n",
              "      <td>0</td>\n",
              "      <td>0</td>\n",
              "    </tr>\n",
              "  </tbody>\n",
              "</table>\n",
              "</div>"
            ],
            "text/plain": [
              "       Postal code       date  ...  Slots_freed_sum  Slots_taken_sum\n",
              "16080        95880  6/15/2018  ...                0                0\n",
              "16081        95880  6/16/2018  ...                0                0\n",
              "16082        95880  6/17/2018  ...                0                0\n",
              "16083        95880  6/18/2018  ...                0                0\n",
              "16084        95880  6/19/2018  ...                0                0\n",
              "\n",
              "[5 rows x 13 columns]"
            ]
          },
          "metadata": {
            "tags": []
          },
          "execution_count": 8
        }
      ]
    },
    {
      "cell_type": "code",
      "metadata": {
        "id": "1wfmGywc78rU",
        "outputId": "16dc3de5-a134-44d5-91ca-2ae997b5a518",
        "colab": {
          "base_uri": "https://localhost:8080/"
        }
      },
      "source": [
        "#getting to know the number of columns and rows in the data set\n",
        "autolib_def.shape"
      ],
      "execution_count": null,
      "outputs": [
        {
          "output_type": "execute_result",
          "data": {
            "text/plain": [
              "(16085, 13)"
            ]
          },
          "metadata": {
            "tags": []
          },
          "execution_count": 9
        }
      ]
    },
    {
      "cell_type": "code",
      "metadata": {
        "id": "YuLtDgcuSX4a",
        "outputId": "6a6763a2-6be7-482e-ab6a-a2594144d925",
        "colab": {
          "base_uri": "https://localhost:8080/"
        }
      },
      "source": [
        "# Checking datatypes for each attribute and previewing the existence of null values\n",
        "#there are no null values in this dataset\n",
        "autolib_def.info()"
      ],
      "execution_count": null,
      "outputs": [
        {
          "output_type": "stream",
          "text": [
            "<class 'pandas.core.frame.DataFrame'>\n",
            "RangeIndex: 16085 entries, 0 to 16084\n",
            "Data columns (total 13 columns):\n",
            " #   Column                  Non-Null Count  Dtype \n",
            "---  ------                  --------------  ----- \n",
            " 0   Postal code             16085 non-null  int64 \n",
            " 1   date                    16085 non-null  object\n",
            " 2   n_daily_data_points     16085 non-null  int64 \n",
            " 3   dayOfWeek               16085 non-null  int64 \n",
            " 4   day_type                16085 non-null  object\n",
            " 5   BlueCars_taken_sum      16085 non-null  int64 \n",
            " 6   BlueCars_returned_sum   16085 non-null  int64 \n",
            " 7   Utilib_taken_sum        16085 non-null  int64 \n",
            " 8   Utilib_returned_sum     16085 non-null  int64 \n",
            " 9   Utilib_14_taken_sum     16085 non-null  int64 \n",
            " 10  Utilib_14_returned_sum  16085 non-null  int64 \n",
            " 11  Slots_freed_sum         16085 non-null  int64 \n",
            " 12  Slots_taken_sum         16085 non-null  int64 \n",
            "dtypes: int64(11), object(2)\n",
            "memory usage: 1.6+ MB\n"
          ],
          "name": "stdout"
        }
      ]
    },
    {
      "cell_type": "markdown",
      "metadata": {
        "id": "ybJTzvtBujSa"
      },
      "source": [
        "# Data Cleaning"
      ]
    },
    {
      "cell_type": "code",
      "metadata": {
        "id": "JFkOOTwQ3nIe",
        "outputId": "6bba5d86-1e97-4df7-9e5d-bad28d86fed6",
        "colab": {
          "base_uri": "https://localhost:8080/",
          "height": 197
        }
      },
      "source": [
        "# Since we only  interested in learning more about blue cars only\n",
        "# we can drop all other unnecessary columns\n",
        "\n",
        "autolib_def=autolib_def.drop(autolib_def.columns[7:], axis=1)\n",
        "autolib_def.head(5)"
      ],
      "execution_count": 9,
      "outputs": [
        {
          "output_type": "execute_result",
          "data": {
            "text/html": [
              "<div>\n",
              "<style scoped>\n",
              "    .dataframe tbody tr th:only-of-type {\n",
              "        vertical-align: middle;\n",
              "    }\n",
              "\n",
              "    .dataframe tbody tr th {\n",
              "        vertical-align: top;\n",
              "    }\n",
              "\n",
              "    .dataframe thead th {\n",
              "        text-align: right;\n",
              "    }\n",
              "</style>\n",
              "<table border=\"1\" class=\"dataframe\">\n",
              "  <thead>\n",
              "    <tr style=\"text-align: right;\">\n",
              "      <th></th>\n",
              "      <th>Postal code</th>\n",
              "      <th>date</th>\n",
              "      <th>n_daily_data_points</th>\n",
              "      <th>dayOfWeek</th>\n",
              "      <th>day_type</th>\n",
              "      <th>BlueCars_taken_sum</th>\n",
              "      <th>BlueCars_returned_sum</th>\n",
              "    </tr>\n",
              "  </thead>\n",
              "  <tbody>\n",
              "    <tr>\n",
              "      <th>0</th>\n",
              "      <td>75001</td>\n",
              "      <td>1/1/2018</td>\n",
              "      <td>1440</td>\n",
              "      <td>0</td>\n",
              "      <td>weekday</td>\n",
              "      <td>110</td>\n",
              "      <td>103</td>\n",
              "    </tr>\n",
              "    <tr>\n",
              "      <th>1</th>\n",
              "      <td>75001</td>\n",
              "      <td>1/2/2018</td>\n",
              "      <td>1438</td>\n",
              "      <td>1</td>\n",
              "      <td>weekday</td>\n",
              "      <td>98</td>\n",
              "      <td>94</td>\n",
              "    </tr>\n",
              "    <tr>\n",
              "      <th>2</th>\n",
              "      <td>75001</td>\n",
              "      <td>1/3/2018</td>\n",
              "      <td>1439</td>\n",
              "      <td>2</td>\n",
              "      <td>weekday</td>\n",
              "      <td>138</td>\n",
              "      <td>139</td>\n",
              "    </tr>\n",
              "    <tr>\n",
              "      <th>3</th>\n",
              "      <td>75001</td>\n",
              "      <td>1/4/2018</td>\n",
              "      <td>1320</td>\n",
              "      <td>3</td>\n",
              "      <td>weekday</td>\n",
              "      <td>104</td>\n",
              "      <td>104</td>\n",
              "    </tr>\n",
              "    <tr>\n",
              "      <th>4</th>\n",
              "      <td>75001</td>\n",
              "      <td>1/5/2018</td>\n",
              "      <td>1440</td>\n",
              "      <td>4</td>\n",
              "      <td>weekday</td>\n",
              "      <td>114</td>\n",
              "      <td>117</td>\n",
              "    </tr>\n",
              "  </tbody>\n",
              "</table>\n",
              "</div>"
            ],
            "text/plain": [
              "   Postal code      date  ...  BlueCars_taken_sum  BlueCars_returned_sum\n",
              "0        75001  1/1/2018  ...                 110                    103\n",
              "1        75001  1/2/2018  ...                  98                     94\n",
              "2        75001  1/3/2018  ...                 138                    139\n",
              "3        75001  1/4/2018  ...                 104                    104\n",
              "4        75001  1/5/2018  ...                 114                    117\n",
              "\n",
              "[5 rows x 7 columns]"
            ]
          },
          "metadata": {
            "tags": []
          },
          "execution_count": 9
        }
      ]
    },
    {
      "cell_type": "code",
      "metadata": {
        "id": "6HwXpTnBCRMS",
        "outputId": "9b7fde0e-ba92-4f92-8ca9-314318828c95",
        "colab": {
          "base_uri": "https://localhost:8080/",
          "height": 77
        }
      },
      "source": [
        "# then we we rename the columns for uniformity among the column names\n",
        "\n",
        "autolib_def.columns = ['postal_code', 'date', 'daily_data_points', 'day_of_week', 'day_type', 'total_bluecars_taken', \n",
        "                'total_bluecars_returned']\n",
        "autolib_def.head(1)"
      ],
      "execution_count": 10,
      "outputs": [
        {
          "output_type": "execute_result",
          "data": {
            "text/html": [
              "<div>\n",
              "<style scoped>\n",
              "    .dataframe tbody tr th:only-of-type {\n",
              "        vertical-align: middle;\n",
              "    }\n",
              "\n",
              "    .dataframe tbody tr th {\n",
              "        vertical-align: top;\n",
              "    }\n",
              "\n",
              "    .dataframe thead th {\n",
              "        text-align: right;\n",
              "    }\n",
              "</style>\n",
              "<table border=\"1\" class=\"dataframe\">\n",
              "  <thead>\n",
              "    <tr style=\"text-align: right;\">\n",
              "      <th></th>\n",
              "      <th>postal_code</th>\n",
              "      <th>date</th>\n",
              "      <th>daily_data_points</th>\n",
              "      <th>day_of_week</th>\n",
              "      <th>day_type</th>\n",
              "      <th>total_bluecars_taken</th>\n",
              "      <th>total_bluecars_returned</th>\n",
              "    </tr>\n",
              "  </thead>\n",
              "  <tbody>\n",
              "    <tr>\n",
              "      <th>0</th>\n",
              "      <td>75001</td>\n",
              "      <td>1/1/2018</td>\n",
              "      <td>1440</td>\n",
              "      <td>0</td>\n",
              "      <td>weekday</td>\n",
              "      <td>110</td>\n",
              "      <td>103</td>\n",
              "    </tr>\n",
              "  </tbody>\n",
              "</table>\n",
              "</div>"
            ],
            "text/plain": [
              "   postal_code      date  ...  total_bluecars_taken  total_bluecars_returned\n",
              "0        75001  1/1/2018  ...                   110                      103\n",
              "\n",
              "[1 rows x 7 columns]"
            ]
          },
          "metadata": {
            "tags": []
          },
          "execution_count": 10
        }
      ]
    },
    {
      "cell_type": "code",
      "metadata": {
        "id": "iLrxpEZOT4fo",
        "outputId": "d2c61366-f6c5-4700-c97f-9e036caf98a7",
        "colab": {
          "base_uri": "https://localhost:8080/",
          "height": 197
        }
      },
      "source": [
        "# Removing spaces and uppercases in the columns names\n",
        "autolib_def.columns = autolib_def.columns.str.lower().str.replace(\" \", \"\")\n",
        "autolib_def.head()"
      ],
      "execution_count": 11,
      "outputs": [
        {
          "output_type": "execute_result",
          "data": {
            "text/html": [
              "<div>\n",
              "<style scoped>\n",
              "    .dataframe tbody tr th:only-of-type {\n",
              "        vertical-align: middle;\n",
              "    }\n",
              "\n",
              "    .dataframe tbody tr th {\n",
              "        vertical-align: top;\n",
              "    }\n",
              "\n",
              "    .dataframe thead th {\n",
              "        text-align: right;\n",
              "    }\n",
              "</style>\n",
              "<table border=\"1\" class=\"dataframe\">\n",
              "  <thead>\n",
              "    <tr style=\"text-align: right;\">\n",
              "      <th></th>\n",
              "      <th>postal_code</th>\n",
              "      <th>date</th>\n",
              "      <th>daily_data_points</th>\n",
              "      <th>day_of_week</th>\n",
              "      <th>day_type</th>\n",
              "      <th>total_bluecars_taken</th>\n",
              "      <th>total_bluecars_returned</th>\n",
              "    </tr>\n",
              "  </thead>\n",
              "  <tbody>\n",
              "    <tr>\n",
              "      <th>0</th>\n",
              "      <td>75001</td>\n",
              "      <td>1/1/2018</td>\n",
              "      <td>1440</td>\n",
              "      <td>0</td>\n",
              "      <td>weekday</td>\n",
              "      <td>110</td>\n",
              "      <td>103</td>\n",
              "    </tr>\n",
              "    <tr>\n",
              "      <th>1</th>\n",
              "      <td>75001</td>\n",
              "      <td>1/2/2018</td>\n",
              "      <td>1438</td>\n",
              "      <td>1</td>\n",
              "      <td>weekday</td>\n",
              "      <td>98</td>\n",
              "      <td>94</td>\n",
              "    </tr>\n",
              "    <tr>\n",
              "      <th>2</th>\n",
              "      <td>75001</td>\n",
              "      <td>1/3/2018</td>\n",
              "      <td>1439</td>\n",
              "      <td>2</td>\n",
              "      <td>weekday</td>\n",
              "      <td>138</td>\n",
              "      <td>139</td>\n",
              "    </tr>\n",
              "    <tr>\n",
              "      <th>3</th>\n",
              "      <td>75001</td>\n",
              "      <td>1/4/2018</td>\n",
              "      <td>1320</td>\n",
              "      <td>3</td>\n",
              "      <td>weekday</td>\n",
              "      <td>104</td>\n",
              "      <td>104</td>\n",
              "    </tr>\n",
              "    <tr>\n",
              "      <th>4</th>\n",
              "      <td>75001</td>\n",
              "      <td>1/5/2018</td>\n",
              "      <td>1440</td>\n",
              "      <td>4</td>\n",
              "      <td>weekday</td>\n",
              "      <td>114</td>\n",
              "      <td>117</td>\n",
              "    </tr>\n",
              "  </tbody>\n",
              "</table>\n",
              "</div>"
            ],
            "text/plain": [
              "   postal_code      date  ...  total_bluecars_taken  total_bluecars_returned\n",
              "0        75001  1/1/2018  ...                   110                      103\n",
              "1        75001  1/2/2018  ...                    98                       94\n",
              "2        75001  1/3/2018  ...                   138                      139\n",
              "3        75001  1/4/2018  ...                   104                      104\n",
              "4        75001  1/5/2018  ...                   114                      117\n",
              "\n",
              "[5 rows x 7 columns]"
            ]
          },
          "metadata": {
            "tags": []
          },
          "execution_count": 11
        }
      ]
    },
    {
      "cell_type": "markdown",
      "metadata": {
        "id": "lIHnEQlOuuLh"
      },
      "source": [
        "## checking for Outliers"
      ]
    },
    {
      "cell_type": "code",
      "metadata": {
        "id": "lxikNfKDfzTq",
        "outputId": "ddad15c4-5f7a-4248-e586-3ac26c19f2ee",
        "colab": {
          "base_uri": "https://localhost:8080/",
          "height": 565
        }
      },
      "source": [
        "# Checking for outliers on the bluecars_returned_sum using boxplot\n",
        "\n",
        "plt.figure(dpi = 140)\n",
        "sns.boxplot(autolib_def['total_bluecars_taken'] , color = 'blue')\n",
        "plt.title(\"Number of bluecars taken\", color = 'Green')\n",
        "plt.show()"
      ],
      "execution_count": null,
      "outputs": [
        {
          "output_type": "display_data",
          "data": {
            "image/png": "[encoded data removed]",
            "text/plain": [
              "<Figure size 840x560 with 1 Axes>"
            ]
          },
          "metadata": {
            "tags": []
          }
        }
      ]
    },
    {
      "cell_type": "code",
      "metadata": {
        "id": "kQqhl9BN06AE",
        "outputId": "096ef9c3-1475-4a18-d39d-9b11b4d169de",
        "colab": {
          "base_uri": "https://localhost:8080/",
          "height": 565
        }
      },
      "source": [
        "# Checking for outliers on the bluecars_returned_sum using boxplot\n",
        "\n",
        "plt.figure(dpi = 140)\n",
        "sns.boxplot(autolib_def['total_bluecars_returned'] , color = 'red')\n",
        "plt.title(\"Number of bluecars returned\", color = 'Green')\n",
        "plt.show()"
      ],
      "execution_count": null,
      "outputs": [
        {
          "output_type": "display_data",
          "data": {
            "image/png": "[encoded data removed]",
            "text/plain": [
              "<Figure size 840x560 with 1 Axes>"
            ]
          },
          "metadata": {
            "tags": []
          }
        }
      ]
    },
    {
      "cell_type": "markdown",
      "metadata": {
        "id": "ajkESJfwgEGv"
      },
      "source": [
        ">* There are very many 'outliers' in the dataset for the number of blue cars taken and returned. However, there is no sufficient evidence that point to the likelihhod of these outliers being erroneous records. Since the outliers will definitely affect our observations, we will delete them.\n",
        ">*we will investigate them further before dropping them"
      ]
    },
    {
      "cell_type": "markdown",
      "metadata": {
        "id": "APKx33x9uyuV"
      },
      "source": [
        "## checking for  Anomalies"
      ]
    },
    {
      "cell_type": "markdown",
      "metadata": {
        "id": "mjgQfF1nqmIL"
      },
      "source": [
        "Interquartile Range (IQR) is important because it is used to define the outliers. It is the difference between the third quartile and the first quartile (IQR = Q3 -Q1). Outliers in this case are defined as the observations that are below (Q1 − 1.5x IQR) or boxplot lower whisker or above (Q3 + 1.5x IQR) or boxplot upper whisker."
      ]
    },
    {
      "cell_type": "code",
      "metadata": {
        "id": "5DMX0iuNfVB2",
        "outputId": "2dbfc66b-7a2e-41b3-93b8-65c6aec0bba9",
        "colab": {
          "base_uri": "https://localhost:8080/"
        }
      },
      "source": [
        "# Checking for Anomalies\n",
        "# 'blue cars taken' variable\n",
        "\n",
        "q1_taken = autolib_def['total_bluecars_taken'].quantile(.25)\n",
        "q3_taken = autolib_def['total_bluecars_taken'].quantile(.75)\n",
        "\n",
        "iqr_taken = q3_taken - q1_taken\n",
        "#checking for anomalies\n",
        "# 'blue cars returanned' variable\n",
        "q1_returned = autolib_def['total_bluecars_returned'].quantile(.25)\n",
        "q3_returned = autolib_def['total_bluecars_returned'].quantile(.75)\n",
        "\n",
        "iqr_returned = q3_returned - q1_returned\n",
        "\n",
        "#checking for anomalies\n",
        "# 'available data points' variable\n",
        "q1_points = autolib_def['daily_data_points'].quantile(.25)\n",
        "q3_points = autolib_def['daily_data_points'].quantile(.75)\n",
        "\n",
        "iqr_points = q3_points - q1_points\n",
        "\n",
        "print(iqr_taken, iqr_returned, iqr_points) "
      ],
      "execution_count": null,
      "outputs": [
        {
          "output_type": "stream",
          "text": [
            "115.0 115.0 1.0\n"
          ],
          "name": "stdout"
        }
      ]
    },
    {
      "cell_type": "markdown",
      "metadata": {
        "id": "4XVbGLanrGHu"
      },
      "source": [
        "> The IQR results show that the blue cars taken and blue cars returned have 115 records that are not within the middle 50%(Q2) of the records in those VARIABLES.\n",
        "\n",
        "> The daily data points have only 1 record that does not lie within the upper and lower bounds."
      ]
    },
    {
      "cell_type": "markdown",
      "metadata": {
        "id": "iJVqlQVRuT4b"
      },
      "source": [
        "## checking for missing Values"
      ]
    },
    {
      "cell_type": "code",
      "metadata": {
        "id": "erW5Qd4oTMeN",
        "outputId": "4b103473-cfd0-43dd-94db-bc9608405164",
        "colab": {
          "base_uri": "https://localhost:8080/"
        }
      },
      "source": [
        "#re-checking to confirm there are is zero null columns\n",
        "autolib_def.isnull().sum()"
      ],
      "execution_count": null,
      "outputs": [
        {
          "output_type": "execute_result",
          "data": {
            "text/plain": [
              "Postal code               0\n",
              "date                      0\n",
              "n_daily_data_points       0\n",
              "dayOfWeek                 0\n",
              "day_type                  0\n",
              "BlueCars_taken_sum        0\n",
              "BlueCars_returned_sum     0\n",
              "Utilib_taken_sum          0\n",
              "Utilib_returned_sum       0\n",
              "Utilib_14_taken_sum       0\n",
              "Utilib_14_returned_sum    0\n",
              "Slots_freed_sum           0\n",
              "Slots_taken_sum           0\n",
              "dtype: int64"
            ]
          },
          "metadata": {
            "tags": []
          },
          "execution_count": 17
        }
      ]
    },
    {
      "cell_type": "code",
      "metadata": {
        "id": "HfO6qrK5seMl",
        "outputId": "c58d13f0-19f1-421e-bd8a-9b7a633f870e",
        "colab": {
          "base_uri": "https://localhost:8080/"
        }
      },
      "source": [
        "#checking for not null columns\n",
        "autolib_def.notnull().sum()\n",
        "#shows our  dataset has no null values"
      ],
      "execution_count": null,
      "outputs": [
        {
          "output_type": "execute_result",
          "data": {
            "text/plain": [
              "Postal code               16085\n",
              "date                      16085\n",
              "n_daily_data_points       16085\n",
              "dayOfWeek                 16085\n",
              "day_type                  16085\n",
              "BlueCars_taken_sum        16085\n",
              "BlueCars_returned_sum     16085\n",
              "Utilib_taken_sum          16085\n",
              "Utilib_returned_sum       16085\n",
              "Utilib_14_taken_sum       16085\n",
              "Utilib_14_returned_sum    16085\n",
              "Slots_freed_sum           16085\n",
              "Slots_taken_sum           16085\n",
              "dtype: int64"
            ]
          },
          "metadata": {
            "tags": []
          },
          "execution_count": 18
        }
      ]
    },
    {
      "cell_type": "code",
      "metadata": {
        "id": "Z2D6z5RgookK",
        "outputId": "814d05c0-223e-4ac4-9858-4ba361685933",
        "colab": {
          "base_uri": "https://localhost:8080/"
        }
      },
      "source": [
        "# re-Checking for the data types of each column specifically\n",
        "autolib_def.dtypes"
      ],
      "execution_count": null,
      "outputs": [
        {
          "output_type": "execute_result",
          "data": {
            "text/plain": [
              "Postal code                int64\n",
              "date                      object\n",
              "n_daily_data_points        int64\n",
              "dayOfWeek                  int64\n",
              "day_type                  object\n",
              "BlueCars_taken_sum         int64\n",
              "BlueCars_returned_sum      int64\n",
              "Utilib_taken_sum           int64\n",
              "Utilib_returned_sum        int64\n",
              "Utilib_14_taken_sum        int64\n",
              "Utilib_14_returned_sum     int64\n",
              "Slots_freed_sum            int64\n",
              "Slots_taken_sum            int64\n",
              "dtype: object"
            ]
          },
          "metadata": {
            "tags": []
          },
          "execution_count": 15
        }
      ]
    },
    {
      "cell_type": "code",
      "metadata": {
        "id": "hvqBQ8hZTV1i",
        "outputId": "fcdf0268-b846-4887-a236-25e6cc50272f",
        "colab": {
          "base_uri": "https://localhost:8080/"
        }
      },
      "source": [
        ""
      ],
      "execution_count": null,
      "outputs": [
        {
          "output_type": "execute_result",
          "data": {
            "text/plain": [
              "Postal code               16085\n",
              "date                      16085\n",
              "n_daily_data_points       16085\n",
              "dayOfWeek                 16085\n",
              "day_type                  16085\n",
              "BlueCars_taken_sum        16085\n",
              "BlueCars_returned_sum     16085\n",
              "Utilib_taken_sum          16085\n",
              "Utilib_returned_sum       16085\n",
              "Utilib_14_taken_sum       16085\n",
              "Utilib_14_returned_sum    16085\n",
              "Slots_freed_sum           16085\n",
              "Slots_taken_sum           16085\n",
              "dtype: int64"
            ]
          },
          "metadata": {
            "tags": []
          },
          "execution_count": 33
        }
      ]
    },
    {
      "cell_type": "code",
      "metadata": {
        "id": "eXCpB4FfTkI_",
        "outputId": "079682ae-145b-4627-e09e-c42439450fd8",
        "colab": {
          "base_uri": "https://localhost:8080/"
        }
      },
      "source": [
        "#check if there are duplicates\n",
        "autolib_def.duplicated().sum()\n",
        "#there are no duplicates in our dataset"
      ],
      "execution_count": null,
      "outputs": [
        {
          "output_type": "execute_result",
          "data": {
            "text/plain": [
              "0"
            ]
          },
          "metadata": {
            "tags": []
          },
          "execution_count": 34
        }
      ]
    },
    {
      "cell_type": "code",
      "metadata": {
        "id": "eUAmPY2sUAz1",
        "outputId": "f3ce1391-5893-4255-bd74-410c90a03b4d",
        "colab": {
          "base_uri": "https://localhost:8080/"
        }
      },
      "source": [
        "#Getting to know more about the dataset by accessing its information\n",
        "\n",
        "autolib_def.info()"
      ],
      "execution_count": null,
      "outputs": [
        {
          "output_type": "stream",
          "text": [
            "<class 'pandas.core.frame.DataFrame'>\n",
            "RangeIndex: 16085 entries, 0 to 16084\n",
            "Data columns (total 13 columns):\n",
            " #   Column                  Non-Null Count  Dtype \n",
            "---  ------                  --------------  ----- \n",
            " 0   Postal code             16085 non-null  int64 \n",
            " 1   date                    16085 non-null  object\n",
            " 2   n_daily_data_points     16085 non-null  int64 \n",
            " 3   dayOfWeek               16085 non-null  int64 \n",
            " 4   day_type                16085 non-null  object\n",
            " 5   BlueCars_taken_sum      16085 non-null  int64 \n",
            " 6   BlueCars_returned_sum   16085 non-null  int64 \n",
            " 7   Utilib_taken_sum        16085 non-null  int64 \n",
            " 8   Utilib_returned_sum     16085 non-null  int64 \n",
            " 9   Utilib_14_taken_sum     16085 non-null  int64 \n",
            " 10  Utilib_14_returned_sum  16085 non-null  int64 \n",
            " 11  Slots_freed_sum         16085 non-null  int64 \n",
            " 12  Slots_taken_sum         16085 non-null  int64 \n",
            "dtypes: int64(11), object(2)\n",
            "memory usage: 1.6+ MB\n"
          ],
          "name": "stdout"
        }
      ]
    },
    {
      "cell_type": "markdown",
      "metadata": {
        "id": "S2uwGHy3zdnP"
      },
      "source": [
        "## Removing Outliers and saving clean dataset"
      ]
    },
    {
      "cell_type": "code",
      "metadata": {
        "id": "ZpCH5XtgzqZJ",
        "outputId": "2993ead1-09ed-492e-9f54-129e9285cb51",
        "colab": {
          "base_uri": "https://localhost:8080/"
        }
      },
      "source": [
        "# Removing the Outliers\n",
        "#we use the IQR to remove outliers like shown below\n",
        "Q3 = autolib_def.quantile(0.75)\n",
        "Q1 = autolib_def.quantile(0.25)\n",
        "\n",
        "IQR = Q3-Q1\n",
        "\n",
        "clean_data = autolib_def[~((autolib_def< (Q1 - 1.5 * IQR)) |(autolib_def > (Q3 + 1.5 * IQR))).any(axis=1)]\n",
        "print(clean_data.shape)"
      ],
      "execution_count": 12,
      "outputs": [
        {
          "output_type": "stream",
          "text": [
            "(10024, 7)\n"
          ],
          "name": "stdout"
        }
      ]
    },
    {
      "cell_type": "code",
      "metadata": {
        "id": "SVq7p3U-NQ8b"
      },
      "source": [
        "# Save the cleaned dataset\n",
        "clean_data.to_csv('./autolib_clean.csv')"
      ],
      "execution_count": 13,
      "outputs": []
    },
    {
      "cell_type": "markdown",
      "metadata": {
        "id": "Bap8Czt4sGt6"
      },
      "source": [
        "#Univariate Analysis"
      ]
    },
    {
      "cell_type": "markdown",
      "metadata": {
        "id": "CAzsu7b3tjGJ"
      },
      "source": [
        ">When performing the univariate analysis we will perform the actions below to try and undestand our dataset:\n",
        "\n",
        "*   Calculate measures of central tendecy\n",
        "*   Calculate the value spread in the data\n",
        "\n",
        "*   Calculate measures of shape\n",
        "*   Explore measures of concentration\n",
        "\n",
        "\n",
        "\n"
      ]
    },
    {
      "cell_type": "code",
      "metadata": {
        "id": "-dG4VrJhNvJH"
      },
      "source": [
        "#we will be using the data without outliers\n",
        "autolib_clean = pd.read_csv(\"./autolib_clean.csv\")"
      ],
      "execution_count": 14,
      "outputs": []
    },
    {
      "cell_type": "markdown",
      "metadata": {
        "id": "SWO8QwWdusF9"
      },
      "source": [
        "## Measures of central tendecy"
      ]
    },
    {
      "cell_type": "code",
      "metadata": {
        "id": "BIVkgAo5vCeR",
        "outputId": "c41f73ac-5b49-4738-a9b7-af6c2f268dd6",
        "colab": {
          "base_uri": "https://localhost:8080/"
        }
      },
      "source": [
        "# We can check the mean, mode and median of blue cars taken variable in our dataset\n",
        "\n",
        "mean_taken = autolib_clean['total_bluecars_taken'].mean()\n",
        "median_taken = autolib_clean['total_bluecars_taken'].median()\n",
        "mode_taken = autolib_clean['total_bluecars_taken'].mode()\n",
        "\n",
        "print(mean_taken, median_taken, mode_taken)"
      ],
      "execution_count": 15,
      "outputs": [
        {
          "output_type": "stream",
          "text": [
            "51.84357541899441 35.0 0    12\n",
            "dtype: int64\n"
          ],
          "name": "stdout"
        }
      ]
    },
    {
      "cell_type": "code",
      "metadata": {
        "id": "vt0e2LIuvIG_",
        "outputId": "c3ee4b73-2dfa-4e96-c25d-85fbbb73be33",
        "colab": {
          "base_uri": "https://localhost:8080/"
        }
      },
      "source": [
        "# We can check the mean, mode and median of blue cars returned in the dataset\n",
        "\n",
        "mean_returned = autolib_clean['total_bluecars_returned'].mean()\n",
        "median_returned = autolib_clean['total_bluecars_returned'].median()\n",
        "mode_returned = autolib_clean['total_bluecars_returned'].mode()\n",
        "\n",
        "print(mean_returned, median_returned, mode_returned)"
      ],
      "execution_count": null,
      "outputs": [
        {
          "output_type": "stream",
          "text": [
            "51.816141260973666 35.0 0    13\n",
            "dtype: int64\n"
          ],
          "name": "stdout"
        }
      ]
    },
    {
      "cell_type": "markdown",
      "metadata": {
        "id": "1JmLO6qYuxlq"
      },
      "source": [
        "## Value spread in the data"
      ]
    },
    {
      "cell_type": "code",
      "metadata": {
        "id": "kExQE_xCvhoa",
        "outputId": "eb63892c-c770-4b11-ae71-b8c4293da9af",
        "colab": {
          "base_uri": "https://localhost:8080/"
        }
      },
      "source": [
        "# Checking the various measures of dispersion for the number of blue cars taken variable\n",
        "# standard deviation, variance, range, skewness and kurtosis\n",
        "\n",
        "std1= autolib_clean['total_bluecars_taken'].std()\n",
        "var1= autolib_clean['total_bluecars_taken'].var()\n",
        "\n",
        "max1 = autolib_clean['total_bluecars_taken'].max()\n",
        "min1 = autolib_clean['total_bluecars_taken'].min()\n",
        "range1= max1 - min1\n",
        "\n",
        "skew1 = autolib_clean['total_bluecars_taken'].skew()\n",
        "kurt1 = autolib_clean['total_bluecars_taken'].kurt()\n",
        "\n",
        "print('Standard Deviation is ' + str(std1))\n",
        "print('Variance is ' + str(var1))\n",
        "print('Range is ' + str(range1))\n",
        "print('Skewness is ' + str(skew1))\n",
        "print('Kurtosis is ' + str(kurt1))"
      ],
      "execution_count": null,
      "outputs": [
        {
          "output_type": "stream",
          "text": [
            "Standard Deviation is 50.22468992265321\n",
            "Variance is 2522.519477826663\n",
            "Range is 302\n",
            "Skewness is 1.875107464585823\n",
            "Kurtosis is 4.173840111974478\n"
          ],
          "name": "stdout"
        }
      ]
    },
    {
      "cell_type": "code",
      "metadata": {
        "id": "LH272y4evihk",
        "outputId": "055f7a5b-7636-4868-8dc5-87cd9a010ac3",
        "colab": {
          "base_uri": "https://localhost:8080/"
        }
      },
      "source": [
        "# Checking the various measures of dispersion for the blue cars returned variable\n",
        "# standard deviation, variance, range, skewness and kurtosis\n",
        "std2= autolib_clean['total_bluecars_returned'].std()\n",
        "var2 = autolib_clean['total_bluecars_returned'].var()\n",
        "\n",
        "max2 = autolib_clean['total_bluecars_returned'].max()\n",
        "min2 = autolib_clean['total_bluecars_returned'].min()\n",
        "range2 = max2 - min2\n",
        "\n",
        "skew2= autolib_clean['total_bluecars_returned'].skew()\n",
        "kurt2 = autolib_clean['total_bluecars_returned'].kurt()\n",
        "\n",
        "print('Standard Deviation of the variable is ' + str(std1))\n",
        "print('Variance of the variable is ' + str(var2))\n",
        "print('Range of the variable is' + str(range2))\n",
        "print('Skewness of the variable is ' + str(skew2))\n",
        "print('Kurtosis of the variable is ' + str(kurt2))"
      ],
      "execution_count": null,
      "outputs": [
        {
          "output_type": "stream",
          "text": [
            "Standard Deviation of the variable is 50.22468992265321\n",
            "Variance of the variable is 2513.553841000062\n",
            "Range of the variable is306\n",
            "Skewness of the variable is 1.880169014990995\n",
            "Kurtosis of the variable is 4.184956269278061\n"
          ],
          "name": "stdout"
        }
      ]
    },
    {
      "cell_type": "markdown",
      "metadata": {
        "id": "qhVCAwA0u2pM"
      },
      "source": [
        "##  Measures of shape"
      ]
    },
    {
      "cell_type": "code",
      "metadata": {
        "id": "eqKj53f6sTEb",
        "outputId": "4f9d6178-f772-4b5d-a170-978a6ea15027",
        "colab": {
          "base_uri": "https://localhost:8080/",
          "height": 327
        }
      },
      "source": [
        " # plotting a  sns histogram of the bluecars_taken sum\n",
        "\n",
        "sns.distplot(autolib_clean.bluecars_taken_sum, kde = True)\n"
      ],
      "execution_count": 16,
      "outputs": [
        {
          "output_type": "error",
          "ename": "AttributeError",
          "evalue": "ignored",
          "traceback": [
            "\u001b[0;31m---------------------------------------------------------------------------\u001b[0m",
            "\u001b[0;31mAttributeError\u001b[0m                            Traceback (most recent call last)",
            "\u001b[0;32m<ipython-input-16-2d10dcbb0e25>\u001b[0m in \u001b[0;36m<module>\u001b[0;34m()\u001b[0m\n\u001b[1;32m      1\u001b[0m \u001b[0;31m# plotting a  sns histogram of the bluecars_taken sum\u001b[0m\u001b[0;34m\u001b[0m\u001b[0;34m\u001b[0m\u001b[0;34m\u001b[0m\u001b[0m\n\u001b[1;32m      2\u001b[0m \u001b[0;34m\u001b[0m\u001b[0m\n\u001b[0;32m----> 3\u001b[0;31m \u001b[0msns\u001b[0m\u001b[0;34m.\u001b[0m\u001b[0mdistplot\u001b[0m\u001b[0;34m(\u001b[0m\u001b[0mautolib_clean\u001b[0m\u001b[0;34m.\u001b[0m\u001b[0mbluecars_taken_sum\u001b[0m\u001b[0;34m,\u001b[0m \u001b[0mkde\u001b[0m \u001b[0;34m=\u001b[0m \u001b[0;32mTrue\u001b[0m\u001b[0;34m)\u001b[0m\u001b[0;34m\u001b[0m\u001b[0;34m\u001b[0m\u001b[0m\n\u001b[0m",
            "\u001b[0;32m/usr/local/lib/python3.6/dist-packages/pandas/core/generic.py\u001b[0m in \u001b[0;36m__getattr__\u001b[0;34m(self, name)\u001b[0m\n\u001b[1;32m   5137\u001b[0m             \u001b[0;32mif\u001b[0m \u001b[0mself\u001b[0m\u001b[0;34m.\u001b[0m\u001b[0m_info_axis\u001b[0m\u001b[0;34m.\u001b[0m\u001b[0m_can_hold_identifiers_and_holds_name\u001b[0m\u001b[0;34m(\u001b[0m\u001b[0mname\u001b[0m\u001b[0;34m)\u001b[0m\u001b[0;34m:\u001b[0m\u001b[0;34m\u001b[0m\u001b[0;34m\u001b[0m\u001b[0m\n\u001b[1;32m   5138\u001b[0m                 \u001b[0;32mreturn\u001b[0m \u001b[0mself\u001b[0m\u001b[0;34m[\u001b[0m\u001b[0mname\u001b[0m\u001b[0;34m]\u001b[0m\u001b[0;34m\u001b[0m\u001b[0;34m\u001b[0m\u001b[0m\n\u001b[0;32m-> 5139\u001b[0;31m             \u001b[0;32mreturn\u001b[0m \u001b[0mobject\u001b[0m\u001b[0;34m.\u001b[0m\u001b[0m__getattribute__\u001b[0m\u001b[0;34m(\u001b[0m\u001b[0mself\u001b[0m\u001b[0;34m,\u001b[0m \u001b[0mname\u001b[0m\u001b[0;34m)\u001b[0m\u001b[0;34m\u001b[0m\u001b[0;34m\u001b[0m\u001b[0m\n\u001b[0m\u001b[1;32m   5140\u001b[0m \u001b[0;34m\u001b[0m\u001b[0m\n\u001b[1;32m   5141\u001b[0m     \u001b[0;32mdef\u001b[0m \u001b[0m__setattr__\u001b[0m\u001b[0;34m(\u001b[0m\u001b[0mself\u001b[0m\u001b[0;34m,\u001b[0m \u001b[0mname\u001b[0m\u001b[0;34m:\u001b[0m \u001b[0mstr\u001b[0m\u001b[0;34m,\u001b[0m \u001b[0mvalue\u001b[0m\u001b[0;34m)\u001b[0m \u001b[0;34m->\u001b[0m \u001b[0;32mNone\u001b[0m\u001b[0;34m:\u001b[0m\u001b[0;34m\u001b[0m\u001b[0;34m\u001b[0m\u001b[0m\n",
            "\u001b[0;31mAttributeError\u001b[0m: 'DataFrame' object has no attribute 'bluecars_taken_sum'"
          ]
        }
      ]
    },
    {
      "cell_type": "code",
      "metadata": {
        "id": "FYKqZWFjL7ZH",
        "outputId": "0b1d369d-60e5-4a91-cb99-d19b1bb2cb4c",
        "colab": {
          "base_uri": "https://localhost:8080/"
        }
      },
      "source": [
        "autolib_def['BlueCars_taken_sum'].sum()"
      ],
      "execution_count": null,
      "outputs": [
        {
          "output_type": "execute_result",
          "data": {
            "text/plain": [
              "2025535"
            ]
          },
          "metadata": {
            "tags": []
          },
          "execution_count": 23
        }
      ]
    },
    {
      "cell_type": "code",
      "metadata": {
        "id": "Iyz-KyBPMIPl",
        "outputId": "fb7c5ca5-d7ee-4d6f-cfd3-36535de6ffac",
        "colab": {
          "base_uri": "https://localhost:8080/"
        }
      },
      "source": [
        "autolib_def['BlueCars_returned_sum'].sum()"
      ],
      "execution_count": null,
      "outputs": [
        {
          "output_type": "execute_result",
          "data": {
            "text/plain": [
              "2025306"
            ]
          },
          "metadata": {
            "tags": []
          },
          "execution_count": 24
        }
      ]
    },
    {
      "cell_type": "code",
      "metadata": {
        "id": "MpEm9iOqMPGt",
        "outputId": "3e911e01-644f-4705-b898-e014e452a3e3",
        "colab": {
          "base_uri": "https://localhost:8080/"
        }
      },
      "source": [
        "autolib_def['Utilib_taken_sum'].sum()"
      ],
      "execution_count": null,
      "outputs": [
        {
          "output_type": "execute_result",
          "data": {
            "text/plain": [
              "59487"
            ]
          },
          "metadata": {
            "tags": []
          },
          "execution_count": 25
        }
      ]
    }
  ]
}